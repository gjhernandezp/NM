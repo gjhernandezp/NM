{
  "nbformat": 4,
  "nbformat_minor": 0,
  "metadata": {
    "colab": {
      "name": "TaylorSymPy.ipynb",
      "provenance": [],
      "collapsed_sections": []
    },
    "kernelspec": {
      "name": "python3",
      "display_name": "Python 3"
    }
  },
  "cells": [
    {
      "cell_type": "markdown",
      "metadata": {
        "id": "GFmthnDoq6j6"
      },
      "source": [
        "Taylor Series Expansion with Python from Data Science Fabric \n",
        "\n",
        "https://dsfabric.org/taylor-series-expansion-with-python"
      ]
    },
    {
      "cell_type": "code",
      "metadata": {
        "id": "h7GY4uApqKr7"
      },
      "source": [
        "from sympy import series, Symbol\n",
        "from sympy.functions import sin, cos, exp\n",
        "from sympy.plotting import plot\n",
        "import matplotlib.pyplot as plt"
      ],
      "execution_count": null,
      "outputs": []
    },
    {
      "cell_type": "code",
      "metadata": {
        "id": "Nnpm4V-AqdMs"
      },
      "source": [
        "# Define symbol\n",
        "x = Symbol('x')"
      ],
      "execution_count": null,
      "outputs": []
    },
    {
      "cell_type": "code",
      "metadata": {
        "id": "_bF3LYe8qmNp"
      },
      "source": [
        "# Function for Taylor Series Expansion\n",
        "\n",
        "def taylor(function, x0, n):\n",
        "    \"\"\"\n",
        "    Parameter \"function\" is our function which we want to approximate\n",
        "    \"x0\" is the point where to approximate\n",
        "    \"n\" is the order of approximation\n",
        "    \"\"\"\n",
        "    return function.series(x,x0,n).removeO()"
      ],
      "execution_count": null,
      "outputs": []
    },
    {
      "cell_type": "code",
      "metadata": {
        "id": "RHDTuup3q3r0",
        "colab": {
          "base_uri": "https://localhost:8080/"
        },
        "outputId": "265500df-d373-42ef-ce80-66c205ad7f61"
      },
      "source": [
        "print('sin(x) ≅', taylor(sin(x), 0, 4))\n",
        "\n",
        "print('cos(x) ≅', taylor(cos(x), 0, 4))\n",
        "\n",
        "print('e(x) ≅', taylor(exp(x), 0, 4))"
      ],
      "execution_count": null,
      "outputs": [
        {
          "output_type": "stream",
          "text": [
            "sin(x) ≅ -x**3/6 + x\n",
            "cos(x) ≅ -x**2/2 + 1\n",
            "e(x) ≅ x**3/6 + x**2/2 + x + 1\n"
          ],
          "name": "stdout"
        }
      ]
    },
    {
      "cell_type": "code",
      "metadata": {
        "id": "WVlow_HJs9Uj",
        "colab": {
          "base_uri": "https://localhost:8080/"
        },
        "outputId": "2df6dfdd-e9a1-427f-de11-004262397d1e"
      },
      "source": [
        "print('sin(1) =', taylor(sin(x), 0, 4).subs(x,1))\n",
        "\n",
        "print('cos(1) =', taylor(cos(x), 0, 4).subs(x,1))\n",
        "\n",
        "print('e(1) =', taylor(exp(x), 0, 4).subs(x,1))"
      ],
      "execution_count": null,
      "outputs": [
        {
          "output_type": "stream",
          "text": [
            "sin(1) = 5/6\n",
            "cos(1) = 1/2\n",
            "e(1) = 8/3\n"
          ],
          "name": "stdout"
        }
      ]
    },
    {
      "cell_type": "code",
      "metadata": {
        "id": "U6mI5cVErKKb",
        "colab": {
          "base_uri": "https://localhost:8080/"
        },
        "outputId": "fd27378f-215d-40ec-cc5b-cd7f0e692922"
      },
      "source": [
        "print('Taylor 0 exp(x) ≅', taylor(exp(x), 0, 0))\n",
        "print('Taylor 1 exp(x) ≅', taylor(exp(x), 0, 1))\n",
        "print('Taylor 2 exp(x) ≅', taylor(exp(x), 0, 2))\n",
        "print('Taylor 3 exp(x) ≅', taylor(exp(x), 0, 3))\n",
        "print('Taylor 4 exp(x) ≅', taylor(exp(x), 0, 4))\n",
        "print('Taylor 5 exp(x) ≅', taylor(exp(x), 0, 5))\n",
        "print('Taylor 6 exp(x) ≅', taylor(exp(x), 0, 6))\n",
        "print('Taylor 7 exp(x) ≅', taylor(exp(x), 0, 7))\n",
        "print('Taylor 8 exp(x) ≅', taylor(exp(x), 0, 8))"
      ],
      "execution_count": null,
      "outputs": [
        {
          "output_type": "stream",
          "text": [
            "Taylor 0 exp(x) ≅ 0\n",
            "Taylor 1 exp(x) ≅ 1\n",
            "Taylor 2 exp(x) ≅ x + 1\n",
            "Taylor 3 exp(x) ≅ x**2/2 + x + 1\n",
            "Taylor 4 exp(x) ≅ x**3/6 + x**2/2 + x + 1\n",
            "Taylor 5 exp(x) ≅ x**4/24 + x**3/6 + x**2/2 + x + 1\n",
            "Taylor 6 exp(x) ≅ x**5/120 + x**4/24 + x**3/6 + x**2/2 + x + 1\n",
            "Taylor 7 exp(x) ≅ x**6/720 + x**5/120 + x**4/24 + x**3/6 + x**2/2 + x + 1\n",
            "Taylor 8 exp(x) ≅ x**7/5040 + x**6/720 + x**5/120 + x**4/24 + x**3/6 + x**2/2 + x + 1\n"
          ],
          "name": "stdout"
        }
      ]
    },
    {
      "cell_type": "code",
      "metadata": {
        "id": "ZvqiDRLOtAFa",
        "colab": {
          "base_uri": "https://localhost:8080/"
        },
        "outputId": "434545fc-80ec-41d3-981b-0ad99186a8c6"
      },
      "source": [
        "\n",
        "print('Taylor 0 exp(x) ≅', taylor(sin(x), 0, 0).subs(x,2),' = ',taylor(sin(x), 0, 0).subs(x,2).evalf())\n",
        "print('Taylor 1 exp(x) ≅', taylor(cos(x), 0, 1).subs(x,2),' = ',taylor(exp(x), 0, 1).subs(x,2).evalf())\n",
        "print('Taylor 2 exp(x) ≅', taylor(exp(x), 0, 2).subs(x,2),' = ',taylor(exp(x), 0, 2).subs(x,2).evalf())\n",
        "print('Taylor 3 exp(x) ≅', taylor(exp(x), 0, 3).subs(x,2),' = ',taylor(exp(x), 0, 3).subs(x,2).evalf())\n",
        "print('Taylor 4 exp(x) ≅', taylor(exp(x), 0, 4).subs(x,2),' = ',taylor(exp(x), 0, 4).subs(x,2).evalf())\n",
        "print('Taylor 5 exp(x) ≅', taylor(exp(x), 0, 5).subs(x,2),' = ',taylor(exp(x), 0, 5).subs(x,2).evalf())\n",
        "print('Taylor 6 exp(x) ≅', taylor(exp(x), 0, 6).subs(x,2),' = ',taylor(exp(x), 0, 6).subs(x,2).evalf())\n",
        "print('Taylor 7 exp(x) ≅', taylor(exp(x), 0, 8).subs(x,2),' = ',taylor(exp(x), 0, 7).subs(x,2).evalf())"
      ],
      "execution_count": null,
      "outputs": [
        {
          "output_type": "stream",
          "text": [
            "Taylor 0 exp(x) ≅ 0  =  0\n",
            "Taylor 1 exp(x) ≅ 1  =  1.00000000000000\n",
            "Taylor 2 exp(x) ≅ 3  =  3.00000000000000\n",
            "Taylor 3 exp(x) ≅ 5  =  5.00000000000000\n",
            "Taylor 4 exp(x) ≅ 19/3  =  6.33333333333333\n",
            "Taylor 5 exp(x) ≅ 7  =  7.00000000000000\n",
            "Taylor 6 exp(x) ≅ 109/15  =  7.26666666666667\n",
            "Taylor 7 exp(x) ≅ 155/21  =  7.35555555555556\n",
            "exp(x) = exp(2)\n"
          ],
          "name": "stdout"
        }
      ]
    },
    {
      "cell_type": "code",
      "metadata": {
        "id": "6CAcVG99Oxp4",
        "colab": {
          "base_uri": "https://localhost:8080/"
        },
        "outputId": "ff90e4bd-68de-4622-b948-ad0f3c8c6f9a"
      },
      "source": [
        "import math\n",
        "print('sympy exp(x)subs(x,2) =', exp(x).subs(x,2))\n",
        "print('sympy exp(x).subs(x,2).evalf() =', exp(x).subs(x,2).evalf())\n",
        "print('math.exp(2) =', math.exp(2))"
      ],
      "execution_count": null,
      "outputs": [
        {
          "output_type": "stream",
          "text": [
            "sympy exp(x)subs(x,2) = exp(2)\n",
            "sympy exp(x).subs(x,2).evalf() = 7.38905609893065\n",
            "math.exp(2) = 7.38905609893065\n"
          ],
          "name": "stdout"
        }
      ]
    },
    {
      "cell_type": "code",
      "metadata": {
        "id": "7-SIZbyzVb8I",
        "colab": {
          "base_uri": "https://localhost:8080/",
          "height": 265
        },
        "outputId": "8f707aff-a637-4e53-91cf-8df105b3b51a"
      },
      "source": [
        "import math\n",
        "import numpy as np\n",
        "import matplotlib.pyplot as plt\n",
        "# if using a Jupyter notebook, include:\n",
        "%matplotlib inline\n",
        "\n",
        "values = np.arange(-5,5,0.1)\n",
        "p_exp = np.exp(xvalues)\n",
        "t_exp1 = [taylor(exp(x), 0, 1).subs(x,v) for v in values]\n",
        "legends = ['exp() ','Taylor 1 (constant)']\n",
        "\n",
        "fig, ax = plt.subplots()\n",
        "ax.plot(values,p_exp, color ='red')\n",
        "ax.plot(values,t_exp1)\n",
        "\n",
        "ax.set_ylim([-5,5])\n",
        "ax.axhline(y=0.0, xmin=-5.0, xmax=5.0, color='black')\n",
        "ax.axvline(x=0.0, ymin=-10.0, ymax=10.0, color='black')\n",
        "ax.legend(legends)\n",
        "\n",
        "plt.show()"
      ],
      "execution_count": null,
      "outputs": [
        {
          "output_type": "display_data",
          "data": {
            "image/png": "[encoded data removed]",
            "text/plain": [
              "<Figure size 432x288 with 1 Axes>"
            ]
          },
          "metadata": {
            "tags": [],
            "needs_background": "light"
          }
        }
      ]
    },
    {
      "cell_type": "code",
      "metadata": {
        "id": "nEX84A5GV6-g",
        "colab": {
          "base_uri": "https://localhost:8080/",
          "height": 265
        },
        "outputId": "75232822-2900-4773-fa7d-9415da42feb0"
      },
      "source": [
        "import math\n",
        "import numpy as np\n",
        "import matplotlib.pyplot as plt\n",
        "# if using a Jupyter notebook, include:\n",
        "%matplotlib inline\n",
        "\n",
        "values = np.arange(-5,5,0.1)\n",
        "p_exp = np.exp(xvalues)\n",
        "t_exp2 = [taylor(exp(x), 0, 2).subs(x,v) for v in values]\n",
        "legends = ['exp() ','Taylor 2 (linear)']\n",
        "\n",
        "fig, ax = plt.subplots()\n",
        "ax.plot(values,p_exp, color ='red')\n",
        "ax.plot(values,t_exp2)\n",
        "\n",
        "ax.set_ylim([-5,5])\n",
        "ax.axhline(y=0.0, xmin=-5.0, xmax=5.0, color='black')\n",
        "ax.axvline(x=0.0, ymin=-10.0, ymax=10.0, color='black')\n",
        "ax.legend(legends)\n",
        "\n",
        "plt.show()"
      ],
      "execution_count": null,
      "outputs": [
        {
          "output_type": "display_data",
          "data": {
            "image/png": "[encoded data removed]",
            "text/plain": [
              "<Figure size 432x288 with 1 Axes>"
            ]
          },
          "metadata": {
            "tags": [],
            "needs_background": "light"
          }
        }
      ]
    },
    {
      "cell_type": "code",
      "metadata": {
        "id": "0tgel982WPXX",
        "colab": {
          "base_uri": "https://localhost:8080/",
          "height": 265
        },
        "outputId": "2a94b8b5-fe54-4b23-e9fe-f922f4270224"
      },
      "source": [
        "import math\n",
        "import numpy as np\n",
        "import matplotlib.pyplot as plt\n",
        "# if using a Jupyter notebook, include:\n",
        "%matplotlib inline\n",
        "\n",
        "values = np.arange(-5,5,0.1)\n",
        "p_exp = np.exp(xvalues)\n",
        "t_exp3 = [taylor(exp(x), 0, 3).subs(x,v) for v in values]\n",
        "legends = ['exp() ','Taylor 3 (quadratic)']\n",
        "\n",
        "fig, ax = plt.subplots()\n",
        "ax.plot(values,p_exp, color ='red')\n",
        "ax.plot(values,t_exp3)\n",
        "\n",
        "ax.set_ylim([-5,5])\n",
        "ax.axhline(y=0.0, xmin=-5.0, xmax=5.0, color='black')\n",
        "ax.axvline(x=0.0, ymin=-10.0, ymax=10.0, color='black')\n",
        "ax.legend(legends)\n",
        "\n",
        "plt.show()"
      ],
      "execution_count": null,
      "outputs": [
        {
          "output_type": "display_data",
          "data": {
            "image/png": "[encoded data removed]",
            "text/plain": [
              "<Figure size 432x288 with 1 Axes>"
            ]
          },
          "metadata": {
            "tags": [],
            "needs_background": "light"
          }
        }
      ]
    },
    {
      "cell_type": "code",
      "metadata": {
        "id": "coXe9XZGWbLO",
        "colab": {
          "base_uri": "https://localhost:8080/",
          "height": 265
        },
        "outputId": "cdc1afe2-9110-44f0-efd5-f72394d09e29"
      },
      "source": [
        "import math\n",
        "import numpy as np\n",
        "import matplotlib.pyplot as plt\n",
        "# if using a Jupyter notebook, include:\n",
        "%matplotlib inline\n",
        "\n",
        "values = np.arange(-5,5,0.1)\n",
        "p_exp = np.exp(xvalues)\n",
        "t_exp4 = [taylor(exp(x), 0, 4).subs(x,v) for v in values]\n",
        "legends = ['exp() ','Taylor 4 (cubic)']\n",
        "\n",
        "fig, ax = plt.subplots()\n",
        "ax.plot(values,p_exp, color ='red')\n",
        "ax.plot(values,t_exp4)\n",
        "\n",
        "ax.set_ylim([-5,5])\n",
        "ax.axhline(y=0.0, xmin=-5.0, xmax=5.0, color='black')\n",
        "ax.axvline(x=0.0, ymin=-10.0, ymax=10.0, color='black')\n",
        "ax.legend(legends)\n",
        "\n",
        "plt.show()"
      ],
      "execution_count": null,
      "outputs": [
        {
          "output_type": "display_data",
          "data": {
            "image/png": "[encoded data removed]",
            "text/plain": [
              "<Figure size 432x288 with 1 Axes>"
            ]
          },
          "metadata": {
            "tags": [],
            "needs_background": "light"
          }
        }
      ]
    },
    {
      "cell_type": "code",
      "metadata": {
        "id": "9xTFhhEMPS1w",
        "colab": {
          "base_uri": "https://localhost:8080/",
          "height": 265
        },
        "outputId": "82655489-1274-4b3b-8bf2-1bdb3df81466"
      },
      "source": [
        "import math\n",
        "import numpy as np\n",
        "import matplotlib.pyplot as plt\n",
        "# if using a Jupyter notebook, include:\n",
        "%matplotlib inline\n",
        "\n",
        "values = np.arange(-5,5,0.1)\n",
        "p_exp = np.exp(xvalues)\n",
        "t_exp1 = [taylor(exp(x), 0, 1).subs(x,v) for v in values]\n",
        "t_exp2 = [taylor(exp(x), 0, 2).subs(x,v) for v in values]\n",
        "t_exp3 = [taylor(exp(x), 0, 3).subs(x,v) for v in values]\n",
        "t_exp4 = [taylor(exp(x), 0, 4).subs(x,v) for v in values]\n",
        "legends = ['exp() ','Taylor 1 (constant)','Taylor 3 (linear)','Taylor 3 (quadratic)','Taylor 4 (cubic)']\n",
        "\n",
        "fig, ax = plt.subplots()\n",
        "ax.plot(values,p_exp)\n",
        "ax.plot(values,t_exp1)\n",
        "ax.plot(values,t_exp2)\n",
        "ax.plot(values,t_exp3)\n",
        "ax.plot(values,t_exp4)\n",
        "\n",
        "ax.set_ylim([-5,5])\n",
        "ax.axhline(y=0.0, xmin=-5.0, xmax=5.0, color='black')\n",
        "ax.axvline(x=0.0, ymin=-10.0, ymax=10.0, color='black')\n",
        "ax.legend(legends)\n",
        "\n",
        "plt.show()"
      ],
      "execution_count": null,
      "outputs": [
        {
          "output_type": "display_data",
          "data": {
            "image/png": "[encoded data removed]",
            "text/plain": [
              "<Figure size 432x288 with 1 Axes>"
            ]
          },
          "metadata": {
            "tags": [],
            "needs_background": "light"
          }
        }
      ]
    }
  ]
}