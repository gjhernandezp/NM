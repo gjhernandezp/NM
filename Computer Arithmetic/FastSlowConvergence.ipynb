{
  "nbformat": 4,
  "nbformat_minor": 0,
  "metadata": {
    "colab": {
      "name": "FastSlowConvergence.ipynb",
      "provenance": [],
      "collapsed_sections": []
    },
    "kernelspec": {
      "name": "python3",
      "display_name": "Python 3"
    }
  },
  "cells": [
    {
      "cell_type": "markdown",
      "metadata": {
        "id": "R1ke-mEs7Njc"
      },
      "source": [
        "Slow covergence\n",
        "\n",
        "$$ e = \\lim_{n \\rightarrow \\infty} \\left( 1 +\\frac{1}{n} \\right)^n$$"
      ]
    },
    {
      "cell_type": "code",
      "metadata": {
        "id": "5aCoOnst9iY1",
        "colab": {
          "base_uri": "https://localhost:8080/"
        },
        "outputId": "0db3bebd-fb81-4ca8-d61b-276a7d341695"
      },
      "source": [
        "import math\n",
        "for n in range(1,20):\n",
        "  e = (1+1/n)**n\n",
        "  print(n,\"  \", e)\n",
        "print (\" math.exp(1) \",math.exp(1))"
      ],
      "execution_count": 1,
      "outputs": [
        {
          "output_type": "stream",
          "text": [
            "1    2.0\n",
            "2    2.25\n",
            "3    2.37037037037037\n",
            "4    2.44140625\n",
            "5    2.4883199999999994\n",
            "6    2.5216263717421135\n",
            "7    2.546499697040712\n",
            "8    2.565784513950348\n",
            "9    2.5811747917131984\n",
            "10    2.5937424601000023\n",
            "11    2.6041990118975287\n",
            "12    2.613035290224676\n",
            "13    2.6206008878857308\n",
            "14    2.6271515563008685\n",
            "15    2.6328787177279187\n",
            "16    2.6379284973666\n",
            "17    2.64241437518311\n",
            "18    2.6464258210976865\n",
            "19    2.650034326640442\n",
            " math.exp(1)  2.718281828459045\n"
          ],
          "name": "stdout"
        }
      ]
    },
    {
      "cell_type": "markdown",
      "metadata": {
        "id": "I2mmHzN1748M"
      },
      "source": [
        "Fast convergence\n",
        "\n",
        "$$\n",
        " \\left\\{\n",
        "\\begin{array}{ll}\n",
        "      x_1 = 2 &  \\\\\n",
        "      x_{n+1}= \\frac{1}{2} x_n + \\frac{1}{x_n}& n\\geq 1 \\\\\n",
        "\\end{array} \n",
        "\\right. \n",
        "$$\n",
        "\n",
        "$$x_n \\rightarrow \\sqrt(2)$$"
      ]
    },
    {
      "cell_type": "code",
      "metadata": {
        "id": "HRCnNLiX6kKD",
        "colab": {
          "base_uri": "https://localhost:8080/"
        },
        "outputId": "91a66759-ae2c-493f-e6e5-ebad940c943f"
      },
      "source": [
        "import math\n",
        "x= 2\n",
        "for n in range(20):\n",
        "  x = 1/2*x + 1/x\n",
        "  print(n,\"  \", x)\n",
        "print (\"math.sqrt(2) \",math.sqrt(2))"
      ],
      "execution_count": null,
      "outputs": [
        {
          "output_type": "stream",
          "text": [
            "0    1.5\n",
            "1    1.4166666666666665\n",
            "2    1.4142156862745097\n",
            "3    1.4142135623746899\n",
            "4    1.414213562373095\n",
            "5    1.414213562373095\n",
            "6    1.414213562373095\n",
            "7    1.414213562373095\n",
            "8    1.414213562373095\n",
            "9    1.414213562373095\n",
            "10    1.414213562373095\n",
            "11    1.414213562373095\n",
            "12    1.414213562373095\n",
            "13    1.414213562373095\n",
            "14    1.414213562373095\n",
            "15    1.414213562373095\n",
            "16    1.414213562373095\n",
            "17    1.414213562373095\n",
            "18    1.414213562373095\n",
            "19    1.414213562373095\n",
            "math.sqrt(2)  1.4142135623730951\n"
          ],
          "name": "stdout"
        }
      ]
    }
  ]
}