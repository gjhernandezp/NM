{
  "nbformat": 4,
  "nbformat_minor": 0,
  "metadata": {
    "colab": {
      "name": "FastSlowConvergence.ipynb",
      "provenance": [],
      "collapsed_sections": []
    },
    "kernelspec": {
      "name": "python3",
      "display_name": "Python 3"
    }
  },
  "cells": [
    {
      "cell_type": "markdown",
      "metadata": {
        "id": "ceFgIg1dNEu2"
      },
      "source": [
        "# Sequence $a_n = \\left\\{ 1 +\\frac{1}{n} \\right\\}_{n \\in N}$\n",
        "\n",
        "\n",
        "$$  L = \\lim_{n \\rightarrow \\infty}  \\left( 1 +\\frac{1}{n} \\right) = \\lim_{n \\rightarrow \\infty}  1  + \\lim_{n \\rightarrow \\infty} \\frac{1}{n}   = 1 + 0 = 1$$\n",
        "\n",
        "Given  $\\epsilon >0$ if you have \n",
        "$$  n > n_\\epsilon =  \\frac{1}{\\epsilon}$$\n",
        "then \n",
        "$$  \\frac{1}{n} < \\frac{1}{n_\\epsilon}$$\n",
        "therefor\n",
        "$$ \\left| a_n - L\\right|  = \\left| \\left( 1 +\\frac{1}{n} \\right)  - 1\\right|  \n",
        "=  \\left|  \\frac{1}{n}   \\right|  < \\left|\\frac{1}{n_\\epsilon} \\right| \n",
        "= \\epsilon, \\ \\  \\ \\forall\\ n > n_\\epsilon$$ \n",
        "\n"
      ]
    },
    {
      "cell_type": "markdown",
      "metadata": {
        "id": "0NApiSqSHACc"
      },
      "source": [
        "\n",
        "## Convergence speed\n",
        "\n",
        "https://en.wikipedia.org/wiki/Rate_of_convergence\n",
        "\n",
        "$$  \\lim_{n \\rightarrow \\infty} \\frac{| a_{n+1} -L |} {| a_{n} -L |} = \\lim_{n \\rightarrow \\infty} \\frac{\\left|\\frac{1}{n+1}\\right|}{\\left|\\frac{1}{n}\\right|} = \\lim_{n \\rightarrow \\infty}\\frac{n}{n+1}  = \\lim_{n \\rightarrow \\infty} \\left(1- \\frac{1}{n+1} \\right) = 1 $$\n",
        "\n",
        "converge $Q$-sublinearly to $L$ (i.e. slower than linearly) "
      ]
    },
    {
      "cell_type": "code",
      "metadata": {
        "colab": {
          "base_uri": "https://localhost:8080/",
          "height": 588
        },
        "id": "1k7k-VQHND9H",
        "outputId": "902c692f-33e5-452e-b689-cbd67c37b728"
      },
      "source": [
        "import math\n",
        "import matplotlib.pyplot as plt\n",
        "nl = []\n",
        "al = []\n",
        "for n in range(1,20):\n",
        "  a_n = (1+1/n)\n",
        "  nl.append(n)\n",
        "  al.append(a_n)\n",
        "  print(n,\"  \", a_n)\n",
        "plt.plot(nl, al,'o')\n",
        "plt.show()"
      ],
      "execution_count": null,
      "outputs": [
        {
          "output_type": "stream",
          "text": [
            "1    2.0\n",
            "2    1.5\n",
            "3    1.3333333333333333\n",
            "4    1.25\n",
            "5    1.2\n",
            "6    1.1666666666666667\n",
            "7    1.1428571428571428\n",
            "8    1.125\n",
            "9    1.1111111111111112\n",
            "10    1.1\n",
            "11    1.0909090909090908\n",
            "12    1.0833333333333333\n",
            "13    1.0769230769230769\n",
            "14    1.0714285714285714\n",
            "15    1.0666666666666667\n",
            "16    1.0625\n",
            "17    1.0588235294117647\n",
            "18    1.0555555555555556\n",
            "19    1.0526315789473684\n"
          ],
          "name": "stdout"
        },
        {
          "output_type": "display_data",
          "data": {
            "image/png": "[encoded data removed]",
            "text/plain": [
              "<Figure size 432x288 with 1 Axes>"
            ]
          },
          "metadata": {
            "tags": [],
            "needs_background": "light"
          }
        }
      ]
    },
    {
      "cell_type": "markdown",
      "metadata": {
        "id": "re195_nMagfK"
      },
      "source": [
        "## Significant Digits Accuracy\n",
        "\n",
        "http://www.math.pitt.edu/~trenchea/math1070/MATH1070_2_Error_and_Computer_Arithmetic.pdf\n",
        "\n",
        "The number of significant digits in $x_A$ is number of its leading digits\n",
        "that are correct relative to the corresponding digits in the true value $x_T$.\n",
        "More precisely, if $x_T$ and $x_A$ are written in decimal form; compute the error\n",
        "\\begin{array}{cllllll}\n",
        " x_T &= &0\\ . &a_1 &a_2 &a_3 &\\dots &a_m &a_{m+1} &a_{m+2}\\\\\n",
        "|x_T − x_A| &=  &0\\ .  &0 &0  &0 &\\dots &0 &b_{m+1} &b_{m+2}\n",
        "\\end{array}\n",
        "\n",
        "If the error is $≤ 5$ units in the $(m + 1)th$ digit of $x_T$ , counting\n",
        "rightward from the first nonzero digit, then we say that $x_A$ has, at\n",
        "least, $m$ significant digits of accuracy relative to  $x_T$ .\n"
      ]
    },
    {
      "cell_type": "code",
      "metadata": {
        "colab": {
          "base_uri": "https://localhost:8080/"
        },
        "id": "YtGrbfawYCZh",
        "outputId": "19a6a5e9-47fe-431f-b247-d68a92e21adb"
      },
      "source": [
        "import math\n",
        "L = 1\n",
        "C = 0\n",
        "n_ant = 0\n",
        "n_steps = 0\n",
        "print(\"        n            a_n             error_n= abs(a_n-1)        n_steps      C      \" ) \n",
        "for n in range(1,10000000):\n",
        "  a_n = (1+1/n)\n",
        "  if (abs(a_n-L) < 0.5 * 10**(-C)): \n",
        "    while (abs(a_n-L) < 0.5 * 10**(-C)): \n",
        "       C =C+1\n",
        "    n_steps = n- n_ant\n",
        "    n_ant = n\n",
        "    print(format(n, '10'),\"  \", format(a_n, '.17f'),\"  \",format(abs(a_n-L), '.17f'),format(n_steps, '10'),format(C-1, '10'),) "
      ],
      "execution_count": 2,
      "outputs": [
        {
          "output_type": "stream",
          "text": [
            "        n            a_n             error_n= abs(a_n-1)        n_steps      C      \n",
            "         3    1.33333333333333326    0.33333333333333326          3          0\n",
            "        21    1.04761904761904767    0.04761904761904767         18          1\n",
            "       200    1.00499999999999989    0.00499999999999989        179          2\n",
            "      2000    1.00049999999999994    0.00049999999999994       1800          3\n",
            "     20001    1.00004999750012491    0.00004999750012491      18001          4\n",
            "    200001    1.00000499997500003    0.00000499997500003     180000          5\n",
            "   2000001    1.00000049999975005    0.00000049999975005    1800000          6\n"
          ],
          "name": "stdout"
        }
      ]
    },
    {
      "cell_type": "markdown",
      "metadata": {
        "id": "1uiYmkUNeUn7"
      },
      "source": [
        "# Sequence $a_n = \\left\\{ 1 +\\frac{1}{n^2} \\right\\}_{n \\in N}$\n",
        "\n",
        "\n",
        "$$  L = \\lim_{n \\rightarrow \\infty}  \\left( 1 +\\frac{1}{n^2} \\right) = \\lim_{n \\rightarrow \\infty}  1  + \\lim_{n \\rightarrow \\infty} \\frac{1}{n^2}   = 1 + 0 = 1$$\n",
        "\n",
        "Given  $\\epsilon >0$ if you have \n",
        "$$  n > n_\\epsilon =  \\frac{1}{\\sqrt{\\epsilon}}$$\n",
        "then \n",
        "$$  \\frac{1}{n^2} < \\frac{1}{n^2_\\epsilon}$$\n",
        "therefor\n",
        "$$ \\left| a_n - L\\right|  = \\left| \\left( 1 +\\frac{1}{n^2} \\right)  - 1\\right|  \n",
        "=  \\left|  \\frac{1}{n^2}   \\right|  < \\left|\\frac{1}{n^2_\\epsilon} \\right| \n",
        "= \\epsilon, \\ \\  \\ \\forall\\ n > n_\\epsilon$$"
      ]
    },
    {
      "cell_type": "code",
      "metadata": {
        "colab": {
          "base_uri": "https://localhost:8080/",
          "height": 588
        },
        "id": "gpwo0bn4o5X_",
        "outputId": "bd30ffa8-5619-4f33-ccc5-9b105abcbc73"
      },
      "source": [
        "import math\n",
        "import matplotlib.pyplot as plt\n",
        "nl = []\n",
        "al = []\n",
        "for n in range(1,20):\n",
        "  a_n = (1+1/n**2)\n",
        "  nl.append(n)\n",
        "  al.append(a_n)\n",
        "  print(n,\"  \", a_n)\n",
        "plt.plot(nl, al,'o')\n",
        "plt.show()"
      ],
      "execution_count": null,
      "outputs": [
        {
          "output_type": "stream",
          "text": [
            "1    2.0\n",
            "2    1.25\n",
            "3    1.1111111111111112\n",
            "4    1.0625\n",
            "5    1.04\n",
            "6    1.0277777777777777\n",
            "7    1.0204081632653061\n",
            "8    1.015625\n",
            "9    1.0123456790123457\n",
            "10    1.01\n",
            "11    1.0082644628099173\n",
            "12    1.0069444444444444\n",
            "13    1.0059171597633136\n",
            "14    1.0051020408163265\n",
            "15    1.0044444444444445\n",
            "16    1.00390625\n",
            "17    1.0034602076124568\n",
            "18    1.0030864197530864\n",
            "19    1.002770083102493\n"
          ],
          "name": "stdout"
        },
        {
          "output_type": "display_data",
          "data": {
            "image/png": "[encoded data removed]",
            "text/plain": [
              "<Figure size 432x288 with 1 Axes>"
            ]
          },
          "metadata": {
            "tags": [],
            "needs_background": "light"
          }
        }
      ]
    },
    {
      "cell_type": "markdown",
      "metadata": {
        "id": "R1ke-mEs7Njc"
      },
      "source": [
        "#Slow covergence\n",
        "\n",
        "\n",
        "$$ e = \\lim_{n \\rightarrow \\infty} \\left( 1 +\\frac{1}{n} \\right)^n$$"
      ]
    },
    {
      "cell_type": "code",
      "metadata": {
        "id": "5aCoOnst9iY1",
        "colab": {
          "base_uri": "https://localhost:8080/",
          "height": 945
        },
        "outputId": "139b68ac-220c-4e9a-ddc5-64e6b1777717"
      },
      "source": [
        "import math\n",
        "import matplotlib.pyplot as plt\n",
        "nl = []\n",
        "el = []\n",
        "for n in range(1,40):\n",
        "  e = (1+1/n)**n\n",
        "  nl.append(n)\n",
        "  el.append(e)\n",
        "  print(n,\"  \", e)\n",
        "\n",
        "plt.plot(nl, el,'o')\n",
        "plt.show()\n",
        "print (\" math.exp(1) \",math.exp(1))"
      ],
      "execution_count": null,
      "outputs": [
        {
          "output_type": "stream",
          "text": [
            "1    2.0\n",
            "2    2.25\n",
            "3    2.37037037037037\n",
            "4    2.44140625\n",
            "5    2.4883199999999994\n",
            "6    2.5216263717421135\n",
            "7    2.546499697040712\n",
            "8    2.565784513950348\n",
            "9    2.5811747917131984\n",
            "10    2.5937424601000023\n",
            "11    2.6041990118975287\n",
            "12    2.613035290224676\n",
            "13    2.6206008878857308\n",
            "14    2.6271515563008685\n",
            "15    2.6328787177279187\n",
            "16    2.6379284973666\n",
            "17    2.64241437518311\n",
            "18    2.6464258210976865\n",
            "19    2.650034326640442\n",
            "20    2.653297705144422\n",
            "21    2.656263213926108\n",
            "22    2.658969858537786\n",
            "23    2.6614501186387796\n",
            "24    2.663731258068599\n",
            "25    2.665836331487422\n",
            "26    2.6677849665337465\n",
            "27    2.6695939778125704\n",
            "28    2.6712778534408463\n",
            "29    2.6728491439808066\n",
            "30    2.6743187758703026\n",
            "31    2.6756963059146854\n",
            "32    2.676990129378183\n",
            "33    2.678207651253779\n",
            "34    2.6793554280957674\n",
            "35    2.6804392861534603\n",
            "36    2.6814644203008586\n",
            "37    2.6824354773085255\n",
            "38    2.6833566262745787\n",
            "39    2.6842316184670922\n"
          ],
          "name": "stdout"
        },
        {
          "output_type": "display_data",
          "data": {
            "image/png": "[encoded data removed]",
            "text/plain": [
              "<Figure size 432x288 with 1 Axes>"
            ]
          },
          "metadata": {
            "tags": [],
            "needs_background": "light"
          }
        },
        {
          "output_type": "stream",
          "text": [
            " math.exp(1)  2.718281828459045\n"
          ],
          "name": "stdout"
        }
      ]
    },
    {
      "cell_type": "markdown",
      "metadata": {
        "id": "I2mmHzN1748M"
      },
      "source": [
        "# Fast convergence\n",
        "\n",
        "$$\n",
        " \\left\\{\n",
        "\\begin{array}{ll}\n",
        "      x_1 = 2 &  \\\\\n",
        "      x_{n+1}= \\frac{1}{2} x_n + \\frac{1}{x_n}& n\\geq 1 \\\\\n",
        "\\end{array} \n",
        "\\right. \n",
        "$$\n",
        "\n",
        "$$x_n \\rightarrow \\sqrt(2)$$"
      ]
    },
    {
      "cell_type": "code",
      "metadata": {
        "id": "HRCnNLiX6kKD",
        "colab": {
          "base_uri": "https://localhost:8080/",
          "height": 622
        },
        "outputId": "ddf73ec6-af00-411d-a3df-3fd558250a11"
      },
      "source": [
        "import math\n",
        "import matplotlib.pyplot as plt\n",
        "nl = [1]\n",
        "al = [2]\n",
        "for n in range(20):\n",
        "  if (n==0): \n",
        "      a_n=2\n",
        "  else:\n",
        "    a_n = 1/2* a_n+ 1/a_n\n",
        "  nl.append(n+1)\n",
        "  al.append(a_n)\n",
        "  print(n,\"  \", a_n)\n",
        "\n",
        "plt.plot(nl, al,'o')\n",
        "plt.show()\n",
        "print (\"math.sqrt(2) \",math.sqrt(2))"
      ],
      "execution_count": null,
      "outputs": [
        {
          "output_type": "stream",
          "text": [
            "0    2\n",
            "1    1.5\n",
            "2    1.4166666666666665\n",
            "3    1.4142156862745097\n",
            "4    1.4142135623746899\n",
            "5    1.414213562373095\n",
            "6    1.414213562373095\n",
            "7    1.414213562373095\n",
            "8    1.414213562373095\n",
            "9    1.414213562373095\n",
            "10    1.414213562373095\n",
            "11    1.414213562373095\n",
            "12    1.414213562373095\n",
            "13    1.414213562373095\n",
            "14    1.414213562373095\n",
            "15    1.414213562373095\n",
            "16    1.414213562373095\n",
            "17    1.414213562373095\n",
            "18    1.414213562373095\n",
            "19    1.414213562373095\n"
          ],
          "name": "stdout"
        },
        {
          "output_type": "display_data",
          "data": {
            "image/png": "[encoded data removed]",
            "text/plain": [
              "<Figure size 432x288 with 1 Axes>"
            ]
          },
          "metadata": {
            "tags": [],
            "needs_background": "light"
          }
        },
        {
          "output_type": "stream",
          "text": [
            "math.sqrt(2)  1.4142135623730951\n"
          ],
          "name": "stdout"
        }
      ]
    }
  ]
}