{
  "nbformat": 4,
  "nbformat_minor": 0,
  "metadata": {
    "colab": {
      "name": "FastSlowConvergence.ipynb",
      "provenance": [],
      "collapsed_sections": [],
      "authorship_tag": "ABX9TyNVvZlEN98G1GIc3ohN0O+E"
    },
    "kernelspec": {
      "name": "python3",
      "display_name": "Python 3"
    }
  },
  "cells": [
    {
      "cell_type": "markdown",
      "metadata": {
        "id": "re195_nMagfK"
      },
      "source": [
        "## Significant Digits Accuracy\n",
        "\n",
        "http://www.math.pitt.edu/~trenchea/math1070/MATH1070_2_Error_and_Computer_Arithmetic.pdf\n",
        "\n",
        "The number of significant digits in $x_A$ is number of its leading digits\n",
        "that are correct relative to the corresponding digits in the true value $x_T$.\n",
        "More precisely, if $x_T$ and $x_A$ are written in decimal form; compute the error\n",
        "\\begin{array}{cllllll}\n",
        " x_T &= &0\\ . &a_1 &a_2 &a_3 &\\dots &a_m &a_{m+1} &a_{m+2}\\\\\n",
        "|x_T − x_A| &=  &0\\ .  &0 &0  &0 &\\dots &0 &b_{m+1} &b_{m+2}\n",
        "\\end{array}\n",
        "\n",
        "If the error is $≤ 5$ units in the $(m + 1)th$ digit of $x_T$ , counting\n",
        "rightward from the first nonzero digit, then we say that $x_A$ has, at\n",
        "least, $m$ significant digits of accuracy relative to  $x_T$ .\n"
      ]
    },
    {
      "cell_type": "markdown",
      "metadata": {
        "id": "R1ke-mEs7Njc"
      },
      "source": [
        "#Slow covergence\n",
        "\n",
        "\n",
        "$$ e = \\lim_{n \\rightarrow \\infty} \\left( 1 +\\frac{1}{n} \\right)^n$$"
      ]
    },
    {
      "cell_type": "code",
      "metadata": {
        "id": "5aCoOnst9iY1",
        "colab": {
          "base_uri": "https://localhost:8080/",
          "height": 283
        },
        "outputId": "a628cb6a-cbd1-44b5-8b4b-a3560bc810e9"
      },
      "source": [
        "import math\n",
        "import matplotlib.pyplot as plt\n",
        "nl = []\n",
        "el = []\n",
        "for n in range(1,40):\n",
        "  e = (1+1/n)**n\n",
        "  nl.append(n)\n",
        "  el.append(e)\n",
        "  # print(n,\"  \", e)\n",
        "\n",
        "plt.plot(nl, el,'o')\n",
        "plt.show()\n",
        "print (\" math.exp(1) \",math.exp(1))"
      ],
      "execution_count": null,
      "outputs": [
        {
          "output_type": "display_data",
          "data": {
            "image/png": "[encoded data removed]",
            "text/plain": [
              "<Figure size 432x288 with 1 Axes>"
            ]
          },
          "metadata": {
            "needs_background": "light"
          }
        },
        {
          "output_type": "stream",
          "name": "stdout",
          "text": [
            " math.exp(1)  2.718281828459045\n"
          ]
        }
      ]
    },
    {
      "cell_type": "code",
      "metadata": {
        "colab": {
          "base_uri": "https://localhost:8080/"
        },
        "id": "mbY7oz5JGcdB",
        "outputId": "e5e09e8c-6300-4aab-a836-8e3ebac43d97"
      },
      "source": [
        "import math\n",
        "L = math.exp(1)\n",
        "C = 0\n",
        "n_ant = 0\n",
        "n_steps = 0\n",
        "print(\"        n            a_n             error_n= abs(a_n-L)        n_steps      C      \" ) \n",
        "for n in range(1,10000000):\n",
        "  a_n = (1+1/n)**n\n",
        "  if (abs(a_n-L) < 0.5 * 10**(-C)): \n",
        "    while (abs(a_n-L) < 0.5 * 10**(-C)): \n",
        "       C =C+1\n",
        "    n_steps = n- n_ant\n",
        "    n_ant = n\n",
        "    print(format(n, '10'),\"  \", format(a_n, '.17f'),\"  \",format(abs(a_n-L), '.17f'),format(n_steps, '10'),format(C-1, '10'),) "
      ],
      "execution_count": null,
      "outputs": [
        {
          "output_type": "stream",
          "name": "stdout",
          "text": [
            "        n            a_n             error_n= abs(a_n-L)        n_steps      C      \n",
            "         2    2.25000000000000000    0.46828182845904509          2          0\n",
            "        27    2.66959397781257035    0.04868785064647474         25          1\n",
            "       271    2.71328345314702446    0.00499837531202063        244          2\n",
            "      2718    2.71778194520113514    0.00049988325790995       2447          3\n",
            "     27182    2.71823182863800339    0.00004999982104170      24464          4\n",
            "    271829    2.71827682853854524    0.00000499992049985     244647          5\n",
            "   2713888    2.71828132846306092    0.00000049999598417    2442059          6\n"
          ]
        }
      ]
    },
    {
      "cell_type": "markdown",
      "metadata": {
        "id": "I2mmHzN1748M"
      },
      "source": [
        "# Fast convergence\n",
        "\n",
        "$$\n",
        " \\left\\{\n",
        "\\begin{array}{ll}\n",
        "      x_1 = 2 &  \\\\\n",
        "      x_{n+1}= \\frac{1}{2} x_n + \\frac{1}{x_n}& n\\geq 1 \\\\\n",
        "\\end{array} \n",
        "\\right. \n",
        "$$\n",
        "\n",
        "$$x_n \\rightarrow \\sqrt(2)$$"
      ]
    },
    {
      "cell_type": "code",
      "metadata": {
        "id": "HRCnNLiX6kKD",
        "colab": {
          "base_uri": "https://localhost:8080/",
          "height": 629
        },
        "outputId": "d8e310e4-c077-4fb8-fbf4-8cb6a3e429cc"
      },
      "source": [
        "import math\n",
        "import matplotlib.pyplot as plt\n",
        "nl = []\n",
        "al = []\n",
        "for n in range(20):\n",
        "  if (n==0): \n",
        "      a_n=2\n",
        "  else:\n",
        "    a_n = 1/2* a_n+ 1/a_n\n",
        "  nl.append(n+1)\n",
        "  al.append(a_n)\n",
        "  print(n,\"  \", a_n)\n",
        "\n",
        "plt.plot(nl, al,'o')\n",
        "plt.show()\n",
        "print (\"math.sqrt(2) \",math.sqrt(2))"
      ],
      "execution_count": null,
      "outputs": [
        {
          "output_type": "stream",
          "name": "stdout",
          "text": [
            "0    2\n",
            "1    1.5\n",
            "2    1.4166666666666665\n",
            "3    1.4142156862745097\n",
            "4    1.4142135623746899\n",
            "5    1.414213562373095\n",
            "6    1.414213562373095\n",
            "7    1.414213562373095\n",
            "8    1.414213562373095\n",
            "9    1.414213562373095\n",
            "10    1.414213562373095\n",
            "11    1.414213562373095\n",
            "12    1.414213562373095\n",
            "13    1.414213562373095\n",
            "14    1.414213562373095\n",
            "15    1.414213562373095\n",
            "16    1.414213562373095\n",
            "17    1.414213562373095\n",
            "18    1.414213562373095\n",
            "19    1.414213562373095\n"
          ]
        },
        {
          "output_type": "display_data",
          "data": {
            "image/png": "[encoded data removed]",
            "text/plain": [
              "<Figure size 432x288 with 1 Axes>"
            ]
          },
          "metadata": {
            "needs_background": "light"
          }
        },
        {
          "output_type": "stream",
          "name": "stdout",
          "text": [
            "math.sqrt(2)  1.4142135623730951\n"
          ]
        }
      ]
    },
    {
      "cell_type": "code",
      "metadata": {
        "colab": {
          "base_uri": "https://localhost:8080/"
        },
        "id": "hYbyV0mkHM4Q",
        "outputId": "a5110831-0d99-4dd7-81b5-bf3b0449c478"
      },
      "source": [
        "import math\n",
        "L = math.sqrt(2)\n",
        "C = 0\n",
        "n_ant = 0\n",
        "n_steps = 0\n",
        "a_n = 2\n",
        "print(\"        n            a_n             error_n= abs(a_n-L)        n_steps      C      \" ) \n",
        "for n in range(1,10000000):\n",
        "  a_n = 1/2* a_n+ 1/a_n\n",
        "  if (abs(a_n-L) < 0.5 * 10**(-C)): \n",
        "    while (abs(a_n-L) < 0.5 * 10**(-C)): \n",
        "       C =C+1\n",
        "    n_steps = n- n_ant\n",
        "    n_ant = n\n",
        "    print(format(n, '10'),\"  \", format(a_n, '.17f'),\"  \",format(abs(a_n-L), '.17f'),format(n_steps, '10'),format(C-1, '10'),) "
      ],
      "execution_count": null,
      "outputs": [
        {
          "output_type": "stream",
          "name": "stdout",
          "text": [
            "        n            a_n             error_n= abs(a_n-L)        n_steps      C      \n",
            "         1    1.50000000000000000    0.08578643762690485          1          0\n",
            "         2    1.41666666666666652    0.00245310429357137          1          2\n",
            "         3    1.41421568627450966    0.00000212390141452          1          5\n",
            "         4    1.41421356237468987    0.00000000000159472          1         11\n",
            "         5    1.41421356237309492    0.00000000000000022          1         15\n"
          ]
        }
      ]
    },
    {
      "cell_type": "markdown",
      "metadata": {
        "id": "ceFgIg1dNEu2"
      },
      "source": [
        "# Sequence $a_n = \\left\\{ 1 +\\frac{1}{n} \\right\\}_{n \\in N}$\n",
        "\n",
        "\n",
        "$$  L = \\lim_{n \\rightarrow \\infty}  \\left( 1 +\\frac{1}{n} \\right) = \\lim_{n \\rightarrow \\infty}  1  + \\lim_{n \\rightarrow \\infty} \\frac{1}{n}   = 1 + 0 = 1$$\n",
        "\n",
        "Given  $\\epsilon >0$ if you have \n",
        "$$  n > n_\\epsilon =  \\frac{1}{\\epsilon}$$\n",
        "then \n",
        "$$  \\frac{1}{n} < \\frac{1}{n_\\epsilon}$$\n",
        "therefor\n",
        "$$ \\left| a_n - L\\right|  = \\left| \\left( 1 +\\frac{1}{n} \\right)  - 1\\right|  \n",
        "=  \\left|  \\frac{1}{n}   \\right|  < \\left|\\frac{1}{n_\\epsilon} \\right| \n",
        "= \\epsilon, \\ \\  \\ \\forall\\ n > n_\\epsilon$$ \n",
        "\n"
      ]
    },
    {
      "cell_type": "markdown",
      "metadata": {
        "id": "D3nCfEQ-kuds"
      },
      "source": [
        "## Order of Convergence\n",
        "\n",
        "$$ e_n = \\left| a_n - L\\right| = \\left|\\frac{1}{n} \\right|  = O\\left(\\frac{1}{n} \\right)$$\n",
        "\n",
        "$$ e_n = \\left| a_n - L\\right| = \\left|\\frac{1}{n} \\right|  \\neq O\\left(\\frac{1}{n^2} \\right)$$\n",
        "\n",
        "$$ e_n = \\left| a_n - L\\right| = \\left|\\frac{1}{n} \\right| = o\\left(\\frac{1}{\\ln n} \\right)  $$ "
      ]
    },
    {
      "cell_type": "markdown",
      "metadata": {
        "id": "0NApiSqSHACc"
      },
      "source": [
        "# Rate of Convergence \n",
        "\n",
        "https://en.wikipedia.org/wiki/Rate_of_convergence\n",
        "\n",
        "$$  \\lim_{n \\rightarrow \\infty} \\frac{| a_{n+1} -L |} {| a_{n} -L |} = \\lim_{n \\rightarrow \\infty} \\frac{\\left|\\frac{1}{n+1}\\right|}{\\left|\\frac{1}{n}\\right|} = \\lim_{n \\rightarrow \\infty}\\frac{n}{n+1}  =   \n",
        "\\lim_{x \\rightarrow \\infty}\\frac{x}{x+1}  \n",
        "$$\n",
        "\n",
        "and applying L'Hopiltal derving numerator and denominator\n",
        "$$\n",
        "\\lim_{x \\rightarrow \\infty}\\frac{x}{x+1}  = \\lim_{x \\rightarrow \\infty}\\frac{1} {1} = 1\n",
        "$$\n",
        "converge $Q$-sublinearly to $L$ (i.e. slower than linearly) "
      ]
    },
    {
      "cell_type": "code",
      "metadata": {
        "colab": {
          "base_uri": "https://localhost:8080/",
          "height": 595
        },
        "id": "1k7k-VQHND9H",
        "outputId": "74bb2630-a3bf-4d98-be33-43a639e7364a"
      },
      "source": [
        "import math\n",
        "import matplotlib.pyplot as plt\n",
        "nl = []\n",
        "al = []\n",
        "for n in range(1,20):\n",
        "  a_n = (1+1/n)\n",
        "  nl.append(n)\n",
        "  al.append(a_n)\n",
        "  print(n,\"  \", a_n)\n",
        "plt.plot(nl, al,'o')\n",
        "plt.show()"
      ],
      "execution_count": null,
      "outputs": [
        {
          "output_type": "stream",
          "name": "stdout",
          "text": [
            "1    2.0\n",
            "2    1.5\n",
            "3    1.3333333333333333\n",
            "4    1.25\n",
            "5    1.2\n",
            "6    1.1666666666666667\n",
            "7    1.1428571428571428\n",
            "8    1.125\n",
            "9    1.1111111111111112\n",
            "10    1.1\n",
            "11    1.0909090909090908\n",
            "12    1.0833333333333333\n",
            "13    1.0769230769230769\n",
            "14    1.0714285714285714\n",
            "15    1.0666666666666667\n",
            "16    1.0625\n",
            "17    1.0588235294117647\n",
            "18    1.0555555555555556\n",
            "19    1.0526315789473684\n"
          ]
        },
        {
          "output_type": "display_data",
          "data": {
            "image/png": "[encoded data removed]",
            "text/plain": [
              "<Figure size 432x288 with 1 Axes>"
            ]
          },
          "metadata": {
            "needs_background": "light"
          }
        }
      ]
    },
    {
      "cell_type": "code",
      "metadata": {
        "colab": {
          "base_uri": "https://localhost:8080/"
        },
        "id": "YtGrbfawYCZh",
        "outputId": "d1d106b8-77fb-4ff3-ab6e-de1119d2c1d1"
      },
      "source": [
        "import math\n",
        "L = 1\n",
        "C = 0\n",
        "n_ant = 0\n",
        "n_steps = 0\n",
        "print(\"        n            a_n             error_n= abs(a_n-L)        n_steps      C      \" ) \n",
        "for n in range(1,10000000):\n",
        "  a_n = (1+1/n)\n",
        "  if (abs(a_n-L) < 0.5 * 10**(-C)): \n",
        "    while (abs(a_n-L) < 0.5 * 10**(-C)): \n",
        "       C =C+1\n",
        "    n_steps = n- n_ant\n",
        "    n_ant = n\n",
        "    print(format(n, '10'),\"  \", format(a_n, '.17f'),\"  \",format(abs(a_n-L), '.17f'),format(n_steps, '10'),format(C-1, '10')) "
      ],
      "execution_count": null,
      "outputs": [
        {
          "output_type": "stream",
          "name": "stdout",
          "text": [
            "        n            a_n             error_n= abs(a_n-L)        n_steps      C      \n",
            "         3    1.33333333333333326    0.33333333333333326          3          0\n",
            "        21    1.04761904761904767    0.04761904761904767         18          1\n",
            "       200    1.00499999999999989    0.00499999999999989        179          2\n",
            "      2000    1.00049999999999994    0.00049999999999994       1800          3\n",
            "     20001    1.00004999750012491    0.00004999750012491      18001          4\n",
            "    200001    1.00000499997500003    0.00000499997500003     180000          5\n",
            "   2000001    1.00000049999975005    0.00000049999975005    1800000          6\n"
          ]
        }
      ]
    },
    {
      "cell_type": "markdown",
      "metadata": {
        "id": "1uiYmkUNeUn7"
      },
      "source": [
        "# Sequence $a_n = \\left\\{ 1 +\\frac{1}{n^2} \\right\\}_{n \\in N}$\n",
        "\n",
        "\n",
        "$$  L = \\lim_{n \\rightarrow \\infty}  \\left( 1 +\\frac{1}{n^2} \\right) = \\lim_{n \\rightarrow \\infty}  1  + \\lim_{n \\rightarrow \\infty} \\frac{1}{n^2}   = 1 + 0 = 1$$\n",
        "\n",
        "Given  $\\epsilon >0$ if you have \n",
        "$$  n > n_\\epsilon =  \\frac{1}{\\sqrt{\\epsilon}}$$\n",
        "then \n",
        "$$  \\frac{1}{n^2} < \\frac{1}{n^2_\\epsilon}$$\n",
        "therefor\n",
        "$$ \\left| a_n - L\\right|  = \\left| \\left( 1 +\\frac{1}{n^2} \\right)  - 1\\right|  \n",
        "=  \\left|  \\frac{1}{n^2}   \\right|  < \\left|\\frac{1}{n^2_\\epsilon} \\right| \n",
        "= \\epsilon, \\ \\  \\ \\forall\\ n > n_\\epsilon$$"
      ]
    },
    {
      "cell_type": "code",
      "metadata": {
        "colab": {
          "base_uri": "https://localhost:8080/",
          "height": 595
        },
        "id": "gpwo0bn4o5X_",
        "outputId": "74ace414-66b7-41b3-a5a5-c2e6d926c7b6"
      },
      "source": [
        "import math\n",
        "import matplotlib.pyplot as plt\n",
        "nl = []\n",
        "al = []\n",
        "for n in range(1,20):\n",
        "  a_n = (1+1/n**2)\n",
        "  nl.append(n)\n",
        "  al.append(a_n)\n",
        "  print(n,\"  \", a_n)\n",
        "plt.plot(nl, al,'o')\n",
        "plt.show()"
      ],
      "execution_count": null,
      "outputs": [
        {
          "output_type": "stream",
          "name": "stdout",
          "text": [
            "1    2.0\n",
            "2    1.25\n",
            "3    1.1111111111111112\n",
            "4    1.0625\n",
            "5    1.04\n",
            "6    1.0277777777777777\n",
            "7    1.0204081632653061\n",
            "8    1.015625\n",
            "9    1.0123456790123457\n",
            "10    1.01\n",
            "11    1.0082644628099173\n",
            "12    1.0069444444444444\n",
            "13    1.0059171597633136\n",
            "14    1.0051020408163265\n",
            "15    1.0044444444444445\n",
            "16    1.00390625\n",
            "17    1.0034602076124568\n",
            "18    1.0030864197530864\n",
            "19    1.002770083102493\n"
          ]
        },
        {
          "output_type": "display_data",
          "data": {
            "image/png": "[encoded data removed]",
            "text/plain": [
              "<Figure size 432x288 with 1 Axes>"
            ]
          },
          "metadata": {
            "needs_background": "light"
          }
        }
      ]
    },
    {
      "cell_type": "code",
      "metadata": {
        "colab": {
          "base_uri": "https://localhost:8080/"
        },
        "id": "Zs5mSWxhFabK",
        "outputId": "cc131d12-cb75-46b2-852e-ad169cd17abb"
      },
      "source": [
        "import math\n",
        "L = 1\n",
        "C = 0\n",
        "n_ant = 0\n",
        "n_steps = 0\n",
        "print(\"        n            a_n             error_n= abs(a_n-L)        n_steps      C      \" ) \n",
        "for n in range(1,10000000):\n",
        "  a_n = (1+1/n**2)\n",
        "  if (abs(a_n-L) < 0.5 * 10**(-C)): \n",
        "    while (abs(a_n-L) < 0.5 * 10**(-C)): \n",
        "       C =C+1\n",
        "    n_steps = n- n_ant\n",
        "    n_ant = n\n",
        "    print(format(n, '10'),\"  \", format(a_n, '.17f'),\"  \",format(abs(a_n-L), '.17f'),format(n_steps, '10'),format(C-1, '10'),) "
      ],
      "execution_count": null,
      "outputs": [
        {
          "output_type": "stream",
          "name": "stdout",
          "text": [
            "        n            a_n             error_n= abs(a_n-L)        n_steps      C      \n",
            "         2    1.25000000000000000    0.25000000000000000          2          0\n",
            "         5    1.04000000000000004    0.04000000000000004          3          1\n",
            "        15    1.00444444444444447    0.00444444444444447         10          2\n",
            "        45    1.00049382716049373    0.00049382716049373         30          3\n",
            "       142    1.00004959333465582    0.00004959333465582         97          4\n",
            "       448    1.00000498246173475    0.00000498246173475        306          5\n",
            "      1415    1.00000049944436809    0.00000049944436809        967          6\n",
            "      4473    1.00000004998068492    0.00000004998068492       3058          7\n",
            "     14143    1.00000000499938890    0.00000000499938890       9670          8\n",
            "     44722    1.00000000049998561    0.00000000049998561      30579          9\n",
            "    141422    1.00000000004999956    0.00000000004999956      96700         10\n",
            "    447219    1.00000000000499978    0.00000000000499978     305797         11\n",
            "   1414308    1.00000000000049982    0.00000000000049982     967089         12\n",
            "   4468962    1.00000000000004996    0.00000000000004996    3054654         13\n"
          ]
        }
      ]
    },
    {
      "cell_type": "markdown",
      "metadata": {
        "id": "cm8lph4WnNNV"
      },
      "source": [
        "## Order of Convergence\n",
        "\n",
        "$$ e_n = \\left| a_n - L\\right| = \\left|\\frac{1}{n^2} \\right|  = O\\left(\\frac{1}{n^2} \\right)$$\n",
        "\n",
        "$$ e_n = \\left| a_n - L\\right| = \\left|\\frac{1}{n^2} \\right|  = o\\left(\\frac{1}{n} \\right)$$\n",
        "\n",
        "$$ e_n = \\left| a_n - L\\right| = \\left|\\frac{1}{n^2} \\right| \\neq O\\left(\\frac{1}{n^3} \\right)  $$ "
      ]
    }
  ]
}