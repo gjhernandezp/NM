{
  "nbformat": 4,
  "nbformat_minor": 0,
  "metadata": {
    "colab": {
      "name": "FastSlowConvergence.ipynb",
      "provenance": [],
      "collapsed_sections": []
    },
    "kernelspec": {
      "name": "python3",
      "display_name": "Python 3"
    }
  },
  "cells": [
    {
      "cell_type": "markdown",
      "metadata": {
        "id": "ceFgIg1dNEu2"
      },
      "source": [
        "$$a_n = \\left\\{ 1 +\\frac{1}{n} \\right\\}_{n \\in N}$$\n",
        "\n",
        "\n",
        "$$  L = \\lim_{n \\rightarrow \\infty}  \\left( 1 +\\frac{1}{n} \\right) = \\lim_{n \\rightarrow \\infty}  1  + \\lim_{n \\rightarrow \\infty} \\frac{1}{n}   = 1 + 0 = 1$$\n",
        "\n",
        "Given  $\\epsilon >0$ if you have \n",
        "$$  n > n_\\epsilon =  \\frac{1}{\\epsilon}$$\n",
        "then \n",
        "$$  \\frac{1}{n} < \\frac{1}{n_\\epsilon}$$\n",
        "therefor\n",
        "$$ \\left|L - a_n \\right|  = \\left|1 - \\left( 1 +\\frac{1}{n} \\right)  \\right|  =  \\left|  \\frac{1}{n}   \\right|  < \\left|\\frac{1}{n_\\epsilon} \\right| \n",
        "= \\epsilon, \\ \\  \\ \\forall\\ n > n_\\epsilon$$ \n",
        "\n"
      ]
    },
    {
      "cell_type": "code",
      "metadata": {
        "colab": {
          "base_uri": "https://localhost:8080/",
          "height": 579
        },
        "id": "1k7k-VQHND9H",
        "outputId": "dc4fe7ab-bfc2-41c0-db14-af947dcea669"
      },
      "source": [
        "import math\n",
        "import matplotlib.pyplot as plt\n",
        "nl = []\n",
        "el = []\n",
        "for n in range(1,20):\n",
        "  e = (1+1/n)\n",
        "  nl.append(n)\n",
        "  el.append(e)\n",
        "  print(n,\"  \", e)\n",
        "plt.plot(nl, el,'o')\n",
        "plt.show()"
      ],
      "execution_count": 2,
      "outputs": [
        {
          "output_type": "stream",
          "text": [
            "1    2.0\n",
            "2    1.5\n",
            "3    1.3333333333333333\n",
            "4    1.25\n",
            "5    1.2\n",
            "6    1.1666666666666667\n",
            "7    1.1428571428571428\n",
            "8    1.125\n",
            "9    1.1111111111111112\n",
            "10    1.1\n",
            "11    1.0909090909090908\n",
            "12    1.0833333333333333\n",
            "13    1.0769230769230769\n",
            "14    1.0714285714285714\n",
            "15    1.0666666666666667\n",
            "16    1.0625\n",
            "17    1.0588235294117647\n",
            "18    1.0555555555555556\n",
            "19    1.0526315789473684\n"
          ],
          "name": "stdout"
        },
        {
          "output_type": "display_data",
          "data": {
            "image/png": "[encoded data removed]",
            "text/plain": [
              "<Figure size 432x288 with 1 Axes>"
            ]
          },
          "metadata": {
            "tags": [],
            "needs_background": "light"
          }
        }
      ]
    },
    {
      "cell_type": "markdown",
      "metadata": {
        "id": "R1ke-mEs7Njc"
      },
      "source": [
        "Slow covergence\n",
        "\n",
        "$$ e = \\lim_{n \\rightarrow \\infty} \\left( 1 +\\frac{1}{n} \\right)^n$$"
      ]
    },
    {
      "cell_type": "code",
      "metadata": {
        "id": "5aCoOnst9iY1",
        "colab": {
          "base_uri": "https://localhost:8080/",
          "height": 915
        },
        "outputId": "a24b0a5f-82ac-47b9-ab0a-ba6455462db6"
      },
      "source": [
        "import math\n",
        "import matplotlib.pyplot as plt\n",
        "nl = []\n",
        "el = []\n",
        "for n in range(1,40):\n",
        "  e = (1+1/n)**n\n",
        "  nl.append(n)\n",
        "  el.append(e)\n",
        "  print(n,\"  \", e)\n",
        "\n",
        "plt.plot(nl, el,'o')\n",
        "plt.show()\n",
        "print (\" math.exp(1) \",math.exp(1))"
      ],
      "execution_count": 9,
      "outputs": [
        {
          "output_type": "stream",
          "text": [
            "1    2.0\n",
            "2    2.25\n",
            "3    2.37037037037037\n",
            "4    2.44140625\n",
            "5    2.4883199999999994\n",
            "6    2.5216263717421135\n",
            "7    2.546499697040712\n",
            "8    2.565784513950348\n",
            "9    2.5811747917131984\n",
            "10    2.5937424601000023\n",
            "11    2.6041990118975287\n",
            "12    2.613035290224676\n",
            "13    2.6206008878857308\n",
            "14    2.6271515563008685\n",
            "15    2.6328787177279187\n",
            "16    2.6379284973666\n",
            "17    2.64241437518311\n",
            "18    2.6464258210976865\n",
            "19    2.650034326640442\n",
            "20    2.653297705144422\n",
            "21    2.656263213926108\n",
            "22    2.658969858537786\n",
            "23    2.6614501186387796\n",
            "24    2.663731258068599\n",
            "25    2.665836331487422\n",
            "26    2.6677849665337465\n",
            "27    2.6695939778125704\n",
            "28    2.6712778534408463\n",
            "29    2.6728491439808066\n",
            "30    2.6743187758703026\n",
            "31    2.6756963059146854\n",
            "32    2.676990129378183\n",
            "33    2.678207651253779\n",
            "34    2.6793554280957674\n",
            "35    2.6804392861534603\n",
            "36    2.6814644203008586\n",
            "37    2.6824354773085255\n",
            "38    2.6833566262745787\n",
            "39    2.6842316184670922\n"
          ],
          "name": "stdout"
        },
        {
          "output_type": "display_data",
          "data": {
            "image/png": "[encoded data removed]",
            "text/plain": [
              "<Figure size 432x288 with 1 Axes>"
            ]
          },
          "metadata": {
            "tags": [],
            "needs_background": "light"
          }
        },
        {
          "output_type": "stream",
          "text": [
            " math.exp(1)  2.718281828459045\n"
          ],
          "name": "stdout"
        }
      ]
    },
    {
      "cell_type": "markdown",
      "metadata": {
        "id": "I2mmHzN1748M"
      },
      "source": [
        "Fast convergence\n",
        "\n",
        "$$\n",
        " \\left\\{\n",
        "\\begin{array}{ll}\n",
        "      x_1 = 2 &  \\\\\n",
        "      x_{n+1}= \\frac{1}{2} x_n + \\frac{1}{x_n}& n\\geq 1 \\\\\n",
        "\\end{array} \n",
        "\\right. \n",
        "$$\n",
        "\n",
        "$$x_n \\rightarrow \\sqrt(2)$$"
      ]
    },
    {
      "cell_type": "code",
      "metadata": {
        "id": "HRCnNLiX6kKD",
        "colab": {
          "base_uri": "https://localhost:8080/",
          "height": 614
        },
        "outputId": "002465bd-900b-49f7-80a6-b1fdbcafadba"
      },
      "source": [
        "import math\n",
        "import matplotlib.pyplot as plt\n",
        "nl = [1]\n",
        "xl = [2]\n",
        "x= 2\n",
        "for n in range(20):\n",
        "  x = 1/2*x + 1/x\n",
        "  nl.append(n+1)\n",
        "  xl.append(x)\n",
        "  print(n,\"  \", x)\n",
        "\n",
        "plt.plot(nl, xl,'o')\n",
        "plt.show()\n",
        "print (\"math.sqrt(2) \",math.sqrt(2))"
      ],
      "execution_count": 11,
      "outputs": [
        {
          "output_type": "stream",
          "text": [
            "0    1.5\n",
            "1    1.4166666666666665\n",
            "2    1.4142156862745097\n",
            "3    1.4142135623746899\n",
            "4    1.414213562373095\n",
            "5    1.414213562373095\n",
            "6    1.414213562373095\n",
            "7    1.414213562373095\n",
            "8    1.414213562373095\n",
            "9    1.414213562373095\n",
            "10    1.414213562373095\n",
            "11    1.414213562373095\n",
            "12    1.414213562373095\n",
            "13    1.414213562373095\n",
            "14    1.414213562373095\n",
            "15    1.414213562373095\n",
            "16    1.414213562373095\n",
            "17    1.414213562373095\n",
            "18    1.414213562373095\n",
            "19    1.414213562373095\n"
          ],
          "name": "stdout"
        },
        {
          "output_type": "display_data",
          "data": {
            "image/png": "[encoded data removed]",
            "text/plain": [
              "<Figure size 432x288 with 1 Axes>"
            ]
          },
          "metadata": {
            "tags": [],
            "needs_background": "light"
          }
        },
        {
          "output_type": "stream",
          "text": [
            "math.sqrt(2)  1.4142135623730951\n"
          ],
          "name": "stdout"
        }
      ]
    }
  ]
}