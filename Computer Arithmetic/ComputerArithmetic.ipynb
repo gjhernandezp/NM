{
  "nbformat": 4,
  "nbformat_minor": 0,
  "metadata": {
    "colab": {
      "name": "ComputerArithmetic.ipynb",
      "provenance": [],
      "collapsed_sections": [],
      "authorship_tag": "ABX9TyOWhrUFwBbq2Cq60B1m6GQo"
    },
    "kernelspec": {
      "name": "python3",
      "display_name": "Python 3"
    },
    "language_info": {
      "name": "python"
    }
  },
  "cells": [
    {
      "cell_type": "markdown",
      "metadata": {
        "id": "CulotcA4iNbD"
      },
      "source": [
        "## Floating-point numbers"
      ]
    },
    {
      "cell_type": "code",
      "metadata": {
        "colab": {
          "base_uri": "https://localhost:8080/"
        },
        "id": "ZsY5d2FvYM_6",
        "outputId": "79f6c229-62f0-4516-b56f-70c50371eb5b"
      },
      "source": [
        "%%writefile t.cpp\n",
        "#include <iostream>\n",
        "\n",
        "int main() {\n",
        "    std::cout << -2/3;\n",
        "    return 0;\n",
        "}"
      ],
      "execution_count": 1,
      "outputs": [
        {
          "output_type": "stream",
          "name": "stdout",
          "text": [
            "Overwriting t.cpp\n"
          ]
        }
      ]
    },
    {
      "cell_type": "code",
      "metadata": {
        "colab": {
          "base_uri": "https://localhost:8080/"
        },
        "id": "iUjRlBeYYuih",
        "outputId": "d6cef2df-27b7-4601-b741-1292cea346f1"
      },
      "source": [
        "!g++ t.cpp -o t\n",
        "!./t"
      ],
      "execution_count": 2,
      "outputs": [
        {
          "output_type": "stream",
          "name": "stdout",
          "text": [
            "0"
          ]
        }
      ]
    },
    {
      "cell_type": "code",
      "metadata": {
        "colab": {
          "base_uri": "https://localhost:8080/"
        },
        "id": "ZORk7QBuZNWB",
        "outputId": "ea4b2818-f4aa-4dbe-a4bc-85de9cbe11ed"
      },
      "source": [
        "%%writefile t.cpp\n",
        "#include <iostream>\n",
        "\n",
        "int main() {\n",
        "    std::cout << -2.0/3;\n",
        "    return 0;\n",
        "}"
      ],
      "execution_count": 3,
      "outputs": [
        {
          "output_type": "stream",
          "name": "stdout",
          "text": [
            "Overwriting t.cpp\n"
          ]
        }
      ]
    },
    {
      "cell_type": "code",
      "metadata": {
        "colab": {
          "base_uri": "https://localhost:8080/"
        },
        "id": "RL1G4Tc7ZPPx",
        "outputId": "a3a03089-7639-4438-a80b-d53e6855655a"
      },
      "source": [
        "!g++ t.cpp -o t\n",
        "!./t"
      ],
      "execution_count": 4,
      "outputs": [
        {
          "output_type": "stream",
          "name": "stdout",
          "text": [
            "-0.666667"
          ]
        }
      ]
    },
    {
      "cell_type": "code",
      "metadata": {
        "colab": {
          "base_uri": "https://localhost:8080/"
        },
        "id": "GxumKS3xmTcQ",
        "outputId": "5a82fc92-6e12-4bec-c80b-1d7b99e1d7c5"
      },
      "source": [
        "%%writefile t.cpp\n",
        "#include <iostream>\n",
        "\n",
        "int main() {\n",
        "    std::cout.precision(30);\n",
        "    std::cout <<  (float) -2.0/  3;\n",
        "    return 0;\n",
        "}"
      ],
      "execution_count": 5,
      "outputs": [
        {
          "output_type": "stream",
          "name": "stdout",
          "text": [
            "Overwriting t.cpp\n"
          ]
        }
      ]
    },
    {
      "cell_type": "code",
      "metadata": {
        "colab": {
          "base_uri": "https://localhost:8080/"
        },
        "id": "ED4PLPjYmblw",
        "outputId": "7ad6f3f4-f37f-4879-8df5-cdc84a6e3674"
      },
      "source": [
        "!g++ t.cpp -o t\n",
        "!./t"
      ],
      "execution_count": 6,
      "outputs": [
        {
          "output_type": "stream",
          "name": "stdout",
          "text": [
            "-0.666666686534881591796875"
          ]
        }
      ]
    },
    {
      "cell_type": "code",
      "metadata": {
        "colab": {
          "base_uri": "https://localhost:8080/"
        },
        "id": "fFPLn4XmltEg",
        "outputId": "daa38082-57f5-4f5f-ac8c-6933f4520e52"
      },
      "source": [
        "%%writefile t.cpp\n",
        "#include <iostream>\n",
        "\n",
        "int main() {\n",
        "    std::cout.precision(30);\n",
        "    std::cout << (double) -2.0/ 3;\n",
        "    return 0;\n",
        "}"
      ],
      "execution_count": 7,
      "outputs": [
        {
          "output_type": "stream",
          "name": "stdout",
          "text": [
            "Overwriting t.cpp\n"
          ]
        }
      ]
    },
    {
      "cell_type": "code",
      "metadata": {
        "colab": {
          "base_uri": "https://localhost:8080/"
        },
        "id": "KtpBCxMml0Eg",
        "outputId": "48a318f7-2201-4c08-9ce4-5a1adafea11d"
      },
      "source": [
        "!g++ t.cpp -o t\n",
        "!./t"
      ],
      "execution_count": 8,
      "outputs": [
        {
          "output_type": "stream",
          "name": "stdout",
          "text": [
            "-0.666666666666666629659232512495"
          ]
        }
      ]
    },
    {
      "cell_type": "code",
      "metadata": {
        "colab": {
          "base_uri": "https://localhost:8080/"
        },
        "id": "2LjgASzpvhdx",
        "outputId": "4017988e-9cb7-4a79-f640-fb8a022cf3c3"
      },
      "source": [
        "-2/3"
      ],
      "execution_count": 9,
      "outputs": [
        {
          "output_type": "execute_result",
          "data": {
            "text/plain": [
              "-0.6666666666666666"
            ]
          },
          "metadata": {},
          "execution_count": 9
        }
      ]
    },
    {
      "cell_type": "code",
      "metadata": {
        "colab": {
          "base_uri": "https://localhost:8080/"
        },
        "id": "eavytGbLvzZA",
        "outputId": "104526ec-1d67-47a7-dcdb-22f1963d2633"
      },
      "source": [
        "2.0 / 3"
      ],
      "execution_count": 10,
      "outputs": [
        {
          "output_type": "execute_result",
          "data": {
            "text/plain": [
              "0.6666666666666666"
            ]
          },
          "metadata": {},
          "execution_count": 10
        }
      ]
    },
    {
      "cell_type": "code",
      "metadata": {
        "colab": {
          "base_uri": "https://localhost:8080/"
        },
        "id": "zwqVAEtda8TB",
        "outputId": "54e55413-a055-4d01-f786-48cba38aeb47"
      },
      "source": [
        "(2/3)*(1/2)"
      ],
      "execution_count": 11,
      "outputs": [
        {
          "output_type": "execute_result",
          "data": {
            "text/plain": [
              "0.3333333333333333"
            ]
          },
          "metadata": {},
          "execution_count": 11
        }
      ]
    },
    {
      "cell_type": "markdown",
      "metadata": {
        "id": "8-y3mYL5iB3x"
      },
      "source": [
        "## Sympy Rational"
      ]
    },
    {
      "cell_type": "code",
      "metadata": {
        "colab": {
          "base_uri": "https://localhost:8080/",
          "height": 51
        },
        "id": "j2ZvYLRqayqB",
        "outputId": "ad860360-7ebc-4566-fed9-3166f2a02ac1"
      },
      "source": [
        "from sympy import Rational\n",
        "Rational(2,3) "
      ],
      "execution_count": 12,
      "outputs": [
        {
          "output_type": "execute_result",
          "data": {
            "text/latex": "$\\displaystyle \\frac{2}{3}$",
            "text/plain": [
              "2/3"
            ]
          },
          "metadata": {},
          "execution_count": 12
        }
      ]
    },
    {
      "cell_type": "code",
      "metadata": {
        "colab": {
          "base_uri": "https://localhost:8080/",
          "height": 51
        },
        "id": "jc7cb4mqck3p",
        "outputId": "a8b4014b-2955-4092-fa9d-e47e0ac76cf4"
      },
      "source": [
        "Rational(2,3) * Rational(1,2)"
      ],
      "execution_count": 13,
      "outputs": [
        {
          "output_type": "execute_result",
          "data": {
            "text/latex": "$\\displaystyle \\frac{1}{3}$",
            "text/plain": [
              "1/3"
            ]
          },
          "metadata": {},
          "execution_count": 13
        }
      ]
    },
    {
      "cell_type": "code",
      "metadata": {
        "colab": {
          "base_uri": "https://localhost:8080/",
          "height": 51
        },
        "id": "oGJG9c21iHBn",
        "outputId": "7ec1fe28-62a4-408e-b817-ecd3f8320553"
      },
      "source": [
        "Rational(2,3) + Rational(1,2)"
      ],
      "execution_count": 14,
      "outputs": [
        {
          "output_type": "execute_result",
          "data": {
            "text/latex": "$\\displaystyle \\frac{7}{6}$",
            "text/plain": [
              "7/6"
            ]
          },
          "metadata": {},
          "execution_count": 14
        }
      ]
    },
    {
      "cell_type": "markdown",
      "metadata": {
        "id": "ffHjoLc7iasp"
      },
      "source": [
        "## SpecialFloating-point numbers"
      ]
    },
    {
      "cell_type": "code",
      "metadata": {
        "id": "UexbjlOy2Mx_"
      },
      "source": [
        "import math"
      ],
      "execution_count": 15,
      "outputs": []
    },
    {
      "cell_type": "code",
      "metadata": {
        "colab": {
          "base_uri": "https://localhost:8080/"
        },
        "id": "DPv2ZKrQ2Wy_",
        "outputId": "6c1150b3-c289-4013-c862-4d20da3db1e0"
      },
      "source": [
        "math.nan + 1"
      ],
      "execution_count": 16,
      "outputs": [
        {
          "output_type": "execute_result",
          "data": {
            "text/plain": [
              "nan"
            ]
          },
          "metadata": {},
          "execution_count": 16
        }
      ]
    },
    {
      "cell_type": "code",
      "metadata": {
        "colab": {
          "base_uri": "https://localhost:8080/"
        },
        "id": "FABgIsD02dzu",
        "outputId": "eef4138c-ed17-4a68-824d-b232fc0917c9"
      },
      "source": [
        "math.inf +1"
      ],
      "execution_count": 17,
      "outputs": [
        {
          "output_type": "execute_result",
          "data": {
            "text/plain": [
              "inf"
            ]
          },
          "metadata": {},
          "execution_count": 17
        }
      ]
    },
    {
      "cell_type": "code",
      "metadata": {
        "id": "v1p2jjv92ih3",
        "colab": {
          "base_uri": "https://localhost:8080/"
        },
        "outputId": "d5ea685c-ab37-43ad-8076-4205bfc3b36a"
      },
      "source": [
        "- math.inf + 1e6"
      ],
      "execution_count": 18,
      "outputs": [
        {
          "output_type": "execute_result",
          "data": {
            "text/plain": [
              "-inf"
            ]
          },
          "metadata": {},
          "execution_count": 18
        }
      ]
    },
    {
      "cell_type": "code",
      "metadata": {
        "colab": {
          "base_uri": "https://localhost:8080/"
        },
        "id": "hHvLy-MkDYIQ",
        "outputId": "6dc41038-1524-4048-c1aa-f923129d469e"
      },
      "source": [
        "1*0"
      ],
      "execution_count": 19,
      "outputs": [
        {
          "output_type": "execute_result",
          "data": {
            "text/plain": [
              "0"
            ]
          },
          "metadata": {},
          "execution_count": 19
        }
      ]
    },
    {
      "cell_type": "code",
      "metadata": {
        "colab": {
          "base_uri": "https://localhost:8080/",
          "height": 167
        },
        "id": "VaDa7XiPDb7f",
        "outputId": "1ca1ec2d-7a94-4eff-bb2d-b88a1416150a"
      },
      "source": [
        "1/0"
      ],
      "execution_count": 20,
      "outputs": [
        {
          "output_type": "error",
          "ename": "ZeroDivisionError",
          "evalue": "ignored",
          "traceback": [
            "\u001b[0;31m---------------------------------------------------------------------------\u001b[0m",
            "\u001b[0;31mZeroDivisionError\u001b[0m                         Traceback (most recent call last)",
            "\u001b[0;32m<ipython-input-20-9e1622b385b6>\u001b[0m in \u001b[0;36m<module>\u001b[0;34m()\u001b[0m\n\u001b[0;32m----> 1\u001b[0;31m \u001b[0;36m1\u001b[0m\u001b[0;34m/\u001b[0m\u001b[0;36m0\u001b[0m\u001b[0;34m\u001b[0m\u001b[0;34m\u001b[0m\u001b[0m\n\u001b[0m",
            "\u001b[0;31mZeroDivisionError\u001b[0m: division by zero"
          ]
        }
      ]
    },
    {
      "cell_type": "code",
      "metadata": {
        "colab": {
          "base_uri": "https://localhost:8080/",
          "height": 201
        },
        "id": "EZm3G65mkbgA",
        "outputId": "308d752a-034e-4413-f233-a2109f7b493a"
      },
      "source": [
        "y=0.0\n",
        "x=1.0\n",
        "x/y"
      ],
      "execution_count": 22,
      "outputs": [
        {
          "output_type": "error",
          "ename": "ZeroDivisionError",
          "evalue": "ignored",
          "traceback": [
            "\u001b[0;31m---------------------------------------------------------------------------\u001b[0m",
            "\u001b[0;31mZeroDivisionError\u001b[0m                         Traceback (most recent call last)",
            "\u001b[0;32m<ipython-input-22-5a2900273da1>\u001b[0m in \u001b[0;36m<module>\u001b[0;34m()\u001b[0m\n\u001b[1;32m      1\u001b[0m \u001b[0my\u001b[0m\u001b[0;34m=\u001b[0m\u001b[0;36m0.0\u001b[0m\u001b[0;34m\u001b[0m\u001b[0;34m\u001b[0m\u001b[0m\n\u001b[1;32m      2\u001b[0m \u001b[0mx\u001b[0m\u001b[0;34m=\u001b[0m\u001b[0;36m1.0\u001b[0m\u001b[0;34m\u001b[0m\u001b[0;34m\u001b[0m\u001b[0m\n\u001b[0;32m----> 3\u001b[0;31m \u001b[0mx\u001b[0m\u001b[0;34m/\u001b[0m\u001b[0my\u001b[0m\u001b[0;34m\u001b[0m\u001b[0;34m\u001b[0m\u001b[0m\n\u001b[0m",
            "\u001b[0;31mZeroDivisionError\u001b[0m: float division by zero"
          ]
        }
      ]
    },
    {
      "cell_type": "code",
      "metadata": {
        "colab": {
          "base_uri": "https://localhost:8080/"
        },
        "id": "mlmVn7UbkmsA",
        "outputId": "653e6370-6bec-4246-9a8b-8df727541971"
      },
      "source": [
        "type(x)"
      ],
      "execution_count": 23,
      "outputs": [
        {
          "output_type": "execute_result",
          "data": {
            "text/plain": [
              "float"
            ]
          },
          "metadata": {},
          "execution_count": 23
        }
      ]
    },
    {
      "cell_type": "code",
      "metadata": {
        "colab": {
          "base_uri": "https://localhost:8080/"
        },
        "id": "ht33OZP_krQg",
        "outputId": "eecfee18-aa7c-4b97-f28f-d66087bcf50f"
      },
      "source": [
        "type(y)"
      ],
      "execution_count": 24,
      "outputs": [
        {
          "output_type": "execute_result",
          "data": {
            "text/plain": [
              "float"
            ]
          },
          "metadata": {},
          "execution_count": 24
        }
      ]
    },
    {
      "cell_type": "code",
      "metadata": {
        "colab": {
          "base_uri": "https://localhost:8080/"
        },
        "id": "CRCXfvs-kLyh",
        "outputId": "80f83d6c-c9b7-4fcc-fa08-0e3764e3572e"
      },
      "source": [
        "import numpy as np\n",
        "\n",
        "one = np.ones(1)[0]\n",
        "zero = np.zeros(1)[0]\n",
        "\n",
        "one/zero"
      ],
      "execution_count": 25,
      "outputs": [
        {
          "output_type": "stream",
          "name": "stderr",
          "text": [
            "/usr/local/lib/python3.7/dist-packages/ipykernel_launcher.py:6: RuntimeWarning: divide by zero encountered in double_scalars\n",
            "  \n"
          ]
        },
        {
          "output_type": "execute_result",
          "data": {
            "text/plain": [
              "inf"
            ]
          },
          "metadata": {},
          "execution_count": 25
        }
      ]
    },
    {
      "cell_type": "code",
      "metadata": {
        "colab": {
          "base_uri": "https://localhost:8080/"
        },
        "id": "pAgFlGLvkLkP",
        "outputId": "f07fe2ae-0837-49ee-b15d-cc0a31a31dc9"
      },
      "source": [
        "one"
      ],
      "execution_count": 26,
      "outputs": [
        {
          "output_type": "execute_result",
          "data": {
            "text/plain": [
              "1.0"
            ]
          },
          "metadata": {},
          "execution_count": 26
        }
      ]
    },
    {
      "cell_type": "code",
      "metadata": {
        "colab": {
          "base_uri": "https://localhost:8080/"
        },
        "id": "p2xGnOoJkeeA",
        "outputId": "188b750b-5129-44b1-d05c-22e094131029"
      },
      "source": [
        "zero"
      ],
      "execution_count": 27,
      "outputs": [
        {
          "output_type": "execute_result",
          "data": {
            "text/plain": [
              "0.0"
            ]
          },
          "metadata": {},
          "execution_count": 27
        }
      ]
    },
    {
      "cell_type": "code",
      "metadata": {
        "colab": {
          "base_uri": "https://localhost:8080/"
        },
        "id": "vfAkifGUkf2Y",
        "outputId": "5697ab48-1018-401b-8b67-f3af7bf1cc0c"
      },
      "source": [
        "one.dtype"
      ],
      "execution_count": 28,
      "outputs": [
        {
          "output_type": "execute_result",
          "data": {
            "text/plain": [
              "dtype('float64')"
            ]
          },
          "metadata": {},
          "execution_count": 28
        }
      ]
    },
    {
      "cell_type": "code",
      "metadata": {
        "colab": {
          "base_uri": "https://localhost:8080/"
        },
        "id": "0q37qJrHking",
        "outputId": "96103258-d204-408b-ba57-8bd31f443325"
      },
      "source": [
        "zero.dtype"
      ],
      "execution_count": 29,
      "outputs": [
        {
          "output_type": "execute_result",
          "data": {
            "text/plain": [
              "dtype('float64')"
            ]
          },
          "metadata": {},
          "execution_count": 29
        }
      ]
    }
  ]
}