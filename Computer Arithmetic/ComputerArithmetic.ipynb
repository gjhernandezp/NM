{
  "nbformat": 4,
  "nbformat_minor": 0,
  "metadata": {
    "colab": {
      "name": "ComputerArithmetic.ipynb",
      "provenance": [],
      "collapsed_sections": [],
      "authorship_tag": "ABX9TyNiLu/nTapv6luw60Dcy7z8"
    },
    "kernelspec": {
      "name": "python3",
      "display_name": "Python 3"
    },
    "language_info": {
      "name": "python"
    }
  },
  "cells": [
    {
      "cell_type": "markdown",
      "metadata": {
        "id": "CulotcA4iNbD"
      },
      "source": [
        "#Floating-point numbers"
      ]
    },
    {
      "cell_type": "code",
      "metadata": {
        "colab": {
          "base_uri": "https://localhost:8080/"
        },
        "id": "ZsY5d2FvYM_6",
        "outputId": "40d45c8a-1e2c-4dfa-dcc4-4f703a297b17"
      },
      "source": [
        "%%writefile t.cpp\n",
        "#include <iostream>\n",
        "\n",
        "int main() {\n",
        "    std::cout << (float) -4/3;\n",
        "    return 0;\n",
        "}"
      ],
      "execution_count": null,
      "outputs": [
        {
          "output_type": "stream",
          "name": "stdout",
          "text": [
            "Overwriting t.cpp\n"
          ]
        }
      ]
    },
    {
      "cell_type": "code",
      "metadata": {
        "colab": {
          "base_uri": "https://localhost:8080/"
        },
        "id": "iUjRlBeYYuih",
        "outputId": "2845939f-2408-40ff-e5b4-830a1decda0a"
      },
      "source": [
        "!g++ t.cpp -o t\n",
        "!./t"
      ],
      "execution_count": null,
      "outputs": [
        {
          "output_type": "stream",
          "name": "stdout",
          "text": [
            "-1.33333"
          ]
        }
      ]
    },
    {
      "cell_type": "code",
      "metadata": {
        "colab": {
          "base_uri": "https://localhost:8080/"
        },
        "id": "ZORk7QBuZNWB",
        "outputId": "ac098166-85b2-4743-ef8e-f3d3ac241a8b"
      },
      "source": [
        "%%writefile t.cpp\n",
        "#include <iostream>\n",
        "\n",
        "int main() {\n",
        "    std::cout << -2.0/3;\n",
        "    return 0;\n",
        "}"
      ],
      "execution_count": null,
      "outputs": [
        {
          "output_type": "stream",
          "name": "stdout",
          "text": [
            "Overwriting t.cpp\n"
          ]
        }
      ]
    },
    {
      "cell_type": "code",
      "metadata": {
        "colab": {
          "base_uri": "https://localhost:8080/"
        },
        "id": "RL1G4Tc7ZPPx",
        "outputId": "73a68a82-59be-491f-95a4-1a5e1f4b744b"
      },
      "source": [
        "!g++ t.cpp -o t\n",
        "!./t"
      ],
      "execution_count": null,
      "outputs": [
        {
          "output_type": "stream",
          "name": "stdout",
          "text": [
            "-0.666667"
          ]
        }
      ]
    },
    {
      "cell_type": "code",
      "metadata": {
        "colab": {
          "base_uri": "https://localhost:8080/"
        },
        "id": "GxumKS3xmTcQ",
        "outputId": "c6c743a4-f55a-4d2c-ff07-92ec048317d7"
      },
      "source": [
        "%%writefile t.cpp\n",
        "#include <iostream>\n",
        "\n",
        "int main() {\n",
        "    std::cout.precision(30);\n",
        "    std::cout <<  (float) -2.0/  3;\n",
        "    return 0;\n",
        "}"
      ],
      "execution_count": null,
      "outputs": [
        {
          "output_type": "stream",
          "name": "stdout",
          "text": [
            "Overwriting t.cpp\n"
          ]
        }
      ]
    },
    {
      "cell_type": "code",
      "metadata": {
        "colab": {
          "base_uri": "https://localhost:8080/"
        },
        "id": "ED4PLPjYmblw",
        "outputId": "bb81056c-8862-4c88-fa6d-ec9a56c10074"
      },
      "source": [
        "!g++ t.cpp -o t\n",
        "!./t"
      ],
      "execution_count": null,
      "outputs": [
        {
          "output_type": "stream",
          "name": "stdout",
          "text": [
            "-0.666666686534881591796875"
          ]
        }
      ]
    },
    {
      "cell_type": "code",
      "metadata": {
        "colab": {
          "base_uri": "https://localhost:8080/"
        },
        "id": "fFPLn4XmltEg",
        "outputId": "be503c31-8fe9-440e-af61-00cb3842631e"
      },
      "source": [
        "%%writefile t.cpp\n",
        "#include <iostream>\n",
        "\n",
        "int main() {\n",
        "    std::cout.precision(30);\n",
        "    std::cout << (double) -2.0/ 3;\n",
        "    return 0;\n",
        "}"
      ],
      "execution_count": null,
      "outputs": [
        {
          "output_type": "stream",
          "name": "stdout",
          "text": [
            "Overwriting t.cpp\n"
          ]
        }
      ]
    },
    {
      "cell_type": "code",
      "metadata": {
        "colab": {
          "base_uri": "https://localhost:8080/"
        },
        "id": "KtpBCxMml0Eg",
        "outputId": "74ebcdf6-e468-452e-e157-04c1637b2412"
      },
      "source": [
        "!g++ t.cpp -o t\n",
        "!./t"
      ],
      "execution_count": null,
      "outputs": [
        {
          "output_type": "stream",
          "name": "stdout",
          "text": [
            "-0.666666666666666629659232512495"
          ]
        }
      ]
    },
    {
      "cell_type": "code",
      "metadata": {
        "colab": {
          "base_uri": "https://localhost:8080/"
        },
        "id": "2LjgASzpvhdx",
        "outputId": "6ed8f857-0c6a-4f9e-99db-0fd5d5fceb32"
      },
      "source": [
        "-2/3"
      ],
      "execution_count": null,
      "outputs": [
        {
          "output_type": "execute_result",
          "data": {
            "text/plain": [
              "-0.6666666666666666"
            ]
          },
          "metadata": {},
          "execution_count": 9
        }
      ]
    },
    {
      "cell_type": "code",
      "metadata": {
        "colab": {
          "base_uri": "https://localhost:8080/"
        },
        "id": "eavytGbLvzZA",
        "outputId": "1605fa6e-483a-4076-e7a5-3c7509372ccb"
      },
      "source": [
        "2.0 / 3"
      ],
      "execution_count": null,
      "outputs": [
        {
          "output_type": "execute_result",
          "data": {
            "text/plain": [
              "0.6666666666666666"
            ]
          },
          "metadata": {},
          "execution_count": 10
        }
      ]
    },
    {
      "cell_type": "code",
      "metadata": {
        "colab": {
          "base_uri": "https://localhost:8080/"
        },
        "id": "zwqVAEtda8TB",
        "outputId": "258def3d-49f3-4cdf-b0c8-108bd584ebac"
      },
      "source": [
        "(2/3)*(1/2)"
      ],
      "execution_count": null,
      "outputs": [
        {
          "output_type": "execute_result",
          "data": {
            "text/plain": [
              "0.3333333333333333"
            ]
          },
          "metadata": {},
          "execution_count": 11
        }
      ]
    },
    {
      "cell_type": "code",
      "source": [
        "x = 2/3\n",
        "x"
      ],
      "metadata": {
        "colab": {
          "base_uri": "https://localhost:8080/"
        },
        "id": "UFOogs_xlFTm",
        "outputId": "f21f1c70-0201-4072-e990-e6ba1e22f8a2"
      },
      "execution_count": null,
      "outputs": [
        {
          "output_type": "execute_result",
          "data": {
            "text/plain": [
              "0.6666666666666666"
            ]
          },
          "metadata": {},
          "execution_count": 12
        }
      ]
    },
    {
      "cell_type": "code",
      "source": [
        "x = 0.6666666666666666\n",
        "x * 10**(16) \n",
        "x * 10**(17) "
      ],
      "metadata": {
        "colab": {
          "base_uri": "https://localhost:8080/"
        },
        "id": "w6ro8mDYl6-W",
        "outputId": "c2a6dbcc-5941-4584-d8a4-70d86d98d0ec"
      },
      "execution_count": null,
      "outputs": [
        {
          "output_type": "execute_result",
          "data": {
            "text/plain": [
              "6.6666666666666664e+16"
            ]
          },
          "metadata": {},
          "execution_count": 13
        }
      ]
    },
    {
      "cell_type": "code",
      "source": [
        "(2/3)*10**(18)"
      ],
      "metadata": {
        "colab": {
          "base_uri": "https://localhost:8080/"
        },
        "id": "eBdCAXM6ln00",
        "outputId": "b3442e7f-4109-4a35-877e-130f87666caa"
      },
      "execution_count": null,
      "outputs": [
        {
          "output_type": "execute_result",
          "data": {
            "text/plain": [
              "6.666666666666666e+17"
            ]
          },
          "metadata": {},
          "execution_count": 14
        }
      ]
    },
    {
      "cell_type": "code",
      "source": [
        "3*x"
      ],
      "metadata": {
        "colab": {
          "base_uri": "https://localhost:8080/"
        },
        "id": "JBwli_djlIN1",
        "outputId": "46c2d77e-7299-4b10-963e-1efcb8d742c8"
      },
      "execution_count": null,
      "outputs": [
        {
          "output_type": "execute_result",
          "data": {
            "text/plain": [
              "2.0"
            ]
          },
          "metadata": {},
          "execution_count": 15
        }
      ]
    },
    {
      "cell_type": "code",
      "source": [
        "1000000000000000000000000000000000000000+1"
      ],
      "metadata": {
        "colab": {
          "base_uri": "https://localhost:8080/"
        },
        "id": "ifa3xHUcjhQF",
        "outputId": "b1c12a22-6495-4962-918c-28414af3a22f"
      },
      "execution_count": null,
      "outputs": [
        {
          "output_type": "execute_result",
          "data": {
            "text/plain": [
              "1000000000000000000000000000000000000001"
            ]
          },
          "metadata": {},
          "execution_count": 16
        }
      ]
    },
    {
      "cell_type": "code",
      "source": [
        "1e17- 1e16"
      ],
      "metadata": {
        "colab": {
          "base_uri": "https://localhost:8080/"
        },
        "id": "5eyz5JlnlEo1",
        "outputId": "1a07ebc5-aa0f-4344-9a8b-b72db16a8e23"
      },
      "execution_count": null,
      "outputs": [
        {
          "output_type": "execute_result",
          "data": {
            "text/plain": [
              "9e+16"
            ]
          },
          "metadata": {},
          "execution_count": 17
        }
      ]
    },
    {
      "cell_type": "code",
      "source": [
        "(1e20 +1) - 1e20"
      ],
      "metadata": {
        "colab": {
          "base_uri": "https://localhost:8080/"
        },
        "id": "o94mUhfumRpm",
        "outputId": "f0a10f4c-aa3b-4c49-8267-65be9b7c26ac"
      },
      "execution_count": null,
      "outputs": [
        {
          "output_type": "execute_result",
          "data": {
            "text/plain": [
              "0.0"
            ]
          },
          "metadata": {},
          "execution_count": 18
        }
      ]
    },
    {
      "cell_type": "markdown",
      "source": [
        "$$ x* 10^{17} -  x * 10^{16}  = $$\n",
        "\n",
        "$$  x [10^{17}-10^{16}] = 59999999999999994 $$\n",
        "\n",
        "  $$ x = \\frac{59999999999999994}{90000000000000000}\n",
        " $$"
      ],
      "metadata": {
        "id": "cbgKl7qgkJDT"
      }
    },
    {
      "cell_type": "code",
      "source": [
        "59999999999999994/9e+16"
      ],
      "metadata": {
        "colab": {
          "base_uri": "https://localhost:8080/"
        },
        "id": "lGfIoAUXlTdc",
        "outputId": "386fc82c-fd72-4432-aa41-f61fb21cd0dc"
      },
      "execution_count": null,
      "outputs": [
        {
          "output_type": "execute_result",
          "data": {
            "text/plain": [
              "0.6666666666666666"
            ]
          },
          "metadata": {},
          "execution_count": 19
        }
      ]
    },
    {
      "cell_type": "markdown",
      "source": [
        "## Significant Digits Accuracy\n",
        "\n",
        "http://www.math.pitt.edu/~trenchea/math1070/MATH1070_2_Error_and_Computer_Arithmetic.pdf\n",
        "\n",
        "The number of significant digits in $x_A$ is number of its leading digits\n",
        "that are correct relative to the corresponding digits in the true value $x_T$.\n",
        "More precisely, if $x_T$ and $x_A$ are written in decimal form; compute the error\n",
        "\\begin{array}{cllllll}\n",
        " x_T &= &0\\ . &a_1 &a_2 &a_3 &\\dots &a_m &a_{m+1} &a_{m+2}\\\\\n",
        "|x_T − x_A| &=  &0\\ .  &0 &0  &0 &\\dots &0 &b_{m+1} &b_{m+2}\n",
        "\\end{array}\n",
        "\n",
        "If the error is $≤ 5$ units in the $(m + 1)th$ digit of $x_T$ , counting\n",
        "rightward from the first nonzero digit, then we say that $x_A$ has, at\n",
        "least, $m$ significant digits of accuracy relative to  $x_T$ ."
      ],
      "metadata": {
        "id": "KZXoHe4PLxZC"
      }
    },
    {
      "cell_type": "markdown",
      "metadata": {
        "id": "ffHjoLc7iasp"
      },
      "source": [
        "## SpecialFloating-point numbers"
      ]
    },
    {
      "cell_type": "code",
      "metadata": {
        "id": "UexbjlOy2Mx_"
      },
      "source": [
        "import math"
      ],
      "execution_count": null,
      "outputs": []
    },
    {
      "cell_type": "code",
      "metadata": {
        "colab": {
          "base_uri": "https://localhost:8080/"
        },
        "id": "DPv2ZKrQ2Wy_",
        "outputId": "a60fca20-be58-483d-8506-e6be2cd6b4f8"
      },
      "source": [
        "math.nan + 1"
      ],
      "execution_count": null,
      "outputs": [
        {
          "output_type": "execute_result",
          "data": {
            "text/plain": [
              "nan"
            ]
          },
          "metadata": {},
          "execution_count": 25
        }
      ]
    },
    {
      "cell_type": "code",
      "metadata": {
        "colab": {
          "base_uri": "https://localhost:8080/"
        },
        "id": "FABgIsD02dzu",
        "outputId": "c43ada83-2d74-41d0-b921-c98763580f9f"
      },
      "source": [
        "math.inf +1"
      ],
      "execution_count": null,
      "outputs": [
        {
          "output_type": "execute_result",
          "data": {
            "text/plain": [
              "inf"
            ]
          },
          "metadata": {},
          "execution_count": 26
        }
      ]
    },
    {
      "cell_type": "code",
      "metadata": {
        "id": "v1p2jjv92ih3",
        "colab": {
          "base_uri": "https://localhost:8080/"
        },
        "outputId": "b798bcbf-2dcd-48eb-ab7f-9f3b9862dcef"
      },
      "source": [
        "- math.inf + 1e6"
      ],
      "execution_count": null,
      "outputs": [
        {
          "output_type": "execute_result",
          "data": {
            "text/plain": [
              "-inf"
            ]
          },
          "metadata": {},
          "execution_count": 27
        }
      ]
    },
    {
      "cell_type": "code",
      "source": [
        "1*0"
      ],
      "metadata": {
        "colab": {
          "base_uri": "https://localhost:8080/"
        },
        "id": "Y-zsRuuEns6T",
        "outputId": "2ea99f5f-a0bb-44a2-94a8-bf174e989ee1"
      },
      "execution_count": null,
      "outputs": [
        {
          "output_type": "execute_result",
          "data": {
            "text/plain": [
              "0"
            ]
          },
          "metadata": {},
          "execution_count": 28
        }
      ]
    },
    {
      "cell_type": "code",
      "metadata": {
        "colab": {
          "base_uri": "https://localhost:8080/"
        },
        "id": "hHvLy-MkDYIQ",
        "outputId": "b832b179-94ce-4d9a-ab4f-b1540e0c6a3b"
      },
      "source": [
        "1.0*0"
      ],
      "execution_count": null,
      "outputs": [
        {
          "output_type": "execute_result",
          "data": {
            "text/plain": [
              "0.0"
            ]
          },
          "metadata": {},
          "execution_count": 29
        }
      ]
    },
    {
      "cell_type": "code",
      "metadata": {
        "colab": {
          "base_uri": "https://localhost:8080/",
          "height": 167
        },
        "id": "VaDa7XiPDb7f",
        "outputId": "ccf8f88c-9a5b-4165-f289-83cedffd34b2"
      },
      "source": [
        "1/0"
      ],
      "execution_count": null,
      "outputs": [
        {
          "output_type": "error",
          "ename": "ZeroDivisionError",
          "evalue": "ignored",
          "traceback": [
            "\u001b[0;31m---------------------------------------------------------------------------\u001b[0m",
            "\u001b[0;31mZeroDivisionError\u001b[0m                         Traceback (most recent call last)",
            "\u001b[0;32m<ipython-input-30-9e1622b385b6>\u001b[0m in \u001b[0;36m<module>\u001b[0;34m()\u001b[0m\n\u001b[0;32m----> 1\u001b[0;31m \u001b[0;36m1\u001b[0m\u001b[0;34m/\u001b[0m\u001b[0;36m0\u001b[0m\u001b[0;34m\u001b[0m\u001b[0;34m\u001b[0m\u001b[0m\n\u001b[0m",
            "\u001b[0;31mZeroDivisionError\u001b[0m: division by zero"
          ]
        }
      ]
    },
    {
      "cell_type": "code",
      "source": [
        "y=0\n",
        "x=0\n",
        "x/y"
      ],
      "metadata": {
        "colab": {
          "base_uri": "https://localhost:8080/",
          "height": 201
        },
        "id": "x_ZS-GCkn3eD",
        "outputId": "491d1f70-e8ad-401a-aa84-8e85571ed711"
      },
      "execution_count": null,
      "outputs": [
        {
          "output_type": "error",
          "ename": "ZeroDivisionError",
          "evalue": "ignored",
          "traceback": [
            "\u001b[0;31m---------------------------------------------------------------------------\u001b[0m",
            "\u001b[0;31mZeroDivisionError\u001b[0m                         Traceback (most recent call last)",
            "\u001b[0;32m<ipython-input-31-7ad23722b6e2>\u001b[0m in \u001b[0;36m<module>\u001b[0;34m()\u001b[0m\n\u001b[1;32m      1\u001b[0m \u001b[0my\u001b[0m\u001b[0;34m=\u001b[0m\u001b[0;36m0\u001b[0m\u001b[0;34m\u001b[0m\u001b[0;34m\u001b[0m\u001b[0m\n\u001b[1;32m      2\u001b[0m \u001b[0mx\u001b[0m\u001b[0;34m=\u001b[0m\u001b[0;36m0\u001b[0m\u001b[0;34m\u001b[0m\u001b[0;34m\u001b[0m\u001b[0m\n\u001b[0;32m----> 3\u001b[0;31m \u001b[0mx\u001b[0m\u001b[0;34m/\u001b[0m\u001b[0my\u001b[0m\u001b[0;34m\u001b[0m\u001b[0;34m\u001b[0m\u001b[0m\n\u001b[0m",
            "\u001b[0;31mZeroDivisionError\u001b[0m: division by zero"
          ]
        }
      ]
    },
    {
      "cell_type": "code",
      "metadata": {
        "colab": {
          "base_uri": "https://localhost:8080/",
          "height": 201
        },
        "id": "EZm3G65mkbgA",
        "outputId": "1af21ba1-e68f-4865-c0ad-73439e6d3963"
      },
      "source": [
        "y=0.0\n",
        "x=1.0\n",
        "x/y"
      ],
      "execution_count": null,
      "outputs": [
        {
          "output_type": "error",
          "ename": "ZeroDivisionError",
          "evalue": "ignored",
          "traceback": [
            "\u001b[0;31m---------------------------------------------------------------------------\u001b[0m",
            "\u001b[0;31mZeroDivisionError\u001b[0m                         Traceback (most recent call last)",
            "\u001b[0;32m<ipython-input-32-5a2900273da1>\u001b[0m in \u001b[0;36m<module>\u001b[0;34m()\u001b[0m\n\u001b[1;32m      1\u001b[0m \u001b[0my\u001b[0m\u001b[0;34m=\u001b[0m\u001b[0;36m0.0\u001b[0m\u001b[0;34m\u001b[0m\u001b[0;34m\u001b[0m\u001b[0m\n\u001b[1;32m      2\u001b[0m \u001b[0mx\u001b[0m\u001b[0;34m=\u001b[0m\u001b[0;36m1.0\u001b[0m\u001b[0;34m\u001b[0m\u001b[0;34m\u001b[0m\u001b[0m\n\u001b[0;32m----> 3\u001b[0;31m \u001b[0mx\u001b[0m\u001b[0;34m/\u001b[0m\u001b[0my\u001b[0m\u001b[0;34m\u001b[0m\u001b[0;34m\u001b[0m\u001b[0m\n\u001b[0m",
            "\u001b[0;31mZeroDivisionError\u001b[0m: float division by zero"
          ]
        }
      ]
    },
    {
      "cell_type": "code",
      "metadata": {
        "colab": {
          "base_uri": "https://localhost:8080/"
        },
        "id": "mlmVn7UbkmsA",
        "outputId": "faf8ab90-6a89-422b-cd21-c85e0ef022cb"
      },
      "source": [
        "type(x)"
      ],
      "execution_count": null,
      "outputs": [
        {
          "output_type": "execute_result",
          "data": {
            "text/plain": [
              "float"
            ]
          },
          "metadata": {},
          "execution_count": 33
        }
      ]
    },
    {
      "cell_type": "code",
      "metadata": {
        "colab": {
          "base_uri": "https://localhost:8080/"
        },
        "id": "ht33OZP_krQg",
        "outputId": "5843827f-4072-449b-992c-690a7614835a"
      },
      "source": [
        "type(y)"
      ],
      "execution_count": null,
      "outputs": [
        {
          "output_type": "execute_result",
          "data": {
            "text/plain": [
              "float"
            ]
          },
          "metadata": {},
          "execution_count": 34
        }
      ]
    },
    {
      "cell_type": "markdown",
      "source": [
        "## Understanding Data Types in Python \n",
        "https://jakevdp.github.io/PythonDataScienceHandbook/02.01-understanding-data-types.html\n",
        "\n",
        "\n",
        "![image.png](data:image/png;base64,iVBORw0KGgoAAAANSUhEUgAAAmQAAAI4CAYAAADEXfUwAAAgAElEQVR4nOzdf2gbZ7rw/W9e8oICWZBLyyvzpjlVaGElEojcNk8kmhcioz1YIQuR6pRatNAoSWmdtk9jN7CxT//Iyi0ntd1tG3dJE7XQIoU2sXPYEpk9JjJsgtSTGk1gg9WHmsib5iAdEqKBBjywhnn/0E/Lkn/Fiezk+oBJrJm572vuuWfm0j0/vEbXdR0hhBBCCFE3/1e9AxBCCCGEeNRJQiaEEEIIUWeSkAkhhBBC1JkkZEIIIYQQdSYJmRBCCCFEnUlCJoQQQghRZ5KQCSGEEELUmSRkQgghhBB1JgmZEEIIIUSdSUImhBBCCFFnkpAJIYQQQtSZJGRCCCGEEHUmCZkQQgghRJ1JQiaEEEIIUWeSkAkhhBBC1JkkZEIIIYQQdSYJmRBCCCFEnUlCJoQQQghRZ5KQCSGEEELUmSRkQgghhBB1JgmZEEIIIUSdSUImhBBCCFFnkpAJIYQQQtSZJGRCCCGEEHUmCZkQQgghRJ1JQiaEEEIIUWeSkAkhhBBC1JkkZEIIIYQQdSYJmRBCCCFEnUlCJoQQQghRZ5KQCSGEEELUmSRkQgghhBB1JgmZEEIIIUSdSUIm7r+7cfr2NuM9EiF1TwWlGHqzmeZ9Ayh3lyk2IYQQYgVYW+8AqhoboPnoUPFX49N2nDt24W21Y1pwxBqZsRjjvzbStNOCcSlx3E4S/Xuahmcc2DYYllJCHWSIHPbRd63wuxmby45zjxf300tqhXv3U5Tes1EymPAddmM2LWQhleRogvRvrDieM2EAyCgM/jlKlHEib7Zje+7+hi2EEEI8KGt0XdfrHcQsP/Swxt49+/Pt7Vw4cwL3UwspRKGnsYnuTICY3oV9CWFkzvpo3BvGE04z+PKCsogVIEN4byO+s5Wfm3D3Rxh818aDTy01Uj/ESK1vwrl5gUlhZghfo5dwa4j0d20UWl+9FiVx14xju7kO6yGEEELcHytzhKwgfzI23lYIHXaz/5sBdh1zkv3Skx/xUkmNRoiMpdEwYm7x4tlszI1s/RglkQFIkRiNMlUcaamxzAy50bXoj8lcLckY0VEjjVuaMPyUIPVPaNzixPJ4bm71pyiJNDQ848SCQuznLI1bnDRMhBm8lIYNTnwv22aO0mXihM/GSGtGLPdp9CoQ1+l6TiM1EsDn7iFy2M/AzgQdWwtzqKSGBxm6pmLY4Jg1Apn5IRe/xuwYtZtxhs7HSGsGGnd4adtuAi2DEh8n29iE05Qlcn6I5Ho3HbsbUKeAqTQqRozlo19PTxE9P0TythFLqw/3Uwa0mwqx0RhJAHWc2GgUY2MTzt9C+lYublUDUyEjK7ZlWSzFOEvbw3w3QuhsEvVxC55WN+b1y97kQgghxNLoK1E8oAM6rSE9Xfjs59O6G3Ro0wfTuq5PxfTAZnLzFX9Mett36dLy5T+tIT091zIzpPVQa+V86IG4rieO23RAd35xPT/vdf20Cx08eugXXU+HPTqgm582z1jW9MpgcV2u/6Vdt1fGEL6uL49S7IF44bMp/eIfTLk4PkjkPvo1offuNs1cx+0BPfZrbnLiU6dumhGjXe/9MR9/uG3mNFObPviLruu/hHQP6LwV0APbKdVX+JyAHtN1XddjegB0TGbdbJpZR+DHqWIbzvg5Fistl29rXdf169/5dXPFvPa3LuiF1iyU5W71zJjP9MYFPbtMLS6EEELcq9WTkBVPxqVEIx3p1U9ExvV0NquPf51PElyn9ev/nNKzfz+dTwK69AvZrJ7NTs29TEUIU9msfuEPufo8X4zr2WxWn/qnXkoMC8sUko3XBvWsXkoA2N6uh5S0nlZO5OOw6b2Kruu3LujtplwSE/p5StezsVzyYiokK/eqWkJWFle+TRP99lzycuyinv2nrl/Pt4UnnNZ1PaH3bs0lPqdTuq5PpfWLkYQ+peu6rvTmk0m73hW5rmez1/WYkt9KxcQL3bQ7oA9GL+qJX6ZqJ2SYdPcHF/Xr2ev6hfdyiS5vXNCzU1k9G+nK/b7ntD6ezerZX8uXyydkhbYsxJK6oHdtz5Xb/pfszPU2tekn4tf163/p0G3lib0QQgixAqzqpyxNLR34zGmi3/QycFbJfTiSIbPWgNG4Lj/XOhqMRoxGw9zLVJRtMBppKBSxvgGj0YhhLfC0F/9rwEiY6ASoSowhwL/bOfOSpNtH21YTpq1evK0ACrFkBk2JMpABbA2kzw/QdypGugHIJEjdXOYGqilFYjgO2DBPKQQ/7mMoCY3A0EQKMGPZYQKG6N7to+d8Cqsrd+9Z6scIcYD3AnS3mDEazdi3Vt5f52fgyy48O53zPAzhwPeKE7PRjNvjzX30Z4WkwYix0Phr89uvyuXFYlu6/PhbzBifcuN/0wNkGLiUQCuf+c1DtG83Y97tJVeThja9uFYTQggh7peVfQ9Zudvp/CsTPJg3AKQY2teM96sU5u1+PDttNH6fnJVYzbSUZSoZce72w1dBIj+mMCsDgB/3joXdA6bezr/4YXiAzuFFVXxP0jfz9W4xYyJDZgRAIfyhQnjW3EbcH0QJGTrp/ihMd1uY7vf9DI6epjETzc3ym3Vz3FRvpvHx5V+HSsW2NK6jmH4XenRGRb3/IQghhBDLYpWMkKnE/9xLEKDFjX0DMBam/asU7AlxMX6a3jd3YZ6vmKUsU4WxpY0uEwyN9DH0DfCaG2fNBCRN+mcAE01mE6ZnmnJPDLac5nruknH+Z5C2DUsIZiEmw/T2K4CJrhdsgBnLK7mYOv5zqiwGHf3f8s+jGiy0Hb/A9ak0F96zwUSQ0KUM5t+25aZfSuRuul8majqfXLWaF7xNTBYHNoBL44xrABrjf48BYLOZWS3PxQohhBAre4TsUgDf74Kk/x4lmQFMTnqP+WaesOMhBj4aRx0OMlT++eOm/HwnCBw24NzppqNxnmUqmExOIMrQp91037Sz6zU/9scBgxPvYRs9RwYYANr3OGe/5+x9H95f2zFPDtB3FdjeiXs7QBuBlm72D++neW+S9ucb4VaMpG2A08v8ao3gu81ESRH9IZfsmF8b4NBOA2DC/UoHpm/66Ht1F+oBN5bfZEn+uA7/113YDSnCbQ6Cxk78e8ykfkoD0LjegGmnnw5TmL6RQ+xyJ2l7DpTLRrr/EljCq0WG6Hh1P+MvQPxUEDDR/oo7l0g9bsIJRM+eoPv9NHa3H//2isW3euhs7cR3tof9r2q0P5Vi4KMM4KFzj23pDSeEEEI8aHW9g62Wyqckn7brnjdO6Bdn3IR9XR98rfAko1n3HD+td7nKbxyveALPdVq/voBlZvg1pgd2lp5E7PjPqdK0n0/rTtChXb9Q9rhe8SbyFo/ueTp/g/vODv1CqqzcbEI/8bKl9KSiyaK39ceW6am/yidETbplp18PDI3PKv/6UIfufro0r7mlQx/8eUrXfx3XQ++5y55KNOnOd0tPLk4lQ3pHWbuYNrfpp/+uV7l5P6/mTf023d1aeJrTrHs+zT84kKtFj31Q9qTnexf1qSpPWerZhH6i1TwjlhNKqZTi9jhWiKhKGUIIIUSdrcwXwy6CpqpoBiPGWjc0abl3VhnW52/KX8gy1erAUHwwAEAb6cT8uz74w0VSHziL91NlznhpbBuCYzH0f7OhqsxYrmpsRmNdX3KqqSra2io3zk9rqHc1qNFW1dplYeL0rHHQjYfQL4O0GVXUtTW2x10VdXoBbXRXRZ1eSixCCCFE/a3sS5YLMO+JukoysdgEaMb8aoROT4Ch0TgZPIQOOucoy4Bxrnv9F5EU3k8122Pt3AnOsiWS6421/7TVXNOWMp8QQgixAq36hOyBm0gSu6Vibm2n60iAtso/47TejNPlZEVkWiuWAaPLiRMzRumBQgghxAr9W5ZCCCGEEI+QVfLaCyGEEEKIh5ckZEIIIYQQdSYJmRBCCCFEnUlCJoQQQghRZ5KQCSGEEELUmSRkQgghhBB1tuLeApXNZusdwqI0NDTUOwQhhBBCrHIyQiaEEEIIUWeSkAkhhBBC1JkkZGIJVOJf9RH8Qa1P9RNB9n8UR6tP7SuC+kOQvq/i3MsWUL8/ROf3ddqGS6HGCX4UJF7vkCci9H0UIVXnMIQQD5cVdw+ZuHfKZ810fl/2wQYbba904t9pWqYaNFLDnUQMPvzbl6nIBVOJ9EewH/ZjyETofLUPpep8Hnr/sx3bA45ucTJEDvvou1bx8eYOQv1u5tpaWipC5/A6fK/Zl1y70eWjwRNE2d2xyHbSyIwlYbMN04P8k613U0SORFj3sh97Pf+S/G2FziPgeM+NeQmLazcVkliwbZC/dyuEKFkVCdmdv3bx0g0fIwesy1ru+CkX73yX+/+LH4/w+uZlLb5uNDVK9LkLZI84AMj+FKJ7jw3lyyQnWup5JlsGNyMENR/BpwGcdH+XW0fivTS44UK2k9wnBlbDmqo3oxhbxwm2NpZ9+oBiN9hxuzoYHG3HtnMxyUGaC0cDrPtykLYN9y26h1Z6uJPA+hCDLy/XFyQhxMNgVSRk94v1wAgjB+4w3PUSN+odzHJb14DRmDutG7e303l4gKaxJCdaykZUbieJ/z3NFA1Yd9gwVfaG+aZXKsy/rpGm5ywYy+bXbirEfs4CDVjtZSMr0xrqXTAaDWSuRhnPQoPFia3GuSpzaRBcA/mExYDRmC+oYV3uH6NxRjKjqSoYjWgTcRK/GLDusGG8q8J6I4ZCfGUxlBbMoMTHyVbGW4X6U5xEegoarDi3zgy8Wv2z2nF9aVvVLLtKm86adyJO4pdcHI6tJspDLpSzrrEJ+29Lddl2evGHY3TvdFJ1FTMK0WS2rH4NVU2SGgGzqqKuB4PRmF9WI3M1xngW1j3ZhP3psnUqtrFG6ocEKUOprWrFlpuYIq6kmFpnpmm+/KW4zaDhGcfMEajpDMqlcbKso3GLHcvjNYqo1U+rz11c3/I+q6kV/QvgroqKEcO0SjIVBXMWVTWAwUix282x/wghHn5yD9kjIUXyxyT+zZbiJ+pIN44thwiOKijDARyW/QxNsuDpldTRbhz2bgbHFJShbpp29KBoABrRo1aaDgaJjilEz3Ri21mYBoz10bAvQM8+B+1hheiZHtw2H0M3q9WiMa7EaHpmoSMLcfoa/ATP9OB7O0R0LM3U2gxDBxvoGyubbayPhoY+4oVaJoL4tvgYGFVQRgfwbakVj0r0qAPLm7l1i3zgYNO+obJ7i6rVv8DQSRL8vRXHsUGUMYVI/y4s+4bI1Jg7c9ZH08EgSVUlFW7H+WYkf39ZLsam93PlDL7fhONDpXT/3W9tOEcUklXK1MZ6cOwIEM+oZC714fUMkPxHlMDeAGFi9L3txbs3QDQD3E0SfNWM44MIyliU4MEmmj8su89vrI+Gg0HCf/Rx6OsoSnpq3ti0H3potjTTO6ygRPrwvdxNrMb6ayPdWJ/35/rraJjO5530jOVL0hR6djgIXM6gZmL07d3FwLXKOxDn6aezXKDb7aV7SEEZHsDb6KDnh9zMyVNOdn1VfoeZytDbFnp//AfRY14CZyH26SG8e70ERnJbtPb+I4R4ZOgrzJ07d2b9TJx5Q3/jzGU99Maz+rPPPqs/++wbeuj/lKZf/vfC58/qzz77oX65fPm/fVg27Vn9w79Vlj+hh96o9vnCflai2DF0Wtr13uO9eu+/tevuzTbdfeyini3McOuC3m6y671KaZnrX3t0Wk7r1xcyXU/roVZ0TzhdVp5HD6VK8yeO24rTp7JZvawk/bQLveM/p3K/xgM6ePTTxWWz+uBrZWXPkNZDrR499EuVSfGADgE9NrMl9ADopvcu6lMzykAPxGstm9B7t9v0rkulJbJDft10bGbJuq7r2b+066btvXqibN1CrejuL6/PUX/l+qA7/21Qvxi9mP9J6On8zDPabeqi3oFTP/1zfsmwR6c1pKfLyumKzq4h+5d23dQa0q8XP0novVvL2zChB0zt+oXs7GVjx8rXZcYUPcDM7ZDot+umNy6U+tivMb1rq0nvipZvZ1Npu88bW0Lv3Y7u+bqs/tRp3UON7T+V1bP/LP16/QunTqHd4wGd3af1amsys4g5+mm5eEAHvz54q7w+d2n/UHp129ayfnFrUPebuvSL+aJixyr69zz7jxDi0bBqRsiu9L7DjZdHGBkZ4dtO6P+PcSB/HxifMDJSmHaDd7qGuQNw7SSud+GT/LSR8GFuvNvF8K26rsqDscGC7Tkbtp0eOo63Yxndjzc/YqEpUQa2+PFsLc1ubm2nYzhCfHL+6ZU0JcqAy4vdqKKquR/zb50MTeRGCQxGI0xrpK5GGfoqSPQWpG6XPyrXhPWpwv+NNNa8UzpN6tLim+KQp8bluGomEkRUL87NWnFdMNto+nuqYnRKI3FpAOs+T9kN8WY8BzqIfB+f8QTefPVnJxMoY0r+J0EqPzJiMBpBU0n+ECF8aogkUTK3q5VgwmK3E/xjJ8EfMmVPn+ZidO6206AWto0Zi2uIVHHErxHzjjTq3dmlWra2k/igk77hJOr0HCtAisRwHN8eZ+ly8Xo7/jet9IyWP3JxCK+r0BLzxDaRIPJDB+2tZZ1h7braIRiMGNeCNqkQPR8keCkLk5ncKOHTNtp/7KHzowjJqu1XKGK+flrOTGPZZU/zTg/O4WRu22310N4YIno1N02NR7nwmhNHjU4w3/4jhHg0rJ67FPZ+Urzp/rGmF9j2t39wBxP/mNzG4f9dutn/saYX2NZ7I3fy/O8bbOvsoDj1if/FC9v6ufE/wBMPNvwH7skmnDtL94s5n29g/xMniLxmx3E7BcYmZpzeDOtoIEbqNqjzTOcpZlBvp+CmSvhUuizxaKQ3f49Q6vtO9h9NYTvsw2v34vy+h8gSV8twv++Dvp0hSgLbqeCMpzedLeaKpEolMwlG28wkwfCbBoinFvU6CnPLITpm3eCtoXzmw3e+Af8BD87dbmxvD9Qsw/ZuDMUeJvipE/MrFjq/CtLxgkZmEjJqmGCmLPonerHVuIeqnHH3CZKWCKH+Tpr2aXj6TxB42VIlucyQGYGGYzOnrFtvhMk0GajyxKg6d2y3M0RpILDQTHoyQue+TlLPdeDzOPDuiNAzkp/2uJsTyYtEvumj0+5H293HiWNtWNbPLOKe+qlhHUbSqCpgMuM90ITluyjtW5uIDQ9y6NUTNZPy+fYfIcSjYfUkZOLerDdiREObBpO5CdPPadKUnShvpkjgxLcBTNNzT69kMjdhWmui7T3/7NcAqBH6fq/SfmsQz+MAGVJL7nWNND6z1GVnmqo14rPBjOenLO63OnDOmQyYMG8xkbo5o5XIpBLg8tFYe8GFuTqA/0sHIaXwSor4vMmBaXsbXdvbaB/rw/d8N5bsCcxbTGBqo+NArWHHFKmzFpzfVZ9qfNpN++du2t8f4pDNx4AlQcfWyrnMmFshmlah7JGK1EQMk6W7xus7THPHttaMhxjZmUXWoBI5vgv1rSyDe3IzZyoHl4xm3G+dwP1GN0Nv2/CdspB4t+xlH/faT2+miJmsdOdX1tjShv9IlNhhiJ4/hPfz2ovOuf8IIR4Zq+aSZbnx/+iH/+9/8RiP8S9PXSlevixMu7J3B1bgsf93I1d6z1Kceu0s/VdeZMdD8nqLBdMyRI5109fixr4B2O6m09BL7zeFs5ZK/KsTxN7w4TQtYDpgKE9Wtrvp/LWb7m/KzoKqmhsluquSxlCafzJG7OelrogJiy3G+BwPF8zPgPFxiFzKj3/dTRL8IlhKGja48b8RovujspeuTqtVL+nZd3di6O8lXIhHjRP8NEZ7q3POd4gtiKahPGEojpioY7GZN7SvnfEMJcposhivcYO5mBDad3cy9X53KUZALb8Ml0kz7jJXjTd5OUqmkLg+bqaxOJMBTCnSxct/JtyvtHPh+EDppa2TYU58bqazpfYbzuaM7Sk77pYBAp8VHgxQSQ5fqHFTv4Z6GwyFTjadInaprC/+FM89eACw1oT5ySrp8qL7aaLUD6dTBPu7MR9xly5fG5x4D0YZOjZE7LCb8rfFGdYWEvm8ufYfIcQjY/UkZN+9g8vlwuXK3TPW86+PAWA98C2HJ8umTR7m28L7yja/nrunLD/N9e4NDodfz1/CvMNwlwuX6yX6r8C5d3PznKx8Sedq9b6DNWvW5H62eBha18l4uPAN3EbHmSCNXzlo3NKM45kGfCk/0ePu/GDEfNNNWJ63M/R+N5FM2fxnmmnc0kyz08qmHZ1EJoENHjo/SOK3OWh2Otj1qYZj99Jf12p5zkfkx+qvgl0YI859vTR82kTjFivW3wdp3BfIv7ssN919PIIv6cfyjIPm3znYZPERvFrlkbetHYS+aCRob8TqdLCpwUfqYJTe3cvwFrHtbQxu6MO5pZlmuwP/qBn3a6XJJosD+9luur/PAFnSw500PeOg+XfNWHcMYPxLB25jKcaQqxGrs5nmLZtwHCm9ZV77e4xkS1OVkRkNTQnitFhp/l0zDouXxL4g7VsBbLiPNtDbYqXZuYuBq2Dc3UukLYGvYRMOp5VGexDz15Eqo2mz2696bGb8nw9i/dqBeUszji1egusdeKsWZMJzOEBynxXH75px/H4AzV5KjjQtQdC1KVeHfRNexU/wQEUfXGw/bW1C+7QZq70Z65MOwhsuEHp35vw2l5fYZzG8rorPW7pp6HdjdTaz6zOFOfcfIcQjY42u63q9gyiXzWbrHcKiNDQ01DuEe6KpKtpaI8b1i59eeMeWoXL+8veDLbCehQccpXungje+2LfLV6j27rFKd1XU6dnrUiUoVFXDUPnuqWWgqSpa+buqKuNbWzZtWkO9WyuOXIwz3nuFRvToLpJtF2mvOWpcbbmy+qnYpoUYKvrFPGtZuw5qvNerajEqqlZ7e9Xqm7PmWUw/rdYGBRNBmltVepUqfbVG/1tIjEKIh5MkZPdotSdkq5HycTODWy8QWNTb5cUsN8N43zcQ/NKzKv6qweqiEn3fSZ95kAuvyZ1hQoj5yU39s4xz0vUO56pO28bhcA8tD/sTmiuc7UAv6R9Vqj27JxZOVY10vu+WZGyZpU55aT4+hKnlAiFJxoQQCyQjZPdIRsiEEDNpqHcN9355XgjxSFk9N/ULIcSqIMmYEGLxVtwImRBCCCHEo0ZGyIQQQggh6kwSMiGEEEKIOpOETAghhBCiziQhE0IIIYSoM0nIhBBCCCHqbMW9GHYlvodM3jUmxOq00o4ncixZHVZav5nPcvarR3nd601GyIQQQggh6kwSMiGEEEKIOpOETFSl/RSmc28zzb87xFDmHgubiND3UYTUQudXU8SvqfdY6aNKI/r+foZu1jsO8fBKEfmoj8hE/tfF7t8LlLkaJ3V3jhnuU71ildEUBvYNoNQ7jmUgCdlDSPmsmebfFX68HPooTHxRSVWK0NsdpHefYPDrAO57/RvetxU6jyiUQlBJjiaplXIlv/HhcC1mB5u7vAerzrFcHaBnug33hnoF8KCoKF8dYteWRtasWUPjFh99l1dGD3j4ZVCOdKLczv86a/9eBncjBGwOuocLpWpkxhQyWtk896NesfoYbHhdUQbOr/79f1UlZOOnXLhcJxmvdyArnKZGiT7XweB3g7mEyhClo9FBzw/a/AsDkCEz4mDXTgtGkxHDsgeYIOgcIlljsuWtKNmfu7AtU3kPVJ1jiX8/iHuvc/m32YqSYWhfE+7zjXR8n2Tqn1Mkz3rJfjqAMm8Xv8NwlwuXy4XL1cXwrQcRr1i09W5O/Jol2Fr4NpjmwtEA0dtzLvVAPMrnoZW67qYWP4ZTg6t+tHRVJWRLM87JR/HAu64Bo9GI0WTB/dZpQmEzJ96oHHXSyFyNEh2Notwsnck0NcsUMKWqqGWXDNSf4kRHo0R/SKJOlxczc77cRyraNLNNa6gTKVJMkVVVVLXKGVTTYLo8nnxZaor4aJToD6nSCNRc5WkZlNEo0dGKb9YV01KqilqxrtxO5uuaua7FWDIK0dE4qfIvZdVimdaqrmOxnOL0sm1R7St/jXhmihP9eheOreUxFdYzTrLiZKbdVHLbs7J9ZsVUtp6Z3DLxiSrfRudq73LTKskfcusa/6myHJXUD7P75IxqRk/QrrQxFO7C+ZQRw1oDxt96CHzXhW3eTPQxWnpGGBn5hBfnm7UeivtSoR0q+lhecV+8WtFZitsuv3x+uqaqaJS2eXH7FfpH+T5VjKWwPWtvi6rxz+rvGmq+/ioLVD0GAfn9o7B8ktRI/phUpawl7TuFts63QdU+vWzmPg/d+WtX/kuCC9ep2elOYfrJa4ups9S2s9Zthax7LsEr/cxYv1vDdLkW+OXJ6MD9VJjoxBzzrAKrKiGzHhhhZOR1rPUOZBUyv3wI/9VeImP5D7QUwVet+D6PooxFGXjViu9sBlAI7g0QJkbf2168XylAkuDvrTiODaKMKUT6d2HZN1S8VJA576fh43hZbXH6GhroG2O2q0G8b/cRI0xgrxfv3uCsS5OZ834aDhbKzzB0sIHOD3vY1dbDhbEIA69swv2hkjso1yhPmwji2+JjYFRBGR3At8VXuq9qMoxvi4/QpIY2GWK/xYH/gyDB0dz3K3W0G4e9m8ExBWWom6YdPfmRl1wsgTNh9u/pJTI6jlqeAFSLZW2S4M5dBMsPFLeHOGTpJTYNjPXRsNfPfreX7iEFZXgAb8VoZu14KkyME7VbMBd+1xR6djgIXM6gZmL07d3FwLVcohU9aqXpYJDomEL0TCe2nWVljvXRsC9Az8FddIQVIn/2samlh6Hz3ew6HEIZDdO9w0LnSFnSPFd7l/spyC6bg8CQgjIWoXe3Jd/v8u37ahP7v0yiqilCh50c+r7yRKERG+7B+qYf+/oq5a8Gk1H63g9W3YaZ834ajvbQ4/bREym1fWlelehRB5Y3c9su8oGDTfuGSiMDY300HAwS/qOPQ19HUdJT5PZHP4EP97PrSAhleKCXAzkAACAASURBVADfM256zg/R7ekgNBYlfNSB5Ui0mOhoI91Yn/cTHFVQRsN0Pu+kZ2wBSdndKJ0N3UTLZ706gLNtkHTlvDWPQTDjGJKJEig/Ju0NEC0mXgmC+xy0hxWiZ3pw22b2u7n2ncx5Pw3Hw4QPeugdjjKuLmxcebnPQ+OnXLz0txf4dmSEkZERRg5UlHztJC/9bSMvbltEoXeTBF814/gggjIWJXiwieYP48Xtu1LWPVde/ufjFzl3Zpg7ANxh+E+XeSGcm/ZtJ/T/qTCtGiMWGyjJVX7ZUl9h7ty5M/vn/4T0N559Vn/22Wf1Z98I6RNl0ybOvKG/cSakf1iY/uyH+uX8tMv/Xvis/Kc0faE/q03sGDrHYhWfpvVQK3rbd2ld13U90W/Xbf8W06cKk28N6n5TQM8tFdMDePTQL6Wlp7LZsl8u6h049dM/50sOeyrqi+kB0APx/K/xgA6FsnVd/yWke8p/r4w07NFpDenpsrht/3ZRL0ag9Oq2OctL6L3bbXrXpeLa6dkhv27Kx5j4wKQ7v7henHb9C6du60/k2+GC3m7y6KFUKZ7EcZvuCaeLsdByWi8tXaHKuiWO23Tb8cTMWP5wMdf28YAOfn3wVmn+61+4S3XMGU+FeGDmdogHdHZXj3XG9tSv66dd6B3/OVVaDo9+ulhnTA+Y0N3HE8X+cv0Lp857+XWYp70ratZndKX/7NBx5WP8JaR76NIv/rPKYkW5bVCMdR619+vL+ofPvqGH/s8cx5pnn9XfODNRnHb535/VPzxT61g0oYfemP9Yo+u6nv6uTQd3cf+ZsXZhj87WLv1isY0Seu/W0r6U/Uu7btreq5d603U91Iru/jK/leMBHUwV7ZPbHz1flnpC7JhJp6VXT/ya/+Dn07qTDv1iYbGprJ4t2w4zt/dc+3dWH3wN3T9U2siJ47ZSfGXmPwaV1VHlmDS7n+bqLu4b8+w76bCn5nZ4cOehy/qHc56TCv00178+/NvCzlGJfrtueuNC6Zj5a0zv2mrSu6JTK2jdZ/5MnHlDf/bfL89Rf/XlCtLftZWO46vU6hghe6KFnnwGXc2V3n74OJdJf7L3HKG/5vLoXPb9CS+yjcPhQiYuI2yQIjGs4t1pQStcrltrxvZ8glSNp/MMRiNoKskfIoRPDZEkSuYB3s9htlgxFn55vLE0ClTNRIKI6sW5OXepRFVVMNto+nuKDKBNZzCWfSFct96Icjf33VFTogy4vNiNanFZ82+dDE2U7k7wvLJr7vor2Pa00xiO5kcCVWIjF/C7HGX3eZlpfLxsXXd6cA4nSWkLi6cg80vFpY6nbbT/2EPnR5FZlysNRiNMa6SuRhn6Kkj0FqRul3+7bML6VCk+8w5w7LAVY1633giTmdxlrnnau6JmjEbQbieJD4cJnk/CSCY33wYLju1Beo4EiS/0EtlyujVMV1vpW/nIyCds7H1pxmWUc72F6d9ymH7O5qeNn3qJ/qc+KS6XO+ZUP9aYWkNMZQfxP10jjmesWIudvZHGZwr/10hcGsC6z1N2f6UZz4EOIt/Hy+6fOYTXNXvEo8lS6rXmpx1gd2ArjDIa1mEkVdqnDUaMa0GbVIieDxK8lC1t7zkZcb/SxYXvo/l5FaLhRjw7KveYxR+Dqivvp0Yay6pZ0L7T6mNXre1Q6X6ch65d4ty2jfyj7NJd119L40Djp97hRmcHLU8stD0g17ZxfHucpWPmejv+N630jJZdj6j3uufWkJP59X6pdyOfVI4O5t1JXObK3h1znrtNT1qLx/HVasW9qX9J9n7C65tz/zVt3MaVGxngsbqGtPKkSF0yYT1iAuJkRiCxNUiw/LLiDjfmqpeBNJTPfPjON+A/4MG5243t7YEHE/ZS3M4QJYHt1MzLoc4WMwbA1hIg/VaQyI5OHMQ48WmawGe5U5x6OwU3VcKn0mUJUyO9W+/hUdOnvfhtFgZH27HZYkTOH8L3+RyXCAzrMJJGVRcXj8FQ8cbqx92cSF4k8k0fnXY/2u4+Thxrw7IeUt93sv9oCtthH167F+f3PUSWun7ztPcMdxUG9vkYMvrx73Hi3m2DPxcm2ui4pOA4G+REixmfpZPQ5x3YHy8vwIDxcVAm07CotHgB/ucGV/b66Cme/Kzs2Auh/74Dm3PHk23Fk+Nj/MtTcLls2kxXuPE/QI0TqcG4lMcuVDKTYLStm1nWbxogXuUesHsxGaFzXyep5zrweRx4d0ToGVnYooadXjoPdzM44cF/N0roGR+RWSf+zCKPQYt3X/bluSz1PHSlnxsvjzByAHIJSh/DTT20/M9J3uETRv71MZjjYt1subZtODazj+W+RKXvz1OpSz4HW3l9ZITXAa6dxOU6ySeVgybXTuaStZGHfyjl4UjIxLy0kUFO4Ce0GcCMuTVJ1tVOR5Vv0rNcHcD/pYOQ0pH/Zh6fffL+5zIHfC82mPH8lMX9VgfOaqv3uBmrZZzU2SBJDDSdiuDZnJvRZG7CtNZE23v+Kqf7pR7KjLhf8dM5EqNzOsrgm15OzDX7zRQxk5Vu03zxVNTyRGOVD8243zqB+41uht624TtlIfFamr7fq7TfGsTzeG69UvdyJJivvcsop/wEnw+ReC8/xvNDRU9aa8L+chf2l9tRPvbR9L6F7Ofu0jd9jDhcfnadipI6MH+bPChW+4vw7ju4vsv9vq3zW3o2L3ctJsxbTKRupoFSUpFJJcDlo8rWXyKVyPFdqG9lGdxjzNexmOVteN6GQ5dSOKcjmPeEmJ0CLfIYtASL2XfqatthWot9xcTGbVe48T93GD5zDq6cK/YpAK64OLftMN/2tMyR7pgxt0I0rULZnpOaiGGydGNi6Uey+2pzK4e39fGPW2AtfJG5dhLXu8xO0qrIpBJ4nmq731HeV6vjkuU9KXTwesdRJ9MaqdEevK8OsevzQ/kTpgn3K+2E3u8jXva1Wr1dY7hX01CeMBS/ZapjMWJlkw3rG+H7KEr+iajkqSDB8iPwWmYekNcaMJAivVyXPCvL2+DG/0aI7o/iZU9jlp6izMQHye7w0/5eBx3vtePZXDposd1N56/ddH9TdgZS1YWPPtRYN8NOL+2jQ3Sfj9G5216xUILxiXzbT6cI9ndjPuLOJb+LiecpC21KqnTp6qd46ebntSbMT+ZP2XdV0hgwFDboZIzYzwtdwSrmae9y2l2FhvXFnoRyqawn3VaIFl8IbKRxQ/UUw7innd7sfnxHI6WnOdUkwYP3+ELc/2cj274LlZ7mujVM6LttvNA03zf9OwyfuVF2SWaEnn+dY5nCTf1zvfS0BvvuTgz9vYQn8x+ocYKfxmhvdVZJepZKQ70NhkIHmU4Ru1SekRlm7tCV+zdg3u2n8WwffefN+FzVIlvkMQgDmBZ5zLjXfXlZ1TgPbd7Bi1cu81/FPvdfXL7yIjs2F54GLvx8y+Ft8OLHI4zMmYzl6nK/0s6F4wOltp0Mc+JzM50tC36Z0DJa4Dn42ln6r2zkX/LJ2J2/di04GQNIT8Ywm5bva0k9rI6E7NrJ3PX1d8/BlX5ecrlwdc31xEW5x2h5+UXOvVu4Rr/y3qFyX7zvYM2aNaz5v634/pzFN5Lg9J7SgdG4u5dI2zh+yyYcv2vG8cwmfF8p1R9N397G4IY+nFuaabY78I+acb9Wmmx0+eltOEHTk1asW3YRNPkJ7Chb/mkbXtMJ/B/nL2iZnPjeiuK1O2i2dxK51yPkrPKMuI9H8CX9WJ5x0Pw7B5ssPoJXc2tnsrth36Zc+6xZQ+OWZpr39RG/DWCj40yQxjPNuc+dVjbt6CQyOWcEc8RSmGDD6YkxEPfi3Dp7MeXzXVjtzVifdBDecIHQu7bicguOx2TDeTdG4UEjTUsQdG3C6mym2b4Jr+IneMAGGzx0fpDEb3PQ7HSw61MNx+57OVDP3d7l7K8MYu53YnU247D7iT7txl+YeDdN5EgTm+y59XT82ciFI+WjYwU2OkbG8d/uxLYutw3XWLxEt7TjnPeFuIV7Vt7hHFfobyt7pP6JFno+3pj/zIWrrZ+NH/cs4P6dx2h5uWy5KvcClVOTEQb+uJ/e4SWMU2ztIPRFI0F7I1ang00NPlIHo/Tunt1KS2fCczhAcp81d2z4/QCa3T3jvjVbq4kTB/pyl6gr92+Ax524TQMMmNw4H59VAbDIYxA23Ecb6G2x0uzcxcDVhazHPe7Lle7LecjK6zP63GVeqHHv4WLk2jaBr2ETDqeVRnsQ89cROqocexbkvqx76f4xl8uF68xGvi0mX+Oc7b0CnOOdBexTkCIx6sX5/Op+A+MaXdf1egdRbiX+pfmH6a/JzzKtod7VMKw3YpjnspWmqmgGI7Vuf9FUFWqVo6mo00aM62fOP1d5i1W1vLsq6rQBY/FDDeVDL4M7Bgls1fLvJdJI9LvxrQuS/oNtZnmUL3tvsaRONeNVe0uX6wB+6GGNHWJ6F/a7Kioz22hWmfPEk/pqFz3GEKf3GOddTlNVtLW161uSWe1dRaHPGWu8dHghZRRoKqpGzf77YI4ndxjueokbL48U76OpdamlcCxJfeMluCFEYOdSO3/ufWML2W+XTFNRtVrbQUNVKU2btX9rRI+sI2zPzuiLVS3iGMQ8+0jtVVncvrwSz0NzqXmOmm9fq2JVrvtEEO+njQQ/rfYFbvWQe8gedWsXfpCab6c2GOfYFQzGWTvKYg4SC1G1vPWV9SpEjhqwpgyw3lCc1rAOzOtnLn0v8c1aVo0S/NxA+9k5RqJmxTpPmVWYd7djODhIak/pvplayy13+wPzrgMwf59bSBkFy5jQL12GG1eAl0uf3PnvG7DthaqXEdVrQXpGvXR9eS+BL+2LwuKqmKttc0/Lzpi3fPJkiIFvumg/toAtuYhj0KL6xozw7kNfXw0W07arlkb8zBCOfRdWdTIGj2xCNs5J1zucqzptG4fDC7lMIVYnO54vwbvbR+LVJhqBtDJI0tRN6D3LfagvRdDTTM95E+6/hGq/6mC5PO6m43AEbeb9vOK+svL6xy/ietdVdkx5kU9Gqt/ro01bCXxhX8Z7vlYQLUr3lv0E71roHB6c9yEPIe7ZtMrUcwHal3o5dgWRS5YL8FBfsnxU3c2QvDZOmkasmy2Y7udb37XcpcH7dmlJ1LTSjiePxLHkroq2fnWPSK20fjOf5exXj/K615ucIsSjab0Jy3YT92NMbBbD6j45CbEoqzwZE6JeVtwImRBCCCHEo2Z1vPZCCCGEEOIhJgmZEEIIIUSdSUImhBBCCFFnkpAJIYQQQtSZJGRCCCGEEHW24l57sRLfgfIwvedELF69+qT0u5yVeEyYy3Jvt9W0/tJnhVg6GSETQgghhKgzSciEEEIIIepMErJH0USEvo8ipO5jFepEnOTtey0lReSjPiITyxHRQ2IiyP6P4mj1jmPBKrbhA+h7oo40hYF9Ayj1jkOIVUgSsoeQ8lkzzZ/NcUi8rdB5RCGzTPVpNxWUm+UpQpLQKw6cp+71sJxBOdKJUiOxm13vEkxG6NnnYNOaNaxZs4ldR8Ik795bkfePSqQ/gn2PfRX9aZqKbbjMfU+sMAYbXleUgfNqvSMRYtVZVQnZ+CkXLtdJxusdyAqnqVGi6oMbQ0kPdxK4VH4AttA+miX1nu0B17s42lgfzfYAadcAsV919F8v0v1klL7hhaYLdxjucuHqGubOkqNYhJsRgpoP79MPorLV4VE+JqzUdTe1+DGcGpRRUCEWaVUlZEszzklXF8O36h1HnWUUoqNRoldrJRsamatRoqPRWaNOmqrmLpFVKUNTVZKpKNzNoqoqhTxQ00CbrqjhZmn5GTVoGZTR6nXXUqteAPWn+DzrCpAi9H4nxuMhTrxsw7QeWG/G/tZpTreaFhTDkl07uaQkLnNpEFwOjIUPNBX1LoBK6oco0dE4qSr5ac32mNZQVa20fH56YXsXtld8Il/odH47/ZBiVjVL2Ial+iuKUtVZfWd51T4m5JKc0s/Ja2UTbw3TVZy22GNKaf8qtmdxUn475tt31vRlNc/x8NrJ0vpX6aN3/to1u10qGR24nwoTlVsNhFiUVZWQWQ+MMDLyOtZ6B7LKpM7uZ5Otk/CoghLuoPlAcOYMWorgq1Z8n0dRxqIMvGrFd7Zw8o7T1+An8OF+HG+HUEbD9LTY8tMzRI95CZyF2KeH8O71EhjJfT50sAH/+UIZGvEPm7G29BIZU4h+7qPpj7n7oLSRbqzP+wmOKiijYTqfd9IzNt8JvVa9KtGjDixvBomOKUQ+cLBp31D1b+oTUcLDHbS3mpfcrvAYLT0jjPS08Ng9lLIwGuNKjKZnSsli5ryfhqM99Lh99EQUIn/2samlB6XYfPO0x1gfDQeDhP/o49DXUZT0FOXbe9eREMrwAL5n3PScH6Lb00FoLEr4qAPLkWgxqV7aNgTWJgnu3EWw/MR9e4hDll5iC0zIlvuYkCsv//Pxi5w7U0hK7jD8p8u8EM5N+7YT+v+0wKT6bpLgq2YcH0RQxqIEDzbR/GHpPsDMeT8Nx8OED3roHY4yri7sgvRyr/udv3bhehc+Kax/Zb++dpKX/raRF7fNV5IRiw2UpFy2FGIxVtx7yKq6NUxXWz9XALYd5tuyA8Wdv3bRxwts7O3nHAAv8kn+IDV+ysU73+VnbHPRXzGdynkqpj0UbkfoeztB29kYgRdyB/qOlm7WOEuzKH/2MfBUiNix/L1JrzWxf0uQeGsXdgCGSJquE/sul7z4bftpOBOlr7UNd/9FGhrW0Pt0iMGXC8nCzJEY9ftOPN/ZGYoHsK8H6CBQmLijk5hixJjviZ4nm9n0XYyO55xz3Cdlqlqv+v0hfKNeIvEOchdLPTTt3cShr65z4bWKxOt2hqjLwuml3ox17SSud3M9jr2fMHKg1Gtq98lxTrreyX8GL7n6qy5fnUpm0oG5cvDu0hT20Qt0GQGcNNqaiFztwrYd1O+752+PswESB1JccBUaIkNhe1/8Q24ex28acZxKkfguhG09sMdM8zMRYsecOA1gWNI2BLDhbMviP6/gz1/eVi9FuPBaGyfm2y738ZhQcOe/b8BTO/LlPkZLT09x2mNNL7Ct9wYZmDcZV0756V4fJPm1Oze6+cYuund4CGxPEdiZX9E/hpj6OUZoIZej51h3bg3T9Sd44al++vPr+eLHI7y+eb51v8N//Q0Oh2sd/8Y5+e4NDoc74E/nuDFPiOuMJmITKeD+3rYgxMNkdSRkT7TQM9KSOwmemT35Sm8/Gz8eYSR/0An9tZWef30s9w3ywDgnXSE2hntoeWLmcuOnXLwzeZhvRx7ECEd9aEqUgS3tXH+h7Ay3bl3ZHCkSwyreP1hKlybXmrE9HyJ1E+wbcnM1WUoJjbFxMaNKGolLA1jfvJ5PxioYjBgBbVIhpiSIXsqClkEFFnfhMF/PvutlpwAzngMd+P4cJ/WamXsZC5tl8+uMjLzOnb928VKVs1P1Pmnl9ZERXr92EteZjTNPpPNKk7rE7HV4xoq1eA2zkcZnyI+ALbQ9DuF1zc5+yre3+WkH4MglYwCGdRhJkbkNbOCetqFtTzuNrVGU92zYUImNXMDfemL+hxbu0zGBGUnzi3wyUj09uZO4zJW9PnqqTi2XIjEcx/ees3Speb0d/5tWNo0qBHbmvvLQ6mPXQu8NnGfdudJP/1OfMDJizc8zTGtPy9zrfuu/uHxlIy8kunD1Xsl9VvZFYfzUO9zo/JbXn4DhBYRoetKK8tPqeRZYiJVgVV2yrGnvJ7y+Ofdf08ZtXLmxkJuyx7n03TYO/++HNxkDUG+nwLiOdTXnyJAZgcRwkOCpwk8UbYcbc7UEavERkJkE4/oaEUxG6HRa8X2eQG104N2x1LSpej2G3zRAvMo9TwYDtpEkqft1zlhSn5ybYVEZ6iLb417cyzZ82ovf1svgqAZqjMj5Q+zauQzPkC65/XNJc+6SJbxT7ab5ayd5qXcjn8w7qgmF/avhNzPXad16I0ym79PTpi+WYvt/NrLtyo0F1nOOy3TkL9l+y+HJd3L3il07yTt8Qs+/PsxHSiHqb3WMkIklMz1pgZ/TpKk1WmHG3Jok62qno8pIyTJEgHmLidTNahGoRI7vQn0ry+Ce3PhBZsmPZlWvJ5NKgMtHY+XsW534trqJXArgvC/rvdxyo18Lt8j2WLJ73YZG3K/46RyJ0TkdZfBNLyeWLbZ7tLmVw9v6+MctsBZGk66dzN9ntdBbG8yYWyGaVqE0RkZqIobJ0o2Jygv89fQivmLS9Rj/8hRc/u/rDP/tHFw5h+u7slmvuDhXebm0TCaVwPNU2wOIWYiHx8MxQjYnExu3XeHG/1R+bmXH3iv0/8dKe2h8mT3npCvTS++Z/FlyOkPkLxfKZjDhfqWd0Pt9xMuGTdTbCx86MqwtnPirs7UcwtDfS3iSYgzxqxlAQ70NBkM+IZpOEbtUfjY3zHnNq7Je++7OmfWocYKfxmhvdVYpxob/mJfQq36CV0srnhnuxveRcn9fvLqoUYsCExZbjPHJ+ecsWFx7LNUit+Ha2ZvUsNNL++gQ3edjdO62L1tktdU6JlS4dpb+Kxv5l3wyVrrpfTH3meb2rwvHB0r712SYE5+b6Wypx/1VNdb9if/FC9vOcan49GTuCsILTZtyD64URg1HvuXwttx9aXM9zJKejGE2LV/aL8SjYHUkZIVHsd89B1f6eanGI9nVPUbLyy9y7t3C4+qlSxDWA7lh+dJj7ivvnT73zOCk+/whMoc3scnejNXWTtLixVM2i3F3L5G2cfyWTTh+14zjmU34vlp4UmJr6aah343V2cyuKi+kNTzXReiLRoL2RqzOZqxPOugdTaNiwnM4QHKfNVfv7wfQ7O4Z9zzZWk2cONBX9c3fs+rd2lFWj4NNDT5SB6P07jZWWRqMu0+Q/NrKUGsDa9asYc2aNTg+0/C22ua9h6nw+P9LvVfgu3wfOrXA3vNEC76953in0O8WuJzlOR+RHxfxst1FtsfSLHIbPm3DazqB/+Py9bDh9MQYiHtxbl1gtfflmDDOybJXXrjObOTbYvI1ztneK0DZdnO56Prr/DXm9q8EvoZNOJxWGu1BzF9H6Fjouj6QdX+Mlv99mBvFz9+Bj6vdY7cQKRKjXpzPr4aRZyFWjjW6ruv1DqJcNputdwizNDQ01DuEZZB755PBaKydbExrqHc1DOuNGBZ7MXtaQ70LRuNcB+F8DJXlayqqZqixrIaqzlFu1Xpr1DNXZKqKRvUY6tUnZ/U7LUr3TgVv8anJhVp8eyzaYrahpqJOGzGW3aOYOtWMV+0lUeVlwivxmDCXmseLwv411z5YxWpa/4aGBpgI4v20keCnbpYz9RfiYbc6RsjEMjBgnO9EsDY/z1JO2mtrnYyrxFBZvsE4x7LzlFu13sWvh8E4VwwrhMGJd28kdwP84hZc+nZdcBWL2IaGmckYapTg5wba9zzkr0hYu4B9cNXTiJ8ZwrFPkjEhFksSMiFWEduBXhzL+4xkHaUIejaxqaEb9dgJ/PInoVa/aZWp5wK0L/VyrBCPMLlkuQAPxyVLsVQr5pLlw0hT0dbOPXq3Eo8Jc1nu7baa1v+R6LNC3Cfy2gshRP0YHvZLeEIIsTArboRMCCGEEOJRI/eQCSGEEELUmSRkQgghhBB1JgmZEEIIIUSdSUImhBBCCFFnkpAJIYQQQtSZvPZCCCHug9X0/rB7Ie8eWx1WW398FPuVjJAJIYQQQtSZJGRCCCGEEHUmCZl4NKlxgh8Fidf4s5DaT2E69zbT/LtDDGWWobqJOMnb91LA3PEuvJwU8Wv38W9hTgTZ/1Gcxf75cyHqK0Xkoz4iE/lfJyL0fRQhtcy1ZK7GSd2dY4b7VK9YHSQhewgpnzXT/Jmy8AVuJ4n+9LD8weoFupsiciRS4+CYIvR2B+ndJxj8OoDbdK+VJQm94sB5ahHbpNKc8S4ikm98OFwD3EMkc1CJ9Eew77E//H8OaTJCzz4Hm9asYc2aTew6EiZ5j9tG1FMG5UgnSuFL022FziMKy/BdrORuhIDNQfdwoVSNzJhCpvzby/2oV6wakpA9hDQ1SlRd+BiFpgRpPpu8jxGtNhkyIw527bRgNC3H31q00D6aJfWebRliu8dI3oqS/bmL+xLJzQhBzYf36ftR+MqhjfXRbA+Qdg0Q+1VH//Ui3U9G6Rt+AKfRaydxuVycvHb/qxLLbL2bE79mCbYWvuGluXA0QPReRs6XxR2Gu1y4uoa5U+9QHnHylOUjQFNVMBoxZBSiySw0WHFuzR8U7qqkJlMwlUVVVVhrxLi+sGAGJT5Olgasdhum8sykbJrZZqYBZiyr/hQnkZ5iXWMT9t8aZ8ay3ojhtkI0qWG22TEby8tVUafLYihfptBbC+uxrpGm5ywYy3vx7STxv6eZqjZNTRFXUkytM9M0x6iXpmaZAqZUFdVYFkuhbBqw7rBhWlu+TK6NtYk4iV8Ms6droBkorsOc22TB8WpkrsYYz0LDMw5sGwyAhqpqGMrbS1NRNQNGoyEXyDSQTzOLbXu3rK7tZowzqpl7WxdkLg2Ca2DGsupEnMQvU9BgxbHVVEpup1WSYwnSU9TuI2q+vYtto5L6IUFqanb7Q+0+N6vVbirEfs5CtX49V98CIEXo/U6Mx69z4mVz/jMz9rdOY69Z4+p1569dvHTDx8gB69ILKe7The23bvZ+X9aX1z3ZhP3psonTGupdMBq13PKGXH8o7EPkt2dxuekMyqVxsnP25fJ9ZgHxF/afsnhVVcNgrPaFrdp+mZ8yTW7/W6uhqklSI2BWVdT1zCorczWaK8PixFa5/9c6zhXa2pBrA62yLZfVOCddITaGe2h5ovzzOwx3vUT/lcLv2zhcPs+tYbra+rlSbdp8ituvSh96oOt+f8gI2UMvTl+Dn8CH+3G8HUIZDdPTYsN3NvdtXvnKy6FPY3A2gHevq+O90gAAIABJREFUF+9XuYtZ2kQQ3xYfA6MKyugAvi0+hm7mi5wM49viIzSpoU2G2G9x4P8gSHA0BahEjzpoen8QZUxh8P0mHB8q+XuKMgwdbCBwJsz+Pb1ERsdRK45mmfN+Gj6OV8TfQN9Y7jdtrAfHjgDxjErmUh9ezwDJ/GCgOtqNw97N4JiCMtRN044elPw07Ycemi3N9A4rKJE+fC93E6vaXgrBvQHCxOh7u9Qe6kg3ji2HCI4qKMMBHJb9DE3ObOPgmR58b4eIjqWZmnEiz623/3xmxvy1tsmC4tVSBF+14vs8ijIWZeBVa355A6mv3JiPRvNtniLocTLwU1n7HhzKXxLJxdX5YQ+72nq4MBZh4JVNuIvba75tPSMgxpUYTc+UzhyZsz6aDgZJqiqpcDvONyOoAD8F2WVzEBhSUMYi9O62lK17WUz7BrhQaJtTEYIHffREFCJ/9tL4+2DZfTZz9bmZMUaPWmk6GCQ6phA904ltZ1kfmaNvFU1ECQ930N5qnlX6A7H5dUZGRnh9c32qr2kySt/7wWJblsuc99NwtIced2H7+djUUmp37iYJvmrG8UEEZSxK8GATzR+W3Yc41kfDwSDhP/o49HUUJT1F+T6060gIZXgA3zNues4P0e3pIDQWJXzUgeVItFiONtKN9Xl/bh8eDdP5vJOesQVcSbgbpbOhm2j5rFcHcLYNkq6ct+Z+CTOOZZkogfLjzN4A0eLunyC4z0F7WCF6pge3rezYy9zHucx5Pw3Hw4QPeugdjjJeeYCt6jFaekYY6WnhsQXMveDyRnI/33ZC/3+M56fdYfhPl3khXDbtTwsbmdN+CuIzOwgMKyijQfY/30zPD6WNsrR1X2F08dCJHUPnWKzwmx4A3fPl9eL07JBfpzWkp/O/p8Oesvl1XdcTeu92m951aWrGMqb8PIkPTLrzi1J5179w6rb+RG6+v7TrptaQfr28rK0ePfSLrut6Wg+1otNyumz6TLNj+f/Zu//QJs/98f9PwTdE8P0lHQopH4/vRRSWoh9Mt+NnCfMDpuQcGukbTNRhgwMX3XBx23smCmft/MOTTt4u7T66dgePywRHIlNb4YgpO6ERpiQ7bjTCpNlB8e57xzfJG0t7wwoGjnB//0jaJmnSpv5YW309IGBz3dd9X9d130leXtd1X3e+/IHkVN0cX1bIff+K5jU4tbBSVIvjZs0ZyRTqg+Y8W5RP+UJzMlGucgktUJx2/4rmNVi0YGpqi7tnnUX1yJfRcGhAezB9Z5P1zpdlavvq52T28g52WTTzR4mp493v1TyGgJbQNE17MKgFXrVoge8faGN/8WrGonJlIs6i4+TLZf5oQBub2E8qqJkp7Eeb+VxPr2Nxe+b33Rav1B4PtLGxor/+6tOwT7Tl9DJlIk6NjV6td+LcPhjQfNi0L24X2m7Ga67syMUH1u5qX9jRfH/Nt07Va6tYMlBU1pmNjo5WfF3/z5e1l1+eeO3Xwn+vJe2OFt5fOc/o6HXt2MvF+V7WXt4f1u5USd9/7k7Vsk2+/h7W9pfvs0peTdO0zPlWDRyT56RY/vy1aQOTTT+oBTdOfaYHuyyaYf+VqWvwl4TWttGgtcUfTLU5hsnzlDf9M5Q4atBoDmqDvxTeuP2FZsOnDUxkezCmjf1zag93/2zTmPxslH7P5I858TkY03r3oHn6pq6dwePmitfKjJ/L8mOUf89MHtepfTH5PZY/9uR3x4zfc4W2rnIeKp7nb49Nnd//vF6Sdufcfm3/uXDRtXNMu17xOp2eXn69V73m/h7W9lfJV9ayWvBVg+b9y9Q5eHCtTTMb2ibP70x1XyxkyPI50Wia+h+9vn6W/93fGSSqumhbn++WB8BopvGcQhYLuYdZinvvly3Xk8rmgByD13qwtfioU9V8bwhGTPY+UveAVfntnbu38qj9C6aNXgYP+uk0BPDYp7rqc6k4PXYXPr2KWrg/wfiSjb6bCtwZIvqdj7arRUdduqzmY+ZScXo2eLi7ceo94w4vvjd6SA57ML6Yf++A0zan+WZVz8mdwVnKqzDYr+L6g4mcquZ7AJYaMf82jHIPLKvM+D6xYT3iYWisju7LM5fLaGqYGtZZUY+xqO+p+rkul0G5RtF5NWCyWPD90Y9xmR/3q0XDlejQ6yE3kib1fYrBy2mI1ZFlKn9xmQzGRlhnxPriRPZl1BEnOwKsre2amzyyXg8Pcyi3EqRSceL3ITei5stb5dp6ou73Ex4+yNexCr0RM6UVeh2aC8NEpRp4OxbjbSA/XHSBf5vs7Rilvy3M6kiM2MqJvzvpb5xlmGhlMx2x5pqHLA07wjwYy6GrNkK0roGGybR66tdRuMoUBvuTuA/Zpq7B5RY87zSw5mqKwJaJgeADuOzTr+Liz5BxrRWwYp4YStctQ4+Sv05WATo9eiA3nCKRGiR+bQxyWfJnfyZ6HLvb8H4VR93mRE+KeKQe54Xyb7HZPpczHqS4VjRMXOvoKf5qmPF7bqIWO9xsrXUe5/q3icXeLpzn6ck3gl2s/jRGbD0MnbYT/mYHHb9/gYZ9MWL7qg1ZUjosuekgX++r3Pc2OnidGzvddMxWzjuDRL9z02afusB0r3nwblhD/IcAttcKb86l7guQBGRiupEscQYxnw6V3I1nazaiA8zNATLvhohu9mMlQffJDIHPzIBKdhiyaoRQtujLc2UQ84onUzR9SzdpU5Rwl5/GN3M4u7oJ7DKhjihwTyVyOlP0w19PcKMBRuLEqSPwiD3Y6ogC+kZKQjjdMupIoIwAL1bJ+KhGsrOUN0s2BoMbQ4R+KHp7swNj4cdI91Ijjf0dhN69Qugx2r76uZ5OV/arZv4gQcoSIXTShnG3Cf+ZEL7X9DCeoudNN316D55tNhwtZvjTo5ZwbtecctnP3g8VzAfduCwubJc7iBbSql1bJadBp8McS6PkwPgo19PKf2P1jfd53X59+tyZmdJqNHS6E/6jg8nw6f7fuH7jBjda7XQVbbf9f4BH2P9MdPpHaZD8tVx3tDTvsuV6GM6QZbZgaQ6Go/jf9KO84sPttOLaHKUjVltW3RYX/oPt9N5x4hmPE17nJjrth3/2z+XjmvF77mnYeWJyeNywehM3fs5CLQObhYAeCvMQ2+Dr8iHRW6d4PbiaE7Ea5idW/E5cxjI9KJknepXMKwnIxHSrjDh/GsPxrg9bpe/YFUYaTEMoF0Kk0dF4OopzvQ4wYNxgAEMrvn2PMcfmnzMn69c68H7uwHukjwNmNz2mQXzGRgxLDbQe8kzvfRs24iTBmAo8whxPg7ERw+0MGYo+9vcUBrHhrvl/vXM64CzlNWLckWbM7sVXodcAcsSP+9H1JfjitJfAdRuB1x4tGtVVPdfl8r0e06ryaittr7bi/aET92/bMY11U3/GQ+i3YQYn7jr9Ljo9Y83mcM2pUTr/XcV7vxfnCoAsStk3YMVrq6hnlI023BsdRK8FsFVs+9lM9GYV7my7Ads/nZgTNlPa7Ea/aSO82kdHeaC16eD0H8MFw4hxB8QzpRe7cieBwdT+BH9mVaLHt6K+O0bvtvxxsnNa7MuM8z04cE3B9jCKcVu4Qtlm+1w+PsNM33ML1Au/d7M9eI2SUO7WKewfwInY29R0u8gqI07iZEaAyf9oKSjXDDQcfjaCMViAk/rHxsYW3OuZt1QHSobJlchWOfDsD9P+SXLqvYcqamGdpWyyl7HNHryHfPgOeXGun/oitbT4eXCkncjw1O7VkdrXONMtr4fLcVIPAXKkT4cIFX3e0tfjZB8W/lhhpH4i7VUH/l/aaf+q6Ft2YgjrRQuO5h4Cn01MFFZJ91+pMqm/glcd+HVBgpP7Vkme6Sax343taXwXzFpeA47dXsJHOksWilVH8lvnrgfw32rDt82C+6iL+LsBko+4RtZM57qUAZM5wdDkeVdJXU1PXj/6VUbqC//OjaeoW66b2u5azWeiopqvuXGVDDp0E4ceTpC4PZVc9doqYcZz1EX4DQ+hm1PHyPa34/6k0o0E1eSHIL/2b+Ln/y6f0jxTWhX3++n82U3H78vCrpX/xuobXXR+82gLGrzwv1bD8H/NPul6YlL/nK+z/LV85XjP1LU8HKH7cyP+5ie5OEsOdQR0Eyf/oULiWnFEpivtZFk6vc/F2OKh/kInnZeMuO2VLo6ZP5fT6cCg5IOMWs30PferM7B60w1+/p+Ztxr9JszFTasn23P0m7a5BWNQ+E26QvBPU79JylfddL/ox/HKo5V+IVpwAZn49Rm2uPFec9FoacJ6MIqKHsfxKO60B9M6K02/s7LG5CZ0M//FYrA44M01LFmyhCVLllC/oYmmNztJjgAbfYT/XE/YXk+DrYmmDWuwHq595Wm93UOwrpvG3zTQsGErIYOHwOaJ1By5VAibqYGm3zVhNbkYfDOEdyOAGd+5EPXnmvLlsTWwZrOf6DCAEc/nvTSctWLc0IR1g4vQciuumluosO8zVuo3NGFdV4db8RA/7niUDrcazF5efUuQaOsQHtMarL9rwrpuDe4zKXLjSToPxXF/nP8ftO4VH50tUXyfPtrq+TOe6zKmV9xEv58Y5B4j0++ncZ2Vpt810bC5B/1ffDj0YNndi7HLRoOtCavFQ3ytA88jlG1SrdfcKif+j9N4zFaabFa2nsxhbZn40Z/p2iqlb+kmfbaBvh11k+1i/SyHa4d59jmEhXXEJl6vf/savokgaqY0hjhlt2O3v89FbtDVasdub6P/fiGttYsb598vyn+K/H1tDbwdOQjB1yuk1WD9Dg7SxeuFvG1VAjs1HaXnj3sJPsJabPlreRB33RqstgbqLSGMZ6OlPZOPzYDzYID0mw35z8u/95CzOIrW4zNi3mGge19nfprGWjMuQzeeT4smbayw4TD00GNwYKsyDaDq57Li1mYcH9YRbG6gybaVnpu11GOm77m5G/2mLX+tBW/AxPVzutar4wWad23n4gdl19X9ftqKr+Of3UV3cA5xIXgDuMj7RdtUu66mFH6TfnRTt85K04Z6rGeMhC/7ns6aivNkiaZp2nwXothC7JF6Pp46X2VdnXEV9WHxGjw5Usdc9G7uJbAxh1royRrscuBeFiLzB3PJ/tDpeZSpJdPWHqtQ1mr7zk+oLV83qJb91lauXIU1uJ6WWcv7MIc6Xrbu2JM7eo3nemLzOO1bUriSRV+S1co38X7FdZwevby1XHMzn8O5XbczXWsL8bvsaZj4flS+chFaFSaw5RHP6FO5JspUXFNsMpH80ma6qW1L1kTMET+8jIhljC+2zfJfsbl8LsdVVOb+nTLTtVfJYrseq/7uTvtNenbIHDJRUOUCX64v6wVKEf1QR4Oig+W6ybS6ZWBcXpz/8T4wOv1MX3gz73umL/SZ91tbuX7Nr4FZy7v0aX4x1XquC3Q2XDs76L3qxTzxo1ytfE+l3LXtc+ZzOLdy/drXw0Kl3grRcdVF25eP0RpP9VoumDHQzt/9W7JtcfJwmJ6v2vAereE7ZC51mfYdW5vn9tp7xPZaDCQgE3NkwfkluFrcDL7RSD2QSfWSNrQTPmSa78KJJ2ru59q8L0jm+9kXEhDzbYhT9ve5WDFtjqunA7mHDQT+bHk2z3ouTvuGvYTGTfj7eyvf6CTEE7CohiyHTtt5//z2uU0GfAKejyHLORrPkr41RIZ6GtabMPxKQ3hiHsi5fiSLbYjoUT0X34/jKrnli7tHarFdj8/FdVXmOeghm2HxOvHolhswvWpA+sSeA3KuxfNukQdjYnFYVAFZfnXg+S6FEELM7nn8H75YuOR6XPgWx5Bl+WMYihY5HP2mjU5eY3WwqzAfYmpIMz/EWb6zifQhTtmvsflTeP+DwkyKnScqPiJELmQhhBBCPE2LYx2ylc10xGLEPt1eMflGsAs+zT89/sTOi4QLa5o07IsRi51gO5s4GJl4+nzx/LOLvH9uNV/HCtudDxfW9RFCCCGE+PUsjoBsNhWft1WLTRz8j4netgY275x91WEhhBBCiCft2QjIhBBCCCEWsecgIKvteVvc7yd8fjuba3yQrxBCCCHEk7I47rK8dQr7B1NLGL5u75qc3D+7/PO27B/Yp036p/BMuC5gYjHEX3N9s6dB1poRQgghFp/FcZflU1H7+mSLKWiQgEwIIYRYfJ6DIUshhBBCiIVNAjIxr9TLB/BfVue7GEIIIcS8eo6HLGu3mIbVFmL7zaRu2U90OBM4oj7M810YIYQQYp5ID9nz4n4/bXY7bYVFcxcMnQWHvZfeq7n5LokQQggxbxbcXZaLqTfqeTD6TRuv/+yu+Eip/I0R7xfuXs3fpVp6g0QhvexxV+XMW1x4Ignat9jkAb5CCCGeSwsuIBNPycpmOmK1LBNSo8LzRVd/GiNWce22Ufrb3oed22F4ln29ZMYWS5HGJsOWQgghnksSkD0Hih+yvv3T2ORjpig8YH21/2e6gjcA2OT/mo7fv1D6QHduYC/kn0gfHbwO/q+L9lVq9JtOul48QcxyjYuzBWS6OuqyChkVzPrHqqoQQgixKMkcsudA/iHrX3NwU6XUi3R9+1r+AeuRgxC8wBBMPtD9a/8m2Hmi8GD2WD5YY5S/fXuD1fyNNrsdu92O3X4qnw/gfj+dwdWcqDjMWUk9xs0Z1PHHr6sQQgixGElA9twresD6yn9jNT/zX/dry3nxW/AVArWv/T/z/ukhYJT+/3ed1yJvL/qnHgghhBC/FhmyFI9s+66pifov/K/V8O1/MXrrGl03bsDkI6nyXrd3lQ2XFlNQLpiwnX/6ZRZCCCEWIgnIxIwmAy0aiu6SfIH/83830ZUc4u31+X6woeRFNv3fr3lhfTOx2NtTO7h1Cvu51TPeZUk2w5DdSOvTq4YQQgixoElA9swbpb/tdbpuFP68kX/IevXeqjLrd3CQ1/MPdGdqUv8Lv/dxsO117PbCdjtPEPt91ZBrRrkfE6Sb3RgfKbcQQgix+C24lfrF41l0K/XXLSP+4VbSrQN4awkQhRBCiGeQTOoX8+teHz1ZL24JxoQQQjzHpIfsGbPYesiW/HeS9HIHlhfnuyRCCCHE/JGA7Bmz2AIyeVSWEEIIIUOWQgghhBDzTnrIhBBCCCHmmfSQCSGEEELMMwnIhBBCCCHmmQRkQgghhBDzTAIyIYQQQoh5JgGZEEIIIcQ8W3DPslyI62jJWllCCCGEeJqkh0wIIYQQYp5JQCaEEEIIMc8kIBNP3p0Qez9JkpvvcixA6uUD+C+r810MIYQQC8yCm0MmHl/qsyb8l4veWGWmdbcfzxZDDblzZH9Iw3ozBt2jHF0l2hXFctDDjNkfqqQuh4kvdeBrMZYcX+kP03MhgqKz4Gj143lNX7L/9KUQPeeiZFY4cL/nxflSpSM9bj0Ke7kXJ3xOoWGfB0tRMXLDUcKf9xEZ1mFpduPfYyGfrBD9pI/0tD3pse7zYLG7qXOGSLX4MD96sYQQQjxjFlUP2dBpO3b7KYbmuyALXE6NE3/FR+/5XnrP9/LFW0birWYO9NfSM5PhyocB4iOPePB7UUI5N661M2zzQwf1/1JHo/MA/pvZooQs0YM23P3gOtJL8I164jtM+GNTfW2pTx14rtbjOdlLz1t6els89N17CvUgS98bS1j2myb2Ho6ijBel9Pux7YqCs43e427qrzoxHY5X7RHM3Y7i71PR6QGdBYe9l96r0n8ohBBiyqIKyB7NEKfsbfTfr5B06xR2u33qdfoZCvWW1aHX69Hr9Rhf9eI/WEfPD2l4mENVpwcDOVUl9zCHqqZRYvBAVVFVtSTIUH9KEr8aJ/lT9cAue60X7Fb0VbcAXmkjo2kkjpYnGHAciRI/6cHyYr7cnV1WOi/FyR9RYTC2DM97rZgNegwbPfjfSRO+li3bz0z1yJG9Gc/X485MAaoB51kN7R9hnOUpze1EY914XjWif9GC9+NOrJ/0EVcBjDgO+fBNvpwY7un44qupHjHzFhfR/oQM6QohhJi0qAKyhn0xYrG3aXgiexvi1AdwIhYjFosRi33NweFw5cBt0VNIf5/Gs94ES9OEtmwldKcoeaSPA6Ygif+OE9gZIEKCzvdcuHYGiGcBVOIfWmk80kvqhxS9RxqxHktVCChyDKUSNK6rZWi0Cr2+ZKhTt7y+6K866l+Mk0pPBVK5cRWToSz8y1apx3ia0BtGrB9HSf0QJ/RWI03HHmWumx798qI/l+upr7Jl9pyfni0BPMU9hi+ZscVSFYY1hRBCPK8Wxxyy+/20tXZxA2DTQb7uaOaFQtLoN2108hqrg11cBGA7JwpB29BpO++fL2zYaqerJN3A6k0Xef/0ZmL7GuDWBbpurObEyl+5bk9LMkznJwn4RSF+KQE7Bwhv0wNmbK1jeC6l8BzK99mo16Jc2dNK97/ZsP21jrolQYxne2ldld+Verkd950DJM63kp/tZaPTHKBv99Q2hS3JDlsxPkY8VkolfqkHT0ug0OOmx3F0gERLI66bQfyvpGm/HeCLj8omiRkcBCvUI/Wph/blIdJnHfn97d9K+2YngVcVAlsefaKZerWPnj0OAtO6BVOEj+fwXiibLaaroy6rkFHBPGNXohBCiOfF4ughW9lMRyxG7NPtFZNvBLvg03xP14mdFwl/MwpM9KidYDubOBiZ6Amb6GF7geaOGCd4Pz9ceW41Xz+x3rcFYJUJ8ytmzFuc+I57MV3di6vQG2Te5qU+EicFgEoidgWP3VplEn6OwWs92Fos1BWG/1TViMnehzJt7lYG5VpZ7sk8KhVGSmeUiwXwpoN4t01FLepPSVIbfLhXJQi8143OZKS2ZXsVBvuTuLfZpoZTl1vwvNNAx9XU3ApWbDxO4J0hgu85pw/T3owTXunENm0+XT3GzRnU8fL3hRBCPK8WRw/ZbHae4O31+X8aVm/ixs9ZmOxDq2aU/rbX6XrxBLFYA0On7bxu/3myd23R+00jti2WyT9tv61j78puonssONe68JhN9F71YjYniF46gPvzaj1EKtlhyKoRQtmibVYGMa+YvrWupHcsS/yom85b+b/M74YJttTYfTYcwfNOhs5YcOpuxJEo7Yd0BJJezIBzt5fIm1Ycn0ZJfDDbPYtZsjGoO1paz2XL9TCcIQvMuWPvoULknb1kugYIbpyerHwfJbMliHF6khBCCFHi2QjIHsX9v3H9xnZOdOTDr4Z9X3Nw+HWu3XqbhvXzXLanYbkePTlyDwH0OHZ78McS+B/G6X3HRXfVjAaMGwxgaMW3b7bQop76daV5HV0DOOZa1uEIbks3DZfitL5Y9P6dFD1221RZlxppfecA7q402Q/MswRURow7IJ5RoagvS7mTwGBqn3swhkLkTSvd6/qI76rULirpVBzr5kqzyxSUCyZs5yskCSGEeC4tjiHLx2Jg9aYb/Pw/ldJ+5r8mJ/Fn+fnGr1eqX1UuS/RoO53NDiyF+VS6LS68V/tov5TA32Ip2lgHBoVM0XIRlhY/D460Exmeek8dqXSHogGTOcHQcIWkWg33sdfejfFslLZXy3rtVhhwnA7TN1m2HMloL4YNxgoBVXk9DDh2e7lyvIfkRNGHI3R/bsTfPNcVwRT63myie1WY6EeWKkO9Y6hZaKw0oS6bYcheqcxCCCGeW9oCMzo6Ov317THt5ZdfLn3tD2t3Rke1O+f2ay//5/XJbcv/np7/mHa9yn73n7tT8fiLTeIoGhS91lo0z9FebWisdLvB42aNjUFtsCz/4EmbZjCYNNsWh9adyr939y8+zbHWoJm22DTbeqNm2hPW7lY49oO/+jRzV/kei2W08I6y8oHmjGQ0TctovbunpwFaIJnPPfbXgOZYb9Jsdptme9WoGXd0a4O/VD7S9Ho80AZPOjUjRs2yxaQZDDat7a9jlTMnAxXKEdASmqZlzrdWLCNHE8VnQQsUlXtubSSEEOJ5s0TTNO1XjQBnMTY2Nt9FmKaurrZp44uNcroJlxpk8FCFHqJxFbV8eQcKa5jp9OirTTnLxWnfksKVfJor0RfKsbS8fBVUqsfDHOp4Dl3ZEhu/jhzxD7eSbh3A+ywOjQshhHgkz8GQpahIjRP6XId3W5WwaXmlYEeXX2x2pihGZ8O1M/qUV6IvlGO2YAwq12NpPv+vH4wB9/royXpxSzAmhBCiiARkzx2FkHMNa+raUY92ly5Y+oSY9wWxIg/QrkRV9fiPVFgiQwghxHNNhixr8MwNWeZUckv16J7fe2yFEEKIBUV+kp9HunkarhNCCCFERQuuh0wIIYQQ4nkjc8iEEEIIIeaZBGRCCCGEEPNMAjIhhBBCiHkmAZkQQgghxDyTgEwIIYQQYp4tuGUvFuI6ZDN55tYoE0IIIcSvTnrIhBBCCCHmmQRkQgghhBDzTAIysQDliB/ZS9+9+S6HmJC72cPez1LzXQwhhHhmLbg5ZOLxpT5rwk+QgXfNtWUYSRMfqcf20gJ55PXNHjoetnJlVfVNsldDBL+KkMJM6w4v7mbj1OOgRlJEzoTojeUwtjjw7HFiWg6gEP2kj/S0vemx7vNgKVRfvROl9899RIZ1OHZ58WwzTT4MXL3VR+jzMNGRehy7vHi3mSo+hip3L0UaE+ZVj/iQqmycUFeEyE0w73Li3eHAuHwiUSV1LkToUpTci04cb3pwvqQDVJJnQiRGpu/OtM2HY+JB8tkkka/C+fbZ1Yp/tw3D0lnybnRh+7idvl1f4FzxaFUSQghR3aLqIRs6bcduP8XQfBdkgcupceJqrvbtUyGaLkwPU+ZL8nIvjp22Ks/bzKGcduG8BI7DYcKHrShH1+A6o+STb/Ww1dKOst5Lz1kf1kyQhp0hlCrHyt2O4u9T0RUirtx3HTiaQ6gWL91HneivthP6obDxzU4c++LUv9VD70kP+ktb8VzIVtxvpt9P4Jr6SPXP3Qnh2tYHzT7CZ31YbwdYM1GHh2l6/r2R9mET3pNhfJYMQZNUeLenAAAgAElEQVSL0J0qO7ufINSlMBlRDkdwb25ncIWTwEkv1mwP7Zcr16E0rwHHbh2hy9VaUgghxONYcM+ynOkuy6HTdt4/v50TsbdpqHmPQ5yyh1kd6aB5ZXnaKP1tr9N1Azb5v6bj9y+UJt86hf2Di/l/bzrI1x3NlG2xIO+yTP5xCVYSaB9ZAMipKuj16LIp4ukxqGvAttGQ33hcJX3OQ4PiYeywFZbq0U/0xOSypJJDjFFHg8WMoThCKkozmo3UQUle9ackg5kHLKtvxFLU85ZTVViuRzeSIp7OYTRbMJZ0zCXpWBfHdrsNS431VS8foO4rK5nzrRjIoao69JP7TNJR70XXP4hvY3lOhZDjAJy8gmctQIpOi4fcpwnaXp0eDipntrL3YTcD+4z5N2520vhxPdHzrRiKm0ZViR+vI2QcIrSjHnR69LrSdik5B7NWMMqBuhDWf/TSuiq/f91UBUn+sR7v8iiDH5T3iOaIH24gah8iaM/3oEXfMRHanKJ312zHLs9bKMfODL6/ejDWVnIhhBA1WlQ9ZA37YsTmFIzNZIhT9tf5edfXHNw0PXX0mzbsH8CJWIxYLEasQjC2OCTprPMQOLYX63thUlcjdDSbcRd6dlJnXBw4mYALAVw7XbjO5OcJ5e6EcG9w03M1RepqD+4N7qk5XcMR3BvchIdz5IbD7DVZ8XwcInRVAVTiH1ppPNJL6ocUvUcasR5Lke+vy9L3Vh2BcxH2bgsSvTqEWh733BkibjHN6Qc/cy+NYa2h0AlUHIzl/9ZViT2y5/z0bAkUgjHgZpxwzo2jQjAGULfCSPzHNJP9Xrkc6uRxJ/dK/KiLwAVInDyAa6eLQCzLRLuY3gkR/yFF9GMra97sq9pzV7pLhbTBhKEwVKgrrSC65fUVs+W+68Q/EqR9MqBKEP2TC0/z7IHgtLwAehNmUqQfreNPCCHEDBbHHLL7/bS1dnEDpvVUjX7TRievsTrYRb4va6oHLd+jVtiw1U5XSXoDb8diwCj90w44yt++hYORJxX8zbc+0oa7JM7nwxyPeS915+J07mjF/O4A4RUu6u/4Gfhook8qRc/uHoxnEgRe003mMZ1J4vzIQuqcj+zhBOE9RsCB6WEK17iN3hYj6uUDuO8cIHG+tRBU2eg0B+jbne/dAeg494C7yXDloGskS3xdA7OGDLksqatx4pfD9I44iX5ZZYjzZpwwbkLTesdShI/n8F6Y6lXK3c+Q2tAI13s4cLKPtGrE9kEbbc35kupbAgwkHTTuTBE8aCb94RCBL9vKjmvA0TVAXd0SgmvDkz1R6uUDuK+6iCZ95I/opHHnGg6cucuVPZVaIkf2hzjxq1HCfRmc/WFsFSuYIn4W3GfKe8dUon/uxrFbmQoYRzKkDfU4s310HOwhfk+PaVc7gT3msqCyQl4AllFnSJAeBse09hRCCPE4FkcP2cpmOmIxYp9ur5h8I9gFn+Z7sk7svEj4m1FgokftBNvZxMFIoaerlh62+3/j+o3VMNiG3W7Pv04v7plrjaapH319/Sz9T3cGiaoubOtzqKqKqqpgNNP4o0IWyD3MTg7BASxbric1ngNyDF7rwdZioa6QT1WNmOx9KEV3TDp3b63aA5b9R1k759TJMqjF8+JyCoO3MowB6ohC+l6lOXMKoQ+DWI96mHZ7w8044ZVObGun3lJHFLgdIpy2Ejg7wJUvnTw4aqX9amHfaprkrQZ8uwwkjh6ge3lD0UT7meTbpeFNZ1E5jDj3+YheTlbpJcuh/Jgm8wswrqKkFSrW8HQ7QUsAT3mANBInesaNzVJ0okayxA1X6InoaD05wECkHfNVB+4zyux5ATBQvy5FrvbpiUIIIWq0OHrIZrPzBG+vz//TsHoTN37OwmMPMF7kOl8Ti73AxFyzU7dik8d5po1kiTOI+XSI4oUObIU7Gc3NATLvhohu9mMlQffJDIHPzIBKdhiyaoRQtujHfGUQc4135ul0pXPysrEA7onlFtb7CHc58r1negueQxbAR/v1dqxbAhiUQFEvkkryj25Clj7iLdPvHlW+j5LZEiwJDPUrjFDfiHdfocdolQPPO1bWXE8R2GIi+qEP3dEE3o3ANg/er9xYWzqLer2qybeL3rystK7/WgdJhcojgHose3xYAN/hJO2bbQQMCoEtU+2qXu/A/aWVvpiD8hrmUglCu60EimOqFQZsN234U458vZeb8bzlYe/JJNk9xsleyYp5hRBCPFXPRkD2VGzHPTnJ/wX+7UW4/t+jsH5xziSbk1VGnD+N4XjXV3mYbIWRBtMQyoUQaXQ0no7iXK8DDBg3GMDQim/fo0371q8snQ9laAky0DJzHt2rNhzZHrIjwCqAHMk/OnDePkDirKXCUKZKOhXHurn0WDqjCZuSKQmQlk1+QtKk/mTD9vlUmnH3AQ68ESR9z4d5hiU6JtpFuZeBosHYrDIIdjeVZ4AVWW7B1pylJ6tO5s9914FjxxAHkmEsFXrp0rfisM5VOvS7yoiZJJkRYCJAXrqstrz5EqP86MS4e7YCCyGEmKvFMWT5WAys3nSDn/9nDllW/h9e23SRa7cm3hji2vlNvNb4jAZjS3VQHIiscuDZH6b9k+TUew9V1PH8P7PJXsY2e/Ae8uE75MW5fqp/xtLi58GRdiLDU7tXR+YwC/xFE60pZYbJ7gqRg+1Ei1ZqUM6FCG20YpoIxo5txX3bQ/zz1ipDo2OoWWg0loUca7fiWRckeG7i6ArxSwnaXjMDBgzNIcKXpuqSu36FXkMjxgrBmG7pRACWZ2nxo+sKTrWLmiR0MoF3h21a4KOc89PeX1TB4QihM2aspqlgbOvuITxXQ7S+WLmVcmMpnGvLaq+z4jo6SPBPycLwZ45ktBdHs6X0LtFKeQHIoFwzYqjx5lAhhBC1WxwB2a1T+XlcH1yEG128brdjb+tntKbML9C8azsXPyjMBZtcx2yU/jY7dnt+2Ysbwdex2+2culXI8x8H+Xkyz/vwaaVlM54Nhi1uvNdcNFqasB6MoqLHcTyKO+3BtM5K0++srDG5Cd3M/4wbLA54cw1LlixhyZIl1G9oounNTpIjwEYf4T/XE7bX02BromnDGqyHo7XdTQhgMGMbT8xwJ58Rh7OO0OYlrLE00bShHuuZejrPefPDhj904vwwjvLVXhr+dclkGZfsjDAV4mRRLlU8OK2fhzGebqLB1oR1nZWQuY/2LTrAiOdsmPrT1ny9fmelYU8aT7+v4vIc5uZ26rocNNia2PpZarJdQpZ6GmxW1tS5Ud6KE6wwnGq0u6g7Y2XJOitNtgbqLSHqu8L5oVJSdG5rJ34nwl7Tsqn6LXERmZynl0X5qVL9dFg+CONR3DRYmmjaYMR9r53ukpsKquUF7gwS32ajUYYyhRDiiVtU65AtRAtxHbJHk0NVc+j0+tIhvnEV9aEO/eQs/hypYy56N/cS2JhDfZh/b7DLgXtZiMwfzCX7K16Dq1bKma106MN8sW3mJwfkVJUcxWV7cnKqSq5K2Ws+7sMc6jhl2xXaebke3WwTBsZV1IdMPydPwriKStGaczVQzrjoNITobl4gT3QQQohniMwhEwVVAozl+rIJ4ymiH+poUHSwXDeZVrcMjMuL8z96oGRs8aJ7qxdl28wLkD6VQKWGfdd83KXla6LBnNplWts/QXPddy5J5IIVT1SCMSGEeBokIBNzZMH5Jbha3Ay+0Ug9kEn1kja0Ez5kejKHWOHAdzBKToWnF5GIORl5gPlj7yx3kwohhHhUMmT5mJ6dIcs5Gs+SvjVEhnoa1pswzGHoSwghhBClJCB7TM9tQCaEEEKIJ2bBBWRCCCGEEM+bxbHshRBCCCHEM0wCMiGEEEKIeSYBmRBCCCHEPJOATAghhBBinklAJoQQQggxzxbcwrCy7IUQQgghnjfSQyaEEEIIMc8kIBNCCCGEmGcSkIkFKEf8yF767s13OYSYK5Xoe36iI/NdDiHEYrPg5pCJx5f6rAk/QQberfFR0CNp4iP12F5aIE/yvtlDx8NWrqyqtkEOpT9Mz4UIis6Co9WP57Wysj9USV0OE1/qwNdirLyXmxF6YnqchxwYAfW7EKFr6vQNX3JO20d53vwxs8S/ChI5l4KNrXgOe7CsmEhUSV8K0XMuSmaFA9ebHlpfKS6zitLfW6iTA/c7Hpzry89HjtRXPcT1ZeXJxgl1RYjcBPMuD+17LJWfyf6453kkReRMiN5YDmOLA88eJ6ayZ5jm7sUJn1No2OfBUvEw5XVQiH7SR3radnqs0/ahEP+sD+W3HjyvTiWot/oIfR4mOlKPY5cX7zYTuonEkrZx4t3hwFhc5odZkhfChC9Fyb3YSutBDzZDWVGG4/RcUGicKM+dKJ2XppeYFVY8eyzYWutwnUnhOCSPYhdC1G5R9ZANnbZjt59iaL4LssDl1DhxNVf79qkQTRcq/MDMk+TlXhw7bVM/qiWyRA/acPeD60gvwTfqie8w4Y8V1feHDur/pY5G5wH8N7OVDzKeJLDfR/BwiipbABkSXwZRKLtxo2Jeleh7VjqzDtrO99K2RcHX0kEql0+LH7bi/8mI53gvwTd0XGkx0X51osw5kn900HRGxfpeN4EdeuJHQ6Qelh42dz2A93CwtE4jUQ5s7iTb3Ebv+TZst304jqWodPYf6zzf6mGrpR1lvZeesz6smSANO0Mokxtk6XtjCct+08Tew1GU8cq7qViH8m1uR/H3qejKAjrlKz/uj4NElaLa3ezEsS9O/Vs99J70oL+0Fc+F/L5zd0K4tvVBs4/wWR/W2wHWlJRZIfKmlfbv9TiPduO1ZOk50ld2PShEDrsJdFWvE+RI9/vpVXXoAd2rDmx9vcRr/wgKIQRoC8zo6GjV1/X/fFl7+eVj2vUZtpn+uq4de3m/Fv57tf1NvY59W5T+97C2fzKtcv7R0dH5bq6KEkfROJqY/PvB2Jj2QNM0LTOoDcQHtIFUZmrjX8a0oT87Nf5wRRsbG9PGfina0YOMNhgf0Abig1rmQdlBitLujo1NyzuWTmgD8QEtkR4rzTY2pj3450RZEtrd0mRN0xJaYG1AS5S/XWyiPgWZiFNj/xWtfFfl7VBUCi3xkUVrjYS1Nqof68FffZrx0ID2oJa8/xzQ2vBpA5Mbj2lX9qMFkpX3PdhlnipbKqhZNga0RHkbF/slobW92qqFz7aV1ineplFcxrErmrdSnWY6z/eHtMTEef5ntQI80MZKGjihBQxmLZgq2+wfYc2JUwv/Yw51KHFX+6LZoX1xu+xtJaw5Xw1o4c+dmjMydf3e/dKh2f58d2q7VFAz7whrGa2CsSuat6hsY3/xaoZq207s/6xTs3wc1rq3VamTpmna7S80R/MXWlEptMEus+b760wnVAghSi2qHrKGfTFisbdpeKL7K7w+3c7Fc/2MAjBK//+7zmuRfNrXfuj6fxNpi02SzjoPgWN7sb4XJnU1QkezGXehFyF1xsWBkwm4EMC104XrTArI9y64N7jpuZoidbUH9wb31Jyu4QjuDW7Cwzlyw2H2mqx4Pg4RuqoAKvEPrTQe6SX1Q4reI41YJ3tssvS9VUfgXIS924JErw6hlneD3RkibjFReZCxQK8v6T3TLa+fU4vkrgfwDR8gYKHCUNnERkk6D6sED5f21FXNu7SOuo0p0ncmt0QdcWBYQQU5MkoKx6r82FjqapjcGw4slbsEgRzJ4z6U9wJYlpaVuK4O8800ykRv2rhKptlA+ahbtfOsxtqxbjhA6GqKVH8Aq2kvfcOVyqBDry/9W1d+kBnNUIci2XN+erYE8Kwtflchcribxk99GEf6SravW2Ek/mOayYHmXA51raHykG1WIW0wFc6JSqK/B9dux7S2mjQcwf95I53vGlEvVS0xkQ97sH3sKblmTettxG8tnF5nIcTCtzjmkN3vp621ixsAmw7ydUczLxSSRr9po5PXWB3s4iIA2zlRCNqGTtt5/3xhw1Y7XWXpxUb/+2d4cXNhvy/Q3NExmfZC42tsCv5MFiaPu7j0kTbcJXE+/5PhMe+l7lyczh2tmN8dILzCRf0dPwMfWQrbp+jZ3YPxTILAa7rJPKYzSZwfWUid85E9nCC8xwg4MD1M4Rq30dtiRL18APedAyTOtxZ+oGx0mgP07e6ltTAnrOPcA+4mw5WDrpEs8XUN1X8kp1GJX+rB0xKo/CNcbjxJ4JDCgXMBjEsj1ffaH6K7uRVlRa15zXjPteJpaSL1XhsefYjQhnauFAcWI2ni1xJEL4RIG67QvccI5BjLpDCZIfnZAYKX06irbPiOtOF4MZ9tIggMHzWy7FzZYTd6Ce/wsPV3KXwfeag7E6LxyJVpbVvxPI9EaX8jjqs/gW8jgA/nBhdr3glxN+qZOSi+GSeMm9DGmTaaMmMdJqUIH8/hvVA690r5yk/3hk7ir+pIxUpz6FsCDCQdNO5METxoJv3hEIEv24qC6BzZH+LEr0YJ92Vw9oex6QDGyNwxUK/L0PdHPz3XFPRrW2n/2INZD1NBYBzL8hTxqu0QJjjupbesHXR1dWRuZ1Ax13ZdCiGee4ujh2xlMx2FXqxKbgS74NN8b9aJnRcJf5Pvy8r3gJ1gO5s4GJnoDSsOxoY4Zbdjt9t5PbiaE/sq972NDl7nxs7NT6xnbj40mqZ+XvX1M/7Uwp1BoqoL2/ocqqqiqioYzTT+qJAFcg+z6It6c5Yt15MazwE5Bq/1YGuxUFfIp6pGTPY+lKI7Jp27t1b9sc/+o2yGYE6dLINaYV5cLhbAmw7i3VbLz95UL03rizNtpxK/HMK9xVrywz5b3kwqibrLgyMXwnNYwbS2rEyqQuqOCqgo99JkR/LHyg6DcjrM0OYA4egVwjseELC05+cgTQSBR1srt9nDDKnvVVr3Ocid9uC7bcJYYwSQS8Xp2eDBWRRMGHd48fVHSVbsJZugEPowiPWoh5qmrc9Whwk344RXOrEVB7ETvVQfWCrPKVTTJG814NtlIHH0AN3LG0on7ZND+TFN5hdgXEVJK5O9tdlYPVdOh9Ht7mYg2ku7OY6jNT/HbCII9L1atdsSgFQsTN022/R6GYxYR9SKc/mEEKKSxdFDNpudJ3h7ff6fhtWbuPFzrX1ZDbwdi/E2wK1T2O2npvee3TqVD9Ziizkcm6ORLHEGMZ8OkSp629ZsRAeYmwNk3g0R3ezHSoLukxkCn5mZCC6yaoRQtuiHbGUQc8Whu+l0utIJ9NlYAPdnhVKs9xHuKhpiGo7geSdDZyxYU2CQuxrA+cc6XMf76PwEGBtEQSX8SSdj23w4JgKB3CCJM61YP9bVnne8E3fMQfRLJ3pace5L0tFsw788TXdLIUJa68B3yAH48H7lYs0beu5G3RhehPoWL56N+e0MzR4OWNaQvNkOf3HSUecieKGTTmDsRwVGwnR+MobzkAP1Mzfx5ihfbNPDLiee6x04tvjR/9iNY5Y2V0cU0DeyrOQELKOOBMoIUDHwVEn+0U3I0ke8pbYgOP7xzHWYCGaU76NktgSLghuF0DtulHVtJP7USQJQkqDc7qYztxXPHhOJD33ojibwbgS2efB+5cba0kk06StcE3ose3xYAN/hJO2bbQQMCoEtBgz2FLb3Bgs9kTrM+w7geStI8jqE31Aw/iFBzycJQCGBwtDnnTz49+I7PBUGYxlsH8/yHxwhhKjBsxGQPQnrd3BwUyf/dR8aVhbeu3UK+wdUHOJ8pq0y4vxpDMe7vsLwTpkVRhpMQygXQqTR0Xg6inO9DjBg3GAAQyu+fY/2I6VfWTofzNASZKClwobDEdyWbhouxWfp7SqyzkU4bpv6e2SMKFlMr5hLe5V+ShGnAZeh9rzZ7xPUb3FODU/pLXjes1J/M013i4Vyxs0OHG9kyaLDuM6Gki1ebmPZ5CezwRlmwD6Vov4SBZ0J8ytG6siSTNZjK+od1L/m4cDmelJ3Zg/IDMZGDLczZGAqyL2nMIgNd8UlR/J3gzpvHyBxtkqPVQUz12HyXdKpONbNxee/DuuhgZLeJ91tSBsaMW8woiNN6k82bJ9PpRt3H+DAG0HS93yYy+uw3IKtOUtPVgXqMW6E5H0VigYVlwH8f1Z88ZKjkiaNwWymcVVRrdU0qZgV65cVKn1Poe8lG72ztI0QQkx4DgIyA6s33eDn/wFWzrDZrQt03VjNicI2o9+0FXrGnoNgbKkOlAyTP02rHHj2+2j/xEX0o8KaVg9V1Jwe/XLIJnsZ2xzEu2d60GVp8fOguZ2IPTwZKKkjKvoVNY6jvWiiNaWgYKk+vDXcx157N8azUdpmGVIqpltlxlb8I30vSw/LaNxiw1S84fgYqR0NpYHALHlzBhOJT/pIbfNhXg6gEL/Uh3NbD4wn6TgyhPOIB5MeQCX5VYjoHj9hQN/swfjbIJEdhTYbjtN7rQ3vWR0Gna1kPl022wP/0ohtiwnIYViboPNSCucH5nyANByn94ITV1eFBig/z6868OscBL9yEt5tzJfrTDeJ/e2Epk3iy5E8thX3bQ/xz2cZeiyhw/DKTHWYMIaahUZj8ZZ6TGXnZtl1iK+1YnvFADzA0BwifMmPpRCU5q5fodfQSM8qUM75Cen9BJoL+xyOEDpjxtqf/9vqDOD/oIekvQ3L8kLeZge9/9uEsfSoJIljtNhKgzxVJUMjxgrBa/YfQ9h+01pzKwkhxOKYQ3brFHa7HfsHF+FGF6/b7djbar3r8QWad23n4gf5uWJT65hNzR+z2+3Yz63m68nga4gLwRvARd4v2qbtm8V5n+VsDFvceK+5aLQ0YT0YRUWP43gUd9qDaZ2Vpt9ZWWNyE7qZnxFjsDjgzTUsWbKEJUuWUL+hiaY3O0mOABt9hP9cT9heT4OtiaYNa7Aejhat/TRbYczYxhOkK6zPmpel74iL0J0kHb+rmyzDkiVL6Pgunx7Zmf/begQ4YmXJkiW4zlVf92raEf4x97vjdFvaie9I47ZYafpdE00bmgitukJwlwGWm3H+Ns0BU75NrOvqcP/oInG80KO2qpXQWSMhe0O+rS0hGi+1V+6dLD0qtg/jONNuGi1NNP2uiQZ7CONfgpM3UBSbfp7N+M6FqD9jpX5DoVyKh/hxx/SJ6D904vwwjvLVXhr+darNl+yM5Nft+q4j//dv3PTRh/s3S1iypINkzS2YRal6J2M1Rjxnw9Sftuavtd9ZadiTxtOfH6I02l3UnbGyZJ2VJlsD9ZYQ9V3h/PAmoHvVR/gtBbc5n27ck6X981luZigpskJfxYQcQ9+ncfxWhjKFELVbommaNt+FKDY2NjbfRZiTurq62TdaFHKoag5d2ZISjKuoD3XoJ2fx50gdc9G7uZfAxhzqw/x7g10O3MtCZP5gLtkfOn3JDQC1UM5spUMfzs+LWmwe5lDHq9W70CZL8z2N01U5B7UYV1EfUkPeysfIqSq5quVa+HKqSo7i67TIbG3zMIc6TuW8j1SYOO2ONO64t7TnVQghZvAcDFmK2lT5MVuuL+stSRH9UEeDooPlusm0umVgXF6yOtgj/8AZW7zo3upF2TaH3oqFYulM9Z6tTR69zaafp7kd45GCwAVkxvLP1jZLy9dYezzZSz1k3w1JMCaEmBMJyMQcWXB+Ca4WN4NvNFIPZFK9pA3thA89oZ+gFQ58B6PkSudbC7EIqIwt99NW0x2oQggxRYYsH9OzM2Q5R+NZ0reGyFBPw3oThkU61CWEEEIsBBKQPabnNiATQgghxBOz4AIyIYQQQojnzeJY9kIIIYQQ4hkmAZkQQgghxDyTgEwIIYQQYp5JQCaEEEIIMc8kIBNCCCGEmGcLbmFYWfZCCCGEEM8b6SETQgghhJhnEpAJIYQQQswzCcjEApQjfmQvfffmuxxCCPFkqJcP4L+szncxxAK24OaQiceX+qwJP0EG3jXXlmEkTXykHttLC+SByDd76HjYypVV1TdRb/XR09XDoM6B+x0PzvVFZR9JETkTojeWw9jiwLPHiWnyWZsqqXMhQpei5F504njTg/Ml3VTebJxQV4TITTDvcuLd4cBYlDd9KUTPuSiZFQ5cb3pofSV/XPW7EKFrFb5sX3LiazHOftyRJKHjISLDOpz72/FuMRRVNk3f6R7CsQz1dheePa2YV5S0Bkp/Lz0XIijT2qO0zO73vEXHVYh+0ke6eFcrrHj2WMqe6Z4j9VUPcf1EXSrkA0CPdZ8H00+ztIWaJHQ6gVopDeBhlvhXQSLnUrCxFc9hD5ai+uZ+6qPnZJhorhHvQW/puS85fx7ap9Wl4HGv+YdZ4n8K0HM5h3FXK/7dNgyT36Y5lP5w4XxYcLT68bxW6/UJ2ashgl9FSGGmdYcXd7ORySul6rUw8zmx6CE3HCX8eR+RYR2WZjf+srapvV3LPxf59kheCBO+FCX3YiutBz3YDJXylp6TSp8b0zYfjrVl1RiO03NBobFQF+5E6bw0vbb569dE+kyIxMj05Il9z3Zc9VYfoc/DREfqcezy4t1mmjoHqCTPBAidU9C1eGnfP3HuZzkHdjd1zhCpFh81fjOL58yi6iEbOm3Hbj/F0HwXZIHLqXHiaq727VMhmi5U+HKbJ8nLvTh22oq+AEvlvuvAsW8Q0+EwPW/VE9/noOO7Qn1v9bDV0o6y3kvPWR/WTJCGnSEUgIdpev69kfZhE96TYXyWDEGTi9Cdwn7vhHBt64NmH+GzPqy3A6yZyItK/LAV/09GPMd7Cb6h40qLifar1do5Q+LLIAp1sx6XXIqOFh8ps5fwcSfqp1bcF7L5NDWOf7Of9FoPwfNB3LorODa0E588bI7kHx00nVGxvtdNYIee+NEQqYf51NSnDjxX6/Gc7KXnLT29LZ6pnsdsivDheKF+1eWuB/AeDuK/ma2+ze0o/j4VXcX4pqgtAO7EaY8MUvn2HZXoe1Y6sw7azvfStkXB19JBaqK+9/rwtITI7QgSfs+YPwl0lP4AACAASURBVPc/FBJHohzY3Em2uY3e823YbvtwHEtR6Qw93jWvEHnTSgg3wfNtOLKdWN+MFNoxS/SgDXc/uI70EnyjnvgOE/5YDdcnOZTTLpyXwHE4TPiwFeXoGlxnCmdo1muhrI5F5yTb78e2KwrONnqPu6m/6sR0OD7VNjO068yfi6n2aP9ej/NoN15Llp4jfWRrOCfK1XbCP852I5dC5LCbQFcUZbzaNjnS/X56VV3lAPx+glCXwkTijMe92YljX5z6t3roPelBf2krnonPIzlSxxz4Uo14zwZxjndifbNQ10qlKv5c6Cw47L30Vv3OEM89bYEZHR2t+rr+ny9rL798TLs+wzbTX9e1Yy/v18J/r5L+7THt5Zdfzr/2h7U7Zel3zu3XXn75Ze3Yt5XzL0SJo2gcTUz+/WBsTHugaZqWGdQG4gPaQCoztfEvY9rQn50af7iijY2NaWO/FO3oQUYbjA9oA/FBLfOg7CBFaXfHxqblHUsntIH4gJZIj5VmGxvTHvxzoiwJ7W5psqZpCS2wNqAlyt+elNF6d6P5/lpUoFRQMzd/od3NH0EbK9lnQgsYzFowNXX8ktSjBs3cNVj5UGNXNC9OLfyPysmDXeaSdi724K8+zXhoQJso5UzHHevzaBRtq6WCmnljUKtcqkEtuBEtkJza1rIxoCXKz4+maZp2V/ui2aZ9cbu0zM5I4fz/I6w5mamtNU37JaG1vdqqhc+2Va1r/jiOkuMUK28LLRnQ2BHWMpU2/ueA1oZPG5jceEy7sn+qvoPHzZrtz3cnNx/r82jsv6KNaZqmxdtK23HsiuatVL+arvlK12bB9wHNYJ+43vJl7N1j0NrihSNPfN4KMhHnVBlnuT7Ljf3FW72tyq+FEuXnpKye/whrTrzalUJZZmzXaYUq/VyM/cWrGaqVcZZzkjjK1PVYxd2zTs3ycVjr3lb9s6jd/kJzNBefk2IPtIFDxpLvjJmOe/dLR0lbaKmgZp6o3/1ezVNyfQ5qwY3Vzl+Fz0UqqJmL20OIIouqh6xhX4xY7G0antD+Rr9pw/4BnIjFiMVixDqaeaF4g1uneP3b1Wzf9IQOOC+SdNZ5CBzbi/W9MKmrETqazZM9MKkzLg6cTMCFAK6dLlxnUkD+f8XuDW56rqZIXe3BvcE91bMyHMG9wU14OEduOMxekxXPxyFCVxVAJf6hlcYjvaR+SNF7pBHr5P+Is/S9VUfgXIS924JErw6hlneD3RkibjFhnKFGuRzU/WtRxo1WHP1xUlkAHfqS/yLr0BWN/ulKE9Etr69+oKxC2mDCsKJSYo6MksKxylAhKUnnYZXg4alevurHzTGYDOE0N0z1CG78/9l739C2rnTR+xfIBRn8QSopV+ZNe7yDA5VJwHJ6eiNxciHbaAbL+HArNymxSCFV0yFV0qGVU2jsyYeMnDKpndKp3dImaiBFCp3UzsspUbgjrMAkSD1pkQINVoeabJ82B+mlId5Qg/cHw3o/SLK2ZNlx/tX5s34g8N5rPWs969lL3s9+1rOX3HivpsjVy6GbzaNd9S7olL0YxXjFi6tuONFGU3OSbK6yNGPM6jjsJV2MOfQdyjK2NkgfC6G9Gca1duloUuFMH6PbwwRql5mgri2MX2dgs0Idy8FaG7a2LLmphQbQb5bHq5FJZFE3VzS2OlV8n2SLy0Q2G86rObRSdJBZnXynfVE/S875HyL4FTfhC1myFyO89q8dlcirmXkoWBtoqGiBc7ubyDclG1mtVdHd6jm2/PysJX8jh73FXj/qUzMXzCy+Jlas5iXGRisVrW5j10WNm78XOqkLo/Ts9ta/nsteE4O5X6FdWcYA0zH6Pm5n+ICCfm6pSgVih0ZRjwbqzmXjm2H6bg4x4FmYgcv2a1unkPw+V1lSNwz00jUwsikiO9ppXbjATtzdWVK5xTGyut+L55yoiSXsKpGstkdYS90o1j+jYt8SUaypM/vEvjNR8V653BRBK0bUaj/l8ikR3bdM5GwhsjYlovse5QhZSoRB+D6vefo1PdHmY76a6EdGDG11iv5Lc1Uy9lKdzFF71RPk9c/USrSn9LR83dxWW/nJNi+iOxAs+SQritGTJSMxQpQjJr7TlRbm0mHhWiqSddtoU+3T7ZzIf3teRI8FhXerT4xka55lf5kUE+MnRWiXS3jfOl93HDPjAWF/d7mnYHO/RZtURzkWRz5mchNi7POQ6N3qFaH/KPc6JyYOInpjGZH6a1D4PKpQ94TFec2s74To36oI35ExkYqHhbrbdG3SYYHdIVzbVeFqQSidITFmkp271C9cpfqL54hZ16WjY/VskY/5BC0OoW5XhcNuF45dIyJjCsXM5U6K3hZVBP46IVKne4V6JFWST4lw7XWuitbMicnPeoWyPSBGkikR3a2KcLr+Vag/5+0i+B8VReYu9Qunvd8UDSmRHRLOtn6RWog4XRfR3fYl7DMjxvYgAuNLhNvqzc+5vMjEo2Jon1e4doyIzK/VIvXngpnlr4kQpf8Be8ZKEbDb2VWIpb8X18VJj12E/z4pxo4EhOpRhW/fSdP1XO6aFOe+skkV6naHsNsdovevGVNU7rqI7nCV6tfR0WzDJf+n1EQvV9TvjJh41yWUHWExlj4vwtt7RbT0vaj3PagfKV/qGmRE2F6JTEokZh6NCNnTnQwmEiQ+eKlu8ZWh4/BBMcr14c6viP7fW0A5ovYhL/ECb8dKUbByhO2X/+TylWch04/H4yl+TlSy0yZP/JGf+kJ0Pv0bjO83oN1hevptWi7+BExliOs9qJsMdF1H13VQnLR/r1EAjPkCVlMIoKHRSnbWAAwyl0ZRu13YSnK6ruDwjKOZoj2+3V1LRmUKP9dkCBr6gg66bgBWvO+MYTvSQdcbA/S92kEgbaG9bmsakUNDuI8E6ibRaicGGHKFCbRVdYj2fY78r8CsjpbTqnOQdI3slA7oaDdyFBYlDuskv47g3+5eMgeufr9mrNReopkfs2g3gVkN7YdC6eldpzAN2okok9vCROPnie6YI+yq5BXpP6TJbg7hX58i/OYIFofCwlbGW4Ncv5gilZwg9aNgYlee4K5hsgCzacIHNfYf6V02WsnVJNGnfaj1omNL2MLePcTkxQwTyQkm8zkijijeQ/GFiEQ+m0bfFcBrRAi8o+FoWSbx3mqrRI/m82S/1end68U4ESD0owNlpTn7Uxni3/jxeSoCln8LENw8SPK7mrptQUZ3pvG7/PQd3k/Xv4+Sb3bXbdZIhAnmhgi+WE+RJeanoZG5lmcG0G9q5G5UR+nqzwUTy14TYDZJ+I1Jht701Y+8QbVdi0ot8b0oUEg0cf5EFMvuESbiYww4k3h7y3mby10TO75jk6S+nWAiOUk+F6E15mWg9Cai9kUfI5uHCW1d6ptUJJuIYntRrT9PbyaJn/KjVoWQl+8XPUf6WiuhXXZSR/Yz0tha/QJDranW1el5yWvQhLItj75kLpzkSebxeMty54f8YVPxT/uzL3DlpwJULz4uwVdc5ksSiaeAW1zof5lPryX4A5/yRz4k8fvi+SeOmwWSZHCeiBRvziXU0ttezs4w+QMR4tv6cJNi5K95wh85KTsIBT1GpGD6B/j0UM1bgUtjsVT/8kEhEcb/UUmLTSGix73Ym32czHnRZw1Ya8W6Nknf21r1kgw66T/7ibjGSXYvvu3olwfxf+5mPOGtufFYce0J4QJC76QZ2KYStmuEt5fG0+IldNALhAh+0cOGV6xcj5uWSowMqVO9uI/Wv4ks7teCdR3kf9FZyDimgHbOh3K8Iqd0hwh1AweDxHZuwH/qOuf3NGFvhqbuIIG2oqy9M8B+1wbSV8OoLXEGDloIp4M4Ad/uILFX3Xg/iJN6ywlYUZ4z9bEjgP+VUXI3gsx87GPQ1sPQ2WGGgZnvNbgZZfj9GXwHvQvj1b6Nk98+VP9muJQtGhXTW4VWXLsCtG7MkvvYi+vqMP6El/jnPqz04tubZrBTpa8xx0i3BUubRv4mUH4D94ZGDgdd6yH7gZ9kZ5yTL1phl4/A5UG82/uwfj+C93bz72aBJDbCVao20GAFLV+AqgU5C653J5jcp2NQXI7On+ggOlszzukYgTfyDCeG6jwQLDM/rS4CB11AiIHLA7i3h7FrYdRS8/XnQuUKLHtN5jVib7xG/vgEQwsPBMvbtaTUEt8LO3ZPFvXNDN7mYlvOvfsJvD5E+kYA/ezy18TS7KhY1uqi99VWNlzNMeKYZP8rGsq7KUbfTwEaKTQmPx5m7t8DBLaWbaaRSeRRj9Z/bDCyKSK73TXXdZl+ux3ED4WwHEkRbANeDBD8wo+7e5h4OoTS2AT5Gaq+rdPj+JqHqtpf9hpIJEvweDhkd81L+H9fdtye4l+a4fJ/X+fCP76CK1/h+Zup6hUPX73wNl/W5pk9jqxX8P0wg/dAaOEmUMU6hVbHJNrZCDkstJ+I49tkAewom+1g7yW09+7+FVmfrs7psncPMdFdp+JaC9ZymO5qlmSnk+DCfa345qHvx/2kTrsWRaqMbwbx7phkfzqKa5knXxpdqJ0FRgs61MmQUbZ58b5SoACVf7w/ZEnSSk+91LK6/Vpp2ugkNaVB+bZ9QyODgqtuiouCq9OL/0axV2WjilYwx0gaKt/qqSyjHpWRctFahd439uM/nqPwlrN+zk+JVl+UCU/lWP81DhYHzudNETZ0ctkk7m1L5OEtY4ulKORSNG03RW6sLgJvumkq3Swdrizxn3UoOaDc0Eh5FOwUSKebUE2RKOu/Bdi/rYns1AocsvUKPpJFp2ShroZ2yU7rO/UHYFnIFdPJpifx7nZUCqdj+F0jtJ5L0ttcK7n8/KzqY6uKtzBajMQu2gamei5Q0mXpa1J8G3Jk4zjJXUpVO0vbtQ5V34smlDZIVz1QUMqvK5C722tidRNKmnW0kCOH3emkfb3JYnqObMKN+/P6zeSuJWFjz7JzvUaC7Ccq6seVM8ru/ex/ZYjcjRDOZxSc6Rwa3tK3tYD2PShbzfZe/hpoZx2of6tTJHnieTSWLO8JO8++cIWf/r+a00//L/7tha+4dK18YpJLf3uBf2vfQOdgeXkzQSLxJW+/AC99UCfp/3FhrQW0fGXpY72XwL4oA++nK+fm9YUweyE9xsy2AMGDIUIHq/crcnX3MXd4gNh0pXn95h1shtjsoDerLb8Vw3SWbHmpUM8yfGgI976e0i3JIP1eF/4fAyQ/XrzcZnwzSNfuSQIXI4tulNqZPgYumJJzp2NETjlxO+wwm2bw7QiV/Hid9BcR4nscOMyNzM6QrZMov1y/zu4gTafHSJfsm/s6inakB7elKNd3wpRgrKeJfRYnsKnYq9IZQDk+VLH3dJKxS/242oB1drwnoowvLKsapONj2Dcr2NGIHRokWaiU5U6NMtzpxbXegv15FXV75eN2WOGZdtTtDtNtdwa9sExSdj1bzKYZPhSrsmP8s1Em33XhBKx2B6kz42QXlnQ0kufG8bUogBV1Rz9jX8QXtiKJj4/g3tOFghV7S4roOdM2F9NJxs76UOrtZ1d3zp9n6JPKnNe+GGGkuQ/v87XCBrlvcpWtG84OEM710VOOok6P85pnBOV0nP5Fy23LzU+N2NsDxE1TUDsTIdLmxrH+9nOhyFLXRGP81Q5G1keJ/6nWCVzOrrf5XmDB7QuTOTa6MH+Ny+cZ6/TiWr/8NTEuDzNwxjSem3FGP56k/9+csM5RNf/U7e0oWGl1qTirHDKdPO31rzFgzGRLc8d0brl+sWPvjBA9Z3oR5vJ5xuylPtp8BJuijF0ujeiHMaI/hunZZrboMt+LQp7JpRxdiWS1k9hque3WFDXJ/VNn9oktf7lcvU2F6XixvGnbDPPLAktubfF4JPVXJY3Xbjvwy3kRbEEoW1Xheqv0qvuvGTGyyyHsLS6helxCafGKoXKSv3ZS+EBQ+tg3qULdMyRSvxSLr/9HSHhb7MKxXRXqJkU49pQTyYvJtMu/5n5dnPQsn/Q6kwwLb4siXB6XUOwOEfh8spI0/m1Y2E26LXx2REVeZETYXqesnCz8S0oM7VAELa5Ssq8qQrFy23NiMhYSqr04LlcLQtlRGXOZfMxXZ5uC2/QrhLj+t4BQ7A6hblWEvXuoksj966SIvqUKu91RvA4owncsVbUdwczf+4XaUiq3Vyeyz/w9LLybHEL1qELdqgjFlCQ+c2lI+FpM4+kMi4ma8VSNa1Hicp25dVtblO2oCJenlNS/96SY/NVU/nlAODa5ijpvUoRa9fLEnEgdVYvzcpNduA6Yyn6dFCf3OoRjqypUjyocLeoSSe9i6Tlfvv6b7MK+vb++Peaui+heRzEpfJO9xm7FbVkWX+uSnZadn+VrUtSrqENIRHNzC+O73VxY6prk/9ZbV6fKNV3Grst+LyrXTCmXtwQqL4csd03K41lot+a7vGhcdZL602HBklu3LPH/5nb9/jIhwp2O4v8vj0soLTUv92hjItBiF47tLqHYvWKo9sWfZb4Xc38PLb3NjuSJZ40QQvw2rt/KmJm53SaBDxc2m+32lR4JDHTdMC3DlJjV0edNy4MYZN/rYWzbGOE2A32+eC5z3Iu/IUL+XWdVe1isVS8ArATtVBeD1mgx7+R2+jZasdzvhfdZHX2exbYw9cvamm0E7geGjm6YbV1bxjLjXeL6rUBnQ9cxWKLfB8Zt7DhvFHMEl5o/i+ZlbdlS12+xDref80uw0np3wbLX5LZz4R64F7vOG+iz3LnsgxzPctym3+W/F3fz/8cgeaiLXO8EwU33oLfksUU6ZPfI4+OQrZQ0g2uGULSxqqW37HvtBBujpA44lhZdKTfj7H89T2i8/r5CEolE8shxI0bPYQuRz5d5u1XyRPOEJ/VL7hwXvs+hp9tP5pV2moB8doycfYDowfvgjAGs8xJ6O45RnScskUgkjyy6bqXvcO1b3RJJBRkhu0eevAhZidkCuWuT5GmidZMD+/1evpNIJBKJ5AlCOmT3yBPrkEkkEolEIrlvPHQOmUQikUgkEsmTxhOwD5lEIpFIJBLJw410yCQSiUQikUhWGemQSSQSiUQikawy0iGTSCQSiUQiWWWkQyaRSCQSiUSyyjx0G8PKbS8kEolEIpE8acgImUQikUgkEskqIx0yiUQikUgkklVGOmSSO0afSpO7uVqdp4m8HyGt1yvTSF+rV/CoYJA8/BrjN1Zbj/uD/vV++r5+lK+HRCKR/HY8dDlkknsn+1EH0eYoQ91209kC8bf9aL0TBJ+/l9ZzRHe7Cf97hvy7znvU9C6Y1Yi/E6dhVwBXza/05r7w4z7aRSbfz8o008ldzNO03fFw/ODv1VEG53s5v758wiB3bpTRM3GMzUFCB3w46ip6r+PQyZ6JEDkXx2j24X01gO85y0Kp9vUw4z+Y61tx7y3ZX08TOZGiyu16zkeoW8Hq8WPzRch2h1Z4PSQSieTJ5bGJkE2e8ODxfMrkaivyEGDoSbTZxef1G0n0+Xtt3UHw4gzawYfvFus4kGTmx5U6Y4CRIaKOk3uQSt0B6a/H8O5UKbtChbMBuk4Z+I5FCbYkCXQOkjXqCN7LOOZzjP57OwPTDoJ/jRJy5Rly9BCZKlcokD3bR1JbQn4qyUAsQ91XcSwuvJ4xxi7WU1oikUgkZp7wCNktLvS/zE+7EvxhU03RtU/xvPVV5XjnhyT2tv6m2j1Q5g30WbBaLRSuJpmcAZtDxWkOqs0XyF6aZIYGmja7cKwrnjYMMCxgMc0e/Yc0mfwcDU2tOOxFl8JitWIxdPR5K9ZGHe2bDNpcA4rThVITyqnIt+N6rrZQI53VmGtQaLezNIYB80DJpTF0HRqtWGZN8luVYhRp3kCf0tCYY0bX0bFgtZZcIaNANj3JDDZaXU7sFnMflTLFqWADWGvF2lgqv5kj/X2euYYm2p93YC3bqGwHS9GmxjPtuFrM40yTPN2F+qfycZbo0QL9Z6OozUBzmL6EjUgiyEi3SW65cWBQuJpicgYaFvVXYq2DwOkMQWup7MUww0eaCH6dJfCWc8Gs7jdChLbWsfk8FDZ2sf9gL/UujXN7D4FYioHtFUdTIpFIJIt5bCJkrXsTJBJ/4P64TJN8+hZ8mEiQSCRIJL7k7ekoF365L40/HHw3jO3VMIOvugnGsiTPDOJ1+iv5S0aWwW1uwpcL6IUUwzu7GL1mAAXGX7cROFcoVyT9Zzfth1Po6KQOu7H5+hg9MUZWh8K5ALZDgwx6/QzGs8Q/8bOhKtKjkzzkpv3wGNnvsowdbsf9XpZysfHNIB2ODoYuZMnGh/HvGiC1xJAK5wLYXh+nqFlRz773BunqHeT8d3FGd2/AW277aoSeN4dJESO8s4eenRGygDEVwb/Zz+jFLNmLo/g3m2wyHcO/2U902sCYjvKaw03gaITIxWL4SL84gNs1wNh3WbLjA7Rvq4yzcC6A7ViM2Os+hi4kmdRr3JOpSZIuB8rCcYb4VZXWlvIJK87tPkav1sTBlhgHszkiryi4j8bJfpck8no7He+lqRerslirHTVLY5PpaI453YeynroYv87AZqWuMwbAc07URPahiUJKJBLJQ4t4yLh169aiz9SZfWLLXy7XP/5nVOzbskVs2bJFbNkXFVNm2X9Gxb59URH9S6l8yxbx3j9MbWzZUvPZJ6L/vCVu3ZoS0X1bKn384z2xZct74nId3R5GUkcQvli+5mxeRHcgwunSYToswCdOauXyGTG2xySXDgu6T4rri1ovtrNQLz8megmJiblS8dyECBEU52dKxTGfoK1fTMyU5TNiqK2ix8x/BIV9R9TUT0YMtflE9OfS31sRvtMmLbSTwke5vEazmE+wIyryJj2df5oQC11nh4STsEiVj3+OCp/5WGTE0Fan6L80t3BmZjwg7EeKNTJH7UL9rKLL9c9U4TyeKR78cl4E7T4RXbCnEJljzgU75WM+AV5x8sfFegshivY+kqo+XhhLxVa15+qPQ4jMcZew7ztfGfuvKdHfZhf9ybla6RoyYqjNKYay5eOUCGMXjq2qULcqghavCI1XbJCP+QQtDqFuV4XDbheOXSMiM1PdXthemQ8SiUQiqc+jHyF7upPBRILEBy/VL79ynON8WIx0ffASX525wC3gqd8PFiNfL8BLH5QjYYN0Pg3wFJ2DCT7kj3g8HjxnnuXL+xZ9e5hop7W5/LeVJsVU1OIk+O0gfe/Hl3+jct7AwEJDOeBjacBGHt2cw7axldaFIEwTTRvLfxtkLo2idruw6Tq6rqPrCg7PONoNilGib0IEd5gUW9twRyNUHK2VRPd1TSjLVZ7KENd7UDcZJV10UJy0f69RAIz5AlZTYKuh0Up2thhzMrJJRj09uKz6gqzynMr4lCn5aoefrhbqUvj59tmPVttKU/Y1MhfS+F9UK2NvdBF4o5XBi9nlJU8MMOQKE2grn3ER/DFJ6tIEE+nriISf/Bt+hq8WS+3dQ0xezDCRnGAynyPiiOI9FDcl+TehbKuZDxKJRCJZxBOQQ/YSH5Zzv/7ns7xw5ScKwFPLyhRzy443f0gi0crkCQ8ve37iw0fJKZufuzf5dV5GchPEvximzxXA6B5m5EgvjsaaeutV/LsHGDnRg7KjifzZESK7/aSWWOKqRqcwDQU9RqRg8nSeHsK5DrhZIImN8G+VfHSzQJIMzhOlZb8SaqeCBXB2hskfiBDf1oebFCN/zRP+qJhnpd/U4IZO7ETelCvVxFDbcklvFSwWW+0JnD/mycPCcmDh5xw817X08uACBQoJsB2pNlxDoxWm8xRMbZrRLw/i/9zNeMJb9bamtcVROWj2EdjtZzRXINRmh0bFNCesuHYFaN2YJfexF9dt9ZRIJBJJmSfAIbsLfvlPLl95iQ8Hi+5X694veXv6ZS5d+wOttcn/DyH2Zh/j32sYKCbnQEO7pGI/egcNWRW8B0bw7htg/E0n/hMOMm811VaiaaMTm54iesKAdQFSn6srcBoA7Cib7WDvJbS3TuxqrYKPFDM6/Cb7UqxX8P0wg/dACLWeE7hOodUxiXY2Qg4L7Sfi+DYVK9qVduxr7fQeDCwfhVsC69M1dm124L4aJ6+DszR2bSqF+sxKLKug7IBkvtpw2lQKu2Og7rUxvhnEu2OS/ekorlqn+57Q0M46UP92P9uUSCSSx49HZ8ly+r+4BfDLBYaHrtynRp/iX5rhp/++VafsJ/5rIYm/wE/3q8vfAMXlxfv+AMOXywtHOrlPhhhw9qIusWS2iB/SJMt5+2vtKM/UOmJlsiQPO/C9FSR0MERoj4r9Dtx8V3cfc4cHiE1Xzuk3S3o3u/B2jhL+qJyMrpO7cH7JpP47Zq0FCxr58pLsei+BfVEG3k9Xltzm9YXltkJ6jJltAYIHQ4QOBvFtMnmJW730/TrAwBemJUpdZ8XbojY76M1qLEhbVXzvjhH5unRGjzP2sZtAZz3HtWYc2PHuDnL+2GhlA93pGCMfK/R1Lt4UxPhmkK7dkwQuRuhtri7TzgwweLFQqftDhNH3vXj/1Q6zaYYPxcgtDFIn/tkok++6KluPFPJMepZJ+pdIJBIJ8Ig4ZE/93s9LV47zsseDp/cn/OZ8sWufFvO83voKynX6i3liK6H1/7wNQy8X2/D0F9+kfLqTwQ+e5Xivp3T+j/zU9+XirTEeVloCRP/eRWqPjTVr1rBmjY2ur9uZOL3y6I1hZIh4NtCqdtDh2kBPNkBkb70dvpy43h2n43+sKfW1Affveug7k6v7Rt8i2kJEP2si6mkq9rV5A+534iXHRCHw8Ritp90omztwb+4h0uimZ4VjuC12Ff+BJD0uNx2uPuK6Fe+xOP5cAMdGNx2/c7PB4SdytTgSu8sLr24ojXMNTZs76Hh1mPTNoh1CZyI0nekonldb2bCtj/j0shqYdHGizqZMzo0F9dA47afcbHB10OoIY3w2RG+9peBF4wBr9xDxDK7quQAAIABJREFU3gx+2wbcaitNrgjK6TihtlrhLMMvDpCcivGao2FhbGvW9BC7AYqnC8sn7uKYXBto6I7T/vcogRag0Yl3c4b9jg24f9dBa5ODPj1I8lBliwvj+xS5zva7ihpKJBLJk8QaIYRYbSXMzMzU3WLyocVms92+0ipi6DqGeZ+su5Gv2tuqhhvj+A8ZhD/3YZst7/EwRsCRxJ+P4ltxaMRA1w2wWKnX1cKeYg9gkd3QdYzafmd19PnqPb2y7/Uwtm2McJtR2mDXIHPci78hUvWrBbe12RJop7oYtEY5+WL1+mxd/VY6jnkDfdYo7gl3R9rUMKujz7NEO6Vrt2ieGSQPdZHrnSD4qDzMSCQSySohc8gec+71Rnw7+cKlKLHmPqJrLSx4AoYNm92G5Y46Xt6Bqd0r635Sd4yN1pq0tSzxQxZaNQs0WhbKbA2gNFZL363Nle4gltfH0F6sjmSutL269dbeuWNYl0X2qOq5fh83xhktBIlIZ0wikUhui4yQ3SMPe4TsgXMzycDO/WSf86EqNvhVI5nI4/0oQvD5h+IXIu8buVM99By34H2lnSYgnx0jZ+9j5JgP5T492miX4xibvEv8ZuWjhX4tTq7Ri6v59nUlEonkSUc6ZPfIE++QAWCgT+fIaDPYlHYczfe4PPYwM1sgd22SPE20bnJgv69vJEokEonkSUU6ZPeIdMgkEolEIpHcKw+dQyaRSCQSiUTypPFIbHshkUgkEolE8jgjHTKJRCKRSCSSVUY6ZBKJRCKRSCSrjHTIJBKJRCKRSFYZ6ZBJJBKJRCKRrDIP3U79j9q2F8sht8SQSCQSiUSyEmSETCKRSCQSiWSVkQ6ZRCKRSCQSySojHTLJHaNPpcndXK3O00Tej5DW65VppK/VK3hUMEgefo3xG6utx2qjE3+zj/hqzTGJRCJZBR66HDLJvZP9qINoc5ShbrvpbIH423603gmCz99L6zmiu92E/z1D/l3nPWp6F8xqxN+J07ArgKvmB7hzX/hxH+0ik+9nZZrp5C7madru4KH4Le+rowzO93J+ffmEQe7cKKNn4hibg4QO+Jb40fH7MI75AumzUaLn4hjNvfS+HUAtTR/t62HGfzBXtuLeW7K/niZyIkWVG/ycj1C3Uvy7kCRyPEbsKjh3+Qju8KKUf/9zGVm110bPqSzeg6swxyQSiWQVeGwiZJMnPHg8nzK52oo8BBh6Em128Xn9RhJ9/l5bdxC8OIP2EN4oHQeSzPy4UmcMMDJE1HFyD1KpOyD99RjenerCD7MXzgboOmXgOxYl2JIk0DlI1qgjeM/j0Ii96mbgWyu+IyMEXQVGD49TKGpB9mwfSW0J0akkA7EM9V7FMaYi9Lw4Dp0hoqdDuH8Ms2FnBG0FspatXtTxMZL1xiuRSCSPIU94hOwWF/pf5qddCf6wqX7Z8SvwQt+XDP7+qZryST71/JGvAHiBt2ODdD79W+h8n5g30GfBarVQuJpkcgZsDhWnOag2XyB7aZIZGmja7MKxrnjaMMCwgMU0e/Qf0mTyczQ0teKwF10Ki9WKxdDR561YG3W0bzJocw0oThdKTSinIt+O67naQo10VmOuQaHdztIYBswDJZfG0HVotGKZNclvVYpRpHkDfUpDY44ZXUfHgtVacoWMAtn0JDPYaHU5sVvMfVTKFKeCDWCtFWs56nMzR/r7PHMNTbQ/78BatlHZDpaiTY1n2nG1mMeZJnm6C/VP5eMs0aMF+s9GUZuB5jB9CRuRRJCRbpPccuPAoHA1xeQMNCzqz2Ter4cJGWGyx3uxAzzXz9iL1WZ1vxEitLWO8DwUNnax/2BJ1oSlJcBYunLse2eAoC1C+kYAZf3ysuBE3RkgemkA1WNZVCqRSCSPG49NhKx1b4JE4g+03pfWJvnU8zI/7fqSt1+oU/zLBfo9f4QPEiQSCRKJR8wZA/huGNurYQZfdROMZUmeGcTr9Ffyl4wsg9vchC8X0Asphnd2MXrNAAqMv24jcK5Qrkj6z27aD6fQ0UkddmPz9TF6YoysDoVzAWyHBhn0+hmMZ4l/4mdDVaRHJ3nITfvhMbLfZRk73I77vSzlYuObQTocHQxdyJKND+PfNUBqiSEVzgWwvV6J7Iy/bqPvvUG6egc5/12c0d0b8Jbbvhqh581hUsQI7+yhZ2eELMWojn+zn9GLWbIXR/FvNtlkOoZ/s5/otIExHeU1h5vA0QiRi8WYj35xALdrgLHvsmTHB2jfVhln4VwA27EYsdd9DF1IMqnXOBlTkyRdDpSF4wzxqyqtLeUTVpzbfYxerYmDLTEOZnNEXlFwH42T/S5J5PV2Ot5LszjgpJO6MErPbm8dpwhgjjndV3Sg6mD8OgOblSVkayho5OwO7GXH/jayjk0qyWsPS/xSIpFIHjDiIePWrVuLPlNn9oktf7lc//ifUbFvyxaxZcsWsWVfVEyZZf8ZFfv2RUX0L6XyLVvEe/8wtbFlS81nn4j+09z3lIju2yL2nZlapE/tuXqf1SJ1BOGL5WvO5kV0ByKcLh2mwwJ84qRWLp8RY3tMcumwoPukuL6o9WI7C/XyY6KXkJiYKxXPTYgQQXF+plQc8wna+sXETFk+I4baKnrM/EdQ2HdETf1kxFCbT0R/Lv29FeE7bdJCOyl8lMtrNIv5BDuiIm/S0/mnCbHQdXZIOAmLVPn456jwmY9FRgxtdYr+S3MLZ2bGA8J+pFgjc9Qu1M8qulz/TBXO45niwS/nRdDuE9EFewqROeZcsFM+5hPgFSd/XKy3EKJo7yOp6uOFsVRsVXuu/jiEyBx3Cfu+85Wx/5oS/W120Z+cqxG+Lk567CL890kxdiQgVI8qfPtOisyCYEqEsQvHVlWoWxVBi1eExis2yMd8ghaHULerwmG3C8euEZOsEELMify350X0WFB4t/rESHZu5bLfhqvHIJFIJI8xj36E7OlOBhMJEh+8VL/8ynGO82ExkvXBS3x15gK3gKd+P0giUYyAvXRHka5b/Oc/rvAs/0m/x4PH8yjnrrXT2lz+20qTYipqcRL8dpC+9+PLv1E5b2BgoaEc8LE0YCOPbs5h29hK68JqWRNNG8t/G2QujaJ2u7DpOrquo+sKDs842g2KUaJvQgR3mBRb23BHI1QcrZVE93VNKMtVnsoQ13tQNxklXXRQnLR/r1EAjPkCVlNgq6HRSna2GHMysklGPT24rPqCrPKcyviUKflqh5+uFupS+Pn2M8hqW2nKvkbmQhr/i2pl7I0uAm+0MngxW9szhUQT509EseweYSI+xoAzibe3nOvlIvhjktSlCSbS1xEJP/k3/AxfLUrbu4eYvJhhIjnBZD5HxBHFeyhuStQ30L7Pkf8VmNXRctpClO62snYF9029TlRPIpFIHj+egByyl/hwb2kh838+ywtXfqIA1GaE3Slf/QO+TCR4Crj1f/t5+cQkib33Z8H0vjA/d2/y67yM5CaIfzFMnyuA0T3MyJFeHI019dar+HcPMHKiB2VHE/mzI0R2+0ktscRVjU5hGgp6jEjB5Ok8PYRzHXCzQBIb4d8qhehmgSQZnCdKy34l1E4FC+DsDJM/ECG+rQ83KUb+mif8UfEVAv2mBjd0YifyVNRtYqhtRYt5WCy22hM4f8yTh4UlvcLPOXiuawXLgwUKCbAdqTZcQ6MVpvMUTG2CHbsni/pmBm8zgAXn3v0EXh9ayPWytjgqjTT7COz2M5orEGqzQ6NimhNWXLsCtG7MkvvYi6t8bk8IFxB6J83ANpWwXSO83bICWYlEInlyeAIcsgfDS7s6F5y6p/6fZ+Ef/8UtWu/Z0bsf2Jt9jH+vYaCYnAMN7ZKK/egdNGRV8B4YwbtvgPE3nfhPOMi81VRbiaaNTmx6iugJA9YFSH2uriynCDvKZjvYewntrRO7WqvgI8WMDr/JvhTrFXw/zOA9EEKt5wSuU2h1TKKdjZDDQvuJOL5NxYp2pR37Wju9BwPLR+GWwPp0jV2bHbivxsnr4CyNXZtKoT6zEssqKDsgma82nDaVwu4YqLk2TShtkP6luu6dxSFXSKMLtbPAaEGHlcyQGxrjz6mMPQhdJBKJ5CHj0VmynP4vbgH8coHhoSv3qdGn+Jdm+Om/b92RzP/63y/wVbqyxDSZ/ooX/vf/eiicMQDF5cX7/gDDl8uLPzq5T4YYcPaiLrFktogf0iTLeftr7SjP1DpiZbIkDzvwvRUkdDBEaI+K/Q7cfFd3H3OHB4hNV87pN0t6N7vwdo4S/qicjK6Tu3B+yaT+O2atBQsa+fKS7HovgX1RBt5PV5bN5vWF5ddCeoyZbQGCB0OEDgbxbTJ5iVu99P06wMAXpiVKXWfF29Q2O+jNapUtIawqvnfHiHxdOqPHGfvYTaCznuNaMw7seHcHOX9stLKB7nSMkY8V+jprNwWx4PaFyRwbJV0ap3H5PGOdXlzrQTszwODFwkJt44cIo+978f6rHWbTDB+KkVsYpE78s1Em33XhBLQzfQxcqMgyHSNyyonbcXtZKC7jrswBlUgkkkefR8Ihe+r3fl66cpyXPR48vT/hN+eLXfu0mMf11ldQrtNfzBNbCa3/520YermUC9bPhV+guOWFB4+nuO3FlVL5p9fK+oR4e/qPJRkPf+TDOttirCItAaJ/7yK1x8aaNWtYs8ZG19ftTJxeefTGMDJEPBtoVTvocG2gJxsgsrfeDl9OXO+O0/E/1pT62oD7dz30ncmtLPenLUT0syainqZiX5s34H4nXnJMFAIfj9F62o2yuQP35h4ijW56VjiG22JX8R9I0uNy0+HqI65b8R6L488FcGx00/E7NxscfiJXiyOxu7zw6obSONfQtLmDjleHSd8s2iF0JkLTmY7iebWVDdv6iE8vq4FJFyfqbMrkoFhQD43TfsrNBlcHrY4wxmdD9NZbCl40DrB2DxHvzeC3bcCtttLkiqCcjhNqWyxu2Roi+rqG3+mmQ21F2VNg4OPiXFE8XVg+cRfH5NpAQ3ec9r9HCbQAjU68mzPsd2zA/bsOWpsc9OlBkoeKe6kpnh5sp9ys2Vhst8kVoel4lGDb7WXBYPLbHN5/vZt4o0QikTx6rBFCiNVWwszMTL1tIh9NbDbb7Ss9YAxdxzDvk3U38lV7W9VwYxz/IYPw5z5ss+U9HsYIOJL481F8Kw5wGOi6ARYr9bpa2FPsASyyG7qOUdvvrI4+X72nV/a9Hsa2jRFuM0ob7BpkjnvxN0SqfrXgtjZbAu1UF4PWKCdfrF6fravfSscxb6DPGsU94W6ngGlvukXM6ujzLNFO6dotNc/uRtZIMuDN4U8GcSySkUgkkscPmUP2mLOiG/E9yBcuRYk19xFda2HBEzBs2Ow2LHfU8fIOjMX64JLI6o6x0VqTtpYlfshCq2aBRstCma0BlMZq6bu1udIdxPL6GNqL1ZHMlbZXt97aO3AM11pY0syL7FHV8/J93IVs4dwohQMR6YxJJJInBhkhe4A8DBGyB87NJAM795N9zoeq2OBXjWQij/ejCMHnH4pfiLxv5E710HPcgveVdpqAfHaMnL2PkWM+lPv0aKNdjmNs8i7xm5VPCjq5r3NYul139YKERCKRPIpIh+wB8kQ4ZAAY6NM5MtoMNqUdR/O9ReUeamYL5K5NkqeJ1k0O7He5FCyRSCQSiRnpkD1AnhyHTCKRSCQSyb3w0DlkEolEIpFIJE8aj8S2FxKJRCKRSCSPM9Ihk0gkEolEIlllpEMmkUgkEolEsspIh0wikUgkEolklZEOmUQikUgkEskq89Dt1C+3vZBIJBKJRPKkISNkEolEIpFIJKuMdMgkEolEIpFIVhnpkEnuGH0qTe7manWeJvJ+hLRer0wjfa1ewaOCQfLwa4zfWG09JPUwro7y2kfZ1VZDIpE8pkiH7DEk+1EHfV8Xas4WiL/dweh399p6juhuN+qJVboxzWrE34mjzS4uyn3hx+0ZZeWa6eQu5nhoXLirowzO9+JdXz5hkDs3zP6dHbz253FySyp6/8ZhXI0x/H4czXxuOk7kndfo2LmfgVPpRf0ULo4WdXwnQrJ22i2gkfxomMg31dLLy+poFyL0vdpBzxvDjJed7ak4w+8PL/4s6GaY5AaIXK7ReL5A8qP99PzuNfpOJSnMV+sZX6JdS1sP6qVRxlfrYUQikTzWPDYO2eQJDx7Pp0yutiIPAYaerOuw6DeS6POLz98ZDoIXZ9AOOu+1ofuO40CSmR/7WbFmRoaIOk7uQSp1B6S/HsO7U134YfbC2QBdpwx8x6IEW5IEOgfJGnUE79c4ZtOE94UYeidL2TcqXOhD3RUHXz9jx/w0XfTheCdJWQ3tjB/3KfAfG6O/s8DwNj+x6cVNa1/04T86RFyrDGB5WYP0n710nNJxvzlCeIeV5JEI2brz1yB3oY8x3YKVAvG3VfwXoOfwGEOvNJHc4aAvsaAxsVfdRPAz9Ld+vIVh3K/GKg5oIUv0nWSVQ1rBjne3hcjX9UslEonkXnjo3rL8bbnFhf6X+WlXgj9sqi6ZPOHhj3+rHL/0gblOUe74leLRC31fMvj7p34Lhe8f8wb6LFitFgpXk0zOgM2h4rSb6xTIXppkhgaaNrtwrCueNgwwLGAxzR79hzSZ/BwNTa047EWXwmK1YjF09Hkr1kYd7ZsM2lwDitOFYq1WpyLfjuu52kKNdFZjrkGh3c7SGAbMAyWXxtB1aLRimTXJb1Wwlsc/paExx4yuo2PBai25QkaBbHqSGWy0upzYLeY+KmWKU8EGsNaKtbFUfjNH+vs8cw1NtD/vwFq2UdkOlqJNjWfacbWYx5kmeboL9U/l4yzRowX6z0ZRm4HmMH0JG5FEkJFuk9xy48CgcDXF5Aw0LOpvkfFIHwuhvTlM4JuKw2HvHCC+rTw+heDRYZLPjJM8pOK1Zom9XaD/UhBXM9DcT/TYazg+S+I7WnEsmY7R93E7w4dhbKHl28heHSU03kU0HcJlAXAwsr0k2uIldNBbUX0qQtfFk0TfKrri3sNxVKu12H9zkOHjSZrOJRnweLF+FyNU6Cd1wIUCKO9GGXrVQeSij/B2C8wbGLjxHwzhqmMl6zYvys4k2p4AyjLWlEgkkjvlsYmQte5NkEj8gdb72l7p88FLfHXmArdKZbf+7zCX//eXxbLY2zA0zIVf7lPHvxXfDWN7Nczgq26CsSzJM4N4nf5K/pKRZXCbm/DlAnohxfDOLkavGUCB8ddtBM6VYygG6T+7aT+cQkcnddiNzdfH6IkxsjoUzgWwHRpk0OtnMJ4l/omfDVWRHp3kITfth8fIfpdl7HA77veyCxEY45tBOhwdDF3Iko0P4981QGqJIRXOBbC9Pl6K7hT17HtvkK7eQc5/F2d09wa85bavRuh5c5gUMcI7e+jZGSELGFMR/Jv9jF7Mkr04in+zySbTMfyb/USnDYzpKK853ASORohcLDow+sUB3K4Bxr7Lkh0foH1bZZyFcwFsx2LEXvcxdCHJpG6pVn5qkqTLUbnJT2WIX1VpbSmfsOLc7mP0ak0cbIlxMJsj8oqC+2ic7HdJIq+30/FemnoBNgDjcpjQ9H7CLmoibSZnE6DRSlNFCgpWGkxDsTpV3KfSpjY0Yu+M0P5BCOXmuLnHZWWzF6MYr3hLzthyFIgdGkU9anKQys5YCUtjRWPmoWBtoME0Pud2N5FvShobc+g7lKWdLasDJ9lllo8lEonkLhEPGbdu3Vr0mTqzT2z5y+X6x/+Min1btogtW7aILfuiYsos+8+o2LcvKqJ/KZVv2SLe+4epjS1baj77RPSft++/+jMlovsq7Zo/q0XqCMIXy9eczYvoDkQ4XTpMhwX4xEmtXD4jxvaY5NJhQfdJcX1R68V2Furlx0QvITExVyqemxAhguL8TKk45hO09YuJmbJ8Rgy1VfSY+Y+gsO+ImvrJiKE2n4j+XPp7K8J32qSFdlL4KJfXaBbzCXZERd6kp/NPE2Kh6+yQcBIWqfLxz1HhMx+LjBja6hT9l+YWzsyMB4T9SLFG5qhdqJ9VdLn+mSqcxzPFg1/Oi6DdJ6IL9hQic8y5YKd8zCfAK07+uFhvIUTR3kdS1ccLY6nYqvZc/XEIkTnuEvZ95ytj/zUl+tvsoj85VytdLNvaW9S9TltmZsYDgj1jpXYzYqit2l7XY73CbpK/ftonXEdSYk7UzsvlZOfExEFEbywjUn8NCp9HFeqesDhvsu0C2SHh7Kw3Txc0FmN7EIHxmUr9tn6R+nWhVxHdba/YPh0W2B3CtV0VrhaE0hkSY1X95sXYbqcYyi7ZoUQikdwVj/6S5dOdDCY64dqneM7UKb9ynOPNH5JItJbqXGDHYCdP/X6QxO+XXrKEST71/JGvAHiJDxNLxN5++U8uX3kJ/+D9HNRvRTutzeW/rTSZwwItToLf7qfv/SbCe7wLy5WLmDcwsFQiHZYGbOTRZ4HyCtnGVloXVsuaaNpIKUfHIHNpFLU7hE3XSwnZCg7PONkbgJEh/k2I/osmxdZWYhsrQXG0LqjBuiaUJbKDgGJUSu+hf5OBrpdiSYqT9jMaBVwY8wWsptBLQ6OVbKFYz8gmGfX0ELLq6KXoifKcyvhVDSits+7w09VCXQo/TwLqsmOx2pZbcjSjkbmQxn9QrYy90UXgjVY2XMwS3m5ejCsvVUYJNwPLveE5myT8xiRDF06W2nUS/KSHrt3t+F/0Yfshi2W7E3e5fnmpMuFicaBrOVmdwjRo30WZPB4mus+Cngjjcw1g0cKopsayiSi2F8eWjGgZiTDB3BDxz0uWaAsyurMLv8uP70UbuasW1DZ3RWBrkOsXgyilZXPtCz/uXcMo6VApN9FO08YsuaVCjRKJRHKXPPoO2W15iQ/3lpyp//ksL1z5iQJw+4yvVv6QSPAHKDpynk/5cNGS6CSf9h7n2Q8S922p9L4xP3dv8uu8jOQmiH8xTJ8rgNE9zMiRXhyNNfXWq/h3DzByogdlRxP5syNEdvtJra/bag3FG29BjxEpmO6yTw/hXAfcLJDERvi2y1b3iZsFkmRwnohUvampdipYAGdnmPyBCPFtfbhJMfLXPOGPirdp/aYGN3RiJ/Im56OJobblkt4qWCy22hM4f8yTZ8Gdo/BzDp7r4vYtFigkwHak2nANjVaYzlMwtWlcDOP7s42eY+MMvw/MZNDQib4/zMyLIbxlB3JeI/bGa+SPTzDUZlJzaz8T3wfRDcBixXojQsdpHQsakTf8aBv7SX0yTArQ0qD9OMKw0UVgjwvrkrJW7M3Q1B0k0FZ0jOydAfa7NpC+GkbdWu5dI5PIox5dwh2bjhF4I89wYsj0oocF17sTTO7TKXZrJX+ig+hs2VZWlOcqTSg7AvhfGSV3I4RzRXNaIpFI7o4nwCG7D2zawdsvDPNfv0Dr0+WTxQgaH9SLrq0u9mYf499rGCgm50BDu6RiP3oHDVkVvAdG8O4bYPxNJ/4TDjJvNdVWommjE5ueInrCgHUBUp+rK3AaAOwom+1g7yW0t85Nda2CjxQzOpVo24NkvYLvhxm8B0JVUZgF1im0OibRzkbIYaH9RBzfpmJFu9KOfa2d3oN3l+xtfbrGrs0O3Ffj5HVwlsauTaVQn1mJZRWUHZDMVxtOm0phdwxUX5uNPUSTpsjczRniFHA87zS9eFF8M3Fk4zjJXXVGZ7EuRA7179NMdvbiwIbl4ESVLSw/Qs7ejnOzaV7WlbWQ36iiFcyJWg2L/1vpObIJN+7P65hgOobfNULruSS9zYuLLQt5ZjrZ9CTe3Y46jdSjgPa9D2X3CqtLJBLJCnl0kvqn/6uYVP/LBYaHrtynRp/iX5rhp/++tXy1a2c5fuVZ/qXsjP1ygf6H1BkDUFxevO8PMLyw/5JO7pMhBpy9qEssmS3ih3RlX6i1dpRnah2xMlmShx343goSOhgitEfFfgduvqu7j7nDA1VbJeg3S3o3u/B2jhL+qJyMrpO7cH7JpP47Zq0FCxr58r5S670E9kUZeN+019a8Xlx+BQrpMWa2BQgeDBE6GMS3yeQlbvXS9+sAA1+YlkQXlmFXQLOD3qxWWVC1qvjeHatssaDHGfvYTaCznuNaMw7seHcHOX9stLKB7nSMkY8V+jqrNwWxrHeiblcrH1crVhTat6ulZWqN8Vc7GFkfJf6nxUuPxg9pcuUtVqbHGTgySd9OFQtWHOZ2t6u0PwNWhxv1eTuWZWVB6QygHB+qzIvpJGOX+nGZonPoOnnaUWojV9PjvOYZQTkdp3/rIo3JfZOrbNtxdoBwro+e7RZAI3Zo0LQfmkHu1CjDnV5cC33k0S4p2Ff2xCGRSCQr5pFwyJ76vZ+XrhznZY8HT+9P+D94qVJ47VM8Hg+et76Ccp3+yhuRt6P1/7wNQy8X2/D0l96WnORTj6d0zoPnzLN8aVqunPx/j3MF+OotU5076POB0xIg+vcuUntsrFmzhjVrbHR93c7E6ZVHbwwjQ8SzgVa1gw7XBnqyASJ76+3w5cT17jgd/2NNqa8NuH/XQ9+Z3JJv9FXRFiL6WRNRT1Oxr80bcL9T3phUIfDxGK2n3SibO3Bv7iHS6KZnhWO4LXYV/4EkPS43Ha4+4roV77E4/lwAx0Y3Hb9zs8HhJ3K1OBK7ywuvbiiNcw1NmzvoeHWY9M2iHUJnIjSd6SieV1vZsK2PeJ09uerr4kSdTZne3rOgHhqn/ZSbDa4OWh1hjM+G6K23bLZoHGDtHiLem8Fv24BbbaXJFUE5HSfUVkd+GQpnB+g5pZF+rwPbmjULY1/z5zRgkP82Qo+zlQ61lSZPhKZjK+3jNrLre4mcVoh4WovXwRWh/dxAdeSyoDG+qN0C44d7iEylGfydraLvmjUMfgMYebKf99C6uYOOzU10nGpi6OtyfpiC12thdFtxLro3Niz+3kxlSL6o0v5bLaNLJJInhjVCCLHaSpiZmZlZbRXuGzab7fbRqna8AAAgAElEQVSVHjCGrmOsrdm64E7lq/a2quHGOP5DBuHPfdhmy3s8jBFwJPHno/hWHEkoJdKblrBq9aDRWrX32f3C0HWM2n5ndfT56j29su/1MLZtjHCbUdpg1yBz3Iu/IUL+XWd1e8vZbAm0U10MWqOcfLF6fbaufisdx7yBPmuYlugeAPfSx21li/Pivuu/6PrW9LrENdRO9TBsjzDS+VusoUskkicJmUP2mHOvN7LbyRcuRYk19xFda2HBEzBs2Ow2LHfU8fIOjMX64G6AdcfYaK1JW8sSP2ShVbNAo2WhzNYASmO19N3aXOkOYnl9DO3F6kjmSturW2/tnTuGd8y99HFb2Qek/6LrW9NrPVsaaWJn3QTi0hmTSCT3Hxkhe4A8DBGyB87NJAM795N9zoeq2OBXjWQij/ejCMHnH68bV+5UDz3HLXhfaacJyGfHyNn7GDnmQ7lPjzba5TjGJi+Ox8t0jwc3ksRvuvG2yfVKiURy/5EO2QPkiXDIADDQp3NktBlsSjuO5ge4PLbazBbIXZskTxOtmxzY73IpWCKRSCQSM9Ihe4A8OQ6ZRCKRSCSSe+Ghc8gkEolEIpFInjQeiW0vJBKJRCKRSB5npEMmkUgkEolEsspIh0wikUgkEolklZEOmUQikUgkEskqIx0yiUQikUgkklXmodupX257IZFIJBKJ5ElDRsgkEolEIpFIVhnpkEkkEolEIpGsMtIhk9wx+lSa3M3V6jxN5P0Iab1emUb6Wr2CRwWD5OHXGL+x2npIJPeCTvzNPuKr9T9CInlEeehyyCT3TvajDqLNUYa67aazBeJv+9F6Jwg+fy+t54judhP+9wz5d533qOldMKsRfydOw64Arpof4M594cd9tItMvp+VaaaTu5inabuDh+K3vK+OMjjfy/n15RMGuXOjjJ6JY2wOEjrgW+JHx+/POPSr40QTFrwHvSjmgvkCyS+GiJ3JQlsvgXcCuNYtljeuxhhNWPHVygOgkfxoHO1fAwS2mrScL5A+GyV6Lo7R3Evv2wFUu076VIRUnRu648UQ3paqXsl+MUrS6iPUvbhXppOMntVo32ueL0vZdQX96jnGT4wSTeRp8vQQ2NOLc11xfPH3x8ktkrTiXuhbJ30qTOSMhqU7yMA+FbvpP3Dh4ijhT8ZNdjBZ7+thxn9Yol09TeREiqpHkeeq7WHcSBI9o9G6d/H3hkKa2BdRxhIGyq5e+nZX67WUrP5NhMil6gegop2sqL02ek5l8R5chf8REskjymMTIZs84cHj+ZTJ1VbkIcDQk2izi8/rN5Lo8/fauoPgxRm0h/AfreNAkpkfV+qMAUaGiFrvJro6pL8ew7tTXfhh9sLZAF2nDHzHogRbkgQ6B8kadQTveRxZBpvWYHP2sP+dLIWqMp34m26GC176/zZG/3aNUHcdPWbThPeFGFokX0T7og//0SHimllQI/aqm4FvrfiOjBB0FRg9PF5Xnl9SRI5r1HqcxuUwwXeG6Ltat1di/z977x/i1Jk2/H8EX4gwC4lYnoTHdo0obPJVMNOta0J9wQxpmYjL06RaOsGFGtvijm1fnVSok/UPN9Py6Ix92p1psTYVWhJpdcaXLWbYHSZClcR1JUfQ78QH/fa41iV5cDAHKsyBFc73j/ycTH7NOHbU3h8ITs7967qv+7rPuXLd97nd5yN0JDZtPrSs1+p2lTiBjQHSq/z0f9OPT3cG99og8Tpl1esxAiMKOj2AivSBmx6pne4v+/HcG8Cxo9xX+YQPx3HwHRqmtzPLwEYf0ZsliZFOBojLdWS8EScYTVH7dagsI79bxJKnO9i5LzbzvnAzim9jkNQyD6GPu3Fkhwh+m22prHw2SORK7VZ1G9w4R4br6kYgENRAe8S4e/funD7n//NZ7dlnP9DOz6rcDS2y61ntg+/qpH/3gfbss8/mP7si2o3q9P+OaLuefVZ79j/P1yy/UCQOonmimaqrGS2yFS2ULHz915SWy03lU6RxbTw+rqWqi/wro6Xi49p4PKFN3ClfnsrltELRErl0QhuPj2uJdEbL5XJaLpfTpvKZtdyPmqZpOe37ZL6u73MzZS6Xr5X4vZaIj2vjye+1nBzRPHi0yA81Oj6VK/WpKOfUv6rKl/o2peWufK556NXO5KaX06aK/U5pmap+VqZ9X+hnvn8F7kwU2prQcv+qku3Hsk4T16v7mdBCq0JaovQ9pfWvc2qfXy8pQRt+Da37z1XlGvVDmyqN7cz2apAMaVApg6Zp/xrXeunRxkvV5rQzuyrsqNBO4g92rSsa0Xqry2uapskRzbMhpEU+8Uyzy9yfuzXj1ohWbXYzmdLG3zVrPX+tGowfE1rvhi4t8mWvxsEZrWrff+nR7O9HtMGXKu2lRb02ardESutfV62LUuva553ucjt3hjX/ND2mtP51Nq1fyv8dMlbKpGm5Eb9mfG9cK8zQ6XO3mmRIo5kef6g1b3LamV3GGveKVsrWu8+USR2xNdCdQCCo5omJkFlfH2Ns7E2s81Tf3b/04toDH42NMTY2xlhfJ0un5ZjgaNd5ntm2fp5a/Im5NIBhR4i+HQ66oxLxE324bb7y/iVVom+jg9D5LEo2wcC2zQxdVYEsI28Y8J8u/opWSf7RQfuBBAoKiQMODJ4AQ8eGkRTInvZj2N9Hn9tHX0wi9qmPldMiEgrx/Q7aDwwjXZIYPtCO4wOJYrJ6oY8OSwf9oxJSbADfq0ESdbqUPe3H8EYx6pCXM/BBH5u7+jhzKcbQ9pW4i3VfDuN9e4AEUULbvHi3hZEA9UYY31ofQ2clpLND+NZW6ORmFN9aH5GbKurNCDstDvzvhwmfzYculLNBHPYgw5ckpJEg7RvL/cye9mM4FCX6hof+0TgTim668DcmiNst5aW+Gylil51YS8tzemybPAxdroqD1ekH99KEf2fG8X4M6VKc8BvtdHyQZNYBi8UGDOsk0jeKF1SUSTfGiiVL9XyInpu7CdmpEaWTie4bpP3DHsyTIxXXFRKjQ3i3uzHOKDMd9cIAgcl+gq5KnakkD/Ugvx3CvrhGbPBmlMAn7Qy8ZUY5XXG9Vb3WbbeCexnky9N1USR7IsDQphD+QjuqlCC8tR1rqSobji0SiXQWUCGrZ0lFM3qbE8fxZEGfU0wpHszLqYn6Yw7WmpvqcQZKgtinXvydsy4JqEz9CO3m+mUta5zErz4q8WeB4NHnsdhDdvcvvbxyy8fY69aZ3++M0tt1hIsA6/fydaXjdGeU3v+C51cc4cg3+UsvfzjGm2sKdfRfzF+86OIUAOvZG+2j86m7/O072But7+BNHHuHW4Gv6WGAU7ceUscfNqfTGOUEwysA/LTvMBA5N4DnVSNcjhF8qpfv/9CFGfC82lO7jmyMwQMOPp/qwakD7HoyS0awjeT3m2QBzk1hP3uGXj2AE5OtndjlXmwbQPk2iO/GbhLfdBWcEScDthAj24fpWi4xtCeI/tD3DG/Pp/bsCOM1x1ruYuJfduKx3vxKl8tEuy2G9J4N+6+7Gf/SgPdpmcBfe7EDIDGwfQjz8QSh5/NPR79tJ5bjSTx/sCOd6CG7L0HkNTPgxnJfwnvPyfAWM0zGCHal2Z0cpmsFQA/Ow+2ETvsZfrXw0PpjhKnrCSKragg6mSW+2lp+qE5miW81T9uLZdCb4IpMFns5X81+gHTMT7AtTPpLd77vuzYT3OghtEEmtKmOg1ETG90nuvBv6UB6uxe/Pkx4bZAzxT7cSxJ6V2b3iRDmxdEZpeWvAgyuHSC+QYc0VpmSI3PDiEmXYeSPAYbOyehXdRF8349t2rKkQuyzQdzb5WmrlUUnMHLQzJITM1otOIFx7G0S8cqkVvVap10A5VqceDLG8GdpTH8eLDldZSQih1S6T5YXz5VJGdZ6pzlNOoONkRsyoEO3TmbipgrL82MjJ8+QyFoLDnSW7FiCyNYOwsjEJy30HBqk/yVzue4v/XScNZFJT8CmIJFPuqv0WIPJDGmjCU92hL69Q8Rv67G8GiT0mq2FvYgK2ZsQfr2D+FMZJtLg3B9h6K1yWZ3BQOZ6BoVW6hMIBI9/hOypTvrGxhj78OXa6RePcISP8lGuD1/m1IlR7gJLX+xjbOxr9q7PO2ljY2OMjfXR+RRw52+cv/gMpHpxuVz5z7GK3WlXj/LOzb30vLi0dpuPDe1YVxT/1mOqfEqtstH99z4Ch2ON36i8r6KiK/+61y3BQAalcr/JaivW0h3ZhGl18W+V1LkhnFvsGBQFRVFQFDMW1wjybfLRjAs9dG+tEGzxkln10Gyxlh8Gy0w1NptXcCNFTPHiXKMWZFHAbKP9ikwWUO9n0Vf4Mkva9Ej38o9MVYoz5PJi1yulsuZfOQsP3AJbfWyu5YwB2R+a737UG1p9rMmkRpP4XnKW+95mx/97K31npRbrKJORkiiv+nGrYfz7ZCyrirWWo1RdK2oULEap9tiZ6QJmyY6ZOHMsgm77IOOxYYK2OO6uMNO2Sk3GiR334bRX1FB0Ag921RzPohPYs6E1x7OmXmu1WyB3XUKeBO7JyNeyzHiv93KcyFMenHXGutTusqL0Nro/9ZJ8rR3fviC7f7uZoawZRymnne7rcRLnxhlPfo825iPzex8Dl/Opxi39TJxNMR4fZyKTJmyJ4N4fmynXjD5miRvPMBTV0fXxOOPRILazbnzH621Wq8SI59AEib+PMx6fIJMOY426CX5b0arRjGNSmX1UViD4mfJYRMgejJf5qBBZ49+eYf3FW2SB5q7UKc7zNWNjS4G7jPa+wtGrY7y5ZoKje+CjsXwk7u7DFP1BuD/1YOWXuRlMjxP7aoCA3Y+6ZYDBg11Y2qryLXfi2x5k8JgX81YTmZODhLf7SNRZXplO/ld2VokSzlY8+J7qz7+5NpkljoHQbAI6D8JkljgpbMcKy34FnJ1mdICtM0TmrTCxjQEcJBj8OEPoT/koiDIpw22F6LFMhfNhon9da8tBOp2h+gK26xkyUIqqZH9Iw682t7A0lSU7BoaD0xW3pE0PNzNkK+psyuUBfGNuYl940NOF5/UkfZ1OAm1p+tv68fzRgPfQCAOHgVwKGYXI4QFyL3nIvO1DXt1L4tMBEoCcBPn6IAPqZvyvGTG6JJxvp3CvANBhe303/jf6Sd72l5bnVClBeLujwgZU4u976DN46T85wACQuyLDZISBwzk8L2XY/TsZ83sJhg4nAJkEMhOfDDD1Wz/+FvU6s90y5i099GwB3u0mum0lvuPfc+a1smso/z1GZlP/NGdR12aCTA6F8nsJ2ZsjeFb059M39DJ+pRtFBXR69LfDdHyplGxJv8pSrmyFB/92H0PpLD3rjNBmrpiXeuyv+rGulkh/4i5FTGuyzIjzspOAVHgrts2G/w0/Oz9Okn2t+RKoboWlnEdvp2uHlZWX0wxuadiqQCCow8/AIZsrL+MrRcCW8ssVcP6fd7n7zwinuMgp16mKvBdxfVNc7lwIWadjXOFh5IqMirnCOZCRzzkxvj+LivRm3G8N4t4VZORtG75jFlJ7TNWZMK22YVASRI6psMxP4gtniw98I+a1RjB20fN6jVjHYjMeEuQqn2IPk+VmPNdyuN8qLL9Ws8yM1TKBfDJMGh3tx2J41uQzGs3tGBcb6XrX3zgKVwf9U1V6XWHBcTlGRqG09CTfSOB8uhXNmjFvhXhmuuLkGwmMluCs9hpl0wlMmzzlWvR2/G87MF1O0/+al0jcWc48mSNGFsuvbZj1Bszvjk93Sq5D2tiOba0ZHXrM6yB5Z7qM1fHP9NU4rJ6+1Gf1RBh3lb8rP8ZAZ8H2azMGvZme+LRWSZPGaLPRvlwHba3ptVa7MzFj73Tju52FUk8V0lIcx8bp46l/2owtmUbGXXgLOIt8BcwbKvLp9KUIrHIlyURnFxYeIsvN2EiSmQSK++BmGYFuyG2ZkV85GZ6/GgWCJ5rHZ8ny5j/y0ag7owwU9349MHlH69Y/q+JcT/2G59ef4tzV4oUJzn2znufblxaWOsdKn68D62HbR+XlzkcAs92N+3CQgfPF5QOF9Kf9BG1dTZdRSlxLEi/u219sxPx0tSNWRCJ+wIJnTzc97/bQ89r0M4yaYd8SYOpAsOIVf1AmC3KvsOPuHCL0p+JmdIX06Jm6m/pnzWIdOuT8AwlguRv/rgjBw8nycs99pbT8mk0Ok9vop/vdHnre7cazpsJL3OAm8GOQ4FcVyz2K0nzZqMgKC12SXF6u0zvxvDdM+NvCFSXG8CcO/J21HNeqfmDEvb2bM4eGygfo3owy+ImZQOfsjivRGy0kTowglZagZeKnR/CsMqNbbsO5yVn+2K3oMdO+yYllmR5LZdomJ+1Pg97iwPlrIzp0ODwhUoeGSBbqVs+fYbjTjb0iuqrmJDyrpjtYxl9Pr9dh0cPT7Tg3WdAvs0yXaVM7ZvRY7U5sy3Ut63Vmu/kXTALH0uUxVZJEP4vhX1PpNuVQsjU2u6/z0G2KMHy+sIB3bZjI9RDejXkPTL2WJF3U8c0RggcnCBSOQJFPBOk7Wz7WQ70WZuiwG/dzRriXZGB/lHRZKGKfDTHxnr358S86B96DKfo/Lc4vlWRsGHenvfmLFucHCJ6o0MVkjKFPJuh9vtxq9oeJFn9ACAQCeEwcsqUv+nj54hFecblwdd3CV7lf7OrR/B6vPaegmKd3tOWlROt/7IX+Vwp7xXoZvQOwlM7/s5dbewr7x1zvwIePjsPVlFV+In/dTOI1A4sWLWLRIgObv21n/MvWozeqmiLsWonV2UGHfSVeyU/49Vq3eBv290bo+F+LCm2txPGCl8CJdGt7R9b1EPnMRMRlyre1diWOfbGCY2LG/8kw1i8dmNd24FjrJdzmwNtiH5pidOJ7K47X7qDDHiCm6HEfiuFL+7GsdtDxgoOVFh/hy/meGO1u2LGy0M9FmNZ20LFjgORkXg89J8KYTnTkrzutrNwYIHazoQQVsthw3ktUPFh1OPeP0H7cwUp7B1ZLCPWzfrpqLQXP6Afot/QT60rhM6zE4bRisocxfxmjZ93M4tkT3nyf7EEgiGPRIhZti5IFdJuCxLem8dkddLzQQcfaDsLLz9D/6oM/aHUbeoi8IeOzOehwWjG/liX4SaWNZpGvNahgbq22oNfa7erWeGhP78ZisuZtw+Aj5UnQ/5J+etnTM8vmbTlI9jUzVqeDlZtiOI/3kN+ippL5exivzUqH04rJFcZ0qDxWZtdmdJ868nZlX8mSLTHa/xrJv0zQZsO9NsVuy0ocL3RgNVkIKN3E9xfOs7vQlx/bp32MMILv6UUsWtRHsqAL+54IftmH1d5Bx1ozvttBBovLrw3K6ta5sf59d36eOK2Y1gZQ3o4TLL0wojLx9zTu5+YSLxYIfp4s0jRNW2ghKsnlah80+DhiMBiaZ3rIqIqCuliPvnrv12zKo0Ovr7OR6/YIvv0qoS88GO4Vz3gYxm+J48tE8LT83FZRFHXask21HLTp0T2ERXZVUVCr272noNyv7LeK9IGX4Y3DhNaphQN2VVJH3PiWhKf9rwVNdVYH+fhm+vQRPn9p+vpsTfla7cd9FeWeik6vr7GxfhYU6qk3Pg/EfRXlHrPW14PSql5rFERRQTcne8zbec2yzcbqnoJynzrphfkz17l+T0FhDmXr6UKNE3Sn8cW7H+6yq0DwBCH2kD3hPOiDuFn57LkI0RUBIot1lJ5sqgGD0YBuVg03dmB0+oe3iaxmH9v0VdvWJGL7dVhlHbTpSmmGJWBum156rjo3b+lG98Yw8kvTI5mt1lcz3+LZO4Y1ma966tb9cKpuxJznxgM5pQ302EzHM2yyxXpboWHdDaiji+zpIbJvhYUzJhDMAhEhe4g8ChGyh85knOC23Ui/8uA0G+BHmfhYBvefwnT/+sk6fSh93Iv3iA7379oxARlpmLQxwOAhD+Z5+mkjn4+hrnHX+T8rBYLHAYX0t2l0W+xzesFFIPi5Ihyyh8jPwiEDQEW5mSYl5zCY27GseMDlsUeZe1nSVyfIYMK6xoJxjkvBAoFAIBBUIhyyh8jPxyETCAQCgUDwIDxyDplAIBAIBALBz43H4tgLgUAgEAgEgicZ4ZAJBAKBQCAQLDDCIRMIBAKBQCBYYIRDJhAIBAKBQLDACIdMIBAIBAKBYIF55E7qF8deCB4HniQ7bYSwYYFAIPhpEBEygUAgEAgEggVGOGQCgUAgEAgEC4xwyH52KCSPDxC+oDz8pm7EGDgcQ374LZWQvx1g4Ns6Ld5LE93npeOFDnafzv6EUgkEAoFA0BjhkD2RKCQP+7CaFrFokQnrbwNErxYdMBV5NEBMVue5TZXsJYlsZbWTEoF9Ej+l65O9HCBwuXaL8ond9GS9DH4TIeQy/oRSCQQCgUDQmMfLIbszSq/LhcvlwuXqZfRO1bXeUe4utIyPANKHbjxXnESuTKH9S+bMfgupL2LI9x9mqxnO7A8Rn3yYbTwY2WwcR6cTi96I/mH+p+BXjxZs1IXLdZQJEHYqEAgEgoY8cm9Z1ucuo/91hGc+HKNvTeX1TvrGOvMPwRPz3F7vK9x6dYw31zTP/eiQJZ1M4t+VwLYsf8W8wU//hhpZFZmkJDO1xEz7BjP6yjQ1i5ScIMcSzDY75spEVUG5r0evyyKdm0B9+v/BsiyNPAZmRUFpA51ej65SqstxJnJgsDixVQWnlGtJUpkpWGKi/dcW9Iur2mlTkC+kkKdqyFJVd13uKeSmgHs5FEWPXq9r2k9VUaBNj25SIp5Wa7Y9kwmO7rnF3ugYnU9VXH5qgez06lFce07l/16/l6/7OllamX5nlN6uI1zc9hFjr1vnUzCBQCAQzILHKEKW5dbF9Tzzbwstx6OOHuMqI+HjURqtSiqjQTZ39XHmUoyh7StxfyBRzK5eC+MzOwiNSkhnw+x8roO+C+XKsqf9GA5Fib7hoX80zsT/lyS0LUSUBANve/FuCxEvrRqmCO9w0B2ViJ/ow23zMXK7mJYm/FsrjoPDSJckYkc2Y9kxUlrizJ72Y9jfR5/bR19MIvapj5WdfUglUWRGdqzEtjdK/JJEZG8H/i9r91c67iV0EhIf78a7LYzUtJ9ZRt4wEDoRZedL/cTOTqDoatc9jTv/4BbP8Munmmd92Nz9Sy+uPfDR2BhjY2OMVTtjTHC06zzPbFu/QBIKBAKBoMhjECGb4KjrHU4Vv3a5OALQ6i/6yggB8PKH5UjC3b/08kr/xVLa+sDX9L24dPr1i65C2+vZG+2bHvV4JNHh3B8juMPLSnOIrt8H2f16F/aqqFRuRRfxL535qJjLRLsthvSeDTsSQ68FMXyWZnBLPhzU/UIQx0sh7HIIZ9Ep+WOEqesJIqsK31/8NwyL+jF/OUzX8sK1m/l/7AcS+FcA+GnfYSBybgDPq0bAgu/LBH59Ieyk2mBJH2cOePAX6z03hf3sGXr1AE5MtnZil3uxbQDl2wG6pS5GzoWwtwH04N6/iI4aWrG9Nc6Asoj+VRGGXzUCEgMt9LPvxBTfJyOYm6m9GGkqfL3oKlhNwaaaMXHMxTvfFL+9zEdjb2KtmVa24cZ2epe/fQd7o+V6Zrb5DrcCX9PDAKduNRVRIBAIBA+Rx8Ahs/Lm2BhvMsFRV4RnZuMUXT1aihBYofDQ7GW0UMfSF/sYe7GYeYKjrpNMvPgm1hf7GHvxcV2yBNpsdH/zPb5rMSJHBvCYemg/EmN4j620jGi2WMtLlMtMmIvvQt5IEbvgo9dVXpvTPe+ne+1K4pdCOJ8vXNzqY/MqWqAd64ri33pMVZ6NTq8HVSF9OYH09xhp4hgmgWLdq61YS6KYMK2mIKlK6twQ1t9/X3DG8ixZ0opMrffTs31zc2cMykuSd0bp7bqFb6y+I1TNxDEX7/ARY2P5Enf/0ssrvaOl5UXr62OMvV7IfGeU3v8a5W5fZ8F+69jpnb9x/uIzPJ/qxVV02ip/xFw9yjs39/L160vhLy0KKhAIBIKHxmO0ZDl77v7zFusDW8sPxqd+w/PrL3Lrfwrfp22+fodT3OIfdxZI2IeA/lduuj8bJ30liG6vn6HLLRSazBLHwJJpy3NLWKIHOTPf70uqSH/yYnUHiMlg2eLG1nJZhexN0Le16oFV8ZP2sxF3+cfN9ez9j7L7trT9edZfvFVaur37l96ynXYd4WJFWmNOcZ6e/HLl2NfsvfkOR69Cfp8bfDRjCVMgEAgEC8VjECF7WExwdM+piiXMfATuSUS/xot3624SGRXWNcm83IyHOJlJYFnxoox8zoh13zwfFXF5CP8XDiJST8ERSxJrubAR869AzmaAOcjVtJ+PyDlld0YZ6Kf8kkAhAtcaL+MrLZcu5Zcr4Pw/73L3nxFOcZFTrlMVeS/i+uZxWZYXCASCJ48nOkK29N+f4WL/yfyxAwBXT3Lk4stsXENh83X5JYG7f4lwanppfrkCbv3zMTugIDvCTuduopfLB78qV4cZPunBsbaFXenL3fh3naH/0yTFGuSvBhlcEcD960YFdWCU8w5Oq6gq0lO60jKqcilBYhbFbZt6yRzqJ1rYq0Y2xplWPbo593O+WcovV1zkyP8tWSkT//cIF7dtzEd2/+cWFyteEpj4v+V9auXyNez0qd/w/PpTnLtaqpVz36zn+fal+aXO4kb/sTG+DqzPL2eO1XbG1Mthgofjj4qLKhAIBE8kj3+ErGrT/iuuI+XX+9e8ydeBXl5xuQqp+QiAFeCpTnzbjvBO6SWBvexdf35a1db/2Atdr+DqL5d95KMHRg+hP8j0bLfgu1p4hK7y0H8uXN5s3xA97kMx5B1eDKuNOHUyE0/5iXzb02Q50YZ7vwF3p5WYxYznyBm6mzW1oYvh5R04145gbZtC7wngfg1a/T8EdJuCjLy9GY95JYObdCjL/AQ9HmjpzNu59nOONLBT6+tfs7f3Fcpmupev+wpLmGu2snf9K7xTem6QmHAAACAASURBVElgLy8zPUJW206X0vl/9tLb5aJY7csfjs3JftOjQfo+9uN8y4mxlTdNBQKBQDBrFmmapi20EJXkcrmFFmHeMBgMC9q+qiio6Mpnbs2WewrK/VmWv6egoJ/VwauqoqDq9MxVTFQFRf1p+/kk2Wkj8jasotzTPdzDdAUCgeBnjnDIHiIL7ZAJHh5Pkp02QtiwQCAQ/DQ8/kuWPzHVZ0JV0uqZUwKBQCAQCASViAjZQ0REF55cniQ7bYSwYYFAIPhpeKLfshQIBAKBQCB4HHjkImQCgUAgEAgEPzdEhEwgEAgEAoFggREOmUAgEAgEAsECIxwygUAgEAgEggVGOGQCgUAgEAgEC4xwyAQCgUAgEAgWmEfuYFhxvpNAIBAIBIKfGyJCJhAIBAKBQLDACIdMIBAIBAKBYIERDpmgJsqFMAPHkyjlKyQP76TjhQ68f5JQF1A2FJnkVaV5thtJ0pMPUYzzA+x8oYOObUNI/2+MgcMx5IfX3Jx4WDqYaR8zyV5OIt+b/7anIxM7PEDsRv0cD9sOBHNBIXl8gPCFBhbU4jx/LLifRbogL+x9U/DIIxyyJxDpTx10/EmqupoltreDwLfZlupQ5RiB0fINRB0L4Rgx0/vlMOHtFnTzKvHsSH/lw+EaorqHVbmIbHfgPNY415xR44Q2DmN+L8LwJz4sP0oE9km0pt2mlZO9JJF94Lv3w9NBtX3M4F6MkM1BcLSoEYX02XRDB24aSpLw4QEGKj/f1nJ3s0j7Akh1Ha6ZOlBvS0i3xaOxzCzHpljq8ghDtX6ETCYJ79tJx7bdDJ2tNyNU5NEAMbn+OMyY55Np4tceBwdt5vxVx0K024PE5ucGIXhCebwcsjuj9LpcuFwuXK5eRu9UXesd5e5Cy/gIoCpx4srMG51yOz7niIUyKYPbidOoR69fSHcMLG/FyV3vxdY4F91nc8jvNs41ZyazyGzGucmIfpl+nh3UDGf2h4g/cFTnIeugEW1uBn/MEd5qzH9XU4SdI6RbLX8jTjCa4sFf8Zmpg8xogNC5x+HB/hMx27FBos+0CIPNy+7qHyGqRN+WHiRbN5FDHpQPHfhOzs0LqZ7nqhSm42TrUi4cM+evrnOQqVwYj3HhpBI8+jxyb1nW5y6j/3WEZz4co29N5fVO+sY64epRXCfmub3eV7j16hhvrqmR+pdeXum/COv38nVfJ0unpU5w1PUOpwBYz95oH51Pzads84dyLUkqMwVLTLT/2oK+lkWoCrl7wFQORVHQ6asckPsqyj3Q6yF7OcFEDgwWJzZjZRUK6PWoN5KkftBh3WjDuBiYTJO8kmGqTvtF+ZaY2rH/Sl+oTIX7QFGK+1mkcxPkWIJprR3LsnI2VQe6yjqL7WEoy1ApY5se3T2ZpCQztcRM+wYz+pkKQVGmgClyioKi09fIk89X1MeSp9uxr6rKpWaRkhPkAMNqB7blukLdaeQxMCsKShsz9V2LrEQ8nZsxjjN0cF8hfSlFZmoJJosFky6vR71eB6qCcl+Pvk1BvpBCnlqC2WbHXLtzM+qrzqvepzBOKsoNGbmor2J7jbgP2dWb2f1uF60+w9TbEonrOTBYca4rl6rUgaoopOU4mHMoig50evS6+vqb2UhxzAxY7TaMOgr2r04fp3sKCnr0bRV2pRRtvZZdNbCV0vzSkb0crzm/oM5coYld35/D2GCjN6PRe6GPRfYqGUaHCG4MMfWqDR3Qe7Cb9tciSFt76v+Amqyjl8p5fk9BvimX7kEszusWirZaOYeqKNq1rmir5bmv3EiS+mGqoT5n2ETDeVJn/t5XUWHaPC62jcGKY52xnNbAFlu6XwseWx6jCFmWWxfX88y/LbQcMHHMxSu3fHwdWD8z8c4ova534MMxxsbGGBt7VJ2xNOHfWnEcHEa6JBE7shnLjpGaS27ZsRC7P07AyRDebSHi1ZkuDWDY5men20twREIaHcJrctB3oRilSzJg8BM+0Yfv7QjxSxmmFoNyNojDHmT4koQ0EqR9Yx9SKbAnM7JjJe17I8QvSQwfaMf7Vb7h7Gk/hjcKsqoSfRsdhM5nUbIJBrZtZuiqCmQZecOA/3RZWGUsiGPtbsJnJaTREA7LTkZulnrJyBsGAh/0sbmrjzOXYgxtX4n7gxr75bJxQm8PkCBKaJuX0FgNrd1LE/6dGcf7MaRLccJvtNPxQbJiCTiI9Tl/XpazUQLPOem7pObr3hYiSoKBt70V+laRjgcZqLEEpF7qw7ExRDKrkD03gNczRFot96mkg3tJ+ja2EzyngJIguNGAd98Q4dMSSlGv+/voc/voi0nEPvWxsrNyTKq4Hsa30U/4nET8RBCHxUe0pM8kAwYDA5eAy2G8Ffrybgs3WW4G9cccrDW37Iyd2b8Z78FhpEsxhraacPyxqOtKHWSJH/QSOgmJj3fjLYxdff1VyXQjjG+tj6GzEtLZIXxrfYzcBharJPZb8B4rLN7dixNY7SemlNv3vbETx+/DJC7Fie53YPldtLzU18RWuDSAYUeIvh0OuqMS8RN9uG2FtgFQiO930H4gP5eHD7TjKNltE7uew9jURyWVDOOxWcvOxToH7ssJ0rdrl5CP+erqpXKeS8e9FfcgL97jUr5vv2tn5xdpFEUmstfJ7m9nRj5Ldu3xMRSLE/2jG9uOMLHjO/EdOlO4X20mXNqH2Pje2HCe1Ju/lwYwGAZIFus46aP9jTBpRUGOduP8fQyFRnO59fu14DFGe8S4e/du1ee89sGzz2rPVn/+8/z0fN99oD27K6LdqC7/3QfTyn3wXTntxold09J2nbhR83r+s0uL/Pf0um+c2DWjzRsndpXqafR5mCQOorHKrjldzmkfixHNE82U8k3lcuVCU+NaD07t8+v5r5moR2NrRCvmzkQ9GgcTtRtMhjTwa8N3ype+/8yt0fm59n1eIi0EmvHdcW2qmOHOGa3b6NEicrlM6pCtJF/qiF1ja6RQfjrTZEuGNLZ8XiNfRotsrejvnTNat9Gu9UsVMn7pqZAxn9/2h3GtpBWpX7MR0mr2+oeI5qlMS4Y0Kr6njtg1464z5bp+TGi964xab7yggamclvtXpb6cGiX9JLQQHi3yQ2WDKS1kRDO+V6HDAomDaO4vampqmg4y33RVtKFpU3/t0aiQMRP1aKzr1cZLQqe0/nVooWSNmqMeDVe/lvqxeGVKG3/XWCFffsxLZav11YRM1KOxyqI5Nzk1i9GoWV4d1FK5Wjnz7fi/qUi8/rnmxl2w5So70PL6qv5eW3+VpLT+DTat91xZ+7kRv2YszokfhrWuVV3a8A/5sXd/Vqwv377zUKo8bj+Oaz3Gsi00tZVkSAOP9nlpruS04dfKfcj9uVszTpsrKa1/XdF+WrDrWY5NiSqbL7Y13V7q2VBzvTS9B/0Q0Tz0auP/0hoyw65/iGgebFr3SFFjU9r4u2jOz8oabHpvbDhPaszfabrK9703PlPWRrbYSCbBk8FjECGz8ubYGGNjH/Ey69kbLUSeXrc2L3r1KK498NFYoUx0L7f2FPaeAUtf7CtEsfL1P9N/konS9a/Zux5enlWk6y5/++4iz/C3ir1uR5l4QA3MiU0+et/rrfh041k7PYtOrwdVIX0hRvTYCGniZOe8b8mMaVnFt00enKNpKvfs7vY4S7+cVSnOkMuLXa+gKPmP+VdORm7IgExqNEnP6x7MzZpdZaP7730EDscavkmnSnGG1vrxrKuQcWs3PaMxkjcrrlms5SWTZabm7dckL7/vJWe5rjY7/t9b6TtbiD/o9OgXg3pTIn46TPhcDm5mG2ysttEr55APOmcsX1rWdZN6P8DAaBrlfgOx7qugW1Iqr/uFASaV6RHA1VasJaFNmFY3qE9vwtRW/KLD4fKRvSSTaVCkVYxb+pk4m2I8Ps5EJk3YEsG9P1ZXP+anK5b4VjnxuGKkG2wYr6Ql/d1IEVO8ONeoJXvFbKP9ipyPUiz3EDqg0r3fR+gbL6HXp1uOfrmpPG5tDtzbsyRvZGjJVgBox7qiVBumUvUqqXNDOLfYMSjFuWTG4hpBrohKzY9dz4VKWWuk1tVLCyy34NgQpm9fmGSzlzQq7Xq5mXbMOJ4rCqZjyS8gni3Hm5reG2czT2ZgxGK3E/5jgPCF7LT518gW5/d+LXgUeQwcsrlz95+3WB/YSsl1e+o3PL/+Irf+p/D96tGC0+TC5XqHU9ziH3cevN1T30FPwdH7OnCLd44tgEv2dDvOTc6Kj6PiBgKgIv3Ji9UdICaDZYu7ySb5WaJbgp4MSp0nqDIpw+040WNhwsXPNRP964xAluwYGH7Rwlb5ZW4G0+P4dTECdhMde6Oka7y4oEzKoF/CkioZDSSQ5/2mVlv+JW16uJnJP8Bvxgg4rfg+SaGYHHg3tvCI1Omn74croN8ySHrUj+7bAO1PdxA4ka759qNxo4+uE4OEL2dRshLhT8J0bXW2vCzYVLxfGOBKI6dyFrSZsZT2A+mxv+rH+qnU4sbzJSzRQ6ae8VXRkv4ms8RJEau01zEVZ6e55FCY1zowfRVF+V2zuZR3ACYmFVqylYYoZG9C9ly0LNexMOmn+rEta1p4ntGhXwaZO5V6zyKf9mBuycgq9dIKNnrOSYSeyzLYaWbltgGS8zKXH/K9EbDtSSC93072Yyfm1V4Gzuf7XN8WH75MgoXnZ7wlcIKje07x8ofFTfsTHHVF5qXml18tb/Jf+u/PwHf/4C7Wqo3/C8zlIfxfOIhIxc22SWLzWf9tmYTRSrDOjdhobse42EjXu/4av9aXYN4K8YwCdbbLT0Nvxv3WIO5dQUbetuE7ZiG1xzSzvesZMlB2QG7LpHDiWz6bjrWCuab88o0ERksQIwqxQ5tR3sox/FI+PfuAB5jpV7np/sRN94ERdtt8DFlS9KyrzmTCajOgnIsQVkH/WoLIpvl77Ssrp8Dlw9Q860NGRj5nxLov79y3QlP9LTfjuZbD/VYPzpq/E2TC+4fxnTtDZmuQaOcwXStq5QPIIl8B59a8phrbSjOMmNcawdhFz+s/XdyrNnpMq20kbshQdBduy6QwY2/JzKbrpSUWG7G/2ov91W6kD320H7CQ+8Tdyl2jPg/73ljAuKGL3g1ddF8awPdcEEtuELe+ji3y08gkWFie6AjZ0n9/houFZUgArp7kyMWX2bgGuPMPblF+SeDuXyKFtyJLpfnlCrj1z9kcpLGU3/zv9ZxKliNiE8lTrP/fv3m0nDEAVUV6Slf6da9cSpCoTF8824McUkzcKMQV7suEjwQx72vwK26Dm8CPQYJfVXgiilKIrhhxbu3izKEhksUfy0oa6UaNuM+1ZPklg8VGzE/XuZlvcBPQ9dNfak8heXyQxC4fzvnwSRZXOHoYcW/vni7/zSiDn5gJdNoAFWUSdLriW6IyiXOVHpkOjDKZab/262/qT5+Pky0ubywzY6rXn6txgqs89LzVQ8+7Pfgf1Bm7PsFEaXziDB5K0F0v4rZYh46qPt2MM3AgjFQd0byXZGB/lHQpUKIQ+2yIiffsde0plS7rTz7eT3BFAPeva+fVLTYi3y4vi7Wkv+Vu/LsiBA9XHIZ7X0EpyC5/FSC4JkT3824CH+vo2Reddj6XnJ4oLUEpZwfpP9eNb5OR5rbSHPuWAFMHghUvVIDScpSJ2Y1NE2xbujF9OUyyUC79bQT5oBdHnduJnJ4o6XO6XmrLiZwp639SIl46OFaPafk8/RRodm9sSq35W4mCVHHum365ufQjpq4tPrBMgseBx98hKy477jkFF4/wSuV5ZGvezC8ZFpcl99xib/TN/BLmU534tl3kSFc+7ZVbz7O36qVJ63/shf5Xpp97Rv7IC5fLlT/2othmYVly6Ys97L35Tmkp9B0+ou/FR84dgw1dDC8fwLm2gw67A/9ZM+7XyslGiwP7ySDBFg+SBZA+2YzV3oH1aQfR5WeI7Gn0QLHRcyKM6UQHprUddDitrNwYIFZ4qBi3hol1pfAZVuJ4wcFKy24iV2buLVHVFGHXSqzODjrsK/FKfsKv12q30N5xB6a1HThWG/DJfuKHHvDXdJFVNrzGQfwf5vf96Lf0l+V3WjHZw5i/jBWiLkY8e0Okd1hxvNCB47dDqPZK59WGe7+B/k4rHc7NDF0GSBPb30f/2ETVcpqKKoVxWqx0vNCBw+IltSNMd3V0DGCNnd7THSxatCj/We2gY1uA6LW5HZJqdBlIv2HF6nSw0rCT9I4Y/VvqaNPoxPdWHK/dQYc9QEwBJR1j6I876R+tsrE2G+61KXZbVuJ4oQOryUJA6Sa+f+b+uTwe2u8N0bHWQcdaE46vzJw5Uf+YBVtnEMMRN1ZnB5v/9LcW9afHfSiGL+3HstpBxwsOVlp8hC+rcDNK8KCJ8L68fMatIQboIXii7JIZJmP4bVY67CsxvJHGP9qPu7Ck2NhWWmBdD5HPTERcpvw8WLsSx75Z/K8RsxkbIHvCm7cfexAI4li0iEXbovlY5Co/g/uz+Fbn++ocdRLeY68zbkachjT+tbX1MiP3Jh/d57y02ztw7I2h3MsQ29fOSnv+/uH4VM+ZffMwn5vcG5tTa/5WkiMzGqB9tYOOFzqwbhxC/+ce3PoGc/mBZRI8DizSNE1baCEqyeUe/CjIxwGDwbDQIgD5M4rU4llM1dxTUBbXSaukcB5RQuvFXnH+0qxkqHf+Ua0znmZbR628i2cnY0uUziequNZIflVBURvIXK1LNS93rX1k+fOP1PK5WjXInvTRo4aIbDVQPDc4c9qP9ayPzJeeOe8la2hDTfLKX3kJL48Q2lSrcKFPrY5VxXlds8/bXH8l7iko91uzNcgS3WZi+KUMw6/qUZQGttyirddnFn2oVXpWY9O0ssa2PT1zY700yzur8Wid2dh1TZrdC4vj3VY9p+uP4wPLJHik+RnvIRNAk0NH2+odeNqAOZRpKMPi1m60s3mIzf2B17TimX1vJH+zG2u1LnWN5G6mpyzxk1HMb0dAR6ldtc2AUa97IH3MVffK1TB9Z730flGv9Cwfsot16Fs1vhl5Z9HWXOZFK220aOtzrr9Z6VmNTdPKZuE0zEbuGnnnPB5NWnrQ+0QzueqOd319PLR7l+CRQDhkAsHPAiPuXb2Ed21m90tOzL+AnBwnPukm9tk8LdvOEvW+ldBn9nl7y1Mwf4ixEQh+esSS5QLxqCxZCn5mqArytRRyzoDZZsEs1j4EAoHgkUA4ZAuEcMgEAoFAIBAUeeQcMoFAIBAIBIKfG4//sRcCgUAgEAgEjznCIRMIBAKBQCBYYIRDJhAIBAKBQLDACIdMIBAIBAKBYIERDplAIBAIBALBAvPIHQwrjr0QCAQCgUDwc0NEyAQCgUAgEAgWGOGQCQQCgUAgECwwwiH7GaLcSJKenKfKbsQYOBxDnqfqHhqKTPKqMn/55irG+QF2vtBBx7YhJFUmdniA2I2H1tycmFf7qKQFW8leTiLfewhtT0MheXyA8IUG4/yQ7UAwN5QLYQaOJ6k7MvezSBdk1J9SqIfITzMfBI8KwiF7IlFIHvZhNS1i0SIT1t8GiJYeLmki2x04j0nz09SkRGCfRHZ+antopL/y4XAN0azXreabE2qc0MZhzO9FGP7Eh0WXRdoXQJon50e9LSHdftBH0TzbRyXNbOVejJDNQXC0mEMle0kiO5suZeOE9+2k44WdBOo+uFXk0QAxuX7FM+xgMk38mnDQysx2bBSkEwPs3tbBzn1DjFyrKjht3GJ1nRBVjhEYre9wqWMh2u1BYiUjU0ifTdd34B4ZauhzxnwQPOk8Xg7ZnVF6XS5cLhcuVy+jd6qu9Y5yd6FlfASQPnTjueIkcmUK7V8yZ/ZbSH0RQ74PYKH7bA75XdtCi/mTYnkrTu56L8163Wq+OTGZRWYzzk1G9Mv0zPd/650ZDRA696CPngW0jzY3gz/mCG81Fi5kOLM/RLxVh3Uyxu6NA2Q7exn+phfn9R7cH0hzipZU24Eqhek4mZ5DTU8qsxib+2mGfttO8KaF7o8j9Ngz9Fu8hAuRYfVGGO9LI9DZQ+TLHhzXQ6zcFp5T1F3XOchULoynaEJqirBzhEd/5Groc8Z8EDzpPHJvWdbnLqP/dYRnPhyjb03l9U76xjrh6lFcJ+a5vd5XuPXqGG+uqUq6ehTXnlPl79s+Yux167RyRy7mv60PfE3fi0vnU7AmZEknk/h3JbAty18xb/DTv6GcQ1VB1YFuMXBfRbkHer2O7OU4EzkwWJzYqu4ByrUkqcwUS0xWLMa8K6HT13MqVLKXE/m6VjuwLa+TS1FAr4fbEonrOTBYca4zTk9v06OblIinVcw2O2Y9oGaRkhPkMGC12zBWVa9W1OdYZ8zLqKpwHyhJrCBfSCFPVck4I19le0vKMlTLeE8mKclMLTHTvsFMRZaSThRlCpgipygoOj36Oh5ZUdfV+gDgvkL6UorMFCwxtWP/lb4kR1qOgzmHouigQf3lurJI5/L9Mq21Y1lWVkHJPqpkmjH+qoJyX4++rajPmTqaSYV9VNmaep+8/herKEoaeQzMioLS1sjeClxJMPRSD1ObzOgA974gMUMM6T0b9nplJtMkr2RmjlulHdxTkG/KMJVDURRYrEffVl9/M7tby15VFEVF16Yv61lVUFQder2ubFdKHfkK1LWVFud1uf8m2n9tQV8pS91xneXYLLbg/zJFt74g/UshBg6a6P5Wwr/Hhm6Vn+FkObtnX5BuQ5jkbT/m5XXqLM2DKnu7r6JSmL33VZQbMnJxzpHXLeSX5VM/TE2/R0yrv6g/CrZa0U5WIp7OseTpduyrpo9IaTyq9dlwPOrrszwfCvUU2p5Zf31bLN0P69wvBY8Oj1GELMuti+t55t8WWg5gzZuMjY0VPh/x8jeRfLQOuPuXAc7/76/zadG90D9QSvtp0GNcZSR8PErtFZksI28Y8J8uhMEvDWDYEaJvh4PuqET8RB9um4+R28X8Ksk/Omg/kEBBIXHAgcETYOjYMFKtYIwqE/6dFd8ncaRLcYZ+Z8V3slbIPcmAwYt/x2a8B4eRLsUY2mrC8cdkIaKRlzN0IsrOl/qJnZ1A0eV/TfvW+hg6KyGdHcK3tkrWDzqwdvYTuyQR/8RHe6G+7Gk/hjdGCstlWUZ+187OL9Ioikxkr5Pd3+Y7Mz0fqNfC+MwOQqMS0tkwO5/roO9CUbF5GQMf9LG5q48zl2IMbV9ZOyqTjRN6e4AEUULbvITGaulEIb7fgeX3YeKXJGLvO1i5Y6QcKbgWZrPNQWhEQroUo3+LpaDbLPGDXkInIfHxbryl+lWk40EGztZoS5Xo2+ggdD6Lkk0wsG0zQ1fVmfbRZPyzp/0Y9vfR5/bRF5OIfepjZWcfUt2w1BmCbi/BEQlpdAivyVGhzyQDBgMDlwr62hYiSoKBt714t4WIN1u5MRiwXU4XIsHAPYVMp5F68QX5mA/H78MkLsWJ7ndg+V20pOtKO5COe9n9cQJOhvBu8+I9LjXQX5Wa69qrDvm4G/P+eMFWZMIeJ0PXKI2B742ddeVraitN5zUoZ4M47EGGL0lII0HaN5bHreG4zmFsdPrpjouuzVQ/c1YmbbRgrOfgXg/j2+gnfE4ifiKIw+IjerOi34YBkgCXw3gr5px3WxgJyJ700f5GmLSiIEe7cf4+NnNJs6i/NzbTEy33f+R0kM17I0hnowQ3WgiMFcc8Tfi3VhwHh5EuScSObMayo3wfaTgedfVZMR8A9VIfjo0hklmF7LkBvJ4h0ioNbFElvt9K+xt5G4mfCGDb1GhuChYc7RHj7t27VZ/z2gfPPqs9W/35z/PT8333gfbsroh2o7r8dx9MK/fBd+W0Gyd2TUvbdeJGzev5zy4t8t/Vst3V7v53RNv17Afa+Rly39Xu3r2hRXZNb7P4eaj8mNIGt5o1jBat62BES2QqEzNaZCuaJ1q4mAxp4NE+l4vpOW34tYr0zLDWRY82PlVInhrXeujWzuS0ivIhLVH4mjpi12x/SGjF7NqdYc1vLKeXSWgh0Pzf5MqXrn+uuXFrn18vy0nn59r3pQwprX+DTes9V6pdy434NePBfO25P3drxnW9WuLHmSrJRD0aWyNaRtM07YeI5qFXG/9Xk3xaSuvfYNS6/1yWcepcr2Yz9hb0kZfR9odxrZRD6tds1Opvsd3KtLwOQkmtLP+Gfi1VSv9ei2xFc39R1MCUlqtQ19RfezRcZf0kDlaMW0H+kBHN+N54eTyKJEMaWyp1W9LAdPtoMv6ZqEdjXa82XpIrpfWvK/dpRpv4teE75Uvff+auGOPp+sh/92iRH2rUVZMpbeKzLs28ya8NxhNaZLtTCyVn9LzUR+ehVFkvP45rPUaj1hufKverZAeF7wcrRrWu/ippbK/aVEoLbbBrob9Pabk/d2vmd4vj1Fy+prbSbF7fOaN1Gz1apJSuaalDtlJ683Gd7dhU6WWdTeuXKq9NaZm/n9Eih7o19waPNijVGreCXK5+LfVjudz4u8ayjVfdj2bOubxue+NNRJyhv4QWMqK5K8bk+8+cGu+W59bUtMk5rvXgLNzLatVXNR419Tl9PiQOVt4LqmStY4vTZNK+1z53ofX8tbZuBQvPYxAhs/JmMRLFevZGC5Gp0hJhA64exbUHPipGs6J7ubWntxSxWvpi37RI1zP9J5koXf+avevh5Q+L6X10PlWueuJYYd9a1xGe+fBNakpz52+cv/gyG6uXPB82bTa6v/me3Nl+HD+E8ZhMbP6w0V6adqwrin/rMZkrku6rqOhYUgxz65ZgIINSc9OtTGpUwbvJgqooKIqCstiM7bkU8u1a+cH8dMUv51VOPK4Y6YrQnmf7Zkri3EgRU7w416j5uhUFzDbar8hkUUmdG8L6ez/2tkbKAZZbcGwI07cvTLLRJvgbKWIXfHhcZRl1z/vpXttH/FJFHyzW8lLSMhNm5kJB/h2epO9PwQAAIABJREFUiv1rZjyv9xD7NlmIfOjQ60GdTJMcjRI+nYaxbIMXKmz0yjnkg86ZSzKrbHT/vY/A4VjjNypbGf/VVqwlBZgwrW7UTzOmisiHeZMH52i6TjR3ltzPIP1doet1N+oxPz3XLQ2XTvXLTWW9tDlwb8+SvJFpra1W9NfQXgGdjZ7DToYP+Ol+Hwb3TR+n+vK1YivQaF6rUpwhlxe7XinJZv6Vk5EbFTu3ZjWurSMfC9JvD+FfV3lVRb6SJvMj+SXidIM3JfUmTKU5rsPh8pG9JNPayBmx2O2E/xggfCHbZH9hpf7MmDeCY6OtNCZL2vRwM1uKrun0elAV0hdiRI+NkCZOdrJefVX32RawrOsm9X6AgdE0yv2KhAa2qNPr4b6KfDnOyPEw8TsgTz76rzj8XHkMHLK5c/eft1gf2Fp2lp76Dc+vv8it/yl8v3q08IKAC5frHU5xi3+0uLxofb3syLHHxdGr1TkmONrIWfsJ0P/KTfdn46SvBNHt9TN0eQ6VLHfi2x5l8JhEVskiHRskvN2Hs+bejizZMUiNhgkfK37iqBvdmJs5SQAsYYkeMkqdG8ZkljgpYscq6h9TcXaa0aGQvQn6tiUttGOj55xE6Lksg51mVm4bIFnroTqZJY6h7IxUyChn5vvNp9ry635hgKScv+nfkxjaZmXz/hgyFtxbWth4r9NP2wtWYpmbwfQ4fl2MgN1Ex94o6VpO9qzGfw7olqAnQ70hnw3Sn3zEOyOEXvXQE50gfdjE4KYAsZZeCtCx5Bcw0erDqhX9NbTXQqu/aqd9NEr0OTfOekt0M+RrwVaaoEzKcDtOtFK2ayb6q/cszjPK+T58XzgYOeSu2g+nx/5aDz0HBzmTDKE75CR0tjUvXfcLA1zJtvwmpW1PAun9drIfOzGv9jJwfj4cFBXpT16s7gAxGSxb3PP+YpB+yyDpUT+6bwO0P91B4EQ671A2sEX52wAdNh9DkoLJ7sU5t1+Lgp+Ix2hT/3wzwdE9p3j5w+Km/QmOuiJzqMfK1sB6Bv55F9YUN+9PcNT1DnxY44WABUC/xot3624SGRXWNc9fVRrTahsGJUHkmArL/CS+cNbZl2PGvDVNztVNj2suO0dl5HNGrPuMUCvus9yM51oO91s9OGtUb15rRL6dgbq7hipYbMT+ai/2V7uRPvTRfsBC7hP3zPaIk5kESg/LJjLOGWNN+bNyClw+TIB0zE/4uQip4huQF2IP1qTejPutQdy7goy8bcN3zEJqT/XentmM/xy4LZMwWgk+cIVZ0kkTzpfKj3n98352bzQh3RjE3dDZyZeXr4Bza4O9TdXU1F/FY7iJvYJK/FAA3UiCz491EzrvJPR8vXlTKV9zW2mG0dyOcbGRrnf9c4zozh71Qh/urRPsTkYaR7Hb7Dg7swxlFVqZy7PpdxHjhi56N3TRfWkA33NBLLlB3A1fRGnC5SH8XziISD0FRyzJA87OmuhXuen+xE33gRF223wMWVL0rKO2Lb6WYeC3Ct13hvEsA8gi/4yf+I8DT3SEbOm/P8PFwjIkAFdPcqS4hHjnH9yi/JLA3b9EODW9NL9cAbf+2ewgjQlO9l/kmX8vOGN3RuldSGcsO8JO526il8u/+pSrwwyf9OBYOxcnSSJ+wIJnTzc97/bQ85oTY+WkXlx5yzTi3t5N5MAAyYofncpk/V+6qYqlCfl4P8EVAdy/rpN5uRv/rgjBwxXnS91XSstnts7d6I70lzf43s+SvFzDaZqUiJfOZdNjWl7nVr7cjX/XGfo/LbcnfzXIYCMZZ4Vu2vPGviUwXX4lSfjjBN1b8w6Qek/C0FZ+S1Q6l5he2+LiQ7pIg03915LljdiLjZifrvc4azL+sybFRGl8ZMJHgpj31Ysm6MAo5x3iEjLxw0HCl6ttSo9xVYLI6Yql+Ztxhk966r6pJ6cnSuOqnB2k/1w3vk11HIDFOpAzZbtrRX9N7FU9HyJwtZeel+z4DnqJvxUiWRFlk9MTpaWpavma2UpTNrgJ/Bgk+FXFEqWizOK8rhpjczPOwIEwUo1Iq3qhj83bJ/CfDdO1YnqafCIw/aytm1HCx204LHV6cn2CidLAxRk81KDfi3Xo+P/Ze/vQtq5s4ftnyAMyZB6kkvJIPGluFRKo9CYQua0nEslAZNTBCrncWrFDLVqYKB+0TpuprQYae/JHKzdMa7s3nXiGNFUDLVLIh51Li2V6RRRogpV6jE+gwep9m7fKuBmsS4J9oAEfuIHz/qFvWV/+SOyk+wem1Tn7rL3W2mufs87e++zk6ikj5exLpl1rnFciVxJFQXpak/2Ge2yEkbIXFFIs1vOJXYuQSE9VrjFiSBtcKhbvy0yhQZNW6vYIIz/OSynBI+bxT8jS045vX4TRPvbk7ke26SDnvJMcTk9Lvj1JezA1hfh0I+6WUfpak+f2TG6jvT5ftPnf2qFnT/6+Z+SsH3M4cDgCrAtmk6+J/+hjFLj4dk6ZR7k/mr4J35+MDL1qoqamhpqaGnQvR7Bd9dO6oGkmC9Z3B2n4XzUpeeuxveTKDpdvsODSn8TzcXILTe2uHkKtE3hM67G91IBt43rcZ8qsX5P62bnZRsNmA7YvjQyd7Sgz1K/F+WEId8yDaaONhpdsrDe5Mw9nzQudBD414LcaMNsbMD9jo+fK1NyHzP0pQkfqWG9toMFuxvY3LUNHCqdQcur73o1uY0rHM0YCX5fTcT4YsTTrObm/N7kB6ZaOHP1trNe5iR+I0LMrqZn11QGMfXbM9gZsVg+RDU48OdIsjV3o+pyY7Q3s/IsExAgd7aYnPDHH/4oyjt+xHrO9gQbrelySB//+YlZVaP/50lyH8kkDZmuyfYJrhwi8XcqbFpxHdfQ0mmmw70xOucsxQp92s68vVDA+qcF+NEJTzE2dtYGGlxowO/wYv+opEfd67LoYns1mGqzr0R2I4RnuKTmSpt/hpu2qizprA7b2EP9dlf/KxOv9KL3vRHB/kByh0rzQQe+uEB0fRzN+1d0L4bGU0K9CrFTGQsdZP4azDRg2J/vB+u1eQrcrX5m+vrBt5FiI/vf30TNnI1OJ3pe7iNwKss9Um7kv1dS4CN4Bo8OF7oyNmo02GuxmDFY/hr4AbSVG8/UOHbED5pTd+4jtDZW2W2/H/WYEl9VGg9VLSJ5hathL3UZbMka296P9qmNxo2MAW1sZWNuLfXMDDVYbnitGnH+Yj4AisZ6HgiL5sZvMNLzUgM3kYnyvn7YtZfry2ia8H8TwWGw02G3s/ETBVs0yB8GyUaOqqrrcSuQyMzOz3Co8EnQ63UOvQ5FllJy9dxbEnUHcRxV8nzehu5/+Jn4AjymCeyqQ3IAxs2dRznUPFOT7Bfss5RGlu8YGUZXOF7J79FTNfRn5QSnbiuzxNG8Ziyg7LxSS27FpCo6V0D/t11L7Pj0o8KUio6wq7YeKMVJN+y+E+zIyBTFTbdnbQVyf6gl8UORjhXT5B1XsWwZkfL3AslX3sXnFT4Jgi4GBl6cYeEVbQb8qY70Mi7pPFLRN/EsX/rUBfDsWKKvqdkvpXc1+e8XKVrw/LYz56FSUiv0i2d7F9hks1Y6KnLwHVNXXBMuKmFF+gqn2xlaOxNUAwWe9BFZpyNwBFB06vS47FK7Rzh1dWjWPG/yq5NeD82J1kTozVFl3WRmLKDsvitleRv9Kfi30paZ8DFSKkarafyEs1PdyDP97EVzHPiut97zaaj6JyNyyVfexBcdPJf0W/5KwqPtEjl3yTT/dV1x0fr5AafP00Xz0nlN2Pvenh6RTUSr6oLTepepeiueA4NEgEjJBWfSONjpPe9j5RhN2ow5+iRMJT+H82r/4YX7BimfFtf99BfMHn2EV/5rMikN5YMb3qXXpPvgQCH5liCnLZeJRTFkuHQry7Rjj8Rl0xjpMz4o3rl8Xov0FAoHgYSMSsmXi8UrIBAKBQCAQPExWXEImEAgEAoFA8Gvj8d/2QiAQCAQCgeAxRyRkAoFAIBAIBMuMSMgEAoFAIBAIlhmRkAkEAoFAIBAsMyIhEwgEAoFAIFhmVtzGsGLbC4FAIBAIBL82xAiZQCAQCAQCwTIjEjKBQCAQCASCZUYkZIKFcStE70ch4iULxAl91Evo1iPUaYEkbkSJ31+6cgvifozgERcNLzVw6NL/S/RML/7r8kOqbIE8SCBdj6MsuWC5sr1ynOjN5fZH5ZiWb0WJ3Xt0Ggmq4XGJryXiofVTwcNGJGRPINJfGmh4Kf3n4tBHQaKJJa7knoT3iERpsQmkI16klf5wuh/CZ7HRNVzBQdWWWyDxs4foSLg4eT6Az/G/iQ97CcWX6pYqE7sSY7GPGyXso87aRWjJXaBUtDf2pRubox8pfcUdCenOPP2jJIiUeTDLNwbpL/uSUSmmYwRetWE/LWWOLEjPJ5r5xaJ83U/vR715f9mEWCE+7Me7twHXG134r5WSOv/44l6MyA+PQ4KmkBiTSOSY9vD6qeBh83glZHeH6XQ4cDgcOBydDN8tONY5zPRy67gCUOQIkRc6GDg/wMAXPpyaCB0GG93XxYNhDqudnPxlBn+zfmnKLZBEIoKt0Y5Jq0e7eomFK+P47YPEFilG03iS2Rk/TQ/HBWUxvRlh5sdOLKnfU8NefFerf2AmLripqTXQsLfYg1mi21CDzuLiUNmXjIpa0nZlhvg7lsyR+er5xDPPWIxf6SLwfbEPvRKE2u24h8F1bICe1wxEmk14wwu7xxXGlyL5abiw2B7zKJhi6KiPSM5LwnL2U8HiWHFfWZZmmuF/72Pdx2G6N+Ueb6Q73Ag3T+E4u8T1de5h8pUwBzcVOz/BKcdhLgJQT3uwm8anc07fHaaztY/RlhOE95uXUrHqqNWh1WoBLc43P8O0xo3t9X6cUgfZx4VC4sYIEzNQ+0wd1g3a7PWKjPxAm5ccKLIMq7Vo8qImK0NnsmOpcBOQf4gyPjVLraEO63PaomUy9cgxot9PMVtrpG6rEW22QFI3TQLp6gRKju5l5SsJpOgEM+gwWy3oNanDD4AHZHqDfCvK+M+zoDNj26JHQ/FyZf33QEG+D1qthsSNSHn/3JeZmQXuzyDLWrTF3QL3Uv5Ah3m7BX1B703bTq2BuhdMaFel9LgVJ84sM7KMjAatVlNUfJ6sYj54oKAAuVcrdyRGfpwBnZG6Z5NfDmtSMaLIMmi1aBISkdgM6MzYt1QIkHul2lxJ+h4NiiwTi0fAOIMsa0CjpZJJ+uYAqtpLsMXAwJyzFjqnVDqvd1NjreiaArvzbVIUUDRk7C+qZ9ofue1UtJIi8fpAQb6voNFqs+1wX0Ym2Vcr9p2k4Cr6vUz8+jjx2VqMFivGgpgs1c8y9d+PE5Xi+fUvIBaVBwmMjYfoeKUwbvQ4j4Wwp/3wbBu9fREMlyJ0OZyU6kLVxBf3ZeK34zA7gyzLsCp9H0z7BHQbbVjWFtE9c2+SiY2NMzWb7avpPlXsPlC071ZsDwVZjhEPg1GWkVeTjIsi/bTUPa1cLJbUSfDQeIxGyBJMjtaz7v8stx6kRuUOw8dhwuEw4XBBMsYEp1qvsa6lfrk0nIPxlUN4bvQQGksduB/D/5oR2wchpLEI/gN1NByPZtYdJC550H0czZEQpVeno3csV+oQXU4XXYMS0nA/rrKjcDKRozbqjg0gjUkMHKvDdlwqss4hweABHe4D+7C94WdkLELwqA3Ta8HMVFLikgfdh0GCB5roGY4wIWsqyleud9Ow2U7PsIR0pR/3i91Elbl2JS64qTvgJybLxINt2N8IpaZXCuyv4D/GetHt9dG910ZbUCJythunxc3gnbmekc648F2AkU8O4WrxZ6dNcr0X7sK2+RD+KxLSsA+baR+Dt9NnY/j/1YztvaTtob6dmPYOJkd6bvhxvdXLCEF8La6s/NsReo/5kYo0V0kfjPWi0/WSjor4WTfm1wLEFYX4F/swWT34TvuJ3E77y4Pv+D5sbwWQrgTpbrTgvlB6/Cl+2l2+zQ8MkiBB5L1cf7nwhR/t3MzQ0Z243htAGgvR32zA9n663ZOx67mUgBJ6KmPd2Lb7iCZkEld7cTX1EyvSBsotP+7NbvqvpOJ1cyp2VimMHDXhOp3yzP0I3o0eQnK2/nJ9p6p+f7Sbbqeb7pBE6G9u1jd258RJuX6WrN97vJudrd0MjYXof3U9zvT5UrFYEoXZX6DOWCKJz01KAc1qQ1lp1cVXsj8e+mQELvhwtbhwnZGStr1Wx77PY8hynEC7nUNfzx35zPivyU1/KELwfSeWvX5CZ/bh/nAodZ/ciT8z7Vqm71Zqj0QEX4uPICP0vuXC1eIjkmBOPy3Vn0vHYnmdBA8RdYUxPT1d8HdNPf788+rzhX9/vpZf7tvj6vOvB9Rbhdd/ezzvuuPfZs/dOvt63rnXz94qejz597oa+K/sdemyxf6u/Tkp69bZ1+fqmfp7mIy8h8p7IwVHp9RAM2rr+SlVVVV1vM+q6l8fUmfSp38ZUTu36NXOyGyydLCpQMaI6gPVF039jPpU8KgDd7MlfvrUqdL4mfpTkfIzX7Wp+uZA6pyqquq42rOlSQ38XKh9Uk/7h+PqbEa3y2qHvkA3nOpnP2avKiv/7pDapreonVdn1bnk6pmsuzNSpFiBPZX8l/RPk/pZPKOhOvAH1KbgVDHh6sh7ueeSemR+3x1S2/RWtUfKlv/pi6YcX6vq7MxM9uTsZbUDe9Y/PwfUJnxqbmtOnW+d48Pcuov6IOpTycgZV336nDrUn9TPHJYcHZP+avo82yIzgx6V5oA61wNVtnnOtfn+qpYCv5a1rxhJmzznc3z942eqM+PHufIL9Rx5D9WZ45PijKs9W/PjdWbQo+rT/fHnAbV1Q6s68HMyDp2fpuVV9mNV/X5Lp3o5U2Bc7dlSbT9O1m/50+WsfKlHteT6tEgsliYpz7jJrtp3mFS93qS2fjKuzhQtm+xfnsFiZ+cfX3Pufz8H1CY61cv/U0HjQv/9HFCbsKhtg5meql5+B9X+adaD5fpupfZIxmTBfTQvjkv353KxWPZ+InhoPAYjZGYOhsOEwyfYTT3twdSoVDXTgDdP4XgbToRT1wTbmXw7tfYMeOr33akRrqT8dT0XmMgcP0d7PeyeMwo2zXffjrKO73LWs51iIqfOw7fb6fj9Uw/FG0tDnPHhKO6X7dkh+9VWPG+Y6b5S/p01HyOGNTm/djRhH44xd+2swvjVfuy7rOhkGVmWkWUjJscg8SIjRgDatYbs2+9qG85XE0RvTWULNLvZuaE6+YoUoX9zG55tlabq9JisVvzve/FfT5T5Sqla/9VhfjZjEQZjhepLkNTfQ9OW7DFjcxsdwyGiqVEyjVYLikzseojg6UFiREiU+aBC3xxgdmYAz4Y5Z6r0gQIJLbWZaYxaarUSSsEFdaas0doKDqjY5isE4zM5E2Ib7DQ5QsSq/ADDtKWN8Q+89A7HkB+UKHRrnJDswr5JScWyDEYLdd/Hk6MUa5vwHVNoO+rGd96Fb3++X0v7scq43WjGnClgwLAx/f/V9WOjyZyVv8bAAsMe0NP04QQjf7/M5cgEUzE/5qCTriIjU0rYR1ush7aXS05WLi6+1pqwbfXTfcRPtNJHGrn+W2ukDiO2F9Ne0FD7G4gksuNNFftuyfaohtL9uVwszvd+IlgaHoOEbOFM/3OSem8zmdTt6d+yrX6Uyf9O/b55KpVQOXA4DnORSf5xtzrZF7+FjlQyd847yeHTE8AEp96GE92NrLx0LE78qh6zUQ8kSIRB95v8BKV2tRZuTy18aFpTi5Yp5Dn3S5nEbUhcDeI/7c/8xZ7uwbKmmKA5gqn9DUzcK7U4urx8+V4ctLXUVlGT5e0RpA/qSHxix7jRRW/RL7cekv9KUFR/TS06RojfA1CQ/uLC7PQSioNplzNnnWBpNCXW71TnAwvOD6Y4+WmIuCwTHz7JyZ99OLcUKbogKrX5SqGWWi1MzQ36omh3nSQ27EHztZe6Zxrwno3NTXrvJYgwTignlv1hBXujMZNQGDfbMHwZRH6tUlvn+nGxcbvYfjx/NM+aMms90Vpp3Wum/0bBYvvbQTxvTNF7tqOquE9Jnmd8Wei4KuF7McHJRiPrW3qJLkmCsrC+Ox9K9efSsfjwdRIU51e8TG+CU29fZPfH6UX7E5xyBKq+evcr2aTrqf+7Dr79Bz99c42LjHLRcTGn5CiO80UW/T9ilPAAJ/EQ2ARgxNgMkSkZcpa/xm+NoDd1kUzZgP+ZZyV34ozozXTNWfKhx7hZD/pWOvYv5H05Qfx7sDeXWiNSQf69OvQ/TjEFVPPhkX5rK51bW2kb68X9YhemmZM48168K/tvKdEbi+h/J844dtxrgRv9eD63Ech8sBEltNg6i/kgr4QG7bNmzN/HGTwdA00d/uEmTJW/F6iSSm2+Uki96BzJ9JqKaDc4afurk7ZjgxyyuOk3jdORm8iuNdL0wwzONzuwF/VnHP/RAdxXh5hq7iLYOEDrs8XKQaEfq+r3JVlsP34I3A7itp7EfClSxgfFWEB8rdJjfaUT6yttSB+7qTtmYuavZT4gqIaH0HeLUeqeVjQWeTQ6CebyRI+QPfV/1zGamoYE4OYF+kZ3s30TcPcfTJL9SGD6mwAX86/mX56FyX8WbqTxFL/9XT0XoxmpTEQvUv+737I+bwo0zDlvPbScKLLo/xHyQCF+pRvXa4Ps/Ouh1A1ej/PVNoY+7CeafkG8HeTkX414G5NdULPaAF9HkB4AKMRO+/HPyTTGmUgvLH8Qx9/XhfFI+m1Kk5f9WHd5mT3WRfB29phc5u00HpvIDKPLV07Sc7UN947SqU5Z+VucHNL00PNldoepxPVi2xvISDl7JGnXGil+u67sv8WiyX0Qb3XizdNfJnrmJCOvu7HrAUVBelqTGT2Rx0YYyRW2SoOGOFO5b/QlF/VX64ME0UszWA+00fFOBx1vNmFa1JMp1eZpLSq0uWaVnvid3OkmBelMF73h0ruILRXjsWwd8TM9dD3rxflC8bKFesauRUikp4fWGDEUM2+tE8/rAbo+imb363ogI6c2JY5/6aVrk4+2bU68n2joOBLM2zutdN9ZfNzOtx/PoVwsFmy6rFzrpetszp5l90L0/3WCzm0pXW8Pss9xEuMXITq3Vn4TmE98sUoD8amcuiUimY1jtRjWLtGLQqW+WxEN6Av8mUfp/lwyFhetk2ChPP4JWXra8e2LMNrHntz9yDYdTE4npqcl356kPXgwOYX5dCPullH6WpPn9kxuo73go0jzv7VDz578fc+Ap37fQfvtw5npzsOcoHulrRk7ZqOmpoaa/2XG/bcZ3OFxPns5e/PR7uoh1DqOW7cem92MwerH+EUo86audXjo0Z2k7hkz5s078es9+LYX1NFch/JJA2ZrA+ZnbATXDhF4O31jN2Jp1nNyf2/yS6otHQQ+NRBwGDDbG2jYvB7bkdKbcOruhfBYzDRY16M7EMMz3IOz3LRIOfkaC51n/RjO2DBsbqBhswFbX4SpOc+RGaaGvdRttNHwUgPm7f1ov+ooGB2rzn+LQ4/pRSuDx9KbO1royNHftlGHO+4h8mHq7XxrKwNre7FvbqDBasNzxYjzD7ni7LjfjOCy2miwegnJkPi7H+/7g4zPWcNXrQ/0WBthn7EmGWc1Sb/vy00i5mmzXRfDs7m6Nrc0dqHrc2K2N7DzLxIQZ+RLP97XgkW+3IvSndLRfQEGWw3U1NTQfT15NnHWlbTB2gV0YaupoaYlWGK0qIm6+/00bLYl4+hLI0Nlpsry9fwORfJjN5lpeKkBm8nF+F4/bXNiRovzwxDumAfTRhsNL9lYb3Ljv6HA7SBd7xnwH7GjAfTNPnrpoOtstieV6zuLjtt59uM5FIlFORai//199BRsuqzZ4sT890NJH9jNGDZ7kd+K0LVDAyQYPObCfytK90u6VAzW5LVrQcXzii/9DjdtV13UWRuwtYeQ708ROlLHemsDDXYztr9pGTqyyNExqNx3K2LBeVRHT6OZBvtO+m8Uni/Vn5XSsbhonQQLpUZVVXW5lchlZqbYJoBPHjqdbrlVSFJsX6Mciu89VkDOPkgFV5PcikpTcEwps3dUIrlX1MtTDLyiRZZL61ac8vIVWUZZVUzXHNI+qWR3btl56VgdmX28Co6V0l+RZZQye3IVnldkpeQ6soo+UCS6WwawB31YHsjJtSfKOD2NbmpPT9FZYsSoMkr1bZ6z11uSKF3OCTwhzyIWklfJnLrnU7ZSH8jhvoz8oLq94+bVdxYdt/OwodjVBbEY/9KFf20A344Se3spVNcfK9c8j3tKkbLzao95aFWh71ak5D04Rcn+XLodF62TYN78iteQCQBYVf7moim5S2kOq7Ul3hQ1RTY5nc/NbCE3vsr2VJRYwScLLjtPivm+nP6VbCs8XzIZg8p23QjRtcrMT6tBQ0ruAx21GBd5A5+v71P//yBB6FgPtccCDz8ZK6x73mXnYWPJvlWJCnUsOm4Xd31uLMo3/XRfcdH5eQl5S5oULPL+s+D2qFDTYl/oKulVsr1L++NhvGQKyiMSMoFAMH+2NvHZKhc7W8fxWAzAFOODMQzHAnQW/ZctHjIPZjG0+nFuEo+Qxw3lgRnfp9Yl/xhGIHjcEFOWy8SKmbIUCBaBkoghxabAYMayQb8EU0oCgUDw60QkZMuESMgEAoFAIBCkWXEJmUAgEAgEAsGvjcd/2wuBQCAQCASCxxyRkAkEAoFAIBAsMyIhEwgEAoFAIFhmREImEAgEAoFAsMyIhEwgEAgEAoFgmVlxuwb9Wra9qITYFmNlI+J0cYj4FggEgnzECJlAIBAIBALBMiMSMoFAIBAIBIJlRiRkvzpkomd68V+XH35Vt0L0fhQi/vBryhD/upfer0vUeD9G8IiLhpcaOHQp8Qi1EggEAoGgPCIheyKRiX7kxmyooabGgPlfvQTmp61TAAAgAElEQVRvphMwhfiwl1BcWeI6FRJjEolcsfckvEckHmXqk7jhxXujeI3xs4foSLg4eT6AzyH+KWOBQCAQrBxEQlaCidMOHI7k36mby63N/JA+dtL0vZ3A97Oo/xNn6KiJ8c9DxB88zFqnGDrqI3LvYdaxOBKJCLZGOyatHu3q5dZmaXic41QgEAgEWVbcV5YrBfP+MOH90wx37mFyuZWZFwli0Sie10ewrEkeMW710LO1SFE5TlSKM1trpG6rEW3uOSWBFJ1ghlqMFivG3JOKjPxAi1aTQLo6gfLM/4NpTYx4GIyyjLwaNFotmlytbkSYmAGdyY6lYHBK/iHK+NQs1Bqoe8GEdlVBPatl4tfHic8W0aVAdknuy8zMAvdnkGUtWq2mop2KLMNqLZp7EpGYUrTu5eZhxen0N53s6RmF+nbOdTfyVM65idMODp9P/Wg5QXi/ee51Keq95+j+fe7VAoFAICiGGCF74tCi36DHfyZIuVlJebiLna3dDI2F6H91Pc7jEuniyg9+3EYbvmEJ6YqffS820H09KyxxyYPuwyDBA030DEeY+P+i+Fp8BBmh9y0XrhYfkcys4Tj+vTbaghKRs904LW4G76TPxfD/qxnbewNIYxKhvp2Y9g5mpjgTlzzojnbT7XTTHZII/c3N+sZupIwqcQb3rsfSHiQyJhFob8DzRXF7pTMufBdg5JNDuFr8SBXtTDB4QIfvbJB9L/cQujKBrCku+0lj4rSDPZNuznnr5568eYrDnCAcDhMOn2D3+cPZkbm7w/R+u41z4XDm/LqeC0w8Uu0FAoHg8eTxGSG7O0xnax/pd+/cN++8N3Z2cyJ8EHPq+NV17Uz29DHacoITHObwedj9cZiDmyY45bjK9o/h8NsXk5cWvO2XI6/OzCjCBKcch7mYI2fitIPDt+eOMjw8NNiPhuja62K90UfrG10c2t+KtWBUaubZViJf2JOjYg4DdZYQ0rsWrEj0/6EL3acxTu5KDge1vdSF7WUf1rgPezopeT/A7I8jBDakfv/+/6Cr6cH4xQCta1PHbif/Yz02gudZAA91e3UErvbS9IoeMOH+YgSPNjXspFigtpuhY0140nKvzmK9MkSnFsCOwVJH6EYnlq0gf91Lm9TK4FUf1tUAHTiP1tBQxCuWNy/TK9fQsyHAwCt6QKK3Cju7z87yUzSAsVr33zyFIx1PpGMt+f/F4zQZh+u8k/T1jLL74xPw9mEups/fHabz38H9u2scTo08VT/qlIrH1K/sdeXj1Lw/TBiY/qaIyE0HCW9K/zCzvQUC/5yGTU/B0//CutHD9H7zW7p//xTT3wS4WL+N5mp9JxAIBL9iHo8RslQytu7j9Jt3OD8Zy7yxhznnneRw5zDTqUsv9kziDrZTf/4wgXXnONECk//MnOXw2XWpN/oT7D4fYPhuZXWmv+kksO5cts7fXaP3m2nAzMHcUYObpx5xMpZitYW28z8xc6UH289+mgwGdn6cHQEDMJrM2SnKNYZswnFrnNB1N02O7NycZpuHts3dRMZyBDS72bmBKqjD/Gz6/7UYCjIbjVYLikzseojg6UFiREjkrkPbaMacUcWAYWP6/xXGr/ZjfsOTSsaS1NZWoxNV29n06s55JmOTtAezcZqXjJWM04v0pUakLr4dYF3wBLuZ5B/pWBzt4/CkO3ltsB2qGnWaZrgzwLqMLufY9m1vKr6XKk4nuHq+nm116avMHAyfY9u3e3A4kqNs4Ucd+wKBQPCY8lgkZNPj1xhtOZF5uOWc4R+362n/t+yo1lN126gfncxMe9V7m0me3Y17zqhCPe1/TD8wzGxvGWXyvytqw3ffjjLasyezmHpPzyijk+kazRwMtjP5tgPH23BiGR9I2uectH16mdj3XWjaPfTfqOKiewki6KjNm56rpVYL8aml/l5SQfqLC7PTSygOpl1OLFVfK5O4DdrV1WZgBTwEOyeiF6n3dtD4dOGZSnGac67FXeT63ZxIj9w+/Vu21ecka6W4+x3XRkfpa00v+t9D32hufC82TqcZ7jzMZJ69E5xy7OHa784RDp+j/fZhHDkvRwKBQCAozeMzZbmiqKc92F3kwZlbpJ760eSD01yu3CNAu8mFq/kQI1MKbKlQeK2RJiJM3QPWpA/GiV/VYz6yxFtF3OjH87mNgNSRSsSihKq+WI/xOYgnpoAF6FXRzidgn7IiC/LnlllInCY/Irj2u4Kp05tXuVjfzrnUscbuE0w6Anx3t7F8XxEIBALB4zFC9lTdNuqLTic+xb88O0rff2QncCb+o4/Rlu1UtxIsh7vDBM7vZvucUbgSdf57qTf/CU61XmPbH7vp/nhdmXIPicQg++yHCN7Ibvwq3xxg4EITts1VrEpf68Tz+hA9f4uSlhD/8iQnn/XifKHchRrQx5MJTrUoCtLTmszXmPLYCCPzuNyyo5OpD3sIptaqkQgxVG1Gt2A7S2O27ma06HTiEsbpzQv0sY3fVkpwnv4X1o32pabSi7HQOM2OghVdx5YzOs3df5T58jNO5KMu/DeWej88gUAgeDx5PEbInm6k++NJHK0O+lKH0guUzfvP0d65B4cjfaKdc93VPuaSUzpJmclRr+SVyRGAvvQXBKMOLpJdoJ2uc4+jLyMp+6HAYSa95zj4NPD0QU4862CPYzLzocFDR9+E709xOl414b6ZejRuaKLnqj+72L4sWpwfhojvdaHbqMeuiTPxtIfA1x0VphMtOI/qcDaaCZmMNPUN0Vapqq2tDKxtwL55EPPqWbRNXpx/gGr/DQHNji4G39pJk3E9J3dokNd46Gpqgqqe8Qu1swybDnLO28meTDDOjZm5cVrNN4gXOexIL83fzYlwetSrXJwmpyQ7W/fg6CHn2vSHBKXjVJ+3dcVoMs5THwBMfxNIfiTQU0RuCfuLjo4lJPxHupE/9+DZUvUqPYFAIHhiqVFVVV1uJXKZmZl5RDVNcMoRYF2lqcdlQqfTLVqGIssoaLJ7bs2X+zLyg3lef19GRjuvjVcVWUbRaFmomigysvJo7XxkcXp3mM7WSdyPKqF/ROh0Orgvo6zO369OIBAIfq08HiNkggVRuDnrvFmtZd77oC7gmkXruZhkDhZmp2DxiGRMIBAIMoiE7BFRuIN5HvPY/0wgEAgEAsGTx694ynJlsxRTloKHh4jTxSHiWyAQCPJ5LL6yFAgEAoFAIHiSWXEjZAKBQCAQCAS/NsQImUAgEAgEAsEyIxIygUAgEAgEgmVGJGQCgUAgEAgEy4xIyAQCgUAgEAiWGZGQCQQCgUAgECwzK25jWLG/U2XEHk4CgUAgEDxZiBEygUAgEAgEgmVGJGQCgUAgEAgEy4xIyASPhlshej8KEV9uPRaFTPRML/7r8nIrIgDiX/fS+3WxiIoT+qiX0K1HrtLKoYr+lrgRJX6/epHKD0G8LQ00vHSIwYToCwLBUiMSsicVWcL/xk7MhhpqagyYW3uJ3ltGfe5JeI9IJJZRhcWjEB/2Eoory63I48+9GJEfFvcwT9zw4r1RLKISSEe8SEsR70ugZ9UkIviP7KPhpX14z4QKkiUZ6Wwvh1oa2Hekn8EfKsRgpf52P4TPYqNrOF1CITEmkSgpNk7grQ6mdp1k4AsfTv0S94VH6WeBYIUiErISTJx24HAk/07dXG5t5smdQfa96GTwmQ6GYrOoszEGmmfoOS0hUgnBSkCR/DRciC23GhV5VHoqt/y4Xh6Exg4CX3Rg+9HH+hZ/coTrQYz+f62j67aJtk8CdFin6DG58C9mBHC1k5O/zOBv1qcOTDF01EekZBKbIBG2sXOHCa1ei2YRVRfjcYkHgeBhsuK+slwpmPeHCe+fZrhzD5NLKjkps280+Wv3x2EObso9P8Epx2Eu1rdzrruRp+YtXyHy1zbGXxlk5F1r6sapwfSyj4GCkvIPUcanZkFnxr5Fnz3xQEG+D1otJG6MMDFTi9FixagFEhKR2Ay1z9Rh3aDN1irLsFqLRo4R/X6K2VojdVuNaCmHkpIPuo02LGs1gIIsK2hWa9Gko1ORkRUNWm3BY0CRkR9o0a6WiV8fJz6bo2eeHZqcS2QUjRatZmF2ZrhXzs5iduX4SatFuRVl/GcN5u0W9CV6YcmySgIpOsEMOsxWC3pN5oKkPzQysbFxpgr9UU5mxh4DdS+Y0OboJN+KMv5zMk5sW/R5D+N0DNUa6rA+VyQe7seJSvF8P92Xid+Ow+wMsizDKi3a1ekLS9iWInEjkvSryV7caYU+vCMx8uNMXoznxUBW4bkxVkxPZGRy9EUh6dKCNs6N37Rv0ZVsb80GDwPR7O+mI1206fxE73gwrjXh+WKcNm3Kvy/76H3PQNvXEp63LZU8kI1Fkx1LTjdXHgAPgFUKshwjHgajLCOvBo02P+lS5BlmgVlZRtbm2l9AOVsfpOOS/HgpGQ/pfj23HwkETyJihOyRMsEpxx6u/e4c4XCYcLgwGZtmuPMwtOxeeBXKCKHjZtpes5Z5i5WJHLVhesNPZEwi9IGN9XsHs+tNxnrR7fXRfWAnHUGJ0N/crG/sZvBSFzvbA0hXgnRtN+ENp8fbEgwe0OE+sA/bG35GxiIEj9owvRYsvYZFieN/zYz7rxGksQj9r5lxX0gAGuJnnBiPRlKjeXH8TXb6f5grInHJg+5oN91ON92hrJ5SWq2xXnQHBnOmbZJ6ei4lFmhnkvhpd2k7S9oFEKVX58F/thv3WwEiY1PMlnwlKl5WueXHvdlN/xUJ6Uo/7s1uBu/k+GPvPvZt9+C/KhE524XN5CZ4u7xM+UoXNmsXA2MS0mAXdduzPkxccFN3wE9MlokH27C/ESI5sZSMobpjA0hjEgPH6rAdT4/AJv3sPd7NztZuhsZC9L+6HmfqvHTGxaFPRuCCD1eLC9cZKem6MrZBnMG967G0B4mMSQTaG/B8Ucp3SYaO7sT13gDSWIj+ZgO296MogHLFi+5YJG+0WPqLHfelqbzri+kpX+lCtzeYiSkl3IVOtzNntEqif4cno7cc7sK2+RD+KxLSsA+baR+Dt6lMIk5Mb0K/JvlTo81P+TWrDVUIGaLL6aJrUEIa7sdlsNF9PW11lF6djt4xIBHB1+IjyAi9b7lwtfiI5M11Svhzz6faq5Cytv7gZ6fFhm9QQhoL0bPLlOkXxeMhweBrdez7PIYsxwm02zn0tZjSFDzhqCuM6enp4n//FVBff/559fnU3+tnb2XOXftz9vjzzx9Xr+UcP342dd2fr2XKHf92Wp2evqYef/64eu3b49lr/3ytoN5bauD1dPn8v7w6Xw+ot6bTMvPlXPtzzvlvjxepI/t36+zryfPfHs+ROfevLD8H1CY61MuzpYvMfNWm6rf2qOOZIz+pgWZU5+c/JX9GfSo0qZ/F0+dHVJ8e1fnhuJoW+9OndpV3Lqd+T6mBZlR7znn1l8tqh16vdkZmc2T61JHU6fE+q2r500i2/N0B1aNPnZ8dV31brarv77PqzFdtqjFTTz5TwSaVLZ3q5Zn0kXG1ZwuqL6pm62wOqFPZK9RAM2pTcOqh2VnWLnVE9YGqL2FPPsXKjqs9Wy1q59XskZlBj6p/byTrD0ePOv5L+uysevkdvap/Ny2jiMy7Q2qbvkkNZHygquMfWlI+StrbGZmr3cxXbaq+OaD+lKvbliY18HPWT5Y/XVYzTSP1qJac9p8KNqm8N5IjsbxtM1+1qfotnerIL9krLr9LgYx833nOz2QP/fiZ6sSpfvajmmwTPOrA3VzdU+cKmKPnzwG1iTZ1KCV65D2n2vluazamfvxMtW9J9a27Q2qb3qr2SNnLf/qiSaXxsxy/5TKrTv19SA182KY6tzapJ6VSUTKu9myx5MmdQ9Snkmejqv70qTOn7qSPMn1FHVF9pNuvGIXnC/pSRVtn1Zmc5pj9zw4VR9YPxf3cqV7+nzI2CgRPGI/HCNndYTpb+1j3cTgzstT9++Rk3sRpB4c5kTl+zjvJ4c5hplOXXuyZxB1sp/78YQLrznGiBSb/mTnL4bPrOBcOEw6fYPf5AMN3K6sz/U0ngXXZUa5zv7tG7zfTgJmD4RPsPn84ue7s5ikO385OPU5EL1K/7h+ccqTXp3Vm67s7TG/POk7sNy+p6+aiMH61H/PeJrKTHUaa9ncQ+jqaM6JVh/nZ7HnjdrBtt2RG3WpXa+F2gtx3Vu1aQ3ZUbrUN56sJorfyRx2SxBkflnHtMKHIMrIsI68yYnlxnPgdQGOh4yM7A8c8tH0AJ4/YS4/2bTRjzgweGDBsnI8vltrOCnalONRUxp4C8sreGicku7BvUpKyZRmMFuq+j2dHAbUGDJnpJA02h5vEWJypEjIVKUK/w4VVK2dkGp+zM3grDugxWa343/fiv57IGVFKxpB9lxVd2k7ZiMkxmGen0WTOTuWuMWAsZ2hZ21Ix+4YHa85UWW1ted8Zn8kZVdpgp8kRIhZXYI2T1neHCF1NteqNCAFDE/YN5eUBsNaK0zGA9AOAxEjIxs7X7MhXx5GBhBRhosmGhZRvN3to2pKjU3MbHcMhokVHyRTi38eY+oXkNF4sXnTNZ/x0Fz1WH560XCXbdrKce4URw5qcXzuasA/HeBjfpFS2VYNWC8q9GNHhIP5LMQgnSn90sNaEbauf7iN+onfEylfBr4PHYg3Z9Pg1RltO0L1pzhn+cbue9j9mk5in6rZR3zOZ6ej13mbMfAfsxv37p+B07vX1tP8xvU7LzPaWUa7+N/B0WW347ttRRkf34OjJOdySAJ4CzBwMttPZ6sDBbk6E89eBjfZM4g6HOQhw8xSOfx/mt92/5bt/v8a2YDeLTsdWazEgJR+MRR8wMonboLXkP800v9FBNM7STQpoqP0NTNwrJjFBIgzjW/z4x3IOb3diTD1wNc/VUTfcjf/NIfxriohYMeTaqVS0a1HcSxBhHMtpP7mTRvZGI8nVd0W0+40Ovk+UbFf5XhzuyARPT+UkiQZ6UuutLG+PIFmD+D+xY3zVhPeMn45tConbkJCD+BM5qeXTPVgW2lZlbSses/OjllotTMkyoMfe4sV7dID4yx7kKwGMr4bKJ4wZjNQ1GvBEJTrXjBPabqXtuVrslwYY77PD34O4HX4g5VttHXlaa2rRMUL8HvBsoWwt1j90YAU6jkTp2m7Hp4/j25H1sXytG/fnNgbDzkyymwj7cP8l5bVNHQT6nOgLRafq1jJFygVLSkVb10j073UzqPXgedmOc5cF/lZOooWOqxK2C35ONhpxm7wE/tqBdUXfCwSCxfFYJGQrj3rag900lkvc6uupH53kH3fBnFMumSCm+D/rqB+dJHFzkr7RUWh10JcjYo+jr8ii/wpobdj/sBP/lTieDcUeMXqMm/XE70yRe1dOxMfB4aaalSnVkSD+Pdibi0k0YmyOMeNoo8NRbKxIIfKhF83gCJ+dbsN3zY5v2wIX9D6A2YVdWSX5dpa3a5GsNdL0wwzONzuwFxFfdAOICu2qN9ahX6Wn9R1PyYREv7WVzq2ttI314n6xC9PMSYyb9aBvpWN/dWlMRSrYZnwO4on8mJ0fceJX9ZiPpK7f0kQbh4jcssOwEdfn1cu17HBDX5zYBgn9izvRoMX6ahPRm2404TbsR5MG6I116H+cIk/rO3HGseNeW6GS1VbsjQn6E9nsSbnejbN5gkPRQN5IoX5XD5d3VaH4nTgjejNdS5yMQWVbpdMe/C8GGH8nNS5/PVRZ6Co91lc6sb7ShvSxm7pjJmb+6qzwoZBA8PjyWExZPlW3jfqi04lP8S/PjtL3HxOZIxP/0cdoy/b5jzTdHSZwfjfbKyY/qTr/PTstms8Ep1qvse2P3XR/vC6vnNm6m9Fvv8v8To78bce86WBm+jMcDhP+eDfUt3NuzqL/atDS9FYPMwfcdA1np5nkm372pRa4W3d50fT1ZBd7y1H8n4zQ1mxf1ItzPDaB/CAl8spJeq624d6Rkrgq91Gqx/lqG4FjvURzhm7ke0ltlWs+vDc76XjZivs9F5E3fUTnsYFlBo0Gy6UIUipTkcMn8V9dgJwC4rGJzIhTvp3l7ZqLgnSmi95wldvlrnXieT1A10fR7IjXAxk51zc/TjCR3rpAjnDywwrtutWJ95cuur7M0UGWMwv3pSuxTF3atcZMYmfd5WX2WFfOBwMgFx0NLcEqDcSnsnZUsM2yo5OpD3NiNhFiqMIzfTyWtSl+poeuZ704X0gfMeLab2Dwk14G17pxlkqQCvUE2GLDFQ7R+3UMu0UPaKjb7iJyPsDIRht16YxhqxOvpoeejG9lomdOMvK6G3tBg8TPenP2BANuB/GfsWAzZZOxna9O4Lnip3XOyFpJDzCR9teDOP6+LoxHnBT/LlMD+jhT89i7TZObOFewVbkvoVutyZyTro7kCyv08z2JyM1M5GFYu3SvigLBSuWxSMh4ujGZ3LRm9wbr/CaZ1pj3n6P99uHM8cO32zlX9Tqs0azM1mtsCx5MJXLTDHc6cDiS21NcfDt/PzLz/nO008ceR+FeZcktKya9HcnRs00HOfFsH3scp5gg93fymj3fbpuHrvNgSweRmIfEEQu1NTXU1NRgeiWC5UDqwbylg8CnBvxWA2a7jfU6N/EDEXp2Le7dU3cvhMdipsG6Ht2BGJ7hHpzpKYYNFlz6k3g+Tk6taHf1EGqdwGNaj+2lBmwb1+M+I6Hcj9L7TgT3B8kRG80LHfTuCtHxcXT+e6htcdP1hwguw3rMm814fnDR8caiTAT02HUxPJuL21nSrqKy4ox86cf7WpDi360VosX5YQh3zINpo42Gl2ysN7nx38iR/rRM6A1zql33EdsbqtCuFjrO+jGcbcCwuYEGu5n1272EbgPMMDXspW6jjYaXGjBv70f7VQdOLZkYCjgMmO0NNGxej+1I9f8Sg36Hm7arLuqsDdjaQ8gVbNPs6GLwrQQdxvXY7GbMb8UwNzWVqaGJuvv9NGy20bDZgO1LI0NnO/KSEe12J4a/9GPYZS856jJXz6TPrK/68f/dSV1qWYDWYkP7US9xqykn+U359owNw+YGbBt1uOMeIh/OHeUxOlzoztio2WijwW7GYPVj6AvQtgVAovflLiK3guwz1VKT6tM1NS6CdyhNcx3KJw2YrQ2Yn7ERXDtEoOQ2GRacR3X0NJppsO+k/0YZuUnPYHrRyuCxLkKJyrZaXx3A2GfHbG/AZvUQ2eDEU87P96cIHaljvTUZk7a/aRk6IkbHBE82NaqqqsutRC4zMzOPqKYJTjkCrKs09bgC0el0VZdVZBmFInt4Jc/O3fNrQSQIthgYeHmKgVe0SZnaIptHZvYNyzn2QEG+vxQ6lKbovlOLl1raTpiHXVG6nBN4QqWnDItyX0Z+kN+uibMuDJdcTJ1vRbsAm0vGSllbkn5gQf4t4cMituUoWXxPulIU2YsuKyuCtzaI7e5nNJVdm1ShratAkWWUVWX270pzX0Z+MHcfsEVxv3DvtCUqS3ZfO03BsaK2puOopG1F/FwuFgSCJwyxhuwJp/yN/WHc6MrI1GjnvuGuevg32yV9uGWllte7GrseJAgd66H2WGB+yRjA6iK+zNVuATaXvKasLYtpvxLXlrNtvonfquTXfcWIn+0n8G4bvooLxRcfo1W3R4V2XRDzkTnP+gv3R0sfm38cQVE/Pwx/CAQrlMdjylIgeBJ5MIuh1U/nVvH2/yhRwl2s32jAdslG6Gj1W5AIBALBw+RXPGX5+DKfKUuBQDAXRVbQiGkwgUCwghAjZAKB4FeHSMYEAsFKY8WNkAkEAoFAIBD82hAjZAKBQCAQCATLjEjIBAKBQCAQCJYZkZAJBAKBQCAQLDMiIRMIBAKBQCBYZkRCJhAIBAKBQLDMrLid+sU+ZItD7FEmEAgEAsHjhxghEwgEAoFAIFhmREImEAgEAoFAsMyIhEzwaLgVovejEPHl1mNRyETP9OK/Li+3IgIg/nUvvV8Xi6g4oY96Cd165CqtHKrob4kbUeL3qxep/BDE29JAw0uHGEyIviAQLDUiIXtSkSX8b+zEbKihpsaAubWX6L1l1OeehPeIRGIZVVg8CvFhL6G4styKPP7cixH5YXEP88QNL94bxSIqgXTEi7QU8b4Ees4H+VYI/5F9NLQcovdSjGI1KzeClV9uKvW3+yF8Fhtdw+kSCokxiUTJ0I4TeKuDqV0nGfjCh1O/xH3hEftZIFiJiISsBBOnHTgcyb9TN5dbm3lyZ5B9LzoZfKaDodgs6myMgeYZek5LiFRCsBJQJD8NF2LLrUZFHqWeyvVunI1+ZGsbJ99rQnulC/9YQaH7UXyvd9Cz2Jeb1U5O/jKDv1mfOjDF0FEfkZJJbIJE2MbOHSa0ei1L/S+BPi7xIBA8TFbcV5YrBfP+MOH90wx37mFyKQXfPIXj7YvAbk6ED2LOOTVx2sHh86kfLScI78+enf6mkz09o5nf9d5zdP/+qSIVKET+2sb4K4OMvGtN3Tg1mF72MVBQUv4hyvjULOjM2LfosyceKMj3QauFxI0RJmZqMVqsGLVAQiISm6H2mTqsG7TZWmUZVmvRyDGi308xW2ukbqsRLeVQUvJBt9GGZa0GUJBlBc1qLZp0dCoysqJBW/gPQisy8gMt2tUy8evjxGdz9MyzQ5NziYyi0aLVLMzODPfK2VnMrhw/abUot6KM/6zBvN2CvkQvLFlWSSBFJ5hBh9lqQa/JXJD0h0YmNjbOVKE/ysnM2GOg7gUT2hyd5FtRxn9Oxoltiz7vYZyOoVpDHdbnisTD/ThRKZ7vp/sy8dtxmJ1BlmVYpUW7On1hCdtSJG5Ekn412Ys7rdCHdyRGfpzJi/G8GMgqPDfGiumJjEyOvigkXVrQxrnxm/YtujLtLdH/9gA7vxyhY2tSlumTQhsVoh92EH+rF8/1aif/c2LRZMeS082VB8ADYJWCLMeIh8Eoy8irQaPNT7oUeYZZYC/YqwgAABD6SURBVFaWkbW59hdQztYH6bgkP15KxkO6X8/tRwLBk4gYIXuETH/TiePsOs59vHvuyZunOMwJwuEw4fAJdp8/nB2ZuztM77fbOBcOZ86v67nARLFKlBFCx820vWYt8xYrEzlqw/SGn8iYROgDG+v3DmanQMZ60e310X1gJx1BidDf3Kxv7GbwUhc72wNIV4J0bTfhDafH2xIMHtDhPrAP2xt+RsYiBI/aML0WLD2tosTxv2bG/dcI0liE/tfMuC8kAA3xM06MRyOp0bw4/iY7/T/MFZG45EF3tJtup5vuUFZPKa3WWC+6A4M5IwlJPT2XEgu0M0n8tLu0nSXtAojSq/PgP9uN+60AkbEpZku+EhUvq9zy497spv+KhHSlH/dmN4N3cvyxdx/7tnvwX5WInO3CZnITvF1epnylC5u1i4ExCWmwi7rtWR8mLripO+AnJsvEg23Y3wilptGSMVR3bABpTGLgWB224+kR2KSfvce72dnazdBYiP5X1+NMnZfOuDj0yQhc8OFqceE6IyVdV8Y2iDO4dz2W9iCRMYlAewOeL0r5LsnQ0Z243htAGgvR32zA9n4UBVCueNEdi+SNFkt/seO+NJV3fTE95Std6PYGMzGlhLvQ6Xbiz6xXk+jf4cnoLYe7sG0+hP+KhDTsw2bax+Bt5nIjQkBx49xautcq13x03D6EzwrVjSUN0eV00TUoIQ334zLY6L6etjpKr05H7xiQiOBr8RFkhN63XLhafETyht8k/LnnU+1VSFlbf/Cz02LDNyghjYXo2WXK9Ivi8ZBg8LU69n0eQ5bjBNrtHPpaTGkKnnDUFcb09HTxv/8KqK8//7z6fOrv9bO3Mueu/Tl7/Pnnj6vXco4fP5u67s/XMuWOfzutTk9fU48/f1y99u3x7LV/vlZQ7y018Hq6fP5fXp2vB9Rb02mZ+XKu/Tn3fOrv2+N5ehb7u/bnXBuTctO/b519fa7M1J/6c0BtokO9PFvaxzNftan6rT3qeObIT2qgGdX5+U/Jn1GfCk3qZ/H0+RHVp0d1fjiupsX+9Kld5Z3Lqd9TaqAZ1Z5zXv3lstqh16udkdkcmT51JHV6vM+qWv40ki1/d0D16FPnZ8dV31ar6vv7rDrzVZtqzNSTz1SwSWVLp3p5Jn1kXO3ZguqLqtk6mwPqVPYKNdCM2hScemh2lrVLHVF9oOpL2JNPsbLjas9Wi9p5NXtkZtCj6t8byfrD0aOO/5I+O6tefkev6t9Nyygi8+6Q2qZvUgMZH6jq+IeWlI+S9nZG5mo381Wbqm8OqD/l6ralSQ38nPWT5U+X1UzTSD2qJaf9p4JNKu+N5Egsb9vMV22qfkunOvJL9orL71IgI993nvMz2UM/fqY6caqf/agm2wSPOnA3V/fUuQLm6PlzQG2iTR1KiR55z6l2vtuajakfP1PtW1J96+6Q2qa3qj1S9vKfvmhSafwsx29JZv+zQ+XVgDp+9aTa1mxX7Q6P6gvllPplRO3c2ppsp58DalOOL4sS9ank2aiqP33qzKk76aNMX1FHVB/p9itG4fmCvlTR1ll1Jqc5Zv+zQ8WR9UNxP3eql/+nnJECwZPF4zFCdneYztY+1n2cHiEKZ6brJk47ckaWwpzzTnK4c5jp1KUXeyZxB9upP3+YwLpznGiByX9mznL47LrUyNMJdp8PMHy3sjrT33QSWHcuW+fvrtH7zTRg5mDu6NbNUxy+3c657kaKTS6WZoKr5+vZVpe+yszB8Dm2fbsHh8PBnkk34XnLTKMwfrUf894mLJljRpr2dxD6OpozolWH+dnseeN2sG23ZEbdaldr4XYib9Gxdq0hOyq32obz1QTRW/mjDknijA/LuHaYUGQZWZaRVxmxvDhO/A6gsdDxkZ2BYx7aPoCTR+ylR/s2mjFnZsoMGDbOxxdLbWcFu1IcaipjTwF5ZW+NE5Jd2DcpSdmyDEYLdd/Hs6OAWgOGzHSSBpvDTWIszlQJmYoUod/hwqqVMzKNz9kZvBUH9JisVvzve/FfT+SMKCVjyL7Lii5tp2zE5BjMs9NoMmenctcYMJYztKxtqZh9w4M1Z6qstra874zP5MzVbrDT5AgRiyuwxknru0OErqZa9UaEgKEJ+4by8gBYa8XpGED6AUBiJGRj52t25KvjyEBCijDRZMNCyrebPTRtydGpuY2O4RDRglEy+V4cfvQTiNnwfXGZoc+bmH3PRtcVhexUpY/WZ5mLkm07Wc4d9zNiWJPza0cT9uEYD+OblMq2atBqQbkXIzocxH8pBuFE6XVwa03YtvrpPuInekesfBX8Ongs1pBNj19jtOUE3ZvmnOEft+tp/2N2rdVTdduo75nMdPR6bzNmvgN24/79U3A69/p62v+YTmzMbG8Z5ep/A0+X1Ybvvh1ldHQPjp6cwy0J4CnAzMFgO52tDhzs5kR4vonTNMOdh5n0nuNgRo8JTjmSx8LdMNy5B0dniURvtRYDUvLBWPQBI5O4DVpL/tNM8xsdRONFv+paGBpqfwMT94pJTJAIw/gWf/6i5e1OjKkHrua5OuqGu/G/OYR/TRERK4ZcO5WKdi2KewkijGM57Sd30sjeaCS5+q6Idr/RwfeJku0q34vDHZng6amcJNFAT2q9leXtESRrEP8ndoyvmvCe8dOxTSFxGxJyEH8iJ7V8ugfLQtuqrG3FY3Z+1FKrhSlZBvTYW7x4jw4Qf9mDfCWA8dVQ+YQxg5G6RgOeqETnmnFC2620PVeL/dIA4312+HsQt8MPpHyrrSNPa00tOkaI3wNykivtGiMY6mjbb0kmsWudeN6wsf6aRBdDNL2vw/XhIL0fATPjxJEJfNTLzMsd1MV8uP+S8tqmDgJ9TvQUQVOLlilSLlhSKtq6RqJ/r5tBrQfPy3acuyzwt3ISLXRclbBd8HOy0Yjb5CXw1w6sK/peIBAsjsciIVt51NMe7KaxXOJWX0/96CT/uAvmsgleLsmPCK79rmDB/s2rXKxv51zqWGP3CSYdAb672zhXB60N+x924r8Sx7Oh2CNGj3GznvidKXLvyon4ODjcGKpVtSIJ4t+DvbmYRCPG5hgzjjY6HMXGihQiH3rRDI7w2ek2fNfs+LYtcEHvA5hd2JVVkm9nebsWyVojTT/M4HyzA3sR8UU3gKjQrnpjHfpVelrf8ZRMSPRbW+nc2krbWC/uF7swzZzEuFkP+lY69leXxlSkgm3G5yCeyI/Z+REnflWP+Ujq+i1NtHGIyC07DBtxfV69XMsON/TFiW2Q0L+4Ew1arK82Eb3p/v/bu7/QNq8zjuNfgy8U6IVcKEjgZZGILyxqiEQ6qpf4whIKVMUXtdaGWGSwqUlpzZIlcg2LhS9GuotUdrYs6cg6kYugmITEKRtRKGHqRYI9PIh7EexBL5RBwYaE+oUZqgtDdiHrn/1K8r9MsfP7gC/8+tXRec570PvonPMeY7s/QOBsIQCHy4fju3mqav19jkcEiLZXl2lzdRLIzVclznuKn84dEdLZigX+zxbJsEDnQS8uOzh6k/yjdx0V/z7HpMNDYpuTMWgc68yXMVJvpXn06cq4/D8zjQttdeA/Ooz/6AAzF6L4RjpZ/CLc4EEhkZ1rR0xZvu47xM8spxNf56f7phn7qry8ffarMaY/6K56enFdnt4jffPndK8Zhavxnn8oT4tWm+VK/0MO/eYzPruwt855Fq8LWSRjRdPlUT+e/qfOk592+k4mWTwRJXGvPM1kPk7x4coCd3/vILaxZHmxtzlF6uIkA+8HtvTFOTc3i7m8UuQ3l0g+GCDas1Jia+Wt1EH42ADpkVGmKu5A5rNCbfMPzzH4eJj4e36iv4uQ/fU5pjawgWWJzYb3TpaZlYYz718i9WAT5aySm5st3Tir46wf11p5Zq4mGL2/zifm2sPEPk6T+HyqfONeNjEr2+a7WWaLWxeYWS6db3Bd3w4z+N8EiWsVdTDN0sL9mW/Ke2HZ212lxM7fO8iPI4mKBwbAtBwNraHVBpUJSIPYvD3DzJ+v6LMLGe42uKc/mivHlLuaJLFvkPDB4hEXkeNOJi6OMtEeJdxuWcTaegIcMIjczzD69zkCXgdgw9cdIXszzWSHga+YMbwdZtCWJFlqW5Opq5eY/DhKYPUF2f8usY4kyfHiuTmydyYZPuTF1u4l0BMo//g92HHh6wnQWXfE6BGzxfZazpEaS+AaClcsVahkA0eO+Q3s3WarTJwbxJpfmqHtNVvpbzMPJqsLW93Oz2bIPi71PJzt2/dVUeRltSMSMt54p5Dc9Jf3Bhv+upDmeI7f4MyTU6Xjp56c4cbx9aZj0+Uy+x9y6HpxG4ofuDccIhQ6wtg03DpdvR+Z5/gNzjDGkdDqvcqKU4vxwsjVmx/xx31jHAldKTwR+fhK4fzTt4BbnAqFCK2sd/vh6zS3gOnkkVKZoeLr3vyosDaueLx/jL0X6ozQHYiTnYuxMORlT0sLLS0tdB7N4j2xcmM+ECf9FycpvxNPwMDdFiV3Ikuyd2vfPdueZYh5PQT9btpOzBG7lyRcvGHs9xJxXCJ2oTC1Yu9NkumfJdbpxjgcxOhwE706Q35pitFPs0R/XxixsR2MM9qbIX5hauN7qB2IkvhllojTjafLQ+zfEeKfbClEwEGgbY5Yl3WcNeOyLCvH5LUUg7+4jvVza6vZCZ/PEJ2L0dlhEDxs4O6Mkvq2ovQ3TDKfeFau64fM/SrT4Lp6iY+ncI4HcXYFCQY8uLsHyTwBWGT+3iC+DoPg4SCe7svY/xYnbKfUh9IhJ55AkGCXG2No/f+JwdETZeBBBJ8/iHEmg9kgNltPgomTC8RdboyAB8/JOTx9fXXeoQ/f0mWCXQbBLifGNRd3x+NVyYi9O4zzT5dx9gZqjrqsrWehzfzHUqT+Fca3sizA7jWwfz5Kzt9ZkfyutO1VA2dXEKOjjWguRva81SiPg/4v0ri+DOIJBDE6DFLeCRI9Wxhpfd9H/mIQjz+I5ycG19vvkj5tnY6Bl/DZNpLveAgG3uXyt40Kd9D5lp+JkQSZhcax+o/dxjUWKMTmj5HdHyZWWdrqdl6aJzPkw+0v9Enjz3buDml0THa3lufPnz9vdiUqLS4u/p/eaZYroTR7G0097jBtbW1Vv+dNkzwWe3gV/rp2z69NWeD6B05uvzfP7aP2Qpl2i80jS/uGVRxbzmMubUcdarPcd2rrpdaOEzYQ1xSJ8CyxTO0pQ0tLJuZy9XVdGI/gvBNh/mY/9k3EXLOv1I2l0A5sqn1rtKFFbBWVtN6TrhaLvejKZWUZ3HMd4+lf6as70tTgWq9D3jTJt9bZv2v1udvZX5dW7522TedS3tfOtuqYZazFflSzHS3auV5fENlltIZsl6t/E3kRH3R1yrTZ137DbX3xH7ZbuZHWKbV+vdcT1/ICmZEke0bSG0vGAF6zaMvK2m0i5pqvqRvLVq5fjdfWi22jiUpr4ek+K7nxy6R/O8C5hgvFt95HN3I9tr2/Nugrmz6XQl2tjm28H4FlO2+wPiI72c6YshTZjZZ/xNmfYrjOZqCy/fL3E7g7nBh3DDJn178FiYjIi/QKT1nuTqunLEVkrbyZx6ZpMBF5iWiETEReOUrGRORl89KNkImIiIi8ajRCJiIiItJkSshEREREmkwJmYiIiEiTKSETERERaTIlZCIiIiJNpoRMREREpMmUkImIiIg0mRIyERERkSZTQiYiIiLSZErIRERERJpMCZmIiIhIkykhExEREWkyJWQiIiIiTaaETERERKTJlJCJiIiINJkSMhEREZEmU0ImIiIi0mRKyERERESa7H/fOb6umlg6PwAAAABJRU5ErkJggg==)\n",
        "\n",
        "\n"
      ],
      "metadata": {
        "id": "afHhNTPicw0j"
      }
    },
    {
      "cell_type": "code",
      "metadata": {
        "colab": {
          "base_uri": "https://localhost:8080/"
        },
        "id": "CRCXfvs-kLyh",
        "outputId": "85de1efa-3cd4-4d87-df3e-e27ce6846b69"
      },
      "source": [
        "import numpy as np\n",
        "\n",
        "one = np.ones(1)[0]\n",
        "zero = np.zeros(1)[0]\n",
        "\n",
        "one/zero"
      ],
      "execution_count": null,
      "outputs": [
        {
          "output_type": "stream",
          "name": "stderr",
          "text": [
            "/usr/local/lib/python3.7/dist-packages/ipykernel_launcher.py:6: RuntimeWarning: divide by zero encountered in double_scalars\n",
            "  \n"
          ]
        },
        {
          "output_type": "execute_result",
          "data": {
            "text/plain": [
              "inf"
            ]
          },
          "metadata": {},
          "execution_count": 18
        }
      ]
    },
    {
      "cell_type": "code",
      "source": [
        "import numpy as np\n",
        "\n",
        "one = -np.ones(1)[0]\n",
        "zero = np.zeros(1)[0]\n",
        "\n",
        "print ('Values')\n",
        "print ('one: ',one)\n",
        "print ('zero: ',zero)\n",
        "print ('one/zero: ',one/zero)\n",
        "print ('Types')\n",
        "print ('type(one) ',type(one))\n",
        "print ('type(zero) ',type(zero))\n",
        "print ('one.dtype:',one.dtype)\n",
        "print ('zero.dtype:',zero.dtype)"
      ],
      "metadata": {
        "colab": {
          "base_uri": "https://localhost:8080/"
        },
        "id": "thI5qbcguh_e",
        "outputId": "d2b30897-e17f-4550-9dfa-1894ae736305"
      },
      "execution_count": null,
      "outputs": [
        {
          "output_type": "stream",
          "name": "stdout",
          "text": [
            "Values\n",
            "one:  -1.0\n",
            "zero:  0.0\n",
            "one/zero:  -inf\n",
            "Types\n",
            "type(one)  <class 'numpy.float64'>\n",
            "type(zero)  <class 'numpy.float64'>\n",
            "one.dtype: float64\n",
            "zero.dtype: float64\n"
          ]
        },
        {
          "output_type": "stream",
          "name": "stderr",
          "text": [
            "/usr/local/lib/python3.7/dist-packages/ipykernel_launcher.py:9: RuntimeWarning: divide by zero encountered in double_scalars\n",
            "  if __name__ == '__main__':\n"
          ]
        }
      ]
    },
    {
      "cell_type": "code",
      "source": [
        "import numpy as np\n",
        "\n",
        "one = np.int32(1)\n",
        "zero = np.int32(0)\n",
        "\n",
        "print ('Values')\n",
        "print ('one: ',one)\n",
        "print ('zero: ',zero)\n",
        "print ('one/zero: ',one/zero)\n",
        "print ('Types')\n",
        "print ('type(one) ',type(one))\n",
        "print ('type(zero) ',type(zero))\n",
        "print ('one.dtype:',one.dtype)\n",
        "print ('zero.dtype:',zero.dtype)"
      ],
      "metadata": {
        "colab": {
          "base_uri": "https://localhost:8080/"
        },
        "id": "PCXJbgAYaCoQ",
        "outputId": "efd8a1d0-1428-4d30-a4f2-aec4d2142b8f"
      },
      "execution_count": null,
      "outputs": [
        {
          "output_type": "stream",
          "name": "stdout",
          "text": [
            "Values\n",
            "one:  1\n",
            "zero:  0\n",
            "one/zero:  inf\n",
            "Types\n",
            "type(one)  <class 'numpy.int32'>\n",
            "type(zero)  <class 'numpy.int32'>\n",
            "one.dtype: int32\n",
            "zero.dtype: int32\n"
          ]
        },
        {
          "output_type": "stream",
          "name": "stderr",
          "text": [
            "/usr/local/lib/python3.7/dist-packages/ipykernel_launcher.py:9: RuntimeWarning: divide by zero encountered in int_scalars\n",
            "  if __name__ == '__main__':\n"
          ]
        }
      ]
    },
    {
      "cell_type": "code",
      "source": [
        "import numpy as np\n",
        "\n",
        "one = np.int8(1)\n",
        "zero = np.int8(0)\n",
        "\n",
        "print ('Values')\n",
        "print ('one: ',one)\n",
        "print ('zero: ',zero)\n",
        "print ('one/zero: ',one/zero)\n",
        "print ('Types')\n",
        "print ('type(one) ',type(one))\n",
        "print ('type(zero) ',type(zero))\n",
        "print ('one.dtype:',one.dtype)\n",
        "print ('zero.dtype:',zero.dtype)"
      ],
      "metadata": {
        "colab": {
          "base_uri": "https://localhost:8080/"
        },
        "id": "iG0iw-PsbYUf",
        "outputId": "8c7c92f7-216a-49bf-f578-cdeff095c474"
      },
      "execution_count": null,
      "outputs": [
        {
          "output_type": "stream",
          "name": "stdout",
          "text": [
            "Values\n",
            "one:  1\n",
            "zero:  0\n",
            "one/zero:  inf\n",
            "Types\n",
            "type(one)  <class 'numpy.int8'>\n",
            "type(zero)  <class 'numpy.int8'>\n",
            "one.dtype: int8\n",
            "zero.dtype: int8\n"
          ]
        },
        {
          "output_type": "stream",
          "name": "stderr",
          "text": [
            "/usr/local/lib/python3.7/dist-packages/ipykernel_launcher.py:9: RuntimeWarning: divide by zero encountered in byte_scalars\n",
            "  if __name__ == '__main__':\n"
          ]
        }
      ]
    },
    {
      "cell_type": "code",
      "source": [
        "import numpy as np\n",
        "\n",
        "one = np.uint64(1)\n",
        "zero = np.uint64(0)\n",
        "\n",
        "print ('Values')\n",
        "print ('one: ',one)\n",
        "print ('zero: ',zero)\n",
        "print ('one/zero: ',one/zero)\n",
        "print ('Types')\n",
        "print ('type(one) ',type(one))\n",
        "print ('type(zero) ',type(zero))\n",
        "print ('one.dtype:',one.dtype)\n",
        "print ('zero.dtype:',zero.dtype)"
      ],
      "metadata": {
        "colab": {
          "base_uri": "https://localhost:8080/"
        },
        "id": "nNLmGFF6byk_",
        "outputId": "bc34f3df-e8a0-45ec-dd00-d5ca5dbfe477"
      },
      "execution_count": null,
      "outputs": [
        {
          "output_type": "stream",
          "name": "stdout",
          "text": [
            "Values\n",
            "one:  1\n",
            "zero:  0\n",
            "one/zero:  inf\n",
            "Types\n",
            "type(one)  <class 'numpy.uint64'>\n",
            "type(zero)  <class 'numpy.uint64'>\n",
            "one.dtype: uint64\n",
            "zero.dtype: uint64\n"
          ]
        },
        {
          "output_type": "stream",
          "name": "stderr",
          "text": [
            "/usr/local/lib/python3.7/dist-packages/ipykernel_launcher.py:9: RuntimeWarning: divide by zero encountered in ulong_scalars\n",
            "  if __name__ == '__main__':\n"
          ]
        }
      ]
    },
    {
      "cell_type": "code",
      "source": [
        "import numpy as np\n",
        "\n",
        "one = np.float16(1)\n",
        "zero = np.float16(0)\n",
        "\n",
        "print ('Values')\n",
        "print ('one: ',one)\n",
        "print ('zero: ',zero)\n",
        "print ('one/zero: ',one/zero)\n",
        "print ('Types')\n",
        "print ('type(one) ',type(one))\n",
        "print ('type(zero) ',type(zero))\n",
        "print ('one.dtype:',one.dtype)\n",
        "print ('zero.dtype:',zero.dtype)"
      ],
      "metadata": {
        "colab": {
          "base_uri": "https://localhost:8080/"
        },
        "id": "8kDxLrSfbl_3",
        "outputId": "5809b8e0-7c16-44c7-df78-291897102001"
      },
      "execution_count": null,
      "outputs": [
        {
          "output_type": "stream",
          "name": "stdout",
          "text": [
            "Values\n",
            "one:  1.0\n",
            "zero:  0.0\n",
            "one/zero:  inf\n",
            "Types\n",
            "type(one)  <class 'numpy.float16'>\n",
            "type(zero)  <class 'numpy.float16'>\n",
            "one.dtype: float16\n",
            "zero.dtype: float16\n"
          ]
        },
        {
          "output_type": "stream",
          "name": "stderr",
          "text": [
            "/usr/local/lib/python3.7/dist-packages/ipykernel_launcher.py:9: RuntimeWarning: divide by zero encountered in half_scalars\n",
            "  if __name__ == '__main__':\n"
          ]
        }
      ]
    },
    {
      "cell_type": "code",
      "source": [
        "import math\n",
        "\n",
        "math.inf - math.inf"
      ],
      "metadata": {
        "colab": {
          "base_uri": "https://localhost:8080/"
        },
        "id": "FalarfxNuycX",
        "outputId": "77eae7b3-c10f-4f07-bebb-27176070efee"
      },
      "execution_count": null,
      "outputs": [
        {
          "output_type": "execute_result",
          "data": {
            "text/plain": [
              "nan"
            ]
          },
          "metadata": {},
          "execution_count": 43
        }
      ]
    },
    {
      "cell_type": "code",
      "source": [
        "0/0"
      ],
      "metadata": {
        "colab": {
          "base_uri": "https://localhost:8080/",
          "height": 167
        },
        "id": "JzgBTRBmvLhV",
        "outputId": "c50e717d-aba5-488b-c91a-161823fdb02b"
      },
      "execution_count": null,
      "outputs": [
        {
          "output_type": "error",
          "ename": "ZeroDivisionError",
          "evalue": "ignored",
          "traceback": [
            "\u001b[0;31m---------------------------------------------------------------------------\u001b[0m",
            "\u001b[0;31mZeroDivisionError\u001b[0m                         Traceback (most recent call last)",
            "\u001b[0;32m<ipython-input-44-9ab73e148374>\u001b[0m in \u001b[0;36m<module>\u001b[0;34m()\u001b[0m\n\u001b[0;32m----> 1\u001b[0;31m \u001b[0;36m0\u001b[0m\u001b[0;34m/\u001b[0m\u001b[0;36m0\u001b[0m\u001b[0;34m\u001b[0m\u001b[0;34m\u001b[0m\u001b[0m\n\u001b[0m",
            "\u001b[0;31mZeroDivisionError\u001b[0m: division by zero"
          ]
        }
      ]
    },
    {
      "cell_type": "code",
      "source": [
        "0.0/0.0"
      ],
      "metadata": {
        "colab": {
          "base_uri": "https://localhost:8080/",
          "height": 167
        },
        "id": "WNU9KNEcvNE-",
        "outputId": "e9e1837f-a20b-4ea6-d1a8-a6a2ef2a41e5"
      },
      "execution_count": null,
      "outputs": [
        {
          "output_type": "error",
          "ename": "ZeroDivisionError",
          "evalue": "ignored",
          "traceback": [
            "\u001b[0;31m---------------------------------------------------------------------------\u001b[0m",
            "\u001b[0;31mZeroDivisionError\u001b[0m                         Traceback (most recent call last)",
            "\u001b[0;32m<ipython-input-45-362e28523176>\u001b[0m in \u001b[0;36m<module>\u001b[0;34m()\u001b[0m\n\u001b[0;32m----> 1\u001b[0;31m \u001b[0;36m0.0\u001b[0m\u001b[0;34m/\u001b[0m\u001b[0;36m0.0\u001b[0m\u001b[0;34m\u001b[0m\u001b[0;34m\u001b[0m\u001b[0m\n\u001b[0m",
            "\u001b[0;31mZeroDivisionError\u001b[0m: float division by zero"
          ]
        }
      ]
    },
    {
      "cell_type": "code",
      "source": [
        "import numpy as np\n",
        "zero = np.zeros(1)[0]\n",
        "\n",
        "zero / zero"
      ],
      "metadata": {
        "colab": {
          "base_uri": "https://localhost:8080/"
        },
        "id": "fzZeJD-yvRS2",
        "outputId": "4a27f0bb-6cb4-459f-ba0f-3a3e3f4a5b7a"
      },
      "execution_count": null,
      "outputs": [
        {
          "output_type": "stream",
          "name": "stderr",
          "text": [
            "/usr/local/lib/python3.7/dist-packages/ipykernel_launcher.py:4: RuntimeWarning: invalid value encountered in double_scalars\n",
            "  after removing the cwd from sys.path.\n"
          ]
        },
        {
          "output_type": "execute_result",
          "data": {
            "text/plain": [
              "nan"
            ]
          },
          "metadata": {},
          "execution_count": 46
        }
      ]
    },
    {
      "cell_type": "markdown",
      "metadata": {
        "id": "8-y3mYL5iB3x"
      },
      "source": [
        "# Sympy Rational"
      ]
    },
    {
      "cell_type": "code",
      "metadata": {
        "colab": {
          "base_uri": "https://localhost:8080/",
          "height": 51
        },
        "id": "j2ZvYLRqayqB",
        "outputId": "dc3ab2dd-8e4f-49d8-a40b-12994ac3f640"
      },
      "source": [
        "from sympy import Rational, N\n",
        "Rational(2,3) "
      ],
      "execution_count": null,
      "outputs": [
        {
          "output_type": "execute_result",
          "data": {
            "text/plain": [
              "2/3"
            ],
            "text/latex": "$\\displaystyle \\frac{2}{3}$"
          },
          "metadata": {},
          "execution_count": 20
        }
      ]
    },
    {
      "cell_type": "code",
      "metadata": {
        "colab": {
          "base_uri": "https://localhost:8080/",
          "height": 51
        },
        "id": "jc7cb4mqck3p",
        "outputId": "6ea369ca-cb2c-4701-b303-115a67add5b4"
      },
      "source": [
        "Rational(2,3) * Rational(1,2)"
      ],
      "execution_count": null,
      "outputs": [
        {
          "output_type": "execute_result",
          "data": {
            "text/plain": [
              "1/3"
            ],
            "text/latex": "$\\displaystyle \\frac{1}{3}$"
          },
          "metadata": {},
          "execution_count": 21
        }
      ]
    },
    {
      "cell_type": "code",
      "metadata": {
        "colab": {
          "base_uri": "https://localhost:8080/",
          "height": 51
        },
        "id": "oGJG9c21iHBn",
        "outputId": "3e5350fd-8eed-49df-ab15-b5fcf0dcb6f3"
      },
      "source": [
        "Rational(2,3) + Rational(1,2)"
      ],
      "execution_count": null,
      "outputs": [
        {
          "output_type": "execute_result",
          "data": {
            "text/plain": [
              "7/6"
            ],
            "text/latex": "$\\displaystyle \\frac{7}{6}$"
          },
          "metadata": {},
          "execution_count": 22
        }
      ]
    },
    {
      "cell_type": "code",
      "source": [
        "N(Rational(59999999999999994,90000000000000000))"
      ],
      "metadata": {
        "colab": {
          "base_uri": "https://localhost:8080/",
          "height": 37
        },
        "id": "DDfFJlRKnC97",
        "outputId": "55c7f3df-2c06-4bf2-ffb0-53c14daf5047"
      },
      "execution_count": null,
      "outputs": [
        {
          "output_type": "execute_result",
          "data": {
            "text/plain": [
              "0.666666666666667"
            ],
            "text/latex": "$\\displaystyle 0.666666666666667$"
          },
          "metadata": {},
          "execution_count": 23
        }
      ]
    }
  ]
}