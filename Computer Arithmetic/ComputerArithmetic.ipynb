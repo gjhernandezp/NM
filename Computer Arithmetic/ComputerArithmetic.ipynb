{
  "nbformat": 4,
  "nbformat_minor": 0,
  "metadata": {
    "colab": {
      "name": "ComputerArithmetic.ipynb",
      "provenance": [],
      "collapsed_sections": [],
      "authorship_tag": "ABX9TyMJ9tTFWJ1r3hmqeSNlIgDO"
    },
    "kernelspec": {
      "name": "python3",
      "display_name": "Python 3"
    },
    "language_info": {
      "name": "python"
    }
  },
  "cells": [
    {
      "cell_type": "markdown",
      "metadata": {
        "id": "CulotcA4iNbD"
      },
      "source": [
        "## Floating-point numbers"
      ]
    },
    {
      "cell_type": "code",
      "metadata": {
        "colab": {
          "base_uri": "https://localhost:8080/"
        },
        "id": "ZsY5d2FvYM_6",
        "outputId": "e755ed21-5808-4b80-919e-11afe613a052"
      },
      "source": [
        "%%writefile t.cpp\n",
        "#include <iostream>\n",
        "\n",
        "int main() {\n",
        "    std::cout << -2/3;\n",
        "    return 0;\n",
        "}"
      ],
      "execution_count": 1,
      "outputs": [
        {
          "output_type": "stream",
          "name": "stdout",
          "text": [
            "Overwriting t.cpp\n"
          ]
        }
      ]
    },
    {
      "cell_type": "code",
      "metadata": {
        "colab": {
          "base_uri": "https://localhost:8080/"
        },
        "id": "iUjRlBeYYuih",
        "outputId": "f3e88cd7-7a99-4753-bd3d-9124c2e5b1e0"
      },
      "source": [
        "!g++ t.cpp -o t\n",
        "!./t"
      ],
      "execution_count": 2,
      "outputs": [
        {
          "output_type": "stream",
          "name": "stdout",
          "text": [
            "0"
          ]
        }
      ]
    },
    {
      "cell_type": "code",
      "metadata": {
        "colab": {
          "base_uri": "https://localhost:8080/"
        },
        "id": "ZORk7QBuZNWB",
        "outputId": "5e88c955-a227-4a4d-ed9b-3f3119be9c41"
      },
      "source": [
        "%%writefile t.cpp\n",
        "#include <iostream>\n",
        "\n",
        "int main() {\n",
        "    std::cout << -2.0/3;\n",
        "    return 0;\n",
        "}"
      ],
      "execution_count": 3,
      "outputs": [
        {
          "output_type": "stream",
          "name": "stdout",
          "text": [
            "Overwriting t.cpp\n"
          ]
        }
      ]
    },
    {
      "cell_type": "code",
      "metadata": {
        "colab": {
          "base_uri": "https://localhost:8080/"
        },
        "id": "RL1G4Tc7ZPPx",
        "outputId": "1ad9e82b-5f95-4b5d-b4be-32a54e15b061"
      },
      "source": [
        "!g++ t.cpp -o t\n",
        "!./t"
      ],
      "execution_count": 4,
      "outputs": [
        {
          "output_type": "stream",
          "name": "stdout",
          "text": [
            "-0.666667"
          ]
        }
      ]
    },
    {
      "cell_type": "code",
      "metadata": {
        "colab": {
          "base_uri": "https://localhost:8080/"
        },
        "id": "2LjgASzpvhdx",
        "outputId": "c4b2e665-7ee9-4e82-9eb2-51374fe100d2"
      },
      "source": [
        "-2/3"
      ],
      "execution_count": 5,
      "outputs": [
        {
          "output_type": "execute_result",
          "data": {
            "text/plain": [
              "-0.6666666666666666"
            ]
          },
          "metadata": {},
          "execution_count": 5
        }
      ]
    },
    {
      "cell_type": "code",
      "metadata": {
        "colab": {
          "base_uri": "https://localhost:8080/"
        },
        "id": "eavytGbLvzZA",
        "outputId": "67246e60-83e9-4d29-8b91-8e4589d1ea28"
      },
      "source": [
        "2.0 / 3"
      ],
      "execution_count": 6,
      "outputs": [
        {
          "output_type": "execute_result",
          "data": {
            "text/plain": [
              "0.6666666666666666"
            ]
          },
          "metadata": {},
          "execution_count": 6
        }
      ]
    },
    {
      "cell_type": "code",
      "metadata": {
        "colab": {
          "base_uri": "https://localhost:8080/"
        },
        "id": "zwqVAEtda8TB",
        "outputId": "7b397e87-5379-401d-f17e-909d09299557"
      },
      "source": [
        "(2/3)*(1/2)"
      ],
      "execution_count": 7,
      "outputs": [
        {
          "output_type": "execute_result",
          "data": {
            "text/plain": [
              "0.3333333333333333"
            ]
          },
          "metadata": {},
          "execution_count": 7
        }
      ]
    },
    {
      "cell_type": "markdown",
      "metadata": {
        "id": "8-y3mYL5iB3x"
      },
      "source": [
        "## Sympy Rational"
      ]
    },
    {
      "cell_type": "code",
      "metadata": {
        "colab": {
          "base_uri": "https://localhost:8080/",
          "height": 51
        },
        "id": "j2ZvYLRqayqB",
        "outputId": "45ebd8c6-e5fd-484f-f1e6-b73b3898a138"
      },
      "source": [
        "from sympy import Rational\n",
        "Rational(2,3) "
      ],
      "execution_count": 20,
      "outputs": [
        {
          "output_type": "execute_result",
          "data": {
            "text/latex": "$\\displaystyle \\frac{2}{3}$",
            "text/plain": [
              "2/3"
            ]
          },
          "metadata": {},
          "execution_count": 20
        }
      ]
    },
    {
      "cell_type": "code",
      "metadata": {
        "colab": {
          "base_uri": "https://localhost:8080/",
          "height": 51
        },
        "id": "jc7cb4mqck3p",
        "outputId": "bc9d69bf-3a01-43f8-8ea3-b16f48f957f0"
      },
      "source": [
        "Rational(2,3) * Rational(1,2)"
      ],
      "execution_count": 21,
      "outputs": [
        {
          "output_type": "execute_result",
          "data": {
            "text/latex": "$\\displaystyle \\frac{1}{3}$",
            "text/plain": [
              "1/3"
            ]
          },
          "metadata": {},
          "execution_count": 21
        }
      ]
    },
    {
      "cell_type": "code",
      "metadata": {
        "colab": {
          "base_uri": "https://localhost:8080/",
          "height": 51
        },
        "id": "oGJG9c21iHBn",
        "outputId": "8b928b45-61d4-43a2-e6e8-d765fc146810"
      },
      "source": [
        "Rational(2,3) + Rational(1,2)"
      ],
      "execution_count": 23,
      "outputs": [
        {
          "output_type": "execute_result",
          "data": {
            "text/latex": "$\\displaystyle \\frac{7}{6}$",
            "text/plain": [
              "7/6"
            ]
          },
          "metadata": {},
          "execution_count": 23
        }
      ]
    },
    {
      "cell_type": "markdown",
      "metadata": {
        "id": "o6kf2PEYh7dx"
      },
      "source": [
        "## Machine Epsilon"
      ]
    },
    {
      "cell_type": "code",
      "metadata": {
        "colab": {
          "base_uri": "https://localhost:8080/"
        },
        "id": "lahwJeD8v2AP",
        "outputId": "4ad7f449-6e4b-4a56-e1f8-d20d57136447"
      },
      "source": [
        "1e15 +1 "
      ],
      "execution_count": 10,
      "outputs": [
        {
          "output_type": "execute_result",
          "data": {
            "text/plain": [
              "1000000000000001.0"
            ]
          },
          "metadata": {},
          "execution_count": 10
        }
      ]
    },
    {
      "cell_type": "code",
      "metadata": {
        "colab": {
          "base_uri": "https://localhost:8080/"
        },
        "id": "PZDKr-PGdOS5",
        "outputId": "8c9a9c3a-f8f9-46bc-c270-3ce9d70d9a38"
      },
      "source": [
        "1e16 +1 "
      ],
      "execution_count": 11,
      "outputs": [
        {
          "output_type": "execute_result",
          "data": {
            "text/plain": [
              "1e+16"
            ]
          },
          "metadata": {},
          "execution_count": 11
        }
      ]
    },
    {
      "cell_type": "code",
      "metadata": {
        "colab": {
          "base_uri": "https://localhost:8080/"
        },
        "id": "fBV-tymrE-sP",
        "outputId": "73ad26a5-fb9b-4e7e-de63-68057f61d54e"
      },
      "source": [
        "eps = 1\n",
        "while 1 + eps != 1 :\n",
        "  eps /= 2  \n",
        "  print(eps)\n",
        "eps"
      ],
      "execution_count": 22,
      "outputs": [
        {
          "output_type": "stream",
          "name": "stdout",
          "text": [
            "0.5\n",
            "0.25\n",
            "0.125\n",
            "0.0625\n",
            "0.03125\n",
            "0.015625\n",
            "0.0078125\n",
            "0.00390625\n",
            "0.001953125\n",
            "0.0009765625\n",
            "0.00048828125\n",
            "0.000244140625\n",
            "0.0001220703125\n",
            "6.103515625e-05\n",
            "3.0517578125e-05\n",
            "1.52587890625e-05\n",
            "7.62939453125e-06\n",
            "3.814697265625e-06\n",
            "1.9073486328125e-06\n",
            "9.5367431640625e-07\n",
            "4.76837158203125e-07\n",
            "2.384185791015625e-07\n",
            "1.1920928955078125e-07\n",
            "5.960464477539063e-08\n",
            "2.9802322387695312e-08\n",
            "1.4901161193847656e-08\n",
            "7.450580596923828e-09\n",
            "3.725290298461914e-09\n",
            "1.862645149230957e-09\n",
            "9.313225746154785e-10\n",
            "4.656612873077393e-10\n",
            "2.3283064365386963e-10\n",
            "1.1641532182693481e-10\n",
            "5.820766091346741e-11\n",
            "2.9103830456733704e-11\n",
            "1.4551915228366852e-11\n",
            "7.275957614183426e-12\n",
            "3.637978807091713e-12\n",
            "1.8189894035458565e-12\n",
            "9.094947017729282e-13\n",
            "4.547473508864641e-13\n",
            "2.2737367544323206e-13\n",
            "1.1368683772161603e-13\n",
            "5.684341886080802e-14\n",
            "2.842170943040401e-14\n",
            "1.4210854715202004e-14\n",
            "7.105427357601002e-15\n",
            "3.552713678800501e-15\n",
            "1.7763568394002505e-15\n",
            "8.881784197001252e-16\n",
            "4.440892098500626e-16\n",
            "2.220446049250313e-16\n",
            "1.1102230246251565e-16\n"
          ]
        },
        {
          "output_type": "execute_result",
          "data": {
            "text/plain": [
              "1.1102230246251565e-16"
            ]
          },
          "metadata": {},
          "execution_count": 22
        }
      ]
    },
    {
      "cell_type": "markdown",
      "metadata": {
        "id": "G1OPDbFCi4yT"
      },
      "source": [
        "## Floating-point error in Python https://www.geeksforgeeks.org/floating-point-error-in-python/"
      ]
    },
    {
      "cell_type": "code",
      "metadata": {
        "colab": {
          "base_uri": "https://localhost:8080/"
        },
        "id": "O-QgaGRFi2tl",
        "outputId": "1b014258-d253-46fb-95f5-01c5467eb322"
      },
      "source": [
        "1.2 - 1.0"
      ],
      "execution_count": 12,
      "outputs": [
        {
          "output_type": "execute_result",
          "data": {
            "text/plain": [
              "0.19999999999999996"
            ]
          },
          "metadata": {},
          "execution_count": 12
        }
      ]
    },
    {
      "cell_type": "markdown",
      "metadata": {
        "id": "ffHjoLc7iasp"
      },
      "source": [
        "## SpecialFloating-point numbers"
      ]
    },
    {
      "cell_type": "code",
      "metadata": {
        "id": "UexbjlOy2Mx_"
      },
      "source": [
        "import math"
      ],
      "execution_count": 13,
      "outputs": []
    },
    {
      "cell_type": "code",
      "metadata": {
        "colab": {
          "base_uri": "https://localhost:8080/"
        },
        "id": "DPv2ZKrQ2Wy_",
        "outputId": "aa6d3769-a6a7-4820-92bd-9c2ee272be83"
      },
      "source": [
        "math.nan + 1"
      ],
      "execution_count": 14,
      "outputs": [
        {
          "output_type": "execute_result",
          "data": {
            "text/plain": [
              "nan"
            ]
          },
          "metadata": {},
          "execution_count": 14
        }
      ]
    },
    {
      "cell_type": "code",
      "metadata": {
        "colab": {
          "base_uri": "https://localhost:8080/"
        },
        "id": "FABgIsD02dzu",
        "outputId": "95a6162a-21f4-48ad-eb35-450e3ad00b2d"
      },
      "source": [
        "math.inf +1"
      ],
      "execution_count": 15,
      "outputs": [
        {
          "output_type": "execute_result",
          "data": {
            "text/plain": [
              "inf"
            ]
          },
          "metadata": {},
          "execution_count": 15
        }
      ]
    },
    {
      "cell_type": "code",
      "metadata": {
        "id": "v1p2jjv92ih3",
        "colab": {
          "base_uri": "https://localhost:8080/"
        },
        "outputId": "730d5341-2bc8-4217-ff08-e1e8ff393f05"
      },
      "source": [
        "- math.inf + 1e6"
      ],
      "execution_count": 16,
      "outputs": [
        {
          "output_type": "execute_result",
          "data": {
            "text/plain": [
              "-inf"
            ]
          },
          "metadata": {},
          "execution_count": 16
        }
      ]
    },
    {
      "cell_type": "code",
      "metadata": {
        "colab": {
          "base_uri": "https://localhost:8080/"
        },
        "id": "hHvLy-MkDYIQ",
        "outputId": "c1709174-834e-4aae-df6c-9e6c5680c8c9"
      },
      "source": [
        "1*0"
      ],
      "execution_count": 17,
      "outputs": [
        {
          "output_type": "execute_result",
          "data": {
            "text/plain": [
              "0"
            ]
          },
          "metadata": {},
          "execution_count": 17
        }
      ]
    },
    {
      "cell_type": "code",
      "metadata": {
        "colab": {
          "base_uri": "https://localhost:8080/",
          "height": 167
        },
        "id": "VaDa7XiPDb7f",
        "outputId": "83665bea-9e05-4881-88ff-ebcc525238af"
      },
      "source": [
        "1/0"
      ],
      "execution_count": 18,
      "outputs": [
        {
          "output_type": "error",
          "ename": "ZeroDivisionError",
          "evalue": "ignored",
          "traceback": [
            "\u001b[0;31m---------------------------------------------------------------------------\u001b[0m",
            "\u001b[0;31mZeroDivisionError\u001b[0m                         Traceback (most recent call last)",
            "\u001b[0;32m<ipython-input-18-9e1622b385b6>\u001b[0m in \u001b[0;36m<module>\u001b[0;34m()\u001b[0m\n\u001b[0;32m----> 1\u001b[0;31m \u001b[0;36m1\u001b[0m\u001b[0;34m/\u001b[0m\u001b[0;36m0\u001b[0m\u001b[0;34m\u001b[0m\u001b[0;34m\u001b[0m\u001b[0m\n\u001b[0m",
            "\u001b[0;31mZeroDivisionError\u001b[0m: division by zero"
          ]
        }
      ]
    }
  ]
}