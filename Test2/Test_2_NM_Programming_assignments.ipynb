{
  "nbformat": 4,
  "nbformat_minor": 0,
  "metadata": {
    "colab": {
      "name": "Test_2_NM_Programming_assignments.ipynb",
      "provenance": [],
      "collapsed_sections": []
    },
    "kernelspec": {
      "name": "python3",
      "display_name": "Python 3"
    },
    "language_info": {
      "name": "python"
    }
  },
  "cells": [
    {
      "cell_type": "markdown",
      "metadata": {
        "id": "GfjJs2zaFLfR"
      },
      "source": [
        "# **Numerical Methods Second Test**"
      ]
    },
    {
      "cell_type": "markdown",
      "metadata": {
        "id": "zNKJSMViFOmX"
      },
      "source": [
        "#**|||||||||||||||||||||||||||||||||||||||||||||||||||||||||||||||||||||||||||||||||||||||||||||||||||||||||||||||||||||||||||||||||||||||||||||**#"
      ]
    },
    {
      "cell_type": "markdown",
      "metadata": {
        "id": "m2vg_bABZHrt"
      },
      "source": [
        "# **1. What is the probability of getting 21 in blackjack  with excatly *n* cards?**\n",
        "\n",
        "![](https://raw.githubusercontent.com/gjhernandezp/NM/main/Test2/giphy.gif)\n",
        "\n"
      ]
    },
    {
      "cell_type": "markdown",
      "metadata": {
        "id": "IGYQkrZNFjvA"
      },
      "source": [
        "---\n",
        "\n",
        "###**Problem Description**\n",
        "\n",
        "**Task:** Given an integer $n$, estimate: \n",
        "\n",
        "* the probability of getting a 21 with exactly $n$ of cards and \n",
        "* the expected number of games that need to be played before getting the 21 with exactly $n$ of cards; \n",
        "\n",
        "when drawing the cards sequentially from a shuffled Poker 52-card deck with card values \n",
        "\n",
        "[1,2,3,4,5,6,7,8,9,10,11,12,13,1,2,3,4,5,6,7,8,9,10,11,12,13,1,2,3,4,5,6,7,8,9,10,11,12,13,1,2,3,4,5,6,7,8,9,10,11,12,13] \n",
        "\n",
        "by using Monte Carlo with $10^4$ simulations.\n",
        "\n",
        "**Input Format:** The input consists of a single integer $n$.\n",
        "\n",
        "**Constraints:** $2 \\leq n \\leq 11$.\n",
        "\n",
        "**Output Format:** Probability rounded to 2 deicmal digits and $\\left \\lceil{\\text{expected number of games}}\\right \\rceil$.\n",
        "\n",
        "![](https://e7.pngegg.com/pngimages/180/354/png-clipart-playing-card-lot-playing-card-card-game-suit-standard-52-card-deck-poker-poker-cards-game-angle.png)\n",
        "\n"
      ]
    },
    {
      "cell_type": "markdown",
      "metadata": {
        "id": "oYxV9WOxFxhY"
      },
      "source": [
        "\n",
        "**Sample testcases**\n",
        "\n",
        "```python\n",
        "#run this sample testcase on a cell to help you validate your solution\n",
        "twenty_one_n_cards(2)   \n",
        "\n",
        "#  --> Expected outputs:  (0.04, 25)  \n",
        "```\n",
        "```python\n",
        "#run this sample testcase on a cell to help you validate your solution\n",
        "twenty_one_n_cards(3)    \n",
        "#  --> Expected outputs: (0.06, 17)\n",
        "```\n",
        "\n",
        "---"
      ]
    },
    {
      "cell_type": "markdown",
      "metadata": {
        "id": "xyvtuOz4F1hY"
      },
      "source": [
        "**Solution**"
      ]
    },
    {
      "cell_type": "code",
      "metadata": {
        "id": "vOCXUyDAF7B8"
      },
      "source": [
        "#Do not change this function's name, parameters or output format. It will be used in automatic grading.\n",
        "import random\n",
        "import math\n",
        "\n",
        "def twenty_one_n_cards(n):\n",
        "  \n",
        "  #Your code goes here\n",
        "\n",
        "  probability = 0.0\n",
        "  games = 0.0 \n",
        "  random.seed(10)  # Fix the random seed generator to be able to replicate the test cases\n",
        "\n",
        "  return probability,games"
      ],
      "execution_count": 1,
      "outputs": []
    },
    {
      "cell_type": "markdown",
      "metadata": {
        "id": "koQH5GPmF4l4"
      },
      "source": [
        "#**|||||||||||||||||||||||||||||||||||||||||||||||||||||||||||||||||||||||||||||||||||||||||||||||||||||||||||||||||||||||||||||||||||||||||||||**#"
      ]
    },
    {
      "cell_type": "markdown",
      "metadata": {
        "id": "PPB-nfKWm9gk"
      },
      "source": [
        "# **2. Calculate the approximate *area* inside of the parametric polar curve**  \n",
        "\n",
        "$$ r = 1- \\cos(a\\theta) \\sin(b\\theta) $$\n",
        "\n",
        "# **using the quadrature  *Q(N)* with the left valuesand the *absolute error* respect to the *quad* integrator from *scipy.integrate***"
      ]
    },
    {
      "cell_type": "markdown",
      "metadata": {
        "id": "rvVqW4R_pKL7"
      },
      "source": [
        "### Polar Curves - Brilliant\n",
        "https://brilliant.org/wiki/polar-curves/\n",
        "\n",
        "![PolarCurvesBrilliant.png](https://raw.githubusercontent.com/gjhernandezp/algorithms/master/Montercarlo/PolarCurvesBrilliant.png)"
      ]
    },
    {
      "cell_type": "markdown",
      "metadata": {
        "id": "dj3DAKrao-KU"
      },
      "source": [
        "### Area inside of polar curve - UT Calculus\n",
        "\n",
        "* https://web.ma.utexas.edu/users/m408s/m408d/CurrentWeb/LM10-4-2.php\n",
        "\n",
        "![IntPolarCurvesUTCalculus.png](https://raw.githubusercontent.com/gjhernandezp/algorithms/master/Montercarlo/IntPolarCurvesUTCalculus.png)"
      ]
    },
    {
      "cell_type": "markdown",
      "metadata": {
        "id": "JuOucDS0po0T"
      },
      "source": [
        "### Quadrature rule *Q(N)*\n",
        "\n",
        "![](https://metnumun.files.wordpress.com/2021/07/image-25.png)"
      ]
    },
    {
      "cell_type": "markdown",
      "metadata": {
        "id": "XSgV1LBkGRhs"
      },
      "source": [
        "---\n",
        "\n",
        "###**Problem Description**\n",
        "\n",
        "\n",
        "**Task:** Given an integer $N$, calcualte the approximate area inside of he parametric polar curve $ r = 1- \\cos(a\\theta) \\sin(b\\theta) $ using the quadrature  *Q(N)* with the left values.\n",
        "\n",
        "**Input Format:** The input consists of two floats $a$ and $b$ and an integer $N$.\n",
        "\n",
        "**Constraints:** $1 \\leq n \\leq 1000$.\n",
        "\n",
        "**Output Format:** Approximate area rounded to 4 deicmal digits.\n",
        "\n",
        "**Hint:** Check the notebook [MontecarloAreas.ipynb](https://github.com/gjhernandezp/algorithms/blob/master/Montercarlo/MontecarloAreas.ipynb)\n",
        "\n",
        "---"
      ]
    },
    {
      "cell_type": "markdown",
      "metadata": {
        "id": "sQJACi9BGWww"
      },
      "source": [
        "**Sample testcase**\n",
        "\n",
        "```python\n",
        "#run this sample testcase on a cell to help you validate your solution\n",
        "polar_quadrature(1,3,2)     \n",
        "#  --> Expected output: (3.1416, 0.7854)\n",
        "```\n",
        "\n",
        "```python\n",
        "#run this sample testcase on a cell to help you validate your solution\n",
        "polar_quadrature(3,15,5)     \n",
        "#  --> Expected output: (3.1416, 0.7854)    \n",
        "```\n",
        "\n",
        "```python\n",
        "#run this sample testcase on a cell to help you validate your solution\n",
        "polar_quadrature(3,15,10)         \n",
        "#  --> Expected output:   (3.5343, 0.3927)  \n",
        "```\n",
        "\n",
        "```python\n",
        "#run this sample testcase on a cell to help you validate your solution\n",
        "polar_quadrature(3,15,1000)          \n",
        "#  --> Expected output:   (3.927, 0.0)  \n",
        "```\n",
        "\n",
        "---"
      ]
    },
    {
      "cell_type": "markdown",
      "metadata": {
        "id": "Q4RR3IjWGiYB"
      },
      "source": [
        "**Solution**"
      ]
    },
    {
      "cell_type": "code",
      "metadata": {
        "id": "KtnDV-3sGk4E"
      },
      "source": [
        "#Do not change this function's name, parameters or output format. It will be used in automatic grading.\n",
        "\n",
        "def polar_quadrature(a,b,N):\n",
        "  \n",
        "  area = 0.0\n",
        "  error = 0.0\n",
        "\n",
        "  return area, error"
      ],
      "execution_count": null,
      "outputs": []
    }
  ]
}