{
  "nbformat": 4,
  "nbformat_minor": 0,
  "metadata": {
    "colab": {
      "name": "Jacobi.ipynb",
      "provenance": [],
      "collapsed_sections": [],
      "authorship_tag": "ABX9TyOrEqM5EC6V1TWi6nyMroea"
    },
    "kernelspec": {
      "name": "python3",
      "display_name": "Python 3"
    }
  },
  "cells": [
    {
      "cell_type": "markdown",
      "metadata": {
        "id": "Nf1FTekkpHWp"
      },
      "source": [
        "\n",
        "\n"
      ]
    },
    {
      "cell_type": "markdown",
      "metadata": {
        "id": "_kDeIXjQ6gaj"
      },
      "source": [
        "# Jacobi Iterative Method \n",
        "\n",
        "$$Ax=b$$\n",
        "$$(D + (A-D)) x=b$$\n",
        "$$ \\text { with } D \\text { diagonal matrix with diagonal values of } A$$\n",
        "so\n",
        "$$Dx + (A-D)x=b$$\n",
        "then\n",
        "$$x = D^{-1}(D-A)x+ D^{-1}b $$\n",
        "if \n",
        "$$ B = D^{-1}(D-A)$$\n",
        "and\n",
        "$$ c = D^{-1}b$$\n",
        "we have\n",
        "$$x = Bx+ c $$\n",
        "\n",
        "## Jacobi iteration\n",
        "$$x^{(0)} $$\n",
        "$$x^{(k+1)} = Bx^{(k)}+ c $$\n",
        "\n",
        "Loosely speaking, Jacobi iteration converges well if $A$ is “close” to a diagonal matrix. "
      ]
    },
    {
      "cell_type": "code",
      "metadata": {
        "colab": {
          "base_uri": "https://localhost:8080/"
        },
        "id": "8RqXETEPxkrK",
        "outputId": "a1dc84df-35be-4d9f-937d-562bf7831bbb"
      },
      "source": [
        "import numpy as np\n",
        "from scipy.linalg import inv, solve, det, eig\n",
        "\n",
        "# A   “close” to a diagonal matrix.\n",
        "n = 4\n",
        "Aux =  np.diag(np.arange(1,n+1))\n",
        "A = Aux + np.random.random((n, n)) # Loosely speaking, Jacobi iteration converges well if A is “close” to a diagonal matrix.\n",
        "b=  A@(2*np.ones(n)) # x = [2, ... , 2]\n",
        "print(\"A= \", A)\n",
        "print(\"b= \", b)\n",
        "print(\"det(A)= \", det(A))\n",
        "print(\"solve(A,b)= \", solve(A,b))"
      ],
      "execution_count": 260,
      "outputs": [
        {
          "output_type": "stream",
          "name": "stdout",
          "text": [
            "A=  [[1.33869225 0.78114139 0.49110745 0.40124915]\n",
            " [0.39034339 2.20054868 0.62622662 0.47465376]\n",
            " [0.70543429 0.65869964 3.25824237 0.23398006]\n",
            " [0.78862556 0.12872735 0.37654187 4.21717342]]\n",
            "b=  [ 6.02438049  7.38354491  9.7127127  11.02213641]\n",
            "det(A)=  31.373703707935263\n",
            "solve(A,b)=  [2. 2. 2. 2.]\n"
          ]
        }
      ]
    },
    {
      "cell_type": "code",
      "metadata": {
        "colab": {
          "base_uri": "https://localhost:8080/"
        },
        "id": "tx4rfmuIxnVp",
        "outputId": "0b390abb-0384-4caf-8555-35464fc1a9d7"
      },
      "source": [
        "D = np.diag(np.diag(A))\n",
        "D"
      ],
      "execution_count": 261,
      "outputs": [
        {
          "output_type": "execute_result",
          "data": {
            "text/plain": [
              "array([[1.33869225, 0.        , 0.        , 0.        ],\n",
              "       [0.        , 2.20054868, 0.        , 0.        ],\n",
              "       [0.        , 0.        , 3.25824237, 0.        ],\n",
              "       [0.        , 0.        , 0.        , 4.21717342]])"
            ]
          },
          "metadata": {},
          "execution_count": 261
        }
      ]
    },
    {
      "cell_type": "code",
      "metadata": {
        "colab": {
          "base_uri": "https://localhost:8080/"
        },
        "id": "GFM6jCZ89TWr",
        "outputId": "accfdb21-aad2-44a0-dddf-a71584aa2e21"
      },
      "source": [
        "B = inv(D)@(D-A)\n",
        "print(\"B= \", B)\n",
        "print(\"eig(B)= \", eig(B))"
      ],
      "execution_count": 262,
      "outputs": [
        {
          "output_type": "stream",
          "name": "stdout",
          "text": [
            "B=  [[ 0.         -0.58351081 -0.36685613 -0.29973218]\n",
            " [-0.17738457  0.         -0.28457749 -0.21569791]\n",
            " [-0.21650762 -0.2021641   0.         -0.07181174]\n",
            " [-0.18700335 -0.03052456 -0.08928774  0.        ]]\n",
            "eig(B)=  (array([-0.67326394+0.j        ,  0.30017065+0.09945961j,\n",
            "        0.30017065-0.09945961j,  0.07292263+0.j        ]), array([[ 0.74100466+0.j        ,  0.72258179+0.j        ,\n",
            "         0.72258179-0.j        , -0.02971718+0.j        ],\n",
            "       [ 0.45628368+0.j        ,  0.01128927-0.36335328j,\n",
            "         0.01128927+0.36335328j, -0.04531645+0.j        ],\n",
            "       [ 0.40519327+0.j        , -0.3341283 +0.34441116j,\n",
            "        -0.3341283 -0.34441116j, -0.58384946+0.j        ],\n",
            "       [ 0.28024225+0.j        , -0.33666136+0.04605284j,\n",
            "        -0.33666136-0.04605284j,  0.8100513 +0.j        ]]))\n"
          ]
        }
      ]
    },
    {
      "cell_type": "code",
      "metadata": {
        "colab": {
          "base_uri": "https://localhost:8080/"
        },
        "id": "PYUCxKFE-pJZ",
        "outputId": "a333748c-4c05-4c88-960a-44c2e07b30c8"
      },
      "source": [
        "c = inv(D)@b\n",
        "print(\"c= \", c)"
      ],
      "execution_count": 263,
      "outputs": [
        {
          "output_type": "stream",
          "name": "stdout",
          "text": [
            "c=  [4.50019824 3.35531996 2.98096692 2.61363129]\n"
          ]
        }
      ]
    },
    {
      "cell_type": "code",
      "metadata": {
        "colab": {
          "base_uri": "https://localhost:8080/"
        },
        "id": "cARdzEud-u0I",
        "outputId": "ac16528c-3c24-4c32-9188-dea5a5f79086"
      },
      "source": [
        "x = np.zeros(n)\n",
        "steps = 30\n",
        "for k in range(steps):\n",
        "  print(k,x)\n",
        "  x = B@x+c"
      ],
      "execution_count": 264,
      "outputs": [
        {
          "output_type": "stream",
          "name": "stdout",
          "text": [
            "0 [0. 0. 0. 0.]\n",
            "1 [4.50019824 3.35531996 2.98096692 2.61363129]\n",
            "2 [0.66535739 1.14498331 1.14062507 1.40349569]\n",
            "3 [2.99296998 2.60996851 2.50464998 2.35241329]\n",
            "4 [1.35331324 1.60423561 1.63639329 1.75063321]\n",
            "5 [2.4390674  2.27197444 2.23792943 2.16547875]\n",
            "6 [1.7044148  1.81871344 1.83807178 1.88834684]\n",
            "7 [2.19865307 2.12259673 2.10866409 2.07526732]\n",
            "8 [1.86603936 1.91760365 1.92680036 1.94940663]\n",
            "9 [2.09009736 2.05550641 2.04929428 2.03410203]\n",
            "10 [1.93930603 1.96263434 1.96682291 1.97705581]\n",
            "11 [2.0408516  2.02515664 2.02234237 2.01545285]\n",
            "12 [1.97249268 1.98306227 1.98495985 1.98959782]\n",
            "13 [2.01851879 2.01140319 2.01012674 2.00700388]\n",
            "14 [1.98753177 1.99232249 1.99318227 1.99528465]\n",
            "15 [2.00839438 2.00516894 2.0045902  2.00317469]\n",
            "16 [1.99434837 1.99651992 1.9969096  1.99786259]\n",
            "17 [2.00380504 2.002343   2.00208066 2.00143904]\n",
            "18 [1.9974382  1.99842254 1.99859917 1.99903115]\n",
            "19 [2.00172477 2.00106205 2.00094313 2.00065229]\n",
            "20 [1.99883878 1.99928496 1.99936502 1.99956083]\n",
            "21 [2.00078181 2.00048141 2.00042751 2.00029567]\n",
            "22 [1.99947364 1.99967588 1.99971218 1.99980093]\n",
            "23 [2.00035438 2.00021822 2.00019378 2.00013402]\n",
            "24 [1.99976141 1.99985308 1.99986953 1.99990977]\n",
            "25 [2.00016064 2.00009891 2.00008784 2.00006075]\n",
            "26 [1.99989185 1.9999334  1.99994086 1.9999591 ]\n",
            "27 [2.00007281 2.00004484 2.00003982 2.00002754]\n",
            "28 [1.99995098 1.99996981 1.99997319 1.99998146]\n",
            "29 [2.00003301 2.00002032 2.00001805 2.00001248]\n"
          ]
        }
      ]
    },
    {
      "cell_type": "markdown",
      "metadata": {
        "id": "DPRM7TPpOw_1"
      },
      "source": [
        "# Jacobi iteration, convergence\n",
        "\n",
        "Loosely speaking, Jacobi iteration converges well to the solution of $Ax=b$ if  $A$  is “close” to a diagonal matrix.\n",
        "\n",
        "If  $A$  is “close” to a diagonal matrix then\n",
        "$$\\|B \\| < 1$$\n",
        "interpreted loosely as\n",
        "$$\\|B \\| = \\max_{1⩽j⩽m} |\\lambda_j|$$\n",
        "with \n",
        "$$\\lambda_1,\\lambda_1,\\cdots,\\lambda_m$$ \n",
        "the eigenvalues of $B$.\n",
        "\n",
        "The convergence is linear\n",
        "\n",
        "$$\\left\\|x^{(k)} -L \\right\\| \\le \\|B\\| \\left\\|x^{(k-1)} -L\\right\\|$$\n",
        "\n",
        "and\n",
        "\n",
        "$$\\left\\|x^{(k)} -L \\right\\| \\le \\|B\\|^k \\left\\|x^{(0)} -L\\right\\|$$"
      ]
    },
    {
      "cell_type": "code",
      "metadata": {
        "colab": {
          "base_uri": "https://localhost:8080/"
        },
        "id": "Vn284JLfKMf8",
        "outputId": "5be69a8d-69c3-49c5-9993-aa00208b746f"
      },
      "source": [
        "import numpy as np\n",
        "from scipy.linalg import inv, solve, det, eig\n",
        "\n",
        "n = 3\n",
        "Aux =  np.diag(np.arange(1,n+1))\n",
        "A = Aux + np.random.random((n, n)) # Loosely speaking, Jacobi iteration converges well if A is “close” to a diagonal matrix.\n",
        "b=  A@(2*np.ones(n)) # x = [2, ... , 2]\n",
        "\n",
        "print(\"A= \", A)\n",
        "print()\n",
        "print(\"b= \", b)\n",
        "print()\n",
        "print(\"det(A)= \", det(A))\n",
        "print()\n",
        "print(\"solve(A,b)= \", solve(A,b))\n",
        "print()\n",
        "\n",
        "D = np.diag(np.diag(A))\n",
        "B = inv(D)@(D-A)\n",
        "c = inv(D)@b\n",
        "\n",
        "\n",
        "L = 2*np.ones(n)\n",
        "\n",
        "x = np.zeros(n)\n",
        "print(\"  k                   x^(k)                     error_k= norm(x^(k)-L) \" ) \n",
        "for k in range(10):\n",
        "  print(format(k, '3'),\"  \", format(str(x),'35'),\"  \",format(np.linalg.norm(x-L), '.17f'))\n",
        "  x = B@x+c\n",
        "\n",
        "print()\n",
        "l,v = eig(B)\n",
        "print(\"Max abs eigenvale of B \",np.max(np.abs(l)))\n",
        "print()\n",
        "\n",
        "\n",
        "x = np.zeros(n)\n",
        "C = 0\n",
        "k_ant = 0\n",
        "k_steps = 0\n",
        "print(\"  k                   x^(k)                     error_n= norm(x^(k)-L)       k_steps      C      \" ) \n",
        "print(format(0, '3'),\"  \", format(str(x),'35'),\"  \",format(np.linalg.norm(x-L), '.17f'),format(n_steps, '10'),format(C, '10')) \n",
        "for k in range(0,100):\n",
        "  x = B@x+c\n",
        "  if (np.linalg.norm(x-L) < 0.5 * 10**(-C)): \n",
        "    while (np.linalg.norm(x-L) < 0.5 * 10**(-C)): \n",
        "       C =C+1\n",
        "    k_steps = k- k_ant\n",
        "    k_ant = k\n",
        "    print(format(k, '3'),\"  \", format(str(x),'35'),\"  \",format(np.linalg.norm(x-L), '.17f'),format(k_steps, '10'),format(C, '10')) "
      ],
      "execution_count": 305,
      "outputs": [
        {
          "output_type": "stream",
          "name": "stdout",
          "text": [
            "A=  [[1.06449314 0.78101345 0.37216926]\n",
            " [0.15054323 2.60338776 0.92628219]\n",
            " [0.92127506 0.96862273 3.59578795]]\n",
            "\n",
            "b=  [ 4.43535172  7.36042634 10.97137149]\n",
            "\n",
            "det(A)=  8.415235221397312\n",
            "\n",
            "solve(A,b)=  [2. 2. 2.]\n",
            "\n",
            "  k                   x^(k)                     error_k= norm(x^(k)-L) \n",
            "  0    [0. 0. 0.]                             3.46410161513775439\n",
            "  1    [4.16663249 2.82724935 3.0511731 ]     2.54629196037393424\n",
            "  2    [1.02553887 1.50070643 1.22204617]     1.34316072317347945\n",
            "  3    [2.63831834 2.33314411 2.38416443]     0.81609902542791968\n",
            "  4    [1.62126179 1.82640343 1.7467154 ]     0.48757716338102897\n",
            "  5    [2.2159206  2.11201923 2.14379926]     0.28257431013611045\n",
            "  6    [1.86753678 1.9363506  1.91450368]     0.17002168113418201\n",
            "  7    [2.07659058 2.03807929 2.05108402]     0.09962793909866249\n",
            "  8    [1.95420136 1.97739545 1.97011908]     0.05917221434985616\n",
            "  9    [2.02703185 2.01327994 2.0178232 ]     0.03499634436214814\n",
            "\n",
            "Max abs eigenvale of B  0.591683619135544\n",
            "\n",
            "  k                   x^(k)                     error_n= norm(x^(k)-L)       k_steps      C      \n",
            "  0    [0. 0. 0.]                             3.46410161513775439          0          0\n",
            "  3    [1.62126179 1.82640343 1.7467154 ]     0.48757716338102897          3          1\n",
            "  8    [2.02703185 2.01327994 2.0178232 ]     0.03499634436214814          5          2\n",
            " 12    [2.00331354 2.00163367 2.00217739]     0.00428829089475698          4          3\n",
            " 17    [1.99975977 1.99988154 1.99984205]     0.00031095092187615          5          4\n",
            " 21    [1.99997056 1.99998548 1.99998064]     0.00003811053438169          4          5\n",
            " 25    [1.99999639 1.99999822 1.99999763]     0.00000467093538924          4          6\n",
            " 30    [2.00000026 2.00000013 2.00000017]     0.00000033872836233          5          7\n",
            " 34    [2.00000003 2.00000002 2.00000002]     0.00000004151544989          4          8\n",
            " 39    [2. 2. 2.]                             0.00000000301063044          5          9\n",
            " 43    [2. 2. 2.]                             0.00000000036899070          4         10\n",
            " 47    [2. 2. 2.]                             0.00000000004522403          4         11\n",
            " 52    [2. 2. 2.]                             0.00000000000327958          5         12\n",
            " 56    [2. 2. 2.]                             0.00000000000040212          4         13\n",
            " 61    [2. 2. 2.]                             0.00000000000002923          5         14\n",
            " 65    [2. 2. 2.]                             0.00000000000000336          4         15\n",
            " 69    [2. 2. 2.]                             0.00000000000000044          4         16\n"
          ]
        }
      ]
    },
    {
      "cell_type": "markdown",
      "metadata": {
        "id": "39bpiyL-_UMz"
      },
      "source": [
        "# Divergent cases\n",
        "\n",
        "## No solvable det(A) = 0 "
      ]
    },
    {
      "cell_type": "code",
      "metadata": {
        "colab": {
          "base_uri": "https://localhost:8080/",
          "height": 919
        },
        "id": "FzIQnYNoWcD2",
        "outputId": "ebc17efa-b31f-45a9-8a9c-1e982a8fdf33"
      },
      "source": [
        "import numpy as np\n",
        "from scipy.linalg import inv, solve, det, eig\n",
        "\n",
        "A = np.arange(1,n**2+1).reshape(n,n)\n",
        "#A = Aux + np.random.random((n, n)) # A   “far” to a diagonal matrix.\n",
        "b=  A@(2*np.ones(n)) # x = [2, ... , 2]\n",
        "\n",
        "print(\"A= \", A)\n",
        "print()\n",
        "print(\"b= \", b)\n",
        "print()\n",
        "print(\"det(A)= \", det(A))\n",
        "print()\n",
        "\n",
        "\n",
        "D = np.diag(np.diag(A))\n",
        "B = inv(D)@(D-A)\n",
        "c = inv(D)@b\n",
        "\n",
        "\n",
        "L = 2*np.ones(n)\n",
        "\n",
        "x = np.zeros(n)\n",
        "print(\"  k                   x^(k)                                              error_k= norm(x^(k)-L) \" ) \n",
        "for k in range(20):\n",
        "  print(format(k, '3'),\"  \", format(str(x),'65'),\"  \",format(np.linalg.norm(x-L), '.17f'))\n",
        "  x = B@x+c\n",
        "\n",
        "print()\n",
        "l,v = eig(B)\n",
        "print(\"Max abs eigenvale of B \",np.max(np.abs(l)))\n",
        "print()\n",
        "\n",
        "print(\"solve(A,b)= \")\n",
        "print( solve(A,b))\n"
      ],
      "execution_count": 311,
      "outputs": [
        {
          "output_type": "stream",
          "name": "stdout",
          "text": [
            "A=  [[1 2 3]\n",
            " [4 5 6]\n",
            " [7 8 9]]\n",
            "\n",
            "b=  [12. 30. 48.]\n",
            "\n",
            "det(A)=  0.0\n",
            "\n",
            "  k                   x^(k)                                              error_k= norm(x^(k)-L) \n",
            "  0    [0. 0. 0.]                                                           3.46410161513775439\n",
            "  1    [12.          6.          5.33333333]                                11.27435635019184268\n",
            "  2    [-16.         -10.          -9.33333333]                             24.42221211201893993\n",
            "  3    [60.         30.         26.66666667]                                68.96698082738176083\n",
            "  4    [-128.  -74.  -68.]                                                  166.06023003717658071\n",
            "  5    [364.         190.         170.66666667]                             441.40281426883137783\n",
            "  6    [-880.         -490.         -446.66666667]                          1105.11980245481890961\n",
            "  7    [2332.         1246.         1125.33333333]                          2870.24629218082554871\n",
            "  8    [-5856. -3210. -2916.]                                               7290.25596258457881049\n",
            "  9    [15180.          8190.          7413.33333333]                       18770.79885827392718056\n",
            " 10    [-38608.         -21034.         -19081.33333333]                    47931.39896885037887841\n",
            " 11    [99324.         53790.         48730.66666667]                       123014.19260845925600734\n",
            " 12    [-253760. -137930. -125060.]                                         314739.40508299879729748\n",
            " 13    [651052.         353086.         319978.66666667]                    806795.81107434560544789\n",
            " 14    [-1666096.          -904810.          -820222.66666667]              2065753.08416965557262301\n",
            " 15    [4270300.         2317150.         2100133.33333333]                 5292935.99809750635176897\n",
            " 16    [-10934688.  -5936394.  -5381028.]                                   13555948.02017977647483349\n",
            " 17    [28015884.         15204990.         13781557.33333333]              34727691.71315301209688187\n",
            " 18    [-71754640.         -38950570.00000001 -35305673.33333333]           88951483.50880995392799377\n",
            " 19    [1.83818172e+08 9.97705260e+07 9.04318987e+07]                       227862250.09007996320724487\n",
            "\n",
            "Max abs eigenvale of B  2.5615528128088303\n",
            "\n",
            "solve(A,b)= \n"
          ]
        },
        {
          "output_type": "error",
          "ename": "LinAlgError",
          "evalue": "ignored",
          "traceback": [
            "\u001b[0;31m---------------------------------------------------------------------------\u001b[0m",
            "\u001b[0;31mLinAlgError\u001b[0m                               Traceback (most recent call last)",
            "\u001b[0;32m<ipython-input-311-6b9c9ddde238>\u001b[0m in \u001b[0;36m<module>\u001b[0;34m()\u001b[0m\n\u001b[1;32m     33\u001b[0m \u001b[0;34m\u001b[0m\u001b[0m\n\u001b[1;32m     34\u001b[0m \u001b[0mprint\u001b[0m\u001b[0;34m(\u001b[0m\u001b[0;34m\"solve(A,b)= \"\u001b[0m\u001b[0;34m)\u001b[0m\u001b[0;34m\u001b[0m\u001b[0;34m\u001b[0m\u001b[0m\n\u001b[0;32m---> 35\u001b[0;31m \u001b[0mprint\u001b[0m\u001b[0;34m(\u001b[0m \u001b[0msolve\u001b[0m\u001b[0;34m(\u001b[0m\u001b[0mA\u001b[0m\u001b[0;34m,\u001b[0m\u001b[0mb\u001b[0m\u001b[0;34m)\u001b[0m\u001b[0;34m)\u001b[0m\u001b[0;34m\u001b[0m\u001b[0;34m\u001b[0m\u001b[0m\n\u001b[0m",
            "\u001b[0;32m/usr/local/lib/python3.7/dist-packages/scipy/linalg/basic.py\u001b[0m in \u001b[0;36msolve\u001b[0;34m(a, b, sym_pos, lower, overwrite_a, overwrite_b, debug, check_finite, assume_a, transposed)\u001b[0m\n\u001b[1;32m    214\u001b[0m                                                (a1, b1))\n\u001b[1;32m    215\u001b[0m         \u001b[0mlu\u001b[0m\u001b[0;34m,\u001b[0m \u001b[0mipvt\u001b[0m\u001b[0;34m,\u001b[0m \u001b[0minfo\u001b[0m \u001b[0;34m=\u001b[0m \u001b[0mgetrf\u001b[0m\u001b[0;34m(\u001b[0m\u001b[0ma1\u001b[0m\u001b[0;34m,\u001b[0m \u001b[0moverwrite_a\u001b[0m\u001b[0;34m=\u001b[0m\u001b[0moverwrite_a\u001b[0m\u001b[0;34m)\u001b[0m\u001b[0;34m\u001b[0m\u001b[0;34m\u001b[0m\u001b[0m\n\u001b[0;32m--> 216\u001b[0;31m         \u001b[0m_solve_check\u001b[0m\u001b[0;34m(\u001b[0m\u001b[0mn\u001b[0m\u001b[0;34m,\u001b[0m \u001b[0minfo\u001b[0m\u001b[0;34m)\u001b[0m\u001b[0;34m\u001b[0m\u001b[0;34m\u001b[0m\u001b[0m\n\u001b[0m\u001b[1;32m    217\u001b[0m         x, info = getrs(lu, ipvt, b1,\n\u001b[1;32m    218\u001b[0m                         trans=trans, overwrite_b=overwrite_b)\n",
            "\u001b[0;32m/usr/local/lib/python3.7/dist-packages/scipy/linalg/basic.py\u001b[0m in \u001b[0;36m_solve_check\u001b[0;34m(n, info, lamch, rcond)\u001b[0m\n\u001b[1;32m     29\u001b[0m                          '.'.format(-info))\n\u001b[1;32m     30\u001b[0m     \u001b[0;32melif\u001b[0m \u001b[0;36m0\u001b[0m \u001b[0;34m<\u001b[0m \u001b[0minfo\u001b[0m\u001b[0;34m:\u001b[0m\u001b[0;34m\u001b[0m\u001b[0;34m\u001b[0m\u001b[0m\n\u001b[0;32m---> 31\u001b[0;31m         \u001b[0;32mraise\u001b[0m \u001b[0mLinAlgError\u001b[0m\u001b[0;34m(\u001b[0m\u001b[0;34m'Matrix is singular.'\u001b[0m\u001b[0;34m)\u001b[0m\u001b[0;34m\u001b[0m\u001b[0;34m\u001b[0m\u001b[0m\n\u001b[0m\u001b[1;32m     32\u001b[0m \u001b[0;34m\u001b[0m\u001b[0m\n\u001b[1;32m     33\u001b[0m     \u001b[0;32mif\u001b[0m \u001b[0mlamch\u001b[0m \u001b[0;32mis\u001b[0m \u001b[0;32mNone\u001b[0m\u001b[0;34m:\u001b[0m\u001b[0;34m\u001b[0m\u001b[0;34m\u001b[0m\u001b[0m\n",
            "\u001b[0;31mLinAlgError\u001b[0m: Matrix is singular."
          ]
        }
      ]
    },
    {
      "cell_type": "markdown",
      "metadata": {
        "id": "nmVIuna4Ytu7"
      },
      "source": [
        "## Solvable det(A) != 0 but Jacobi divergent "
      ]
    },
    {
      "cell_type": "code",
      "metadata": {
        "colab": {
          "base_uri": "https://localhost:8080/"
        },
        "id": "TUI7mgtKYgUW",
        "outputId": "76cd8d84-6c2c-4acb-85b6-d10192f873cd"
      },
      "source": [
        "import numpy as np\n",
        "from scipy.linalg import inv, solve, det, eig\n",
        "\n",
        "Aux = np.arange(1,n**2+1).reshape(n,n)\n",
        "A = Aux + np.random.random((n, n)) # A   “far” to a diagonal matrix.\n",
        "b=  A@(2*np.ones(n)) # x = [2, ... , 2]\n",
        "\n",
        "print(\"A= \", A)\n",
        "print()\n",
        "print(\"b= \", b)\n",
        "print()\n",
        "print(\"det(A)= \", det(A))\n",
        "print()\n",
        "\n",
        "\n",
        "D = np.diag(np.diag(A))\n",
        "B = inv(D)@(D-A)\n",
        "c = inv(D)@b\n",
        "\n",
        "\n",
        "L = 2*np.ones(n)\n",
        "\n",
        "x = np.zeros(n)\n",
        "print(\"  k                   x^(k)                                              error_k= norm(x^(k)-L) \" ) \n",
        "for k in range(20):\n",
        "  print(format(k, '3'),\"  \", format(str(x),'65'),\"  \",format(np.linalg.norm(x-L), '.17f'))\n",
        "  x = B@x+c\n",
        "\n",
        "print()\n",
        "l,v = eig(B)\n",
        "print(\"Max abs eigenvale of B \",np.max(np.abs(l)))\n",
        "print()\n",
        "\n",
        "print(\"solve(A,b)= \")\n",
        "print( solve(A,b))\n",
        "\n"
      ],
      "execution_count": 313,
      "outputs": [
        {
          "output_type": "stream",
          "name": "stdout",
          "text": [
            "A=  [[1.86379716 2.06832066 3.21885007]\n",
            " [4.57438552 5.46908096 6.50936408]\n",
            " [7.38090995 8.46084457 9.73370457]]\n",
            "\n",
            "b=  [14.30193579 33.10566114 51.15091817]\n",
            "\n",
            "det(A)=  -1.5058501989208568\n",
            "\n",
            "  k                   x^(k)                                              error_k= norm(x^(k)-L) \n",
            "  0    [0. 0. 0.]                                                           3.46410161513775439\n",
            "  1    [7.67354736 6.05324027 5.25503089]                                   7.69500633363450959\n",
            "  2    [-8.11958673 -6.61957875 -5.82536367]                                15.42528735783968763\n",
            "  3    [25.08015387 19.77794713 17.16592922]                                32.84439550285304676\n",
            "  4    [-43.92095617 -35.35510189 -30.95446072]                             67.75053013455031703\n",
            "  5    [100.36789172  79.63145998  69.29135334]                             142.23576180029130001\n",
            "  6    [-200.36511683 -160.36669086 -140.07049927]                          295.80163889007667422\n",
            "  7    [427.54524436 340.35386197 296.58445338]                             618.34625500334118442\n",
            "  8    [-882.24186238 -704.54749675 -614.79194423]                          1289.00168301694930051\n",
            "  9    [1851.30401893 1475.70034454 1286.6597127 ]                          2691.10918347231381631\n",
            " 10    [-3852.0738398  -3073.79050885 -2681.28423306]                       5613.76760226993974356\n",
            " 11    [8049.44798521 6419.25617384 5598.05615794]                          11715.73473574085619475\n",
            " 12    [-16784.05910509 -13389.44492266 -11678.33148996]                    24444.48242674790890305\n",
            " 13    [35035.33916962 27944.06869713 24370.86419908]                       51009.17171256577421445\n",
            " 14    [-73092.26216386 -58304.2878235  -50851.34350365]                    106435.22399345006851945\n",
            " 15    [152532.21851053 121664.90215969 106109.86454368]                    222095.04325582657475024\n",
            " 16    [-318263.96486538 -253866.38385101 -221412.43660268]                 463429.31871742208022624\n",
            " 17    [664119.92272381 529732.39194575 462008.3546437 ]                    967014.36140584154054523\n",
            " 18    [-1385761.19188166 -1105357.20402173  -964046.27475672]              2017807.63948177127167583\n",
            " 19    [2891606.4363454  2306487.56452839 2011616.96296962]                 4210444.94500445295125246\n",
            "\n",
            "Max abs eigenvale of B  2.0866410295041717\n",
            "\n",
            "solve(A,b)= \n",
            "[2. 2. 2.]\n"
          ]
        }
      ]
    }
  ]
}