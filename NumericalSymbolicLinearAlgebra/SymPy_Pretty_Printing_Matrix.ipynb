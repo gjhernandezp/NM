{
  "nbformat": 4,
  "nbformat_minor": 0,
  "metadata": {
    "colab": {
      "name": "SymPy_Pretty_Printing_Matrix.ipynb",
      "provenance": [],
      "collapsed_sections": []
    },
    "kernelspec": {
      "name": "python3",
      "display_name": "Python 3"
    }
  },
  "cells": [
    {
      "cell_type": "markdown",
      "metadata": {
        "id": "kHzoz0FXSBUr"
      },
      "source": [
        "#**Impresion de expresiones en Tex usando SymPy**"
      ]
    },
    {
      "cell_type": "markdown",
      "metadata": {
        "id": "tXio5SSgSyvq"
      },
      "source": [
        "La libreria SymPy cuenta opciones de 'Pretty printing' para poder visualizar de forma ordenada y clara los resultados de las celdas que corremos en nuestro notebook. Usando la opcion init_printing() podemos ver en formato Tex la ultima variable que se ponga en cada celda.\n",
        "\n",
        "Vale la pena resaltar que no es necesario que estemos trabajando exclusivamente con SymPy para poder hacer esta visualizacion. Podemos hacer casting de nuestras variables a objetos de SymPy para asi imprimirlos."
      ]
    },
    {
      "cell_type": "markdown",
      "metadata": {
        "id": "M_6QaBHAkdoa"
      },
      "source": [
        "A lo largo de este Notebook mostraremos como gestionar la impresion tipo Tex de diferentes expresiones.\n",
        "\n",
        "\n",
        "Se realizaran varios ejemplos usando lo siguiente:\n",
        "\n",
        "\n",
        "* print(variable) --> Muestra texto plano\n",
        "* Poner variable en ultima linea de una celda --> Muestra la expresion en formato Tex\n",
        "\n",
        "En cada paso debemos hacer el adecuado uso de las librerias y tipos de objeto para poder hacer correctamente las impresiones en Tex."
      ]
    },
    {
      "cell_type": "code",
      "metadata": {
        "id": "Q9UQ82bCnlw9"
      },
      "source": [
        "#Para habilitar el pretty printig debemos usar estas dos lineas\n",
        "from sympy import *\n",
        "init_printing()"
      ],
      "execution_count": 1,
      "outputs": []
    },
    {
      "cell_type": "markdown",
      "metadata": {
        "id": "a7YnAm3Wq137"
      },
      "source": [
        "Pueden consultarse a fondo las opciones de impresion de SymPy en :\n",
        "https://docs.sympy.org/latest/tutorial/printing.html"
      ]
    },
    {
      "cell_type": "markdown",
      "metadata": {
        "id": "1CelpNfbUBOQ"
      },
      "source": [
        "# 1. Matriz de Numpy"
      ]
    },
    {
      "cell_type": "code",
      "metadata": {
        "id": "4J1iFVhtJO4D",
        "colab": {
          "base_uri": "https://localhost:8080/"
        },
        "outputId": "66f99bc6-b1fc-4f7f-cf31-e6d6d9534a95"
      },
      "source": [
        "\n",
        "import numpy as np\n",
        "from sympy import *\n",
        "\n",
        "#Iniciar la funcionalidad de impresion en Tex\n",
        "init_printing()\n",
        "\n",
        "#creamos una matrix de Numpy \n",
        "v1 = np.array([1.895,2,3])\n",
        "v2 = np.array([4,5,5])\n",
        "v3 = np.array([7,8,9.7])\n",
        "M = np.vstack([v1,v2,v3])\n",
        "\n",
        "#Imprimimos la matriz M como esta usando numpy\n",
        "M"
      ],
      "execution_count": 2,
      "outputs": [
        {
          "output_type": "execute_result",
          "data": {
            "text/plain": [
              "array([[1.895, 2.   , 3.   ],\n",
              "       [4.   , 5.   , 5.   ],\n",
              "       [7.   , 8.   , 9.7  ]])"
            ]
          },
          "metadata": {
            "tags": []
          },
          "execution_count": 2
        }
      ]
    },
    {
      "cell_type": "code",
      "metadata": {
        "id": "uW7_b-bvU9LZ",
        "colab": {
          "base_uri": "https://localhost:8080/",
          "height": 77
        },
        "outputId": "bbcfb443-a80f-48ae-eb95-6afe084858ed"
      },
      "source": [
        "#Hacemos casting de la matriz de numpy a una matriz de SymPy llamada S\n",
        "S = Matrix(M)\n",
        "\n",
        "#Hacemos la impresion. Como habilitamos arriba init_printing(), se mostrara en Tex\n",
        "S"
      ],
      "execution_count": 3,
      "outputs": [
        {
          "output_type": "execute_result",
          "data": {
            "text/latex": "$\\displaystyle \\left[\\begin{matrix}1.895 & 2.0 & 3.0\\\\4.0 & 5.0 & 5.0\\\\7.0 & 8.0 & 9.7\\end{matrix}\\right]$",
            "text/plain": [
              "⎡1.895  2.0  3.0⎤\n",
              "⎢               ⎥\n",
              "⎢ 4.0   5.0  5.0⎥\n",
              "⎢               ⎥\n",
              "⎣ 7.0   8.0  9.7⎦"
            ]
          },
          "metadata": {
            "tags": []
          },
          "execution_count": 3
        }
      ]
    },
    {
      "cell_type": "markdown",
      "metadata": {
        "id": "ArtSBZp6a1U2"
      },
      "source": [
        "# 2. Integracion de funciones de SymPy"
      ]
    },
    {
      "cell_type": "code",
      "metadata": {
        "id": "nMLaG4wPZr1S"
      },
      "source": [
        "#Importamos los metodos de SymPy y habilitamos el Pretty Printing\n",
        "#Nota: En esta seccion usamos siempre x como variable de las ecuaciones por lo tanto se declara solo en esta celda\n",
        "\n",
        "from sympy import *\n",
        "init_printing()\n",
        "\n",
        "x = Symbol('x')"
      ],
      "execution_count": 4,
      "outputs": []
    },
    {
      "cell_type": "code",
      "metadata": {
        "id": "6N2eyRB7KKhE"
      },
      "source": [
        "# Definimos una funcion \n",
        "f = (x**2 + x + 1)"
      ],
      "execution_count": 5,
      "outputs": []
    },
    {
      "cell_type": "code",
      "metadata": {
        "id": "Ih9qh8IVWN9a",
        "colab": {
          "base_uri": "https://localhost:8080/"
        },
        "outputId": "3379c03b-a840-48fe-922b-1dd3ade05259"
      },
      "source": [
        "#Impresion en texto plano segun notacion de SymPy\n",
        "print(f)"
      ],
      "execution_count": 6,
      "outputs": [
        {
          "output_type": "stream",
          "text": [
            "x**2 + x + 1\n"
          ],
          "name": "stdout"
        }
      ]
    },
    {
      "cell_type": "code",
      "metadata": {
        "id": "N7bGJikyWOQ9",
        "colab": {
          "base_uri": "https://localhost:8080/",
          "height": 37
        },
        "outputId": "49c167fa-3483-40f4-9659-daa315175f92"
      },
      "source": [
        "#Impresion usando pretty printing\n",
        "#LA VARIABLE f DEBE IR AL FINAL DE LA CELDA\n",
        "f"
      ],
      "execution_count": 7,
      "outputs": [
        {
          "output_type": "execute_result",
          "data": {
            "image/png": "[encoded data removed]",
            "text/latex": "$\\displaystyle x^{2} + x + 1$",
            "text/plain": [
              " 2        \n",
              "x  + x + 1"
            ]
          },
          "metadata": {
            "tags": []
          },
          "execution_count": 7
        }
      ]
    },
    {
      "cell_type": "code",
      "metadata": {
        "id": "VlC0XwKeV0UX"
      },
      "source": [
        "#Obtenemos la integral indefinida o antiderivada de la funcion\n",
        "int_f = integrate(f,x)"
      ],
      "execution_count": 8,
      "outputs": []
    },
    {
      "cell_type": "code",
      "metadata": {
        "id": "1ifOdVHeV6EW",
        "colab": {
          "base_uri": "https://localhost:8080/"
        },
        "outputId": "4370350c-d0c0-4324-a77f-73956c471d7a"
      },
      "source": [
        "#Impresion de la integral en texto plano\n",
        "print(int_f)"
      ],
      "execution_count": 9,
      "outputs": [
        {
          "output_type": "stream",
          "text": [
            "x**3/3 + x**2/2 + x\n"
          ],
          "name": "stdout"
        }
      ]
    },
    {
      "cell_type": "code",
      "metadata": {
        "id": "6iOowi59V3La",
        "colab": {
          "base_uri": "https://localhost:8080/",
          "height": 53
        },
        "outputId": "20f4260b-0f55-4432-ae6d-0aa7b67eae48"
      },
      "source": [
        "#Impresion usando pretty printing\n",
        "int_f"
      ],
      "execution_count": 10,
      "outputs": [
        {
          "output_type": "execute_result",
          "data": {
            "image/png": "[encoded data removed]",
            "text/latex": "$\\displaystyle \\frac{x^{3}}{3} + \\frac{x^{2}}{2} + x$",
            "text/plain": [
              " 3    2    \n",
              "x    x     \n",
              "── + ── + x\n",
              "3    2     "
            ]
          },
          "metadata": {
            "tags": []
          },
          "execution_count": 10
        }
      ]
    },
    {
      "cell_type": "markdown",
      "metadata": {
        "id": "7Poead3tj7zM"
      },
      "source": [
        "#3. Matrices en SymPy"
      ]
    },
    {
      "cell_type": "markdown",
      "metadata": {
        "id": "CeSG2RBaWuQl"
      },
      "source": [
        "Podemos definir matrices fila por fila en SymPy e imprimirlas "
      ]
    },
    {
      "cell_type": "code",
      "metadata": {
        "id": "lvMspKRrw6HF"
      },
      "source": [
        "#Importamos los metodos de SymPy y habilitamos el Pretty Printing\n",
        "#Nota: En esta seccion usamos siempre x como variable de las ecuaciones por lo tanto se declara solo en esta celda\n",
        "\n",
        "from sympy import *\n",
        "init_printing()\n",
        "\n",
        "x = Symbol('x')"
      ],
      "execution_count": 11,
      "outputs": []
    },
    {
      "cell_type": "code",
      "metadata": {
        "id": "D9P1l8vpPHT7"
      },
      "source": [
        "#Definimos una matriz de SymPy\n",
        "N = [[x,1],[x**2,3],[x**3,2]]"
      ],
      "execution_count": 12,
      "outputs": []
    },
    {
      "cell_type": "code",
      "metadata": {
        "id": "N_nPfaY0P3wV",
        "colab": {
          "base_uri": "https://localhost:8080/"
        },
        "outputId": "8451653e-2cc2-46a9-b222-5789ed39bebc"
      },
      "source": [
        "#Imprimimos la matriz en texto plano\n",
        "print(N)"
      ],
      "execution_count": 13,
      "outputs": [
        {
          "output_type": "stream",
          "text": [
            "[[x, 1], [x**2, 3], [x**3, 2]]\n"
          ],
          "name": "stdout"
        }
      ]
    },
    {
      "cell_type": "code",
      "metadata": {
        "id": "D5hqROEbXQVT",
        "colab": {
          "base_uri": "https://localhost:8080/",
          "height": 38
        },
        "outputId": "54a5c1e5-fa9c-4d36-cf91-62dddd0585e2"
      },
      "source": [
        "#Imprimimos la matriz como lista de listas usando pretty printing, sin hacerle casting a matriz\n",
        "#NOTESE QUE EL TIPO DE OBJETO NO ES MATRIZ\n",
        "N"
      ],
      "execution_count": 14,
      "outputs": [
        {
          "output_type": "execute_result",
          "data": {
            "image/png": "[encoded data removed]",
            "text/latex": "$\\displaystyle \\left[ \\left[ x, \\  1\\right], \\  \\left[ x^{2}, \\  3\\right], \\  \\left[ x^{3}, \\  2\\right]\\right]$",
            "text/plain": [
              "⎡        ⎡ 2   ⎤  ⎡ 3   ⎤⎤\n",
              "⎣[x, 1], ⎣x , 3⎦, ⎣x , 2⎦⎦"
            ]
          },
          "metadata": {
            "tags": []
          },
          "execution_count": 14
        }
      ]
    },
    {
      "cell_type": "code",
      "metadata": {
        "id": "b_DtuShDW8R2"
      },
      "source": [
        "#Pasamos a usar una matriz de SymPy usando la Matriz SymPyN con casting de N que era lista de listas\n",
        "SymPyN = Matrix(N)"
      ],
      "execution_count": 15,
      "outputs": []
    },
    {
      "cell_type": "code",
      "metadata": {
        "id": "XfaR3Bx3X5z7",
        "colab": {
          "base_uri": "https://localhost:8080/"
        },
        "outputId": "7f26418a-96c9-4afa-895e-2627d3bcd0cd"
      },
      "source": [
        "#Imprimimos la matriz en texto plano\n",
        "#Notese que Python nos inica que es un objeto Matriz\n",
        "\n",
        "print(SymPyN)"
      ],
      "execution_count": 16,
      "outputs": [
        {
          "output_type": "stream",
          "text": [
            "Matrix([[x, 1], [x**2, 3], [x**3, 2]])\n"
          ],
          "name": "stdout"
        }
      ]
    },
    {
      "cell_type": "code",
      "metadata": {
        "id": "Tgkyb_c5QXQp",
        "colab": {
          "base_uri": "https://localhost:8080/",
          "height": 77
        },
        "outputId": "c8c9fd58-b5bd-49a7-aa7d-7568826de4f8"
      },
      "source": [
        "#Imprimimos la matriz usando pretty printing\n",
        "SymPyN"
      ],
      "execution_count": 17,
      "outputs": [
        {
          "output_type": "execute_result",
          "data": {
            "text/latex": "$\\displaystyle \\left[\\begin{matrix}x & 1\\\\x^{2} & 3\\\\x^{3} & 2\\end{matrix}\\right]$",
            "text/plain": [
              "⎡x   1⎤\n",
              "⎢     ⎥\n",
              "⎢ 2   ⎥\n",
              "⎢x   3⎥\n",
              "⎢     ⎥\n",
              "⎢ 3   ⎥\n",
              "⎣x   2⎦"
            ]
          },
          "metadata": {
            "tags": []
          },
          "execution_count": 17
        }
      ]
    },
    {
      "cell_type": "code",
      "metadata": {
        "id": "2OfhlON4QlTV",
        "colab": {
          "base_uri": "https://localhost:8080/",
          "height": 88
        },
        "outputId": "fde21192-5855-4aee-e205-04817e835c73"
      },
      "source": [
        "#¡Podemos integrar cada indice de N en una matriz !\n",
        "integrate(SymPyN,x)"
      ],
      "execution_count": 18,
      "outputs": [
        {
          "output_type": "execute_result",
          "data": {
            "text/latex": "$\\displaystyle \\left[\\begin{matrix}\\frac{x^{2}}{2} & x\\\\\\frac{x^{3}}{3} & 3 x\\\\\\frac{x^{4}}{4} & 2 x\\end{matrix}\\right]$",
            "text/plain": [
              "⎡ 2     ⎤\n",
              "⎢x      ⎥\n",
              "⎢──   x ⎥\n",
              "⎢2      ⎥\n",
              "⎢       ⎥\n",
              "⎢ 3     ⎥\n",
              "⎢x      ⎥\n",
              "⎢──  3⋅x⎥\n",
              "⎢3      ⎥\n",
              "⎢       ⎥\n",
              "⎢ 4     ⎥\n",
              "⎢x      ⎥\n",
              "⎢──  2⋅x⎥\n",
              "⎣4      ⎦"
            ]
          },
          "metadata": {
            "tags": []
          },
          "execution_count": 18
        }
      ]
    },
    {
      "cell_type": "code",
      "metadata": {
        "id": "WI4gDcvlQ0Fi",
        "colab": {
          "base_uri": "https://localhost:8080/",
          "height": 38
        },
        "outputId": "96c8fc30-0e2e-476f-996e-cba5e0882854"
      },
      "source": [
        "# ¿Recuerdan la matriz N? Esta era una lista de listas, no un objeto Matrix de SymPy.\n",
        "N"
      ],
      "execution_count": 19,
      "outputs": [
        {
          "output_type": "execute_result",
          "data": {
            "image/png": "[encoded data removed]",
            "text/latex": "$\\displaystyle \\left[ \\left[ x, \\  1\\right], \\  \\left[ x^{2}, \\  3\\right], \\  \\left[ x^{3}, \\  2\\right]\\right]$",
            "text/plain": [
              "⎡        ⎡ 2   ⎤  ⎡ 3   ⎤⎤\n",
              "⎣[x, 1], ⎣x , 3⎦, ⎣x , 2⎦⎦"
            ]
          },
          "metadata": {
            "tags": []
          },
          "execution_count": 19
        }
      ]
    },
    {
      "cell_type": "code",
      "metadata": {
        "id": "SAU_e9fAfir_"
      },
      "source": [
        "#NO ES POSIBLE INTEGRAR En SymPy LOS TERMINOS DE LA MATRIZ lista de listas DIRECTAMENTE SIN HACERLE CASTING.\n",
        "#Si se descomenta y corre la linea siguiente generara error\n",
        "#integrate(N,x)"
      ],
      "execution_count": 20,
      "outputs": []
    },
    {
      "cell_type": "code",
      "metadata": {
        "id": "R6OwR3nPRQG5",
        "colab": {
          "base_uri": "https://localhost:8080/"
        },
        "outputId": "f8830679-0807-44fb-ed77-8dcc444c55e4"
      },
      "source": [
        "#En todo caso, Si tenemos una matriz como lista de listas podemos integrar alguno de sus indices\n",
        "print(\"Matriz lista de listas: \",N)\n",
        "print(\"La expresion en x_20 es: \", N[2][0])\n",
        "print(\"La integral de x_20 es: \", integrate(N[2][0],x))"
      ],
      "execution_count": 21,
      "outputs": [
        {
          "output_type": "stream",
          "text": [
            "Matriz lista de listas:  [[x, 1], [x**2, 3], [x**3, 2]]\n",
            "La expresion en x_20 es:  x**3\n",
            "La integral de x_20 es:  x**4/4\n"
          ],
          "name": "stdout"
        }
      ]
    },
    {
      "cell_type": "code",
      "metadata": {
        "id": "guTDrCVhgBwY",
        "colab": {
          "base_uri": "https://localhost:8080/",
          "height": 53
        },
        "outputId": "6ec9f08b-cf04-463e-e107-6ec2489b59c4"
      },
      "source": [
        "#Podemos imprimir este resultado con pretty printing\n",
        "int_x_01_N = integrate(N[2][0],x)\n",
        "int_x_01_N"
      ],
      "execution_count": 22,
      "outputs": [
        {
          "output_type": "execute_result",
          "data": {
            "image/png": "[encoded data removed]",
            "text/latex": "$\\displaystyle \\frac{x^{4}}{4}$",
            "text/plain": [
              " 4\n",
              "x \n",
              "──\n",
              "4 "
            ]
          },
          "metadata": {
            "tags": []
          },
          "execution_count": 22
        }
      ]
    },
    {
      "cell_type": "code",
      "metadata": {
        "colab": {
          "base_uri": "https://localhost:8080/",
          "height": 57
        },
        "id": "mQL5hFYdAX96",
        "outputId": "1b1048ef-5683-4b6a-a7d2-cbbc20627493"
      },
      "source": [
        "from sympy import *\n",
        "init_printing()\n",
        "\n",
        "phi=symbols('phi')\n",
        "rotation=Matrix([[cos(phi), -sin(phi)],\n",
        "                 [sin(phi), cos(phi)]])\n",
        "rotation"
      ],
      "execution_count": 23,
      "outputs": [
        {
          "output_type": "execute_result",
          "data": {
            "text/latex": "$\\displaystyle \\left[\\begin{matrix}\\cos{\\left(\\phi \\right)} & - \\sin{\\left(\\phi \\right)}\\\\\\sin{\\left(\\phi \\right)} & \\cos{\\left(\\phi \\right)}\\end{matrix}\\right]$",
            "text/plain": [
              "⎡cos(φ)  -sin(φ)⎤\n",
              "⎢               ⎥\n",
              "⎣sin(φ)  cos(φ) ⎦"
            ]
          },
          "metadata": {
            "tags": []
          },
          "execution_count": 23
        }
      ]
    },
    {
      "cell_type": "code",
      "metadata": {
        "colab": {
          "base_uri": "https://localhost:8080/",
          "height": 77
        },
        "id": "C7sWyRHcGl4L",
        "outputId": "515344c5-9eaf-40b3-87f3-2846bb27833a"
      },
      "source": [
        "from sympy import *\n",
        "init_printing()\n",
        "\n",
        "# the matrix\n",
        "A = Matrix([\n",
        "    [4, 0, 1],\n",
        "    [2, 3, 2],\n",
        "    [1, 0, 4]\n",
        "])\n",
        "\n",
        "A.eigenvects() #returns eigenvalues and their algebraic multiplicity\n"
      ],
      "execution_count": 24,
      "outputs": [
        {
          "output_type": "execute_result",
          "data": {
            "text/latex": "$\\displaystyle \\left[ \\left( 3, \\  2, \\  \\left[ \\left[\\begin{matrix}0\\\\1\\\\0\\end{matrix}\\right], \\  \\left[\\begin{matrix}-1\\\\0\\\\1\\end{matrix}\\right]\\right]\\right), \\  \\left( 5, \\  1, \\  \\left[ \\left[\\begin{matrix}1\\\\2\\\\1\\end{matrix}\\right]\\right]\\right)\\right]$",
            "text/plain": [
              "⎡⎛      ⎡⎡0⎤  ⎡-1⎤⎤⎞  ⎛      ⎡⎡1⎤⎤⎞⎤\n",
              "⎢⎜      ⎢⎢ ⎥  ⎢  ⎥⎥⎟  ⎜      ⎢⎢ ⎥⎥⎟⎥\n",
              "⎢⎜3, 2, ⎢⎢1⎥, ⎢0 ⎥⎥⎟, ⎜5, 1, ⎢⎢2⎥⎥⎟⎥\n",
              "⎢⎜      ⎢⎢ ⎥  ⎢  ⎥⎥⎟  ⎜      ⎢⎢ ⎥⎥⎟⎥\n",
              "⎣⎝      ⎣⎣0⎦  ⎣1 ⎦⎦⎠  ⎝      ⎣⎣1⎦⎦⎠⎦"
            ]
          },
          "metadata": {
            "tags": []
          },
          "execution_count": 24
        }
      ]
    },
    {
      "cell_type": "code",
      "metadata": {
        "colab": {
          "base_uri": "https://localhost:8080/",
          "height": 36
        },
        "id": "omj6pGNrHj_R",
        "outputId": "8f944715-28c9-470d-a399-f34c1cb48c3a"
      },
      "source": [
        "from sympy import *\n",
        "init_printing()\n",
        "\n",
        "# the matrix\n",
        "A = Matrix([\n",
        "    [4, 0, 1],\n",
        "    [2, 3, 2],\n",
        "    [1, 0, 4]\n",
        "])\n",
        "\n",
        "A.eigenvals()  #returns eigenvalues, eigenvects"
      ],
      "execution_count": 25,
      "outputs": [
        {
          "output_type": "execute_result",
          "data": {
            "image/png": "[encoded data removed]",
            "text/latex": "$\\displaystyle \\left\\{ 3 : 2, \\  5 : 1\\right\\}$",
            "text/plain": [
              "{3: 2, 5: 1}"
            ]
          },
          "metadata": {
            "tags": []
          },
          "execution_count": 25
        }
      ]
    },
    {
      "cell_type": "code",
      "metadata": {
        "colab": {
          "base_uri": "https://localhost:8080/",
          "height": 36
        },
        "id": "MQXn1DV5H5kx",
        "outputId": "7e93baca-2382-40e5-8876-9cd07140d3f9"
      },
      "source": [
        "list(A.eigenvals().keys())"
      ],
      "execution_count": 26,
      "outputs": [
        {
          "output_type": "execute_result",
          "data": {
            "image/png": "[encoded data removed]",
            "text/latex": "$\\displaystyle \\left[ 5, \\  3\\right]$",
            "text/plain": [
              "[5, 3]"
            ]
          },
          "metadata": {
            "tags": []
          },
          "execution_count": 26
        }
      ]
    },
    {
      "cell_type": "code",
      "metadata": {
        "colab": {
          "base_uri": "https://localhost:8080/",
          "height": 36
        },
        "id": "0ZxoAJIUG_oQ",
        "outputId": "533e65b2-3811-42f1-b504-874dc2a54923"
      },
      "source": [
        "A_eignvects = []\n",
        "for tup in A.eigenvects():\n",
        "        for v in tup[2]:\n",
        "            A_eignvects.append(list(v))\n",
        "\n",
        "A_eignvects"
      ],
      "execution_count": 27,
      "outputs": [
        {
          "output_type": "execute_result",
          "data": {
            "image/png": "[encoded data removed]",
            "text/latex": "$\\displaystyle \\left[ \\left[ 0, \\  1, \\  0\\right], \\  \\left[ -1, \\  0, \\  1\\right], \\  \\left[ 1, \\  2, \\  1\\right]\\right]$",
            "text/plain": [
              "[[0, 1, 0], [-1, 0, 1], [1, 2, 1]]"
            ]
          },
          "metadata": {
            "tags": []
          },
          "execution_count": 27
        }
      ]
    },
    {
      "cell_type": "code",
      "metadata": {
        "colab": {
          "base_uri": "https://localhost:8080/",
          "height": 77
        },
        "id": "yhfcGiKIKRjj",
        "outputId": "81d2a86e-2e3f-463d-97b0-363050b23b9a"
      },
      "source": [
        "Matrix(A_eignvects[0])"
      ],
      "execution_count": 28,
      "outputs": [
        {
          "output_type": "execute_result",
          "data": {
            "text/latex": "$\\displaystyle \\left[\\begin{matrix}0\\\\1\\\\0\\end{matrix}\\right]$",
            "text/plain": [
              "⎡0⎤\n",
              "⎢ ⎥\n",
              "⎢1⎥\n",
              "⎢ ⎥\n",
              "⎣0⎦"
            ]
          },
          "metadata": {
            "tags": []
          },
          "execution_count": 28
        }
      ]
    },
    {
      "cell_type": "code",
      "metadata": {
        "colab": {
          "base_uri": "https://localhost:8080/",
          "height": 77
        },
        "id": "Xykye4UXJXSR",
        "outputId": "4f0f40c8-a2c5-4161-e0dd-ca8e4e7eb9a4"
      },
      "source": [
        "Matrix(A*Matrix(A_eignvects[0]))"
      ],
      "execution_count": 29,
      "outputs": [
        {
          "output_type": "execute_result",
          "data": {
            "text/latex": "$\\displaystyle \\left[\\begin{matrix}0\\\\3\\\\0\\end{matrix}\\right]$",
            "text/plain": [
              "⎡0⎤\n",
              "⎢ ⎥\n",
              "⎢3⎥\n",
              "⎢ ⎥\n",
              "⎣0⎦"
            ]
          },
          "metadata": {
            "tags": []
          },
          "execution_count": 29
        }
      ]
    },
    {
      "cell_type": "code",
      "metadata": {
        "colab": {
          "base_uri": "https://localhost:8080/",
          "height": 77
        },
        "id": "N6Y2l0JFJmqJ",
        "outputId": "462e13bd-01a8-4e99-8b58-ac62071cef6c"
      },
      "source": [
        "3*Matrix(A_eignvects[0])"
      ],
      "execution_count": 30,
      "outputs": [
        {
          "output_type": "execute_result",
          "data": {
            "text/latex": "$\\displaystyle \\left[\\begin{matrix}0\\\\3\\\\0\\end{matrix}\\right]$",
            "text/plain": [
              "⎡0⎤\n",
              "⎢ ⎥\n",
              "⎢3⎥\n",
              "⎢ ⎥\n",
              "⎣0⎦"
            ]
          },
          "metadata": {
            "tags": []
          },
          "execution_count": 30
        }
      ]
    },
    {
      "cell_type": "code",
      "metadata": {
        "colab": {
          "base_uri": "https://localhost:8080/",
          "height": 77
        },
        "id": "NgFt0WLyJjKS",
        "outputId": "b4fe8cb9-69ab-4f3e-ce41-bfef0a988cc6"
      },
      "source": [
        "Matrix(A*Matrix(A_eignvects[1]))"
      ],
      "execution_count": 31,
      "outputs": [
        {
          "output_type": "execute_result",
          "data": {
            "text/latex": "$\\displaystyle \\left[\\begin{matrix}-3\\\\0\\\\3\\end{matrix}\\right]$",
            "text/plain": [
              "⎡-3⎤\n",
              "⎢  ⎥\n",
              "⎢0 ⎥\n",
              "⎢  ⎥\n",
              "⎣3 ⎦"
            ]
          },
          "metadata": {
            "tags": []
          },
          "execution_count": 31
        }
      ]
    },
    {
      "cell_type": "code",
      "metadata": {
        "colab": {
          "base_uri": "https://localhost:8080/",
          "height": 77
        },
        "id": "Lwa2t54vKgTT",
        "outputId": "ee76f792-ad0d-48be-ad02-d6768a9c5f91"
      },
      "source": [
        "3*Matrix(A_eignvects[1])"
      ],
      "execution_count": 32,
      "outputs": [
        {
          "output_type": "execute_result",
          "data": {
            "text/latex": "$\\displaystyle \\left[\\begin{matrix}-3\\\\0\\\\3\\end{matrix}\\right]$",
            "text/plain": [
              "⎡-3⎤\n",
              "⎢  ⎥\n",
              "⎢0 ⎥\n",
              "⎢  ⎥\n",
              "⎣3 ⎦"
            ]
          },
          "metadata": {
            "tags": []
          },
          "execution_count": 32
        }
      ]
    },
    {
      "cell_type": "code",
      "metadata": {
        "colab": {
          "base_uri": "https://localhost:8080/",
          "height": 77
        },
        "id": "iH9_Rh31KnhQ",
        "outputId": "d97eff6a-26dc-4a5e-c42c-ed95eb29cdeb"
      },
      "source": [
        "Matrix(A*Matrix(A_eignvects[2]))"
      ],
      "execution_count": 33,
      "outputs": [
        {
          "output_type": "execute_result",
          "data": {
            "text/latex": "$\\displaystyle \\left[\\begin{matrix}5\\\\10\\\\5\\end{matrix}\\right]$",
            "text/plain": [
              "⎡5 ⎤\n",
              "⎢  ⎥\n",
              "⎢10⎥\n",
              "⎢  ⎥\n",
              "⎣5 ⎦"
            ]
          },
          "metadata": {
            "tags": []
          },
          "execution_count": 33
        }
      ]
    },
    {
      "cell_type": "code",
      "metadata": {
        "colab": {
          "base_uri": "https://localhost:8080/",
          "height": 77
        },
        "id": "AQOwubvTK9Rg",
        "outputId": "4f4c042f-9567-4cb2-bd6b-4a02d05ddef2"
      },
      "source": [
        "5*Matrix(A_eignvects[2])"
      ],
      "execution_count": 34,
      "outputs": [
        {
          "output_type": "execute_result",
          "data": {
            "text/latex": "$\\displaystyle \\left[\\begin{matrix}5\\\\10\\\\5\\end{matrix}\\right]$",
            "text/plain": [
              "⎡5 ⎤\n",
              "⎢  ⎥\n",
              "⎢10⎥\n",
              "⎢  ⎥\n",
              "⎣5 ⎦"
            ]
          },
          "metadata": {
            "tags": []
          },
          "execution_count": 34
        }
      ]
    },
    {
      "cell_type": "code",
      "metadata": {
        "id": "REcjrZHrMH_5"
      },
      "source": [
        "from sympy import *\n",
        "init_printing()\n",
        "\n",
        "A = Matrix(2,2,symbols('A1:3(1:3)'))\n",
        "b = Matrix(2,1,symbols('b1:3'))\n",
        "x = A.LUsolve(b)"
      ],
      "execution_count": 35,
      "outputs": []
    },
    {
      "cell_type": "code",
      "metadata": {
        "colab": {
          "base_uri": "https://localhost:8080/",
          "height": 57
        },
        "id": "dDLgg8BFMTwo",
        "outputId": "7ca0661b-7774-48f4-9912-202c83a37135"
      },
      "source": [
        "A"
      ],
      "execution_count": 36,
      "outputs": [
        {
          "output_type": "execute_result",
          "data": {
            "text/latex": "$\\displaystyle \\left[\\begin{matrix}A_{11} & A_{12}\\\\A_{21} & A_{22}\\end{matrix}\\right]$",
            "text/plain": [
              "⎡A₁₁  A₁₂⎤\n",
              "⎢        ⎥\n",
              "⎣A₂₁  A₂₂⎦"
            ]
          },
          "metadata": {
            "tags": []
          },
          "execution_count": 36
        }
      ]
    },
    {
      "cell_type": "code",
      "metadata": {
        "colab": {
          "base_uri": "https://localhost:8080/",
          "height": 57
        },
        "id": "mpTmpeDsMVm7",
        "outputId": "1d42d378-2212-4275-fbc3-6c93f5dd77ac"
      },
      "source": [
        "b"
      ],
      "execution_count": 37,
      "outputs": [
        {
          "output_type": "execute_result",
          "data": {
            "text/latex": "$\\displaystyle \\left[\\begin{matrix}b_{1}\\\\b_{2}\\end{matrix}\\right]$",
            "text/plain": [
              "⎡b₁⎤\n",
              "⎢  ⎥\n",
              "⎣b₂⎦"
            ]
          },
          "metadata": {
            "tags": []
          },
          "execution_count": 37
        }
      ]
    },
    {
      "cell_type": "code",
      "metadata": {
        "colab": {
          "base_uri": "https://localhost:8080/",
          "height": 108
        },
        "id": "OoUDxubZMW73",
        "outputId": "ecb90157-cfa0-455c-87e4-b3d1409ad2d0"
      },
      "source": [
        "x"
      ],
      "execution_count": 38,
      "outputs": [
        {
          "output_type": "execute_result",
          "data": {
            "text/latex": "$\\displaystyle \\left[\\begin{matrix}\\frac{- \\frac{A_{12} \\left(b_{2} - \\frac{A_{21} b_{1}}{A_{11}}\\right)}{A_{22} - \\frac{A_{12} A_{21}}{A_{11}}} + b_{1}}{A_{11}}\\\\\\frac{b_{2} - \\frac{A_{21} b_{1}}{A_{11}}}{A_{22} - \\frac{A_{12} A_{21}}{A_{11}}}\\end{matrix}\\right]$",
            "text/plain": [
              "⎡      ⎛     A₂₁⋅b₁⎞     ⎤\n",
              "⎢  A₁₂⋅⎜b₂ - ──────⎟     ⎥\n",
              "⎢      ⎝      A₁₁  ⎠     ⎥\n",
              "⎢- ───────────────── + b₁⎥\n",
              "⎢          A₁₂⋅A₂₁       ⎥\n",
              "⎢    A₂₂ - ───────       ⎥\n",
              "⎢            A₁₁         ⎥\n",
              "⎢────────────────────────⎥\n",
              "⎢          A₁₁           ⎥\n",
              "⎢                        ⎥\n",
              "⎢           A₂₁⋅b₁       ⎥\n",
              "⎢      b₂ - ──────       ⎥\n",
              "⎢            A₁₁         ⎥\n",
              "⎢     ─────────────      ⎥\n",
              "⎢           A₁₂⋅A₂₁      ⎥\n",
              "⎢     A₂₂ - ───────      ⎥\n",
              "⎣             A₁₁        ⎦"
            ]
          },
          "metadata": {
            "tags": []
          },
          "execution_count": 38
        }
      ]
    },
    {
      "cell_type": "code",
      "metadata": {
        "colab": {
          "base_uri": "https://localhost:8080/",
          "height": 67
        },
        "id": "MSYG2Z9VMc3g",
        "outputId": "c723d72e-d002-4d86-9d33-50b183334db8"
      },
      "source": [
        "simplify(x)"
      ],
      "execution_count": 39,
      "outputs": [
        {
          "output_type": "execute_result",
          "data": {
            "text/latex": "$\\displaystyle \\left[\\begin{matrix}\\frac{- A_{12} b_{2} + A_{22} b_{1}}{A_{11} A_{22} - A_{12} A_{21}}\\\\\\frac{A_{11} b_{2} - A_{21} b_{1}}{A_{11} A_{22} - A_{12} A_{21}}\\end{matrix}\\right]$",
            "text/plain": [
              "⎡ -A₁₂⋅b₂ + A₂₂⋅b₁⎤\n",
              "⎢─────────────────⎥\n",
              "⎢A₁₁⋅A₂₂ - A₁₂⋅A₂₁⎥\n",
              "⎢                 ⎥\n",
              "⎢ A₁₁⋅b₂ - A₂₁⋅b₁ ⎥\n",
              "⎢─────────────────⎥\n",
              "⎣A₁₁⋅A₂₂ - A₁₂⋅A₂₁⎦"
            ]
          },
          "metadata": {
            "tags": []
          },
          "execution_count": 39
        }
      ]
    },
    {
      "cell_type": "code",
      "metadata": {
        "id": "tkW8oHdQDovT"
      },
      "source": [
        "from sympy import *\n",
        "init_printing()\n",
        "\n",
        "A = Matrix(3,3,symbols('A1:4(1:4)'))\n",
        "b = Matrix(3,1,symbols('b1:4'))\n",
        "x = A.LUsolve(b)"
      ],
      "execution_count": 40,
      "outputs": []
    },
    {
      "cell_type": "code",
      "metadata": {
        "colab": {
          "base_uri": "https://localhost:8080/",
          "height": 77
        },
        "id": "QvZXd2PfLVP4",
        "outputId": "ff42423b-cc16-4589-961d-11b7d3216a41"
      },
      "source": [
        "A "
      ],
      "execution_count": 41,
      "outputs": [
        {
          "output_type": "execute_result",
          "data": {
            "text/latex": "$\\displaystyle \\left[\\begin{matrix}A_{11} & A_{12} & A_{13}\\\\A_{21} & A_{22} & A_{23}\\\\A_{31} & A_{32} & A_{33}\\end{matrix}\\right]$",
            "text/plain": [
              "⎡A₁₁  A₁₂  A₁₃⎤\n",
              "⎢             ⎥\n",
              "⎢A₂₁  A₂₂  A₂₃⎥\n",
              "⎢             ⎥\n",
              "⎣A₃₁  A₃₂  A₃₃⎦"
            ]
          },
          "metadata": {
            "tags": []
          },
          "execution_count": 41
        }
      ]
    },
    {
      "cell_type": "code",
      "metadata": {
        "colab": {
          "base_uri": "https://localhost:8080/",
          "height": 77
        },
        "id": "gxQ9XbVhLdw5",
        "outputId": "5e9a7e68-3e8e-449d-ec02-175720685ede"
      },
      "source": [
        "b "
      ],
      "execution_count": 42,
      "outputs": [
        {
          "output_type": "execute_result",
          "data": {
            "text/latex": "$\\displaystyle \\left[\\begin{matrix}b_{1}\\\\b_{2}\\\\b_{3}\\end{matrix}\\right]$",
            "text/plain": [
              "⎡b₁⎤\n",
              "⎢  ⎥\n",
              "⎢b₂⎥\n",
              "⎢  ⎥\n",
              "⎣b₃⎦"
            ]
          },
          "metadata": {
            "tags": []
          },
          "execution_count": 42
        }
      ]
    },
    {
      "cell_type": "code",
      "metadata": {
        "colab": {
          "base_uri": "https://localhost:8080/",
          "height": 332
        },
        "id": "e1WLxSUPLlfo",
        "outputId": "20e2380b-2323-44d6-dec9-96313de22dbf"
      },
      "source": [
        "x"
      ],
      "execution_count": 43,
      "outputs": [
        {
          "output_type": "execute_result",
          "data": {
            "text/latex": "$\\displaystyle \\left[\\begin{matrix}\\frac{- \\frac{A_{12} \\left(b_{2} - \\frac{\\left(A_{23} - \\frac{A_{13} A_{21}}{A_{11}}\\right) \\left(b_{3} - \\frac{\\left(A_{32} - \\frac{A_{12} A_{31}}{A_{11}}\\right) \\left(b_{2} - \\frac{A_{21} b_{1}}{A_{11}}\\right)}{A_{22} - \\frac{A_{12} A_{21}}{A_{11}}} - \\frac{A_{31} b_{1}}{A_{11}}\\right)}{A_{33} - \\frac{\\left(A_{23} - \\frac{A_{13} A_{21}}{A_{11}}\\right) \\left(A_{32} - \\frac{A_{12} A_{31}}{A_{11}}\\right)}{A_{22} - \\frac{A_{12} A_{21}}{A_{11}}} - \\frac{A_{13} A_{31}}{A_{11}}} - \\frac{A_{21} b_{1}}{A_{11}}\\right)}{A_{22} - \\frac{A_{12} A_{21}}{A_{11}}} - \\frac{A_{13} \\left(b_{3} - \\frac{\\left(A_{32} - \\frac{A_{12} A_{31}}{A_{11}}\\right) \\left(b_{2} - \\frac{A_{21} b_{1}}{A_{11}}\\right)}{A_{22} - \\frac{A_{12} A_{21}}{A_{11}}} - \\frac{A_{31} b_{1}}{A_{11}}\\right)}{A_{33} - \\frac{\\left(A_{23} - \\frac{A_{13} A_{21}}{A_{11}}\\right) \\left(A_{32} - \\frac{A_{12} A_{31}}{A_{11}}\\right)}{A_{22} - \\frac{A_{12} A_{21}}{A_{11}}} - \\frac{A_{13} A_{31}}{A_{11}}} + b_{1}}{A_{11}}\\\\\\frac{b_{2} - \\frac{\\left(A_{23} - \\frac{A_{13} A_{21}}{A_{11}}\\right) \\left(b_{3} - \\frac{\\left(A_{32} - \\frac{A_{12} A_{31}}{A_{11}}\\right) \\left(b_{2} - \\frac{A_{21} b_{1}}{A_{11}}\\right)}{A_{22} - \\frac{A_{12} A_{21}}{A_{11}}} - \\frac{A_{31} b_{1}}{A_{11}}\\right)}{A_{33} - \\frac{\\left(A_{23} - \\frac{A_{13} A_{21}}{A_{11}}\\right) \\left(A_{32} - \\frac{A_{12} A_{31}}{A_{11}}\\right)}{A_{22} - \\frac{A_{12} A_{21}}{A_{11}}} - \\frac{A_{13} A_{31}}{A_{11}}} - \\frac{A_{21} b_{1}}{A_{11}}}{A_{22} - \\frac{A_{12} A_{21}}{A_{11}}}\\\\\\frac{b_{3} - \\frac{\\left(A_{32} - \\frac{A_{12} A_{31}}{A_{11}}\\right) \\left(b_{2} - \\frac{A_{21} b_{1}}{A_{11}}\\right)}{A_{22} - \\frac{A_{12} A_{21}}{A_{11}}} - \\frac{A_{31} b_{1}}{A_{11}}}{A_{33} - \\frac{\\left(A_{23} - \\frac{A_{13} A_{21}}{A_{11}}\\right) \\left(A_{32} - \\frac{A_{12} A_{31}}{A_{11}}\\right)}{A_{22} - \\frac{A_{12} A_{21}}{A_{11}}} - \\frac{A_{13} A_{31}}{A_{11}}}\\end{matrix}\\right]$",
            "text/plain": [
              "⎡      ⎛                     ⎛     ⎛      A₁₂⋅A₃₁⎞ ⎛     A₂₁⋅b₁⎞         ⎞    \n",
              "⎢      ⎜                     ⎜     ⎜A₃₂ - ───────⎟⋅⎜b₂ - ──────⎟         ⎟    \n",
              "⎢      ⎜     ⎛      A₁₃⋅A₂₁⎞ ⎜     ⎝        A₁₁  ⎠ ⎝      A₁₁  ⎠   A₃₁⋅b₁⎟    \n",
              "⎢      ⎜     ⎜A₂₃ - ───────⎟⋅⎜b₃ - ───────────────────────────── - ──────⎟    \n",
              "⎢      ⎜     ⎝        A₁₁  ⎠ ⎜                   A₁₂⋅A₂₁            A₁₁  ⎟    \n",
              "⎢      ⎜                     ⎜             A₂₂ - ───────                 ⎟    \n",
              "⎢      ⎜                     ⎝                     A₁₁                   ⎠   A\n",
              "⎢  A₁₂⋅⎜b₂ - ───────────────────────────────────────────────────────────── - ─\n",
              "⎢      ⎜                  ⎛      A₁₃⋅A₂₁⎞ ⎛      A₁₂⋅A₃₁⎞                     \n",
              "⎢      ⎜                  ⎜A₂₃ - ───────⎟⋅⎜A₃₂ - ───────⎟                     \n",
              "⎢      ⎜                  ⎝        A₁₁  ⎠ ⎝        A₁₁  ⎠   A₁₃⋅A₃₁           \n",
              "⎢      ⎜            A₃₃ - ─────────────────────────────── - ───────           \n",
              "⎢      ⎜                                 A₁₂⋅A₂₁              A₁₁             \n",
              "⎢      ⎜                           A₂₂ - ───────                              \n",
              "⎢      ⎝                                   A₁₁                                \n",
              "⎢- ───────────────────────────────────────────────────────────────────────────\n",
              "⎢                                          A₁₂⋅A₂₁                            \n",
              "⎢                                    A₂₂ - ───────                            \n",
              "⎢                                            A₁₁                              \n",
              "⎢                                                                             \n",
              "⎢                                                                             \n",
              "⎢                                                                             \n",
              "⎢                                                                             \n",
              "⎢─────────────────────────────────────────────────────────────────────────────\n",
              "⎢                                                                    A₁₁      \n",
              "⎢                                                                             \n",
              "⎢                                                     ⎛     ⎛      A₁₂⋅A₃₁⎞ ⎛ \n",
              "⎢                                                     ⎜     ⎜A₃₂ - ───────⎟⋅⎜b\n",
              "⎢                                     ⎛      A₁₃⋅A₂₁⎞ ⎜     ⎝        A₁₁  ⎠ ⎝ \n",
              "⎢                                     ⎜A₂₃ - ───────⎟⋅⎜b₃ - ──────────────────\n",
              "⎢                                     ⎝        A₁₁  ⎠ ⎜                   A₁₂⋅\n",
              "⎢                                                     ⎜             A₂₂ - ────\n",
              "⎢                                                     ⎝                     A₁\n",
              "⎢                                b₂ - ────────────────────────────────────────\n",
              "⎢                                                  ⎛      A₁₃⋅A₂₁⎞ ⎛      A₁₂⋅\n",
              "⎢                                                  ⎜A₂₃ - ───────⎟⋅⎜A₃₂ - ────\n",
              "⎢                                                  ⎝        A₁₁  ⎠ ⎝        A₁\n",
              "⎢                                            A₃₃ - ───────────────────────────\n",
              "⎢                                                                 A₁₂⋅A₂₁     \n",
              "⎢                                                           A₂₂ - ───────     \n",
              "⎢                                                                   A₁₁       \n",
              "⎢                                ─────────────────────────────────────────────\n",
              "⎢                                                                     A₁₂⋅A₂₁ \n",
              "⎢                                                               A₂₂ - ─────── \n",
              "⎢                                                                       A₁₁   \n",
              "⎢                                                                             \n",
              "⎢                                                     ⎛      A₁₂⋅A₃₁⎞ ⎛     A₂\n",
              "⎢                                                     ⎜A₃₂ - ───────⎟⋅⎜b₂ - ──\n",
              "⎢                                                     ⎝        A₁₁  ⎠ ⎝      A\n",
              "⎢                                                b₃ - ────────────────────────\n",
              "⎢                                                                   A₁₂⋅A₂₁   \n",
              "⎢                                                             A₂₂ - ───────   \n",
              "⎢                                                                     A₁₁     \n",
              "⎢                                              ───────────────────────────────\n",
              "⎢                                                    ⎛      A₁₃⋅A₂₁⎞ ⎛      A₁\n",
              "⎢                                                    ⎜A₂₃ - ───────⎟⋅⎜A₃₂ - ──\n",
              "⎢                                                    ⎝        A₁₁  ⎠ ⎝        \n",
              "⎢                                              A₃₃ - ─────────────────────────\n",
              "⎢                                                                   A₁₂⋅A₂₁   \n",
              "⎢                                                             A₂₂ - ───────   \n",
              "⎣                                                                     A₁₁     \n",
              "\n",
              "     ⎞                                                         ⎤\n",
              "     ⎟                                                         ⎥\n",
              "     ⎟                                                         ⎥\n",
              "     ⎟                                                         ⎥\n",
              "     ⎟                                                         ⎥\n",
              "     ⎟                                                         ⎥\n",
              "₂₁⋅b₁⎟                                                         ⎥\n",
              "─────⎟                                                         ⎥\n",
              "A₁₁  ⎟       ⎛     ⎛      A₁₂⋅A₃₁⎞ ⎛     A₂₁⋅b₁⎞         ⎞     ⎥\n",
              "     ⎟       ⎜     ⎜A₃₂ - ───────⎟⋅⎜b₂ - ──────⎟         ⎟     ⎥\n",
              "     ⎟       ⎜     ⎝        A₁₁  ⎠ ⎝      A₁₁  ⎠   A₃₁⋅b₁⎟     ⎥\n",
              "     ⎟   A₁₃⋅⎜b₃ - ───────────────────────────── - ──────⎟     ⎥\n",
              "     ⎟       ⎜                   A₁₂⋅A₂₁            A₁₁  ⎟     ⎥\n",
              "     ⎟       ⎜             A₂₂ - ───────                 ⎟     ⎥\n",
              "     ⎠       ⎝                     A₁₁                   ⎠     ⎥\n",
              "────── - ───────────────────────────────────────────────── + b₁⎥\n",
              "                ⎛      A₁₃⋅A₂₁⎞ ⎛      A₁₂⋅A₃₁⎞                ⎥\n",
              "                ⎜A₂₃ - ───────⎟⋅⎜A₃₂ - ───────⎟                ⎥\n",
              "                ⎝        A₁₁  ⎠ ⎝        A₁₁  ⎠   A₁₃⋅A₃₁      ⎥\n",
              "          A₃₃ - ─────────────────────────────── - ───────      ⎥\n",
              "                               A₁₂⋅A₂₁              A₁₁        ⎥\n",
              "                         A₂₂ - ───────                         ⎥\n",
              "                                 A₁₁                           ⎥\n",
              "───────────────────────────────────────────────────────────────⎥\n",
              "                                                               ⎥\n",
              "                                                               ⎥\n",
              "    A₂₁⋅b₁⎞         ⎞                                          ⎥\n",
              "₂ - ──────⎟         ⎟                                          ⎥\n",
              "     A₁₁  ⎠   A₃₁⋅b₁⎟                                          ⎥\n",
              "─────────── - ──────⎟                                          ⎥\n",
              "A₂₁            A₁₁  ⎟                                          ⎥\n",
              "───                 ⎟                                          ⎥\n",
              "₁                   ⎠   A₂₁⋅b₁                                 ⎥\n",
              "───────────────────── - ──────                                 ⎥\n",
              "A₃₁⎞                     A₁₁                                   ⎥\n",
              "───⎟                                                           ⎥\n",
              "₁  ⎠   A₁₃⋅A₃₁                                                 ⎥\n",
              "──── - ───────                                                 ⎥\n",
              "         A₁₁                                                   ⎥\n",
              "                                                               ⎥\n",
              "                                                               ⎥\n",
              "──────────────────────────────                                 ⎥\n",
              "                                                               ⎥\n",
              "                                                               ⎥\n",
              "                                                               ⎥\n",
              "                                                               ⎥\n",
              "₁⋅b₁⎞                                                          ⎥\n",
              "────⎟                                                          ⎥\n",
              "₁₁  ⎠   A₃₁⋅b₁                                                 ⎥\n",
              "───── - ──────                                                 ⎥\n",
              "         A₁₁                                                   ⎥\n",
              "                                                               ⎥\n",
              "                                                               ⎥\n",
              "────────────────                                               ⎥\n",
              "₂⋅A₃₁⎞                                                         ⎥\n",
              "─────⎟                                                         ⎥\n",
              "A₁₁  ⎠   A₁₃⋅A₃₁                                               ⎥\n",
              "────── - ───────                                               ⎥\n",
              "           A₁₁                                                 ⎥\n",
              "                                                               ⎥\n",
              "                                                               ⎦"
            ]
          },
          "metadata": {
            "tags": []
          },
          "execution_count": 43
        }
      ]
    },
    {
      "cell_type": "code",
      "metadata": {
        "colab": {
          "base_uri": "https://localhost:8080/",
          "height": 88
        },
        "id": "OIp8SWOvD2Ev",
        "outputId": "7454b931-502e-4c60-e813-f1cb49b8e906"
      },
      "source": [
        "simplify(x)"
      ],
      "execution_count": 44,
      "outputs": [
        {
          "output_type": "execute_result",
          "data": {
            "text/latex": "$\\displaystyle \\left[\\begin{matrix}\\frac{A_{12} A_{23} b_{3} - A_{12} A_{33} b_{2} - A_{13} A_{22} b_{3} + A_{13} A_{32} b_{2} + A_{22} A_{33} b_{1} - A_{23} A_{32} b_{1}}{A_{11} A_{22} A_{33} - A_{11} A_{23} A_{32} - A_{12} A_{21} A_{33} + A_{12} A_{23} A_{31} + A_{13} A_{21} A_{32} - A_{13} A_{22} A_{31}}\\\\\\frac{- A_{11} A_{23} b_{3} + A_{11} A_{33} b_{2} + A_{13} A_{21} b_{3} - A_{13} A_{31} b_{2} - A_{21} A_{33} b_{1} + A_{23} A_{31} b_{1}}{A_{11} A_{22} A_{33} - A_{11} A_{23} A_{32} - A_{12} A_{21} A_{33} + A_{12} A_{23} A_{31} + A_{13} A_{21} A_{32} - A_{13} A_{22} A_{31}}\\\\\\frac{A_{11} A_{22} b_{3} - A_{11} A_{32} b_{2} - A_{12} A_{21} b_{3} + A_{12} A_{31} b_{2} + A_{21} A_{32} b_{1} - A_{22} A_{31} b_{1}}{A_{11} A_{22} A_{33} - A_{11} A_{23} A_{32} - A_{12} A_{21} A_{33} + A_{12} A_{23} A_{31} + A_{13} A_{21} A_{32} - A_{13} A_{22} A_{31}}\\end{matrix}\\right]$",
            "text/plain": [
              "⎡   A₁₂⋅A₂₃⋅b₃ - A₁₂⋅A₃₃⋅b₂ - A₁₃⋅A₂₂⋅b₃ + A₁₃⋅A₃₂⋅b₂ + A₂₂⋅A₃₃⋅b₁ - A₂₃⋅A₃₂⋅b\n",
              "⎢─────────────────────────────────────────────────────────────────────────────\n",
              "⎢A₁₁⋅A₂₂⋅A₃₃ - A₁₁⋅A₂₃⋅A₃₂ - A₁₂⋅A₂₁⋅A₃₃ + A₁₂⋅A₂₃⋅A₃₁ + A₁₃⋅A₂₁⋅A₃₂ - A₁₃⋅A₂₂\n",
              "⎢                                                                             \n",
              "⎢   -A₁₁⋅A₂₃⋅b₃ + A₁₁⋅A₃₃⋅b₂ + A₁₃⋅A₂₁⋅b₃ - A₁₃⋅A₃₁⋅b₂ - A₂₁⋅A₃₃⋅b₁ + A₂₃⋅A₃₁⋅\n",
              "⎢─────────────────────────────────────────────────────────────────────────────\n",
              "⎢A₁₁⋅A₂₂⋅A₃₃ - A₁₁⋅A₂₃⋅A₃₂ - A₁₂⋅A₂₁⋅A₃₃ + A₁₂⋅A₂₃⋅A₃₁ + A₁₃⋅A₂₁⋅A₃₂ - A₁₃⋅A₂₂\n",
              "⎢                                                                             \n",
              "⎢   A₁₁⋅A₂₂⋅b₃ - A₁₁⋅A₃₂⋅b₂ - A₁₂⋅A₂₁⋅b₃ + A₁₂⋅A₃₁⋅b₂ + A₂₁⋅A₃₂⋅b₁ - A₂₂⋅A₃₁⋅b\n",
              "⎢─────────────────────────────────────────────────────────────────────────────\n",
              "⎣A₁₁⋅A₂₂⋅A₃₃ - A₁₁⋅A₂₃⋅A₃₂ - A₁₂⋅A₂₁⋅A₃₃ + A₁₂⋅A₂₃⋅A₃₁ + A₁₃⋅A₂₁⋅A₃₂ - A₁₃⋅A₂₂\n",
              "\n",
              "₁   ⎤\n",
              "────⎥\n",
              "⋅A₃₁⎥\n",
              "    ⎥\n",
              "b₁  ⎥\n",
              "────⎥\n",
              "⋅A₃₁⎥\n",
              "    ⎥\n",
              "₁   ⎥\n",
              "────⎥\n",
              "⋅A₃₁⎦"
            ]
          },
          "metadata": {
            "tags": []
          },
          "execution_count": 44
        }
      ]
    },
    {
      "cell_type": "code",
      "metadata": {
        "id": "xOjWFiVcAagi"
      },
      "source": [
        "from sympy import *\n",
        "init_printing()\n",
        "\n",
        "a1, a2, a3 = 3, 4, 5   #   known coefficients, they could be symbols too\n",
        "x1, x2, x3, x4, x5, x6 = symbols('x1:7')\n",
        "y1, y2, y3, y4, y5, y6 = symbols('y1:7')\n",
        "eqns = [a1*x1 - y1, a1*x2 - y2, a2*x3 - y3, a2*x4 - y4, a3*x5 - y5, a3*x6 - y6, \n",
        "        x2 - y3, x3 - y2, x4 - y5, x5 - y4]\n",
        "sol=linsolve(eqns, [x1, x2, x3, x4, x5, x6, y1, y2, y3, y4, y5, y6])"
      ],
      "execution_count": 45,
      "outputs": []
    },
    {
      "cell_type": "code",
      "metadata": {
        "colab": {
          "base_uri": "https://localhost:8080/",
          "height": 37
        },
        "id": "eOXhXm1rL3Ow",
        "outputId": "09771d03-edb3-4ec4-c16b-674ab2d4bea3"
      },
      "source": [
        "eqns"
      ],
      "execution_count": 46,
      "outputs": [
        {
          "output_type": "execute_result",
          "data": {
            "image/png": "[encoded data removed]",
            "text/latex": "$\\displaystyle \\left[ 3 x_{1} - y_{1}, \\  3 x_{2} - y_{2}, \\  4 x_{3} - y_{3}, \\  4 x_{4} - y_{4}, \\  5 x_{5} - y_{5}, \\  5 x_{6} - y_{6}, \\  x_{2} - y_{3}, \\  x_{3} - y_{2}, \\  x_{4} - y_{5}, \\  x_{5} - y_{4}\\right]$",
            "text/plain": [
              "[3⋅x₁ - y₁, 3⋅x₂ - y₂, 4⋅x₃ - y₃, 4⋅x₄ - y₄, 5⋅x₅ - y₅, 5⋅x₆ - y₆, x₂ - y₃, x₃\n",
              " - y₂, x₄ - y₅, x₅ - y₄]"
            ]
          },
          "metadata": {
            "tags": []
          },
          "execution_count": 46
        }
      ]
    },
    {
      "cell_type": "code",
      "metadata": {
        "colab": {
          "base_uri": "https://localhost:8080/",
          "height": 47
        },
        "id": "eEoQiyh1O5Vh",
        "outputId": "a449c6f4-19f4-420a-9e11-0014adfd3042"
      },
      "source": [
        "sol"
      ],
      "execution_count": 47,
      "outputs": [
        {
          "output_type": "execute_result",
          "data": {
            "image/png": "[encoded data removed]",
            "text/latex": "$\\displaystyle \\left\\{\\left( \\frac{y_{1}}{3}, \\  0, \\  0, \\  0, \\  0, \\  \\frac{y_{6}}{5}, \\  y_{1}, \\  0, \\  0, \\  0, \\  0, \\  y_{6}\\right)\\right\\}$",
            "text/plain": [
              "⎧⎛y₁              y₆                    ⎞⎫\n",
              "⎨⎜──, 0, 0, 0, 0, ──, y₁, 0, 0, 0, 0, y₆⎟⎬\n",
              "⎩⎝3               5                     ⎠⎭"
            ]
          },
          "metadata": {
            "tags": []
          },
          "execution_count": 47
        }
      ]
    },
    {
      "cell_type": "code",
      "metadata": {
        "id": "OcmIWvAbPEvQ"
      },
      "source": [
        "from sympy import *\n",
        "init_printing()\n",
        "\n",
        "A = Matrix(2,2,symbols('A1:3(1:3)'))\n",
        "b = Matrix(2,1,symbols('b1:3'))\n",
        "x = Matrix(2,1,symbols('x1:3'))"
      ],
      "execution_count": 48,
      "outputs": []
    },
    {
      "cell_type": "code",
      "metadata": {
        "id": "QHktDH4LPdLY",
        "colab": {
          "base_uri": "https://localhost:8080/",
          "height": 57
        },
        "outputId": "97d66a67-56be-4dea-fea3-a3f0bb1c1967"
      },
      "source": [
        "A"
      ],
      "execution_count": 49,
      "outputs": [
        {
          "output_type": "execute_result",
          "data": {
            "text/latex": "$\\displaystyle \\left[\\begin{matrix}A_{11} & A_{12}\\\\A_{21} & A_{22}\\end{matrix}\\right]$",
            "text/plain": [
              "⎡A₁₁  A₁₂⎤\n",
              "⎢        ⎥\n",
              "⎣A₂₁  A₂₂⎦"
            ]
          },
          "metadata": {
            "tags": []
          },
          "execution_count": 49
        }
      ]
    },
    {
      "cell_type": "code",
      "metadata": {
        "colab": {
          "base_uri": "https://localhost:8080/",
          "height": 57
        },
        "id": "8SSPdT7_PMST",
        "outputId": "6542c006-a71a-46a9-ee5e-4033ac7df71e"
      },
      "source": [
        "\n",
        "x"
      ],
      "execution_count": 50,
      "outputs": [
        {
          "output_type": "execute_result",
          "data": {
            "text/latex": "$\\displaystyle \\left[\\begin{matrix}x_{1}\\\\x_{2}\\end{matrix}\\right]$",
            "text/plain": [
              "⎡x₁⎤\n",
              "⎢  ⎥\n",
              "⎣x₂⎦"
            ]
          },
          "metadata": {
            "tags": []
          },
          "execution_count": 50
        }
      ]
    },
    {
      "cell_type": "code",
      "metadata": {
        "colab": {
          "base_uri": "https://localhost:8080/",
          "height": 57
        },
        "id": "kOahe6CXPRBf",
        "outputId": "273c9c53-9b5b-4a5c-acef-ea73e9b21ac6"
      },
      "source": [
        "b"
      ],
      "execution_count": 51,
      "outputs": [
        {
          "output_type": "execute_result",
          "data": {
            "text/latex": "$\\displaystyle \\left[\\begin{matrix}b_{1}\\\\b_{2}\\end{matrix}\\right]$",
            "text/plain": [
              "⎡b₁⎤\n",
              "⎢  ⎥\n",
              "⎣b₂⎦"
            ]
          },
          "metadata": {
            "tags": []
          },
          "execution_count": 51
        }
      ]
    },
    {
      "cell_type": "code",
      "metadata": {
        "colab": {
          "base_uri": "https://localhost:8080/",
          "height": 57
        },
        "id": "krllVr2MPvpY",
        "outputId": "f6134322-148f-4029-fc4e-3950965251a3"
      },
      "source": [
        "Matrix(A*x-b)"
      ],
      "execution_count": 52,
      "outputs": [
        {
          "output_type": "execute_result",
          "data": {
            "text/latex": "$\\displaystyle \\left[\\begin{matrix}A_{11} x_{1} + A_{12} x_{2} - b_{1}\\\\A_{21} x_{1} + A_{22} x_{2} - b_{2}\\end{matrix}\\right]$",
            "text/plain": [
              "⎡A₁₁⋅x₁ + A₁₂⋅x₂ - b₁⎤\n",
              "⎢                    ⎥\n",
              "⎣A₂₁⋅x₁ + A₂₂⋅x₂ - b₂⎦"
            ]
          },
          "metadata": {
            "tags": []
          },
          "execution_count": 52
        }
      ]
    },
    {
      "cell_type": "code",
      "metadata": {
        "colab": {
          "base_uri": "https://localhost:8080/",
          "height": 37
        },
        "id": "po79oh47Pzqo",
        "outputId": "82024c73-5977-4451-a70c-fec08721cd9e"
      },
      "source": [
        "list(Matrix(A*x-b))"
      ],
      "execution_count": 53,
      "outputs": [
        {
          "output_type": "execute_result",
          "data": {
            "image/png": "[encoded data removed]",
            "text/latex": "$\\displaystyle \\left[ A_{11} x_{1} + A_{12} x_{2} - b_{1}, \\  A_{21} x_{1} + A_{22} x_{2} - b_{2}\\right]$",
            "text/plain": [
              "[A₁₁⋅x₁ + A₁₂⋅x₂ - b₁, A₂₁⋅x₁ + A₂₂⋅x₂ - b₂]"
            ]
          },
          "metadata": {
            "tags": []
          },
          "execution_count": 53
        }
      ]
    },
    {
      "cell_type": "code",
      "metadata": {
        "colab": {
          "base_uri": "https://localhost:8080/",
          "height": 37
        },
        "id": "fvfYNSqVP28g",
        "outputId": "79e66703-efe3-4c5c-d907-1b0caf49ad4d"
      },
      "source": [
        "list(x)"
      ],
      "execution_count": 54,
      "outputs": [
        {
          "output_type": "execute_result",
          "data": {
            "image/png": "[encoded data removed]",
            "text/latex": "$\\displaystyle \\left[ x_{1}, \\  x_{2}\\right]$",
            "text/plain": [
              "[x₁, x₂]"
            ]
          },
          "metadata": {
            "tags": []
          },
          "execution_count": 54
        }
      ]
    },
    {
      "cell_type": "code",
      "metadata": {
        "colab": {
          "base_uri": "https://localhost:8080/",
          "height": 57
        },
        "id": "h8s7PZ-FlUKX",
        "outputId": "7323c7ce-f0f1-44ac-ddf7-d4cdc567e944"
      },
      "source": [
        "sol=linsolve(list(Matrix(A*x-b)),list(x))\n",
        "sol"
      ],
      "execution_count": 55,
      "outputs": [
        {
          "output_type": "execute_result",
          "data": {
            "image/png": "[encoded data removed]",
            "text/latex": "$\\displaystyle \\left\\{\\left( \\frac{- A_{12} b_{2} + A_{22} b_{1}}{A_{11} A_{22} - A_{12} A_{21}}, \\  \\frac{A_{11} b_{2} - A_{21} b_{1}}{A_{11} A_{22} - A_{12} A_{21}}\\right)\\right\\}$",
            "text/plain": [
              "⎧⎛ -A₁₂⋅b₂ + A₂₂⋅b₁   A₁₁⋅b₂ - A₂₁⋅b₁ ⎞⎫\n",
              "⎨⎜─────────────────, ─────────────────⎟⎬\n",
              "⎩⎝A₁₁⋅A₂₂ - A₁₂⋅A₂₁  A₁₁⋅A₂₂ - A₁₂⋅A₂₁⎠⎭"
            ]
          },
          "metadata": {
            "tags": []
          },
          "execution_count": 55
        }
      ]
    },
    {
      "cell_type": "code",
      "metadata": {
        "colab": {
          "base_uri": "https://localhost:8080/"
        },
        "id": "oHwJksUYEVyR",
        "outputId": "2086a259-1213-44b1-e05f-ac261d8be9ab"
      },
      "source": [
        "x, a = symbols('x a')\n",
        "b = x + a\n",
        "c = b.subs(x,0)   \n",
        "d = c.subs(a,2*a)  \n",
        "print(c, d)   # returns (a, 2a)"
      ],
      "execution_count": 56,
      "outputs": [
        {
          "output_type": "stream",
          "text": [
            "a 2*a\n"
          ],
          "name": "stdout"
        }
      ]
    },
    {
      "cell_type": "code",
      "metadata": {
        "colab": {
          "base_uri": "https://localhost:8080/",
          "height": 37
        },
        "id": "tquxDPc8Ej65",
        "outputId": "b6604ff1-2329-4dba-917d-49a94c3b9fc3"
      },
      "source": [
        "b.subs(x,0)"
      ],
      "execution_count": 57,
      "outputs": [
        {
          "output_type": "execute_result",
          "data": {
            "image/png": "[encoded data removed]",
            "text/latex": "$\\displaystyle a$",
            "text/plain": [
              "a"
            ]
          },
          "metadata": {
            "tags": []
          },
          "execution_count": 57
        }
      ]
    },
    {
      "cell_type": "code",
      "metadata": {
        "colab": {
          "base_uri": "https://localhost:8080/",
          "height": 37
        },
        "id": "6t1FjgIMEfRR",
        "outputId": "4fc30a12-cb99-4bcd-9f5a-494672b2c423"
      },
      "source": [
        "b.subs({x:0})  # a dictionary as argument"
      ],
      "execution_count": 58,
      "outputs": [
        {
          "output_type": "execute_result",
          "data": {
            "image/png": "[encoded data removed]",
            "text/latex": "$\\displaystyle a$",
            "text/plain": [
              "a"
            ]
          },
          "metadata": {
            "tags": []
          },
          "execution_count": 58
        }
      ]
    },
    {
      "cell_type": "code",
      "metadata": {
        "colab": {
          "base_uri": "https://localhost:8080/",
          "height": 37
        },
        "id": "_IroAw7sEmih",
        "outputId": "4c850d74-230d-41b6-b189-7d9d708b1feb"
      },
      "source": [
        "b.subs({x:0,a:2*a})"
      ],
      "execution_count": 59,
      "outputs": [
        {
          "output_type": "execute_result",
          "data": {
            "image/png": "[encoded data removed]",
            "text/latex": "$\\displaystyle 2 a$",
            "text/plain": [
              "2⋅a"
            ]
          },
          "metadata": {
            "tags": []
          },
          "execution_count": 59
        }
      ]
    },
    {
      "cell_type": "code",
      "metadata": {
        "colab": {
          "base_uri": "https://localhost:8080/",
          "height": 36
        },
        "id": "3L1ytmN9E1Rq",
        "outputId": "1b95e4ef-cae2-46eb-fa9f-9e71001c7447"
      },
      "source": [
        "pi.evalf()   # returns 3.14159265358979"
      ],
      "execution_count": 60,
      "outputs": [
        {
          "output_type": "execute_result",
          "data": {
            "image/png": "[encoded data removed]",
            "text/latex": "$\\displaystyle 3.14159265358979$",
            "text/plain": [
              "3.14159265358979"
            ]
          },
          "metadata": {
            "tags": []
          },
          "execution_count": 60
        }
      ]
    },
    {
      "cell_type": "code",
      "metadata": {
        "colab": {
          "base_uri": "https://localhost:8080/",
          "height": 36
        },
        "id": "lSPSw6FCE2vL",
        "outputId": "19d31e99-3bf6-4406-e91c-02d909214657"
      },
      "source": [
        "pi.evalf(30)   # returns 3.14159265358979323846264338328"
      ],
      "execution_count": 61,
      "outputs": [
        {
          "output_type": "execute_result",
          "data": {
            "image/png": "[encoded data removed]",
            "text/latex": "$\\displaystyle 3.14159265358979323846264338328$",
            "text/plain": [
              "3.14159265358979323846264338328"
            ]
          },
          "metadata": {
            "tags": []
          },
          "execution_count": 61
        }
      ]
    },
    {
      "cell_type": "code",
      "metadata": {
        "colab": {
          "base_uri": "https://localhost:8080/",
          "height": 36
        },
        "id": "dr0-t-yeA3LL",
        "outputId": "52da3bf7-cf2d-439e-fdaf-0465dbdb76d7"
      },
      "source": [
        "from sympy import *\n",
        "init_printing()\n",
        "\n",
        "from sympy.solvers import solve\n",
        "from sympy import Symbol\n",
        "x = Symbol('x')\n",
        "solve(x**2 - 1, x)\n"
      ],
      "execution_count": 62,
      "outputs": [
        {
          "output_type": "execute_result",
          "data": {
            "image/png": "[encoded data removed]",
            "text/latex": "$\\displaystyle \\left[ -1, \\  1\\right]$",
            "text/plain": [
              "[-1, 1]"
            ]
          },
          "metadata": {
            "tags": []
          },
          "execution_count": 62
        }
      ]
    },
    {
      "cell_type": "code",
      "metadata": {
        "colab": {
          "base_uri": "https://localhost:8080/",
          "height": 47
        },
        "id": "miRSn8h1BYeL",
        "outputId": "75222c9b-1cf5-4a09-e647-b87e31f77988"
      },
      "source": [
        "from sympy import *\n",
        "init_printing()\n",
        "\n",
        "x, y, z, t = symbols('x y z t')\n",
        "k, m, n = symbols('k m n', integer=True)\n",
        "f, g, h = symbols('f g h', cls=Function)\n",
        "\n",
        "solve([x**2 - 3, y - 1], set=True)"
      ],
      "execution_count": 63,
      "outputs": [
        {
          "output_type": "execute_result",
          "data": {
            "image/png": "[encoded data removed]",
            "text/latex": "$\\displaystyle \\left( \\left[ x, \\  y\\right], \\  \\left\\{\\left( - \\sqrt{3}, \\  1\\right), \\left( \\sqrt{3}, \\  1\\right)\\right\\}\\right)$",
            "text/plain": [
              "([x, y], {(-√3, 1), (√3, 1)})"
            ]
          },
          "metadata": {
            "tags": []
          },
          "execution_count": 63
        }
      ]
    },
    {
      "cell_type": "code",
      "metadata": {
        "colab": {
          "base_uri": "https://localhost:8080/",
          "height": 37
        },
        "id": "PuuRuXzgBwrA",
        "outputId": "363feeb3-f93a-4019-a4ff-d68098fc1679"
      },
      "source": [
        "from sympy import *\n",
        "init_printing()\n",
        "\n",
        "solve(x < 3)"
      ],
      "execution_count": 64,
      "outputs": [
        {
          "output_type": "execute_result",
          "data": {
            "image/png": "[encoded data removed]",
            "text/latex": "$\\displaystyle -\\infty < x \\wedge x < 3$",
            "text/plain": [
              "-∞ < x ∧ x < 3"
            ]
          },
          "metadata": {
            "tags": []
          },
          "execution_count": 64
        }
      ]
    }
  ]
}