{
  "nbformat": 4,
  "nbformat_minor": 0,
  "metadata": {
    "colab": {
      "name": "LU_QR_Jacobi_Iterations_Simpy.ipynb",
      "provenance": [],
      "collapsed_sections": [],
      "authorship_tag": "ABX9TyNIluxmyzCLWoeiRf/8jPbP"
    },
    "kernelspec": {
      "name": "python3",
      "display_name": "Python 3"
    },
    "language_info": {
      "name": "python"
    }
  },
  "cells": [
    {
      "cell_type": "markdown",
      "source": [
        "# Matrix SymPy"
      ],
      "metadata": {
        "id": "2b0X1rlVghnD"
      }
    },
    {
      "cell_type": "code",
      "execution_count": 1,
      "metadata": {
        "id": "MA17z6SY_ZCn"
      },
      "outputs": [],
      "source": [
        "from sympy import Matrix"
      ]
    },
    {
      "cell_type": "code",
      "source": [
        "A = Matrix([[1,2,3],[4,5,6,],[10,11,9]])\n",
        "A"
      ],
      "metadata": {
        "colab": {
          "base_uri": "https://localhost:8080/",
          "height": 78
        },
        "id": "FooyaOyc_1Qw",
        "outputId": "4a8a76ef-08a0-4ec1-987e-f8abd3f2dca2"
      },
      "execution_count": 2,
      "outputs": [
        {
          "output_type": "execute_result",
          "data": {
            "text/latex": "$\\displaystyle \\left[\\begin{matrix}1 & 2 & 3\\\\4 & 5 & 6\\\\10 & 11 & 9\\end{matrix}\\right]$",
            "text/plain": [
              "Matrix([\n",
              "[ 1,  2, 3],\n",
              "[ 4,  5, 6],\n",
              "[10, 11, 9]])"
            ]
          },
          "metadata": {},
          "execution_count": 2
        }
      ]
    },
    {
      "cell_type": "code",
      "source": [
        "A.LUdecomposition()"
      ],
      "metadata": {
        "colab": {
          "base_uri": "https://localhost:8080/"
        },
        "id": "1NUBsmIeCceo",
        "outputId": "d5a028e3-bc25-47fa-dde6-13f2d49c2cf8"
      },
      "execution_count": 3,
      "outputs": [
        {
          "output_type": "execute_result",
          "data": {
            "text/plain": [
              "(Matrix([\n",
              " [ 1, 0, 0],\n",
              " [ 4, 1, 0],\n",
              " [10, 3, 1]]), Matrix([\n",
              " [1,  2,  3],\n",
              " [0, -3, -6],\n",
              " [0,  0, -3]]), [])"
            ]
          },
          "metadata": {},
          "execution_count": 3
        }
      ]
    },
    {
      "cell_type": "markdown",
      "source": [
        "# Matrix.LUdecomposition() init_printing SymPy"
      ],
      "metadata": {
        "id": "ELO7ZSBMgmof"
      }
    },
    {
      "cell_type": "code",
      "source": [
        "import numpy as np\n",
        "from sympy import Matrix,N,init_printing, eye\n",
        "init_printing()"
      ],
      "metadata": {
        "id": "3ePpAChGAGZg"
      },
      "execution_count": 4,
      "outputs": []
    },
    {
      "cell_type": "code",
      "source": [
        "A = Matrix([[-2,2,-1], [6,-6,7], [3,-8,4]])\n",
        "A"
      ],
      "metadata": {
        "colab": {
          "base_uri": "https://localhost:8080/",
          "height": 78
        },
        "id": "aor7JSSPCSBh",
        "outputId": "58ac1ee1-3e4d-4458-ae32-79d60791489a"
      },
      "execution_count": 5,
      "outputs": [
        {
          "output_type": "execute_result",
          "data": {
            "text/latex": "$\\displaystyle \\left[\\begin{matrix}-2 & 2 & -1\\\\6 & -6 & 7\\\\3 & -8 & 4\\end{matrix}\\right]$",
            "text/plain": [
              "⎡-2  2   -1⎤\n",
              "⎢          ⎥\n",
              "⎢6   -6  7 ⎥\n",
              "⎢          ⎥\n",
              "⎣3   -8  4 ⎦"
            ]
          },
          "metadata": {},
          "execution_count": 5
        }
      ]
    },
    {
      "cell_type": "code",
      "source": [
        "A.LUdecomposition()"
      ],
      "metadata": {
        "colab": {
          "base_uri": "https://localhost:8080/",
          "height": 78
        },
        "id": "8ifTS_gFC42g",
        "outputId": "37aeebe9-69c8-4460-8b45-f0f2489582fd"
      },
      "execution_count": 6,
      "outputs": [
        {
          "output_type": "execute_result",
          "data": {
            "text/latex": "$\\displaystyle \\left( \\left[\\begin{matrix}1 & 0 & 0\\\\- \\frac{3}{2} & 1 & 0\\\\-3 & 0 & 1\\end{matrix}\\right], \\  \\left[\\begin{matrix}-2 & 2 & -1\\\\0 & -5 & \\frac{5}{2}\\\\0 & 0 & 4\\end{matrix}\\right], \\  \\left[ \\left[ 1, \\  2\\right]\\right]\\right)$",
            "text/plain": [
              "⎛⎡ 1    0  0⎤  ⎡-2  2   -1 ⎤          ⎞\n",
              "⎜⎢          ⎥  ⎢           ⎥          ⎟\n",
              "⎜⎢-3/2  1  0⎥, ⎢0   -5  5/2⎥, [[1, 2]]⎟\n",
              "⎜⎢          ⎥  ⎢           ⎥          ⎟\n",
              "⎝⎣ -3   0  1⎦  ⎣0   0    4 ⎦          ⎠"
            ]
          },
          "metadata": {},
          "execution_count": 6
        }
      ]
    },
    {
      "cell_type": "code",
      "source": [
        "A.LUdecomposition?"
      ],
      "metadata": {
        "id": "FqS6OXveEzQo"
      },
      "execution_count": 7,
      "outputs": []
    },
    {
      "cell_type": "code",
      "source": [
        "L, U, perm = A.LUdecomposition()"
      ],
      "metadata": {
        "id": "ffcTKw4oDlYo"
      },
      "execution_count": 8,
      "outputs": []
    },
    {
      "cell_type": "code",
      "source": [
        "L*U"
      ],
      "metadata": {
        "colab": {
          "base_uri": "https://localhost:8080/",
          "height": 78
        },
        "id": "xm71rufAD0Ro",
        "outputId": "12035ba3-88c4-4358-eee3-f21dac3a1c14"
      },
      "execution_count": 9,
      "outputs": [
        {
          "output_type": "execute_result",
          "data": {
            "text/latex": "$\\displaystyle \\left[\\begin{matrix}-2 & 2 & -1\\\\3 & -8 & 4\\\\6 & -6 & 7\\end{matrix}\\right]$",
            "text/plain": [
              "⎡-2  2   -1⎤\n",
              "⎢          ⎥\n",
              "⎢3   -8  4 ⎥\n",
              "⎢          ⎥\n",
              "⎣6   -6  7 ⎦"
            ]
          },
          "metadata": {},
          "execution_count": 9
        }
      ]
    },
    {
      "cell_type": "code",
      "source": [
        "A"
      ],
      "metadata": {
        "colab": {
          "base_uri": "https://localhost:8080/",
          "height": 78
        },
        "id": "TpKhHFFfD3tY",
        "outputId": "741b6bae-1048-4a7e-b848-df8b24c0b23b"
      },
      "execution_count": 10,
      "outputs": [
        {
          "output_type": "execute_result",
          "data": {
            "text/latex": "$\\displaystyle \\left[\\begin{matrix}-2 & 2 & -1\\\\6 & -6 & 7\\\\3 & -8 & 4\\end{matrix}\\right]$",
            "text/plain": [
              "⎡-2  2   -1⎤\n",
              "⎢          ⎥\n",
              "⎢6   -6  7 ⎥\n",
              "⎢          ⎥\n",
              "⎣3   -8  4 ⎦"
            ]
          },
          "metadata": {},
          "execution_count": 10
        }
      ]
    },
    {
      "cell_type": "code",
      "source": [
        "(L*U).permuteBkwd(perm)"
      ],
      "metadata": {
        "colab": {
          "base_uri": "https://localhost:8080/",
          "height": 78
        },
        "id": "jEZJptOBDpXI",
        "outputId": "740d1e22-f2d9-4be0-9c03-afde4cbcd6a4"
      },
      "execution_count": 11,
      "outputs": [
        {
          "output_type": "execute_result",
          "data": {
            "text/latex": "$\\displaystyle \\left[\\begin{matrix}-2 & 2 & -1\\\\6 & -6 & 7\\\\3 & -8 & 4\\end{matrix}\\right]$",
            "text/plain": [
              "⎡-2  2   -1⎤\n",
              "⎢          ⎥\n",
              "⎢6   -6  7 ⎥\n",
              "⎢          ⎥\n",
              "⎣3   -8  4 ⎦"
            ]
          },
          "metadata": {},
          "execution_count": 11
        }
      ]
    },
    {
      "cell_type": "code",
      "source": [
        "P = eye(A.shape[0]).permuteFwd(perm)\n",
        "P"
      ],
      "metadata": {
        "colab": {
          "base_uri": "https://localhost:8080/",
          "height": 78
        },
        "id": "jAn0Tso5DrMg",
        "outputId": "ac177205-acba-495d-e0a8-0777b2892d5d"
      },
      "execution_count": 12,
      "outputs": [
        {
          "output_type": "execute_result",
          "data": {
            "text/latex": "$\\displaystyle \\left[\\begin{matrix}1 & 0 & 0\\\\0 & 0 & 1\\\\0 & 1 & 0\\end{matrix}\\right]$",
            "text/plain": [
              "⎡1  0  0⎤\n",
              "⎢       ⎥\n",
              "⎢0  0  1⎥\n",
              "⎢       ⎥\n",
              "⎣0  1  0⎦"
            ]
          },
          "metadata": {},
          "execution_count": 12
        }
      ]
    },
    {
      "cell_type": "markdown",
      "source": [
        "# Matrix.QRdecomposition() SymPy"
      ],
      "metadata": {
        "id": "9NgXwx_AkHWA"
      }
    },
    {
      "cell_type": "code",
      "source": [
        "A = Matrix([[1,3], [1,-1]])\n",
        "A.QRdecomposition()"
      ],
      "metadata": {
        "colab": {
          "base_uri": "https://localhost:8080/",
          "height": 68
        },
        "id": "uAspZ072KDEB",
        "outputId": "251aa7cc-e9ed-476d-8f12-97f5d4f1d139"
      },
      "execution_count": 13,
      "outputs": [
        {
          "output_type": "execute_result",
          "data": {
            "text/latex": "$\\displaystyle \\left( \\left[\\begin{matrix}\\frac{\\sqrt{2}}{2} & \\frac{\\sqrt{2}}{2}\\\\\\frac{\\sqrt{2}}{2} & - \\frac{\\sqrt{2}}{2}\\end{matrix}\\right], \\  \\left[\\begin{matrix}\\sqrt{2} & \\sqrt{2}\\\\0 & 2 \\sqrt{2}\\end{matrix}\\right]\\right)$",
            "text/plain": [
              "⎛⎡√2   √2 ⎤            ⎞\n",
              "⎜⎢──   ── ⎥            ⎟\n",
              "⎜⎢2    2  ⎥  ⎡√2   √2 ⎤⎟\n",
              "⎜⎢        ⎥, ⎢        ⎥⎟\n",
              "⎜⎢√2  -√2 ⎥  ⎣0   2⋅√2⎦⎟\n",
              "⎜⎢──  ────⎥            ⎟\n",
              "⎝⎣2    2  ⎦            ⎠"
            ]
          },
          "metadata": {},
          "execution_count": 13
        }
      ]
    },
    {
      "cell_type": "code",
      "source": [
        "A.eigenvals()"
      ],
      "metadata": {
        "colab": {
          "base_uri": "https://localhost:8080/",
          "height": 37
        },
        "id": "dpQAlCfiTLzg",
        "outputId": "d3a12e8a-a282-49b6-90b2-c3a96a6fcdfb"
      },
      "execution_count": 14,
      "outputs": [
        {
          "output_type": "execute_result",
          "data": {
            "image/png": "[encoded data removed]",
            "text/latex": "$\\displaystyle \\left\\{ -2 : 1, \\  2 : 1\\right\\}$",
            "text/plain": [
              "{-2: 1, 2: 1}"
            ]
          },
          "metadata": {},
          "execution_count": 14
        }
      ]
    },
    {
      "cell_type": "code",
      "source": [
        "A = Matrix([[1,3], [1,-1]])\n",
        "Q,R = A.QRdecomposition()\n",
        "A = R@Q\n",
        "A"
      ],
      "metadata": {
        "colab": {
          "base_uri": "https://localhost:8080/",
          "height": 58
        },
        "id": "NoVzkShpTPYa",
        "outputId": "f54820a2-5e07-41a4-a93d-31a9a351a89b"
      },
      "execution_count": 15,
      "outputs": [
        {
          "output_type": "execute_result",
          "data": {
            "text/latex": "$\\displaystyle \\left[\\begin{matrix}2 & 0\\\\2 & -2\\end{matrix}\\right]$",
            "text/plain": [
              "⎡2  0 ⎤\n",
              "⎢     ⎥\n",
              "⎣2  -2⎦"
            ]
          },
          "metadata": {},
          "execution_count": 15
        }
      ]
    },
    {
      "cell_type": "code",
      "source": [
        "Q,R = A.QRdecomposition()\n",
        "A = R@Q\n",
        "A"
      ],
      "metadata": {
        "colab": {
          "base_uri": "https://localhost:8080/",
          "height": 58
        },
        "id": "lcVy2iRXXRIL",
        "outputId": "ee61a49c-6c31-4c9b-f188-58334c4400b8"
      },
      "execution_count": 16,
      "outputs": [
        {
          "output_type": "execute_result",
          "data": {
            "text/latex": "$\\displaystyle \\left[\\begin{matrix}1 & 3\\\\1 & -1\\end{matrix}\\right]$",
            "text/plain": [
              "⎡1  3 ⎤\n",
              "⎢     ⎥\n",
              "⎣1  -1⎦"
            ]
          },
          "metadata": {},
          "execution_count": 16
        }
      ]
    },
    {
      "cell_type": "code",
      "source": [
        "A = Matrix([[1,2], [1,-2]])\n",
        "A"
      ],
      "metadata": {
        "colab": {
          "base_uri": "https://localhost:8080/",
          "height": 58
        },
        "id": "Be1bBYL_e4eM",
        "outputId": "08c6465c-5564-46c3-a519-997a97ebd633"
      },
      "execution_count": 17,
      "outputs": [
        {
          "output_type": "execute_result",
          "data": {
            "text/latex": "$\\displaystyle \\left[\\begin{matrix}1 & 2\\\\1 & -2\\end{matrix}\\right]$",
            "text/plain": [
              "⎡1  2 ⎤\n",
              "⎢     ⎥\n",
              "⎣1  -2⎦"
            ]
          },
          "metadata": {},
          "execution_count": 17
        }
      ]
    },
    {
      "cell_type": "code",
      "source": [
        "A.eigenvals()"
      ],
      "metadata": {
        "colab": {
          "base_uri": "https://localhost:8080/",
          "height": 68
        },
        "id": "Rk8Jaaxge7fz",
        "outputId": "e37d0a4e-fefc-46ed-c6b5-b235ee7b68cb"
      },
      "execution_count": 18,
      "outputs": [
        {
          "output_type": "execute_result",
          "data": {
            "image/png": "[encoded data removed]",
            "text/latex": "$\\displaystyle \\left\\{ - \\frac{1}{2} + \\frac{\\sqrt{17}}{2} : 1, \\  - \\frac{\\sqrt{17}}{2} - \\frac{1}{2} : 1\\right\\}$",
            "text/plain": [
              "⎧  1   √17       √17   1   ⎫\n",
              "⎨- ─ + ───: 1, - ─── - ─: 1⎬\n",
              "⎩  2    2         2    2   ⎭"
            ]
          },
          "metadata": {},
          "execution_count": 18
        }
      ]
    },
    {
      "cell_type": "code",
      "source": [
        "N(Matrix([[k  for  k in  A.eigenvals().keys()]]))"
      ],
      "metadata": {
        "colab": {
          "base_uri": "https://localhost:8080/",
          "height": 38
        },
        "id": "pqlUXsQCfDlT",
        "outputId": "47b31992-b021-4de2-b383-3754e40b3257"
      },
      "execution_count": 19,
      "outputs": [
        {
          "output_type": "execute_result",
          "data": {
            "text/latex": "$\\displaystyle \\left[\\begin{matrix}-2.56155281280883 & 1.56155281280883\\end{matrix}\\right]$",
            "text/plain": [
              "[-2.56155281280883  1.56155281280883]"
            ]
          },
          "metadata": {},
          "execution_count": 19
        }
      ]
    },
    {
      "cell_type": "code",
      "source": [
        "A = Matrix([[1,2], [1,-2]])\n",
        "for i in range(100):\n",
        "  Q,R = A.QRdecomposition()\n",
        "  A = R@Q\n",
        "A"
      ],
      "metadata": {
        "colab": {
          "base_uri": "https://localhost:8080/",
          "height": 78
        },
        "id": "NlBj20O8e04F",
        "outputId": "92eb232e-f9e8-4e95-8cb8-5260a1ea9895"
      },
      "execution_count": 20,
      "outputs": [
        {
          "output_type": "execute_result",
          "data": {
            "text/latex": "$\\displaystyle \\left[\\begin{matrix}- \\frac{497422944880832545996882813562685212175059721740002565011450978727915886499213609}{194188049683578951089428053264295846277874608108721218235731152944315861854745701} & \\frac{194188049683578951090231522286425341415645589154891799536992254441207258272396389}{194188049683578951089428053264295846277874608108721218235731152944315861854745701}\\\\\\frac{803469022129495137770981046170581301261101496891396417650688}{194188049683578951089428053264295846277874608108721218235731152944315861854745701} & \\frac{303234895197253594907454760298389365897185113631281346775719825783600024644467908}{194188049683578951089428053264295846277874608108721218235731152944315861854745701}\\end{matrix}\\right]$",
            "text/plain": [
              "⎡-4974229448808325459968828135626852121750597217400025650114509787279158864992\n",
              "⎢─────────────────────────────────────────────────────────────────────────────\n",
              "⎢ 1941880496835789510894280532642958462778746081087212182357311529443158618547\n",
              "⎢                                                                             \n",
              "⎢            803469022129495137770981046170581301261101496891396417650688     \n",
              "⎢ ────────────────────────────────────────────────────────────────────────────\n",
              "⎣ 1941880496835789510894280532642958462778746081087212182357311529443158618547\n",
              "\n",
              "13609   1941880496835789510902315222864253414156455891548917995369922544412072\n",
              "──────  ──────────────────────────────────────────────────────────────────────\n",
              "45701   1941880496835789510894280532642958462778746081087212182357311529443158\n",
              "                                                                              \n",
              "        3032348951972535949074547602983893658971851136312813467757198257836000\n",
              "─────   ──────────────────────────────────────────────────────────────────────\n",
              "45701   1941880496835789510894280532642958462778746081087212182357311529443158\n",
              "\n",
              "58272396389⎤\n",
              "───────────⎥\n",
              "61854745701⎥\n",
              "           ⎥\n",
              "24644467908⎥\n",
              "───────────⎥\n",
              "61854745701⎦"
            ]
          },
          "metadata": {},
          "execution_count": 20
        }
      ]
    },
    {
      "cell_type": "code",
      "source": [
        "np.round(np.array(N(A)).astype(np.float64),5)"
      ],
      "metadata": {
        "colab": {
          "base_uri": "https://localhost:8080/"
        },
        "id": "1ztbt5OUfiMW",
        "outputId": "fcb72105-bf44-473e-e2a5-8abd227ac626"
      },
      "execution_count": 21,
      "outputs": [
        {
          "output_type": "execute_result",
          "data": {
            "text/plain": [
              "array([[-2.56155,  1.     ],\n",
              "       [ 0.     ,  1.56155]])"
            ]
          },
          "metadata": {},
          "execution_count": 21
        }
      ]
    },
    {
      "cell_type": "code",
      "source": [
        "# https://opencurve.info/real-eigenvalues-and-eigenvectors-of-3x3-matrices-example-3/\n",
        "\n",
        "A = Matrix([[5,2,0], [2,5,0],[-3,4,6]])\n",
        "A"
      ],
      "metadata": {
        "colab": {
          "base_uri": "https://localhost:8080/",
          "height": 78
        },
        "id": "bC4OqveuC8hn",
        "outputId": "e190b724-0f8b-4934-88af-21946b11c419"
      },
      "execution_count": 22,
      "outputs": [
        {
          "output_type": "execute_result",
          "data": {
            "text/latex": "$\\displaystyle \\left[\\begin{matrix}5 & 2 & 0\\\\2 & 5 & 0\\\\-3 & 4 & 6\\end{matrix}\\right]$",
            "text/plain": [
              "⎡5   2  0⎤\n",
              "⎢        ⎥\n",
              "⎢2   5  0⎥\n",
              "⎢        ⎥\n",
              "⎣-3  4  6⎦"
            ]
          },
          "metadata": {},
          "execution_count": 22
        }
      ]
    },
    {
      "cell_type": "code",
      "source": [
        "V=A.eigenvals()\n",
        "V"
      ],
      "metadata": {
        "colab": {
          "base_uri": "https://localhost:8080/",
          "height": 37
        },
        "id": "3XcpOG0iLBOH",
        "outputId": "7678ba7b-2875-4ae1-add4-ca4ea14a2835"
      },
      "execution_count": 23,
      "outputs": [
        {
          "output_type": "execute_result",
          "data": {
            "image/png": "[encoded data removed]",
            "text/latex": "$\\displaystyle \\left\\{ 3 : 1, \\  6 : 1, \\  7 : 1\\right\\}$",
            "text/plain": [
              "{3: 1, 6: 1, 7: 1}"
            ]
          },
          "metadata": {},
          "execution_count": 23
        }
      ]
    },
    {
      "cell_type": "code",
      "source": [
        "A = np.array([[5,2,0], [2,5,0],[-3,4,6]])\n",
        "for i in range(100):\n",
        "  Q,R = np.linalg.qr(A)\n",
        "  A = R@Q\n",
        "A.round(5)"
      ],
      "metadata": {
        "colab": {
          "base_uri": "https://localhost:8080/"
        },
        "id": "8cOUea4cjGH8",
        "outputId": "24013d8a-3998-4bd7-aa98-d8a3e7e553d7"
      },
      "execution_count": 24,
      "outputs": [
        {
          "output_type": "execute_result",
          "data": {
            "text/plain": [
              "array([[ 7.     , -0.70711, -2.85774],\n",
              "       [ 0.     ,  6.     , -4.04145],\n",
              "       [-0.     ,  0.     ,  3.     ]])"
            ]
          },
          "metadata": {},
          "execution_count": 24
        }
      ]
    },
    {
      "cell_type": "code",
      "source": [
        "A = Matrix([[5,2,0], [2,5,0],[-3,4,6]])\n",
        "for i in range(4):\n",
        "  Q,R = A.QRdecomposition()\n",
        "  A = R@Q\n",
        "A"
      ],
      "metadata": {
        "colab": {
          "base_uri": "https://localhost:8080/",
          "height": 186
        },
        "id": "YK2VvA_tZMgD",
        "outputId": "d0d34845-e98b-47d3-e18d-ea8e80c1105a"
      },
      "execution_count": 25,
      "outputs": [
        {
          "output_type": "execute_result",
          "data": {
            "text/latex": "$\\displaystyle \\left[\\begin{matrix}\\frac{3980465}{605651} & \\frac{3500050696 \\sqrt{17467313587651361366}}{75273554821154065423} & \\frac{\\sqrt{8462761423} \\left(- \\frac{3445555069479966368877142 \\sqrt{110110290106228127195276860221880797}}{2859873981466763911913045456007084624730889} - \\frac{226504222207808257470 \\sqrt{543726092536963809902534767491925617885792477}}{198387171324433333518303669535117318523656763} + \\frac{181011468140 \\sqrt{2983984019637}}{602417635159056229}\\right)}{13973 \\sqrt{\\left(- \\frac{3445555069479966368877142 \\sqrt{110110290106228127195276860221880797}}{2859873981466763911913045456007084624730889} - \\frac{226504222207808257470 \\sqrt{543726092536963809902534767491925617885792477}}{198387171324433333518303669535117318523656763} + \\frac{181011468140 \\sqrt{2983984019637}}{602417635159056229}\\right)^{2} + \\frac{344431157842182660456116}{43709653784434081813037}}} + \\frac{21394896081314 \\sqrt{129338932618419}}{44903191139274484047 \\sqrt{\\left(- \\frac{3445555069479966368877142 \\sqrt{110110290106228127195276860221880797}}{2859873981466763911913045456007084624730889} - \\frac{226504222207808257470 \\sqrt{543726092536963809902534767491925617885792477}}{198387171324433333518303669535117318523656763} + \\frac{181011468140 \\sqrt{2983984019637}}{602417635159056229}\\right)^{2} + \\frac{344431157842182660456116}{43709653784434081813037}}}\\\\- \\frac{111132 \\sqrt{129338932618419} \\left(- \\frac{18182335794443113 \\sqrt{457512666202974409640994}}{3196412242427080712956804581} - \\frac{398424031735 \\sqrt{2259203695138034068986268356600354}}{73910853796509835070808691909}\\right)}{43112977539473} + \\frac{518635737 \\sqrt{17467313587651361366}}{3029592044676307183} & \\frac{4129910708 \\sqrt{457512666202974409640994} \\left(- \\frac{18182335794443113 \\sqrt{457512666202974409640994}}{3196412242427080712956804581} - \\frac{398424031735 \\sqrt{2259203695138034068986268356600354}}{73910853796509835070808691909}\\right)}{76252111033829068273499} + \\frac{291985527586887}{43112977539473} & \\frac{4962084778 \\left(- \\frac{18182335794443113 \\sqrt{457512666202974409640994}}{3196412242427080712956804581} - \\frac{398424031735 \\sqrt{2259203695138034068986268356600354}}{73910853796509835070808691909}\\right)}{1768657963 \\sqrt{\\left(- \\frac{3445555069479966368877142 \\sqrt{110110290106228127195276860221880797}}{2859873981466763911913045456007084624730889} - \\frac{226504222207808257470 \\sqrt{543726092536963809902534767491925617885792477}}{198387171324433333518303669535117318523656763} + \\frac{181011468140 \\sqrt{2983984019637}}{602417635159056229}\\right)^{2} + \\frac{344431157842182660456116}{43709653784434081813037}}} - \\frac{71996693328 \\sqrt{457512666202974409640994}}{76252111033829068273499 \\sqrt{\\left(- \\frac{3445555069479966368877142 \\sqrt{110110290106228127195276860221880797}}{2859873981466763911913045456007084624730889} - \\frac{226504222207808257470 \\sqrt{543726092536963809902534767491925617885792477}}{198387171324433333518303669535117318523656763} + \\frac{181011468140 \\sqrt{2983984019637}}{602417635159056229}\\right)^{2} + \\frac{344431157842182660456116}{43709653784434081813037}}}\\\\- \\frac{111132 \\sqrt{129338932618419} \\sqrt{\\left(- \\frac{3445555069479966368877142 \\sqrt{110110290106228127195276860221880797}}{2859873981466763911913045456007084624730889} - \\frac{226504222207808257470 \\sqrt{543726092536963809902534767491925617885792477}}{198387171324433333518303669535117318523656763} + \\frac{181011468140 \\sqrt{2983984019637}}{602417635159056229}\\right)^{2} + \\frac{344431157842182660456116}{43709653784434081813037}}}{43112977539473} & \\frac{4129910708 \\sqrt{457512666202974409640994} \\sqrt{\\left(- \\frac{3445555069479966368877142 \\sqrt{110110290106228127195276860221880797}}{2859873981466763911913045456007084624730889} - \\frac{226504222207808257470 \\sqrt{543726092536963809902534767491925617885792477}}{198387171324433333518303669535117318523656763} + \\frac{181011468140 \\sqrt{2983984019637}}{602417635159056229}\\right)^{2} + \\frac{344431157842182660456116}{43709653784434081813037}}}{76252111033829068273499} & \\frac{4962084778}{1768657963}\\end{matrix}\\right]$",
            "text/plain": [
              "⎡                                                                             \n",
              "⎢                                                                             \n",
              "⎢                                                                             \n",
              "⎢                                                                             \n",
              "⎢                                                                             \n",
              "⎢                                                                             \n",
              "⎢                                                                             \n",
              "⎢                                                                             \n",
              "⎢                                                                             \n",
              "⎢                                                                             \n",
              "⎢                                                             ⎛  1818233579444\n",
              "⎢                                     111132⋅√129338932618419⋅⎜- ─────────────\n",
              "⎢                                                             ⎝          31964\n",
              "⎢                                   - ────────────────────────────────────────\n",
              "⎢                                                                             \n",
              "⎢                                                                             \n",
              "⎢                                                                             \n",
              "⎢                                                                             \n",
              "⎢                                                                             \n",
              "⎢                                                                             \n",
              "⎢                              _______________________________________________\n",
              "⎢                             ╱                                               \n",
              "⎢                            ╱  ⎛  3445555069479966368877142⋅√1101102901062281\n",
              "⎢-111132⋅√129338932618419⋅  ╱   ⎜- ───────────────────────────────────────────\n",
              "⎢                         ╲╱    ⎝            285987398146676391191304545600708\n",
              "⎢─────────────────────────────────────────────────────────────────────────────\n",
              "⎣                                                                             \n",
              "\n",
              "                                                                              \n",
              "                                                                              \n",
              "                                  3980465                                     \n",
              "                                  ───────                                     \n",
              "                                   605651                                     \n",
              "                                                                              \n",
              "                                                                              \n",
              "                                                                              \n",
              "                                                                              \n",
              "                                                                              \n",
              "3113⋅√457512666202974409640994   398424031735⋅√2259203695138034068986268356600\n",
              "────────────────────────────── - ─────────────────────────────────────────────\n",
              "12242427080712956804581                   73910853796509835070808691909       \n",
              "──────────────────────────────────────────────────────────────────────────────\n",
              "              43112977539473                                                  \n",
              "                                                                              \n",
              "                                                                              \n",
              "                                                                              \n",
              "                                                                              \n",
              "                                                                              \n",
              "______________________________________________________________________________\n",
              "                                                                              \n",
              "27195276860221880797   226504222207808257470⋅√54372609253696380990253476749192\n",
              "──────────────────── - ───────────────────────────────────────────────────────\n",
              "4624730889                        19838717132443333351830366953511731852365676\n",
              "──────────────────────────────────────────────────────────────────────────────\n",
              "                               43112977539473                                 \n",
              "\n",
              "                                                                              \n",
              "                                                                              \n",
              "                                                                              \n",
              "                                                                              \n",
              "                                                                              \n",
              "                                                                              \n",
              "                                                                              \n",
              "                                                                              \n",
              "                                                                              \n",
              "                                                                              \n",
              "354⎞                                                                          \n",
              "───⎟                                                                          \n",
              "   ⎠   518635737⋅√17467313587651361366                                        \n",
              "──── + ───────────────────────────────                                        \n",
              "             3029592044676307183                                              \n",
              "                                                                              \n",
              "                                                                              \n",
              "                                                                              \n",
              "                                                                              \n",
              "                                                                              \n",
              "_________________________________________________________________________     \n",
              "                                            2                                 \n",
              "5617885792477   181011468140⋅√2983984019637⎞    344431157842182660456116      \n",
              "───────────── + ───────────────────────────⎟  + ────────────────────────    41\n",
              "3                    602417635159056229    ⎠    43709653784434081813037       \n",
              "──────────────────────────────────────────────────────────────────────────  ──\n",
              "                                                                              \n",
              "\n",
              "                                                                              \n",
              "                                                                              \n",
              "                                                                              \n",
              "                                                                              \n",
              "                                                                              \n",
              "                                                                              \n",
              "                                                                              \n",
              "                                                                              \n",
              "                                                                              \n",
              "                                                                              \n",
              "                                                                              \n",
              "                                         4129910708⋅√457512666202974409640994⋅\n",
              "                                                                              \n",
              "                                         ─────────────────────────────────────\n",
              "                                                                              \n",
              "                                                                              \n",
              "                                                                              \n",
              "                                                                              \n",
              "                                                                              \n",
              "                                                                              \n",
              "                                        ______________________________________\n",
              "                                       ╱                                      \n",
              "                                      ╱  ⎛  3445555069479966368877142⋅√1101102\n",
              "29910708⋅√457512666202974409640994⋅  ╱   ⎜- ──────────────────────────────────\n",
              "                                   ╲╱    ⎝            285987398146676391191304\n",
              "──────────────────────────────────────────────────────────────────────────────\n",
              "                                                                              \n",
              "\n",
              "                                                                              \n",
              "                                                                              \n",
              "                        3500050696⋅√17467313587651361366                      \n",
              "                        ────────────────────────────────                      \n",
              "                              75273554821154065423                            \n",
              "                                                                              \n",
              "                                                                              \n",
              "                                                                              \n",
              "                                                                              \n",
              "                                                                              \n",
              "⎛  18182335794443113⋅√457512666202974409640994   398424031735⋅√225920369513803\n",
              "⎜- ─────────────────────────────────────────── - ─────────────────────────────\n",
              "⎝          3196412242427080712956804581                   73910853796509835070\n",
              "──────────────────────────────────────────────────────────────────────────────\n",
              "                   76252111033829068273499                                    \n",
              "                                                                              \n",
              "                                                                              \n",
              "                                                                              \n",
              "                                                                              \n",
              "                                                                              \n",
              "______________________________________________________________________________\n",
              "                                                                              \n",
              "90106228127195276860221880797   226504222207808257470⋅√54372609253696380990253\n",
              "───────────────────────────── - ──────────────────────────────────────────────\n",
              "5456007084624730889                        19838717132443333351830366953511731\n",
              "──────────────────────────────────────────────────────────────────────────────\n",
              "                            76252111033829068273499                           \n",
              "\n",
              "                                                                              \n",
              "                                                                              \n",
              "                                                                              \n",
              "                                                                              \n",
              "                                                                              \n",
              "                                                                              \n",
              "                                                                              \n",
              "                                                                              \n",
              "                                                                              \n",
              "                                                                              \n",
              "4068986268356600354⎞                                                          \n",
              "───────────────────⎟                                                          \n",
              "808691909          ⎠   291985527586887                                        \n",
              "──────────────────── + ───────────────                                        \n",
              "                        43112977539473                                        \n",
              "                                                                              \n",
              "                                                                              \n",
              "                                                                              \n",
              "                                                                              \n",
              "                                                                              \n",
              "______________________________________________________________________________\n",
              "                                                     2                        \n",
              "4767491925617885792477   181011468140⋅√2983984019637⎞    344431157842182660456\n",
              "────────────────────── + ───────────────────────────⎟  + ─────────────────────\n",
              "8523656763                    602417635159056229    ⎠    437096537844340818130\n",
              "──────────────────────────────────────────────────────────────────────────────\n",
              "                                                                              \n",
              "\n",
              "                                     ⎛  3445555069479966368877142⋅√11011029010\n",
              "                         √8462761423⋅⎜- ──────────────────────────────────────\n",
              "                                     ⎝            2859873981466763911913045456\n",
              "          ────────────────────────────────────────────────────────────────────\n",
              "                     _________________________________________________________\n",
              "                    ╱                                                         \n",
              "                   ╱  ⎛  3445555069479966368877142⋅√11011029010622812719527686\n",
              "          13973⋅  ╱   ⎜- ─────────────────────────────────────────────────────\n",
              "                ╲╱    ⎝            2859873981466763911913045456007084624730889\n",
              "                                                                              \n",
              "                                                                     ⎛  181823\n",
              "                                                          4962084778⋅⎜- ──────\n",
              "                                                                     ⎝        \n",
              "      ────────────────────────────────────────────────────────────────────────\n",
              "                      ________________________________________________________\n",
              "                     ╱                                                        \n",
              "                    ╱  ⎛  3445555069479966368877142⋅√1101102901062281271952768\n",
              "      1768657963⋅  ╱   ⎜- ────────────────────────────────────────────────────\n",
              "                 ╲╱    ⎝            285987398146676391191304545600708462473088\n",
              "                                                                              \n",
              "____                                                                          \n",
              "                                                                              \n",
              "116                                                                           \n",
              "───                                                                           \n",
              "37                                                                            \n",
              "────                                                                          \n",
              "                                                                              \n",
              "\n",
              "6228127195276860221880797   226504222207808257470⋅√543726092536963809902534767\n",
              "───────────────────────── - ──────────────────────────────────────────────────\n",
              "007084624730889                        198387171324433333518303669535117318523\n",
              "──────────────────────────────────────────────────────────────────────────────\n",
              "______________________________________________________________________________\n",
              "                                                                              \n",
              "0221880797   226504222207808257470⋅√543726092536963809902534767491925617885792\n",
              "────────── - ─────────────────────────────────────────────────────────────────\n",
              "                        198387171324433333518303669535117318523656763         \n",
              "                                                                              \n",
              "35794443113⋅√457512666202974409640994   398424031735⋅√225920369513803406898626\n",
              "───────────────────────────────────── - ──────────────────────────────────────\n",
              "  3196412242427080712956804581                   73910853796509835070808691909\n",
              "──────────────────────────────────────────────────────────────────────────────\n",
              "______________________________________________________________________________\n",
              "                                                                              \n",
              "60221880797   226504222207808257470⋅√54372609253696380990253476749192561788579\n",
              "─────────── - ────────────────────────────────────────────────────────────────\n",
              "9                        198387171324433333518303669535117318523656763        \n",
              "                                                                              \n",
              "                                                                              \n",
              "                                                                              \n",
              "                                                                              \n",
              "                                                                              \n",
              "                                                                              \n",
              "                                                                              \n",
              "                                                                              \n",
              "\n",
              "491925617885792477   181011468140⋅√2983984019637⎞                             \n",
              "────────────────── + ───────────────────────────⎟                             \n",
              "656763                    602417635159056229    ⎠                             \n",
              "─────────────────────────────────────────────────────────────── + ────────────\n",
              "_______________________________________________________________               \n",
              "                                  2                                           \n",
              "477   181011468140⋅√2983984019637⎞    344431157842182660456116                \n",
              "─── + ───────────────────────────⎟  + ────────────────────────    449031911392\n",
              "           602417635159056229    ⎠    43709653784434081813037                 \n",
              "                                                                              \n",
              "8356600354⎞                                                                   \n",
              "──────────⎟                                                                   \n",
              "          ⎠                                                                   \n",
              "──────────────────────────────────────────────────────────────── - ───────────\n",
              "________________________________________________________________              \n",
              "                                   2                                          \n",
              "2477   181011468140⋅√2983984019637⎞    344431157842182660456116               \n",
              "──── + ───────────────────────────⎟  + ────────────────────────    76252111033\n",
              "            602417635159056229    ⎠    43709653784434081813037                \n",
              "                                                                              \n",
              "                                                                              \n",
              "                                                                              \n",
              "                                                                              \n",
              "                                                                              \n",
              "                                                                   4962084778 \n",
              "                                                                   ────────── \n",
              "                                                                   1768657963 \n",
              "\n",
              "                                                                              \n",
              "                                                                              \n",
              "                                                                              \n",
              "──────────────────────────────────────────────────────────────────────────────\n",
              "              ________________________________________________________________\n",
              "             ╱                                                                \n",
              "            ╱  ⎛  3445555069479966368877142⋅√110110290106228127195276860221880\n",
              "74484047⋅  ╱   ⎜- ────────────────────────────────────────────────────────────\n",
              "         ╲╱    ⎝            2859873981466763911913045456007084624730889       \n",
              "                                                                              \n",
              "                                                                              \n",
              "                                                                              \n",
              "                                                                              \n",
              "──────────────────────────────────────────────────────────────────────────────\n",
              "                  ____________________________________________________________\n",
              "                 ╱                                                            \n",
              "                ╱  ⎛  3445555069479966368877142⋅√11011029010622812719527686022\n",
              "829068273499⋅  ╱   ⎜- ────────────────────────────────────────────────────────\n",
              "             ╲╱    ⎝            2859873981466763911913045456007084624730889   \n",
              "                                                                              \n",
              "                                                                              \n",
              "                                                                              \n",
              "                                                                              \n",
              "                                                                              \n",
              "                                                                              \n",
              "                                                                              \n",
              "                                                                              \n",
              "\n",
              "                                                                              \n",
              "                                                                              \n",
              "      21394896081314⋅√129338932618419                                         \n",
              "──────────────────────────────────────────────────────────────────────────────\n",
              "______________________________________________________________________________\n",
              "                                                                              \n",
              "797   226504222207808257470⋅√543726092536963809902534767491925617885792477   1\n",
              "─── - ──────────────────────────────────────────────────────────────────── + ─\n",
              "                 198387171324433333518303669535117318523656763                \n",
              "                                                                              \n",
              "                                                                              \n",
              "                                                                              \n",
              "      71996693328⋅√457512666202974409640994                                   \n",
              "──────────────────────────────────────────────────────────────────────────────\n",
              "______________________________________________________________________________\n",
              "                                                                              \n",
              "1880797   226504222207808257470⋅√543726092536963809902534767491925617885792477\n",
              "─────── - ────────────────────────────────────────────────────────────────────\n",
              "                     198387171324433333518303669535117318523656763            \n",
              "                                                                              \n",
              "                                                                              \n",
              "                                                                              \n",
              "                                                                              \n",
              "                                                                              \n",
              "                                                                              \n",
              "                                                                              \n",
              "                                                                              \n",
              "\n",
              "                                                            ⎤\n",
              "                                                            ⎥\n",
              "                                                            ⎥\n",
              "────────────────────────────────────────────────────────    ⎥\n",
              "________________________________________________________    ⎥\n",
              "                           2                                ⎥\n",
              "81011468140⋅√2983984019637⎞    344431157842182660456116     ⎥\n",
              "──────────────────────────⎟  + ────────────────────────     ⎥\n",
              "    602417635159056229    ⎠    43709653784434081813037      ⎥\n",
              "                                                            ⎥\n",
              "                                                            ⎥\n",
              "                                                            ⎥\n",
              "                                                            ⎥\n",
              "────────────────────────────────────────────────────────────⎥\n",
              "____________________________________________________________⎥\n",
              "                               2                            ⎥\n",
              "   181011468140⋅√2983984019637⎞    344431157842182660456116 ⎥\n",
              " + ───────────────────────────⎟  + ──────────────────────── ⎥\n",
              "        602417635159056229    ⎠    43709653784434081813037  ⎥\n",
              "                                                            ⎥\n",
              "                                                            ⎥\n",
              "                                                            ⎥\n",
              "                                                            ⎥\n",
              "                                                            ⎥\n",
              "                                                            ⎥\n",
              "                                                            ⎥\n",
              "                                                            ⎦"
            ]
          },
          "metadata": {},
          "execution_count": 25
        }
      ]
    },
    {
      "cell_type": "code",
      "source": [
        "np.round(np.array(N(A)).astype(np.float64),5)\n"
      ],
      "metadata": {
        "colab": {
          "base_uri": "https://localhost:8080/"
        },
        "id": "KfzZSElxGXCJ",
        "outputId": "ba8cc6ba-1263-4403-a083-abef26e70855"
      },
      "execution_count": 26,
      "outputs": [
        {
          "output_type": "execute_result",
          "data": {
            "text/plain": [
              "array([[ 6.57221,  0.19433,  2.14645],\n",
              "       [ 0.83577,  6.62223, -4.32667],\n",
              "       [-0.08234,  0.10289,  2.80556]])"
            ]
          },
          "metadata": {},
          "execution_count": 26
        }
      ]
    },
    {
      "cell_type": "code",
      "source": [
        "A = Matrix([[2,-2,-12], [4,2,-18], [-4,-8,30]])\n",
        "A"
      ],
      "metadata": {
        "colab": {
          "base_uri": "https://localhost:8080/",
          "height": 78
        },
        "id": "NshtIsu7iKG0",
        "outputId": "b15b7a77-e119-4c1b-e427-df699936197b"
      },
      "execution_count": 27,
      "outputs": [
        {
          "output_type": "execute_result",
          "data": {
            "text/latex": "$\\displaystyle \\left[\\begin{matrix}2 & -2 & -12\\\\4 & 2 & -18\\\\-4 & -8 & 30\\end{matrix}\\right]$",
            "text/plain": [
              "⎡2   -2  -12⎤\n",
              "⎢           ⎥\n",
              "⎢4   2   -18⎥\n",
              "⎢           ⎥\n",
              "⎣-4  -8  30 ⎦"
            ]
          },
          "metadata": {},
          "execution_count": 27
        }
      ]
    },
    {
      "cell_type": "code",
      "source": [
        "A.QRdecomposition()"
      ],
      "metadata": {
        "colab": {
          "base_uri": "https://localhost:8080/",
          "height": 78
        },
        "id": "abh0vHyAHCW4",
        "outputId": "433f56cc-d115-4964-d7a4-c13b9ea96dfa"
      },
      "execution_count": 28,
      "outputs": [
        {
          "output_type": "execute_result",
          "data": {
            "text/latex": "$\\displaystyle \\left( \\left[\\begin{matrix}\\frac{1}{3} & - \\frac{2}{3} & - \\frac{2}{3}\\\\\\frac{2}{3} & - \\frac{1}{3} & \\frac{2}{3}\\\\- \\frac{2}{3} & - \\frac{2}{3} & \\frac{1}{3}\\end{matrix}\\right], \\  \\left[\\begin{matrix}6 & 6 & -36\\\\0 & 6 & -6\\\\0 & 0 & 6\\end{matrix}\\right]\\right)$",
            "text/plain": [
              "⎛⎡1/3   -2/3  -2/3⎤  ⎡6  6  -36⎤⎞\n",
              "⎜⎢                ⎥  ⎢         ⎥⎟\n",
              "⎜⎢2/3   -1/3  2/3 ⎥, ⎢0  6  -6 ⎥⎟\n",
              "⎜⎢                ⎥  ⎢         ⎥⎟\n",
              "⎝⎣-2/3  -2/3  1/3 ⎦  ⎣0  0   6 ⎦⎠"
            ]
          },
          "metadata": {},
          "execution_count": 28
        }
      ]
    },
    {
      "cell_type": "code",
      "source": [
        "Q,R = A.QRdecomposition()"
      ],
      "metadata": {
        "id": "ZWCUcdSZpITN"
      },
      "execution_count": 29,
      "outputs": []
    },
    {
      "cell_type": "code",
      "source": [
        "from sympy import latex\n",
        "print(latex(Q))"
      ],
      "metadata": {
        "colab": {
          "base_uri": "https://localhost:8080/"
        },
        "id": "tmj4CFiSIHaB",
        "outputId": "b7db9881-b552-417f-a953-02fcb6b49128"
      },
      "execution_count": 30,
      "outputs": [
        {
          "output_type": "stream",
          "name": "stdout",
          "text": [
            "\\left[\\begin{matrix}\\frac{1}{3} & - \\frac{2}{3} & - \\frac{2}{3}\\\\\\frac{2}{3} & - \\frac{1}{3} & \\frac{2}{3}\\\\- \\frac{2}{3} & - \\frac{2}{3} & \\frac{1}{3}\\end{matrix}\\right]\n"
          ]
        }
      ]
    },
    {
      "cell_type": "markdown",
      "source": [
        "$$\\left[\\begin{matrix}\\frac{1}{3} & - \\frac{2}{3} & - \\frac{2}{3}\\\\\\frac{2}{3} & - \\frac{1}{3} & \\frac{2}{3}\\\\- \\frac{2}{3} & - \\frac{2}{3} & \\frac{1}{3}\\end{matrix}\\right]$$"
      ],
      "metadata": {
        "id": "uIudqbR_gyUP"
      }
    },
    {
      "cell_type": "code",
      "source": [
        "# Q is ortonormal rows\n",
        "\n",
        "Q.transpose()@Q"
      ],
      "metadata": {
        "colab": {
          "base_uri": "https://localhost:8080/",
          "height": 78
        },
        "id": "nWUtYC_qHf8g",
        "outputId": "844de045-363d-46cd-c79f-ad91bd5b5232"
      },
      "execution_count": 31,
      "outputs": [
        {
          "output_type": "execute_result",
          "data": {
            "text/latex": "$\\displaystyle \\left[\\begin{matrix}1 & 0 & 0\\\\0 & 1 & 0\\\\0 & 0 & 1\\end{matrix}\\right]$",
            "text/plain": [
              "⎡1  0  0⎤\n",
              "⎢       ⎥\n",
              "⎢0  1  0⎥\n",
              "⎢       ⎥\n",
              "⎣0  0  1⎦"
            ]
          },
          "metadata": {},
          "execution_count": 31
        }
      ]
    },
    {
      "cell_type": "code",
      "source": [
        "# Q is ortonormal columns\n",
        "\n",
        "Q@Q.transpose()"
      ],
      "metadata": {
        "colab": {
          "base_uri": "https://localhost:8080/",
          "height": 78
        },
        "id": "PoAAx3fLKP0h",
        "outputId": "9c1279ba-969b-48e8-9888-bcc29f58772b"
      },
      "execution_count": 32,
      "outputs": [
        {
          "output_type": "execute_result",
          "data": {
            "text/latex": "$\\displaystyle \\left[\\begin{matrix}1 & 0 & 0\\\\0 & 1 & 0\\\\0 & 0 & 1\\end{matrix}\\right]$",
            "text/plain": [
              "⎡1  0  0⎤\n",
              "⎢       ⎥\n",
              "⎢0  1  0⎥\n",
              "⎢       ⎥\n",
              "⎣0  0  1⎦"
            ]
          },
          "metadata": {},
          "execution_count": 32
        }
      ]
    },
    {
      "cell_type": "markdown",
      "source": [
        "# Jacobi Iterations with SymPy"
      ],
      "metadata": {
        "id": "LcIEaNyKgZ1n"
      }
    },
    {
      "cell_type": "code",
      "source": [
        "import numpy as np\n",
        "from sympy import Matrix, Rational, ones, N\n",
        "\n",
        "# A   “close” to a diagonal matrix.\n",
        "n = 4\n",
        "A =  Matrix(np.diag(np.arange(1,n+1)))\n",
        "A"
      ],
      "metadata": {
        "colab": {
          "base_uri": "https://localhost:8080/",
          "height": 98
        },
        "id": "e23kWhn7RpqH",
        "outputId": "493058eb-06fd-44ae-acde-824c616853cd"
      },
      "execution_count": 33,
      "outputs": [
        {
          "output_type": "execute_result",
          "data": {
            "text/latex": "$\\displaystyle \\left[\\begin{matrix}1 & 0 & 0 & 0\\\\0 & 2 & 0 & 0\\\\0 & 0 & 3 & 0\\\\0 & 0 & 0 & 4\\end{matrix}\\right]$",
            "text/plain": [
              "⎡1  0  0  0⎤\n",
              "⎢          ⎥\n",
              "⎢0  2  0  0⎥\n",
              "⎢          ⎥\n",
              "⎢0  0  3  0⎥\n",
              "⎢          ⎥\n",
              "⎣0  0  0  4⎦"
            ]
          },
          "metadata": {},
          "execution_count": 33
        }
      ]
    },
    {
      "cell_type": "code",
      "source": [
        "P = Matrix(np.random.randint(1,10,size =(n,n)))\n",
        "P"
      ],
      "metadata": {
        "colab": {
          "base_uri": "https://localhost:8080/",
          "height": 98
        },
        "id": "jJfzTT6uRpIY",
        "outputId": "06ca8650-6197-4481-f4f5-91954a69f680"
      },
      "execution_count": 34,
      "outputs": [
        {
          "output_type": "execute_result",
          "data": {
            "text/latex": "$\\displaystyle \\left[\\begin{matrix}1 & 7 & 8 & 2\\\\3 & 3 & 4 & 5\\\\3 & 8 & 9 & 1\\\\5 & 9 & 4 & 3\\end{matrix}\\right]$",
            "text/plain": [
              "⎡1  7  8  2⎤\n",
              "⎢          ⎥\n",
              "⎢3  3  4  5⎥\n",
              "⎢          ⎥\n",
              "⎢3  8  9  1⎥\n",
              "⎢          ⎥\n",
              "⎣5  9  4  3⎦"
            ]
          },
          "metadata": {},
          "execution_count": 34
        }
      ]
    },
    {
      "cell_type": "code",
      "source": [
        "for i in range(n):\n",
        "  for j in range(n):\n",
        "      A[i,j] = A[i,j] + Rational(1,P[i,j])\n",
        "A\n"
      ],
      "metadata": {
        "colab": {
          "base_uri": "https://localhost:8080/",
          "height": 99
        },
        "id": "A2ECTre6TbDR",
        "outputId": "948a3a0c-78ca-4c83-99fc-c5d6ff77d69b"
      },
      "execution_count": 35,
      "outputs": [
        {
          "output_type": "execute_result",
          "data": {
            "text/latex": "$\\displaystyle \\left[\\begin{matrix}2 & \\frac{1}{7} & \\frac{1}{8} & \\frac{1}{2}\\\\\\frac{1}{3} & \\frac{7}{3} & \\frac{1}{4} & \\frac{1}{5}\\\\\\frac{1}{3} & \\frac{1}{8} & \\frac{28}{9} & 1\\\\\\frac{1}{5} & \\frac{1}{9} & \\frac{1}{4} & \\frac{13}{3}\\end{matrix}\\right]$",
            "text/plain": [
              "⎡ 2   1/7  1/8   1/2 ⎤\n",
              "⎢                    ⎥\n",
              "⎢1/3  7/3  1/4   1/5 ⎥\n",
              "⎢                    ⎥\n",
              "⎢1/3  1/8  28/9   1  ⎥\n",
              "⎢                    ⎥\n",
              "⎣1/5  1/9  1/4   13/3⎦"
            ]
          },
          "metadata": {},
          "execution_count": 35
        }
      ]
    },
    {
      "cell_type": "code",
      "source": [
        "x_sol= Matrix(2*ones(n,1)) \n",
        "x_sol"
      ],
      "metadata": {
        "colab": {
          "base_uri": "https://localhost:8080/",
          "height": 98
        },
        "id": "YxqoTqz8Vsq_",
        "outputId": "540380cd-f26e-44f8-9a67-8cd930e48813"
      },
      "execution_count": 36,
      "outputs": [
        {
          "output_type": "execute_result",
          "data": {
            "text/latex": "$\\displaystyle \\left[\\begin{matrix}2\\\\2\\\\2\\\\2\\end{matrix}\\right]$",
            "text/plain": [
              "⎡2⎤\n",
              "⎢ ⎥\n",
              "⎢2⎥\n",
              "⎢ ⎥\n",
              "⎢2⎥\n",
              "⎢ ⎥\n",
              "⎣2⎦"
            ]
          },
          "metadata": {},
          "execution_count": 36
        }
      ]
    },
    {
      "cell_type": "code",
      "source": [
        "b= A*x_sol\n",
        "b"
      ],
      "metadata": {
        "colab": {
          "base_uri": "https://localhost:8080/",
          "height": 99
        },
        "id": "9FgF7aNaWz5u",
        "outputId": "93c5164f-d39c-41ef-e73a-4f0ab39a25c7"
      },
      "execution_count": 37,
      "outputs": [
        {
          "output_type": "execute_result",
          "data": {
            "text/latex": "$\\displaystyle \\left[\\begin{matrix}\\frac{155}{28}\\\\\\frac{187}{30}\\\\\\frac{329}{36}\\\\\\frac{881}{90}\\end{matrix}\\right]$",
            "text/plain": [
              "⎡155⎤\n",
              "⎢───⎥\n",
              "⎢ 28⎥\n",
              "⎢   ⎥\n",
              "⎢187⎥\n",
              "⎢───⎥\n",
              "⎢ 30⎥\n",
              "⎢   ⎥\n",
              "⎢329⎥\n",
              "⎢───⎥\n",
              "⎢ 36⎥\n",
              "⎢   ⎥\n",
              "⎢881⎥\n",
              "⎢───⎥\n",
              "⎣ 90⎦"
            ]
          },
          "metadata": {},
          "execution_count": 37
        }
      ]
    },
    {
      "cell_type": "code",
      "source": [
        "D = Matrix(np.diag(np.diag(A)))\n",
        "D"
      ],
      "metadata": {
        "colab": {
          "base_uri": "https://localhost:8080/",
          "height": 99
        },
        "id": "XdxEspwMY8N4",
        "outputId": "c5692ff8-ed17-4888-a06c-413fcef38eea"
      },
      "execution_count": 38,
      "outputs": [
        {
          "output_type": "execute_result",
          "data": {
            "text/latex": "$\\displaystyle \\left[\\begin{matrix}2 & 0 & 0 & 0\\\\0 & \\frac{7}{3} & 0 & 0\\\\0 & 0 & \\frac{28}{9} & 0\\\\0 & 0 & 0 & \\frac{13}{3}\\end{matrix}\\right]$",
            "text/plain": [
              "⎡2   0    0     0  ⎤\n",
              "⎢                  ⎥\n",
              "⎢0  7/3   0     0  ⎥\n",
              "⎢                  ⎥\n",
              "⎢0   0   28/9   0  ⎥\n",
              "⎢                  ⎥\n",
              "⎣0   0    0    13/3⎦"
            ]
          },
          "metadata": {},
          "execution_count": 38
        }
      ]
    },
    {
      "cell_type": "code",
      "source": [
        "D.inv()"
      ],
      "metadata": {
        "colab": {
          "base_uri": "https://localhost:8080/",
          "height": 99
        },
        "id": "RjZHuPOfZ1df",
        "outputId": "3f1e955f-bb90-4947-eaf1-ad8cb5306e72"
      },
      "execution_count": 39,
      "outputs": [
        {
          "output_type": "execute_result",
          "data": {
            "text/latex": "$\\displaystyle \\left[\\begin{matrix}\\frac{1}{2} & 0 & 0 & 0\\\\0 & \\frac{3}{7} & 0 & 0\\\\0 & 0 & \\frac{9}{28} & 0\\\\0 & 0 & 0 & \\frac{3}{13}\\end{matrix}\\right]$",
            "text/plain": [
              "⎡1/2   0    0     0  ⎤\n",
              "⎢                    ⎥\n",
              "⎢ 0   3/7   0     0  ⎥\n",
              "⎢                    ⎥\n",
              "⎢ 0    0   9/28   0  ⎥\n",
              "⎢                    ⎥\n",
              "⎣ 0    0    0    3/13⎦"
            ]
          },
          "metadata": {},
          "execution_count": 39
        }
      ]
    },
    {
      "cell_type": "code",
      "source": [
        "D-A"
      ],
      "metadata": {
        "colab": {
          "base_uri": "https://localhost:8080/",
          "height": 99
        },
        "id": "7nHu2iBxaA2H",
        "outputId": "e8da06c2-6243-44c9-a67b-9396f6ac4923"
      },
      "execution_count": 40,
      "outputs": [
        {
          "output_type": "execute_result",
          "data": {
            "text/latex": "$\\displaystyle \\left[\\begin{matrix}0 & - \\frac{1}{7} & - \\frac{1}{8} & - \\frac{1}{2}\\\\- \\frac{1}{3} & 0 & - \\frac{1}{4} & - \\frac{1}{5}\\\\- \\frac{1}{3} & - \\frac{1}{8} & 0 & -1\\\\- \\frac{1}{5} & - \\frac{1}{9} & - \\frac{1}{4} & 0\\end{matrix}\\right]$",
            "text/plain": [
              "⎡ 0    -1/7  -1/8  -1/2⎤\n",
              "⎢                      ⎥\n",
              "⎢-1/3   0    -1/4  -1/5⎥\n",
              "⎢                      ⎥\n",
              "⎢-1/3  -1/8   0     -1 ⎥\n",
              "⎢                      ⎥\n",
              "⎣-1/5  -1/9  -1/4   0  ⎦"
            ]
          },
          "metadata": {},
          "execution_count": 40
        }
      ]
    },
    {
      "cell_type": "code",
      "source": [
        "B = D.inv()@(D-A)\n",
        "B"
      ],
      "metadata": {
        "colab": {
          "base_uri": "https://localhost:8080/",
          "height": 99
        },
        "id": "tLGBqRVFZkd-",
        "outputId": "75c9e024-e213-4701-9dfc-6be0c768d0ee"
      },
      "execution_count": 41,
      "outputs": [
        {
          "output_type": "execute_result",
          "data": {
            "text/latex": "$\\displaystyle \\left[\\begin{matrix}0 & - \\frac{1}{14} & - \\frac{1}{16} & - \\frac{1}{4}\\\\- \\frac{1}{7} & 0 & - \\frac{3}{28} & - \\frac{3}{35}\\\\- \\frac{3}{28} & - \\frac{9}{224} & 0 & - \\frac{9}{28}\\\\- \\frac{3}{65} & - \\frac{1}{39} & - \\frac{3}{52} & 0\\end{matrix}\\right]$",
            "text/plain": [
              "⎡  0    -1/14   -1/16  -1/4 ⎤\n",
              "⎢                           ⎥\n",
              "⎢-1/7     0     -3/28  -3/35⎥\n",
              "⎢                           ⎥\n",
              "⎢-3/28  -9/224    0    -9/28⎥\n",
              "⎢                           ⎥\n",
              "⎣-3/65  -1/39   -3/52    0  ⎦"
            ]
          },
          "metadata": {},
          "execution_count": 41
        }
      ]
    },
    {
      "cell_type": "code",
      "source": [
        "c = D.inv()*b\n",
        "c"
      ],
      "metadata": {
        "colab": {
          "base_uri": "https://localhost:8080/",
          "height": 99
        },
        "id": "VWRLMPPXd25P",
        "outputId": "0fb3d4cd-467a-4a90-fa9d-1f81e9cb792f"
      },
      "execution_count": 42,
      "outputs": [
        {
          "output_type": "execute_result",
          "data": {
            "text/latex": "$\\displaystyle \\left[\\begin{matrix}\\frac{155}{56}\\\\\\frac{187}{70}\\\\\\frac{47}{16}\\\\\\frac{881}{390}\\end{matrix}\\right]$",
            "text/plain": [
              "⎡155⎤\n",
              "⎢───⎥\n",
              "⎢ 56⎥\n",
              "⎢   ⎥\n",
              "⎢187⎥\n",
              "⎢───⎥\n",
              "⎢ 70⎥\n",
              "⎢   ⎥\n",
              "⎢47 ⎥\n",
              "⎢── ⎥\n",
              "⎢16 ⎥\n",
              "⎢   ⎥\n",
              "⎢881⎥\n",
              "⎢───⎥\n",
              "⎣390⎦"
            ]
          },
          "metadata": {},
          "execution_count": 42
        }
      ]
    },
    {
      "cell_type": "code",
      "source": [
        "x = 0*ones(n,1)\n",
        "x"
      ],
      "metadata": {
        "colab": {
          "base_uri": "https://localhost:8080/",
          "height": 98
        },
        "id": "mBZXwKojhei-",
        "outputId": "b2eb6a99-9e48-4253-e66d-ec2f6f09ef94"
      },
      "execution_count": 43,
      "outputs": [
        {
          "output_type": "execute_result",
          "data": {
            "text/latex": "$\\displaystyle \\left[\\begin{matrix}0\\\\0\\\\0\\\\0\\end{matrix}\\right]$",
            "text/plain": [
              "⎡0⎤\n",
              "⎢ ⎥\n",
              "⎢0⎥\n",
              "⎢ ⎥\n",
              "⎢0⎥\n",
              "⎢ ⎥\n",
              "⎣0⎦"
            ]
          },
          "metadata": {},
          "execution_count": 43
        }
      ]
    },
    {
      "cell_type": "code",
      "source": [
        "x = 0*ones(n,1)\n",
        "steps = 1\n",
        "for k in range(steps):\n",
        "  x = B@x+c\n",
        "x"
      ],
      "metadata": {
        "colab": {
          "base_uri": "https://localhost:8080/",
          "height": 99
        },
        "id": "cN8gUtIkmdI_",
        "outputId": "582b9728-e7de-4d1a-af88-8952ac40730a"
      },
      "execution_count": 44,
      "outputs": [
        {
          "output_type": "execute_result",
          "data": {
            "text/latex": "$\\displaystyle \\left[\\begin{matrix}\\frac{155}{56}\\\\\\frac{187}{70}\\\\\\frac{47}{16}\\\\\\frac{881}{390}\\end{matrix}\\right]$",
            "text/plain": [
              "⎡155⎤\n",
              "⎢───⎥\n",
              "⎢ 56⎥\n",
              "⎢   ⎥\n",
              "⎢187⎥\n",
              "⎢───⎥\n",
              "⎢ 70⎥\n",
              "⎢   ⎥\n",
              "⎢47 ⎥\n",
              "⎢── ⎥\n",
              "⎢16 ⎥\n",
              "⎢   ⎥\n",
              "⎢881⎥\n",
              "⎢───⎥\n",
              "⎣390⎦"
            ]
          },
          "metadata": {},
          "execution_count": 44
        }
      ]
    },
    {
      "cell_type": "code",
      "source": [
        "N(x)"
      ],
      "metadata": {
        "colab": {
          "base_uri": "https://localhost:8080/",
          "height": 98
        },
        "id": "tFsxL1MvmfxF",
        "outputId": "cff797c1-4f18-4cee-c497-559542c0aff9"
      },
      "execution_count": 45,
      "outputs": [
        {
          "output_type": "execute_result",
          "data": {
            "text/latex": "$\\displaystyle \\left[\\begin{matrix}2.76785714285714\\\\2.67142857142857\\\\2.9375\\\\2.25897435897436\\end{matrix}\\right]$",
            "text/plain": [
              "⎡2.76785714285714⎤\n",
              "⎢                ⎥\n",
              "⎢2.67142857142857⎥\n",
              "⎢                ⎥\n",
              "⎢     2.9375     ⎥\n",
              "⎢                ⎥\n",
              "⎣2.25897435897436⎦"
            ]
          },
          "metadata": {},
          "execution_count": 45
        }
      ]
    },
    {
      "cell_type": "code",
      "source": [
        "x = 0*ones(n,1)\n",
        "steps = 2\n",
        "for k in range(steps):\n",
        "  x = B@x+c\n",
        "x"
      ],
      "metadata": {
        "colab": {
          "base_uri": "https://localhost:8080/",
          "height": 99
        },
        "id": "uLI-z8SemkKe",
        "outputId": "2bdb4a25-ff27-415f-d047-86c17abb643b"
      },
      "execution_count": 46,
      "outputs": [
        {
          "output_type": "execute_result",
          "data": {
            "text/latex": "$\\displaystyle \\left[\\begin{matrix}\\frac{894631}{489216}\\\\\\frac{1801601}{1019200}\\\\\\frac{368443}{203840}\\\\\\frac{33079}{17472}\\end{matrix}\\right]$",
            "text/plain": [
              "⎡894631 ⎤\n",
              "⎢────── ⎥\n",
              "⎢489216 ⎥\n",
              "⎢       ⎥\n",
              "⎢1801601⎥\n",
              "⎢───────⎥\n",
              "⎢1019200⎥\n",
              "⎢       ⎥\n",
              "⎢368443 ⎥\n",
              "⎢────── ⎥\n",
              "⎢203840 ⎥\n",
              "⎢       ⎥\n",
              "⎢ 33079 ⎥\n",
              "⎢ ───── ⎥\n",
              "⎣ 17472 ⎦"
            ]
          },
          "metadata": {},
          "execution_count": 46
        }
      ]
    },
    {
      "cell_type": "code",
      "source": [
        "N(x)"
      ],
      "metadata": {
        "colab": {
          "base_uri": "https://localhost:8080/",
          "height": 98
        },
        "id": "ZSPtKRJ_mmfV",
        "outputId": "cd3dec3d-f901-4043-d31b-514d0aa37fce"
      },
      "execution_count": 47,
      "outputs": [
        {
          "output_type": "execute_result",
          "data": {
            "text/latex": "$\\displaystyle \\left[\\begin{matrix}1.82870347658294\\\\1.76766189167975\\\\1.80751079277865\\\\1.89325778388278\\end{matrix}\\right]$",
            "text/plain": [
              "⎡1.82870347658294⎤\n",
              "⎢                ⎥\n",
              "⎢1.76766189167975⎥\n",
              "⎢                ⎥\n",
              "⎢1.80751079277865⎥\n",
              "⎢                ⎥\n",
              "⎣1.89325778388278⎦"
            ]
          },
          "metadata": {},
          "execution_count": 47
        }
      ]
    },
    {
      "cell_type": "code",
      "source": [
        "x = 0*ones(n,1)\n",
        "steps = 3\n",
        "for k in range(steps):\n",
        "  x = B@x+c\n",
        "x"
      ],
      "metadata": {
        "colab": {
          "base_uri": "https://localhost:8080/",
          "height": 99
        },
        "id": "xVxIZJUdmr7d",
        "outputId": "aad69bdf-10bd-462f-bc16-73fac0503ad6"
      },
      "execution_count": 48,
      "outputs": [
        {
          "output_type": "execute_result",
          "data": {
            "text/latex": "$\\displaystyle \\left[\\begin{matrix}\\frac{703843961}{342451200}\\\\\\frac{1352843}{658560}\\\\\\frac{470755841}{228300800}\\\\\\frac{26830023}{13249600}\\end{matrix}\\right]$",
            "text/plain": [
              "⎡703843961⎤\n",
              "⎢─────────⎥\n",
              "⎢342451200⎥\n",
              "⎢         ⎥\n",
              "⎢ 1352843 ⎥\n",
              "⎢ ─────── ⎥\n",
              "⎢  658560 ⎥\n",
              "⎢         ⎥\n",
              "⎢470755841⎥\n",
              "⎢─────────⎥\n",
              "⎢228300800⎥\n",
              "⎢         ⎥\n",
              "⎢26830023 ⎥\n",
              "⎢──────── ⎥\n",
              "⎣13249600 ⎦"
            ]
          },
          "metadata": {},
          "execution_count": 48
        }
      ]
    },
    {
      "cell_type": "code",
      "source": [
        "N(x)"
      ],
      "metadata": {
        "colab": {
          "base_uri": "https://localhost:8080/",
          "height": 98
        },
        "id": "IyhVQkUWmt6w",
        "outputId": "e6ca68e7-c8ed-4225-e558-375089a5a2be"
      },
      "execution_count": 49,
      "outputs": [
        {
          "output_type": "execute_result",
          "data": {
            "text/latex": "$\\displaystyle \\left[\\begin{matrix}2.05531170864637\\\\2.05424410835763\\\\2.06199821025594\\\\2.02496852735177\\end{matrix}\\right]$",
            "text/plain": [
              "⎡2.05531170864637⎤\n",
              "⎢                ⎥\n",
              "⎢2.05424410835763⎥\n",
              "⎢                ⎥\n",
              "⎢2.06199821025594⎥\n",
              "⎢                ⎥\n",
              "⎣2.02496852735177⎦"
            ]
          },
          "metadata": {},
          "execution_count": 49
        }
      ]
    },
    {
      "cell_type": "code",
      "source": [
        "x = 0*ones(n,1)\n",
        "steps = 10\n",
        "for k in range(steps):\n",
        "  x = B@x+c\n",
        "x"
      ],
      "metadata": {
        "colab": {
          "base_uri": "https://localhost:8080/",
          "height": 99
        },
        "id": "BznIJJsseMZs",
        "outputId": "7c27f190-a19d-400b-b42e-9fb9e1356cf0"
      },
      "execution_count": 50,
      "outputs": [
        {
          "output_type": "execute_result",
          "data": {
            "text/latex": "$\\displaystyle \\left[\\begin{matrix}\\frac{6081201220915666781480550215167}{3040610534000015060238336000000}\\\\\\frac{7601498725650676305688237184087}{3800763167500018825297920000000}\\\\\\frac{72395220458354497558210230733}{36197744452381131669504000000}\\\\\\frac{3257791615351057132457186377337}{1628898500357150925127680000000}\\end{matrix}\\right]$",
            "text/plain": [
              "⎡6081201220915666781480550215167⎤\n",
              "⎢───────────────────────────────⎥\n",
              "⎢3040610534000015060238336000000⎥\n",
              "⎢                               ⎥\n",
              "⎢7601498725650676305688237184087⎥\n",
              "⎢───────────────────────────────⎥\n",
              "⎢3800763167500018825297920000000⎥\n",
              "⎢                               ⎥\n",
              "⎢ 72395220458354497558210230733 ⎥\n",
              "⎢ ───────────────────────────── ⎥\n",
              "⎢ 36197744452381131669504000000 ⎥\n",
              "⎢                               ⎥\n",
              "⎢3257791615351057132457186377337⎥\n",
              "⎢───────────────────────────────⎥\n",
              "⎣1628898500357150925127680000000⎦"
            ]
          },
          "metadata": {},
          "execution_count": 50
        }
      ]
    },
    {
      "cell_type": "code",
      "source": [
        "N(x)"
      ],
      "metadata": {
        "colab": {
          "base_uri": "https://localhost:8080/",
          "height": 98
        },
        "id": "csmBeRofgBTH",
        "outputId": "74313831-903e-4933-fe4d-b2fc006348fb"
      },
      "execution_count": 51,
      "outputs": [
        {
          "output_type": "execute_result",
          "data": {
            "text/latex": "$\\displaystyle \\left[\\begin{matrix}1.99999347266474\\\\1.99999273584063\\\\1.99999258389129\\\\1.99999669386199\\end{matrix}\\right]$",
            "text/plain": [
              "⎡1.99999347266474⎤\n",
              "⎢                ⎥\n",
              "⎢1.99999273584063⎥\n",
              "⎢                ⎥\n",
              "⎢1.99999258389129⎥\n",
              "⎢                ⎥\n",
              "⎣1.99999669386199⎦"
            ]
          },
          "metadata": {},
          "execution_count": 51
        }
      ]
    },
    {
      "cell_type": "code",
      "source": [
        "x = 0*ones(n,1)\n",
        "steps = 25\n",
        "for k in range(steps):\n",
        "  x = B@x+c\n",
        "x"
      ],
      "metadata": {
        "colab": {
          "base_uri": "https://localhost:8080/",
          "height": 99
        },
        "id": "v9dWMq1SgHfn",
        "outputId": "68f3210e-ebd4-476d-825a-bd4f403a9584"
      },
      "execution_count": 52,
      "outputs": [
        {
          "output_type": "execute_result",
          "data": {
            "text/latex": "$\\displaystyle \\left[\\begin{matrix}\\frac{1613428422202804322173583758445020890550650799556598906948112546316979515927}{806714211101390772158836324839222284418837154325771279400960000000000000000}\\\\\\frac{12100713166521051526470328380905016467608289706407313720026279380566117934217}{6050356583260430791191272436294167133141278657443284595507200000000000000000}\\\\\\frac{921959098401604235702205010318131043211523492535072036031955216673032063869}{460979549200794726947906471336698448239335516757583588229120000000000000000}\\\\\\frac{67418259070616710591535145967632314759311908550227053567469400719617140247921}{33709129535308114408065660716496074027501409662898299889254400000000000000000}\\end{matrix}\\right]$",
            "text/plain": [
              "⎡1613428422202804322173583758445020890550650799556598906948112546316979515927 \n",
              "⎢──────────────────────────────────────────────────────────────────────────── \n",
              "⎢806714211101390772158836324839222284418837154325771279400960000000000000000  \n",
              "⎢                                                                             \n",
              "⎢12100713166521051526470328380905016467608289706407313720026279380566117934217\n",
              "⎢─────────────────────────────────────────────────────────────────────────────\n",
              "⎢ 6050356583260430791191272436294167133141278657443284595507200000000000000000\n",
              "⎢                                                                             \n",
              "⎢ 921959098401604235702205010318131043211523492535072036031955216673032063869 \n",
              "⎢ ─────────────────────────────────────────────────────────────────────────── \n",
              "⎢ 460979549200794726947906471336698448239335516757583588229120000000000000000 \n",
              "⎢                                                                             \n",
              "⎢67418259070616710591535145967632314759311908550227053567469400719617140247921\n",
              "⎢─────────────────────────────────────────────────────────────────────────────\n",
              "⎣33709129535308114408065660716496074027501409662898299889254400000000000000000\n",
              "\n",
              "⎤\n",
              "⎥\n",
              "⎥\n",
              "⎥\n",
              "⎥\n",
              "⎥\n",
              "⎥\n",
              "⎥\n",
              "⎥\n",
              "⎥\n",
              "⎥\n",
              "⎥\n",
              "⎥\n",
              "⎥\n",
              "⎦"
            ]
          },
          "metadata": {},
          "execution_count": 52
        }
      ]
    },
    {
      "cell_type": "code",
      "source": [
        "N(x)"
      ],
      "metadata": {
        "colab": {
          "base_uri": "https://localhost:8080/",
          "height": 98
        },
        "id": "pI3MqxSFgKJu",
        "outputId": "ee86035f-d796-4a5d-b9dc-c11bf707c0d6"
      },
      "execution_count": 53,
      "outputs": [
        {
          "output_type": "execute_result",
          "data": {
            "text/latex": "$\\displaystyle \\left[\\begin{matrix}2.00000000000003\\\\2.00000000000003\\\\2.00000000000003\\\\2.00000000000001\\end{matrix}\\right]$",
            "text/plain": [
              "⎡2.00000000000003⎤\n",
              "⎢                ⎥\n",
              "⎢2.00000000000003⎥\n",
              "⎢                ⎥\n",
              "⎢2.00000000000003⎥\n",
              "⎢                ⎥\n",
              "⎣2.00000000000001⎦"
            ]
          },
          "metadata": {},
          "execution_count": 53
        }
      ]
    },
    {
      "cell_type": "code",
      "source": [
        "x = 0*ones(n,1)\n",
        "steps = 30\n",
        "for k in range(steps):\n",
        "  x = B@x+c\n",
        "x"
      ],
      "metadata": {
        "colab": {
          "base_uri": "https://localhost:8080/",
          "height": 99
        },
        "id": "T7WWAEgQgVXW",
        "outputId": "165e3510-c76f-412b-f773-a94050cb574e"
      },
      "execution_count": 54,
      "outputs": [
        {
          "output_type": "execute_result",
          "data": {
            "text/latex": "$\\displaystyle \\left[\\begin{matrix}\\frac{1054177287478773484207122557754119980340818922733430642234239512575869291481574182501404852949}{527088643739386754226250075928256481309120860293214580617023766957706444800000000000000000000}\\\\\\frac{263544321869693370373734325206976643288675811788932510463445260290140899064052510534758245929}{131772160934846688556562518982064120327280215073303645154255941739426611200000000000000000000}\\\\\\frac{87848107289897790076476372129135883943238604401441377149714486175707603255406675677581241063}{43924053644948896185520839660688040109093405024434548384751980579808870400000000000000000000}\\\\\\frac{12549729612842541621190524192934482357677553655223422188542239122953818275091809433758014831}{6274864806421270883645834237241148587013343574919221197821711511401267200000000000000000000}\\end{matrix}\\right]$",
            "text/plain": [
              "⎡10541772874787734842071225577541199803408189227334306422342395125758692914815\n",
              "⎢─────────────────────────────────────────────────────────────────────────────\n",
              "⎢52708864373938675422625007592825648130912086029321458061702376695770644480000\n",
              "⎢                                                                             \n",
              "⎢26354432186969337037373432520697664328867581178893251046344526029014089906405\n",
              "⎢─────────────────────────────────────────────────────────────────────────────\n",
              "⎢13177216093484668855656251898206412032728021507330364515425594173942661120000\n",
              "⎢                                                                             \n",
              "⎢ 8784810728989779007647637212913588394323860440144137714971448617570760325540\n",
              "⎢ ────────────────────────────────────────────────────────────────────────────\n",
              "⎢ 4392405364494889618552083966068804010909340502443454838475198057980887040000\n",
              "⎢                                                                             \n",
              "⎢ 1254972961284254162119052419293448235767755365522342218854223912295381827509\n",
              "⎢ ────────────────────────────────────────────────────────────────────────────\n",
              "⎣ 6274864806421270883645834237241148587013343574919221197821711511401267200000\n",
              "\n",
              "74182501404852949⎤\n",
              "─────────────────⎥\n",
              "0000000000000000 ⎥\n",
              "                 ⎥\n",
              "2510534758245929 ⎥\n",
              "──────────────── ⎥\n",
              "0000000000000000 ⎥\n",
              "                 ⎥\n",
              "6675677581241063 ⎥\n",
              "──────────────── ⎥\n",
              "0000000000000000 ⎥\n",
              "                 ⎥\n",
              "1809433758014831 ⎥\n",
              "──────────────── ⎥\n",
              "000000000000000  ⎦"
            ]
          },
          "metadata": {},
          "execution_count": 54
        }
      ]
    },
    {
      "cell_type": "code",
      "source": [
        "N(x)"
      ],
      "metadata": {
        "colab": {
          "base_uri": "https://localhost:8080/",
          "height": 98
        },
        "id": "Yfh-vbrKgWCu",
        "outputId": "40fb6a05-5ada-4449-f114-c70a638d785b"
      },
      "execution_count": 55,
      "outputs": [
        {
          "output_type": "execute_result",
          "data": {
            "text/latex": "$\\displaystyle \\left[\\begin{matrix}2.0\\\\2.0\\\\2.0\\\\2.0\\end{matrix}\\right]$",
            "text/plain": [
              "⎡2.0⎤\n",
              "⎢   ⎥\n",
              "⎢2.0⎥\n",
              "⎢   ⎥\n",
              "⎢2.0⎥\n",
              "⎢   ⎥\n",
              "⎣2.0⎦"
            ]
          },
          "metadata": {},
          "execution_count": 55
        }
      ]
    },
    {
      "cell_type": "code",
      "source": [
        "x = 0*ones(n,1)\n",
        "steps = 1000\n",
        "for k in range(steps):\n",
        "  x = B@x+c\n",
        "x"
      ],
      "metadata": {
        "colab": {
          "base_uri": "https://localhost:8080/",
          "height": 119
        },
        "id": "LFgJpWTGhsze",
        "outputId": "3351e3bb-7bbb-4355-b3f0-904670cb94ab"
      },
      "execution_count": 56,
      "outputs": [
        {
          "output_type": "execute_result",
          "data": {
            "text/latex": "$\\displaystyle \\left[\\begin{matrix}\\frac{470069087662931670170729703072969531562265304197618684349812640723911830916892769197892864643079161003056166005171686964523516285325311937313975305502459947765486448071295458531567773684621741844870396262163016346729036352515837591768508915203939359649459149873431811288336767692888685064253817312127529722278841512801433333532796634055509204127785199315724834932369495595222075620646481108532592698668501793651743795753139104288156009811075679888115580462935470288838570695949089601743990513231760742392666109705176947487026686234868999566358778877199627862821149861704693075748940024359580701722616765938330724980766825558100712356695164035403495218440414225534366405806605951104851012991949303519031869743332808214206614822334699891115573101634093603812794336733752941401423339630414117166888617068563902082633903383095577134353826104149750093787201180807022181612921899767071156829850048966464477754340180254341642691462874864564581550801608744889218764817426185767519817638015766219325999008530657787818316858088280096586091624361984000711675242231966091205480501079987190218521457590497522358247462339358918408403837092205183791938825649208068474324540203068204714378604570130689594045716271252645489502690690397711303174981702932235558853664344157937218198095343043354811654664638102930305350347403219725603081799192950819866054506951209132826461409742192027655497948544032544520489450309513219782027370959662264463274363643998768860763023081977251733201078154908690319395200984722604102800865931534510459997269280149768714464010524637013246160901306654715997663237916635186207497407686905095713315777451638332739964259625552324004424320660427762696923301687449909757541721276147851658412878176435454016190996315753905956566295581419012255925499260630188219335548189316164928520860525078529884827444566137096559463878892985418468629540297692700550659488582055617013801591214986352244251054562118871723065069064821976905018971401120557554426964363446032623160713803980938128054730252792368793570579562440979321701576630057291715087883526384506447886827510478972643657647888256985618905521967744701751032716682962162418983082729754251878767591802408696844322227577651783140831081571712914382395529240495310908315108802253031923672393852610971302173112419602729397709205033610591216959838832545032829445949099530933223126710389236805558954661518394649579000902387260009634627582928603507425404918181955486016690874224727870509500499082640074099798583384446966253704200461755140546843043088645247597320039375844474661443863675178275470565340241868752116591686480875757890970565012258971956900550654660166721688812289171404300511934321076285223071186199809197165745896581632418176484645904642443310963383787473406635110864528955548305735231798400833920955092469688339201888611185727173147763972981719439560752737558959599666287295810327532963056056226380507668575031401266564593508084263187345836764558873976607431466050560270066911536112525574603942396161735226324400687463465236049766473170098283402097481938826201875057216836843369920710554162953540818904475851895740513485943}{235034543831465835085364851536484765781132652098809342174906320361955915458446384598946432321539580501528083002585843482261758142662655968656987652751229973882743224035647729265783886842310870922435198131081508173364518176257918795884254457601969679824729574936715905644168383846444342532126908656063764861139420756400716666766398317027754602063892599657862417466184747797611037810323240554266296349334250896825871897876569552144078004905537839944057790231467735144419285347974544800871995256615880371196333054852588473743513343117434499783179389438599813932121077636406119894334142992687953847713413692130906627939401306095059472966307736029211966030609781834713820100323727023661123493014400173138453825078462032204580020337268820970766197595593999824986136117115906518712940922772906351136102419853190789441694073803272701282058685565576984637472621638804039581460494167558580777391607065579501608026161439049015584108272914113593916374031706440433222791224894997231442834090130884725319387678316188292797108137604247626783896486743883269765062112345163857515153190086572802956973080039826732569529838549254074463367555289697685674183605597277243146406242531404373666228276677436395608017863249463024911263352118873434143277835275522794341098860100135294367222827226411330037295102070122844321518284707505006473646150083380420981728991890067127400248663552608104719092858142971325768500409609798217945320929819020691965271092329178823678528377300411321729170133988296055418109605861927711809713816190608756765114858251597030018402798210460808398521814581757346001059266979424886512427076004013206732533449056392999230048998644924770809807357073817933391608733918883512520919479454045939037592350590084685867414517282251295618010931517077966557109333670290496634021206890587623963737500499651648067917180188906253480571580170544031434144514936084930439972445670550480401531834446399995458837770151467433623649142541106612725548061815020628565894265496328752812768615192681622027374272049010724342499000790047649489368807052094626418979691803467048180415854965688121771315094902003811742556102145150060453467583267911954498039865157246152380435482593368766747632085929829595578682501850069328714442950753118071995233564667314769743755144635317976415326237092767725612374405627124245509446055928810715567156142418652067958256343171272286465111378893213441991016082653088693435842870106493549684726111993870327742464000000000000000000000000000000000000000000000000000000000000000000000000000000000000000000000000000000000000000000000000000000000000000000000000000000000000000000000000000000000000000000000000000000000000000000000000000000000000000000000000000000000000000000000000000000000000000000000000000000000000000000000000000000000000000000000000000000000000000000000000000000000000000000000000000000000000000000000000000000000000000000000000000000000000000000000000000000000000000000000000000000000000000000000000000000000000000000000000000000000000000000000000000000000000000000000000000000000000000000000000000000000000000000000000000000000000000000000000000000000000000000}\\\\\\frac{587586359578664587713412128841211914452831630247023355437265800904889788646115961497366080803848951253820207506464608705654395356656639921642469131878074934706858060089119323164459717105777177306087995327703770433411295440644796989710636144004924199561823937341789764110420959616110856330317271640159412152848551891001791666915995792569386505159731499144656043665461869494027594525808101385665740873335627242064679744691423880360195012263844599860144475578669337861048213369936362002179988141539700927990832637131471184358783357793586249457948473596499534828327738115585137424562435822669612238805984296801356200437066186995324283781091770792090112513431490703978049631014627608355065135527235721955584646121446345077841646524158655916977387865491526078396427539081939614145539266585042666614800975109200366261446248307184722214604306172706247496055133532858978060922127283767509609469422450260290591640877341150105017067836390369960506556165782714805267740664950801835400781837994337982511221561835251514721067654451535648375356666586959871297447542433582224523276433952316941798575711084515732662802694248811645863759818249067388597091821291170372597491387235397884657828963745804794598398233358252948464599136661052754019642856071615856606448208242054372062788455497619324502258662036284140987073975398564351297350723363411115768187126977156466689720014342432139744971299002895388822269645678482126423600222560681405537363965279639022788061545043454806506274257184064767461388596852390323642884681667948874178408703759786175721017435062827062726725263459867723047717657865985472424522736044020330166825066652152410790863569739567277574793378256265103000605465628776300915664583425688187527276687188110807517588162413999251436608148914645735029736176958968610199300040970318416517240359889486838346923474527430387025848412160447498159512707444664623125732310235893520886932880001088549398035980023336573366617708935454437500089904430744028429662759193519003117931176783525611740639332561971676936536502131267086422240107866294698409223477947003614791581753532888342132734288688784994046032608663444559714380166855259361943927296826353720047113341732759304368978749793641270111700028200456981025646237020792991809834368903990923170296879400333282663864624475262872673016569890839183683607287393983249522551469418724758677788353510476151540738566816327056834291970760238030987896849360593877153935393810421155847593049936484476671017322041826414549496913443007761209860850070104163342250446964885148547771294114723965132264719055510494130193971608048800574118920073989415352565664402302642301490106149904849653801170746824077898159482277470119847165969784800219801854517314820043635337012819396258126293433702153265355966526094064416403953790661367675996742381010267332598179956821910038475471417217149949996329922898851988594543724857788803261114821778279764331032181245054514188134746038783128404322574980999953546147915408126663913880524530410569455820364979484598087525446698990453546330045366370122525825003104996743842845979416587020812629529779069895643310427825231868627463}{293793179789332293856706064420605957226415815123511677718632900452444894323057980748683040401924475626910103753232304352827197678328319960821234565939037467353429030044559661582229858552888588653043997663851885216705647720322398494855318072002462099780911968670894882055210479808055428165158635820079706076424275945500895833457997896284693252579865749572328021832730934747013797262904050692832870436667813621032339872345711940180097506131922299930072237789334668930524106684968181001089994070769850463995416318565735592179391678896793124728974236798249767415151347045507649867917678740859942309641767115163633284924251632618824341207884670036514957538262227293392275125404658779576404366268000216423067281348077540255725025421586026213457746994492499781232670146394883148391176153466132938920128024816488486802117592254090876602573356956971230796840777048505049476825617709448225971739508831974377010032701798811269480135341142641992395467539633050541528489031118746539303542612663605906649234597895235365996385172005309533479870608429854087206327640431454821893941487608216003696216350049783415711912298186567593079209444112122107092729506996596553933007803164255467082785345846795494510022329061828781139079190148591792679097294094403492926373575125169117959028534033014162546618877587653555401897855884381258092057687604225526227161239862583909250310829440760130898866072678714157210625512012247772431651162273775864956588865411473529598160471625514152161462667485370069272637007327409639762142270238260945956393572814496287523003497763076010498152268227196682501324083724281108140533845005016508415666811320491249037561248306155963512259196342272416739510917398604390651149349317557423796990438237605857334268146602814119522513664396347458196386667087863120792526508613234529954671875624564560084896475236132816850714475213180039292680643670106163049965557088188100501914793057999994323547212689334292029561428176383265906935077268775785707367831870410941015960768990852027534217840061263405428123750987559561861711008815118283023724614754333810225519818707110152214143868627504764678195127681437575566834479084889943122549831446557690475544353241710958434540107412286994473353127312586660893053688441397589994041955834143462179693930794147470519157796365959657015468007033905306886807569911013394458945178023315084947820428964090358081389223616516802488770103316360866794803587633116937105907639992337909678080000000000000000000000000000000000000000000000000000000000000000000000000000000000000000000000000000000000000000000000000000000000000000000000000000000000000000000000000000000000000000000000000000000000000000000000000000000000000000000000000000000000000000000000000000000000000000000000000000000000000000000000000000000000000000000000000000000000000000000000000000000000000000000000000000000000000000000000000000000000000000000000000000000000000000000000000000000000000000000000000000000000000000000000000000000000000000000000000000000000000000000000000000000000000000000000000000000000000000000000000000000000000000000000000000000000000000000000000000000000000000000}\\\\\\frac{2798030283707926608159105375434342449775388715462015978272694290023284707838647435701743241923090244065810511935545755741211406460269713912583186342276547308127895524233901538878379605265605606219466644417637002063863311622118080903383981638118686664580113987341856019573433141029099315858653674476949581680231199480960912699599979964616126215046340472117409731740294616638226640599086197074598766063502986866974665450911542287429500058399259999334021312279377799338324825571125533343714229245427147276146822081578434211232301703778982140275945112364283499182311666454450672150235488287644140297549397153697188509332514905583437432240244159963942196913237607664317254265430057050405127049264182602070163772435011053496572458993790603939683574417950462372938831284238692826462470299336675245814962585141192744672317024919184363751907303014401424930206112371400599005814008930753610995810729179025734066095830889859146640412290905300860841637894666918777897626533982652362382194049060231263752922917867171464682135052086087450838200706817259523229703473350885091806681427850648453170243302019674259924701694963844230827288519297131600321705071641552027037553520402010504806361690830776239079831846632831295705098034179433806892909413842436796107748554687832701444021736108211163447702891935318944874411121186846416358300457033674531166839272478744862925224467437287095435574075637232977311622993098471335839822332814317327983658930226193649798761031594077308473526781565410550370498428237185939018252951958640473952862821157265958285897831438050826642310415452952260409802096703677830389748033153258931015514293860417476569483210485841067101442124841528343366885272967535698819937226703474435348753359017221532256308602554698512823963783462499331182125077783228335842479325799024572985390724208115247241270881751189675135744531098335197492281688512055551950515994188569952518975464919054112801086286657848847090449909158646805027376464217540442522310316511851717391062330543378677021956964507400601882158539632773216811767758390295434259888708778322586252963323992852852690664417845281073285657116830148966568283014831820067201408807931305022906628456358428584164560604136982150906075863154687676397673745164210271504297574318883267616311937396112013444238350121245453532077015731980548338943891742361527840974553157041516608469743231642490992264003623434418270301722879207126534236446966985875185145519483420581024265047836868539849329811446888248873094150377442798288120235160476511966973805138114941470611866128609128064291980333343997747524092752273174458739828708395939978094190781061185148617719297116355708187476312761903151877142989478743513764055275035745712332346700148187485765153535432664070737151106144123779020795290319061358026896164331347342177579508977418026092325654620372465211628466635712674309794964615577162454206100463629988962153333988150935441256394567738567845726000176395576574817200610664434008862521061005228731051730538060143354646292180792133590713862952654655086304567600409694345441185910669854008115520771264300876873648037271713070852999096285201}{1399015141853963304079552687717171224887694357731007989136347145011642353919323717850871620961545122032905255967772877870605703230134856956291593171138273654063947762116950769439189802632802803109733322208818501031931655811059040451691990819059343332290056993670928009786716570514549657929326837238474790840115599740480456349799989982308063107523170236058704865870147308319113320299543098537299383031751493433487332725455771143714750029199629999667010656139688899669162412785562766671857114622713573638073411040789217105616150851889491070137972556182141749595958795454798332704369898765999725284008414834112539452020245869613449243847069857316737893039343939492344167263831708474173354125085715316300320387371797810741547740102790601016465461878535713243965095935213729278053219778410156852000609641983278508581512344067099412393206461699863003794479890707166902270598179568801076055902423009401795285870008565767949905406386393533297121273998252621626326138243422602568112107679350504317377307609024930314268500819072902540380336230618352796220607811578356294733054702896266684267696904998968646247201419936036157520044971962486224251092890459983590157180015067883176584692123079978545285820614580137053043234238802818060376653781401921394887493214881757704566802543014353154983899417084064549532846932782767895676465179067740601081720189821828139287194425908381575708886060374829320050597676248798916341196010827504118840899359102254902848383198216734057911726988025571758441128606320998284581629858277433075982826537211887083442873798871790526181677467748555630958686112972767181621589738119126230550794339621386900178863087172171254820281887344154365426242463802878050719758806274082970461859229702885034925086412394352950107207925696892658078031748037443432345364326729688237879389883926497905166173691600632461193878453396095425203241160333838871666502652800895716675784728847619020588320060425401390616959181792301266223500367946551360511275389859099719123622709480247750162942095529825740133922623750283627912909565786277538208212451211113382026284850986238820067351755369070307991405369911607502699211805166142586297856340221703287978782634484337897307333844820414259396919653869460289966922325911417095209723599210206962760447289495940335805513316028379319121276223970977651841940809100063783137834181063405166418192518876620752768520112459603821375095730077908889499064703014842557647179238058751950848000000000000000000000000000000000000000000000000000000000000000000000000000000000000000000000000000000000000000000000000000000000000000000000000000000000000000000000000000000000000000000000000000000000000000000000000000000000000000000000000000000000000000000000000000000000000000000000000000000000000000000000000000000000000000000000000000000000000000000000000000000000000000000000000000000000000000000000000000000000000000000000000000000000000000000000000000000000000000000000000000000000000000000000000000000000000000000000000000000000000000000000000000000000000000000000000000000000000000000000000000000000000000000000000000000000000000000000000000000000000000000}\\\\\\frac{251822725533713394734319483789090820479784984391581438044542486102095623705478269213156891773078121965922946074199118016709026581424274252132486770804889257731510597181051138499054164473904504559751997997587330185747698045990627281304558347430681799812210258860767041761608982692618938427278830702925462351220807953286482142963998196815451359354170642490566875856626515497440397653917757736713888945715268818027719890582038805868655005255933399940061918105144001940449234301401298000934280632088443254853213987342059079010907153340108392624835060112785514926887253103542213365284207076732877653053177266246937176043066955032592287893988620824106486761738816747491568839819125342062631267446652600198420469217402536152851694863803177181696382317117470290066488119697357333182432574319132873445002481568840460720678860972060137842483414414769305342526672806549431731267658991983898090347563517261714357889232281403466015134313688999338035694226006484737205412353570800365554533544421004594792168418320610904521598840802789390324958068406645415418618713384293907741808833071369206208634082854142877238427284834536086924226238318714846221071619965665741583855488151593822442473335780213932723255318694304510484607287243300233031915036149030778474414388927732343630781295759099388608884001927206989586412266801571284621541429165351446260172762330637693251400180333098070476707105244138432609355076022076031879606125899913265146525534612245843359694574025758849285983833083758704567476719052904916146133268213863332598366288277356158093171093877744057322970869063635101273774984479869986060122018041399129663829654979696304468607727028236850822920785263980711928844808992116659831646385641965131310214329073487587286431384512358196018137402102826761226821809694127711061471125626943201857373729990066613991287946238502155464028589149094050434678153985834709059275519799627416933264126833356232167217739022090989857420702981980720678996092215251138746874125005330898784373132191332253826290036621641578423252882055879095201915713305337323297120983232185551518262612478232636022037160533326031259008296262535137362624145312714199924440123543168237712674788728521646842229373756209924586518431451605757926858557455729626131910727339602816872953750936263807281659050040910214804398609130051128602502844227510084430808603626556620565460436043968349930260169209318424329556477860792900859399026446975118884931824433756159900950698624373633299393051595912298068618267879632108707062767379884399957907298911202317864780703352596938315303107855463076215799458202529625687302754915527142638726780913026789068049362632123884640551304335199682316322457284656095503458563692649008124815486123881436999200627601368365115559646776275677475629281039700873934388483050451014869542399754915618411274172016096874024904957728299636046682790461350596406943249032504873805423984881772654620248774780399882135254559482374168323031398602855675781923740700050523281646540159988897217740816280692051090009877033300681887754531257501698540894908469044962453407785383209158837813946183526305209502961284293428307513}{125911362766856697367159741894545410239892492195790719022271243051047811852739134606578445886539060982961473037099559008354513290712137126066243385402444628865755298590525569249527082236952252279875998998793665092873849022995313640652279173715340899906105129430383520880804491346309469213639415351462731175610403976643241071481999098407725679677085321245283437928313257748720198826958878868356944472857634409013859945291019402934327502627966699970030959052572000970224617150700649000467140316044221627426606993671029539505453576670054196312417530056392757463636291590931849943393290888939975275560757335070128550681822128265210431946236287158506410373540954554310975053744853762675601871257714378467028834863461802966739296609251154091481891569068214191956858634169235635024789780056914116680054867778495065772336110966038947115388581552987670341503190163645021204353836161192096845031218070846161575728300770919115491486574775417996740914659842735946369352441908034231130089691141545388563957684812243728284165073716561228634230260755651751659854703042052066525974923260664001584092721449907178162248127794243254176804047476623760182598360141398523114146201356109485892622291077198069075723855312212334773891081492253625433898840326172925539874389339358193411012228871291783948550947537565809457956223950449110610881866116096654097354817083964532535847498331754341813799745433734638804553790862391902470707640974475370695680942319202941256354487839506065212055428922301458259701574568889845612346687244968976838454388349069837509858641898461147356350972097370006786281750167549046345943076430721360749571490565924821016097677845495412933825369860973892888361821742259024564778292564667467341567330673259653143257777115491765509648713312720339227022857323369908911082789405671941409145089553384811464955632244056921507449060805648588268291704430045498449985238752080614500820625596285711852948805438286125155526326361307113960115033115189622446014785087318974721126043853222297514664788597684316612053036137525526512161860920764978438739120609000204382365636588761493806061657983216327719226483292044675242929062464952832766807070619953295918090437103590410757660046033837283345722768848251426097023009332027538568875123928918626648440256054634630222496198442554138720914860157387988665774672819005740482405076295706464977637326698895867749166810121364343923758615707011800054915823271335830188246131425287675576320000000000000000000000000000000000000000000000000000000000000000000000000000000000000000000000000000000000000000000000000000000000000000000000000000000000000000000000000000000000000000000000000000000000000000000000000000000000000000000000000000000000000000000000000000000000000000000000000000000000000000000000000000000000000000000000000000000000000000000000000000000000000000000000000000000000000000000000000000000000000000000000000000000000000000000000000000000000000000000000000000000000000000000000000000000000000000000000000000000000000000000000000000000000000000000000000000000000000000000000000000000000000000000000000000000000000000000000000000000000000000000}\\end{matrix}\\right]$",
            "text/plain": [
              "⎡47006908766293167017072970307296953156226530419761868434981264072391183091689\n",
              "⎢─────────────────────────────────────────────────────────────────────────────\n",
              "⎢23503454383146583508536485153648476578113265209880934217490632036195591545844\n",
              "⎢                                                                             \n",
              "⎢58758635957866458771341212884121191445283163024702335543726580090488978864611\n",
              "⎢─────────────────────────────────────────────────────────────────────────────\n",
              "⎢29379317978933229385670606442060595722641581512351167771863290045244489432305\n",
              "⎢                                                                             \n",
              "⎢ 2798030283707926608159105375434342449775388715462015978272694290023284707838\n",
              "⎢ ────────────────────────────────────────────────────────────────────────────\n",
              "⎢ 1399015141853963304079552687717171224887694357731007989136347145011642353919\n",
              "⎢                                                                             \n",
              "⎢25182272553371339473431948378909082047978498439158143804454248610209562370547\n",
              "⎢─────────────────────────────────────────────────────────────────────────────\n",
              "⎣12591136276685669736715974189454541023989249219579071902227124305104781185273\n",
              "\n",
              "276919789286464307916100305616600517168696452351628532531193731397530550245994\n",
              "──────────────────────────────────────────────────────────────────────────────\n",
              "638459894643232153958050152808300258584348226175814266265596865698765275122997\n",
              "                                                                              \n",
              "596149736608080384895125382020750646460870565439535665663992164246913187807493\n",
              "──────────────────────────────────────────────────────────────────────────────\n",
              "798074868304040192447562691010375323230435282719767832831996082123456593903746\n",
              "                                                                              \n",
              "647435701743241923090244065810511935545755741211406460269713912583186342276547\n",
              "──────────────────────────────────────────────────────────────────────────────\n",
              "323717850871620961545122032905255967772877870605703230134856956291593171138273\n",
              "                                                                              \n",
              "826921315689177307812196592294607419911801670902658142427425213248677080488925\n",
              "──────────────────────────────────────────────────────────────────────────────\n",
              "913460657844588653906098296147303709955900835451329071213712606624338540244462\n",
              "\n",
              "776548644807129545853156777368462174184487039626216301634672903635251583759176\n",
              "──────────────────────────────────────────────────────────────────────────────\n",
              "388274322403564772926578388684231087092243519813108150817336451817625791879588\n",
              "                                                                              \n",
              "470685806008911932316445971710577717730608799532770377043341129544064479698971\n",
              "──────────────────────────────────────────────────────────────────────────────\n",
              "735342903004455966158222985855288858865304399766385188521670564772032239849485\n",
              "                                                                              \n",
              "308127895524233901538878379605265605606219466644417637002063863311622118080903\n",
              "──────────────────────────────────────────────────────────────────────────────\n",
              "654063947762116950769439189802632802803109733322208818501031931655811059040451\n",
              "                                                                              \n",
              "773151059718105113849905416447390450455975199799758733018574769804599062728130\n",
              "──────────────────────────────────────────────────────────────────────────────\n",
              "886575529859052556924952708223695225227987599899879366509287384902299531364065\n",
              "\n",
              "850891520393935964945914987343181128833676769288868506425381731212752972227884\n",
              "──────────────────────────────────────────────────────────────────────────────\n",
              "425445760196967982472957493671590564416838384644434253212690865606376486113942\n",
              "                                                                              \n",
              "063614400492419956182393734178976411042095961611085633031727164015941215284855\n",
              "──────────────────────────────────────────────────────────────────────────────\n",
              "531807200246209978091196867089488205521047980805542816515863582007970607642427\n",
              "                                                                              \n",
              "383981638118686664580113987341856019573433141029099315858653674476949581680231\n",
              "──────────────────────────────────────────────────────────────────────────────\n",
              "691990819059343332290056993670928009786716570514549657929326837238474790840115\n",
              "                                                                              \n",
              "455834743068179981221025886076704176160898269261893842727883070292546235122080\n",
              "──────────────────────────────────────────────────────────────────────────────\n",
              "227917371534089990610512943038352088080449134630946921363941535146273117561040\n",
              "\n",
              "151280143333353279663405550920412778519931572483493236949559522207562064648110\n",
              "──────────────────────────────────────────────────────────────────────────────\n",
              "075640071666676639831702775460206389259965786241746618474779761103781032324055\n",
              "                                                                              \n",
              "189100179166691599579256938650515973149914465604366546186949402759452580810138\n",
              "──────────────────────────────────────────────────────────────────────────────\n",
              "594550089583345799789628469325257986574957232802183273093474701379726290405069\n",
              "                                                                              \n",
              "199480960912699599979964616126215046340472117409731740294616638226640599086197\n",
              "──────────────────────────────────────────────────────────────────────────────\n",
              "599740480456349799989982308063107523170236058704865870147308319113320299543098\n",
              "                                                                              \n",
              "795328648214296399819681545135935417064249056687585662651549744039765391775773\n",
              "──────────────────────────────────────────────────────────────────────────────\n",
              "397664324107148199909840772567967708532124528343792831325774872019882695887886\n",
              "\n",
              "853259269866850179365174379575313910428815600981107567988811558046293547028883\n",
              "──────────────────────────────────────────────────────────────────────────────\n",
              "426629634933425089682587189787656955214407800490553783994405779023146773514441\n",
              "                                                                              \n",
              "566574087333562724206467974469142388036019501226384459986014447557866933786104\n",
              "──────────────────────────────────────────────────────────────────────────────\n",
              "283287043666781362103233987234571194018009750613192229993007223778933466893052\n",
              "                                                                              \n",
              "074598766063502986866974665450911542287429500058399259999334021312279377799338\n",
              "──────────────────────────────────────────────────────────────────────────────\n",
              "537299383031751493433487332725455771143714750029199629999667010656139688899669\n",
              "                                                                              \n",
              "671388894571526881802771989058203880586865500525593339994006191810514400194044\n",
              "──────────────────────────────────────────────────────────────────────────────\n",
              "835694447285763440901385994529101940293432750262796669997003095905257200097022\n",
              "\n",
              "857069594908960174399051323176074239266610970517694748702668623486899956635877\n",
              "──────────────────────────────────────────────────────────────────────────────\n",
              "928534797454480087199525661588037119633305485258847374351334311743449978317938\n",
              "                                                                              \n",
              "821336993636200217998814153970092799083263713147118435878335779358624945794847\n",
              "──────────────────────────────────────────────────────────────────────────────\n",
              "410668496818100108999407076985046399541631856573559217939167889679312472897423\n",
              "                                                                              \n",
              "324825571125533343714229245427147276146822081578434211232301703778982140275945\n",
              "──────────────────────────────────────────────────────────────────────────────\n",
              "162412785562766671857114622713573638073411040789217105616150851889491070137972\n",
              "                                                                              \n",
              "923430140129800093428063208844325485321398734205907901090715334010839262483506\n",
              "──────────────────────────────────────────────────────────────────────────────\n",
              "461715070064900046714031604422162742660699367102953950545357667005419631241753\n",
              "\n",
              "887719962786282114986170469307574894002435958070172261676593833072498076682555\n",
              "──────────────────────────────────────────────────────────────────────────────\n",
              "943859981393212107763640611989433414299268795384771341369213090662793940130609\n",
              "                                                                              \n",
              "359649953482832773811558513742456243582266961223880598429680135620043706618699\n",
              "──────────────────────────────────────────────────────────────────────────────\n",
              "679824976741515134704550764986791767874085994230964176711516363328492425163261\n",
              "                                                                              \n",
              "112364283499182311666454450672150235488287644140297549397153697188509332514905\n",
              "──────────────────────────────────────────────────────────────────────────────\n",
              "556182141749595958795454798332704369898765999725284008414834112539452020245869\n",
              "                                                                              \n",
              "011278551492688725310354221336528420707673287765305317726624693717604306695503\n",
              "──────────────────────────────────────────────────────────────────────────────\n",
              "005639275746363629159093184994339329088893997527556075733507012855068182212826\n",
              "\n",
              "810071235669516403540349521844041422553436640580660595110485101299194930351903\n",
              "──────────────────────────────────────────────────────────────────────────────\n",
              "505947296630773602921196603060978183471382010032372702366112349301440017313845\n",
              "                                                                              \n",
              "532428378109177079209011251343149070397804963101462760835506513552723572195558\n",
              "──────────────────────────────────────────────────────────────────────────────\n",
              "882434120788467003651495753826222729339227512540465877957640436626800021642306\n",
              "                                                                              \n",
              "583437432240244159963942196913237607664317254265430057050405127049264182602070\n",
              "──────────────────────────────────────────────────────────────────────────────\n",
              "613449243847069857316737893039343939492344167263831708474173354125085715316300\n",
              "                                                                              \n",
              "259228789398862082410648676173881674749156883981912534206263126744665260019842\n",
              "──────────────────────────────────────────────────────────────────────────────\n",
              "521043194623628715850641037354095455431097505374485376267560187125771437846702\n",
              "\n",
              "186974333280821420661482233469989111557310163409360381279433673375294140142333\n",
              "──────────────────────────────────────────────────────────────────────────────\n",
              "382507846203220458002033726882097076619759559399982498613611711590651871294092\n",
              "                                                                              \n",
              "464612144634507784164652415865591697738786549152607839642753908193961414553926\n",
              "──────────────────────────────────────────────────────────────────────────────\n",
              "728134807754025572502542158602621345774699449249978123267014639488314839117615\n",
              "                                                                              \n",
              "163772435011053496572458993790603939683574417950462372938831284238692826462470\n",
              "──────────────────────────────────────────────────────────────────────────────\n",
              "320387371797810741547740102790601016465461878535713243965095935213729278053219\n",
              "                                                                              \n",
              "046921740253615285169486380317718169638231711747029006648811969735733318243257\n",
              "──────────────────────────────────────────────────────────────────────────────\n",
              "883486346180296673929660925115409148189156906821419195685863416923563502478978\n",
              "\n",
              "963041411716688861706856390208263390338309557713435382610414975009378720118080\n",
              "──────────────────────────────────────────────────────────────────────────────\n",
              "277290635113610241985319078944169407380327270128205868556557698463747262163880\n",
              "                                                                              \n",
              "658504266661480097510920036626144624830718472221460430617270624749605513353285\n",
              "──────────────────────────────────────────────────────────────────────────────\n",
              "346613293892012802481648848680211759225409087660257335695697123079684077704850\n",
              "                                                                              \n",
              "299336675245814962585141192744672317024919184363751907303014401424930206112371\n",
              "──────────────────────────────────────────────────────────────────────────────\n",
              "778410156852000609641983278508581512344067099412393206461699863003794479890707\n",
              "                                                                              \n",
              "431913287344500248156884046072067886097206013784248341441476930534252667280654\n",
              "──────────────────────────────────────────────────────────────────────────────\n",
              "005691411668005486777849506577233611096603894711538858155298767034150319016364\n",
              "\n",
              "702218161292189976707115682985004896646447775434018025434164269146287486456458\n",
              "──────────────────────────────────────────────────────────────────────────────\n",
              "403958146049416755858077739160706557950160802616143904901558410827291411359391\n",
              "                                                                              \n",
              "897806092212728376750960946942245026029059164087734115010501706783639036996050\n",
              "──────────────────────────────────────────────────────────────────────────────\n",
              "504947682561770944822597173950883197437701003270179881126948013534114264199239\n",
              "                                                                              \n",
              "400599005814008930753610995810729179025734066095830889859146640412290905300860\n",
              "──────────────────────────────────────────────────────────────────────────────\n",
              "166902270598179568801076055902423009401795285870008565767949905406386393533297\n",
              "                                                                              \n",
              "943173126765899198389809034756351726171435788923228140346601513431368899933803\n",
              "──────────────────────────────────────────────────────────────────────────────\n",
              "502120435383616119209684503121807084616157572830077091911549148657477541799674\n",
              "\n",
              "155080160874488921876481742618576751981763801576621932599900853065778781831685\n",
              "──────────────────────────────────────────────────────────────────────────────\n",
              "637403170644043322279122489499723144283409013088472531938767831618829279710813\n",
              "                                                                              \n",
              "655616578271480526774066495080183540078183799433798251122156183525151472106765\n",
              "──────────────────────────────────────────────────────────────────────────────\n",
              "546753963305054152848903111874653930354261266360590664923459789523536599638517\n",
              "                                                                              \n",
              "841637894666918777897626533982652362382194049060231263752922917867171464682135\n",
              "──────────────────────────────────────────────────────────────────────────────\n",
              "121273998252621626326138243422602568112107679350504317377307609024930314268500\n",
              "                                                                              \n",
              "569422600648473720541235357080036555453354442100459479216841832061090452159884\n",
              "──────────────────────────────────────────────────────────────────────────────\n",
              "091465984273594636935244190803423113008969114154538856395768481224372828416507\n",
              "\n",
              "808828009658609162436198400071167524223196609120548050107998719021852145759049\n",
              "──────────────────────────────────────────────────────────────────────────────\n",
              "760424762678389648674388326976506211234516385751515319008657280295697308003982\n",
              "                                                                              \n",
              "445153564837535666658695987129744754243358222452327643395231694179857571108451\n",
              "──────────────────────────────────────────────────────────────────────────────\n",
              "200530953347987060842985408720632764043145482189394148760821600369621635004978\n",
              "                                                                              \n",
              "052086087450838200706817259523229703473350885091806681427850648453170243302019\n",
              "──────────────────────────────────────────────────────────────────────────────\n",
              "819072902540380336230618352796220607811578356294733054702896266684267696904998\n",
              "                                                                              \n",
              "080278939032495806840664541541861871338429390774180883307136920620863408285414\n",
              "──────────────────────────────────────────────────────────────────────────────\n",
              "371656122863423026075565175165985470304205206652597492326066400158409272144990\n",
              "\n",
              "752235824746233935891840840383709220518379193882564920806847432454020306820471\n",
              "──────────────────────────────────────────────────────────────────────────────\n",
              "673256952983854925407446336755528969768567418360559727724314640624253140437366\n",
              "                                                                              \n",
              "573266280269424881164586375981824906738859709182129117037259749138723539788465\n",
              "──────────────────────────────────────────────────────────────────────────────\n",
              "341571191229818656759307920944411212210709272950699659655393300780316425546708\n",
              "                                                                              \n",
              "674259924701694963844230827288519297131600321705071641552027037553520402010504\n",
              "──────────────────────────────────────────────────────────────────────────────\n",
              "968646247201419936036157520044971962486224251092890459983590157180015067883176\n",
              "                                                                              \n",
              "287723842728483453608692422623831871484622107161996566574158385548815159382244\n",
              "──────────────────────────────────────────────────────────────────────────────\n",
              "717816224812779424325417680404747662376018259836014139852311414620135610948589\n",
              "\n",
              "437860457013068959404571627125264548950269069039771130317498170293223555885366\n",
              "──────────────────────────────────────────────────────────────────────────────\n",
              "622827667743639560801786324946302491126335211887343414327783527552279434109886\n",
              "                                                                              \n",
              "782896374580479459839823335825294846459913666105275401964285607161585660644820\n",
              "──────────────────────────────────────────────────────────────────────────────\n",
              "278534584679549451002232906182878113907919014859179267909729409440349292637357\n",
              "                                                                              \n",
              "806361690830776239079831846632831295705098034179433806892909413842436796107748\n",
              "──────────────────────────────────────────────────────────────────────────────\n",
              "584692123079978545285820614580137053043234238802818060376653781401921394887493\n",
              "                                                                              \n",
              "247333578021393272325531869430451048460728724330023303191503614903077847441438\n",
              "──────────────────────────────────────────────────────────────────────────────\n",
              "262229107719806907572385531221233477389108149225362543389884032617292553987438\n",
              "\n",
              "434415793721819809534304335481165466463810293030535034740321972560308179919295\n",
              "──────────────────────────────────────────────────────────────────────────────\n",
              "010013529436722282722641133003729510207012284432151828470750500647364615008338\n",
              "                                                                              \n",
              "824205437206278845549761932450225866203628414098707397539856435129735072336341\n",
              "──────────────────────────────────────────────────────────────────────────────\n",
              "512516911795902853403301416254661887758765355540189785588438125809205768760422\n",
              "                                                                              \n",
              "554687832701444021736108211163447702891935318944874411121186846416358300457033\n",
              "──────────────────────────────────────────────────────────────────────────────\n",
              "214881757704566802543014353154983899417084064549532846932782767895676465179067\n",
              "                                                                              \n",
              "892773234363078129575909938860888400192720698958641226680157128462154142916535\n",
              "──────────────────────────────────────────────────────────────────────────────\n",
              "933935819341101222887129178394855094753756580945795622395044911061088186611609\n",
              "\n",
              "081986605450695120913282646140974219202765549794854403254452048945030951321978\n",
              "──────────────────────────────────────────────────────────────────────────────\n",
              "042098172899189006712740024866355260810471909285814297132576850040960979821794\n",
              "                                                                              \n",
              "111576818712697715646668972001434243213974497129900289538882226964567848212642\n",
              "──────────────────────────────────────────────────────────────────────────────\n",
              "552622716123986258390925031082944076013089886607267871415721062551201224777243\n",
              "                                                                              \n",
              "674531166839272478744862925224467437287095435574075637232977311622993098471335\n",
              "──────────────────────────────────────────────────────────────────────────────\n",
              "740601081720189821828139287194425908381575708886060374829320050597676248798916\n",
              "                                                                              \n",
              "144626017276233063769325140018033309807047670710524413843260935507602207603187\n",
              "──────────────────────────────────────────────────────────────────────────────\n",
              "665409735481708396453253584749833175434181379974543373463880455379086239190247\n",
              "\n",
              "202737095966226446327436364399876886076302308197725173320107815490869031939520\n",
              "──────────────────────────────────────────────────────────────────────────────\n",
              "532092981902069196527109232917882367852837730041132172917013398829605541810960\n",
              "                                                                              \n",
              "360022256068140553736396527963902278806154504345480650627425718406476746138859\n",
              "──────────────────────────────────────────────────────────────────────────────\n",
              "165116227377586495658886541147352959816047162551415216146266748537006927263700\n",
              "                                                                              \n",
              "839822332814317327983658930226193649798761031594077308473526781565410550370498\n",
              "──────────────────────────────────────────────────────────────────────────────\n",
              "341196010827504118840899359102254902848383198216734057911726988025571758441128\n",
              "                                                                              \n",
              "960612589991326514652553461224584335969457402575884928598383308375870456747671\n",
              "──────────────────────────────────────────────────────────────────────────────\n",
              "070764097447537069568094231920294125635448783950606521205542892230145825970157\n",
              "\n",
              "098472260410280086593153451045999726928014976871446401052463701324616090130665\n",
              "──────────────────────────────────────────────────────────────────────────────\n",
              "586192771180971381619060875676511485825159703001840279821046080839852181458175\n",
              "                                                                              \n",
              "685239032364288468166794887417840870375978617572101743506282706272672526345986\n",
              "──────────────────────────────────────────────────────────────────────────────\n",
              "732740963976214227023826094595639357281449628752300349776307601049815226822719\n",
              "                                                                              \n",
              "428237185939018252951958640473952862821157265958285897831438050826642310415452\n",
              "──────────────────────────────────────────────────────────────────────────────\n",
              "606320998284581629858277433075982826537211887083442873798871790526181677467748\n",
              "                                                                              \n",
              "905290491614613326821386333259836628827735615809317109387774405732297086906363\n",
              "──────────────────────────────────────────────────────────────────────────────\n",
              "456888984561234668724496897683845438834906983750985864189846114735635097209737\n",
              "\n",
              "471599766323791663518620749740768690509571331577745163833273996425962555232400\n",
              "──────────────────────────────────────────────────────────────────────────────\n",
              "734600105926697942488651242707600401320673253344905639299923004899864492477080\n",
              "                                                                              \n",
              "772304771765786598547242452273604402033016682506665215241079086356973956727757\n",
              "──────────────────────────────────────────────────────────────────────────────\n",
              "668250132408372428110814053384500501650841566681132049124903756124830615596351\n",
              "                                                                              \n",
              "952260409802096703677830389748033153258931015514293860417476569483210485841067\n",
              "──────────────────────────────────────────────────────────────────────────────\n",
              "555630958686112972767181621589738119126230550794339621386900178863087172171254\n",
              "                                                                              \n",
              "510127377498447986998606012201804139912966382965497969630446860772702823685082\n",
              "──────────────────────────────────────────────────────────────────────────────\n",
              "000678628175016754904634594307643072136074957149056592482101609767784549541293\n",
              "\n",
              "442432066042776269692330168744990975754172127614785165841287817643545401619099\n",
              "──────────────────────────────────────────────────────────────────────────────\n",
              "980735707381793339160873391888351252091947945404593903759235059008468586741451\n",
              "                                                                              \n",
              "479337825626510300060546562877630091566458342568818752727668718811080751758816\n",
              "──────────────────────────────────────────────────────────────────────────────\n",
              "225919634227241673951091739860439065114934931755742379699043823760585733426814\n",
              "                                                                              \n",
              "101442124841528343366885272967535698819937226703474435348753359017221532256308\n",
              "──────────────────────────────────────────────────────────────────────────────\n",
              "820281887344154365426242463802878050719758806274082970461859229702885034925086\n",
              "                                                                              \n",
              "292078526398071192884480899211665983164638564196513131021432907348758728643138\n",
              "──────────────────────────────────────────────────────────────────────────────\n",
              "382536986097389288836182174225902456477829256466746734156733067325965314325777\n",
              "\n",
              "631575390595656629558141901225592549926063018821933554818931616492852086052507\n",
              "──────────────────────────────────────────────────────────────────────────────\n",
              "728225129561801093151707796655710933367029049663402120689058762396373750049965\n",
              "                                                                              \n",
              "241399925143660814891464573502973617695896861019930004097031841651724035988948\n",
              "──────────────────────────────────────────────────────────────────────────────\n",
              "660281411952251366439634745819638666708786312079252650861323452995467187562456\n",
              "                                                                              \n",
              "602554698512823963783462499331182125077783228335842479325799024572985390724208\n",
              "──────────────────────────────────────────────────────────────────────────────\n",
              "412394352950107207925696892658078031748037443432345364326729688237879389883926\n",
              "                                                                              \n",
              "451235819601813740210282676122682180969412771106147112562694320185737372999006\n",
              "──────────────────────────────────────────────────────────────────────────────\n",
              "711549176550964871331272033922702285732336990891108278940567194140914508955338\n",
              "\n",
              "852988482744456613709655946387889298541846862954029769270055065948858205561701\n",
              "──────────────────────────────────────────────────────────────────────────────\n",
              "164806791718018890625348057158017054403143414451493608493043997244567055048040\n",
              "                                                                              \n",
              "683834692347452743038702584841216044749815951270744466462312573231023589352088\n",
              "──────────────────────────────────────────────────────────────────────────────\n",
              "456008489647523613281685071447521318003929268064367010616304996555708818810050\n",
              "                                                                              \n",
              "115247241270881751189675135744531098335197492281688512055551950515994188569952\n",
              "──────────────────────────────────────────────────────────────────────────────\n",
              "497905166173691600632461193878453396095425203241160333838871666502652800895716\n",
              "                                                                              \n",
              "661399128794623850215546402858914909405043467815398583470905927551979962741693\n",
              "──────────────────────────────────────────────────────────────────────────────\n",
              "481146495563224405692150744906080564858826829170443004549844998523875208061450\n",
              "\n",
              "380159121498635224425105456211887172306506906482197690501897140112055755442696\n",
              "──────────────────────────────────────────────────────────────────────────────\n",
              "153183444639999545883777015146743362364914254110661272554806181502062856589426\n",
              "                                                                              \n",
              "693288000108854939803598002333657336661770893545443750008990443074402842966275\n",
              "──────────────────────────────────────────────────────────────────────────────\n",
              "191479305799999432354721268933429202956142817638326590693507726877578570736783\n",
              "                                                                              \n",
              "518975464919054112801086286657848847090449909158646805027376464217540442522310\n",
              "──────────────────────────────────────────────────────────────────────────────\n",
              "675784728847619020588320060425401390616959181792301266223500367946551360511275\n",
              "                                                                              \n",
              "326412683335623216721773902209098985742070298198072067899609221525113874687412\n",
              "──────────────────────────────────────────────────────────────────────────────\n",
              "082062559628571185294880543828612515552632636130711396011503311518962244601478\n",
              "\n",
              "436344603262316071380398093812805473025279236879357057956244097932170157663005\n",
              "──────────────────────────────────────────────────────────────────────────────\n",
              "549632875281276861519268162202737427204901072434249900079004764948936880705209\n",
              "                                                                              \n",
              "919351900311793117678352561174063933256197167693653650213126708642224010786629\n",
              "──────────────────────────────────────────────────────────────────────────────\n",
              "187041094101596076899085202753421784006126340542812375098755956186171100881511\n",
              "                                                                              \n",
              "316511851717391062330543378677021956964507400601882158539632773216811767758390\n",
              "──────────────────────────────────────────────────────────────────────────────\n",
              "389859099719123622709480247750162942095529825740133922623750283627912909565786\n",
              "                                                                              \n",
              "500533089878437313219133225382629003662164157842325288205587909520191571330533\n",
              "──────────────────────────────────────────────────────────────────────────────\n",
              "508731897472112604385322229751466478859768431661205303613752552651216186092076\n",
              "\n",
              "729171508788352638450644788682751047897264365764788825698561890552196774470175\n",
              "──────────────────────────────────────────────────────────────────────────────\n",
              "462641897969180346704818041585496568812177131509490200381174255610214515006045\n",
              "                                                                              \n",
              "469840922347794700361479158175353288834213273428868878499404603260866344455971\n",
              "──────────────────────────────────────────────────────────────────────────────\n",
              "828302372461475433381022551981870711015221414386862750476467819512768143757556\n",
              "                                                                              \n",
              "295434259888708778322586252963323992852852690664417845281073285657116830148966\n",
              "──────────────────────────────────────────────────────────────────────────────\n",
              "277538208212451211113382026284850986238820067351755369070307991405369911607502\n",
              "                                                                              \n",
              "732329712098323218555151826261247823263602203716053332603125900829626253513736\n",
              "──────────────────────────────────────────────────────────────────────────────\n",
              "497843873912060900020438236563658876149380606165798321632771922648329204467524\n",
              "\n",
              "103271668296216241898308272975425187876759180240869684432222757765178314083108\n",
              "──────────────────────────────────────────────────────────────────────────────\n",
              "346758326791195449803986515724615238043548259336876674763208592982959557868250\n",
              "                                                                              \n",
              "438016685525936194392729682635372004711334173275930436897874979364127011170002\n",
              "──────────────────────────────────────────────────────────────────────────────\n",
              "683447908488994312254983144655769047554435324171095843454010741228699447335312\n",
              "                                                                              \n",
              "568283014831820067201408807931305022906628456358428584164560604136982150906075\n",
              "──────────────────────────────────────────────────────────────────────────────\n",
              "699211805166142586297856340221703287978782634484337897307333844820414259396919\n",
              "                                                                              \n",
              "262414531271419992444012354316823771267478872852164684222937375620992458651843\n",
              "──────────────────────────────────────────────────────────────────────────────\n",
              "292906246495283276680707061995329591809043710359041075766004603383728334572276\n",
              "\n",
              "157171291438239552924049531090831510880225303192367239385261097130217311241960\n",
              "──────────────────────────────────────────────────────────────────────────────\n",
              "185006932871444295075311807199523356466731476974375514463531797641532623709276\n",
              "                                                                              \n",
              "820045698102564623702079299180983436890399092317029687940033328266386462447526\n",
              "──────────────────────────────────────────────────────────────────────────────\n",
              "731258666089305368844139758999404195583414346217969393079414747051915779636595\n",
              "                                                                              \n",
              "863154687676397673745164210271504297574318883267616311937396112013444238350121\n",
              "──────────────────────────────────────────────────────────────────────────────\n",
              "653869460289966922325911417095209723599210206962760447289495940335805513316028\n",
              "                                                                              \n",
              "145160575792685855745572962613191072733960281687295375093626380728165905004091\n",
              "──────────────────────────────────────────────────────────────────────────────\n",
              "884825142609702300933202753856887512392891862664844025605463463022249619844255\n",
              "\n",
              "272939770920503361059121695983883254503282944594909953093322312671038923680555\n",
              "──────────────────────────────────────────────────────────────────────────────\n",
              "772561237440562712424550944605592881071556715614241865206795825634317127228646\n",
              "                                                                              \n",
              "287267301656989083918368360728739398324952255146941872475867778835351047615154\n",
              "──────────────────────────────────────────────────────────────────────────────\n",
              "965701546800703390530688680756991101339445894517802331508494782042896409035808\n",
              "                                                                              \n",
              "245453532077015731980548338943891742361527840974553157041516608469743231642490\n",
              "──────────────────────────────────────────────────────────────────────────────\n",
              "379319121276223970977651841940809100063783137834181063405166418192518876620752\n",
              "                                                                              \n",
              "021480439860913005112860250284422751008443080860362655662056546043604396834993\n",
              "──────────────────────────────────────────────────────────────────────────────\n",
              "413872091486015738798866577467281900574048240507629570646497763732669889586774\n",
              "\n",
              "895466151839464957900090238726000963462758292860350742540491818195548601669087\n",
              "──────────────────────────────────────────────────────────────────────────────\n",
              "511137889321344199101608265308869343584287010649354968472611199387032774246400\n",
              "                                                                              \n",
              "073856681632705683429197076023803098789684936059387715393539381042115584759304\n",
              "──────────────────────────────────────────────────────────────────────────────\n",
              "138922361651680248877010331636086679480358763311693710590763999233790967808000\n",
              "                                                                              \n",
              "992264003623434418270301722879207126534236446966985875185145519483420581024265\n",
              "──────────────────────────────────────────────────────────────────────────────\n",
              "768520112459603821375095730077908889499064703014842557647179238058751950848000\n",
              "                                                                              \n",
              "026016920931842432955647786079290085939902644697511888493182443375615990095069\n",
              "──────────────────────────────────────────────────────────────────────────────\n",
              "916681012136434392375861570701180005491582327133583018824613142528767557632000\n",
              "\n",
              "422472787050950049908264007409979858338444696625370420046175514054684304308864\n",
              "──────────────────────────────────────────────────────────────────────────────\n",
              "000000000000000000000000000000000000000000000000000000000000000000000000000000\n",
              "                                                                              \n",
              "993648447667101732204182641454949691344300776120986085007010416334225044696488\n",
              "──────────────────────────────────────────────────────────────────────────────\n",
              "000000000000000000000000000000000000000000000000000000000000000000000000000000\n",
              "                                                                              \n",
              "047836868539849329811446888248873094150377442798288120235160476511966973805138\n",
              "──────────────────────────────────────────────────────────────────────────────\n",
              "000000000000000000000000000000000000000000000000000000000000000000000000000000\n",
              "                                                                              \n",
              "862437363329939305159591229806861826787963210870706276737988439995790729891120\n",
              "──────────────────────────────────────────────────────────────────────────────\n",
              "000000000000000000000000000000000000000000000000000000000000000000000000000000\n",
              "\n",
              "524759732003937584447466144386367517827547056534024186875211659168648087575789\n",
              "──────────────────────────────────────────────────────────────────────────────\n",
              "000000000000000000000000000000000000000000000000000000000000000000000000000000\n",
              "                                                                              \n",
              "514854777129411472396513226471905551049413019397160804880057411892007398941535\n",
              "──────────────────────────────────────────────────────────────────────────────\n",
              "000000000000000000000000000000000000000000000000000000000000000000000000000000\n",
              "                                                                              \n",
              "114941470611866128609128064291980333343997747524092752273174458739828708395939\n",
              "──────────────────────────────────────────────────────────────────────────────\n",
              "000000000000000000000000000000000000000000000000000000000000000000000000000000\n",
              "                                                                              \n",
              "231786478070335259693831530310785546307621579945820252962568730275491552714263\n",
              "──────────────────────────────────────────────────────────────────────────────\n",
              "000000000000000000000000000000000000000000000000000000000000000000000000000000\n",
              "\n",
              "097056501225897195690055065466016672168881228917140430051193432107628522307118\n",
              "──────────────────────────────────────────────────────────────────────────────\n",
              "000000000000000000000000000000000000000000000000000000000000000000000000000000\n",
              "                                                                              \n",
              "256566440230264230149010614990484965380117074682407789815948227747011984716596\n",
              "──────────────────────────────────────────────────────────────────────────────\n",
              "000000000000000000000000000000000000000000000000000000000000000000000000000000\n",
              "                                                                              \n",
              "978094190781061185148617719297116355708187476312761903151877142989478743513764\n",
              "──────────────────────────────────────────────────────────────────────────────\n",
              "000000000000000000000000000000000000000000000000000000000000000000000000000000\n",
              "                                                                              \n",
              "872678091302678906804936263212388464055130433519968231632245728465609550345856\n",
              "──────────────────────────────────────────────────────────────────────────────\n",
              "000000000000000000000000000000000000000000000000000000000000000000000000000000\n",
              "\n",
              "619980919716574589658163241817648464590464244331096338378747340663511086452895\n",
              "──────────────────────────────────────────────────────────────────────────────\n",
              "000000000000000000000000000000000000000000000000000000000000000000000000000000\n",
              "                                                                              \n",
              "978480021980185451731482004363533701281939625812629343370215326535596652609406\n",
              "──────────────────────────────────────────────────────────────────────────────\n",
              "000000000000000000000000000000000000000000000000000000000000000000000000000000\n",
              "                                                                              \n",
              "055275035745712332346700148187485765153535432664070737151106144123779020795290\n",
              "──────────────────────────────────────────────────────────────────────────────\n",
              "000000000000000000000000000000000000000000000000000000000000000000000000000000\n",
              "                                                                              \n",
              "369264900812481548612388143699920062760136836511555964677627567747562928103970\n",
              "──────────────────────────────────────────────────────────────────────────────\n",
              "000000000000000000000000000000000000000000000000000000000000000000000000000000\n",
              "\n",
              "554830573523179840083392095509246968833920188861118572717314776397298171943956\n",
              "──────────────────────────────────────────────────────────────────────────────\n",
              "000000000000000000000000000000000000000000000000000000000000000000000000000000\n",
              "                                                                              \n",
              "441640395379066136767599674238101026733259817995682191003847547141721714994999\n",
              "──────────────────────────────────────────────────────────────────────────────\n",
              "000000000000000000000000000000000000000000000000000000000000000000000000000000\n",
              "                                                                              \n",
              "319061358026896164331347342177579508977418026092325654620372465211628466635712\n",
              "──────────────────────────────────────────────────────────────────────────────\n",
              "000000000000000000000000000000000000000000000000000000000000000000000000000000\n",
              "                                                                              \n",
              "087393438848305045101486954239975491561841127417201609687402490495772829963604\n",
              "──────────────────────────────────────────────────────────────────────────────\n",
              "000000000000000000000000000000000000000000000000000000000000000000000000000000\n",
              "\n",
              "075273755895959966628729581032753296305605622638050766857503140126656459350808\n",
              "──────────────────────────────────────────────────────────────────────────────\n",
              "000000000000000000000000000000000000000000000000000000000000000000000000000000\n",
              "                                                                              \n",
              "632992289885198859454372485778880326111482177827976433103218124505451418813474\n",
              "──────────────────────────────────────────────────────────────────────────────\n",
              "000000000000000000000000000000000000000000000000000000000000000000000000000000\n",
              "                                                                              \n",
              "674309794964615577162454206100463629988962153333988150935441256394567738567845\n",
              "──────────────────────────────────────────────────────────────────────────────\n",
              "000000000000000000000000000000000000000000000000000000000000000000000000000000\n",
              "                                                                              \n",
              "668279046135059640694324903250487380542398488177265462024877478039988213525455\n",
              "──────────────────────────────────────────────────────────────────────────────\n",
              "000000000000000000000000000000000000000000000000000000000000000000000000000000\n",
              "\n",
              "426318734583676455887397660743146605056027006691153611252557460394239616173522\n",
              "──────────────────────────────────────────────────────────────────────────────\n",
              "000000000000000000000000000000000000000000000000000000000000000000000000000000\n",
              "                                                                              \n",
              "603878312840432257498099995354614791540812666391388052453041056945582036497948\n",
              "──────────────────────────────────────────────────────────────────────────────\n",
              "000000000000000000000000000000000000000000000000000000000000000000000000000000\n",
              "                                                                              \n",
              "726000176395576574817200610664434008862521061005228731051730538060143354646292\n",
              "──────────────────────────────────────────────────────────────────────────────\n",
              "000000000000000000000000000000000000000000000000000000000000000000000000000000\n",
              "                                                                              \n",
              "948237416832303139860285567578192374070005052328164654015998889721774081628069\n",
              "──────────────────────────────────────────────────────────────────────────────\n",
              "000000000000000000000000000000000000000000000000000000000000000000000000000000\n",
              "\n",
              "632440068746346523604976647317009828340209748193882620187505721683684336992071\n",
              "──────────────────────────────────────────────────────────────────────────────\n",
              "000000000000000000000000000000000000000000000000000000000000000000000000000000\n",
              "                                                                              \n",
              "459808752544669899045354633004536637012252582500310499674384284597941658702081\n",
              "──────────────────────────────────────────────────────────────────────────────\n",
              "000000000000000000000000000000000000000000000000000000000000000000000000000000\n",
              "                                                                              \n",
              "180792133590713862952654655086304567600409694345441185910669854008115520771264\n",
              "──────────────────────────────────────────────────────────────────────────────\n",
              "000000000000000000000000000000000000000000000000000000000000000000000000000000\n",
              "                                                                              \n",
              "205109000987703330068188775453125750169854089490846904496245340778538320915883\n",
              "──────────────────────────────────────────────────────────────────────────────\n",
              "000000000000000000000000000000000000000000000000000000000000000000000000000000\n",
              "\n",
              "0554162953540818904475851895740513485943⎤\n",
              "────────────────────────────────────────⎥\n",
              "0000000000000000000000000000000000000000⎥\n",
              "                                        ⎥\n",
              "2629529779069895643310427825231868627463⎥\n",
              "────────────────────────────────────────⎥\n",
              "0000000000000000000000000000000000000000⎥\n",
              "                                        ⎥\n",
              "300876873648037271713070852999096285201 ⎥\n",
              "─────────────────────────────────────── ⎥\n",
              "000000000000000000000000000000000000000 ⎥\n",
              "                                        ⎥\n",
              "7813946183526305209502961284293428307513⎥\n",
              "────────────────────────────────────────⎥\n",
              "0000000000000000000000000000000000000000⎦"
            ]
          },
          "metadata": {},
          "execution_count": 56
        }
      ]
    },
    {
      "cell_type": "code",
      "source": [
        "N(x)"
      ],
      "metadata": {
        "colab": {
          "base_uri": "https://localhost:8080/",
          "height": 98
        },
        "id": "suJYynJFhwvn",
        "outputId": "1e7803f1-6954-409c-d1b4-96ef06d10d49"
      },
      "execution_count": 57,
      "outputs": [
        {
          "output_type": "execute_result",
          "data": {
            "text/latex": "$\\displaystyle \\left[\\begin{matrix}2.0\\\\2.0\\\\2.0\\\\2.0\\end{matrix}\\right]$",
            "text/plain": [
              "⎡2.0⎤\n",
              "⎢   ⎥\n",
              "⎢2.0⎥\n",
              "⎢   ⎥\n",
              "⎢2.0⎥\n",
              "⎢   ⎥\n",
              "⎣2.0⎦"
            ]
          },
          "metadata": {},
          "execution_count": 57
        }
      ]
    }
  ]
}