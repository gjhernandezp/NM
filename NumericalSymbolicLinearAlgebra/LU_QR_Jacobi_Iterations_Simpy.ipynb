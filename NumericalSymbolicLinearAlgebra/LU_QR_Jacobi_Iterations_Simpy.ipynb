{
  "nbformat": 4,
  "nbformat_minor": 0,
  "metadata": {
    "colab": {
      "name": "LU_QR_Jacobi_Iterations_Simpy.ipynb",
      "provenance": [],
      "collapsed_sections": [],
      "authorship_tag": "ABX9TyNcR8lMqjvbC+iV45JfqKsw"
    },
    "kernelspec": {
      "name": "python3",
      "display_name": "Python 3"
    },
    "language_info": {
      "name": "python"
    }
  },
  "cells": [
    {
      "cell_type": "markdown",
      "source": [
        "# Matrix SymPy"
      ],
      "metadata": {
        "id": "2b0X1rlVghnD"
      }
    },
    {
      "cell_type": "code",
      "execution_count": 15,
      "metadata": {
        "id": "MA17z6SY_ZCn"
      },
      "outputs": [],
      "source": [
        "from sympy import Matrix"
      ]
    },
    {
      "cell_type": "code",
      "source": [
        "A = Matrix([[1,2,3],[4,5,6,],[10,11,9]])\n",
        "A"
      ],
      "metadata": {
        "colab": {
          "base_uri": "https://localhost:8080/",
          "height": 78
        },
        "id": "FooyaOyc_1Qw",
        "outputId": "1e0d5cb8-0fc2-4aa0-d8e7-5936af6e6480"
      },
      "execution_count": 2,
      "outputs": [
        {
          "output_type": "execute_result",
          "data": {
            "text/latex": "$\\displaystyle \\left[\\begin{matrix}1 & 2 & 3\\\\4 & 5 & 6\\\\10 & 11 & 9\\end{matrix}\\right]$",
            "text/plain": [
              "Matrix([\n",
              "[ 1,  2, 3],\n",
              "[ 4,  5, 6],\n",
              "[10, 11, 9]])"
            ]
          },
          "metadata": {},
          "execution_count": 2
        }
      ]
    },
    {
      "cell_type": "code",
      "source": [
        "A.LUdecomposition()"
      ],
      "metadata": {
        "colab": {
          "base_uri": "https://localhost:8080/"
        },
        "id": "1NUBsmIeCceo",
        "outputId": "051d1e88-4759-4811-e94f-09934c8d87b2"
      },
      "execution_count": 3,
      "outputs": [
        {
          "output_type": "execute_result",
          "data": {
            "text/plain": [
              "(Matrix([\n",
              " [ 1, 0, 0],\n",
              " [ 4, 1, 0],\n",
              " [10, 3, 1]]), Matrix([\n",
              " [1,  2,  3],\n",
              " [0, -3, -6],\n",
              " [0,  0, -3]]), [])"
            ]
          },
          "metadata": {},
          "execution_count": 3
        }
      ]
    },
    {
      "cell_type": "markdown",
      "source": [
        "# Matrix SymPy init_printing "
      ],
      "metadata": {
        "id": "ELO7ZSBMgmof"
      }
    },
    {
      "cell_type": "code",
      "source": [
        "from sympy import Matrix,init_printing, eye\n",
        "init_printing()"
      ],
      "metadata": {
        "id": "3ePpAChGAGZg"
      },
      "execution_count": 64,
      "outputs": []
    },
    {
      "cell_type": "code",
      "source": [
        "A = Matrix([[-2,2,-1], [6,-6,7], [3,-8,4]])\n",
        "A"
      ],
      "metadata": {
        "colab": {
          "base_uri": "https://localhost:8080/",
          "height": 78
        },
        "id": "aor7JSSPCSBh",
        "outputId": "99c0562f-22c4-4abc-90c4-0243f08b5fff"
      },
      "execution_count": 261,
      "outputs": [
        {
          "output_type": "execute_result",
          "data": {
            "text/latex": "$\\displaystyle \\left[\\begin{matrix}-2 & 2 & -1\\\\6 & -6 & 7\\\\3 & -8 & 4\\end{matrix}\\right]$",
            "text/plain": [
              "⎡-2  2   -1⎤\n",
              "⎢          ⎥\n",
              "⎢6   -6  7 ⎥\n",
              "⎢          ⎥\n",
              "⎣3   -8  4 ⎦"
            ]
          },
          "metadata": {},
          "execution_count": 261
        }
      ]
    },
    {
      "cell_type": "code",
      "source": [
        "A.LUdecomposition()"
      ],
      "metadata": {
        "colab": {
          "base_uri": "https://localhost:8080/",
          "height": 78
        },
        "id": "8ifTS_gFC42g",
        "outputId": "464e97fb-7a36-40e6-d9d1-f9ccb3cc3bc2"
      },
      "execution_count": 262,
      "outputs": [
        {
          "output_type": "execute_result",
          "data": {
            "text/latex": "$\\displaystyle \\left( \\left[\\begin{matrix}1 & 0 & 0\\\\- \\frac{3}{2} & 1 & 0\\\\-3 & 0 & 1\\end{matrix}\\right], \\  \\left[\\begin{matrix}-2 & 2 & -1\\\\0 & -5 & \\frac{5}{2}\\\\0 & 0 & 4\\end{matrix}\\right], \\  \\left[ \\left[ 1, \\  2\\right]\\right]\\right)$",
            "text/plain": [
              "⎛⎡ 1    0  0⎤  ⎡-2  2   -1 ⎤          ⎞\n",
              "⎜⎢          ⎥  ⎢           ⎥          ⎟\n",
              "⎜⎢-3/2  1  0⎥, ⎢0   -5  5/2⎥, [[1, 2]]⎟\n",
              "⎜⎢          ⎥  ⎢           ⎥          ⎟\n",
              "⎝⎣ -3   0  1⎦  ⎣0   0    4 ⎦          ⎠"
            ]
          },
          "metadata": {},
          "execution_count": 262
        }
      ]
    },
    {
      "cell_type": "code",
      "source": [
        "A.LUdecomposition?"
      ],
      "metadata": {
        "id": "FqS6OXveEzQo"
      },
      "execution_count": 263,
      "outputs": []
    },
    {
      "cell_type": "code",
      "source": [
        "L, U, perm = A.LUdecomposition()"
      ],
      "metadata": {
        "id": "ffcTKw4oDlYo"
      },
      "execution_count": 9,
      "outputs": []
    },
    {
      "cell_type": "code",
      "source": [
        "L*U"
      ],
      "metadata": {
        "colab": {
          "base_uri": "https://localhost:8080/",
          "height": 78
        },
        "id": "xm71rufAD0Ro",
        "outputId": "2a5625a4-97a2-447d-b9d8-80a9cbfd0d7e"
      },
      "execution_count": 264,
      "outputs": [
        {
          "output_type": "execute_result",
          "data": {
            "text/latex": "$\\displaystyle \\left[\\begin{matrix}-2 & 2 & -1\\\\3 & -8 & 4\\\\6 & -6 & 7\\end{matrix}\\right]$",
            "text/plain": [
              "⎡-2  2   -1⎤\n",
              "⎢          ⎥\n",
              "⎢3   -8  4 ⎥\n",
              "⎢          ⎥\n",
              "⎣6   -6  7 ⎦"
            ]
          },
          "metadata": {},
          "execution_count": 264
        }
      ]
    },
    {
      "cell_type": "code",
      "source": [
        "A"
      ],
      "metadata": {
        "colab": {
          "base_uri": "https://localhost:8080/",
          "height": 78
        },
        "id": "TpKhHFFfD3tY",
        "outputId": "19ed0b36-33d9-4d8f-9310-ad5d6d5954a3"
      },
      "execution_count": 265,
      "outputs": [
        {
          "output_type": "execute_result",
          "data": {
            "text/latex": "$\\displaystyle \\left[\\begin{matrix}-2 & 2 & -1\\\\6 & -6 & 7\\\\3 & -8 & 4\\end{matrix}\\right]$",
            "text/plain": [
              "⎡-2  2   -1⎤\n",
              "⎢          ⎥\n",
              "⎢6   -6  7 ⎥\n",
              "⎢          ⎥\n",
              "⎣3   -8  4 ⎦"
            ]
          },
          "metadata": {},
          "execution_count": 265
        }
      ]
    },
    {
      "cell_type": "code",
      "source": [
        "(L*U).permuteBkwd(perm)"
      ],
      "metadata": {
        "colab": {
          "base_uri": "https://localhost:8080/",
          "height": 78
        },
        "id": "jEZJptOBDpXI",
        "outputId": "1cd97079-ec64-4f18-c361-a245732bd459"
      },
      "execution_count": 266,
      "outputs": [
        {
          "output_type": "execute_result",
          "data": {
            "text/latex": "$\\displaystyle \\left[\\begin{matrix}-2 & 2 & -1\\\\6 & -6 & 7\\\\3 & -8 & 4\\end{matrix}\\right]$",
            "text/plain": [
              "⎡-2  2   -1⎤\n",
              "⎢          ⎥\n",
              "⎢6   -6  7 ⎥\n",
              "⎢          ⎥\n",
              "⎣3   -8  4 ⎦"
            ]
          },
          "metadata": {},
          "execution_count": 266
        }
      ]
    },
    {
      "cell_type": "code",
      "source": [
        "P = eye(A.shape[0]).permuteFwd(perm)\n",
        "P"
      ],
      "metadata": {
        "colab": {
          "base_uri": "https://localhost:8080/",
          "height": 78
        },
        "id": "jAn0Tso5DrMg",
        "outputId": "31219517-dcfb-469b-c7ad-8e881dc48b59"
      },
      "execution_count": 267,
      "outputs": [
        {
          "output_type": "execute_result",
          "data": {
            "text/latex": "$\\displaystyle \\left[\\begin{matrix}1 & 0 & 0\\\\0 & 0 & 1\\\\0 & 1 & 0\\end{matrix}\\right]$",
            "text/plain": [
              "⎡1  0  0⎤\n",
              "⎢       ⎥\n",
              "⎢0  0  1⎥\n",
              "⎢       ⎥\n",
              "⎣0  1  0⎦"
            ]
          },
          "metadata": {},
          "execution_count": 267
        }
      ]
    },
    {
      "cell_type": "code",
      "source": [
        "A = Matrix([[1,2], [1,-1]])\n",
        "A\n"
      ],
      "metadata": {
        "colab": {
          "base_uri": "https://localhost:8080/",
          "height": 58
        },
        "id": "bC4OqveuC8hn",
        "outputId": "ef0a48e4-a7f3-4059-f9bb-ad6d3ce32dc7"
      },
      "execution_count": 268,
      "outputs": [
        {
          "output_type": "execute_result",
          "data": {
            "text/latex": "$\\displaystyle \\left[\\begin{matrix}1 & 2\\\\1 & -1\\end{matrix}\\right]$",
            "text/plain": [
              "⎡1  2 ⎤\n",
              "⎢     ⎥\n",
              "⎣1  -1⎦"
            ]
          },
          "metadata": {},
          "execution_count": 268
        }
      ]
    },
    {
      "cell_type": "code",
      "source": [
        "A.QRdecomposition()"
      ],
      "metadata": {
        "colab": {
          "base_uri": "https://localhost:8080/",
          "height": 68
        },
        "id": "KfzZSElxGXCJ",
        "outputId": "c978b8e2-68a0-4c9c-d1e4-98a490077d55"
      },
      "execution_count": 269,
      "outputs": [
        {
          "output_type": "execute_result",
          "data": {
            "text/latex": "$\\displaystyle \\left( \\left[\\begin{matrix}\\frac{\\sqrt{2}}{2} & \\frac{\\sqrt{2}}{2}\\\\\\frac{\\sqrt{2}}{2} & - \\frac{\\sqrt{2}}{2}\\end{matrix}\\right], \\  \\left[\\begin{matrix}\\sqrt{2} & \\frac{\\sqrt{2}}{2}\\\\0 & \\frac{3 \\sqrt{2}}{2}\\end{matrix}\\right]\\right)$",
            "text/plain": [
              "⎛⎡√2   √2 ⎤  ⎡     √2 ⎤⎞\n",
              "⎜⎢──   ── ⎥  ⎢√2   ── ⎥⎟\n",
              "⎜⎢2    2  ⎥  ⎢     2  ⎥⎟\n",
              "⎜⎢        ⎥, ⎢        ⎥⎟\n",
              "⎜⎢√2  -√2 ⎥  ⎢    3⋅√2⎥⎟\n",
              "⎜⎢──  ────⎥  ⎢0   ────⎥⎟\n",
              "⎝⎣2    2  ⎦  ⎣     2  ⎦⎠"
            ]
          },
          "metadata": {},
          "execution_count": 269
        }
      ]
    },
    {
      "cell_type": "code",
      "source": [
        "A = A = Matrix([[2,-2,-12], [4,2,-18], [-4,-8,30]])\n",
        "A"
      ],
      "metadata": {
        "colab": {
          "base_uri": "https://localhost:8080/",
          "height": 78
        },
        "id": "qbYlF2UFDG-7",
        "outputId": "84fa26b5-b7db-4f4a-e6ca-a7c42956b359"
      },
      "execution_count": 31,
      "outputs": [
        {
          "output_type": "execute_result",
          "data": {
            "text/latex": "$\\displaystyle \\left[\\begin{matrix}2 & -2 & -12\\\\4 & 2 & -18\\\\-4 & -8 & 30\\end{matrix}\\right]$",
            "text/plain": [
              "⎡2   -2  -12⎤\n",
              "⎢           ⎥\n",
              "⎢4   2   -18⎥\n",
              "⎢           ⎥\n",
              "⎣-4  -8  30 ⎦"
            ]
          },
          "metadata": {},
          "execution_count": 31
        }
      ]
    },
    {
      "cell_type": "code",
      "source": [
        "A.QRdecomposition()\n",
        "\n",
        "\n"
      ],
      "metadata": {
        "colab": {
          "base_uri": "https://localhost:8080/",
          "height": 68
        },
        "id": "abh0vHyAHCW4",
        "outputId": "c2edc96d-b222-4111-a15d-facbc3cd2cd1"
      },
      "execution_count": 270,
      "outputs": [
        {
          "output_type": "execute_result",
          "data": {
            "text/latex": "$\\displaystyle \\left( \\left[\\begin{matrix}\\frac{\\sqrt{2}}{2} & \\frac{\\sqrt{2}}{2}\\\\\\frac{\\sqrt{2}}{2} & - \\frac{\\sqrt{2}}{2}\\end{matrix}\\right], \\  \\left[\\begin{matrix}\\sqrt{2} & \\frac{\\sqrt{2}}{2}\\\\0 & \\frac{3 \\sqrt{2}}{2}\\end{matrix}\\right]\\right)$",
            "text/plain": [
              "⎛⎡√2   √2 ⎤  ⎡     √2 ⎤⎞\n",
              "⎜⎢──   ── ⎥  ⎢√2   ── ⎥⎟\n",
              "⎜⎢2    2  ⎥  ⎢     2  ⎥⎟\n",
              "⎜⎢        ⎥, ⎢        ⎥⎟\n",
              "⎜⎢√2  -√2 ⎥  ⎢    3⋅√2⎥⎟\n",
              "⎜⎢──  ────⎥  ⎢0   ────⎥⎟\n",
              "⎝⎣2    2  ⎦  ⎣     2  ⎦⎠"
            ]
          },
          "metadata": {},
          "execution_count": 270
        }
      ]
    },
    {
      "cell_type": "code",
      "source": [
        "Q,R = A.QRdecomposition()"
      ],
      "metadata": {
        "id": "6JBdYM_HIKoH"
      },
      "execution_count": 39,
      "outputs": []
    },
    {
      "cell_type": "code",
      "source": [
        "print(Q)"
      ],
      "metadata": {
        "colab": {
          "base_uri": "https://localhost:8080/"
        },
        "id": "quXgcdqAJnN_",
        "outputId": "ed893936-a640-42fc-c82e-c23875920f90"
      },
      "execution_count": 54,
      "outputs": [
        {
          "output_type": "stream",
          "name": "stdout",
          "text": [
            "Matrix([[1/3, -2/3, -2/3], [2/3, -1/3, 2/3], [-2/3, -2/3, 1/3]])\n"
          ]
        }
      ]
    },
    {
      "cell_type": "code",
      "source": [
        "Q"
      ],
      "metadata": {
        "colab": {
          "base_uri": "https://localhost:8080/",
          "height": 78
        },
        "id": "fD9iC9l1JrwH",
        "outputId": "7ea54dca-2c7b-4b91-f3ed-fa91065fc27f"
      },
      "execution_count": 55,
      "outputs": [
        {
          "output_type": "execute_result",
          "data": {
            "text/latex": "$\\displaystyle \\left[\\begin{matrix}\\frac{1}{3} & - \\frac{2}{3} & - \\frac{2}{3}\\\\\\frac{2}{3} & - \\frac{1}{3} & \\frac{2}{3}\\\\- \\frac{2}{3} & - \\frac{2}{3} & \\frac{1}{3}\\end{matrix}\\right]$",
            "text/plain": [
              "⎡1/3   -2/3  -2/3⎤\n",
              "⎢                ⎥\n",
              "⎢2/3   -1/3  2/3 ⎥\n",
              "⎢                ⎥\n",
              "⎣-2/3  -2/3  1/3 ⎦"
            ]
          },
          "metadata": {},
          "execution_count": 55
        }
      ]
    },
    {
      "cell_type": "code",
      "source": [
        "from sympy import latex\n",
        "print(latex(Q))"
      ],
      "metadata": {
        "colab": {
          "base_uri": "https://localhost:8080/"
        },
        "id": "tmj4CFiSIHaB",
        "outputId": "9304d3a3-a162-42c9-c7b2-1c6f8b4170f0"
      },
      "execution_count": 271,
      "outputs": [
        {
          "output_type": "stream",
          "name": "stdout",
          "text": [
            "\\left[\\begin{matrix}\\frac{1}{3} & - \\frac{2}{3} & - \\frac{2}{3}\\\\\\frac{2}{3} & - \\frac{1}{3} & \\frac{2}{3}\\\\- \\frac{2}{3} & - \\frac{2}{3} & \\frac{1}{3}\\end{matrix}\\right]\n"
          ]
        }
      ]
    },
    {
      "cell_type": "markdown",
      "source": [
        "$$\\left[\\begin{matrix}\\frac{1}{3} & - \\frac{2}{3} & - \\frac{2}{3}\\\\\\frac{2}{3} & - \\frac{1}{3} & \\frac{2}{3}\\\\- \\frac{2}{3} & - \\frac{2}{3} & \\frac{1}{3}\\end{matrix}\\right]$$"
      ],
      "metadata": {
        "id": "uIudqbR_gyUP"
      }
    },
    {
      "cell_type": "code",
      "source": [
        "# Q is ortonormal rows\n",
        "\n",
        "import sympy \n",
        "\n",
        "for i in range(Q.shape[0]):\n",
        "  v = Q[i,:]\n",
        "  w = Q[(i+1)%Q.shape[0],:]\n",
        "  print(sympy.sqrt(v.dot(v)))\n",
        "  print(sympy.sqrt(v.dot(w)))"
      ],
      "metadata": {
        "colab": {
          "base_uri": "https://localhost:8080/"
        },
        "id": "nWUtYC_qHf8g",
        "outputId": "ecc92898-9fb8-4015-f00f-17602c7b08d4"
      },
      "execution_count": 60,
      "outputs": [
        {
          "output_type": "stream",
          "name": "stdout",
          "text": [
            "1\n",
            "0\n",
            "1\n",
            "0\n",
            "1\n",
            "0\n"
          ]
        }
      ]
    },
    {
      "cell_type": "code",
      "source": [
        "# Q is ortonormal columns\n",
        "\n",
        "for i in range(Q.shape[0]):\n",
        "  v = Q[:,i]\n",
        "  w = Q[:,(i+1)%Q.shape[0]]\n",
        "  print(sympy.sqrt(v.dot(v)))\n",
        "  print(sympy.sqrt(v.dot(w)))"
      ],
      "metadata": {
        "colab": {
          "base_uri": "https://localhost:8080/"
        },
        "id": "PoAAx3fLKP0h",
        "outputId": "2d31ed6b-4553-4baf-b215-6329c0a022e0"
      },
      "execution_count": 63,
      "outputs": [
        {
          "output_type": "stream",
          "name": "stdout",
          "text": [
            "1\n",
            "0\n",
            "1\n",
            "0\n",
            "1\n",
            "0\n"
          ]
        }
      ]
    },
    {
      "cell_type": "markdown",
      "source": [
        "# Jacobi Iterations with SymPy"
      ],
      "metadata": {
        "id": "LcIEaNyKgZ1n"
      }
    },
    {
      "cell_type": "code",
      "source": [
        "import numpy as np\n",
        "from sympy import Matrix, Rational, ones, N\n",
        "\n",
        "# A   “close” to a diagonal matrix.\n",
        "n = 4\n",
        "A =  Matrix(np.diag(np.arange(1,n+1)))\n",
        "A"
      ],
      "metadata": {
        "colab": {
          "base_uri": "https://localhost:8080/",
          "height": 98
        },
        "id": "e23kWhn7RpqH",
        "outputId": "579ba42c-ff4d-428d-976f-bcc12268f9ec"
      },
      "execution_count": 273,
      "outputs": [
        {
          "output_type": "execute_result",
          "data": {
            "text/latex": "$\\displaystyle \\left[\\begin{matrix}1 & 0 & 0 & 0\\\\0 & 2 & 0 & 0\\\\0 & 0 & 3 & 0\\\\0 & 0 & 0 & 4\\end{matrix}\\right]$",
            "text/plain": [
              "⎡1  0  0  0⎤\n",
              "⎢          ⎥\n",
              "⎢0  2  0  0⎥\n",
              "⎢          ⎥\n",
              "⎢0  0  3  0⎥\n",
              "⎢          ⎥\n",
              "⎣0  0  0  4⎦"
            ]
          },
          "metadata": {},
          "execution_count": 273
        }
      ]
    },
    {
      "cell_type": "code",
      "source": [
        "P = Matrix(np.random.randint(1,10,size =(n,n)))\n",
        "P"
      ],
      "metadata": {
        "colab": {
          "base_uri": "https://localhost:8080/",
          "height": 98
        },
        "id": "jJfzTT6uRpIY",
        "outputId": "9fc2d097-d3ba-4013-f23e-b6ce672dcea3"
      },
      "execution_count": 274,
      "outputs": [
        {
          "output_type": "execute_result",
          "data": {
            "text/latex": "$\\displaystyle \\left[\\begin{matrix}1 & 9 & 6 & 9\\\\6 & 3 & 9 & 8\\\\4 & 5 & 8 & 8\\\\4 & 1 & 5 & 2\\end{matrix}\\right]$",
            "text/plain": [
              "⎡1  9  6  9⎤\n",
              "⎢          ⎥\n",
              "⎢6  3  9  8⎥\n",
              "⎢          ⎥\n",
              "⎢4  5  8  8⎥\n",
              "⎢          ⎥\n",
              "⎣4  1  5  2⎦"
            ]
          },
          "metadata": {},
          "execution_count": 274
        }
      ]
    },
    {
      "cell_type": "code",
      "source": [
        "for i in range(n):\n",
        "  for j in range(n):\n",
        "      A[i,j] = A[i,j] + Rational(1,P[i,j])\n",
        "A\n"
      ],
      "metadata": {
        "colab": {
          "base_uri": "https://localhost:8080/",
          "height": 98
        },
        "id": "A2ECTre6TbDR",
        "outputId": "aa24b95d-9843-442d-ed36-e2e7120c98ad"
      },
      "execution_count": 275,
      "outputs": [
        {
          "output_type": "execute_result",
          "data": {
            "text/latex": "$\\displaystyle \\left[\\begin{matrix}2 & \\frac{1}{9} & \\frac{1}{6} & \\frac{1}{9}\\\\\\frac{1}{6} & \\frac{7}{3} & \\frac{1}{9} & \\frac{1}{8}\\\\\\frac{1}{4} & \\frac{1}{5} & \\frac{25}{8} & \\frac{1}{8}\\\\\\frac{1}{4} & 1 & \\frac{1}{5} & \\frac{9}{2}\\end{matrix}\\right]$",
            "text/plain": [
              "⎡ 2   1/9  1/6   1/9⎤\n",
              "⎢                   ⎥\n",
              "⎢1/6  7/3  1/9   1/8⎥\n",
              "⎢                   ⎥\n",
              "⎢1/4  1/5  25/8  1/8⎥\n",
              "⎢                   ⎥\n",
              "⎣1/4   1   1/5   9/2⎦"
            ]
          },
          "metadata": {},
          "execution_count": 275
        }
      ]
    },
    {
      "cell_type": "code",
      "source": [
        "x_sol= Matrix(2*ones(n,1)) \n",
        "x_sol"
      ],
      "metadata": {
        "colab": {
          "base_uri": "https://localhost:8080/",
          "height": 98
        },
        "id": "YxqoTqz8Vsq_",
        "outputId": "bb405473-5887-4a5f-a0aa-bffea8745bf7"
      },
      "execution_count": 276,
      "outputs": [
        {
          "output_type": "execute_result",
          "data": {
            "text/latex": "$\\displaystyle \\left[\\begin{matrix}2\\\\2\\\\2\\\\2\\end{matrix}\\right]$",
            "text/plain": [
              "⎡2⎤\n",
              "⎢ ⎥\n",
              "⎢2⎥\n",
              "⎢ ⎥\n",
              "⎢2⎥\n",
              "⎢ ⎥\n",
              "⎣2⎦"
            ]
          },
          "metadata": {},
          "execution_count": 276
        }
      ]
    },
    {
      "cell_type": "code",
      "source": [
        "b= A*x_sol\n",
        "b"
      ],
      "metadata": {
        "colab": {
          "base_uri": "https://localhost:8080/",
          "height": 98
        },
        "id": "9FgF7aNaWz5u",
        "outputId": "7e1b9666-00d4-40da-fffa-9fff17a224d7"
      },
      "execution_count": 277,
      "outputs": [
        {
          "output_type": "execute_result",
          "data": {
            "text/latex": "$\\displaystyle \\left[\\begin{matrix}\\frac{43}{9}\\\\\\frac{197}{36}\\\\\\frac{37}{5}\\\\\\frac{119}{10}\\end{matrix}\\right]$",
            "text/plain": [
              "⎡43/9⎤\n",
              "⎢    ⎥\n",
              "⎢197 ⎥\n",
              "⎢─── ⎥\n",
              "⎢ 36 ⎥\n",
              "⎢    ⎥\n",
              "⎢37/5⎥\n",
              "⎢    ⎥\n",
              "⎢119 ⎥\n",
              "⎢─── ⎥\n",
              "⎣ 10 ⎦"
            ]
          },
          "metadata": {},
          "execution_count": 277
        }
      ]
    },
    {
      "cell_type": "code",
      "source": [
        "D = Matrix(np.diag(np.diag(A)))\n",
        "D"
      ],
      "metadata": {
        "colab": {
          "base_uri": "https://localhost:8080/",
          "height": 98
        },
        "id": "XdxEspwMY8N4",
        "outputId": "3dddc5a4-a774-4838-80a9-5ef04f8ab56a"
      },
      "execution_count": 214,
      "outputs": [
        {
          "output_type": "execute_result",
          "data": {
            "text/latex": "$\\displaystyle \\left[\\begin{matrix}\\frac{10}{9} & 0 & 0 & 0\\\\0 & \\frac{9}{4} & 0 & 0\\\\0 & 0 & \\frac{19}{6} & 0\\\\0 & 0 & 0 & \\frac{37}{9}\\end{matrix}\\right]$",
            "text/plain": [
              "⎡10/9   0    0     0  ⎤\n",
              "⎢                     ⎥\n",
              "⎢ 0    9/4   0     0  ⎥\n",
              "⎢                     ⎥\n",
              "⎢ 0     0   19/6   0  ⎥\n",
              "⎢                     ⎥\n",
              "⎣ 0     0    0    37/9⎦"
            ]
          },
          "metadata": {},
          "execution_count": 214
        }
      ]
    },
    {
      "cell_type": "code",
      "source": [
        "D.inv()"
      ],
      "metadata": {
        "colab": {
          "base_uri": "https://localhost:8080/",
          "height": 98
        },
        "id": "RjZHuPOfZ1df",
        "outputId": "19c8edde-86df-4a33-d22e-66a2a9b636d9"
      },
      "execution_count": 280,
      "outputs": [
        {
          "output_type": "execute_result",
          "data": {
            "text/latex": "$\\displaystyle \\left[\\begin{matrix}\\frac{9}{10} & 0 & 0 & 0\\\\0 & \\frac{4}{9} & 0 & 0\\\\0 & 0 & \\frac{6}{19} & 0\\\\0 & 0 & 0 & \\frac{9}{37}\\end{matrix}\\right]$",
            "text/plain": [
              "⎡9/10   0    0     0  ⎤\n",
              "⎢                     ⎥\n",
              "⎢ 0    4/9   0     0  ⎥\n",
              "⎢                     ⎥\n",
              "⎢ 0     0   6/19   0  ⎥\n",
              "⎢                     ⎥\n",
              "⎣ 0     0    0    9/37⎦"
            ]
          },
          "metadata": {},
          "execution_count": 280
        }
      ]
    },
    {
      "cell_type": "code",
      "source": [
        "D-A"
      ],
      "metadata": {
        "colab": {
          "base_uri": "https://localhost:8080/",
          "height": 98
        },
        "id": "7nHu2iBxaA2H",
        "outputId": "4ff7d660-f8b5-49da-d51a-bc6827e30bdd"
      },
      "execution_count": 281,
      "outputs": [
        {
          "output_type": "execute_result",
          "data": {
            "text/latex": "$\\displaystyle \\left[\\begin{matrix}- \\frac{8}{9} & - \\frac{1}{9} & - \\frac{1}{6} & - \\frac{1}{9}\\\\- \\frac{1}{6} & - \\frac{1}{12} & - \\frac{1}{9} & - \\frac{1}{8}\\\\- \\frac{1}{4} & - \\frac{1}{5} & \\frac{1}{24} & - \\frac{1}{8}\\\\- \\frac{1}{4} & -1 & - \\frac{1}{5} & - \\frac{7}{18}\\end{matrix}\\right]$",
            "text/plain": [
              "⎡-8/9  -1/9   -1/6  -1/9 ⎤\n",
              "⎢                        ⎥\n",
              "⎢-1/6  -1/12  -1/9  -1/8 ⎥\n",
              "⎢                        ⎥\n",
              "⎢-1/4  -1/5   1/24  -1/8 ⎥\n",
              "⎢                        ⎥\n",
              "⎣-1/4   -1    -1/5  -7/18⎦"
            ]
          },
          "metadata": {},
          "execution_count": 281
        }
      ]
    },
    {
      "cell_type": "code",
      "source": [
        "B = D.inv()@(D-A)\n",
        "B"
      ],
      "metadata": {
        "colab": {
          "base_uri": "https://localhost:8080/",
          "height": 98
        },
        "id": "tLGBqRVFZkd-",
        "outputId": "c76bd7dc-8061-4345-c0be-bfea7b9afbbc"
      },
      "execution_count": 282,
      "outputs": [
        {
          "output_type": "execute_result",
          "data": {
            "text/latex": "$\\displaystyle \\left[\\begin{matrix}- \\frac{4}{5} & - \\frac{1}{10} & - \\frac{3}{20} & - \\frac{1}{10}\\\\- \\frac{2}{27} & - \\frac{1}{27} & - \\frac{4}{81} & - \\frac{1}{18}\\\\- \\frac{3}{38} & - \\frac{6}{95} & \\frac{1}{76} & - \\frac{3}{76}\\\\- \\frac{9}{148} & - \\frac{9}{37} & - \\frac{9}{185} & - \\frac{7}{74}\\end{matrix}\\right]$",
            "text/plain": [
              "⎡ -4/5   -1/10  -3/20   -1/10⎤\n",
              "⎢                            ⎥\n",
              "⎢-2/27   -1/27  -4/81   -1/18⎥\n",
              "⎢                            ⎥\n",
              "⎢-3/38   -6/95   1/76   -3/76⎥\n",
              "⎢                            ⎥\n",
              "⎣-9/148  -9/37  -9/185  -7/74⎦"
            ]
          },
          "metadata": {},
          "execution_count": 282
        }
      ]
    },
    {
      "cell_type": "code",
      "source": [
        "c = D.inv()*b\n",
        "c"
      ],
      "metadata": {
        "colab": {
          "base_uri": "https://localhost:8080/",
          "height": 98
        },
        "id": "VWRLMPPXd25P",
        "outputId": "3c1eb052-addb-4d11-eadc-7938634f7ad5"
      },
      "execution_count": 283,
      "outputs": [
        {
          "output_type": "execute_result",
          "data": {
            "text/latex": "$\\displaystyle \\left[\\begin{matrix}\\frac{43}{10}\\\\\\frac{197}{81}\\\\\\frac{222}{95}\\\\\\frac{1071}{370}\\end{matrix}\\right]$",
            "text/plain": [
              "⎡ 43 ⎤\n",
              "⎢ ── ⎥\n",
              "⎢ 10 ⎥\n",
              "⎢    ⎥\n",
              "⎢197 ⎥\n",
              "⎢─── ⎥\n",
              "⎢ 81 ⎥\n",
              "⎢    ⎥\n",
              "⎢222 ⎥\n",
              "⎢─── ⎥\n",
              "⎢ 95 ⎥\n",
              "⎢    ⎥\n",
              "⎢1071⎥\n",
              "⎢────⎥\n",
              "⎣370 ⎦"
            ]
          },
          "metadata": {},
          "execution_count": 283
        }
      ]
    },
    {
      "cell_type": "code",
      "source": [
        "x = 0*ones(n,1)\n",
        "x"
      ],
      "metadata": {
        "colab": {
          "base_uri": "https://localhost:8080/",
          "height": 98
        },
        "id": "mBZXwKojhei-",
        "outputId": "a9d7a742-224d-4f05-eee5-745698f79e5d"
      },
      "execution_count": 287,
      "outputs": [
        {
          "output_type": "execute_result",
          "data": {
            "text/latex": "$\\displaystyle \\left[\\begin{matrix}0\\\\0\\\\0\\\\0\\end{matrix}\\right]$",
            "text/plain": [
              "⎡0⎤\n",
              "⎢ ⎥\n",
              "⎢0⎥\n",
              "⎢ ⎥\n",
              "⎢0⎥\n",
              "⎢ ⎥\n",
              "⎣0⎦"
            ]
          },
          "metadata": {},
          "execution_count": 287
        }
      ]
    },
    {
      "cell_type": "code",
      "source": [
        "x = 0*ones(n,1)\n",
        "steps = 10\n",
        "for k in range(steps):\n",
        "  x = B@x+c\n",
        "x"
      ],
      "metadata": {
        "colab": {
          "base_uri": "https://localhost:8080/",
          "height": 98
        },
        "id": "BznIJJsseMZs",
        "outputId": "9e40d06d-a58a-41fa-9791-4fa5c51a9451"
      },
      "execution_count": 288,
      "outputs": [
        {
          "output_type": "execute_result",
          "data": {
            "text/latex": "$\\displaystyle \\left[\\begin{matrix}\\frac{7352071422869253157507109235441302847011139645866741}{4912052708213152495540018270963942091074560000000000}\\\\\\frac{25807733560853774209525633863565958704706547081134969}{13262542312175511737958049331602643645901312000000000}\\\\\\frac{3027728156143372755353939440742103052706053076679511}{1555483357600831623587672452471914995506944000000000}\\\\\\frac{3913037323524371290021926821897267098976295474837629}{2019399446709851581499785289174065081886208000000000}\\end{matrix}\\right]$",
            "text/plain": [
              "⎡7352071422869253157507109235441302847011139645866741 ⎤\n",
              "⎢──────────────────────────────────────────────────── ⎥\n",
              "⎢4912052708213152495540018270963942091074560000000000 ⎥\n",
              "⎢                                                     ⎥\n",
              "⎢25807733560853774209525633863565958704706547081134969⎥\n",
              "⎢─────────────────────────────────────────────────────⎥\n",
              "⎢13262542312175511737958049331602643645901312000000000⎥\n",
              "⎢                                                     ⎥\n",
              "⎢3027728156143372755353939440742103052706053076679511 ⎥\n",
              "⎢──────────────────────────────────────────────────── ⎥\n",
              "⎢1555483357600831623587672452471914995506944000000000 ⎥\n",
              "⎢                                                     ⎥\n",
              "⎢3913037323524371290021926821897267098976295474837629 ⎥\n",
              "⎢──────────────────────────────────────────────────── ⎥\n",
              "⎣2019399446709851581499785289174065081886208000000000 ⎦"
            ]
          },
          "metadata": {},
          "execution_count": 288
        }
      ]
    },
    {
      "cell_type": "code",
      "source": [
        "N(x)"
      ],
      "metadata": {
        "colab": {
          "base_uri": "https://localhost:8080/",
          "height": 98
        },
        "id": "csmBeRofgBTH",
        "outputId": "8259cea3-a55d-4f88-ae7c-935a66e5cd45"
      },
      "execution_count": 289,
      "outputs": [
        {
          "output_type": "execute_result",
          "data": {
            "text/latex": "$\\displaystyle \\left[\\begin{matrix}1.49674115071613\\\\1.94591149670914\\\\1.94648701405158\\\\1.9377232819885\\end{matrix}\\right]$",
            "text/plain": [
              "⎡1.49674115071613⎤\n",
              "⎢                ⎥\n",
              "⎢1.94591149670914⎥\n",
              "⎢                ⎥\n",
              "⎢1.94648701405158⎥\n",
              "⎢                ⎥\n",
              "⎣1.9377232819885 ⎦"
            ]
          },
          "metadata": {},
          "execution_count": 289
        }
      ]
    },
    {
      "cell_type": "code",
      "source": [
        "x = Matrix(0*ones(n,1))\n",
        "steps = 25\n",
        "for k in range(steps):\n",
        "  x = B@x+c\n",
        "x"
      ],
      "metadata": {
        "colab": {
          "base_uri": "https://localhost:8080/",
          "height": 98
        },
        "id": "v9dWMq1SgHfn",
        "outputId": "f9756891-1c1d-488c-9e8b-2bc8cc43cc75"
      },
      "execution_count": 290,
      "outputs": [
        {
          "output_type": "execute_result",
          "data": {
            "text/latex": "$\\displaystyle \\left[\\begin{matrix}\\frac{612676241707924415615291985672638273574793933092232480298540237289690303238163238394791122786765002084788192381986758682526770457024223}{300891073629373384035406715870130273953837283560127173343688718697072020775779172330836453683530847155923189760000000000000000000000000}\\\\\\frac{6511892463556287320426324953937827362072002262276422175331183082230071088943151170686395763404105083103784178314561578516205351093126753}{3249623595197232547582392531397406958701442662449373472111838161928377824378415061173033699782133149283970449408000000000000000000000000}\\\\\\frac{1527449387777290936251449416470520742635242948737871066806942424668510402549563569337903519031268625112133998505353721146937704579693389}{762257386527745906223030346870996694016387785018988839137344754032582452631973903238119015998278146128338747392000000000000000000000000}\\\\\\frac{3967256794568911792528009925691235986748277870073906274973095407282401541036041241966473947926278478029279735327089800822928538265562567}{1979194617650989370544008619945745802007463020751058740216263571874073736658458555776168673118336239070072537088000000000000000000000000}\\end{matrix}\\right]$",
            "text/plain": [
              "⎡61267624170792441561529198567263827357479393309223248029854023728969030323816\n",
              "⎢─────────────────────────────────────────────────────────────────────────────\n",
              "⎢30089107362937338403540671587013027395383728356012717334368871869707202077577\n",
              "⎢                                                                             \n",
              "⎢65118924635562873204263249539378273620720022622764221753311830822300710889431\n",
              "⎢─────────────────────────────────────────────────────────────────────────────\n",
              "⎢32496235951972325475823925313974069587014426624493734721118381619283778243784\n",
              "⎢                                                                             \n",
              "⎢15274493877772909362514494164705207426352429487378710668069424246685104025495\n",
              "⎢─────────────────────────────────────────────────────────────────────────────\n",
              "⎢76225738652774590622303034687099669401638778501898883913734475403258245263197\n",
              "⎢                                                                             \n",
              "⎢39672567945689117925280099256912359867482778700739062749730954072824015410360\n",
              "⎢─────────────────────────────────────────────────────────────────────────────\n",
              "⎣19791946176509893705440086199457458020074630207510587402162635718740737366584\n",
              "\n",
              "3238394791122786765002084788192381986758682526770457024223 ⎤\n",
              "────────────────────────────────────────────────────────── ⎥\n",
              "9172330836453683530847155923189760000000000000000000000000 ⎥\n",
              "                                                           ⎥\n",
              "51170686395763404105083103784178314561578516205351093126753⎥\n",
              "───────────────────────────────────────────────────────────⎥\n",
              "15061173033699782133149283970449408000000000000000000000000⎥\n",
              "                                                           ⎥\n",
              "63569337903519031268625112133998505353721146937704579693389⎥\n",
              "───────────────────────────────────────────────────────────⎥\n",
              "3903238119015998278146128338747392000000000000000000000000 ⎥\n",
              "                                                           ⎥\n",
              "41241966473947926278478029279735327089800822928538265562567⎥\n",
              "───────────────────────────────────────────────────────────⎥\n",
              "58555776168673118336239070072537088000000000000000000000000⎦"
            ]
          },
          "metadata": {},
          "execution_count": 290
        }
      ]
    },
    {
      "cell_type": "code",
      "source": [
        "N(x)"
      ],
      "metadata": {
        "colab": {
          "base_uri": "https://localhost:8080/",
          "height": 98
        },
        "id": "pI3MqxSFgKJu",
        "outputId": "93a58e45-9b52-4b74-9389-ccb8704eea4e"
      },
      "execution_count": 291,
      "outputs": [
        {
          "output_type": "execute_result",
          "data": {
            "text/latex": "$\\displaystyle \\left[\\begin{matrix}2.03620610713961\\\\2.00389130395918\\\\2.00384990001234\\\\2.00448038772329\\end{matrix}\\right]$",
            "text/plain": [
              "⎡2.03620610713961⎤\n",
              "⎢                ⎥\n",
              "⎢2.00389130395918⎥\n",
              "⎢                ⎥\n",
              "⎢2.00384990001234⎥\n",
              "⎢                ⎥\n",
              "⎣2.00448038772329⎦"
            ]
          },
          "metadata": {},
          "execution_count": 291
        }
      ]
    },
    {
      "cell_type": "code",
      "source": [
        "x = Matrix(0*ones(n,1))\n",
        "steps = 30\n",
        "for k in range(steps):\n",
        "  x = B@x+c\n",
        "x"
      ],
      "metadata": {
        "colab": {
          "base_uri": "https://localhost:8080/",
          "height": 118
        },
        "id": "T7WWAEgQgVXW",
        "outputId": "068d082d-d304-4f64-d5e9-4f0a58bab445"
      },
      "execution_count": 294,
      "outputs": [
        {
          "output_type": "execute_result",
          "data": {
            "text/latex": "$\\displaystyle \\left[\\begin{matrix}\\frac{18834862526562232362879982569888567371298942552797195282585090854002237953956386528714720915646068581904245401874698317923277699036781403458495248196183099971133333}{9488874867254188981131775564868684598104656596679231009682418244952467884472919108903098575011926576669565274778252047153805947568128000000000000000000000000000000}\\\\\\frac{102396920711063726608461748970683564932824849610257739075397452204938932215860698588417863492822407226640637240465256744024084203702146209900160231115173989049628669}{51239924283172620498111588050290896829765145622067847452285058522743326576153763188076732305064403514015652483802561054630552116867891200000000000000000000000000000}\\\\\\frac{48038475515971356392533028775980163893523146448400911451990789764710408595559258770604285863095955196417386851907981668851225806425359420621640318323907896719704869}{24038482997043945418867164764334000981865130044920718557862126220546251973998061742554516390030213994229565362771571852789641733839257600000000000000000000000000000}\\\\\\frac{31178778338176306783435043794338540139936800750197717037608926156274610449600360643432556740225994207425028455567215560578518934076418172706043635558252853350342033}{15603927559484666324527808706672948005772101958983624327033310002810724965577689201307317656686279259412174007413125588652925336000921600000000000000000000000000000}\\end{matrix}\\right]$",
            "text/plain": [
              "⎡18834862526562232362879982569888567371298942552797195282585090854002237953956\n",
              "⎢─────────────────────────────────────────────────────────────────────────────\n",
              "⎢94888748672541889811317755648686845981046565966792310096824182449524678844729\n",
              "⎢                                                                             \n",
              "⎢10239692071106372660846174897068356493282484961025773907539745220493893221586\n",
              "⎢─────────────────────────────────────────────────────────────────────────────\n",
              "⎢ 5123992428317262049811158805029089682976514562206784745228505852274332657615\n",
              "⎢                                                                             \n",
              "⎢48038475515971356392533028775980163893523146448400911451990789764710408595559\n",
              "⎢─────────────────────────────────────────────────────────────────────────────\n",
              "⎢24038482997043945418867164764334000981865130044920718557862126220546251973998\n",
              "⎢                                                                             \n",
              "⎢31178778338176306783435043794338540139936800750197717037608926156274610449600\n",
              "⎢─────────────────────────────────────────────────────────────────────────────\n",
              "⎣15603927559484666324527808706672948005772101958983624327033310002810724965577\n",
              "\n",
              "386528714720915646068581904245401874698317923277699036781403458495248196183099\n",
              "──────────────────────────────────────────────────────────────────────────────\n",
              "191089030985750119265766695652747782520471538059475681280000000000000000000000\n",
              "                                                                              \n",
              "069858841786349282240722664063724046525674402408420370214620990016023111517398\n",
              "──────────────────────────────────────────────────────────────────────────────\n",
              "376318807673230506440351401565248380256105463055211686789120000000000000000000\n",
              "                                                                              \n",
              "258770604285863095955196417386851907981668851225806425359420621640318323907896\n",
              "──────────────────────────────────────────────────────────────────────────────\n",
              "061742554516390030213994229565362771571852789641733839257600000000000000000000\n",
              "                                                                              \n",
              "360643432556740225994207425028455567215560578518934076418172706043635558252853\n",
              "──────────────────────────────────────────────────────────────────────────────\n",
              "689201307317656686279259412174007413125588652925336000921600000000000000000000\n",
              "\n",
              "971133333 ⎤\n",
              "───────── ⎥\n",
              "00000000  ⎥\n",
              "          ⎥\n",
              "9049628669⎥\n",
              "──────────⎥\n",
              "0000000000⎥\n",
              "          ⎥\n",
              "719704869 ⎥\n",
              "───────── ⎥\n",
              "000000000 ⎥\n",
              "          ⎥\n",
              "350342033 ⎥\n",
              "───────── ⎥\n",
              "000000000 ⎦"
            ]
          },
          "metadata": {},
          "execution_count": 294
        }
      ]
    },
    {
      "cell_type": "code",
      "source": [
        "N(x)"
      ],
      "metadata": {
        "colab": {
          "base_uri": "https://localhost:8080/",
          "height": 98
        },
        "id": "Yfh-vbrKgWCu",
        "outputId": "8d671126-0782-4b29-d85f-13d889d0dd10"
      },
      "execution_count": 293,
      "outputs": [
        {
          "output_type": "execute_result",
          "data": {
            "text/latex": "$\\displaystyle \\left[\\begin{matrix}2.03620610713961\\\\2.00389130395918\\\\2.00384990001234\\\\2.00448038772329\\end{matrix}\\right]$",
            "text/plain": [
              "⎡2.03620610713961⎤\n",
              "⎢                ⎥\n",
              "⎢2.00389130395918⎥\n",
              "⎢                ⎥\n",
              "⎢2.00384990001234⎥\n",
              "⎢                ⎥\n",
              "⎣2.00448038772329⎦"
            ]
          },
          "metadata": {},
          "execution_count": 293
        }
      ]
    },
    {
      "cell_type": "code",
      "source": [
        "x = Matrix(0*ones(n,1))\n",
        "steps = 1000\n",
        "for k in range(steps):\n",
        "  x = B@x+c\n",
        "x"
      ],
      "metadata": {
        "colab": {
          "base_uri": "https://localhost:8080/",
          "height": 118
        },
        "id": "LFgJpWTGhsze",
        "outputId": "c3116f57-e05b-4394-d658-1109b10d6e7a"
      },
      "execution_count": 295,
      "outputs": [
        {
          "output_type": "execute_result",
          "data": {
            "text/latex": "$\\displaystyle \\left[\\begin{matrix}\\frac{35309129304522510941279465071548118891844003532717701478363781292403918338455860969575619081814241659091800645821094658350996564076100587654027136019240512896992957564224218922034446624681623054405375444035396214031813981248915951250688332192312313803240455077416244912330567546005416773930592343798281123964602851335390736861040770864669533711644532857996657973424767176655565413286098021334114148219568927820303358691109313935574817644088322477351252674489546333764785507381414196857957864673309642380977398702877103949572421276057307564753885052605566158519922101314757446536901697206987003821169224547846786225592107549105437059100665712300280072032782596410112572427266880161477155107356492796175048955160177230273625177624860092418113215256881672404825799005031988656445417258586926630686578985986450752509672925235257503728737166590006283408218553370570232723363371564930451288537659629866598371263605515922035785251568635356808678565938312856808387676177317714815168411376914755580564581842018117992801057199507086630001566481788501166442406069680957987805498279928054089139342559762187059153451729041339270761510504920160558468207701770228108983804552973441432638140101594898544541574863055209055777097587099181630391609141035302491200659584014391503934953317057802841549851023383634220448039266078767540239028837382764722590245259896771549545903199463048412931389181806568415485240886355963919405880763633409895241685125264992794154041365900410540953987162355386612616456295272057368228513433656850582881989640463447663177895531467241575691957673525568064102604057731148979843719334060386358073899895574299017253972251228248047885545375472860442725290665358620593975130707019506941481296997954766141483654211351596968832323624960987961752319023263811854465968883629865633389506302496826261302603079377454000219148115767144586241871738060019066178553697731076889242218677991559642466645166484556183763775672801155719511709949439451666513498391761425386230944528689497660732661163443747487529232848960951359517805153421252535633514684460485100915866089637063521843596310069204653223925483917840773263060625958219608133669410183842794089614969729897743932457377281302635018729585378559096295101055091260740685714972977829931239366462040477164147269557741149348128484142522283724231963313574760704191298968128909507813386325297850036189488950739913623486508064740058021782255033025406409980758785672664636323540440303224726657369746192075732474107342885699046189749837911616236503009832846366926980948218552895854267547883792939590761274373982367230295243236932023733915932207616593656718887791520795667748881643110411281130316335380293634379296358572535675583143474205019143923606361318110550573481519898805673063094720255765412888397258768207028643040810264326459405373072409579996916799680626714576726922652395248207682964240540414242561421266846360645044006276509656148141546483141114296013851903400574592354758061783202234672923805958210200426971792753437196187903500361404439079066554427821772327705188152345968353883632818379210709338638403786377428983392616171571406328526117029600685748309607165157404836938775519228231877380732897495586181265527116020454010505230808635682287528917461933639577008252525495259640197940368156766001458066179082649144941915172372370593452120495429409417381861852735160283129744911869489201079760471982063167011310935744660840119273952341614980705088084127322710312966173850973584989468422025370135797365468617671877892636630901351936675248068382180480588157194797451429941246161794294547089677959821155464890009450777241355225379798696091881283413994760450632644916474067233013706462653510073343163590371975334681050085021734775662002752732891340495503142220148678364139912296442853610212550476259812348522168700711061333408591093693572902107028614892582086447045543911019912444547100509031708351210768248719095286438903464271535720286344968778998469231085918816733533970152630037628729311259704901424291578918974795745684336180172593330778613669814228453414491327573869391559334833045741514459653916298830483098608883116831186058564692654475316342204657139679787620359570983286836190461219419667564754510505796534689710158705399640188352795116439917637008320826268587606405229941978914972327581161929107143805971614731943742125461140204697805614575436618596598566081710168896801366914779614326972210698282206872624158570476397527186552612515871261143372091676861517036495839793646547753448406849742248916426611194589140871941219528530894397492007687371734208319239005371372983714774962634489872393867196366056095740922062857522306930270142684840305117393173302602251369427772638457157325355026418402047394409128853224115772149190510211932969065912994543834466990261673189036696675711642473184702768788477178621534961283746628273365310050953532689967441232462684917866758741680356647662161787675561499837667856333213668847632326095814682525838309298983334828213969573274384893213732529777307433875072795224520548231608041135262573894308467616166019599733687546521494131544203502667360069193210078770310297884598028305626322469845104239694224493474655996886496104618033867987032845984416308908777774974777039770366421255155947951130523112691913848619695764307819747289807388030843849901850741328483161755560276268146582323696363329455304239034194592946968304839694444783597449611810259383500463204424772835800146168304451195335352388183128127901844793792262967972008790925303886164061429418019541225747628774646295617582028409451230325201719228699822069734711641368646237002485056001315231008925581859690413806941801567657646209591}{17654564652261255470639732535774059445922001766358850739181890646201959169229548507187506554956359010707964368115925069823917042429574343148804713256732751284238048225406500361556989272725591055399829081127377130351361286886942928390723258599237180359858520845919580507404749370633332982515334476695804916511972672565563507917797359003354535183399182926197606379407710401867322786936714206430303526748703030408709398094345905161706088988005210918410389537330768622000342473488740566681221878362436105567095759459173492330988957069661741429758545331837527352215390883149302240441101596450188656389508482507267257842170112664959077330182435735967011894534156801121551490872454203866504413575838561950087338924956629402247108000652846640693284866914584668523435111841029294652601884677927200666140994994218181144218458214356455101627152179411554378169056206561537392104787123485897036345033656413577062681694010484362593586428242442066079562052725131565141254909271803406390353160103719073985471701937458682677883402297334387475854995026936380157491781341778402998412041073588418049770913418891065990049660166134881022014982991869891041903923810850215069405428386830082047865799717671883312935951900934708972241218312296599708973997924027907210903163060760240622766042800236849712233749697359425179203576824182061529167523927091535220541018016406050064414170759045598502201858846893985830123916929455970881200585608865490171341354580245430097713722921983563500146129030051679093308169142112251229430200268150665847245402365565657677903126248144639188824216766451505518350255401621329832731409112284121317505151360407719771882343551180352236970317768124299993129159937326106992576095550032744058999004264988449715174403864498427761949444352930918949106358869146092694888560481152746371019661778753602623989258302039903127675716639557951774495689005660516104241666300370817590121482793101067278503102920784169727830393464649661483450394727209352683821616705036861125683550998843486085068684750783339412617514632427039380200874907996237826112046921981456760302423815484685532662149718493810688398282654548202286852996043528822709969767141226954244478308967441485402213176924918932477232902175076451931801539557278734963072252879179282319386838593217661725971654456116777197060168326017932826525511036434813784297811952559036195191218510323433723741628742027383388929688693571778511715305029011230744878618737182972402096538623609429441339116354956865895205959241096788149100785271613240521785263595828640627041474223922377828502116997787832519839539947340024013314918535989850911932527578306055592561845113291095538102165906439402632730943459821070907028947660481402824452070330766745477849051747249161939511996136314931095615369721783587731658521006379463379907783892368559839301145089232615279223592318853681099853429115182768584820924767755314796118780211270174526285098720538278379460805980353721478972680784437773263965868452366249551795880354526954614357358674682122303916658699805768789168611722509824003553274262843921941644228908394576535703480358371774406980020120133284524610375265074808471459177349153091655427651514994710887138452131322703926965730666380505312684879362427978974873308896230062316781605418232749549306805492231571061831707495391282021373631258730307185019062128109852905856194606935704138993866549921750608043409439845398845364887021678234891599579198197050622554939694404497631995248199201599725173511160679588205802779606326057665836949443318721401794912486782231271332136407110522779035447265554118002141748623505832718266803860032590734150578993789200831986523423110230826644049497598372008268440141562520350116992296378888341693855784982839669582373484192947648011886020725087385709150240986233253446866355631308621324911669942678161678441488302514987744234900269315115581331478259822302525184946196844064527563449684916958334344413992536179182725487350992592975089393095032564603456101849607549355211997922733766810322515040679244504718549182299748519793188678218620599890441835894977430971600246214351177888830095278561200321346151583671474917199532793852266476825709632866194881712240368170855207880749993695176616517831376195819516702866639152899687964086428105459491376247518713407045311462003851956830002113301670604811392327738860724633800403652827456360188367641766940486157108029636694589918083033469386362366789213598266978110530464676851055840993846117151215626156380243830301657958266784051090179414986927423432233774175471016947737880136258762552642610860199054605960897314298722698993468071249653018420618246995528924414544258206269440000000000000000000000000000000000000000000000000000000000000000000000000000000000000000000000000000000000000000000000000000000000000000000000000000000000000000000000000000000000000000000000000000000000000000000000000000000000000000000000000000000000000000000000000000000000000000000000000000000000000000000000000000000000000000000000000000000000000000000000000000000000000000000000000000000000000000000000000000000000000000000000000000000000000000000000000000000000000000000000000000000000000000000000000000000000000000000000000000000000000000000000000000000000000000000000000000000000000000000000000000000000000000000000000000000000000000000000000000000000000000000000000000000000000000000000000000000000000000000000000000000000000000000000000000000000000000000000000000000000000000000000000000000000000000000000000000000000000000000000000000000000000000000000000000000000000000000000000000000000000000000000000000000000000000000000000000000000000000000000000000000000000000000000000000000000000000}\\\\\\frac{5958415570138173721340909730823745062998675596146112124473888093093161219614913930159398490084939474237753216850092734628366630412640832363222405379919623023990461998710077921206306070969759983178702083410820325099424347828034051466552523682373255456596342170947922641375529607774150529114685527527393682649005371280171659831982874094491697239655867810740201100533353102315416098876421186460082454393239349736196808407718133994036554879172109594603289117366849028871258752596867127196915346627241355229668997516292683303140442006917592958239946481121062389442107863241352140749739655211560870040529400561068833499221259218569808160407388486118334708237239865714140415676305109842702447158752915999870076536975802547920492949957568872775851810370648078805020978467439459421067848675858166819779710837182696405607125117413998909348319659593817311147844119865656785107550102756294712866686922511038107349437360138335218127392704473486121127574378363790823307459206276974027373428324875049432472275887433185960772151680493254411577245687278601268547513955099400530934290682492930568248785984390643943681736635235174955246802565730530381801531258357877501642034062763380236937914513959737596778715156866364368684345356041142690544194182202257083509005440315103673809510898618807287142941382649041559695444232705681724371465230335372138912176146566817152743824279218310887545892979264199211844985052204979428694679843381921496931134572374318943802877458905873274326386670051702850267659905562663261620040049757952927772622577909482697880250800402896691734794457168289481313269986057896231359635094197679943202313869176722795567795492347018908369963753801851796342942327951145592363267759559980899479933599210872575452450611778838525857413891180902389322645444601996407904570493031537398730519513211181423537418126291344463811402630963797009506271516768121638350721898936123445522012268309477130640852560315452829508936803075547703264016874603143619828875952647269745592024844300389588676357925476939450220333644519095649454605579093463535441940860864399187674846062232785230471426061300853998500971549648990821258723779530739711851000398337030692209860370071407143385408657572862119102930273422985140721928510208328273220679865918887127489545515367121178224467818462861138726549476023053082361721902853455257705385961314586975136298641008385648577931587776525529206135782539429185546209966174644647412209167503639410916291226767574967723480198114484516001883169446185743357723475485477587682492310925990400514729728692669640500242849093280705977083460017742427579149435422464303209879085995271087524941118125428694845528168830509938652788268827103072959543845259269130300914609646586189951154988224541212022996602689561152498793742126314607915441332002486193439052556538359727744771050571821684345792702711684261507148248350638130815204962832071891749117562968791594641705731752395567226984638937206149343197278682898750253832880551623103402718199406012238734459010338339872100554869037778021562929129058317429081377997976851107429996659865756115436297025909196027342360649052780544286931633464216281551860021140262950642177011852692682127326543495016472385460746128296674453814884349273399957312488376392194296155237551006064537993234708786529057265975719508086220942151689992672638498104253731477329975315141736833486534548909893080927346849022135241594996976081763775878391406070931675051010765171429683514468506971930060947356624628667525843117173585336925698206138271394194355743206469618795294805542717481406807776832373869558653703737464653318983322775469695827915744580764866044912485406244326582697821710821231405716815347312713969359904685761712123547230795128574877568706951959714169102326655792160718042228903434974852004200951533049438513607791132887308873906263171958260644412825291352823403353813224981321380181862138395849577628558762193599220348959741267434410176324361606864598626932942376281867160702151233455147974211773329472597710427371586865328482554587265750828412090933604386691178265305755689701162844217378851210103212536038429423370516960812218122033548631531143952683516900082214242207188864180407975069569981470958346174972407444993211148452548353861682797882507303720047293644946017135258320991680319295353521846513503290740938046873313756362694310899781280700133799699516083011432880322431322664242924990836206704249062146930922087993458821224265329808912455312808214805645007080232763095394468040835557135669608363855873353199505457345620688300193758963656108965942449087183197467974095207051490983097472371799150065661227029189990472307006597327968446532910844698221959465530720887919305357710934400016335064697684863832011417331051216812100020870543214216528534461431783290295889263666091205129709014733524117399846043398115282754657988658057513246788859868710943989376869329436400014665667106158517720667081326645930692194696212804504801252104912643226133859831812443138304476679643127523989486816190307839569801186848468148194268203995283153093405995557031240851461992005879917177405757433825226876257778517772274541754821982424242777498422301759578196764586493574350030222160327129571163989995568478499775294145195285963357546573326988358028103803226851519588750438803374953186825826864005471519566980504675299440074996100335470337417032369808642193095494416893755993262783184894928650606118868691371431653549740762678718577091550304537671144365960223136686191342281624388053168371785316059299485440133637758267699624210824447758924448212574248766288015263170255493012755626026233098590689906649934935857170296156957065033127590632072016617109}{2979207785069086860670454865411872531499337798073056062236944046546580609807486310587891731148885583056968987119562355532786000909990670406360795362073651779215170638037346936012741939772443490598721157440244890746792217162171619165934549888621274185726125392748929210624551456294374940799462692942417079661395388495438841961128304331816077812198612118795846076525051130315110720295570522335113720138843636381469710928420871496037902516725879342481753234424567204962557792401224970627456191973661092814447409408735526830854386505505418866271754524747582740686347211531444753074435894400969335765729556423101349760866206512211844299468286030444433257202638960189261814084726646902472619790922757329077238443586431211629199475110167870616991821291836162813329675123173693472626568039400215112411292905274318068086864823672651798399581930275699801316028234857259434917682827088245124883224429519791129327535864269236187667709765912098650926096397365951617586765939616824828372095767502593735048349701946152701892824137675177886550530410795514151576738101425105505982031931168045545898841639437867385820880153035261172465028379878044113321287143080973792962166040277576345577353702357130309057941883282732139065705590200051200889362149679709341839908766503290605091769722539968388939445261429402998990603589080722883047019662696696568466296790268520948369891315588944747246563680413360108833410981845695086202598821496051466413853585416416328989190743084726340649659273821220846995753542731442394966346295250424861722661649189204733146152554374407863114086579338691556221605599023599409273425287697945472328994292068802711505145474261684439988741123370975623840545739423780554997216124068025559956081969716800889435680652134109684828968734557092572661698059168403142262444581194525950109567925164670442798187338469233652795277182925404361946147519705212092590781188187575468333000221335805103247398617882328641571378897159630375332254110216578265394897818974970314959099231054838276855340551694688525879205594222062895408897640724365133156407918084370828301034018863040683636737764995830553667210197955009135906443082345488832307398205082048528755714638255750661623473606080069855533052242044151263491509800290786525018442673361503891396529012605480416257716689469706152003903405015526164476179987398374826100255766994337357938518123617079440881399850217120946881884967040237623851957723645645188198266911899626592853790892734091218225975884898971119816005621935083000160757514584734338051263231796083105813248775286901258559732243376696737722922366113629052246892502948287341388614028839146881244811362867872372054740496711649194273346708844805715561134917706236726626286868316888299387027482348296077292649348003144622385093640550980429717375419826534445359438531837194472882068233808003828368981203806558685600266163187092198688531054558709371845044160651841951310610409090834476534011009184690499576639882373874238294240301336804611865554809826423591172804276352608138785936155592223483172203228173532800599615031854911827652463628291584790399962310475236931177878395272491763528000825981373929558736177669584216853416193155357462204613797160706287675467049951710271515573392409721452009870876238823015956895914326776486445523426814077616684100639847278841106800274910739337471966734118537677863232839920400073455214980299295415107325342973911055155324684908202137957428989695752292556146073430758975399198133615269953623030008364680509729219058567522231109985218560034236552891482144501527037298018699900718962231726062257412861420080216609271207523151380499686387910205201927640397725827649851451996183352719725276395299273888675309082242450013937407660838163715854194242025525457559915602005765997358496338419103166426861519158697512783329848578844302826939783237001151049404181839639420446925754349686956345013551124959670717435889026332134329736718920619861240480237084925990480000064546335084786745276833217187121273953692024649461323149241924413114622510171255174513082562715100589449392226231512059807277441476457541548671761268740078578257202554227163079744561392277421158962569967964338500546170386288940562128831816329876561436061054037384044733044543443608745357051822343939584742796289169741768782887438896309213150017715062856619656914561922455305932747281953818116414633260781787039548171207039011980001192212048676511897958948649395679794707552556152015914218615673167711532269267636913889166146363404780457519808621467776279044002704189449392110734109930767272993666180758440582658590464755901421787909455455147737023378946858479329180495505994954343572307968000000000000000000000000000000000000000000000000000000000000000000000000000000000000000000000000000000000000000000000000000000000000000000000000000000000000000000000000000000000000000000000000000000000000000000000000000000000000000000000000000000000000000000000000000000000000000000000000000000000000000000000000000000000000000000000000000000000000000000000000000000000000000000000000000000000000000000000000000000000000000000000000000000000000000000000000000000000000000000000000000000000000000000000000000000000000000000000000000000000000000000000000000000000000000000000000000000000000000000000000000000000000000000000000000000000000000000000000000000000000000000000000000000000000000000000000000000000000000000000000000000000000000000000000000000000000000000000000000000000000000000000000000000000000000000000000000000000000000000000000000000000000000000000000000000000000000000000000000000000000000000000000000000000000000000000000000000000000000000000000000000000000000000000000000000000000000}\\\\\\frac{44724897119061847192287322423960950596335737808109088539260789637044963228714420360746630389695609355883028091395604158905961476567444867592963136645679015476816545498243589146402964158618405032692914700710237475787675200595030147780657383926067028858762537566563844837259753432526725862987462467220507138273963361224846298037140817710313484318759099545791444426688864015439140896667505637368127413334717468787214313371683703168668808434828804577781524784506694486687355629630753333273101618935333663177174351710620170096852781360418578083461948663329777641931187436009707661754235084843662305330934785728927929913857515510043264811778372608749086655184250637488618809202008957662767401367016639650461786549608937759512192868020939565123054281768712519036070482147406675143063295189731378272671089334370226579463702956106045043950715609761403941656324814108226900590612209256040247822955358848186359581054913483658765877054109526514254310345685476541029139179477837108277631080094909617545037156318173178151393381226698268676264964706104328655111345084892854752758090299309105788837921545314372509232535201419118927133112848161968151903354065968619618228908148536727374139108998459601916723967558631050975398343111062421279571130259946850002761333120442380419417805566119593107297530031867626346414111606943613188528371438211330883835212518081825027002247258159382100243088411405444919936029883738817173630276352931138438033447201477040985733354065875244678002563206134227299387360562034916964056760863434237016597251502200514465057639911546837311950957135337545893273232290164171398045829652413165595314395757327312836099956439876629605007366077769493315970672049231677258163288679301000694332289951396650627094375343040000059776911117937609538121497908657549836741320745550795190736557645005364757030765110426151676072044549478294491519392730014981031480903495375560966813068756576754510874305495748065255171779846177365091320971696454418445558821915326991460952790851646656278282187252232068285560431037514899559297038473776854834285371427284288943809868837717897559240034693576014330517024927672444204057712944955697036639961092746314362821011407791357360288724550389592236693928718500920397008289289128611181443111936756514258518138322034361558555870937743007895784166295778225091962960877234954632628606583688000304362486464020622500850841596945476910649305931929448447177746832978300422185098738785694624808522200048318640329054544137790523856388699594597547320246361065380676054284020204641502920066169678595589076452826220518040847370481816706192087991392949568675564362617727794583895565865085041047025333305308030894930867479375316437110796360136732898354536082473704687937610010751336790548224590132024760218918522936739695700392482597492882802644865700876916099007344909357617328369742053634747512621483686535153048211562342521578069871142532001083973662953249285385332618576077638103663286422463671823595386998090706230704410044461740666616284368431373336076159860487805934384412121039645910946311497011965637232789993444366831106431907785656322352520978017305285705217663934797684332996087088650735198279834484741643330708475246869262896091754793663363154563665088279006913429168766749717194401317812116422119985455280344040870429320383389714240931406812339205300064436168867346749581131245946459263405194005600651663521698882154059217691624921061068409968841239125133752526892171235715605543235071641107929956620844526734727451490339337614557964761747095964528204636976936778222345921900568869085955938898956642341442290457276613944425140603328260776539847208384116781084500253565714899144495663089146832624069692517539311895061306069748303299302797718146007766377350992438486993874282060861128930886813535699845708220096815122623986072913084790180501722355091359258583292847473194567237828121054629490950107412392342025698762393995562409405900944662273832343589479334129047902590083426074863885955775560283306936085599053039286213623563802619408626382963812172485024897167983126377877024593695104644969579487646815321804672817293674653674770947458729436977976367753408966890522375604833455761988778338675311233190455795921928330311194110020305781784215057839281004124676374298150308413660717723591097744951319537795161358585441762135377702658344518929813241341215479880544827864739727582538643536571288528154988394795666427924710035906094000239929428669344053402237700451511566665414595971015040482899090967140412012896665904407488272494809649125226771355900903311588873289191486998293560819810081356802850002274976147009218601330648786356723206916911513697908567594298625781759754887747449733866431112681513279750398699541550101527627698393846791856887001733763523946048866625167970215999542639789133318700138063395085471293700262511271110095542098277973170281377539808803921913425589751804132947184646452243303254776157334975075323013483775173876512372374848766328247140234677011176789271233332950657088548463792455665251593859329005422009938766746376434550188861237323415777260321762453028547681487902132017331169048016508130844616745185588653390756491430406130081890699957568134620647323617502376318120533383201254060145252086509973541338775839406720622130322332730430479405820433052529444974146528502312698978366827257067125284688132938100658477064527972265403692590870433849621899220588629041140253251326912545114344194608139250463983723214457086544969280763458990996543090269172367108085262068062432975398642162856530547097511489307950162922333478715731012555392578207311042886892541503615739064876027144162894107935776347015347930774238219296378763069}{22362448559530923596143661211980475298167868904054544269630394818522481614357428109104174969611388080230088199613505088443628253744127501321819303458528151626701527752181567124638853078785748670173116836094677698445057630056794375961582794225700428455820793071498135309379349202802221777852757003814686227581832051916380443362543321404249077898972298373183634747249766509031942196786504661478384467215023838517698570919504813204827712718139933829986493413952306921200433799752404717796214379259085733718321295314953090285919345621571539144360824086994201312806161785322449504558728688836905631426710744509205193266748809375614831284897751932224881733076598614753965221771775324897572257196062178470110629304945063909513003467493605744878160831425140580129684474998637106559962387258707787510445260326009696116010047071518176462061059427254635545680804528311280696666063689748802912703709298123864279396812413280192618542809107093283700778600118499982512256218410950981427780669464710827048264155787447664725318976243290224136082993700786081532822923032919310464655252026545329529709823663928683587396236210437515961218978456368528653078303493743605754580209289984770593963346309051052196385539074517298031505543195575692964700397370435349133810673210296304788836987546966676302162749616655271893657863977297277936945530307649277946018622820780996748257949628124424769455687872732382051490294777310896449520741771229620883699049134977544790437382367845847100185096771398793518190347580008851557278253672990843406510842996383166392010626580983209639177341237505240323243656842053684454793118208893220335506525056516445044384301831495112833495735839624113324630269253946402190596387696708142474732072068985369639220911561698008498469296180379164002201387900918384080192176609460145403291571586421229990386393849250543961722574410106738914361206073836653732039443980469702280820544871261351886103930366326614988585165055222904545703833321131846732840714493046690759199164598535082374420334017658896589315518534407583214921108216795234579741926101176511896383070166280601674705389643425493538637824695761056230013794988469842099295038378887475376339191358759214842803357438230647804495009421763505780281950105886397619891520313627090937889995551409038186230762311081251116276213212956048246932313979484097460110561806574779180575543446409682716739396406568018959310939011857586114839386370080892276846250400431765042655615589905277292362880716278696800594215038722598322194328010710104660928000554716278127585867350301678582769348197197921191796750599964030416865563478920477821781201599187670417245003810168721014929410148156576668125861715773356482236667036609776910972622418971210938608798879848938456715195105998912721112801647592544460100793274747320281216526263666842463114783779694646020349883603881329393147676879231506874106504705823398741750454934275554399961125046015152613983687575114713873365395660287846134356766706330582765608115115734142511519320987930688251627767686420640466280241515179110404500814066268967792749356617299796945224408453937580915508025485502160397839808669094757397181624642260582763541691918993300457042039366342091640823258844081973396067513859075440034839524601891412267923366863094816095788620290159990011653496160828957227073266261058389101024145362272480347417846502118558576058897629900884103521651957137505204128856894125764196026133651049597455236256946245697000527314385655359651886447470194145060683520834679673043393469294870380442273555816590826277020706115673328853444899869701882802712881589774054776471284889374614929924066725466321053849596335939625713749129363624604543806690845979192443481523575413258566145550660978263581471006413311067020815055626251777355231590305249228787699364050466324253678221448594059004792692551849852317809364207007799146403019872462441583198567598516002481734913702934228147223502924390545826964785617311257284435113231253707915164377729009502895849935197368796104626408519051527043039310162297579681458404705659076919426527892992133638079230693645204844825325851454019510853740371792005983868228452741538879537537312565534963846850168837799683083263315616658680557047589253076514704721156964409593672938087842808933582022409913523703648924061185204879145318002676848782766094430281802556917869480511293581444722905265679571457949132336837539813147229571842394556058997933003891138172273338588590678004065258871748391539793131414975518382100080471259798047560592316774736347496113955596621467134648172594432566680640422918802500883803264778382085391726223582893823332783112861003304258422727061274624000000000000000000000000000000000000000000000000000000000000000000000000000000000000000000000000000000000000000000000000000000000000000000000000000000000000000000000000000000000000000000000000000000000000000000000000000000000000000000000000000000000000000000000000000000000000000000000000000000000000000000000000000000000000000000000000000000000000000000000000000000000000000000000000000000000000000000000000000000000000000000000000000000000000000000000000000000000000000000000000000000000000000000000000000000000000000000000000000000000000000000000000000000000000000000000000000000000000000000000000000000000000000000000000000000000000000000000000000000000000000000000000000000000000000000000000000000000000000000000000000000000000000000000000000000000000000000000000000000000000000000000000000000000000000000000000000000000000000000000000000000000000000000000000000000000000000000000000000000000000000000000000000000000000000000000000000000000000000000000000000000000000000000000000000000000000000}\\\\\\frac{14515975380748143386970446751636448877758090341228388385549554531321610872477464143134366382649081031137598994607931200453544059267835688510877765336096346458404618014548242324762045839652257258912024177129483762579615657104981614148294106011154927876287085355308906625772181485363269576566657633260504853043391831243211376311733574428179968565114528848957694604867860888074717422931971093041381711852990534622307044044716417881665960310831795925579982234404415571359576657815771097583173549452948879515368096339377939172098206419958778382287860422843250377761960853122802013448243107564589755446562813888586212611151517974713689133830466375846702857976415766769984927558284756921421604682681161354990317734494254319489838266111495050380212227493332173679473030247697137304676331493548698052646349466809939667724814830217678137977334485981056365971445597708554411601882891575723905819123360760581755819806494779624682256819188104428737640796029948487695030347250758332036921693421177057908598977942165944564855366274130416551070535470937867686929219127968106362934983975722195688895417728768941888561420901151765817541185886103346834451309512003053845203543334270869172982000468155311813018147389211485469714014716616337734108089834635420075882592540696922389078959296970136939017250204207150530543481613418097931032973479709900629542450338100216535932278571926290641386333335570783877938243579495497269774802863919842683265074902274409176484095383326599533853901436604857311706657035468477668330117522050458337146262896074570438635756919987874343350998348613816797336066629650094793408761854855043947066723394582894544719865403086439896000810883364429938869385417224091570495082309067860567161400822812578559291027576905267868711140915756665004269536290486979486084474207080290123264447216874483349207616474829402702286885778637387775506439992190604895340228424753179754360312023917305422812854062753009922068165482717928676881935020323296055595049824785951235760659807649770308706741322592870540524887268832983281567197972621031282627207096142563286584819931258567397096404315188835810321087922137061515391191122173892079302549330940908060352932199019854197983090250302453299941642369111105054945036906948273681246424369969618714249681877766151560631309644664242805788067853941467983977170178673728971573114371871510478764515657765053710747041814330666741272549956128716472143948917815738101771408301212466126096883749081722425709388584118604724880478468338970217619126386747647317432671201720595377434425428411103086061652271823909504217744804820352223447226918860702600532499937272250167031778023699698502030264049223455783951657368112407523817835023456396500085246394710802887779735652874817572221088942532473948965253178835337110914229299282914282269618197181220596140743462280756595141194976337096600840826264136607360815510390270123779305374459295072595200967286992457878213806849513086378763660230850995722146552256634280254497431318591246207894453484906150014820009630310850339832313444974630846823863253064961545557706882243772285339609236585980365208591325523563162975310950121731722960807975419084460054809981042697350223515041860221538477958195150460027253159142014692204701423493189128906561251791094253827322507802417827026092269920467454791500831368613550215593720714463564467759950548158316848808378426733211097683568322968518229987717545095987080057991540405830174835550387101907331212465459659086903092473108722946584920613506855988861916808567281725893466721764826032077999310503654968007448523823667509661134089783669378066862681622829564565475448027540517565791902613683054636358703528903262785123414981290974343564056050399652474021512192520131216501248948516165401763760587212629226907918992116019710075034206041307345553494248751215224894764891282795202335469915164611773299334207984878536677685128347087272912103665597756676122760373376186645240265497350768878781915496877153990909538300553554483874487670940281573003282357391861260935682302310555330027476266288725139328448163520989649788578403455986527311180535589648759878527615112854537838827012327207534700593359265699664789579101852379422436768918671264336188965391701149586987597812101235633796540866896194528684093099702236163589062257318537854581665999152690070683240664825716900873238412279657561991980394681184261903417449182149290479892428012074485403992342534456146249588915932058942503150575167890666980008668404845905160942103471693558205483031866597509066051582502672439746018214466297967071948968217583532888287842005447869505409006508522565573060800609081094721344513849900203609364544644526343167934380405963467226721716634553539067359019677779970273935630082376770893307727742470717381807855078096664045588819957477738913041184270151101844970215154181844201477924830276361172539395250264880068446698510504343103310959061699480318870764918264295954371911298166384935102989645370353155533653932791032625721590844680898255718817016897392757079900198056906149275986346726487836429189844671037703963098833501723549559685475143569945803478544502461323246100496900615149525563521960189893294455579088413416264731487567714049792324497233780467744661108979308031925322257509592460966253591143644047043871434315326156537108040023271761597815735319328946200958831715244664779465782617491330264775713682783595729288946547342303533832860746207070201025234406427272359187959661468161008189379177476350634095611813578273190696452311837062974866703230460417975735007245859912694808856412925409675046056587879609491449911629833603841262429208061084909599502511140502028151722812522710213060700029}{7257987690374071693485223375818224438879045170614194192774777265660805436238814386288197139259836482179940906892102528705388117443269452183397493227767908861297864270444894593084540034342742989442151955574588375811115195720187648338408450757464174147941836347766938653044174741260370226145193062641608687899366543165842775477316692034712420019841886314103460400423169831878788256851760284865791449885577912501358308105453316566479169917291031155346493476458204877933474127989815566302280105549001510066472701110993546847184349017527604810011846414199872355910771807516935365514675100762855336515686820586320983779558824095594287346852779135897549334419597796016637835136453394922896258914511408801702572669148836532034922178046170285618350445287107030392967768201312043357180774812036738051635742386511918914845366154790987097335607007091416799913945329364187594531968039655313226052958280970026125769140870976904621807753833003960499375510564776310113627018256185844849367410264862285971805033018733013989796509833348581517851497955518289620302176773842232343791616885808571864905819961099660462575971401633228864606159674435399650560502011127310639644453892363478175233717661709552028651446892606491466365834195055268769244865813211472964482411480534765589359373151208482659473874875581097018117026027719291961991093170026520035111307406744709470925825756496523828682986414834194174606499182109676917826907416978034848218112438545343484615641645704353883393408601243468071693358425090592172099082332461940403867554305843659267582396346459462777627733559541174490877327220666546709011801523939027652752117781500951461773852348818589252976686193562212219397543529789621763614617059457905890921812864495251549571699366516020302134771567316044456854836423982282552343074864473906841419194286820925523195583968616404619155572396262713507292672146771545509521573923485780564827720703830438770051275645211269776996939535467083054307384498963844992237775756515154018336570966191210946083792619766483980742756015553338411860359684398453328512730401259043334790996457477037385649994884269677727452627313536483162372898373450738225209793158059970078285527019948166220909861624688894462862415338642541349740632929103479929263037294773704953525700310545038709566124609736897292124735867362927939793821203867645666877989358274270435800834276466300530871558482833479837671094240690620054816292067482394861783432147508555320861910323039432103661636723704489312473561021339790683519211722774332214511719478285107813339272736501421996161981432423886702600699756128676538807244287018049819350039115525822854719869657686339276775334872647309971233832311259773595111900704864576716719184469315217585337943496091322130688265078262805005975207552288808289681836413733779389517644489084852378379359647795630725903032397750957785495298636241804862648602404521629416182165197966627305250540585110181111556109125256529941355435433602195675185968141528347037960528590194414674791358566258205836054626354364593835547095930365149868127457196946945687120405217895548131344764147330618367314008271610350304562043164530754593822106243540715458342478956164492253601363653988222725530355940623096628548228182331502467447915879561247841343548894162352592492797813472979214308590859216415942120270628589126287174503319334050639074213338406900590475256248301164138862290547491997303094453553356607677657604781481009700383697429921849026486935370782879887015776810501608484607809393711823707066301437808807687404575133454917300436544967367659364714572764727804067547163322996842339731908253568953968484126919668893675372237407278650450953664793457108492288136502642369477270319055177987429363029600492945197494975765723767366404886475186980369680428432405451448639267279537315766544685908754212133134470389635478383850407681221829547516769607729038057704798255658702559861331640426021416204119370196931540330676033688741399334203417161291165448087508538171992512698265812679437466465922850057022740828736886056563280359422012156544024399403865867935166066102323443677706465407928058964049020997862317731606354848696815250376218250569515733880118037254373581351585462086108519128164568441787991614690200067396096192093940791087110022235343568424359956229739156601583582252334202135131248644683512514864964571673499279495732059188551141615297755420144412183974442521878580426303282306346676701509757667662524367149878512408581181495499757419845211352457348271731900109892629315050181274077696107161026973634070017389350824604975295575859611338006146673656141554030647984847079574239587501542606335592645972818132992000000000000000000000000000000000000000000000000000000000000000000000000000000000000000000000000000000000000000000000000000000000000000000000000000000000000000000000000000000000000000000000000000000000000000000000000000000000000000000000000000000000000000000000000000000000000000000000000000000000000000000000000000000000000000000000000000000000000000000000000000000000000000000000000000000000000000000000000000000000000000000000000000000000000000000000000000000000000000000000000000000000000000000000000000000000000000000000000000000000000000000000000000000000000000000000000000000000000000000000000000000000000000000000000000000000000000000000000000000000000000000000000000000000000000000000000000000000000000000000000000000000000000000000000000000000000000000000000000000000000000000000000000000000000000000000000000000000000000000000000000000000000000000000000000000000000000000000000000000000000000000000000000000000000000000000000000000000000000000000000000000000000000000000000000000000000000}\\end{matrix}\\right]$",
            "text/plain": [
              "⎡35309129304522510941279465071548118891844003532717701478363781292403918338455\n",
              "⎢─────────────────────────────────────────────────────────────────────────────\n",
              "⎢17654564652261255470639732535774059445922001766358850739181890646201959169229\n",
              "⎢                                                                             \n",
              "⎢59584155701381737213409097308237450629986755961461121244738880930931612196149\n",
              "⎢─────────────────────────────────────────────────────────────────────────────\n",
              "⎢29792077850690868606704548654118725314993377980730560622369440465465806098074\n",
              "⎢                                                                             \n",
              "⎢44724897119061847192287322423960950596335737808109088539260789637044963228714\n",
              "⎢─────────────────────────────────────────────────────────────────────────────\n",
              "⎢22362448559530923596143661211980475298167868904054544269630394818522481614357\n",
              "⎢                                                                             \n",
              "⎢14515975380748143386970446751636448877758090341228388385549554531321610872477\n",
              "⎢─────────────────────────────────────────────────────────────────────────────\n",
              "⎣72579876903740716934852233758182244388790451706141941927747772656608054362388\n",
              "\n",
              "860969575619081814241659091800645821094658350996564076100587654027136019240512\n",
              "──────────────────────────────────────────────────────────────────────────────\n",
              "548507187506554956359010707964368115925069823917042429574343148804713256732751\n",
              "                                                                              \n",
              "139301593984900849394742377532168500927346283666304126408323632224053799196230\n",
              "──────────────────────────────────────────────────────────────────────────────\n",
              "863105878917311488855830569689871195623555327860009099906704063607953620736517\n",
              "                                                                              \n",
              "420360746630389695609355883028091395604158905961476567444867592963136645679015\n",
              "──────────────────────────────────────────────────────────────────────────────\n",
              "428109104174969611388080230088199613505088443628253744127501321819303458528151\n",
              "                                                                              \n",
              "464143134366382649081031137598994607931200453544059267835688510877765336096346\n",
              "──────────────────────────────────────────────────────────────────────────────\n",
              "143862881971392598364821799409068921025287053881174432694521833974932277679088\n",
              "\n",
              "896992957564224218922034446624681623054405375444035396214031813981248915951250\n",
              "──────────────────────────────────────────────────────────────────────────────\n",
              "284238048225406500361556989272725591055399829081127377130351361286886942928390\n",
              "                                                                              \n",
              "239904619987100779212063060709697599831787020834108203250994243478280340514665\n",
              "──────────────────────────────────────────────────────────────────────────────\n",
              "792151706380373469360127419397724434905987211574402448907467922171621716191659\n",
              "                                                                              \n",
              "476816545498243589146402964158618405032692914700710237475787675200595030147780\n",
              "──────────────────────────────────────────────────────────────────────────────\n",
              "626701527752181567124638853078785748670173116836094677698445057630056794375961\n",
              "                                                                              \n",
              "458404618014548242324762045839652257258912024177129483762579615657104981614148\n",
              "──────────────────────────────────────────────────────────────────────────────\n",
              "612978642704448945930845400343427429894421519555745883758111151957201876483384\n",
              "\n",
              "688332192312313803240455077416244912330567546005416773930592343798281123964602\n",
              "──────────────────────────────────────────────────────────────────────────────\n",
              "723258599237180359858520845919580507404749370633332982515334476695804916511972\n",
              "                                                                              \n",
              "525236823732554565963421709479226413755296077741505291146855275273936826490053\n",
              "──────────────────────────────────────────────────────────────────────────────\n",
              "345498886212741857261253927489292106245514562943749407994626929424170796613953\n",
              "                                                                              \n",
              "657383926067028858762537566563844837259753432526725862987462467220507138273963\n",
              "──────────────────────────────────────────────────────────────────────────────\n",
              "582794225700428455820793071498135309379349202802221777852757003814686227581832\n",
              "                                                                              \n",
              "294106011154927876287085355308906625772181485363269576566657633260504853043391\n",
              "──────────────────────────────────────────────────────────────────────────────\n",
              "084507574641741479418363477669386530441747412603702261451930626416086878993665\n",
              "\n",
              "851335390736861040770864669533711644532857996657973424767176655565413286098021\n",
              "──────────────────────────────────────────────────────────────────────────────\n",
              "672565563507917797359003354535183399182926197606379407710401867322786936714206\n",
              "                                                                              \n",
              "712801716598319828740944916972396558678107402011005333531023154160988764211864\n",
              "──────────────────────────────────────────────────────────────────────────────\n",
              "884954388419611283043318160778121986121187958460765250511303151107202955705223\n",
              "                                                                              \n",
              "361224846298037140817710313484318759099545791444426688864015439140896667505637\n",
              "──────────────────────────────────────────────────────────────────────────────\n",
              "051916380443362543321404249077898972298373183634747249766509031942196786504661\n",
              "                                                                              \n",
              "831243211376311733574428179968565114528848957694604867860888074717422931971093\n",
              "──────────────────────────────────────────────────────────────────────────────\n",
              "431658427754773166920347124200198418863141034604004231698318787882568517602848\n",
              "\n",
              "334114148219568927820303358691109313935574817644088322477351252674489546333764\n",
              "──────────────────────────────────────────────────────────────────────────────\n",
              "430303526748703030408709398094345905161706088988005210918410389537330768622000\n",
              "                                                                              \n",
              "600824543932393497361968084077181339940365548791721095946032891173668490288712\n",
              "──────────────────────────────────────────────────────────────────────────────\n",
              "351137201388436363814697109284208714960379025167258793424817532344245672049625\n",
              "                                                                              \n",
              "368127413334717468787214313371683703168668808434828804577781524784506694486687\n",
              "──────────────────────────────────────────────────────────────────────────────\n",
              "478384467215023838517698570919504813204827712718139933829986493413952306921200\n",
              "                                                                              \n",
              "041381711852990534622307044044716417881665960310831795925579982234404415571359\n",
              "──────────────────────────────────────────────────────────────────────────────\n",
              "657914498855779125013583081054533165664791699172910311553464934764582048779334\n",
              "\n",
              "785507381414196857957864673309642380977398702877103949572421276057307564753885\n",
              "──────────────────────────────────────────────────────────────────────────────\n",
              "342473488740566681221878362436105567095759459173492330988957069661741429758545\n",
              "                                                                              \n",
              "587525968671271969153466272413552296689975162926833031404420069175929582399464\n",
              "──────────────────────────────────────────────────────────────────────────────\n",
              "577924012249706274561919736610928144474094087355268308543865055054188662717545\n",
              "                                                                              \n",
              "355629630753333273101618935333663177174351710620170096852781360418578083461948\n",
              "──────────────────────────────────────────────────────────────────────────────\n",
              "433799752404717796214379259085733718321295314953090285919345621571539144360824\n",
              "                                                                              \n",
              "576657815771097583173549452948879515368096339377939172098206419958778382287860\n",
              "──────────────────────────────────────────────────────────────────────────────\n",
              "741279898155663022801055490015100664727011109935468471843490175276048100118464\n",
              "\n",
              "052605566158519922101314757446536901697206987003821169224547846786225592107549\n",
              "──────────────────────────────────────────────────────────────────────────────\n",
              "331837527352215390883149302240441101596450188656389508482507267257842170112664\n",
              "                                                                              \n",
              "811210623894421078632413521407497396552115608700405294005610688334992212592185\n",
              "──────────────────────────────────────────────────────────────────────────────\n",
              "247475827406863472115314447530744358944009693357657295564231013497608662065122\n",
              "                                                                              \n",
              "663329777641931187436009707661754235084843662305330934785728927929913857515510\n",
              "──────────────────────────────────────────────────────────────────────────────\n",
              "086994201312806161785322449504558728688836905631426710744509205193266748809375\n",
              "                                                                              \n",
              "422843250377761960853122802013448243107564589755446562813888586212611151517974\n",
              "──────────────────────────────────────────────────────────────────────────────\n",
              "141998723559107718075169353655146751007628553365156868205863209837795588240955\n",
              "\n",
              "105437059100665712300280072032782596410112572427266880161477155107356492796175\n",
              "──────────────────────────────────────────────────────────────────────────────\n",
              "959077330182435735967011894534156801121551490872454203866504413575838561950087\n",
              "                                                                              \n",
              "698081604073884861183347082372398657141404156763051098427024471587529159998700\n",
              "──────────────────────────────────────────────────────────────────────────────\n",
              "118442994682860304444332572026389601892618140847266469024726197909227573290772\n",
              "                                                                              \n",
              "043264811778372608749086655184250637488618809202008957662767401367016639650461\n",
              "──────────────────────────────────────────────────────────────────────────────\n",
              "614831284897751932224881733076598614753965221771775324897572257196062178470110\n",
              "                                                                              \n",
              "713689133830466375846702857976415766769984927558284756921421604682681161354990\n",
              "──────────────────────────────────────────────────────────────────────────────\n",
              "942873468527791358975493344195977960166378351364533949228962589145114088017025\n",
              "\n",
              "048955160177230273625177624860092418113215256881672404825799005031988656445417\n",
              "──────────────────────────────────────────────────────────────────────────────\n",
              "338924956629402247108000652846640693284866914584668523435111841029294652601884\n",
              "                                                                              \n",
              "765369758025479204929499575688727758518103706480788050209784674394594210678486\n",
              "──────────────────────────────────────────────────────────────────────────────\n",
              "384435864312116291994751101678706169918212918361628133296751231736934726265680\n",
              "                                                                              \n",
              "786549608937759512192868020939565123054281768712519036070482147406675143063295\n",
              "──────────────────────────────────────────────────────────────────────────────\n",
              "629304945063909513003467493605744878160831425140580129684474998637106559962387\n",
              "                                                                              \n",
              "317734494254319489838266111495050380212227493332173679473030247697137304676331\n",
              "──────────────────────────────────────────────────────────────────────────────\n",
              "726691488365320349221780461702856183504452871070303929677682013120433571807748\n",
              "\n",
              "258586926630686578985986450752509672925235257503728737166590006283408218553370\n",
              "──────────────────────────────────────────────────────────────────────────────\n",
              "677927200666140994994218181144218458214356455101627152179411554378169056206561\n",
              "                                                                              \n",
              "758581668197797108371826964056071251174139989093483196595938173111478441198656\n",
              "──────────────────────────────────────────────────────────────────────────────\n",
              "394002151124112929052743180680868648236726517983995819302756998013160282348572\n",
              "                                                                              \n",
              "189731378272671089334370226579463702956106045043950715609761403941656324814108\n",
              "──────────────────────────────────────────────────────────────────────────────\n",
              "258707787510445260326009696116010047071518176462061059427254635545680804528311\n",
              "                                                                              \n",
              "493548698052646349466809939667724814830217678137977334485981056365971445597708\n",
              "──────────────────────────────────────────────────────────────────────────────\n",
              "120367380516357423865119189148453661547909870973356070070914167999139453293641\n",
              "\n",
              "570232723363371564930451288537659629866598371263605515922035785251568635356808\n",
              "──────────────────────────────────────────────────────────────────────────────\n",
              "537392104787123485897036345033656413577062681694010484362593586428242442066079\n",
              "                                                                              \n",
              "567851075501027562947128666869225110381073494373601383352181273927044734861211\n",
              "──────────────────────────────────────────────────────────────────────────────\n",
              "594349176828270882451248832244295197911293275358642692361876677097659120986509\n",
              "                                                                              \n",
              "226900590612209256040247822955358848186359581054913483658765877054109526514254\n",
              "──────────────────────────────────────────────────────────────────────────────\n",
              "280696666063689748802912703709298123864279396812413280192618542809107093283700\n",
              "                                                                              \n",
              "554411601882891575723905819123360760581755819806494779624682256819188104428737\n",
              "──────────────────────────────────────────────────────────────────────────────\n",
              "875945319680396553132260529582809700261257691408709769046218077538330039604993\n",
              "\n",
              "678565938312856808387676177317714815168411376914755580564581842018117992801057\n",
              "──────────────────────────────────────────────────────────────────────────────\n",
              "562052725131565141254909271803406390353160103719073985471701937458682677883402\n",
              "                                                                              \n",
              "275743783637908233074592062769740273734283248750494324722758874331859607721516\n",
              "──────────────────────────────────────────────────────────────────────────────\n",
              "260963973659516175867659396168248283720957675025937350483497019461527018928241\n",
              "                                                                              \n",
              "310345685476541029139179477837108277631080094909617545037156318173178151393381\n",
              "──────────────────────────────────────────────────────────────────────────────\n",
              "778600118499982512256218410950981427780669464710827048264155787447664725318976\n",
              "                                                                              \n",
              "640796029948487695030347250758332036921693421177057908598977942165944564855366\n",
              "──────────────────────────────────────────────────────────────────────────────\n",
              "755105647763101136270182561858448493674102648622859718050330187330139897965098\n",
              "\n",
              "199507086630001566481788501166442406069680957987805498279928054089139342559762\n",
              "──────────────────────────────────────────────────────────────────────────────\n",
              "297334387475854995026936380157491781341778402998412041073588418049770913418891\n",
              "                                                                              \n",
              "804932544115772456872786012685475139550994005309342906824929305682487859843906\n",
              "──────────────────────────────────────────────────────────────────────────────\n",
              "376751778865505304107955141515767381014251055059820319311680455458988416394378\n",
              "                                                                              \n",
              "226698268676264964706104328655111345084892854752758090299309105788837921545314\n",
              "──────────────────────────────────────────────────────────────────────────────\n",
              "243290224136082993700786081532822923032919310464655252026545329529709823663928\n",
              "                                                                              \n",
              "274130416551070535470937867686929219127968106362934983975722195688895417728768\n",
              "──────────────────────────────────────────────────────────────────────────────\n",
              "333485815178514979555182896203021767738422323437916168858085718649058199610996\n",
              "\n",
              "187059153451729041339270761510504920160558468207701770228108983804552973441432\n",
              "──────────────────────────────────────────────────────────────────────────────\n",
              "065990049660166134881022014982991869891041903923810850215069405428386830082047\n",
              "                                                                              \n",
              "439436817366352351749552468025657305303818015312583578775016420340627633802369\n",
              "──────────────────────────────────────────────────────────────────────────────\n",
              "673858208801530352611724650283798780441133212871430809737929621660402775763455\n",
              "                                                                              \n",
              "372509232535201419118927133112848161968151903354065968619618228908148536727374\n",
              "──────────────────────────────────────────────────────────────────────────────\n",
              "683587396236210437515961218978456368528653078303493743605754580209289984770593\n",
              "                                                                              \n",
              "941888561420901151765817541185886103346834451309512003053845203543334270869172\n",
              "──────────────────────────────────────────────────────────────────────────────\n",
              "604625759714016332288646061596744353996505605020111273106396444538923634781752\n",
              "\n",
              "638140101594898544541574863055209055777097587099181630391609141035302491200659\n",
              "──────────────────────────────────────────────────────────────────────────────\n",
              "865799717671883312935951900934708972241218312296599708973997924027907210903163\n",
              "                                                                              \n",
              "379145139597375967787151568663643686843453560411426905441941822022570835090054\n",
              "──────────────────────────────────────────────────────────────────────────────\n",
              "773537023571303090579418832827321390657055902000512008893621496797093418399087\n",
              "                                                                              \n",
              "139108998459601916723967558631050975398343111062421279571130259946850002761333\n",
              "──────────────────────────────────────────────────────────────────────────────\n",
              "963346309051052196385539074517298031505543195575692964700397370435349133810673\n",
              "                                                                              \n",
              "982000468155311813018147389211485469714014716616337734108089834635420075882592\n",
              "──────────────────────────────────────────────────────────────────────────────\n",
              "337176617095520286514468926064914663658341950552687692448658132114729644824114\n",
              "\n",
              "584014391503934953317057802841549851023383634220448039266078767540239028837382\n",
              "──────────────────────────────────────────────────────────────────────────────\n",
              "060760240622766042800236849712233749697359425179203576824182061529167523927091\n",
              "                                                                              \n",
              "403151036738095108986188072871429413826490415596954442327056817243714652303353\n",
              "──────────────────────────────────────────────────────────────────────────────\n",
              "665032906050917697225399683889394452614294029989906035890807228830470196626966\n",
              "                                                                              \n",
              "120442380419417805566119593107297530031867626346414111606943613188528371438211\n",
              "──────────────────────────────────────────────────────────────────────────────\n",
              "210296304788836987546966676302162749616655271893657863977297277936945530307649\n",
              "                                                                              \n",
              "540696922389078959296970136939017250204207150530543481613418097931032973479709\n",
              "──────────────────────────────────────────────────────────────────────────────\n",
              "805347655893593731512084826594738748755810970181170260277192919619910931700265\n",
              "\n",
              "764722590245259896771549545903199463048412931389181806568415485240886355963919\n",
              "──────────────────────────────────────────────────────────────────────────────\n",
              "535220541018016406050064414170759045598502201858846893985830123916929455970881\n",
              "                                                                              \n",
              "721389121761465668171527438242792183108875458929792641992118449850522049794286\n",
              "──────────────────────────────────────────────────────────────────────────────\n",
              "965684662967902685209483698913155889447472465636804133601088334109818456950862\n",
              "                                                                              \n",
              "330883835212518081825027002247258159382100243088411405444919936029883738817173\n",
              "──────────────────────────────────────────────────────────────────────────────\n",
              "277946018622820780996748257949628124424769455687872732382051490294777310896449\n",
              "                                                                              \n",
              "900629542450338100216535932278571926290641386333335570783877938243579495497269\n",
              "──────────────────────────────────────────────────────────────────────────────\n",
              "200351113074067447094709258257564965238286829864148341941746064991821096769178\n",
              "\n",
              "405880763633409895241685125264992794154041365900410540953987162355386612616456\n",
              "──────────────────────────────────────────────────────────────────────────────\n",
              "200585608865490171341354580245430097713722921983563500146129030051679093308169\n",
              "                                                                              \n",
              "946798433819214969311345723743189438028774589058732743263866700517028502676599\n",
              "──────────────────────────────────────────────────────────────────────────────\n",
              "025988214960514664138535854164163289891907430847263406496592738212208469957535\n",
              "                                                                              \n",
              "630276352931138438033447201477040985733354065875244678002563206134227299387360\n",
              "──────────────────────────────────────────────────────────────────────────────\n",
              "520741771229620883699049134977544790437382367845847100185096771398793518190347\n",
              "                                                                              \n",
              "774802863919842683265074902274409176484095383326599533853901436604857311706657\n",
              "──────────────────────────────────────────────────────────────────────────────\n",
              "269074169780348482181124385453434846156416457043538833934086012434680716933584\n",
              "\n",
              "295272057368228513433656850582881989640463447663177895531467241575691957673525\n",
              "──────────────────────────────────────────────────────────────────────────────\n",
              "142112251229430200268150665847245402365565657677903126248144639188824216766451\n",
              "                                                                              \n",
              "055626632616200400497579529277726225779094826978802508004028966917347944571682\n",
              "──────────────────────────────────────────────────────────────────────────────\n",
              "427314423949663462952504248617226616491892047331461525543744078631140865793386\n",
              "                                                                              \n",
              "562034916964056760863434237016597251502200514465057639911546837311950957135337\n",
              "──────────────────────────────────────────────────────────────────────────────\n",
              "580008851557278253672990843406510842996383166392010626580983209639177341237505\n",
              "                                                                              \n",
              "035468477668330117522050458337146262896074570438635756919987874343350998348613\n",
              "──────────────────────────────────────────────────────────────────────────────\n",
              "250905921720990823324619404038675543058436592675823963464594627776277335595411\n",
              "\n",
              "568064102604057731148979843719334060386358073899895574299017253972251228248047\n",
              "──────────────────────────────────────────────────────────────────────────────\n",
              "505518350255401621329832731409112284121317505151360407719771882343551180352236\n",
              "                                                                              \n",
              "894813132699860578962313596350941976799432023138691767227955677954923470189083\n",
              "──────────────────────────────────────────────────────────────────────────────\n",
              "915562216055990235994092734252876979454723289942920688027115051454742616844399\n",
              "                                                                              \n",
              "545893273232290164171398045829652413165595314395757327312836099956439876629605\n",
              "──────────────────────────────────────────────────────────────────────────────\n",
              "240323243656842053684454793118208893220335506525056516445044384301831495112833\n",
              "                                                                              \n",
              "816797336066629650094793408761854855043947066723394582894544719865403086439896\n",
              "──────────────────────────────────────────────────────────────────────────────\n",
              "744908773272206665467090118015239390276527521177815009514617738523488185892529\n",
              "\n",
              "885545375472860442725290665358620593975130707019506941481296997954766141483654\n",
              "──────────────────────────────────────────────────────────────────────────────\n",
              "970317768124299993129159937326106992576095550032744058999004264988449715174403\n",
              "                                                                              \n",
              "699637538018517963429423279511455923632677595599808994799335992108725754524506\n",
              "──────────────────────────────────────────────────────────────────────────────\n",
              "887411233709756238405457394237805549972161240680255599560819697168008894356806\n",
              "                                                                              \n",
              "007366077769493315970672049231677258163288679301000694332289951396650627094375\n",
              "──────────────────────────────────────────────────────────────────────────────\n",
              "495735839624113324630269253946402190596387696708142474732072068985369639220911\n",
              "                                                                              \n",
              "000810883364429938869385417224091570495082309067860567161400822812578559291027\n",
              "──────────────────────────────────────────────────────────────────────────────\n",
              "766861935622122193975435297896217636146170594579058909218128644952515495716993\n",
              "\n",
              "211351596968832323624960987961752319023263811854465968883629865633389506302496\n",
              "──────────────────────────────────────────────────────────────────────────────\n",
              "864498427761949444352930918949106358869146092694888560481152746371019661778753\n",
              "                                                                              \n",
              "117788385258574138911809023893226454446019964079045704930315373987305195132111\n",
              "──────────────────────────────────────────────────────────────────────────────\n",
              "521341096848289687345570925726616980591684031422624445811945259501095679251646\n",
              "                                                                              \n",
              "343040000059776911117937609538121497908657549836741320745550795190736557645005\n",
              "──────────────────────────────────────────────────────────────────────────────\n",
              "561698008498469296180379164002201387900918384080192176609460145403291571586421\n",
              "                                                                              \n",
              "576905267868711140915756665004269536290486979486084474207080290123264447216874\n",
              "──────────────────────────────────────────────────────────────────────────────\n",
              "665160203021347715673160444568548364239822825523430748644739068414191942868209\n",
              "\n",
              "826261302603079377454000219148115767144586241871738060019066178553697731076889\n",
              "──────────────────────────────────────────────────────────────────────────────\n",
              "602623989258302039903127675716639557951774495689005660516104241666300370817590\n",
              "                                                                              \n",
              "814235374181262913444638114026309637970095062715167681216383507218989361234455\n",
              "──────────────────────────────────────────────────────────────────────────────\n",
              "704427981873384692336527952771829254043619461475197052120925907811881875754683\n",
              "                                                                              \n",
              "364757030765110426151676072044549478294491519392730014981031480903495375560966\n",
              "──────────────────────────────────────────────────────────────────────────────\n",
              "229990386393849250543961722574410106738914361206073836653732039443980469702280\n",
              "                                                                              \n",
              "483349207616474829402702286885778637387775506439992190604895340228424753179754\n",
              "──────────────────────────────────────────────────────────────────────────────\n",
              "255231955839686164046191555723962627135072926721467715455095215739234857805648\n",
              "\n",
              "242218677991559642466645166484556183763775672801155719511709949439451666513498\n",
              "──────────────────────────────────────────────────────────────────────────────\n",
              "121482793101067278503102920784169727830393464649661483450394727209352683821616\n",
              "                                                                              \n",
              "220122683094771306408525603154528295089368030755477032640168746031436198288759\n",
              "──────────────────────────────────────────────────────────────────────────────\n",
              "330002213358051032473986178823286415713788971596303753322541102165782653948978\n",
              "                                                                              \n",
              "813068756576754510874305495748065255171779846177365091320971696454418445558821\n",
              "──────────────────────────────────────────────────────────────────────────────\n",
              "820544871261351886103930366326614988585165055222904545703833321131846732840714\n",
              "                                                                              \n",
              "360312023917305422812854062753009922068165482717928676881935020323296055595049\n",
              "──────────────────────────────────────────────────────────────────────────────\n",
              "277207038304387700512756452112697769969395354670830543073844989638449922377757\n",
              "\n",
              "391761425386230944528689497660732661163443747487529232848960951359517805153421\n",
              "──────────────────────────────────────────────────────────────────────────────\n",
              "705036861125683550998843486085068684750783339412617514632427039380200874907996\n",
              "                                                                              \n",
              "526472697455920248443003895886763579254769394502203336445190956494546055790934\n",
              "──────────────────────────────────────────────────────────────────────────────\n",
              "189749703149590992310548382768553405516946885258792055942220628954088976407243\n",
              "                                                                              \n",
              "915326991460952790851646656278282187252232068285560431037514899559297038473776\n",
              "──────────────────────────────────────────────────────────────────────────────\n",
              "493046690759199164598535082374420334017658896589315518534407583214921108216795\n",
              "                                                                              \n",
              "824785951235760659807649770308706741322592870540524887268832983281567197972621\n",
              "──────────────────────────────────────────────────────────────────────────────\n",
              "565151540183365709661912109460837926197664839807427560155533384118603596843984\n",
              "\n",
              "252535633514684460485100915866089637063521843596310069204653223925483917840773\n",
              "──────────────────────────────────────────────────────────────────────────────\n",
              "237826112046921981456760302423815484685532662149718493810688398282654548202286\n",
              "                                                                              \n",
              "635354419408608643991876748460622327852304714260613008539985009715496489908212\n",
              "──────────────────────────────────────────────────────────────────────────────\n",
              "651331564079180843708283010340188630406836367377649958305536672101979550091359\n",
              "                                                                              \n",
              "854834285371427284288943809868837717897559240034693576014330517024927672444204\n",
              "──────────────────────────────────────────────────────────────────────────────\n",
              "234579741926101176511896383070166280601674705389643425493538637824695761056230\n",
              "                                                                              \n",
              "031282627207096142563286584819931258567397096404315188835810321087922137061515\n",
              "──────────────────────────────────────────────────────────────────────────────\n",
              "533285127304012590433347909964574770373856499948842696777274526273135364831623\n",
              "\n",
              "263060625958219608133669410183842794089614969729897743932457377281302635018729\n",
              "──────────────────────────────────────────────────────────────────────────────\n",
              "852996043528822709969767141226954244478308967441485402213176924918932477232902\n",
              "                                                                              \n",
              "587237795307397118510003983370306922098603700714071433854086575728621191029302\n",
              "──────────────────────────────────────────────────────────────────────────────\n",
              "064430823454888323073982050820485287557146382557506616234736060800698555330522\n",
              "                                                                              \n",
              "057712944955697036639961092746314362821011407791357360288724550389592236693928\n",
              "──────────────────────────────────────────────────────────────────────────────\n",
              "013794988469842099295038378887475376339191358759214842803357438230647804495009\n",
              "                                                                              \n",
              "391191122173892079302549330940908060352932199019854197983090250302453299941642\n",
              "──────────────────────────────────────────────────────────────────────────────\n",
              "728983734507382252097931580599700782855270199481662209098616246888944628624153\n",
              "\n",
              "585378559096295101055091260740685714972977829931239366462040477164147269557741\n",
              "──────────────────────────────────────────────────────────────────────────────\n",
              "175076451931801539557278734963072252879179282319386838593217661725971654456116\n",
              "                                                                              \n",
              "734229851407219285102083282732206798659188871274895455153671211782244678184628\n",
              "──────────────────────────────────────────────────────────────────────────────\n",
              "420441512634915098002907865250184426733615038913965290126054804162577166894697\n",
              "                                                                              \n",
              "718500920397008289289128611181443111936756514258518138322034361558555870937743\n",
              "──────────────────────────────────────────────────────────────────────────────\n",
              "421763505780281950105886397619891520313627090937889995551409038186230762311081\n",
              "                                                                              \n",
              "369111105054945036906948273681246424369969618714249681877766151560631309644664\n",
              "──────────────────────────────────────────────────────────────────────────────\n",
              "386425413497406329291034799292630372947737049535257003105450387095661246097368\n",
              "\n",
              "149348128484142522283724231963313574760704191298968128909507813386325297850036\n",
              "──────────────────────────────────────────────────────────────────────────────\n",
              "777197060168326017932826525511036434813784297811952559036195191218510323433723\n",
              "                                                                              \n",
              "611387265494760230530823617219028534552577053859613145869751362986410083856485\n",
              "──────────────────────────────────────────────────────────────────────────────\n",
              "061520039034050155261644761799873983748261002557669943373579385181236170794408\n",
              "                                                                              \n",
              "007895784166295778225091962960877234954632628606583688000304362486464020622500\n",
              "──────────────────────────────────────────────────────────────────────────────\n",
              "251116276213212956048246932313979484097460110561806574779180575543446409682716\n",
              "                                                                              \n",
              "242805788067853941467983977170178673728971573114371871510478764515657765053710\n",
              "──────────────────────────────────────────────────────────────────────────────\n",
              "972921247358673629279397938212038676456668779893582742704358008342764663005308\n",
              "\n",
              "189488950739913623486508064740058021782255033025406409980758785672664636323540\n",
              "──────────────────────────────────────────────────────────────────────────────\n",
              "741628742027383388929688693571778511715305029011230744878618737182972402096538\n",
              "                                                                              \n",
              "779315877765255292061357825394291855462099661746446474122091675036394109162912\n",
              "──────────────────────────────────────────────────────────────────────────────\n",
              "813998502171209468818849670402376238519577236456451881982669118996265928537908\n",
              "                                                                              \n",
              "850841596945476910649305931929448447177746832978300422185098738785694624808522\n",
              "──────────────────────────────────────────────────────────────────────────────\n",
              "739396406568018959310939011857586114839386370080892276846250400431765042655615\n",
              "                                                                              \n",
              "747041814330666741272549956128716472143948917815738101771408301212466126096883\n",
              "──────────────────────────────────────────────────────────────────────────────\n",
              "715584828334798376710942406906200548162920674823948617834321475085553208619103\n",
              "\n",
              "440303224726657369746192075732474107342885699046189749837911616236503009832846\n",
              "──────────────────────────────────────────────────────────────────────────────\n",
              "623609429441339116354956865895205959241096788149100785271613240521785263595828\n",
              "                                                                              \n",
              "267675749677234801981144845160018831694461857433577234754854775876824923109259\n",
              "──────────────────────────────────────────────────────────────────────────────\n",
              "927340912182259758848989711198160056219350830001607575145847343380512632317960\n",
              "                                                                              \n",
              "200048318640329054544137790523856388699594597547320246361065380676054284020204\n",
              "──────────────────────────────────────────────────────────────────────────────\n",
              "589905277292362880716278696800594215038722598322194328010710104660928000554716\n",
              "                                                                              \n",
              "749081722425709388584118604724880478468338970217619126386747647317432671201720\n",
              "──────────────────────────────────────────────────────────────────────────────\n",
              "230394321036616367237044893124735610213397906835192117227743322145117194782851\n",
              "\n",
              "366926980948218552895854267547883792939590761274373982367230295243236932023733\n",
              "──────────────────────────────────────────────────────────────────────────────\n",
              "640627041474223922377828502116997787832519839539947340024013314918535989850911\n",
              "                                                                              \n",
              "904005147297286926696405002428490932807059770834600177424275791494354224643032\n",
              "──────────────────────────────────────────────────────────────────────────────\n",
              "831058132487752869012585597322433766967377229223661136290522468925029482873413\n",
              "                                                                              \n",
              "641502920066169678595589076452826220518040847370481816706192087991392949568675\n",
              "──────────────────────────────────────────────────────────────────────────────\n",
              "278127585867350301678582769348197197921191796750599964030416865563478920477821\n",
              "                                                                              \n",
              "595377434425428411103086061652271823909504217744804820352223447226918860702600\n",
              "──────────────────────────────────────────────────────────────────────────────\n",
              "078133392727365014219961619814324238867026006997561286765388072442870180498193\n",
              "\n",
              "915932207616593656718887791520795667748881643110411281130316335380293634379296\n",
              "──────────────────────────────────────────────────────────────────────────────\n",
              "932527578306055592561845113291095538102165906439402632730943459821070907028947\n",
              "                                                                              \n",
              "098790859952710875249411181254286948455281688305099386527882688271030729595438\n",
              "──────────────────────────────────────────────────────────────────────────────\n",
              "886140288391468812448113628678723720547404967116491942733467088448057155611349\n",
              "                                                                              \n",
              "564362617727794583895565865085041047025333305308030894930867479375316437110796\n",
              "──────────────────────────────────────────────────────────────────────────────\n",
              "781201599187670417245003810168721014929410148156576668125861715773356482236667\n",
              "                                                                              \n",
              "532499937272250167031778023699698502030264049223455783951657368112407523817835\n",
              "──────────────────────────────────────────────────────────────────────────────\n",
              "500391155258228547198696576863392767753348726473099712338323112597735951119007\n",
              "\n",
              "358572535675583143474205019143923606361318110550573481519898805673063094720255\n",
              "──────────────────────────────────────────────────────────────────────────────\n",
              "660481402824452070330766745477849051747249161939511996136314931095615369721783\n",
              "                                                                              \n",
              "452592691303009146096465861899511549882245412120229966026895611524987937421263\n",
              "──────────────────────────────────────────────────────────────────────────────\n",
              "177062367266262868683168882993870274823482960772926493480031446223850936405509\n",
              "                                                                              \n",
              "360136732898354536082473704687937610010751336790548224590132024760218918522936\n",
              "──────────────────────────────────────────────────────────────────────────────\n",
              "036609776910972622418971210938608798879848938456715195105998912721112801647592\n",
              "                                                                              \n",
              "023456396500085246394710802887779735652874817572221088942532473948965253178835\n",
              "──────────────────────────────────────────────────────────────────────────────\n",
              "048645767167191844693152175853379434960913221306882650782628050059752075522888\n",
              "\n",
              "765412888397258768207028643040810264326459405373072409579996916799680626714576\n",
              "──────────────────────────────────────────────────────────────────────────────\n",
              "587731658521006379463379907783892368559839301145089232615279223592318853681099\n",
              "                                                                              \n",
              "146079154413320024861934390525565383597277447710505718216843457927027116842615\n",
              "──────────────────────────────────────────────────────────────────────────────\n",
              "804297173754198265344453594385318371944728820682338080038283689812038065586856\n",
              "                                                                              \n",
              "739695700392482597492882802644865700876916099007344909357617328369742053634747\n",
              "──────────────────────────────────────────────────────────────────────────────\n",
              "544460100793274747320281216526263666842463114783779694646020349883603881329393\n",
              "                                                                              \n",
              "337110914229299282914282269618197181220596140743462280756595141194976337096600\n",
              "──────────────────────────────────────────────────────────────────────────────\n",
              "082896818364137337793895176444890848523783793596477956307259030323977509577854\n",
              "\n",
              "726922652395248207682964240540414242561421266846360645044006276509656148141546\n",
              "──────────────────────────────────────────────────────────────────────────────\n",
              "853429115182768584820924767755314796118780211270174526285098720538278379460805\n",
              "                                                                              \n",
              "071482483506381308152049628320718917491175629687915946417057317523955672269846\n",
              "──────────────────────────────────────────────────────────────────────────────\n",
              "002661631870921986885310545587093718450441606518419513106104090908344765340110\n",
              "                                                                              \n",
              "512621483686535153048211562342521578069871142532001083973662953249285385332618\n",
              "──────────────────────────────────────────────────────────────────────────────\n",
              "147676879231506874106504705823398741750454934275554399961125046015152613983687\n",
              "                                                                              \n",
              "840826264136607360815510390270123779305374459295072595200967286992457878213806\n",
              "──────────────────────────────────────────────────────────────────────────────\n",
              "952986362418048626486024045216294161821651979666273052505405851101811115561091\n",
              "\n",
              "483141114296013851903400574592354758061783202234672923805958210200426971792753\n",
              "──────────────────────────────────────────────────────────────────────────────\n",
              "980353721478972680784437773263965868452366249551795880354526954614357358674682\n",
              "                                                                              \n",
              "389372061493431972786828987502538328805516231034027181994060122387344590103383\n",
              "──────────────────────────────────────────────────────────────────────────────\n",
              "091846904995766398823738742382942403013368046118655548098264235911728042763526\n",
              "                                                                              \n",
              "576077638103663286422463671823595386998090706230704410044461740666616284368431\n",
              "──────────────────────────────────────────────────────────────────────────────\n",
              "575114713873365395660287846134356766706330582765608115115734142511519320987930\n",
              "                                                                              \n",
              "849513086378763660230850995722146552256634280254497431318591246207894453484906\n",
              "──────────────────────────────────────────────────────────────────────────────\n",
              "252565299413554354336021956751859681415283470379605285901944146747913585662582\n",
              "\n",
              "437196187903500361404439079066554427821772327705188152345968353883632818379210\n",
              "──────────────────────────────────────────────────────────────────────────────\n",
              "122303916658699805768789168611722509824003553274262843921941644228908394576535\n",
              "                                                                              \n",
              "398721005548690377780215629291290583174290813779979768511074299966598657561154\n",
              "──────────────────────────────────────────────────────────────────────────────\n",
              "081387859361555922234831722032281735328005996150318549118276524636282915847903\n",
              "                                                                              \n",
              "373336076159860487805934384412121039645910946311497011965637232789993444366831\n",
              "──────────────────────────────────────────────────────────────────────────────\n",
              "688251627767686420640466280241515179110404500814066268967792749356617299796945\n",
              "                                                                              \n",
              "150014820009630310850339832313444974630846823863253064961545557706882243772285\n",
              "──────────────────────────────────────────────────────────────────────────────\n",
              "058360546263543645938355470959303651498681274571969469456871204052178955481313\n",
              "\n",
              "709338638403786377428983392616171571406328526117029600685748309607165157404836\n",
              "──────────────────────────────────────────────────────────────────────────────\n",
              "703480358371774406980020120133284524610375265074808471459177349153091655427651\n",
              "                                                                              \n",
              "362970259091960273423606490527805442869316334642162815518600211402629506421770\n",
              "──────────────────────────────────────────────────────────────────────────────\n",
              "999623104752369311778783952724917635280008259813739295587361776695842168534161\n",
              "                                                                              \n",
              "106431907785656322352520978017305285705217663934797684332996087088650735198279\n",
              "──────────────────────────────────────────────────────────────────────────────\n",
              "224408453937580915508025485502160397839808669094757397181624642260582763541691\n",
              "                                                                              \n",
              "339609236585980365208591325523563162975310950121731722960807975419084460054809\n",
              "──────────────────────────────────────────────────────────────────────────────\n",
              "447641473306183673140082716103503045620431645307545938221062435407154583424789\n",
              "\n",
              "938775519228231877380732897495586181265527116020454010505230808635682287528917\n",
              "──────────────────────────────────────────────────────────────────────────────\n",
              "514994710887138452131322703926965730666380505312684879362427978974873308896230\n",
              "                                                                              \n",
              "118526926821273265434950164723854607461282966744538148843492733999573124883763\n",
              "──────────────────────────────────────────────────────────────────────────────\n",
              "931553574622046137971607062876754670499517102715155733924097214520098708762388\n",
              "                                                                              \n",
              "834484741643330708475246869262896091754793663363154563665088279006913429168766\n",
              "──────────────────────────────────────────────────────────────────────────────\n",
              "918993300457042039366342091640823258844081973396067513859075440034839524601891\n",
              "                                                                              \n",
              "981042697350223515041860221538477958195150460027253159142014692204701423493189\n",
              "──────────────────────────────────────────────────────────────────────────────\n",
              "561644922536013636539882227255303559406230966285482281823315024674479158795612\n",
              "\n",
              "461933639577008252525495259640197940368156766001458066179082649144941915172372\n",
              "──────────────────────────────────────────────────────────────────────────────\n",
              "062316781605418232749549306805492231571061831707495391282021373631258730307185\n",
              "                                                                              \n",
              "921942961552375510060645379932347087865290572659757195080862209421516899926726\n",
              "──────────────────────────────────────────────────────────────────────────────\n",
              "230159568959143267764864455234268140776166841006398472788411068002749107393374\n",
              "                                                                              \n",
              "749717194401317812116422119985455280344040870429320383389714240931406812339205\n",
              "──────────────────────────────────────────────────────────────────────────────\n",
              "412267923366863094816095788620290159990011653496160828957227073266261058389101\n",
              "                                                                              \n",
              "128906561251791094253827322507802417827026092269920467454791500831368613550215\n",
              "──────────────────────────────────────────────────────────────────────────────\n",
              "478413435488941623525924927978134729792143085908592164159421202706285891262871\n",
              "\n",
              "370593452120495429409417381861852735160283129744911869489201079760471982063167\n",
              "──────────────────────────────────────────────────────────────────────────────\n",
              "019062128109852905856194606935704138993866549921750608043409439845398845364887\n",
              "                                                                              \n",
              "384981042537314773299753151417368334865345489098930809273468490221352415949969\n",
              "──────────────────────────────────────────────────────────────────────────────\n",
              "719667341185376778632328399204000734552149802992954151073253429739110551553246\n",
              "                                                                              \n",
              "300064436168867346749581131245946459263405194005600651663521698882154059217691\n",
              "──────────────────────────────────────────────────────────────────────────────\n",
              "024145362272480347417846502118558576058897629900884103521651957137505204128856\n",
              "                                                                              \n",
              "593720714463564467759950548158316848808378426733211097683568322968518229987717\n",
              "──────────────────────────────────────────────────────────────────────────────\n",
              "745033193340506390742133384069005904752562483011641388622905474919973030944535\n",
              "\n",
              "011310935744660840119273952341614980705088084127322710312966173850973584989468\n",
              "──────────────────────────────────────────────────────────────────────────────\n",
              "021678234891599579198197050622554939694404497631995248199201599725173511160679\n",
              "                                                                              \n",
              "760817637758783914060709316750510107651714296835144685069719300609473566246286\n",
              "──────────────────────────────────────────────────────────────────────────────\n",
              "849082021379574289896957522925561460734307589753991981336152699536230300083646\n",
              "                                                                              \n",
              "624921061068409968841239125133752526892171235715605543235071641107929956620844\n",
              "──────────────────────────────────────────────────────────────────────────────\n",
              "894125764196026133651049597455236256946245697000527314385655359651886447470194\n",
              "                                                                              \n",
              "545095987080057991540405830174835550387101907331212465459659086903092473108722\n",
              "──────────────────────────────────────────────────────────────────────────────\n",
              "533566076776576047814810097003836974299218490264869353707828798870157768105016\n",
              "\n",
              "422025370135797365468617671877892636630901351936675248068382180480588157194797\n",
              "──────────────────────────────────────────────────────────────────────────────\n",
              "588205802779606326057665836949443318721401794912486782231271332136407110522779\n",
              "                                                                              \n",
              "675258431171735853369256982061382713941943557432064696187952948055427174814068\n",
              "──────────────────────────────────────────────────────────────────────────────\n",
              "805097292190585675222311099852185600342365528914821445015270372980186999007189\n",
              "                                                                              \n",
              "526734727451490339337614557964761747095964528204636976936778222345921900568869\n",
              "──────────────────────────────────────────────────────────────────────────────\n",
              "145060683520834679673043393469294870380442273555816590826277020706115673328853\n",
              "                                                                              \n",
              "946584920613506855988861916808567281725893466721764826032077999310503654968007\n",
              "──────────────────────────────────────────────────────────────────────────────\n",
              "084846078093937118237070663014378088076874045751334549173004365449673676593647\n",
              "\n",
              "451429941246161794294547089677959821155464890009450777241355225379798696091881\n",
              "──────────────────────────────────────────────────────────────────────────────\n",
              "035447265554118002141748623505832718266803860032590734150578993789200831986523\n",
              "                                                                              \n",
              "077768323738695586537037374646533189833227754696958279157445807648660449124854\n",
              "──────────────────────────────────────────────────────────────────────────────\n",
              "622317260622574128614200802166092712075231513804996863879102052019276403977258\n",
              "                                                                              \n",
              "085955938898956642341442290457276613944425140603328260776539847208384116781084\n",
              "──────────────────────────────────────────────────────────────────────────────\n",
              "444899869701882802712881589774054776471284889374614929924066725466321053849596\n",
              "                                                                              \n",
              "448523823667509661134089783669378066862681622829564565475448027540517565791902\n",
              "──────────────────────────────────────────────────────────────────────────────\n",
              "145727647278040675471633229968423397319082535689539684841269196688936753722374\n",
              "\n",
              "283413994760450632644916474067233013706462653510073343163590371975334681050085\n",
              "──────────────────────────────────────────────────────────────────────────────\n",
              "423110230826644049497598372008268440141562520350116992296378888341693855784982\n",
              "                                                                              \n",
              "062443265826978217108212314057168153473127139693599046857617121235472307951285\n",
              "──────────────────────────────────────────────────────────────────────────────\n",
              "276498514519961833527197252763952992738886753090822424500139374076608381637158\n",
              "                                                                              \n",
              "500253565714899144495663089146832624069692517539311895061306069748303299302797\n",
              "──────────────────────────────────────────────────────────────────────────────\n",
              "335939625713749129363624604543806690845979192443481523575413258566145550660978\n",
              "                                                                              \n",
              "613683054636358703528903262785123414981290974343564056050399652474021512192520\n",
              "──────────────────────────────────────────────────────────────────────────────\n",
              "072786504509536647934571084922881365026423694772703190551779874293630296004929\n",
              "\n",
              "021734775662002752732891340495503142220148678364139912296442853610212550476259\n",
              "──────────────────────────────────────────────────────────────────────────────\n",
              "839669582373484192947648011886020725087385709150240986233253446866355631308621\n",
              "                                                                              \n",
              "748775687069519597141691023266557921607180422289034349748520042009515330494385\n",
              "──────────────────────────────────────────────────────────────────────────────\n",
              "541942420255254575599156020057659973584963384191031664268615191586975127833298\n",
              "                                                                              \n",
              "718146007766377350992438486993874282060861128930886813535699845708220096815122\n",
              "──────────────────────────────────────────────────────────────────────────────\n",
              "263581471006413311067020815055626251777355231590305249228787699364050466324253\n",
              "                                                                              \n",
              "131216501248948516165401763760587212629226907918992116019710075034206041307345\n",
              "──────────────────────────────────────────────────────────────────────────────\n",
              "451974949757657237673664048864751869803696804284324054514486392672795373157665\n",
              "\n",
              "812348522168700711061333408591093693572902107028614892582086447045543911019912\n",
              "──────────────────────────────────────────────────────────────────────────────\n",
              "324911669942678161678441488302514987744234900269315115581331478259822302525184\n",
              "                                                                              \n",
              "136077911328873088739062631719582606444128252913528234033538132249813213801818\n",
              "──────────────────────────────────────────────────────────────────────────────\n",
              "485788443028269397832370011510494041818396394204469257543496869563450135511249\n",
              "                                                                              \n",
              "623986072913084790180501722355091359258583292847473194567237828121054629490950\n",
              "──────────────────────────────────────────────────────────────────────────────\n",
              "678221448594059004792692551849852317809364207007799146403019872462441583198567\n",
              "                                                                              \n",
              "553494248751215224894764891282795202335469915164611773299334207984878536677685\n",
              "──────────────────────────────────────────────────────────────────────────────\n",
              "446859087542121331344703896354783838504076812218295475167696077290380577047982\n",
              "\n",
              "444547100509031708351210768248719095286438903464271535720286344968778998469231\n",
              "──────────────────────────────────────────────────────────────────────────────\n",
              "946196844064527563449684916958334344413992536179182725487350992592975089393095\n",
              "                                                                              \n",
              "621383958495776285587621935992203489597412674344101763243616068645986269329423\n",
              "──────────────────────────────────────────────────────────────────────────────\n",
              "596707174358890263321343297367189206198612404802370849259904800000645463350847\n",
              "                                                                              \n",
              "107412392342025698762393995562409405900944662273832343589479334129047902590083\n",
              "──────────────────────────────────────────────────────────────────────────────\n",
              "598516002481734913702934228147223502924390545826964785617311257284435113231253\n",
              "                                                                              \n",
              "128347087272912103665597756676122760373376186645240265497350768878781915496877\n",
              "──────────────────────────────────────────────────────────────────────────────\n",
              "556587025598613316404260214162041193701969315403306760336887413993342034171612\n",
              "\n",
              "085918816733533970152630037628729311259704901424291578918974795745684336180172\n",
              "──────────────────────────────────────────────────────────────────────────────\n",
              "032564603456101849607549355211997922733766810322515040679244504718549182299748\n",
              "                                                                              \n",
              "762818671607021512334551479742117733294725977104273715868653284825545872657508\n",
              "──────────────────────────────────────────────────────────────────────────────\n",
              "867452768332171871212739536920246494613231492419244131146225101712551745130825\n",
              "                                                                              \n",
              "426074863885955775560283306936085599053039286213623563802619408626382963812172\n",
              "──────────────────────────────────────────────────────────────────────────────\n",
              "707915164377729009502895849935197368796104626408519051527043039310162297579681\n",
              "                                                                              \n",
              "153990909538300553554483874487670940281573003282357391861260935682302310555330\n",
              "──────────────────────────────────────────────────────────────────────────────\n",
              "911654480875085381719925126982658126794374664659228500570227408287368860565632\n",
              "\n",
              "593330778613669814228453414491327573869391559334833045741514459653916298830483\n",
              "──────────────────────────────────────────────────────────────────────────────\n",
              "519793188678218620599890441835894977430971600246214351177888830095278561200321\n",
              "                                                                              \n",
              "284120909336043866911782653057556897011628442173788512101032125360384294233705\n",
              "──────────────────────────────────────────────────────────────────────────────\n",
              "627151005894493922262315120598072774414764575415486717612687400785782572025542\n",
              "                                                                              \n",
              "485024897167983126377877024593695104644969579487646815321804672817293674653674\n",
              "──────────────────────────────────────────────────────────────────────────────\n",
              "458404705659076919426527892992133638079230693645204844825325851454019510853740\n",
              "                                                                              \n",
              "027476266288725139328448163520989649788578403455986527311180535589648759878527\n",
              "──────────────────────────────────────────────────────────────────────────────\n",
              "803594220121565440243994038658679351660661023234436777064654079280589640490209\n",
              "\n",
              "098608883116831186058564692654475316342204657139679787620359570983286836190461\n",
              "──────────────────────────────────────────────────────────────────────────────\n",
              "346151583671474917199532793852266476825709632866194881712240368170855207880749\n",
              "                                                                              \n",
              "169608122181220335486315311439526835169000822142422071888641804079750695699814\n",
              "──────────────────────────────────────────────────────────────────────────────\n",
              "271630797445613922774211589625699679643385005461703862889405621288318163298765\n",
              "                                                                              \n",
              "770947458729436977976367753408966890522375604833455761988778338675311233190455\n",
              "──────────────────────────────────────────────────────────────────────────────\n",
              "371792005983868228452741538879537537312565534963846850168837799683083263315616\n",
              "                                                                              \n",
              "615112854537838827012327207534700593359265699664789579101852379422436768918671\n",
              "──────────────────────────────────────────────────────────────────────────────\n",
              "978623177316063548486968152503762182505695157338801180372543735813515854620861\n",
              "\n",
              "219419667564754510505796534689710158705399640188352795116439917637008320826268\n",
              "──────────────────────────────────────────────────────────────────────────────\n",
              "993695176616517831376195819516702866639152899687964086428105459491376247518713\n",
              "                                                                              \n",
              "709583461749724074449932111484525483538616827978825073037200472936449460171352\n",
              "──────────────────────────────────────────────────────────────────────────────\n",
              "614360610540373840447330445434436087453570518223439395847427962891697417687828\n",
              "                                                                              \n",
              "795921928330311194110020305781784215057839281004124676374298150308413660717723\n",
              "──────────────────────────────────────────────────────────────────────────────\n",
              "658680557047589253076514704721156964409593672938087842808933582022409913523703\n",
              "                                                                              \n",
              "264336188965391701149586987597812101235633796540866896194528684093099702236163\n",
              "──────────────────────────────────────────────────────────────────────────────\n",
              "085191281645684417879916146902000673960961920939407910871100222353435684243599\n",
              "\n",
              "587606405229941978914972327581161929107143805971614731943742125461140204697805\n",
              "──────────────────────────────────────────────────────────────────────────────\n",
              "407045311462003851956830002113301670604811392327738860724633800403652827456360\n",
              "                                                                              \n",
              "583209916803192953535218465135032907409380468733137563626943108997812807001337\n",
              "──────────────────────────────────────────────────────────────────────────────\n",
              "874388963092131500177150628566196569145619224553059327472819538181164146332607\n",
              "                                                                              \n",
              "591097744951319537795161358585441762135377702658344518929813241341215479880544\n",
              "──────────────────────────────────────────────────────────────────────────────\n",
              "648924061185204879145318002676848782766094430281802556917869480511293581444722\n",
              "                                                                              \n",
              "589062257318537854581665999152690070683240664825716900873238412279657561991980\n",
              "──────────────────────────────────────────────────────────────────────────────\n",
              "562297391566015835822523342021351312486446835125148649645716734992794957320591\n",
              "\n",
              "614575436618596598566081710168896801366914779614326972210698282206872624158570\n",
              "──────────────────────────────────────────────────────────────────────────────\n",
              "188367641766940486157108029636694589918083033469386362366789213598266978110530\n",
              "                                                                              \n",
              "996995160830114328803224313226642429249908362067042490621469309220879934588212\n",
              "──────────────────────────────────────────────────────────────────────────────\n",
              "817870395481712070390119800011922120486765118979589486493956797947075525561520\n",
              "                                                                              \n",
              "827864739727582538643536571288528154988394795666427924710035906094000239929428\n",
              "──────────────────────────────────────────────────────────────────────────────\n",
              "905265679571457949132336837539813147229571842394556058997933003891138172273338\n",
              "                                                                              \n",
              "394681184261903417449182149290479892428012074485403992342534456146249588915932\n",
              "──────────────────────────────────────────────────────────────────────────────\n",
              "885511416152977554201444121839744425218785804263032823063466767015097576676625\n",
              "\n",
              "476397527186552612515871261143372091676861517036495839793646547753448406849742\n",
              "──────────────────────────────────────────────────────────────────────────────\n",
              "464676851055840993846117151215626156380243830301657958266784051090179414986927\n",
              "                                                                              \n",
              "242653298089124553128082148056450070802327630953944680408355571356696083638558\n",
              "──────────────────────────────────────────────────────────────────────────────\n",
              "159142186156731677115322692676369138891661463634047804575198086214677762790440\n",
              "                                                                              \n",
              "669344053402237700451511566665414595971015040482899090967140412012896665904407\n",
              "──────────────────────────────────────────────────────────────────────────────\n",
              "588590678004065258871748391539793131414975518382100080471259798047560592316774\n",
              "                                                                              \n",
              "058942503150575167890666980008668404845905160942103471693558205483031866597509\n",
              "──────────────────────────────────────────────────────────────────────────────\n",
              "243671498785124085811814954997574198452113524573482717319001098926293150501812\n",
              "\n",
              "248916426611194589140871941219528530894397492007687371734208319239005371372983\n",
              "──────────────────────────────────────────────────────────────────────────────\n",
              "423432233774175471016947737880136258762552642610860199054605960897314298722698\n",
              "                                                                              \n",
              "733531995054573456206883001937589636561089659424490871831974679740952070514909\n",
              "──────────────────────────────────────────────────────────────────────────────\n",
              "027041894493921107341099307672729936661807584405826585904647559014217879094554\n",
              "                                                                              \n",
              "488272494809649125226771355900903311588873289191486998293560819810081356802850\n",
              "──────────────────────────────────────────────────────────────────────────────\n",
              "736347496113955596621467134648172594432566680640422918802500883803264778382085\n",
              "                                                                              \n",
              "066051582502672439746018214466297967071948968217583532888287842005447869505409\n",
              "──────────────────────────────────────────────────────────────────────────────\n",
              "740776961071610269736340700173893508246049752955758596113380061466736561415540\n",
              "\n",
              "714774962634489872393867196366056095740922062857522306930270142684840305117393\n",
              "──────────────────────────────────────────────────────────────────────────────\n",
              "993468071249653018420618246995528924414544258206269440000000000000000000000000\n",
              "                                                                              \n",
              "830974723717991500656612270291899904723070065973279684465329108446982219594655\n",
              "──────────────────────────────────────────────────────────────────────────────\n",
              "551477370233789468584793291804955059949543435723079680000000000000000000000000\n",
              "                                                                              \n",
              "002274976147009218601330648786356723206916911513697908567594298625781759754887\n",
              "──────────────────────────────────────────────────────────────────────────────\n",
              "391726223582893823332783112861003304258422727061274624000000000000000000000000\n",
              "                                                                              \n",
              "006508522565573060800609081094721344513849900203609364544644526343167934380405\n",
              "──────────────────────────────────────────────────────────────────────────────\n",
              "306479848470795742395875015426063355926459728181329920000000000000000000000000\n",
              "\n",
              "173302602251369427772638457157325355026418402047394409128853224115772149190510\n",
              "──────────────────────────────────────────────────────────────────────────────\n",
              "000000000000000000000000000000000000000000000000000000000000000000000000000000\n",
              "                                                                              \n",
              "307208879193053577109344000163350646976848638320114173310512168121000208705432\n",
              "──────────────────────────────────────────────────────────────────────────────\n",
              "000000000000000000000000000000000000000000000000000000000000000000000000000000\n",
              "                                                                              \n",
              "747449733866431112681513279750398699541550101527627698393846791856887001733763\n",
              "──────────────────────────────────────────────────────────────────────────────\n",
              "000000000000000000000000000000000000000000000000000000000000000000000000000000\n",
              "                                                                              \n",
              "963467226721716634553539067359019677779970273935630082376770893307727742470717\n",
              "──────────────────────────────────────────────────────────────────────────────\n",
              "000000000000000000000000000000000000000000000000000000000000000000000000000000\n",
              "\n",
              "211932969065912994543834466990261673189036696675711642473184702768788477178621\n",
              "──────────────────────────────────────────────────────────────────────────────\n",
              "000000000000000000000000000000000000000000000000000000000000000000000000000000\n",
              "                                                                              \n",
              "142165285344614317832902958892636660912051297090147335241173998460433981152827\n",
              "──────────────────────────────────────────────────────────────────────────────\n",
              "000000000000000000000000000000000000000000000000000000000000000000000000000000\n",
              "                                                                              \n",
              "523946048866625167970215999542639789133318700138063395085471293700262511271110\n",
              "──────────────────────────────────────────────────────────────────────────────\n",
              "000000000000000000000000000000000000000000000000000000000000000000000000000000\n",
              "                                                                              \n",
              "381807855078096664045588819957477738913041184270151101844970215154181844201477\n",
              "──────────────────────────────────────────────────────────────────────────────\n",
              "000000000000000000000000000000000000000000000000000000000000000000000000000000\n",
              "\n",
              "534961283746628273365310050953532689967441232462684917866758741680356647662161\n",
              "──────────────────────────────────────────────────────────────────────────────\n",
              "000000000000000000000000000000000000000000000000000000000000000000000000000000\n",
              "                                                                              \n",
              "546579886580575132467888598687109439893768693294364000146656671061585177206670\n",
              "──────────────────────────────────────────────────────────────────────────────\n",
              "000000000000000000000000000000000000000000000000000000000000000000000000000000\n",
              "                                                                              \n",
              "095542098277973170281377539808803921913425589751804132947184646452243303254776\n",
              "──────────────────────────────────────────────────────────────────────────────\n",
              "000000000000000000000000000000000000000000000000000000000000000000000000000000\n",
              "                                                                              \n",
              "924830276361172539395250264880068446698510504343103310959061699480318870764918\n",
              "──────────────────────────────────────────────────────────────────────────────\n",
              "000000000000000000000000000000000000000000000000000000000000000000000000000000\n",
              "\n",
              "787675561499837667856333213668847632326095814682525838309298983334828213969573\n",
              "──────────────────────────────────────────────────────────────────────────────\n",
              "000000000000000000000000000000000000000000000000000000000000000000000000000000\n",
              "                                                                              \n",
              "813266459306921946962128045048012521049126432261338598318124431383044766796431\n",
              "──────────────────────────────────────────────────────────────────────────────\n",
              "000000000000000000000000000000000000000000000000000000000000000000000000000000\n",
              "                                                                              \n",
              "157334975075323013483775173876512372374848766328247140234677011176789271233332\n",
              "──────────────────────────────────────────────────────────────────────────────\n",
              "000000000000000000000000000000000000000000000000000000000000000000000000000000\n",
              "                                                                              \n",
              "264295954371911298166384935102989645370353155533653932791032625721590844680898\n",
              "──────────────────────────────────────────────────────────────────────────────\n",
              "000000000000000000000000000000000000000000000000000000000000000000000000000000\n",
              "\n",
              "274384893213732529777307433875072795224520548231608041135262573894308467616166\n",
              "──────────────────────────────────────────────────────────────────────────────\n",
              "000000000000000000000000000000000000000000000000000000000000000000000000000000\n",
              "                                                                              \n",
              "275239894868161903078395698011868484681481942682039952831530934059955570312408\n",
              "──────────────────────────────────────────────────────────────────────────────\n",
              "000000000000000000000000000000000000000000000000000000000000000000000000000000\n",
              "                                                                              \n",
              "950657088548463792455665251593859329005422009938766746376434550188861237323415\n",
              "──────────────────────────────────────────────────────────────────────────────\n",
              "000000000000000000000000000000000000000000000000000000000000000000000000000000\n",
              "                                                                              \n",
              "255718817016897392757079900198056906149275986346726487836429189844671037703963\n",
              "──────────────────────────────────────────────────────────────────────────────\n",
              "000000000000000000000000000000000000000000000000000000000000000000000000000000\n",
              "\n",
              "019599733687546521494131544203502667360069193210078770310297884598028305626322\n",
              "──────────────────────────────────────────────────────────────────────────────\n",
              "000000000000000000000000000000000000000000000000000000000000000000000000000000\n",
              "                                                                              \n",
              "514619920058799171774057574338252268762577785177722745417548219824242427774984\n",
              "──────────────────────────────────────────────────────────────────────────────\n",
              "000000000000000000000000000000000000000000000000000000000000000000000000000000\n",
              "                                                                              \n",
              "777260321762453028547681487902132017331169048016508130844616745185588653390756\n",
              "──────────────────────────────────────────────────────────────────────────────\n",
              "000000000000000000000000000000000000000000000000000000000000000000000000000000\n",
              "                                                                              \n",
              "098833501723549559685475143569945803478544502461323246100496900615149525563521\n",
              "──────────────────────────────────────────────────────────────────────────────\n",
              "000000000000000000000000000000000000000000000000000000000000000000000000000000\n",
              "\n",
              "469845104239694224493474655996886496104618033867987032845984416308908777774974\n",
              "──────────────────────────────────────────────────────────────────────────────\n",
              "000000000000000000000000000000000000000000000000000000000000000000000000000000\n",
              "                                                                              \n",
              "223017595781967645864935743500302221603271295711639899955684784997752941451952\n",
              "──────────────────────────────────────────────────────────────────────────────\n",
              "000000000000000000000000000000000000000000000000000000000000000000000000000000\n",
              "                                                                              \n",
              "491430406130081890699957568134620647323617502376318120533383201254060145252086\n",
              "──────────────────────────────────────────────────────────────────────────────\n",
              "000000000000000000000000000000000000000000000000000000000000000000000000000000\n",
              "                                                                              \n",
              "960189893294455579088413416264731487567714049792324497233780467744661108979308\n",
              "──────────────────────────────────────────────────────────────────────────────\n",
              "000000000000000000000000000000000000000000000000000000000000000000000000000000\n",
              "\n",
              "777039770366421255155947951130523112691913848619695764307819747289807388030843\n",
              "──────────────────────────────────────────────────────────────────────────────\n",
              "000000000000000000000000000000000000000000000000000000000000000000000000000000\n",
              "                                                                              \n",
              "859633575465733269883580281038032268515195887504388033749531868258268640054715\n",
              "──────────────────────────────────────────────────────────────────────────────\n",
              "000000000000000000000000000000000000000000000000000000000000000000000000000000\n",
              "                                                                              \n",
              "509973541338775839406720622130322332730430479405820433052529444974146528502312\n",
              "──────────────────────────────────────────────────────────────────────────────\n",
              "000000000000000000000000000000000000000000000000000000000000000000000000000000\n",
              "                                                                              \n",
              "031925322257509592460966253591143644047043871434315326156537108040023271761597\n",
              "──────────────────────────────────────────────────────────────────────────────\n",
              "000000000000000000000000000000000000000000000000000000000000000000000000000000\n",
              "\n",
              "849901850741328483161755560276268146582323696363329455304239034194592946968304\n",
              "──────────────────────────────────────────────────────────────────────────────\n",
              "000000000000000000000000000000000000000000000000000000000000000000000000000000\n",
              "                                                                              \n",
              "195669805046752994400749961003354703374170323698086421930954944168937559932627\n",
              "──────────────────────────────────────────────────────────────────────────────\n",
              "000000000000000000000000000000000000000000000000000000000000000000000000000000\n",
              "                                                                              \n",
              "698978366827257067125284688132938100658477064527972265403692590870433849621899\n",
              "──────────────────────────────────────────────────────────────────────────────\n",
              "000000000000000000000000000000000000000000000000000000000000000000000000000000\n",
              "                                                                              \n",
              "815735319328946200958831715244664779465782617491330264775713682783595729288946\n",
              "──────────────────────────────────────────────────────────────────────────────\n",
              "000000000000000000000000000000000000000000000000000000000000000000000000000000\n",
              "\n",
              "839694444783597449611810259383500463204424772835800146168304451195335352388183\n",
              "──────────────────────────────────────────────────────────────────────────────\n",
              "000000000000000000000000000000000000000000000000000000000000000000000000000000\n",
              "                                                                              \n",
              "831848949286506061188686913714316535497407626787185770915503045376711443659602\n",
              "──────────────────────────────────────────────────────────────────────────────\n",
              "000000000000000000000000000000000000000000000000000000000000000000000000000000\n",
              "                                                                              \n",
              "220588629041140253251326912545114344194608139250463983723214457086544969280763\n",
              "──────────────────────────────────────────────────────────────────────────────\n",
              "000000000000000000000000000000000000000000000000000000000000000000000000000000\n",
              "                                                                              \n",
              "547342303533832860746207070201025234406427272359187959661468161008189379177476\n",
              "──────────────────────────────────────────────────────────────────────────────\n",
              "000000000000000000000000000000000000000000000000000000000000000000000000000000\n",
              "\n",
              "128127901844793792262967972008790925303886164061429418019541225747628774646295\n",
              "──────────────────────────────────────────────────────────────────────────────\n",
              "000000000000000000000000000000000000000000000000000000000000000000000000000000\n",
              "                                                                              \n",
              "231366861913422816243880531683717853160592994854401336377582676996242108244477\n",
              "──────────────────────────────────────────────────────────────────────────────\n",
              "000000000000000000000000000000000000000000000000000000000000000000000000000000\n",
              "                                                                              \n",
              "458990996543090269172367108085262068062432975398642162856530547097511489307950\n",
              "──────────────────────────────────────────────────────────────────────────────\n",
              "000000000000000000000000000000000000000000000000000000000000000000000000000000\n",
              "                                                                              \n",
              "350634095611813578273190696452311837062974866703230460417975735007245859912694\n",
              "──────────────────────────────────────────────────────────────────────────────\n",
              "000000000000000000000000000000000000000000000000000000000000000000000000000000\n",
              "\n",
              "617582028409451230325201719228699822069734711641368646237002485056001315231008\n",
              "──────────────────────────────────────────────────────────────────────────────\n",
              "000000000000000000000000000000000000000000000000000000000000000000000000000000\n",
              "                                                                              \n",
              "589244482125742487662880152631702554930127556260262330985906899066499349358571\n",
              "──────────────────────────────────────────────────────────────────────────────\n",
              "000000000000000000000000000000000000000000000000000000000000000000000000000000\n",
              "                                                                              \n",
              "162922333478715731012555392578207311042886892541503615739064876027144162894107\n",
              "──────────────────────────────────────────────────────────────────────────────\n",
              "000000000000000000000000000000000000000000000000000000000000000000000000000000\n",
              "                                                                              \n",
              "808856412925409675046056587879609491449911629833603841262429208061084909599502\n",
              "──────────────────────────────────────────────────────────────────────────────\n",
              "000000000000000000000000000000000000000000000000000000000000000000000000000000\n",
              "\n",
              "925581859690413806941801567657646209591⎤\n",
              "───────────────────────────────────────⎥\n",
              "000000000000000000000000000000000000000⎥\n",
              "                                       ⎥\n",
              "70296156957065033127590632072016617109 ⎥\n",
              "────────────────────────────────────── ⎥\n",
              "00000000000000000000000000000000000000 ⎥\n",
              "                                       ⎥\n",
              "935776347015347930774238219296378763069⎥\n",
              "───────────────────────────────────────⎥\n",
              "000000000000000000000000000000000000000⎥\n",
              "                                       ⎥\n",
              "511140502028151722812522710213060700029⎥\n",
              "───────────────────────────────────────⎥\n",
              "00000000000000000000000000000000000000 ⎦"
            ]
          },
          "metadata": {},
          "execution_count": 295
        }
      ]
    },
    {
      "cell_type": "code",
      "source": [
        "N(x)"
      ],
      "metadata": {
        "colab": {
          "base_uri": "https://localhost:8080/",
          "height": 98
        },
        "id": "suJYynJFhwvn",
        "outputId": "31f38b4d-9d3d-49dc-b0dc-9e8f4d15d000"
      },
      "execution_count": 296,
      "outputs": [
        {
          "output_type": "execute_result",
          "data": {
            "text/latex": "$\\displaystyle \\left[\\begin{matrix}2.0\\\\2.0\\\\2.0\\\\2.0\\end{matrix}\\right]$",
            "text/plain": [
              "⎡2.0⎤\n",
              "⎢   ⎥\n",
              "⎢2.0⎥\n",
              "⎢   ⎥\n",
              "⎢2.0⎥\n",
              "⎢   ⎥\n",
              "⎣2.0⎦"
            ]
          },
          "metadata": {},
          "execution_count": 296
        }
      ]
    }
  ]
}