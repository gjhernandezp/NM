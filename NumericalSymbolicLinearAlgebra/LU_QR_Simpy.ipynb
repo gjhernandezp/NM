{
  "nbformat": 4,
  "nbformat_minor": 0,
  "metadata": {
    "colab": {
      "name": "LU_QR_Simpy.ipynb",
      "provenance": [],
      "authorship_tag": "ABX9TyPclpwBiR4R+OjCfADZfyg/"
    },
    "kernelspec": {
      "name": "python3",
      "display_name": "Python 3"
    },
    "language_info": {
      "name": "python"
    }
  },
  "cells": [
    {
      "cell_type": "code",
      "execution_count": 15,
      "metadata": {
        "id": "MA17z6SY_ZCn"
      },
      "outputs": [],
      "source": [
        "from sympy import Matrix"
      ]
    },
    {
      "cell_type": "code",
      "source": [
        "A = Matrix([[1,2,3],[4,5,6,],[10,11,9]])\n",
        "A"
      ],
      "metadata": {
        "colab": {
          "base_uri": "https://localhost:8080/",
          "height": 78
        },
        "id": "FooyaOyc_1Qw",
        "outputId": "1e0d5cb8-0fc2-4aa0-d8e7-5936af6e6480"
      },
      "execution_count": 2,
      "outputs": [
        {
          "output_type": "execute_result",
          "data": {
            "text/latex": "$\\displaystyle \\left[\\begin{matrix}1 & 2 & 3\\\\4 & 5 & 6\\\\10 & 11 & 9\\end{matrix}\\right]$",
            "text/plain": [
              "Matrix([\n",
              "[ 1,  2, 3],\n",
              "[ 4,  5, 6],\n",
              "[10, 11, 9]])"
            ]
          },
          "metadata": {},
          "execution_count": 2
        }
      ]
    },
    {
      "cell_type": "code",
      "source": [
        "A.LUdecomposition()"
      ],
      "metadata": {
        "colab": {
          "base_uri": "https://localhost:8080/"
        },
        "id": "1NUBsmIeCceo",
        "outputId": "051d1e88-4759-4811-e94f-09934c8d87b2"
      },
      "execution_count": 3,
      "outputs": [
        {
          "output_type": "execute_result",
          "data": {
            "text/plain": [
              "(Matrix([\n",
              " [ 1, 0, 0],\n",
              " [ 4, 1, 0],\n",
              " [10, 3, 1]]), Matrix([\n",
              " [1,  2,  3],\n",
              " [0, -3, -6],\n",
              " [0,  0, -3]]), [])"
            ]
          },
          "metadata": {},
          "execution_count": 3
        }
      ]
    },
    {
      "cell_type": "code",
      "source": [
        "from sympy import Matrix,eye,init_printing\n",
        "init_printing()\n",
        "A.LUdecomposition()"
      ],
      "metadata": {
        "colab": {
          "base_uri": "https://localhost:8080/",
          "height": 78
        },
        "id": "3ePpAChGAGZg",
        "outputId": "7d5c346b-537c-4f4e-a4fc-35ec479f1d4f"
      },
      "execution_count": 4,
      "outputs": [
        {
          "output_type": "execute_result",
          "data": {
            "text/latex": "$\\displaystyle \\left( \\left[\\begin{matrix}1 & 0 & 0\\\\4 & 1 & 0\\\\10 & 3 & 1\\end{matrix}\\right], \\  \\left[\\begin{matrix}1 & 2 & 3\\\\0 & -3 & -6\\\\0 & 0 & -3\\end{matrix}\\right], \\  \\left[ \\right]\\right)$",
            "text/plain": [
              "⎛⎡1   0  0⎤  ⎡1  2   3 ⎤    ⎞\n",
              "⎜⎢        ⎥  ⎢         ⎥    ⎟\n",
              "⎜⎢4   1  0⎥, ⎢0  -3  -6⎥, []⎟\n",
              "⎜⎢        ⎥  ⎢         ⎥    ⎟\n",
              "⎝⎣10  3  1⎦  ⎣0  0   -3⎦    ⎠"
            ]
          },
          "metadata": {},
          "execution_count": 4
        }
      ]
    },
    {
      "cell_type": "code",
      "source": [
        "A = Matrix([[-2,2,-1], [6,-6,7], [3,-8,4]])\n",
        "A"
      ],
      "metadata": {
        "colab": {
          "base_uri": "https://localhost:8080/",
          "height": 78
        },
        "id": "aor7JSSPCSBh",
        "outputId": "5d577178-3d79-401d-945e-17be5272ee1e"
      },
      "execution_count": 5,
      "outputs": [
        {
          "output_type": "execute_result",
          "data": {
            "text/latex": "$\\displaystyle \\left[\\begin{matrix}-2 & 2 & -1\\\\6 & -6 & 7\\\\3 & -8 & 4\\end{matrix}\\right]$",
            "text/plain": [
              "⎡-2  2   -1⎤\n",
              "⎢          ⎥\n",
              "⎢6   -6  7 ⎥\n",
              "⎢          ⎥\n",
              "⎣3   -8  4 ⎦"
            ]
          },
          "metadata": {},
          "execution_count": 5
        }
      ]
    },
    {
      "cell_type": "code",
      "source": [
        "A.LUdecomposition()"
      ],
      "metadata": {
        "colab": {
          "base_uri": "https://localhost:8080/",
          "height": 78
        },
        "id": "8ifTS_gFC42g",
        "outputId": "e0bb04b9-7694-4e8c-89a0-ed75ce52fc8a"
      },
      "execution_count": 6,
      "outputs": [
        {
          "output_type": "execute_result",
          "data": {
            "text/latex": "$\\displaystyle \\left( \\left[\\begin{matrix}1 & 0 & 0\\\\- \\frac{3}{2} & 1 & 0\\\\-3 & 0 & 1\\end{matrix}\\right], \\  \\left[\\begin{matrix}-2 & 2 & -1\\\\0 & -5 & \\frac{5}{2}\\\\0 & 0 & 4\\end{matrix}\\right], \\  \\left[ \\left[ 1, \\  2\\right]\\right]\\right)$",
            "text/plain": [
              "⎛⎡ 1    0  0⎤  ⎡-2  2   -1 ⎤          ⎞\n",
              "⎜⎢          ⎥  ⎢           ⎥          ⎟\n",
              "⎜⎢-3/2  1  0⎥, ⎢0   -5  5/2⎥, [[1, 2]]⎟\n",
              "⎜⎢          ⎥  ⎢           ⎥          ⎟\n",
              "⎝⎣ -3   0  1⎦  ⎣0   0    4 ⎦          ⎠"
            ]
          },
          "metadata": {},
          "execution_count": 6
        }
      ]
    },
    {
      "cell_type": "code",
      "source": [
        "A.LUdecomposition?"
      ],
      "metadata": {
        "id": "FqS6OXveEzQo"
      },
      "execution_count": 26,
      "outputs": []
    },
    {
      "cell_type": "code",
      "source": [
        "L, U, perm = A.LUdecomposition()"
      ],
      "metadata": {
        "id": "ffcTKw4oDlYo"
      },
      "execution_count": 9,
      "outputs": []
    },
    {
      "cell_type": "code",
      "source": [
        "L*U"
      ],
      "metadata": {
        "colab": {
          "base_uri": "https://localhost:8080/",
          "height": 78
        },
        "id": "xm71rufAD0Ro",
        "outputId": "a6e28bce-90f9-4bad-ee72-4db69db17a9a"
      },
      "execution_count": 11,
      "outputs": [
        {
          "output_type": "execute_result",
          "data": {
            "text/latex": "$\\displaystyle \\left[\\begin{matrix}-2 & 2 & -1\\\\3 & -8 & 4\\\\6 & -6 & 7\\end{matrix}\\right]$",
            "text/plain": [
              "⎡-2  2   -1⎤\n",
              "⎢          ⎥\n",
              "⎢3   -8  4 ⎥\n",
              "⎢          ⎥\n",
              "⎣6   -6  7 ⎦"
            ]
          },
          "metadata": {},
          "execution_count": 11
        }
      ]
    },
    {
      "cell_type": "code",
      "source": [
        "A"
      ],
      "metadata": {
        "colab": {
          "base_uri": "https://localhost:8080/",
          "height": 78
        },
        "id": "TpKhHFFfD3tY",
        "outputId": "d87e1234-cc22-4f24-d5fc-ac9cbe925bf0"
      },
      "execution_count": 12,
      "outputs": [
        {
          "output_type": "execute_result",
          "data": {
            "text/latex": "$\\displaystyle \\left[\\begin{matrix}-2 & 2 & -1\\\\6 & -6 & 7\\\\3 & -8 & 4\\end{matrix}\\right]$",
            "text/plain": [
              "⎡-2  2   -1⎤\n",
              "⎢          ⎥\n",
              "⎢6   -6  7 ⎥\n",
              "⎢          ⎥\n",
              "⎣3   -8  4 ⎦"
            ]
          },
          "metadata": {},
          "execution_count": 12
        }
      ]
    },
    {
      "cell_type": "code",
      "source": [
        "(L*U).permuteBkwd(perm)"
      ],
      "metadata": {
        "colab": {
          "base_uri": "https://localhost:8080/",
          "height": 78
        },
        "id": "jEZJptOBDpXI",
        "outputId": "e25550b4-fc6f-46f3-e2e0-db8f9c7e114d"
      },
      "execution_count": 10,
      "outputs": [
        {
          "output_type": "execute_result",
          "data": {
            "text/latex": "$\\displaystyle \\left[\\begin{matrix}-2 & 2 & -1\\\\6 & -6 & 7\\\\3 & -8 & 4\\end{matrix}\\right]$",
            "text/plain": [
              "⎡-2  2   -1⎤\n",
              "⎢          ⎥\n",
              "⎢6   -6  7 ⎥\n",
              "⎢          ⎥\n",
              "⎣3   -8  4 ⎦"
            ]
          },
          "metadata": {},
          "execution_count": 10
        }
      ]
    },
    {
      "cell_type": "code",
      "source": [
        "P = eye(A.shape[0]).permuteFwd(perm)\n",
        "P"
      ],
      "metadata": {
        "colab": {
          "base_uri": "https://localhost:8080/",
          "height": 78
        },
        "id": "jAn0Tso5DrMg",
        "outputId": "a011c4ac-6ec7-49bd-8231-0fb5c2ab2f04"
      },
      "execution_count": 25,
      "outputs": [
        {
          "output_type": "execute_result",
          "data": {
            "text/latex": "$\\displaystyle \\left[\\begin{matrix}1 & 0 & 0\\\\0 & 0 & 1\\\\0 & 1 & 0\\end{matrix}\\right]$",
            "text/plain": [
              "⎡1  0  0⎤\n",
              "⎢       ⎥\n",
              "⎢0  0  1⎥\n",
              "⎢       ⎥\n",
              "⎣0  1  0⎦"
            ]
          },
          "metadata": {},
          "execution_count": 25
        }
      ]
    },
    {
      "cell_type": "code",
      "source": [
        "A.QRdecomposition()"
      ],
      "metadata": {
        "colab": {
          "base_uri": "https://localhost:8080/",
          "height": 88
        },
        "id": "bC4OqveuC8hn",
        "outputId": "080d9fe0-f6a8-431b-dd6d-0908a8ec5005"
      },
      "execution_count": 7,
      "outputs": [
        {
          "output_type": "execute_result",
          "data": {
            "text/latex": "$\\displaystyle \\left( \\left[\\begin{matrix}- \\frac{2}{7} & - \\frac{3 \\sqrt{10}}{70} & \\frac{3 \\sqrt{10}}{10}\\\\\\frac{6}{7} & \\frac{9 \\sqrt{10}}{70} & \\frac{\\sqrt{10}}{10}\\\\\\frac{3}{7} & - \\frac{2 \\sqrt{10}}{7} & 0\\end{matrix}\\right], \\  \\left[\\begin{matrix}7 & - \\frac{64}{7} & 8\\\\0 & \\frac{10 \\sqrt{10}}{7} & - \\frac{\\sqrt{10}}{5}\\\\0 & 0 & \\frac{2 \\sqrt{10}}{5}\\end{matrix}\\right]\\right)$",
            "text/plain": [
              "⎛⎡      -3⋅√10   3⋅√10⎤                    ⎞\n",
              "⎜⎢-2/7  ───────  ─────⎥  ⎡7  -64/7     8  ⎤⎟\n",
              "⎜⎢         70      10 ⎥  ⎢                ⎥⎟\n",
              "⎜⎢                    ⎥  ⎢   10⋅√10  -√10 ⎥⎟\n",
              "⎜⎢       9⋅√10    √10 ⎥  ⎢0  ──────  ─────⎥⎟\n",
              "⎜⎢6/7    ─────    ─── ⎥, ⎢     7       5  ⎥⎟\n",
              "⎜⎢         70      10 ⎥  ⎢                ⎥⎟\n",
              "⎜⎢                    ⎥  ⎢           2⋅√10⎥⎟\n",
              "⎜⎢      -2⋅√10        ⎥  ⎢0    0     ─────⎥⎟\n",
              "⎜⎢3/7   ───────    0  ⎥  ⎣             5  ⎦⎟\n",
              "⎝⎣         7          ⎦                    ⎠"
            ]
          },
          "metadata": {},
          "execution_count": 7
        }
      ]
    },
    {
      "cell_type": "code",
      "source": [
        ""
      ],
      "metadata": {
        "id": "qbYlF2UFDG-7"
      },
      "execution_count": 8,
      "outputs": []
    }
  ]
}