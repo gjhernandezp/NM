{
  "nbformat": 4,
  "nbformat_minor": 0,
  "metadata": {
    "colab": {
      "name": "gjhernanadezp_week_1_LU_pivotingipynb",
      "provenance": [],
      "collapsed_sections": []
    },
    "kernelspec": {
      "name": "python3",
      "display_name": "Python 3"
    }
  },
  "cells": [
    {
      "cell_type": "markdown",
      "metadata": {
        "id": "OBc93xD1zMDD"
      },
      "source": [
        "# I. $LU$ factorization of a square matrix\n",
        "When we premultply $A$ by lower triangular elemetary matrices $\\Lambda_j$ it is trasfrommed in an  upper triangular matrix $U$\n",
        "\n",
        "$$  \\Lambda_{n-1}  \\ldots\\Lambda_2  \\Lambda_1 A  = U$$\n",
        "\n",
        "$$  A  = (\\Lambda_{n-1}  \\ldots\\Lambda_2  \\Lambda_2 )^{-1} U$$\n",
        "\n",
        "The inverse of a product of matrices is the revesre product of inverses\n",
        "$$  A  = (\\Lambda_1^{-1}  \\Lambda_2^{-1} \\ldots  \\Lambda_{n-1}^{-1}) U$$\n",
        "\n",
        "and inverse of a Lower Triangular Elemetary Matrix is minus the matrix $\\Lambda_j^{-1} = - \\Lambda_j$, so \n",
        "\n",
        "$$ A  =  (-\\Lambda_1) (-\\Lambda_2) \\ldots   (-\\Lambda_{n-1})  U$$\n",
        "\n",
        "So the $LU$ column pivot factorization is \n",
        "$$  A  = L U$$\n",
        "with\n",
        "$$ U = \\Lambda_{n-1}  \\ldots\\Lambda_2  \\Lambda_1 A  $$\n",
        "an upper triangular matrix\n",
        "$$ L  =  \\Lambda_1^{-1}  \\Lambda_2^{-1} \\ldots  \\Lambda_{n-1}^{-1} $$\n",
        "an lower triangular matrix."
      ]
    },
    {
      "cell_type": "markdown",
      "metadata": {
        "id": "dmO1wEA5zVVS"
      },
      "source": [
        "Consider a simple naive implementation of the LU decomposition. \n",
        "\n",
        "Note that we're using the `numpy` arrays to represent matrices [do **not** use `np.matrix`]."
      ]
    },
    {
      "cell_type": "code",
      "metadata": {
        "id": "0jzv0-yyzDM2"
      },
      "source": [
        "import numpy as np\n",
        "\n",
        "def diy_lu(a):\n",
        "    \"\"\"Construct the LU decomposition of the input matrix.\n",
        "    \n",
        "    Naive LU decomposition: work column by column, accumulate elementary triangular matrices.\n",
        "    No pivoting.\n",
        "    \"\"\"\n",
        "    N = a.shape[0]\n",
        "    \n",
        "    u = a.copy()\n",
        "    L = np.eye(N)\n",
        "    for j in range(N-1):\n",
        "        lam = np.eye(N)\n",
        "        gamma = u[j+1:, j] / u[j, j]\n",
        "        lam[j+1:, j] = -gamma\n",
        "        u = lam @ u\n",
        "\n",
        "        lam[j+1:, j] = gamma\n",
        "        L = L @ lam\n",
        "    return L, u"
      ],
      "execution_count": null,
      "outputs": []
    },
    {
      "cell_type": "code",
      "metadata": {
        "colab": {
          "base_uri": "https://localhost:8080/"
        },
        "id": "yW-cZc_qzd0Z",
        "outputId": "77706d0e-c28a-4fca-e8a0-dedacf0113e6"
      },
      "source": [
        "# Now, generate a full rank matrix and test the naive implementation\n",
        "\n",
        "import numpy as np\n",
        "\n",
        "N = 6\n",
        "a = np.zeros((N, N), dtype=float)\n",
        "for i in range(N):\n",
        "    for j in range(N):\n",
        "        a[i, j] = 3. / (0.6*i*j + 1)\n",
        "\n",
        "np.linalg.matrix_rank(a)"
      ],
      "execution_count": null,
      "outputs": [
        {
          "output_type": "execute_result",
          "data": {
            "text/plain": [
              "6"
            ]
          },
          "metadata": {
            "tags": []
          },
          "execution_count": 2
        }
      ]
    },
    {
      "cell_type": "code",
      "metadata": {
        "colab": {
          "base_uri": "https://localhost:8080/"
        },
        "id": "MJs7LATHzhZq",
        "outputId": "34afacdb-283c-4437-b69a-ad5c974be218"
      },
      "source": [
        "a"
      ],
      "execution_count": null,
      "outputs": [
        {
          "output_type": "execute_result",
          "data": {
            "text/plain": [
              "array([[3.        , 3.        , 3.        , 3.        , 3.        ,\n",
              "        3.        ],\n",
              "       [3.        , 1.875     , 1.36363636, 1.07142857, 0.88235294,\n",
              "        0.75      ],\n",
              "       [3.        , 1.36363636, 0.88235294, 0.65217391, 0.51724138,\n",
              "        0.42857143],\n",
              "       [3.        , 1.07142857, 0.65217391, 0.46875   , 0.36585366,\n",
              "        0.3       ],\n",
              "       [3.        , 0.88235294, 0.51724138, 0.36585366, 0.28301887,\n",
              "        0.23076923],\n",
              "       [3.        , 0.75      , 0.42857143, 0.3       , 0.23076923,\n",
              "        0.1875    ]])"
            ]
          },
          "metadata": {
            "tags": []
          },
          "execution_count": 3
        }
      ]
    },
    {
      "cell_type": "code",
      "metadata": {
        "id": "siqi2RnZzn9x"
      },
      "source": [
        "# Tweak the printing of floating-point numbers, for clarity\n",
        "np.set_printoptions(precision=3)"
      ],
      "execution_count": null,
      "outputs": []
    },
    {
      "cell_type": "code",
      "metadata": {
        "colab": {
          "base_uri": "https://localhost:8080/"
        },
        "id": "Y21gOqQ8zsqp",
        "outputId": "55c6a294-1992-4c97-f793-6183ba1b9ff0"
      },
      "source": [
        "L, u = diy_lu(a)\n",
        "\n",
        "print(L, \"\\n\")\n",
        "print(u, \"\\n\")\n",
        "\n",
        "# Quick sanity check: L times U must equal the original matrix, up to floating-point errors.\n",
        "print(L@u - a)"
      ],
      "execution_count": null,
      "outputs": [
        {
          "output_type": "stream",
          "text": [
            "[[1.    0.    0.    0.    0.    0.   ]\n",
            " [1.    1.    0.    0.    0.    0.   ]\n",
            " [1.    1.455 1.    0.    0.    0.   ]\n",
            " [1.    1.714 1.742 1.    0.    0.   ]\n",
            " [1.    1.882 2.276 2.039 1.    0.   ]\n",
            " [1.    2.    2.671 2.944 2.354 1.   ]] \n",
            "\n",
            "[[ 3.000e+00  3.000e+00  3.000e+00  3.000e+00  3.000e+00  3.000e+00]\n",
            " [ 0.000e+00 -1.125e+00 -1.636e+00 -1.929e+00 -2.118e+00 -2.250e+00]\n",
            " [ 0.000e+00  0.000e+00  2.625e-01  4.574e-01  5.975e-01  7.013e-01]\n",
            " [ 0.000e+00  2.220e-16  0.000e+00 -2.197e-02 -4.480e-02 -6.469e-02]\n",
            " [ 0.000e+00 -4.528e-16  0.000e+00  6.939e-18  8.080e-04  1.902e-03]\n",
            " [ 0.000e+00  4.123e-16  0.000e+00 -1.634e-17  0.000e+00 -1.585e-05]] \n",
            "\n",
            "[[ 0.000e+00  0.000e+00  0.000e+00  0.000e+00  0.000e+00  0.000e+00]\n",
            " [ 0.000e+00  0.000e+00  0.000e+00  0.000e+00  0.000e+00  0.000e+00]\n",
            " [ 0.000e+00  0.000e+00 -1.110e-16  1.110e-16  1.110e-16 -5.551e-17]\n",
            " [ 0.000e+00  0.000e+00  3.331e-16 -2.220e-16 -5.551e-17  0.000e+00]\n",
            " [ 0.000e+00  0.000e+00  0.000e+00 -1.110e-16 -1.665e-16  0.000e+00]\n",
            " [ 0.000e+00  0.000e+00 -1.110e-16 -2.776e-16  1.110e-16  1.110e-16]]\n"
          ],
          "name": "stdout"
        }
      ]
    },
    {
      "cell_type": "markdown",
      "metadata": {
        "id": "oSvHYsWuza06"
      },
      "source": [
        "# II. The need for pivoting"
      ]
    },
    {
      "cell_type": "markdown",
      "metadata": {
        "id": "B6z9Gausz4lS"
      },
      "source": [
        "Let's tweak the matrix a little bit, we only change a single element:"
      ]
    },
    {
      "cell_type": "code",
      "metadata": {
        "id": "tkGx4QSTzxOo"
      },
      "source": [
        "a1 = a.copy()\n",
        "a1[1, 1] = 3"
      ],
      "execution_count": null,
      "outputs": []
    },
    {
      "cell_type": "code",
      "metadata": {
        "colab": {
          "base_uri": "https://localhost:8080/"
        },
        "id": "MiuSdcUcz_rK",
        "outputId": "588e7a4a-e291-4653-afd8-dcd97d53ce09"
      },
      "source": [
        "np.linalg.matrix_rank(a1)"
      ],
      "execution_count": null,
      "outputs": [
        {
          "output_type": "execute_result",
          "data": {
            "text/plain": [
              "6"
            ]
          },
          "metadata": {
            "tags": []
          },
          "execution_count": 7
        }
      ]
    },
    {
      "cell_type": "code",
      "metadata": {
        "colab": {
          "base_uri": "https://localhost:8080/"
        },
        "id": "NfvRXF3l0Czz",
        "outputId": "080d0933-7492-40e8-e263-10316e84cd2f"
      },
      "source": [
        "l, u = diy_lu(a1)\n",
        "\n",
        "print(l, u)"
      ],
      "execution_count": null,
      "outputs": [
        {
          "output_type": "stream",
          "text": [
            "[[nan nan nan nan nan nan]\n",
            " [nan nan nan nan nan nan]\n",
            " [nan nan nan nan nan nan]\n",
            " [nan nan nan nan nan nan]\n",
            " [nan nan nan nan nan nan]\n",
            " [nan nan nan nan nan nan]] [[nan nan nan nan nan nan]\n",
            " [nan nan nan nan nan nan]\n",
            " [nan nan nan nan nan nan]\n",
            " [nan nan nan nan nan nan]\n",
            " [nan nan nan nan nan nan]\n",
            " [nan nan nan nan nan nan]]\n"
          ],
          "name": "stdout"
        },
        {
          "output_type": "stream",
          "text": [
            "/usr/local/lib/python3.7/dist-packages/ipykernel_launcher.py:15: RuntimeWarning: divide by zero encountered in true_divide\n",
            "  from ipykernel import kernelapp as app\n",
            "/usr/local/lib/python3.7/dist-packages/ipykernel_launcher.py:17: RuntimeWarning: invalid value encountered in matmul\n",
            "/usr/local/lib/python3.7/dist-packages/ipykernel_launcher.py:20: RuntimeWarning: invalid value encountered in matmul\n",
            "/usr/local/lib/python3.7/dist-packages/ipykernel_launcher.py:15: RuntimeWarning: invalid value encountered in true_divide\n",
            "  from ipykernel import kernelapp as app\n"
          ],
          "name": "stderr"
        }
      ]
    },
    {
      "cell_type": "markdown",
      "metadata": {
        "id": "OqWxeK450I58"
      },
      "source": [
        "### Test II.1\n",
        "\n",
        "For a naive LU decomposition to work, all leading minors of a matrix should be non-zero. Check if this requirement is satisfied for the two matrices `a` and `a1`.\n",
        "\n",
        "(20% of the grade)"
      ]
    },
    {
      "cell_type": "code",
      "metadata": {
        "colab": {
          "base_uri": "https://localhost:8080/"
        },
        "id": "nrDIJAjl0H0d",
        "outputId": "62782162-d097-4ef5-a48e-71cf22417f64"
      },
      "source": [
        "def leading_minors_test(A):\n",
        "   \"\"\"\n",
        "    Function to check all leading Minors of a Matrix not equal to 0\n",
        "   \"\"\"\n",
        "   # ... ENTER YOUR CODE HERE ...\n",
        "\n",
        "   return True\n",
        "\n",
        "leading_minors_test(a), leading_minors_test(a1)"
      ],
      "execution_count": null,
      "outputs": [
        {
          "output_type": "execute_result",
          "data": {
            "text/plain": [
              "(True, False)"
            ]
          },
          "metadata": {
            "tags": []
          },
          "execution_count": 9
        }
      ]
    },
    {
      "cell_type": "markdown",
      "metadata": {
        "id": "Qs8AJkWd0XXQ"
      },
      "source": [
        "### Test II.2\n",
        "\n",
        "Modify the `diy_lu` routine to implement column pivoting. Keep track of pivots, you can either construct a permutation matrix, or a swap array (your choice).\n",
        "\n",
        "(40% of the grade)\n",
        "\n",
        "Implement a function to reconstruct the original matrix from a decompositon. Test your routines on the matrices `a` and `a1`.\n",
        "\n",
        "(40% of the grade)"
      ]
    },
    {
      "cell_type": "markdown",
      "metadata": {
        "id": "tUb6w3y60eyP"
      },
      "source": [
        "# 2. $LU$ factorization column pivoting\n",
        "When we premultply $A$ by elementary permutation matricex$P_j$( to find a good pivot) and the premultply by lower triangular elemetary matrices $\\Lambda_j$  it is trasfrommed in an  upper triangular matrix $U$\n",
        "\n",
        "$$  \\Lambda_{n-1} P_{n-1} \\ldots \\Lambda_2 P_2 \\Lambda_1 P_1 A  = U$$\n",
        "$$  A  = (\\Lambda_{n-1} P_{n-1} \\ldots \\Lambda_2 P_2 \\Lambda_1 P_1)^{-1} U$$\n",
        "\n",
        "with\n",
        "\n",
        "\\begin{array}{ll}L  &=  (\\Lambda_{n-1} P_{n-1} \\ldots \\Lambda_2 P_2 \\Lambda_1 P_1)^{-1}\\\\\n",
        "&= P_1^{-1} \\Lambda_1^{-1} P_2^{-1} \\Lambda_2^{-1} \\ldots  P_{n-1}^{-1}\\\\\n",
        " &= P_1^{t} (-\\Lambda_1) P_2^{t} (-\\Lambda_2) \\ldots  P_{n-1}^{t} (-\\Lambda_{n-1})\n",
        "\\end{array}\n",
        "\n",
        "\n",
        "\n",
        "Because the inverse a of a Lower Triangular Elemetary Matrix is minus the matrix $\\Lambda_i^{-1} = - \\Lambda_i$ and the inverse of a Permutation Matrix (in particular an elementary permutation matrix)  is its transpose [math.stackexchange](\n",
        "        https://math.stackexchange.com/questions/98549/the-transpose-of-a-permutation-matrix-is-its-inverse#:~:text=Taking%20the%20transpose%20of%20P,Pt%3DP%E2%88%921.)  $P_i^{-1}=P_i^{t}$, so\n",
        "\n",
        "\n",
        "If we use \n",
        "$$  \\hat{L}  = (\\Lambda_{n-1}  \\ldots \\Lambda_2\\Lambda_1)^{-1}$$\n",
        "The inverse of a product of matrices is the revesre product of inverses \n",
        "$$ \\hat{L} = \\Lambda_1^{-1}\\Lambda_2^{-1} \\ldots  \\Lambda_{n-1}^{-1} $$\n",
        "the inverse a of a Lower Triangular Elemetary Matrix is minus the matrix $\\Lambda_i^{-1} = - \\Lambda_i$\n",
        "$$ \\hat{L} = (-\\Lambda_1)  (-\\Lambda_2) \\ldots  (-\\Lambda_{n-1}) $$\n",
        "\n",
        "Then\n",
        "$$    A_\\pi  = \\hat{L} U$$\n",
        "with $A_\\pi$ equal to $A$ with rows permutated acoording to some permutation $\\pi$\n",
        "\n",
        "Equiavlently \n",
        "$$   A  = (\\hat{L}U)_{\\pi'}$$\n",
        " $(\\hat{L}U)_{\\pi'}$ equal to $\\hat{L}U$ with rows permutated acoording to some permutation $\\pi'$"
      ]
    },
    {
      "cell_type": "code",
      "metadata": {
        "id": "jUro86AH0RJE"
      },
      "source": [
        "def diy_lu_column_pivot(a):\n",
        "    \"\"\"Construct the LU decomposition of the input matrix.\n",
        "    \n",
        "    LU decomposition with pivot: work column by column, accumulate elementary triangular matrices L @ np.transpose(Pj) .\n",
        "    \"\"\"\n",
        "   # ... ENTER YOUR CODE HERE ...\n",
        "\n",
        "\n",
        "    return  L, u, P"
      ],
      "execution_count": null,
      "outputs": []
    },
    {
      "cell_type": "code",
      "metadata": {
        "colab": {
          "base_uri": "https://localhost:8080/"
        },
        "id": "oCa4b90-0uD7",
        "outputId": "ddf41c0f-b3d8-435a-cf4d-d24f42346c89"
      },
      "source": [
        "N = 6\n",
        "a = np.zeros((N, N), dtype=float)\n",
        "for i in range(N):\n",
        "    for j in range(N):\n",
        "        a[i, j] = 3. / (0.6*i*j + 1)\n",
        "\n",
        "L, u, P = diy_lu_column_pivot(a)\n",
        "\n",
        "print(\"L\\n\",L, \"\\n\")\n",
        "print(\"u\\n\",u, \"\\n\")\n",
        "print(\"L@u\\n\", L@u, \"\\n\")\n",
        "print(\"a\\n\",a, \"\\n\")\n",
        "print(\"P\\n\", P, \"\\n\")\n",
        "print(\"P@L@u\\n\", P@L@u, \"\\n\")\n",
        "print(\"a\\n\",a, \"\\n\")"
      ],
      "execution_count": null,
      "outputs": [
        {
          "output_type": "stream",
          "text": [
            "L\n",
            " [[1.    0.    0.    0.    0.    0.   ]\n",
            " [1.    1.    0.    0.    0.    0.   ]\n",
            " [1.    0.727 1.    0.    0.    0.   ]\n",
            " [1.    0.857 0.41  1.    0.    0.   ]\n",
            " [1.    0.941 0.178 0.426 1.    0.   ]\n",
            " [1.    0.5   0.706 0.835 0.789 1.   ]] \n",
            "\n",
            "u\n",
            " [[ 3.000e+00  3.000e+00  3.000e+00  3.000e+00  3.000e+00  3.000e+00]\n",
            " [ 0.000e+00 -2.250e+00 -2.571e+00 -2.700e+00 -2.769e+00 -2.812e+00]\n",
            " [ 0.000e+00  0.000e+00 -3.506e-01 -5.786e-01 -7.330e-01 -8.438e-01]\n",
            " [ 0.000e+00  0.000e+00  2.776e-17  2.421e-02  4.866e-02  6.961e-02]\n",
            " [ 0.000e+00  2.220e-16 -2.317e-17  0.000e+00 -6.462e-04 -1.516e-03]\n",
            " [ 0.000e+00 -1.751e-16  6.463e-18  0.000e+00  0.000e+00  6.730e-06]] \n",
            "\n",
            "L@u\n",
            " [[3.    3.    3.    3.    3.    3.   ]\n",
            " [3.    0.75  0.429 0.3   0.231 0.188]\n",
            " [3.    1.364 0.779 0.458 0.253 0.111]\n",
            " [3.    1.071 0.652 0.473 0.375 0.313]\n",
            " [3.    0.882 0.517 0.366 0.283 0.23 ]\n",
            " [3.    1.875 1.467 1.262 1.138 1.055]] \n",
            "\n",
            "a\n",
            " [[3.    3.    3.    3.    3.    3.   ]\n",
            " [3.    1.875 1.364 1.071 0.882 0.75 ]\n",
            " [3.    1.364 0.882 0.652 0.517 0.429]\n",
            " [3.    1.071 0.652 0.469 0.366 0.3  ]\n",
            " [3.    0.882 0.517 0.366 0.283 0.231]\n",
            " [3.    0.75  0.429 0.3   0.231 0.188]] \n",
            "\n",
            "P\n",
            " [[1. 0. 0. 0. 0. 0.]\n",
            " [0. 0. 1. 0. 0. 0.]\n",
            " [0. 0. 0. 1. 0. 0.]\n",
            " [0. 0. 0. 0. 1. 0.]\n",
            " [0. 0. 0. 0. 0. 1.]\n",
            " [0. 1. 0. 0. 0. 0.]] \n",
            "\n",
            "P@L@u\n",
            " [[3.    3.    3.    3.    3.    3.   ]\n",
            " [3.    1.364 0.779 0.458 0.253 0.111]\n",
            " [3.    1.071 0.652 0.473 0.375 0.313]\n",
            " [3.    0.882 0.517 0.366 0.283 0.23 ]\n",
            " [3.    1.875 1.467 1.262 1.138 1.055]\n",
            " [3.    0.75  0.429 0.3   0.231 0.188]] \n",
            "\n",
            "a\n",
            " [[3.    3.    3.    3.    3.    3.   ]\n",
            " [3.    1.875 1.364 1.071 0.882 0.75 ]\n",
            " [3.    1.364 0.882 0.652 0.517 0.429]\n",
            " [3.    1.071 0.652 0.469 0.366 0.3  ]\n",
            " [3.    0.882 0.517 0.366 0.283 0.231]\n",
            " [3.    0.75  0.429 0.3   0.231 0.188]] \n",
            "\n"
          ],
          "name": "stdout"
        }
      ]
    },
    {
      "cell_type": "code",
      "metadata": {
        "colab": {
          "base_uri": "https://localhost:8080/"
        },
        "id": "473EfeLC0ztJ",
        "outputId": "489ad15e-9324-4602-9473-803ab98d8624"
      },
      "source": [
        "a1 = a.copy()\n",
        "a1[1, 1] = 3\n",
        "\n",
        "L, u , P = diy_lu_column_pivot(a1)\n",
        "\n",
        "print(\"L\\n\",L, \"\\n\")\n",
        "print(\"u\\n\",u, \"\\n\")\n",
        "print(\"L@u\\n\", L@u, \"\\n\")\n",
        "print(\"a\\n\",a, \"\\n\")\n",
        "print(\"P\\n\", P, \"\\n\")\n",
        "print(\"P@L@u\\n\", P@L@u, \"\\n\")\n",
        "print(\"a\\n\",a, \"\\n\")"
      ],
      "execution_count": null,
      "outputs": [
        {
          "output_type": "stream",
          "text": [
            "L\n",
            " [[1.    0.    0.    0.    0.    0.   ]\n",
            " [1.    1.    0.    0.    0.    0.   ]\n",
            " [1.    0.727 1.    0.    0.    0.   ]\n",
            " [1.    0.857 0.088 1.    0.    0.   ]\n",
            " [1.    0.941 0.038 0.208 1.    0.   ]\n",
            " [1.    0.    0.151 0.514 0.641 1.   ]] \n",
            "\n",
            "u\n",
            " [[ 3.000e+00  3.000e+00  3.000e+00  3.000e+00  3.000e+00  3.000e+00]\n",
            " [ 0.000e+00 -2.250e+00 -2.571e+00 -2.700e+00 -2.769e+00 -2.812e+00]\n",
            " [ 0.000e+00  0.000e+00 -1.636e+00 -1.929e+00 -2.118e+00 -2.250e+00]\n",
            " [ 0.000e+00  0.000e+00  2.776e-17 -9.247e-02 -1.485e-01 -1.856e-01]\n",
            " [ 0.000e+00  2.220e-16 -1.427e-17  0.000e+00  1.841e-03  3.821e-03]\n",
            " [ 0.000e+00 -1.424e-16  3.391e-18  0.000e+00  0.000e+00 -1.233e-05]] \n",
            "\n",
            "L@u\n",
            " [[ 3.     3.     3.     3.     3.     3.   ]\n",
            " [ 3.     0.75   0.429  0.3    0.231  0.188]\n",
            " [ 3.     1.364 -0.506 -0.892 -1.132 -1.295]\n",
            " [ 3.     1.071  0.652  0.424  0.292  0.206]\n",
            " [ 3.     0.882  0.517  0.366  0.284  0.232]\n",
            " [ 3.     3.     2.752  2.661  2.605  2.567]] \n",
            "\n",
            "a\n",
            " [[3.    3.    3.    3.    3.    3.   ]\n",
            " [3.    1.875 1.364 1.071 0.882 0.75 ]\n",
            " [3.    1.364 0.882 0.652 0.517 0.429]\n",
            " [3.    1.071 0.652 0.469 0.366 0.3  ]\n",
            " [3.    0.882 0.517 0.366 0.283 0.231]\n",
            " [3.    0.75  0.429 0.3   0.231 0.188]] \n",
            "\n",
            "P\n",
            " [[1. 0. 0. 0. 0. 0.]\n",
            " [0. 0. 1. 0. 0. 0.]\n",
            " [0. 0. 0. 1. 0. 0.]\n",
            " [0. 0. 0. 0. 1. 0.]\n",
            " [0. 0. 0. 0. 0. 1.]\n",
            " [0. 1. 0. 0. 0. 0.]] \n",
            "\n",
            "P@L@u\n",
            " [[ 3.     3.     3.     3.     3.     3.   ]\n",
            " [ 3.     1.364 -0.506 -0.892 -1.132 -1.295]\n",
            " [ 3.     1.071  0.652  0.424  0.292  0.206]\n",
            " [ 3.     0.882  0.517  0.366  0.284  0.232]\n",
            " [ 3.     3.     2.752  2.661  2.605  2.567]\n",
            " [ 3.     0.75   0.429  0.3    0.231  0.188]] \n",
            "\n",
            "a\n",
            " [[3.    3.    3.    3.    3.    3.   ]\n",
            " [3.    1.875 1.364 1.071 0.882 0.75 ]\n",
            " [3.    1.364 0.882 0.652 0.517 0.429]\n",
            " [3.    1.071 0.652 0.469 0.366 0.3  ]\n",
            " [3.    0.882 0.517 0.366 0.283 0.231]\n",
            " [3.    0.75  0.429 0.3   0.231 0.188]] \n",
            "\n"
          ],
          "name": "stdout"
        }
      ]
    },
    {
      "cell_type": "code",
      "metadata": {
        "colab": {
          "base_uri": "https://localhost:8080/"
        },
        "id": "yafNw7uY04At",
        "outputId": "c7f30982-80eb-4c94-cecb-361184b5df33"
      },
      "source": [
        "a2 = np.array([[4,3,1], [5,7,0], [9,9,3], [8,2,4]])\n",
        "\n",
        "L, u, P = diy_lu_column_pivot(a2)\n",
        "\n",
        "print(\"L\\n\",L, \"\\n\")\n",
        "print(\"u\\n\",u, \"\\n\")\n",
        "print(\"L@u\\n\", L@u, \"\\n\")\n",
        "print(\"a\\n\",a, \"\\n\")\n",
        "print(\"P\\n\", P, \"\\n\")\n",
        "print(\"P@L@u\\n\", P@L@u, \"\\n\")\n",
        "print(\"a\\n\",a, \"\\n\")"
      ],
      "execution_count": null,
      "outputs": [
        {
          "output_type": "stream",
          "text": [
            "L\n",
            " [[ 1.     0.     0.     0.   ]\n",
            " [ 0.556  1.     0.     0.   ]\n",
            " [ 0.444  0.167  1.     0.   ]\n",
            " [ 0.889 -0.333  0.455  1.   ]] \n",
            "\n",
            "u\n",
            " [[ 9.     9.     3.   ]\n",
            " [ 0.    -6.     1.333]\n",
            " [ 0.     0.    -1.222]\n",
            " [ 0.     0.     0.   ]] \n",
            "\n",
            "L@u\n",
            " [[ 9.     9.     3.   ]\n",
            " [ 5.    -1.     3.   ]\n",
            " [ 4.     3.     0.333]\n",
            " [ 8.    10.     1.667]] \n",
            "\n",
            "a\n",
            " [[3.    3.    3.    3.    3.    3.   ]\n",
            " [3.    1.875 1.364 1.071 0.882 0.75 ]\n",
            " [3.    1.364 0.882 0.652 0.517 0.429]\n",
            " [3.    1.071 0.652 0.469 0.366 0.3  ]\n",
            " [3.    0.882 0.517 0.366 0.283 0.231]\n",
            " [3.    0.75  0.429 0.3   0.231 0.188]] \n",
            "\n",
            "P\n",
            " [[0. 0. 0. 1.]\n",
            " [0. 0. 1. 0.]\n",
            " [1. 0. 0. 0.]\n",
            " [0. 1. 0. 0.]] \n",
            "\n",
            "P@L@u\n",
            " [[ 8.    10.     1.667]\n",
            " [ 4.     3.     0.333]\n",
            " [ 9.     9.     3.   ]\n",
            " [ 5.    -1.     3.   ]] \n",
            "\n",
            "a\n",
            " [[3.    3.    3.    3.    3.    3.   ]\n",
            " [3.    1.875 1.364 1.071 0.882 0.75 ]\n",
            " [3.    1.364 0.882 0.652 0.517 0.429]\n",
            " [3.    1.071 0.652 0.469 0.366 0.3  ]\n",
            " [3.    0.882 0.517 0.366 0.283 0.231]\n",
            " [3.    0.75  0.429 0.3   0.231 0.188]] \n",
            "\n"
          ],
          "name": "stdout"
        }
      ]
    },
    {
      "cell_type": "markdown",
      "metadata": {
        "id": "h1F1gBbj08Py"
      },
      "source": [
        "# 3. $LU$ factorization column pivoting and reconstruction\n",
        "When we premultply $A$ by elementary permutation matricex$P_j$( to find a good pivot) and the premultply by lower triangular elemetary matrices $\\Lambda_j$  it is trasfrommed in an  upper triangular matrix $U$\n",
        "\n",
        "$$  \\Lambda_{n-1} P_{n-1} \\ldots \\Lambda_2 P_2 \\Lambda_1 P_1 A  = U$$\n",
        "$$  A  = (\\Lambda_{n-1} P_{n-1} \\ldots \\Lambda_2 P_2 \\Lambda_1 P_1)^{-1} U$$\n",
        "$$  A  = (\\Lambda_{n-1} P_{n-1} \\ldots \\Lambda_2 P_2 \\Lambda_1 P_1)^{-1} U$$\n",
        "\n",
        "The inverse of a product of matrices is the revesre product of inverses \n",
        "$$  A  = ( P_1^{-1} \\Lambda_1^{-1} P_2^{-1} \\Lambda_2^{-1} \\ldots  P_{n-1}^{-1}\\Lambda_{n-1}^{-1} ) U$$\n",
        "\n",
        "So the $LU$ column pivot factorization is \n",
        "$$  A  = L U$$\n",
        "with\n",
        "$$ U = \\Lambda_{n-1} P_{n-1} \\ldots \\Lambda_2 P_2 \\Lambda_1 P_1 A  $$\n",
        "\n",
        "\n",
        "\n",
        "$$ L  = P_1^{-1} \\Lambda_1^{-1} P_2^{-1} \\Lambda_2^{-1} \\ldots  P_{n-1}^{-1}\\Lambda_{n-1}^{-1} $$\n",
        "\n",
        "the inverse a of a Lower Triangular Elemetary Matrix is minus the matrix $\\Lambda_i^{-1} = - \\Lambda_i$ and the inverse of a Permutation Matrix (in particular an elementary permutation matrix)  is its transpose [math.stackexchange](\n",
        "        https://math.stackexchange.com/questions/98549/the-transpose-of-a-permutation-matrix-is-its-inverse#:~:text=Taking%20the%20transpose%20of%20P,Pt%3DP%E2%88%921.)  $P_i^{-1}=P_i^{t}$, so\n",
        "\n",
        "$$ L  =  P_1^{t} (-\\Lambda_1) P_2^{t} (-\\Lambda_2) \\ldots  P_{n-1}^{t} (-\\Lambda_{n-1}) $$\n"
      ]
    },
    {
      "cell_type": "code",
      "metadata": {
        "id": "16uuRFJu09YM"
      },
      "source": [
        "def diy_lu_column_pivot_reconstruct(a):\n",
        "    \"\"\"Construct the LU decomposition of the input matrix.\n",
        "    \n",
        "    LU decomposition with pivot: work column by column, accumulate elementary triangular matrices L @ np.transpose(Pj) .\n",
        "    \"\"\"\n",
        "   # ... ENTER YOUR CODE HERE ...\n",
        "\n",
        "\n",
        "    return  L, u"
      ],
      "execution_count": null,
      "outputs": []
    },
    {
      "cell_type": "code",
      "metadata": {
        "colab": {
          "base_uri": "https://localhost:8080/"
        },
        "id": "XIpfRzl21IDH",
        "outputId": "13094818-706f-44d6-a780-81ef4eb007be"
      },
      "source": [
        "N = 6\n",
        "a = np.zeros((N, N), dtype=float)\n",
        "for i in range(N):\n",
        "    for j in range(N):\n",
        "        a[i, j] = 3. / (0.6*i*j + 1)\n",
        "\n",
        "L, u = diy_lu_column_pivot_reconstruct(a)\n",
        "\n",
        "print(\"L\\n\",L, \"\\n\")\n",
        "print(\"u\\n\",u, \"\\n\")\n",
        "print(\"L@u\\n\", L@u, \"\\n\")\n",
        "print(\"a\\n\",a, \"\\n\")"
      ],
      "execution_count": null,
      "outputs": [
        {
          "output_type": "stream",
          "text": [
            "L\n",
            " [[1.    0.    0.    0.    0.    0.   ]\n",
            " [1.    0.5   1.    0.    0.    0.   ]\n",
            " [1.    0.727 0.706 1.    0.    0.   ]\n",
            " [1.    0.857 0.41  0.835 1.    0.   ]\n",
            " [1.    0.941 0.178 0.426 0.789 1.   ]\n",
            " [1.    1.    0.    0.    0.    0.   ]] \n",
            "\n",
            "u\n",
            " [[ 3.000e+00  3.000e+00  3.000e+00  3.000e+00  3.000e+00  3.000e+00]\n",
            " [ 0.000e+00 -2.250e+00 -2.571e+00 -2.700e+00 -2.769e+00 -2.812e+00]\n",
            " [ 0.000e+00  0.000e+00 -3.506e-01 -5.786e-01 -7.330e-01 -8.438e-01]\n",
            " [ 0.000e+00  0.000e+00  2.776e-17  2.421e-02  4.866e-02  6.961e-02]\n",
            " [ 0.000e+00  2.220e-16 -2.317e-17  0.000e+00 -6.462e-04 -1.516e-03]\n",
            " [ 0.000e+00 -1.751e-16  6.463e-18  0.000e+00  0.000e+00  6.730e-06]] \n",
            "\n",
            "L@u\n",
            " [[3.    3.    3.    3.    3.    3.   ]\n",
            " [3.    1.875 1.364 1.071 0.882 0.75 ]\n",
            " [3.    1.364 0.882 0.652 0.517 0.429]\n",
            " [3.    1.071 0.652 0.469 0.366 0.3  ]\n",
            " [3.    0.882 0.517 0.366 0.283 0.231]\n",
            " [3.    0.75  0.429 0.3   0.231 0.188]] \n",
            "\n",
            "a\n",
            " [[3.    3.    3.    3.    3.    3.   ]\n",
            " [3.    1.875 1.364 1.071 0.882 0.75 ]\n",
            " [3.    1.364 0.882 0.652 0.517 0.429]\n",
            " [3.    1.071 0.652 0.469 0.366 0.3  ]\n",
            " [3.    0.882 0.517 0.366 0.283 0.231]\n",
            " [3.    0.75  0.429 0.3   0.231 0.188]] \n",
            "\n"
          ],
          "name": "stdout"
        }
      ]
    },
    {
      "cell_type": "code",
      "metadata": {
        "colab": {
          "base_uri": "https://localhost:8080/"
        },
        "id": "Ea5i2TSF1RPx",
        "outputId": "70d3655d-4e95-4686-9275-b21a5ac96fd1"
      },
      "source": [
        "a1 = a.copy()\n",
        "a1[1, 1] = 3\n",
        "\n",
        "L, u, = diy_lu_column_pivot_reconstruct(a1)\n",
        "\n",
        "print(\"L\\n\",L, \"\\n\")\n",
        "print(\"u\\n\",u, \"\\n\")\n",
        "print(\"L@u\\n\", L@u, \"\\n\")\n",
        "print(\"a2\\n\",a1, \"\\n\")\n",
        "\n",
        "# Quick sanity check: L times U must equal the original matrix, up to floating-point errors.\n",
        "print(\"L@u - a1\\n\",L@u - a1, \"\\n\")"
      ],
      "execution_count": null,
      "outputs": [
        {
          "output_type": "stream",
          "text": [
            "L\n",
            " [[1.    0.    0.    0.    0.    0.   ]\n",
            " [1.    0.    1.    0.    0.    0.   ]\n",
            " [1.    0.727 0.151 1.    0.    0.   ]\n",
            " [1.    0.857 0.088 0.514 1.    0.   ]\n",
            " [1.    0.941 0.038 0.208 0.641 1.   ]\n",
            " [1.    1.    0.    0.    0.    0.   ]] \n",
            "\n",
            "u\n",
            " [[ 3.000e+00  3.000e+00  3.000e+00  3.000e+00  3.000e+00  3.000e+00]\n",
            " [ 0.000e+00 -2.250e+00 -2.571e+00 -2.700e+00 -2.769e+00 -2.812e+00]\n",
            " [ 0.000e+00  0.000e+00 -1.636e+00 -1.929e+00 -2.118e+00 -2.250e+00]\n",
            " [ 0.000e+00  0.000e+00  2.776e-17 -9.247e-02 -1.485e-01 -1.856e-01]\n",
            " [ 0.000e+00  2.220e-16 -1.427e-17  0.000e+00  1.841e-03  3.821e-03]\n",
            " [ 0.000e+00 -1.424e-16  3.391e-18  0.000e+00  0.000e+00 -1.233e-05]] \n",
            "\n",
            "L@u\n",
            " [[3.    3.    3.    3.    3.    3.   ]\n",
            " [3.    3.    1.364 1.071 0.882 0.75 ]\n",
            " [3.    1.364 0.882 0.652 0.517 0.429]\n",
            " [3.    1.071 0.652 0.469 0.366 0.3  ]\n",
            " [3.    0.882 0.517 0.366 0.283 0.231]\n",
            " [3.    0.75  0.429 0.3   0.231 0.188]] \n",
            "\n",
            "a2\n",
            " [[3.    3.    3.    3.    3.    3.   ]\n",
            " [3.    3.    1.364 1.071 0.882 0.75 ]\n",
            " [3.    1.364 0.882 0.652 0.517 0.429]\n",
            " [3.    1.071 0.652 0.469 0.366 0.3  ]\n",
            " [3.    0.882 0.517 0.366 0.283 0.231]\n",
            " [3.    0.75  0.429 0.3   0.231 0.188]] \n",
            "\n",
            "L@u - a1\n",
            " [[ 0.000e+00  0.000e+00  0.000e+00  0.000e+00  0.000e+00  0.000e+00]\n",
            " [ 0.000e+00  0.000e+00  0.000e+00  0.000e+00  0.000e+00  0.000e+00]\n",
            " [ 0.000e+00  0.000e+00  0.000e+00  2.220e-16  1.110e-16 -2.776e-16]\n",
            " [ 0.000e+00  0.000e+00  1.110e-16 -1.665e-16 -2.776e-16 -5.551e-17]\n",
            " [ 0.000e+00  0.000e+00  0.000e+00  0.000e+00  3.331e-16 -2.776e-17]\n",
            " [ 0.000e+00  0.000e+00 -1.665e-16 -1.665e-16  5.551e-17  0.000e+00]] \n",
            "\n"
          ],
          "name": "stdout"
        }
      ]
    },
    {
      "cell_type": "code",
      "metadata": {
        "colab": {
          "base_uri": "https://localhost:8080/"
        },
        "id": "fhVlk2aj1Ux5",
        "outputId": "4db8e0f6-606f-4e17-bfa6-f14058cf3736"
      },
      "source": [
        "a2 = np.array([[4,3,1], [5,7,0], [9,9,3], [8,2,4]])\n",
        "\n",
        "L, u, = diy_lu_column_pivot_reconstruct(a2)\n",
        "\n",
        "print(\"L\\n\",L, \"\\n\")\n",
        "print(\"u\\n\",u, \"\\n\")\n",
        "print(\"L@u\\n\", L@u, \"\\n\")\n",
        "print(\"a2\\n\",a2, \"\\n\")\n",
        "\n",
        "# Quick sanity check: L times U must equal the original matrix, up to floating-point errors.\n",
        "print(\"L@u - a2\\n\",L@u - a2, \"\\n\")"
      ],
      "execution_count": null,
      "outputs": [
        {
          "output_type": "stream",
          "text": [
            "L\n",
            " [[ 0.444  0.167  0.455  1.   ]\n",
            " [ 0.556 -0.333  1.     0.   ]\n",
            " [ 1.     0.     0.     0.   ]\n",
            " [ 0.889  1.     0.     0.   ]] \n",
            "\n",
            "u\n",
            " [[ 9.     9.     3.   ]\n",
            " [ 0.    -6.     1.333]\n",
            " [ 0.     0.    -1.222]\n",
            " [ 0.     0.     0.   ]] \n",
            "\n",
            "L@u\n",
            " [[4. 3. 1.]\n",
            " [5. 7. 0.]\n",
            " [9. 9. 3.]\n",
            " [8. 2. 4.]] \n",
            "\n",
            "a2\n",
            " [[4 3 1]\n",
            " [5 7 0]\n",
            " [9 9 3]\n",
            " [8 2 4]] \n",
            "\n",
            "L@u - a2\n",
            " [[0.00e+00 0.00e+00 2.22e-16]\n",
            " [0.00e+00 0.00e+00 0.00e+00]\n",
            " [0.00e+00 0.00e+00 0.00e+00]\n",
            " [0.00e+00 0.00e+00 0.00e+00]] \n",
            "\n"
          ],
          "name": "stdout"
        }
      ]
    }
  ]
}