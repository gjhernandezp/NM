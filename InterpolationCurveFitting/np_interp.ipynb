{
  "nbformat": 4,
  "nbformat_minor": 0,
  "metadata": {
    "colab": {
      "name": "np_interp",
      "provenance": []
    },
    "kernelspec": {
      "name": "python3",
      "display_name": "Python 3"
    }
  },
  "cells": [
    {
      "cell_type": "markdown",
      "metadata": {
        "id": "PKqYe3TeKbbP"
      },
      "source": [
        "Numpy - One-dimensional linear interpolation (numpy.interp)\n",
        "\n",
        "https://numpy.org/doc/stable/reference/generated/numpy.interp.html\n",
        "\n",
        "numpy.interp(x, xp, fp, left=None, right=None, period=None)\n",
        "\n",
        "The x-coordinate sequence is expected to be increasing, but this is not explicitly enforced. However, if the sequence xp is non-increasing, interpolation results are meaningless.\n",
        "\n",
        "Note that, since NaN is unsortable, xp also cannot contain NaNs.\n",
        "\n",
        "A simple check for xp being strictly increasing is: np.all(np.diff(xp) > 0)"
      ]
    },
    {
      "cell_type": "code",
      "metadata": {
        "colab": {
          "base_uri": "https://localhost:8080/"
        },
        "id": "iVFk-UObKdEd",
        "outputId": "78a91871-032d-447f-f7aa-ae3c5fba4e28"
      },
      "source": [
        "import numpy as np\n",
        "xp = [1, 2, 3]\n",
        "fp = [3, 2, 0]\n",
        "np.interp(2.5, xp, fp)"
      ],
      "execution_count": 1,
      "outputs": [
        {
          "output_type": "execute_result",
          "data": {
            "text/plain": [
              "1.0"
            ]
          },
          "metadata": {
            "tags": []
          },
          "execution_count": 1
        }
      ]
    },
    {
      "cell_type": "code",
      "metadata": {
        "colab": {
          "base_uri": "https://localhost:8080/"
        },
        "id": "jPfQEHlDKg1t",
        "outputId": "e6859a78-6e6e-42b9-c867-2f632cbe37ac"
      },
      "source": [
        "np.interp([0, 1, 1.5, 2.72, 3.14], xp, fp)"
      ],
      "execution_count": 2,
      "outputs": [
        {
          "output_type": "execute_result",
          "data": {
            "text/plain": [
              "array([3.  , 3.  , 2.5 , 0.56, 0.  ])"
            ]
          },
          "metadata": {
            "tags": []
          },
          "execution_count": 2
        }
      ]
    },
    {
      "cell_type": "markdown",
      "metadata": {
        "id": "u5ndyCVAKrnu"
      },
      "source": [
        "Extrapolates firts or last value unless left and right defined  "
      ]
    },
    {
      "cell_type": "code",
      "metadata": {
        "colab": {
          "base_uri": "https://localhost:8080/"
        },
        "id": "9J4ZstnCKpQM",
        "outputId": "3d9e3f20-f007-491c-aad9-93e4fedb0335"
      },
      "source": [
        "np.interp(0, xp, fp)"
      ],
      "execution_count": 6,
      "outputs": [
        {
          "output_type": "execute_result",
          "data": {
            "text/plain": [
              "3.0"
            ]
          },
          "metadata": {
            "tags": []
          },
          "execution_count": 6
        }
      ]
    },
    {
      "cell_type": "code",
      "metadata": {
        "colab": {
          "base_uri": "https://localhost:8080/"
        },
        "id": "FI2649efLi71",
        "outputId": "731583e8-2e72-43b0-af7d-794091cb99ca"
      },
      "source": [
        "np.interp(3.14, xp, fp)"
      ],
      "execution_count": 7,
      "outputs": [
        {
          "output_type": "execute_result",
          "data": {
            "text/plain": [
              "0.0"
            ]
          },
          "metadata": {
            "tags": []
          },
          "execution_count": 7
        }
      ]
    },
    {
      "cell_type": "code",
      "metadata": {
        "colab": {
          "base_uri": "https://localhost:8080/"
        },
        "id": "x-fkvlh5KnTc",
        "outputId": "4ffebeda-8a39-4252-826e-c2c279a4dadb"
      },
      "source": [
        "RUNDEF = 99.0\n",
        "np.interp(3.14, xp, fp, right=RUNDEF)"
      ],
      "execution_count": 8,
      "outputs": [
        {
          "output_type": "execute_result",
          "data": {
            "text/plain": [
              "99.0"
            ]
          },
          "metadata": {
            "tags": []
          },
          "execution_count": 8
        }
      ]
    },
    {
      "cell_type": "code",
      "metadata": {
        "colab": {
          "base_uri": "https://localhost:8080/"
        },
        "id": "tC1qnKOMMUPW",
        "outputId": "4923bdb5-c499-4f91-db4b-39705d5b557d"
      },
      "source": [
        "LUNDEF = -99.0\n",
        "np.interp(3.14, xp, fp, left=LUNDEF)"
      ],
      "execution_count": 9,
      "outputs": [
        {
          "output_type": "execute_result",
          "data": {
            "text/plain": [
              "0.0"
            ]
          },
          "metadata": {
            "tags": []
          },
          "execution_count": 9
        }
      ]
    },
    {
      "cell_type": "code",
      "metadata": {
        "colab": {
          "base_uri": "https://localhost:8080/",
          "height": 281
        },
        "id": "teGmKK2gK5B9",
        "outputId": "b0c87e3c-101c-446c-a9d5-fbfc991687d0"
      },
      "source": [
        "x = np.linspace(0, 2*np.pi, 10)\n",
        "y = np.sin(x)\n",
        "xvals = np.linspace(0, 2*np.pi, 50)\n",
        "yinterp = np.interp(xvals, x, y)\n",
        "\n",
        "import matplotlib.pyplot as plt\n",
        "plt.plot(x, y, 'o')\n",
        "plt.plot(xvals, yinterp, 'x')\n",
        "plt.title(\"Numpy - One-dimensional linear interpolation (numpy.interp)\")\n",
        "plt.xticks(x)\n",
        "plt.savefig(\"np_interp.png\")\n",
        "plt.show()"
      ],
      "execution_count": 5,
      "outputs": [
        {
          "output_type": "display_data",
          "data": {
            "image/png": "[encoded data removed]",
            "text/plain": [
              "<Figure size 432x288 with 1 Axes>"
            ]
          },
          "metadata": {
            "tags": [],
            "needs_background": "light"
          }
        }
      ]
    },
    {
      "cell_type": "code",
      "metadata": {
        "id": "toHrM3FrMin0"
      },
      "source": [
        "x = np.linspace(0, 2*np.pi, 10)\n",
        "y = np.sin(x)\n",
        "xvals = np.linspace(-np.pi, 3*np.pi, 75)\n",
        "yinterp = np.interp(xvals, x, y,period=2*np.pi)"
      ],
      "execution_count": 16,
      "outputs": []
    },
    {
      "cell_type": "code",
      "metadata": {
        "colab": {
          "base_uri": "https://localhost:8080/",
          "height": 281
        },
        "id": "YDbizXSEMzFF",
        "outputId": "dab6fbe1-1ebc-4a5b-c7b7-ca64d65db5fa"
      },
      "source": [
        "import matplotlib.pyplot as plt\n",
        "plt.plot(x, y, 'o')\n",
        "plt.plot(xvals, yinterp, 'x')\n",
        "plt.title(\"Numpy - One-dimensional linear interpolation (numpy.interp)\")\n",
        "plt.xticks(x)\n",
        "plt.savefig(\"np_interp.png\")\n",
        "plt.show()"
      ],
      "execution_count": 17,
      "outputs": [
        {
          "output_type": "display_data",
          "data": {
            "image/png": "[encoded data removed]",
            "text/plain": [
              "<Figure size 432x288 with 1 Axes>"
            ]
          },
          "metadata": {
            "tags": [],
            "needs_background": "light"
          }
        }
      ]
    }
  ]
}