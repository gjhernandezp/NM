{
  "nbformat": 4,
  "nbformat_minor": 0,
  "metadata": {
    "colab": {
      "name": "Vandermonde.ipynb",
      "provenance": [],
      "collapsed_sections": []
    },
    "kernelspec": {
      "name": "python3",
      "display_name": "Python 3"
    }
  },
  "cells": [
    {
      "cell_type": "markdown",
      "metadata": {
        "id": "7K7PZa0ngcIO"
      },
      "source": [
        "Based in Polynomial Interpolation- Mathematical Python- Walls math.ubc.ca\n",
        "\n",
        "https://www.math.ubc.ca/~pwalls/math-python/linear-algebra/applications/"
      ]
    },
    {
      "cell_type": "markdown",
      "metadata": {
        "id": "OG4F3NNt0CWC"
      },
      "source": [
        "Let's do a simple example. We know that  is the unique degree 2 polynomial $$\n",
        "P_2(x) = a_0+ a_1x+ a_2x^2$$\n",
        "\n",
        "that interpolates the points \n",
        "$$\n",
        "\\begin{array} {l}\n",
        "(x_0,y_0)=(-1,0)\\\\\n",
        "(x_1,y_1)=(0,0) \\\\\n",
        "(x_2,y_2)=(1,1)\n",
        "\\end{array}$$"
      ]
    },
    {
      "cell_type": "code",
      "metadata": {
        "id": "wsrERPhEgYB8"
      },
      "source": [
        "import numpy as np\n",
        "import matplotlib.pyplot as plt\n"
      ],
      "execution_count": null,
      "outputs": []
    },
    {
      "cell_type": "code",
      "metadata": {
        "colab": {
          "base_uri": "https://localhost:8080/"
        },
        "id": "AxY56EqhBLUK",
        "outputId": "abe3b301-f29d-478a-8523-7f0e6ba8756b"
      },
      "source": [
        "x = np.array([-1, 0, 1])\n",
        "y = x**2\n",
        "y"
      ],
      "execution_count": null,
      "outputs": [
        {
          "output_type": "execute_result",
          "data": {
            "text/plain": [
              "array([1, 0, 1])"
            ]
          },
          "metadata": {
            "tags": []
          },
          "execution_count": 2
        }
      ]
    },
    {
      "cell_type": "code",
      "metadata": {
        "colab": {
          "base_uri": "https://localhost:8080/",
          "height": 141
        },
        "id": "kYpZjrRXBdoZ",
        "outputId": "88a4f518-cb78-4428-ceaa-ddf83bec7806"
      },
      "source": [
        "import pandas as pd\n",
        "data = pd.DataFrame({'x': x, 'y': y})\n",
        "data"
      ],
      "execution_count": null,
      "outputs": [
        {
          "output_type": "execute_result",
          "data": {
            "text/html": [
              "<div>\n",
              "<style scoped>\n",
              "    .dataframe tbody tr th:only-of-type {\n",
              "        vertical-align: middle;\n",
              "    }\n",
              "\n",
              "    .dataframe tbody tr th {\n",
              "        vertical-align: top;\n",
              "    }\n",
              "\n",
              "    .dataframe thead th {\n",
              "        text-align: right;\n",
              "    }\n",
              "</style>\n",
              "<table border=\"1\" class=\"dataframe\">\n",
              "  <thead>\n",
              "    <tr style=\"text-align: right;\">\n",
              "      <th></th>\n",
              "      <th>x</th>\n",
              "      <th>y</th>\n",
              "    </tr>\n",
              "  </thead>\n",
              "  <tbody>\n",
              "    <tr>\n",
              "      <th>0</th>\n",
              "      <td>-1</td>\n",
              "      <td>1</td>\n",
              "    </tr>\n",
              "    <tr>\n",
              "      <th>1</th>\n",
              "      <td>0</td>\n",
              "      <td>0</td>\n",
              "    </tr>\n",
              "    <tr>\n",
              "      <th>2</th>\n",
              "      <td>1</td>\n",
              "      <td>1</td>\n",
              "    </tr>\n",
              "  </tbody>\n",
              "</table>\n",
              "</div>"
            ],
            "text/plain": [
              "   x  y\n",
              "0 -1  1\n",
              "1  0  0\n",
              "2  1  1"
            ]
          },
          "metadata": {
            "tags": []
          },
          "execution_count": 3
        }
      ]
    },
    {
      "cell_type": "code",
      "metadata": {
        "colab": {
          "base_uri": "https://localhost:8080/",
          "height": 265
        },
        "id": "IrX-s_76MOth",
        "outputId": "23a21efa-1ec8-4c85-cd61-4862aca9623e"
      },
      "source": [
        "plt.plot(x,y,'r.',ms=20)\n",
        "plt.axhline(y=0, color='k')\n",
        "plt.axvline(x=0, color='k')\n",
        "plt.grid(True, which='both')\n",
        "plt.show()"
      ],
      "execution_count": null,
      "outputs": [
        {
          "output_type": "display_data",
          "data": {
            "image/png": "[encoded data removed]",
            "text/plain": [
              "<Figure size 432x288 with 1 Axes>"
            ]
          },
          "metadata": {
            "tags": [],
            "needs_background": "light"
          }
        }
      ]
    },
    {
      "cell_type": "markdown",
      "metadata": {
        "id": "_SpenFwOCfO4"
      },
      "source": [
        "$$\n",
        "X = \n",
        "\\left[\n",
        "\\begin{array}{rrr}\n",
        "1 & x_0 & x_0^2 \\\\\n",
        "1 & x_1 & x_1^2 \\\\\n",
        "1 & x_2 & x_2^2\n",
        "\\end{array}\n",
        "\\right]\n",
        "= \n",
        "\\left[\n",
        "\\begin{array}{rrr}\n",
        "1 & 1 & 1   \\\\\n",
        "1 & 0 & 1 \\\\\n",
        "1 & -1 & 1\n",
        "\\end{array}\n",
        "\\right]\n",
        "$$"
      ]
    },
    {
      "cell_type": "code",
      "metadata": {
        "colab": {
          "base_uri": "https://localhost:8080/"
        },
        "id": "sgq4NDW6B1Uh",
        "outputId": "b2222bfd-706a-4e7a-afa2-d5212ad0ca06"
      },
      "source": [
        "X = np.column_stack([x**0,x**1,x**2])\n",
        "X"
      ],
      "execution_count": null,
      "outputs": [
        {
          "output_type": "execute_result",
          "data": {
            "text/plain": [
              "array([[ 1, -1,  1],\n",
              "       [ 1,  0,  0],\n",
              "       [ 1,  1,  1]])"
            ]
          },
          "metadata": {
            "tags": []
          },
          "execution_count": 5
        }
      ]
    },
    {
      "cell_type": "markdown",
      "metadata": {
        "id": "-tQ0fMHOGp85"
      },
      "source": [
        "To find the coeficients $\\{a_0,a_1,a_2\\}$ we solve the linear equations system\n",
        "$$\n",
        "X = \n",
        "\\left[\n",
        "\\begin{array}{rrr}\n",
        "1 & x_0 & x_0^2 \\\\\n",
        "1 & x_1 & x_1^2 \\\\\n",
        "1 & x_2 & x_2^2\n",
        "\\end{array}\n",
        "\\right]\n",
        "\\left(\n",
        "\\begin{array}{r}\n",
        "a_0 \\\\\n",
        "a_1 \\\\\n",
        "a_2\n",
        "\\end{array}\n",
        "\\right)\n",
        "= \n",
        "\\left(\n",
        "\\begin{array}{r}\n",
        "y_0 \\\\\n",
        "y_1 \\\\\n",
        "y_2\n",
        "\\end{array}\n",
        "\\right)\n",
        "$$"
      ]
    },
    {
      "cell_type": "code",
      "metadata": {
        "colab": {
          "base_uri": "https://localhost:8080/"
        },
        "id": "LGO7V4pCHB98",
        "outputId": "81ddd8bb-8f29-4263-bff3-ce626ffa09da"
      },
      "source": [
        "import scipy.linalg as la\n",
        "\n",
        "a = la.solve(X,y)\n",
        "a"
      ],
      "execution_count": null,
      "outputs": [
        {
          "output_type": "execute_result",
          "data": {
            "text/plain": [
              "array([0., 0., 1.])"
            ]
          },
          "metadata": {
            "tags": []
          },
          "execution_count": 6
        }
      ]
    },
    {
      "cell_type": "code",
      "metadata": {
        "colab": {
          "base_uri": "https://localhost:8080/",
          "height": 265
        },
        "id": "c5IkTcLALOhK",
        "outputId": "2e51e386-6ba9-47a2-a50d-dca6872a3928"
      },
      "source": [
        "xs = np.linspace(-1,1,20)\n",
        "ys = a[0] + a[1]*xs + a[2]*xs**2\n",
        "plt.plot(xs,ys,x,y,'r.',ms=20)\n",
        "plt.axhline(y=0, color='k')\n",
        "plt.axvline(x=0, color='k')\n",
        "plt.grid(True, which='both')\n",
        "plt.show()"
      ],
      "execution_count": null,
      "outputs": [
        {
          "output_type": "display_data",
          "data": {
            "image/png": "[encoded data removed]",
            "text/plain": [
              "<Figure size 432x288 with 1 Axes>"
            ]
          },
          "metadata": {
            "tags": [],
            "needs_background": "light"
          }
        }
      ]
    },
    {
      "cell_type": "markdown",
      "metadata": {
        "id": "6dn8fD_BMDhP"
      },
      "source": [
        "For the points \n",
        "$$\n",
        "\\begin{array} {l}\n",
        "(x_0,y_0)=(0,6)\\\\\n",
        "(x_1,y_1)=(3,1) \\\\\n",
        "(x_2,y_2)=(8,2)\n",
        "\\end{array}$$"
      ]
    },
    {
      "cell_type": "code",
      "metadata": {
        "colab": {
          "base_uri": "https://localhost:8080/",
          "height": 141
        },
        "id": "mtaYU-bnL_V6",
        "outputId": "49caac6a-eae9-4a9b-b017-aeddc0a55511"
      },
      "source": [
        "x = np.array([0, 3, 8])\n",
        "y = np.array([6, 1, 2])\n",
        "import pandas as pd\n",
        "data = pd.DataFrame({'x': x, 'y': y})\n",
        "data"
      ],
      "execution_count": null,
      "outputs": [
        {
          "output_type": "execute_result",
          "data": {
            "text/html": [
              "<div>\n",
              "<style scoped>\n",
              "    .dataframe tbody tr th:only-of-type {\n",
              "        vertical-align: middle;\n",
              "    }\n",
              "\n",
              "    .dataframe tbody tr th {\n",
              "        vertical-align: top;\n",
              "    }\n",
              "\n",
              "    .dataframe thead th {\n",
              "        text-align: right;\n",
              "    }\n",
              "</style>\n",
              "<table border=\"1\" class=\"dataframe\">\n",
              "  <thead>\n",
              "    <tr style=\"text-align: right;\">\n",
              "      <th></th>\n",
              "      <th>x</th>\n",
              "      <th>y</th>\n",
              "    </tr>\n",
              "  </thead>\n",
              "  <tbody>\n",
              "    <tr>\n",
              "      <th>0</th>\n",
              "      <td>0</td>\n",
              "      <td>6</td>\n",
              "    </tr>\n",
              "    <tr>\n",
              "      <th>1</th>\n",
              "      <td>3</td>\n",
              "      <td>1</td>\n",
              "    </tr>\n",
              "    <tr>\n",
              "      <th>2</th>\n",
              "      <td>8</td>\n",
              "      <td>2</td>\n",
              "    </tr>\n",
              "  </tbody>\n",
              "</table>\n",
              "</div>"
            ],
            "text/plain": [
              "   x  y\n",
              "0  0  6\n",
              "1  3  1\n",
              "2  8  2"
            ]
          },
          "metadata": {
            "tags": []
          },
          "execution_count": 8
        }
      ]
    },
    {
      "cell_type": "code",
      "metadata": {
        "colab": {
          "base_uri": "https://localhost:8080/",
          "height": 265
        },
        "id": "6NanHp9UL5Rh",
        "outputId": "0bd77294-d5ff-493f-bb05-f6b0bc9bfe6d"
      },
      "source": [
        "plt.plot(x,y,'r.',ms=20)\n",
        "plt.axhline(y=0, color='k')\n",
        "plt.axvline(x=0, color='k')\n",
        "plt.grid(True, which='both')\n",
        "plt.show()"
      ],
      "execution_count": null,
      "outputs": [
        {
          "output_type": "display_data",
          "data": {
            "image/png": "[encoded data removed]",
            "text/plain": [
              "<Figure size 432x288 with 1 Axes>"
            ]
          },
          "metadata": {
            "tags": [],
            "needs_background": "light"
          }
        }
      ]
    },
    {
      "cell_type": "code",
      "metadata": {
        "colab": {
          "base_uri": "https://localhost:8080/"
        },
        "id": "CaZaiZlVNQGy",
        "outputId": "7146411b-5eb6-48b5-d0bc-d2ede377a1dd"
      },
      "source": [
        "X = np.column_stack([x**0,x**1,x**2])\n",
        "a = la.solve(X,y)\n",
        "a"
      ],
      "execution_count": null,
      "outputs": [
        {
          "output_type": "execute_result",
          "data": {
            "text/plain": [
              "array([ 6.        , -2.36666667,  0.23333333])"
            ]
          },
          "metadata": {
            "tags": []
          },
          "execution_count": 10
        }
      ]
    },
    {
      "cell_type": "code",
      "metadata": {
        "colab": {
          "base_uri": "https://localhost:8080/",
          "height": 265
        },
        "id": "F2qqUmC6NXNB",
        "outputId": "20d083dc-dc5e-46e0-d4cd-f349b0286417"
      },
      "source": [
        "xs = np.linspace(0,8,20)\n",
        "ys = a[0] + a[1]*xs + a[2]*xs**2\n",
        "plt.plot(xs,ys,x,y,'b.',ms=20)\n",
        "plt.axhline(y=0, color='k')\n",
        "plt.axvline(x=0, color='k')\n",
        "plt.grid(True, which='both')\n",
        "plt.show()"
      ],
      "execution_count": null,
      "outputs": [
        {
          "output_type": "display_data",
          "data": {
            "image/png": "[encoded data removed]",
            "text/plain": [
              "<Figure size 432x288 with 1 Axes>"
            ]
          },
          "metadata": {
            "tags": [],
            "needs_background": "light"
          }
        }
      ]
    },
    {
      "cell_type": "markdown",
      "metadata": {
        "id": "_KsIQP_6UZW8"
      },
      "source": [
        "For the points \n",
        "$$\n",
        "\\begin{array} {l}\n",
        "(x_0,y_0)=(0,6)\\\\\n",
        "(x_1,y_1)=(3,3) \\\\\n",
        "(x_2,y_2)=(6,0)\n",
        "\\end{array}$$\n",
        "note that this are in a line"
      ]
    },
    {
      "cell_type": "code",
      "metadata": {
        "colab": {
          "base_uri": "https://localhost:8080/",
          "height": 141
        },
        "id": "-Xeapwc2UVu4",
        "outputId": "1bbcddba-77a0-4551-903f-e65865024baf"
      },
      "source": [
        "x = np.array([0, 3, 8])\n",
        "y = np.array([6, 3, 0])\n",
        "import pandas as pd\n",
        "data = pd.DataFrame({'x': x, 'y': y})\n",
        "data"
      ],
      "execution_count": null,
      "outputs": [
        {
          "output_type": "execute_result",
          "data": {
            "text/html": [
              "<div>\n",
              "<style scoped>\n",
              "    .dataframe tbody tr th:only-of-type {\n",
              "        vertical-align: middle;\n",
              "    }\n",
              "\n",
              "    .dataframe tbody tr th {\n",
              "        vertical-align: top;\n",
              "    }\n",
              "\n",
              "    .dataframe thead th {\n",
              "        text-align: right;\n",
              "    }\n",
              "</style>\n",
              "<table border=\"1\" class=\"dataframe\">\n",
              "  <thead>\n",
              "    <tr style=\"text-align: right;\">\n",
              "      <th></th>\n",
              "      <th>x</th>\n",
              "      <th>y</th>\n",
              "    </tr>\n",
              "  </thead>\n",
              "  <tbody>\n",
              "    <tr>\n",
              "      <th>0</th>\n",
              "      <td>0</td>\n",
              "      <td>6</td>\n",
              "    </tr>\n",
              "    <tr>\n",
              "      <th>1</th>\n",
              "      <td>3</td>\n",
              "      <td>3</td>\n",
              "    </tr>\n",
              "    <tr>\n",
              "      <th>2</th>\n",
              "      <td>8</td>\n",
              "      <td>0</td>\n",
              "    </tr>\n",
              "  </tbody>\n",
              "</table>\n",
              "</div>"
            ],
            "text/plain": [
              "   x  y\n",
              "0  0  6\n",
              "1  3  3\n",
              "2  8  0"
            ]
          },
          "metadata": {
            "tags": []
          },
          "execution_count": 12
        }
      ]
    },
    {
      "cell_type": "code",
      "metadata": {
        "colab": {
          "base_uri": "https://localhost:8080/",
          "height": 265
        },
        "id": "hqm3mzSIUcFi",
        "outputId": "1aef5423-7861-4143-eaec-b45e89dac791"
      },
      "source": [
        "plt.plot(x,y,'r.',ms=20)\n",
        "plt.axhline(y=0, color='k')\n",
        "plt.axvline(x=0, color='k')\n",
        "plt.grid(True, which='both')\n",
        "plt.show()"
      ],
      "execution_count": null,
      "outputs": [
        {
          "output_type": "display_data",
          "data": {
            "image/png": "[encoded data removed]",
            "text/plain": [
              "<Figure size 432x288 with 1 Axes>"
            ]
          },
          "metadata": {
            "tags": [],
            "needs_background": "light"
          }
        }
      ]
    },
    {
      "cell_type": "code",
      "metadata": {
        "colab": {
          "base_uri": "https://localhost:8080/"
        },
        "id": "JC8GjnhfUkHn",
        "outputId": "701acf62-2a2a-4d84-d9dd-cbaa4d2696be"
      },
      "source": [
        "X = np.column_stack([x**0,x**1,x**2])\n",
        "a = la.solve(X,y)\n",
        "a"
      ],
      "execution_count": null,
      "outputs": [
        {
          "output_type": "execute_result",
          "data": {
            "text/plain": [
              "array([ 6.  , -1.15,  0.05])"
            ]
          },
          "metadata": {
            "tags": []
          },
          "execution_count": 14
        }
      ]
    },
    {
      "cell_type": "code",
      "metadata": {
        "colab": {
          "base_uri": "https://localhost:8080/",
          "height": 265
        },
        "id": "Nhu9a0LyVcDS",
        "outputId": "db7116cd-8948-4b3b-a320-0d700f648702"
      },
      "source": [
        "xs = np.linspace(0,8,20)\n",
        "ys = a[0] + a[1]*xs + a[2]*xs**2\n",
        "plt.plot(xs,ys,x,y,'b.',ms=20)\n",
        "plt.axhline(y=0, color='k')\n",
        "plt.axvline(x=0, color='k')\n",
        "plt.grid(True, which='both')\n",
        "plt.show()"
      ],
      "execution_count": null,
      "outputs": [
        {
          "output_type": "display_data",
          "data": {
            "image/png": "[encoded data removed]",
            "text/plain": [
              "<Figure size 432x288 with 1 Axes>"
            ]
          },
          "metadata": {
            "tags": [],
            "needs_background": "light"
          }
        }
      ]
    },
    {
      "cell_type": "markdown",
      "metadata": {
        "id": "g-0-H61QVffg"
      },
      "source": [
        "For the 10 points with $y$ random\n",
        "$$\n",
        "\\begin{array} {l}\n",
        "(x_0,y_0)=(0,randint(0,10,N))\\\\\n",
        "(x_1,y_1)=(1,randint(0,10,N)) \\\\\n",
        "(x_2,y_1)=(2,randint(0,10,N)) \\\\\n",
        "\\vdots\\\\\n",
        "(x_9,y_9)=(9,randint(0,10,N))\\\\\n",
        "(x_{10},y_{10})=(10,randint(0,10,N))\n",
        "\\end{array}$$"
      ]
    },
    {
      "cell_type": "code",
      "metadata": {
        "colab": {
          "base_uri": "https://localhost:8080/",
          "height": 265
        },
        "id": "9h3RsZ2DNeZA",
        "outputId": "8b0a0f35-2378-451a-f497-c4c482b94dc0"
      },
      "source": [
        "N = 10+1\n",
        "x = np.arange(0,N)\n",
        "y = np.random.randint(0,10,N)\n",
        "plt.plot(x,y,'r.',ms=20)\n",
        "plt.axhline(y=0, color='k')\n",
        "plt.axvline(x=0, color='k')\n",
        "plt.grid(True, which='both')\n",
        "plt.show()"
      ],
      "execution_count": null,
      "outputs": [
        {
          "output_type": "display_data",
          "data": {
            "image/png": "[encoded data removed]",
            "text/plain": [
              "<Figure size 432x288 with 1 Axes>"
            ]
          },
          "metadata": {
            "tags": [],
            "needs_background": "light"
          }
        }
      ]
    },
    {
      "cell_type": "markdown",
      "metadata": {
        "id": "aJpP7KeyWv8A"
      },
      "source": [
        "To find the coeficients $\\{a_0,a_1,a_2,\\ldots,a_9 \\}$ we solve the linear equations system\n",
        "$$\n",
        "\\left(\n",
        "\\begin{array}{r}\n",
        "a_0 \\\\\n",
        "a_1 \\\\\n",
        "\\vdots\\\\\n",
        "a_{10}\n",
        "\\end{array}\n",
        "\\right)\n",
        "=\n",
        "\\left[\n",
        "\\begin{array}{rrr}\n",
        "1 & x_0 & x_0^2 & \\dots & x_0^{10} \\\\\n",
        "1 & x_1 & x_1^2 &  \\dots & x_0^{10}\\\\\n",
        "\\vdots & \\vdots & \\vdots &  \\dots & x_0^{10}\\\\\n",
        "1 & x_9 & x_9^2 & \\dots & x_9^{10}\n",
        "\\end{array}\n",
        "\\right]^{-1} \n",
        "\\left(\n",
        "\\begin{array}{r}\n",
        "y_0 \\\\\n",
        "y_1 \\\\\n",
        "\\vdots\\\\\n",
        "y_9\n",
        "\\end{array}\n",
        "\\right)\n",
        "$$"
      ]
    },
    {
      "cell_type": "code",
      "metadata": {
        "colab": {
          "base_uri": "https://localhost:8080/"
        },
        "id": "_BCLC5cSN4Cb",
        "outputId": "61669607-38dd-4aee-cf35-9790726c4607"
      },
      "source": [
        "X = np.column_stack([x**k for k in range(0,N)])\n",
        "print(X[:5,:5])"
      ],
      "execution_count": null,
      "outputs": [
        {
          "output_type": "stream",
          "text": [
            "[[  1   0   0   0   0]\n",
            " [  1   1   1   1   1]\n",
            " [  1   2   4   8  16]\n",
            " [  1   3   9  27  81]\n",
            " [  1   4  16  64 256]]\n"
          ],
          "name": "stdout"
        }
      ]
    },
    {
      "cell_type": "markdown",
      "metadata": {
        "id": "WlnGpghpTM9Q"
      },
      "source": [
        "numpy.vander\n",
        "https://numpy.org/doc/stable/reference/generated/numpy.vander.html\n",
        "\n"
      ]
    },
    {
      "cell_type": "code",
      "metadata": {
        "colab": {
          "base_uri": "https://localhost:8080/"
        },
        "id": "gSEOAJCTSIrb",
        "outputId": "52ac8756-6961-466c-e1d9-a944d3124a96"
      },
      "source": [
        "X = np.vander(x,increasing=True)\n",
        "print(X[:5,:5])"
      ],
      "execution_count": null,
      "outputs": [
        {
          "output_type": "stream",
          "text": [
            "[[  1   0   0   0   0]\n",
            " [  1   1   1   1   1]\n",
            " [  1   2   4   8  16]\n",
            " [  1   3   9  27  81]\n",
            " [  1   4  16  64 256]]\n"
          ],
          "name": "stdout"
        }
      ]
    },
    {
      "cell_type": "code",
      "metadata": {
        "colab": {
          "base_uri": "https://localhost:8080/"
        },
        "id": "gKcN0Qb6TrbA",
        "outputId": "23520f05-13e7-4b1f-f741-d1249778ff91"
      },
      "source": [
        "a = la.solve(X,y)\n",
        "a"
      ],
      "execution_count": null,
      "outputs": [
        {
          "output_type": "execute_result",
          "data": {
            "text/plain": [
              "array([ 9.00000000e+00,  1.26444048e+02, -4.05865615e+02,  4.83318767e+02,\n",
              "       -2.97045092e+02,  1.06900608e+02, -2.38060012e+01,  3.32313988e+00,\n",
              "       -2.83019180e-01,  1.34383267e-02, -2.72541887e-04])"
            ]
          },
          "metadata": {
            "tags": []
          },
          "execution_count": 35
        }
      ]
    },
    {
      "cell_type": "code",
      "metadata": {
        "colab": {
          "base_uri": "https://localhost:8080/",
          "height": 265
        },
        "id": "nNY32JLaTxBY",
        "outputId": "a0a8d23a-dc80-405c-cf2e-b4a52d920834"
      },
      "source": [
        "xs = np.linspace(0,N-1,200)\n",
        "ys = sum([a[k]*xs**k for k in range(0,N)])\n",
        "plt.plot(x,y,'r.',xs,ys)\n",
        "plt.axhline(y=0, color='k')\n",
        "plt.axvline(x=0, color='k')\n",
        "plt.grid(True, which='both')\n",
        "plt.show()"
      ],
      "execution_count": null,
      "outputs": [
        {
          "output_type": "display_data",
          "data": {
            "image/png": "[encoded data removed]",
            "text/plain": [
              "<Figure size 432x288 with 1 Axes>"
            ]
          },
          "metadata": {
            "tags": [],
            "needs_background": "light"
          }
        }
      ]
    },
    {
      "cell_type": "code",
      "metadata": {
        "colab": {
          "base_uri": "https://localhost:8080/",
          "height": 265
        },
        "id": "V3wkQ1TWYvfJ",
        "outputId": "733c9dab-ec4e-4bd9-e7a1-90d30f76d977"
      },
      "source": [
        "xs = np.linspace(-0.2,N-1+0.3,400)\n",
        "ys = sum([a[k]*xs**k for k in range(0,N)])\n",
        "plt.plot(x,y,'r.',xs,ys)\n",
        "plt.axhline(y=0, color='k')\n",
        "plt.axvline(x=0, color='k')\n",
        "plt.grid(True, which='both')\n",
        "plt.show()"
      ],
      "execution_count": null,
      "outputs": [
        {
          "output_type": "display_data",
          "data": {
            "image/png": "[encoded data removed]",
            "text/plain": [
              "<Figure size 432x288 with 1 Axes>"
            ]
          },
          "metadata": {
            "tags": [],
            "needs_background": "light"
          }
        }
      ]
    },
    {
      "cell_type": "markdown",
      "metadata": {
        "id": "L7S1yI1XlvRn"
      },
      "source": [
        "Standard algorithm\n",
        "$$\n",
        "P_n(x) = a_0+ a_1x + a_2x^2 + a_3x^3 + \\ldots + a_{n-1}x^{n-1}+ a_nx^n\n",
        "$$ \n",
        "\n",
        "Horner's algorithm\n",
        "https://en.wikipedia.org/wiki/Horner%27s_method\n",
        "$$\n",
        "P_n(x) = a_0+ a_1x + a_2x^2 + a_3x^3 + \\ldots + a_{n-1}x^{n-1}+ a_nx^n\n",
        "$$\n",
        "$$\n",
        "P_n(x) = a_0 + x  (a_1 + a_2x + + a_3x^2 +  \\ldots + a_{n-1}x^{n-2}+ a_nx^{n-1})\n",
        "$$ \n",
        "$$\n",
        "P_n(x) = a_0 + x  (a_1 + x (a_2 + a_3x  + \\ldots + a_{n-1}x^{n-3}+ a_nx^{n-2}))\n",
        "$$ \n",
        "$$\n",
        "P_n(x) = a_0 + x  (a_1 + x (a_2 + x(a_3+  \\ldots + a_{n-1}x^{n-4}+ a_nx^{n-3})))\n",
        "$$\n",
        "$$\n",
        "\\vdots\n",
        "$$\n",
        "$$\n",
        "P_n(x) = a_0 + x  (a_1+ (x(a_2 + \\ldots + x(a_{n-1}+   a_n(x))...))$$ "
      ]
    },
    {
      "cell_type": "code",
      "metadata": {
        "colab": {
          "base_uri": "https://localhost:8080/",
          "height": 265
        },
        "id": "BpeFUTByetuR",
        "outputId": "4a85de3a-c37e-4dfc-d7b1-ed88b936cb72"
      },
      "source": [
        "n = 10\n",
        "xs = np.linspace(-0.2,n+0.3,400)\n",
        "ys = np.zeros(len(xs))\n",
        "for k in range(len(xs)):\n",
        "  ys[k] = a[n]\n",
        "  for i in range(n-1,-1,-1):\n",
        "   ys[k]  = a[i] + xs[k] * ys[k]  \n",
        "plt.plot(x,y,'r.',xs,ys)\n",
        "plt.axhline(y=0, color='k')\n",
        "plt.axvline(x=0, color='k')\n",
        "plt.grid(True, which='both')\n",
        "plt.show()"
      ],
      "execution_count": null,
      "outputs": [
        {
          "output_type": "display_data",
          "data": {
            "image/png": "[encoded data removed]",
            "text/plain": [
              "<Figure size 432x288 with 1 Axes>"
            ]
          },
          "metadata": {
            "tags": [],
            "needs_background": "light"
          }
        }
      ]
    },
    {
      "cell_type": "code",
      "metadata": {
        "id": "brjaUpnvgWSw",
        "colab": {
          "base_uri": "https://localhost:8080/",
          "height": 265
        },
        "outputId": "cc5798ea-17fd-423a-d1b0-83453235856b"
      },
      "source": [
        "# a = [a[0], a[1],...,a[n]] np.array of the n+1 coeficients of the polynomial\n",
        "n=20\n",
        "a = np.ones(n+1)\n",
        "x = np.linspace(0,1,1000)\n",
        "p = sum([a[k]*x**k for k in range(0,n)])\n",
        "\n",
        "plt.plot(x,p)\n",
        "plt.axhline(y=0, color='k')\n",
        "plt.axvline(x=0, color='k')\n",
        "plt.grid(True, which='both')\n",
        "plt.show()\n"
      ],
      "execution_count": null,
      "outputs": [
        {
          "output_type": "display_data",
          "data": {
            "image/png": "[encoded data removed]",
            "text/plain": [
              "<Figure size 432x288 with 1 Axes>"
            ]
          },
          "metadata": {
            "tags": [],
            "needs_background": "light"
          }
        }
      ]
    },
    {
      "cell_type": "code",
      "metadata": {
        "colab": {
          "base_uri": "https://localhost:8080/",
          "height": 265
        },
        "id": "1KF75ChRMwH7",
        "outputId": "53d14d2c-77a0-457c-8cea-0575c8aa0d9f"
      },
      "source": [
        "# a = [a[0], a[1],...,a[n]] np.array of the n+1 coeficients of the polynomial\n",
        "n=20\n",
        "a = np.ones(n+1)\n",
        "x = np.linspace(0,1,1000)\n",
        "p = np.zeros(len(x))\n",
        "for k in range(len(x)):\n",
        "  p[k] = a[n]\n",
        "  for i in range(n-1,-1,-1):\n",
        "   p[k]  = a[i] + x[k] * p[k]\n",
        "\n",
        "plt.plot(x,p)\n",
        "plt.axhline(y=0, color='k')\n",
        "plt.axvline(x=0, color='k')\n",
        "plt.grid(True, which='both')\n",
        "plt.show()\n"
      ],
      "execution_count": null,
      "outputs": [
        {
          "output_type": "display_data",
          "data": {
            "image/png": "[encoded data removed]",
            "text/plain": [
              "<Figure size 432x288 with 1 Axes>"
            ]
          },
          "metadata": {
            "tags": [],
            "needs_background": "light"
          }
        }
      ]
    }
  ]
}