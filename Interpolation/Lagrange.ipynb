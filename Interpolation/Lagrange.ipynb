{
  "nbformat": 4,
  "nbformat_minor": 0,
  "metadata": {
    "colab": {
      "name": "Lagrange.ipynb",
      "provenance": [],
      "collapsed_sections": [],
      "authorship_tag": "ABX9TyMNcPxk1dzeKEb/JTscqX2M"
    },
    "kernelspec": {
      "name": "python3",
      "display_name": "Python 3"
    }
  },
  "cells": [
    {
      "cell_type": "markdown",
      "metadata": {
        "id": "3_ri-Cwlgqig"
      },
      "source": [
        "scipy.interpolate.lagrange\n",
        "\n",
        "https://docs.scipy.org/doc/scipy/reference/generated/scipy.interpolate.lagrange.html"
      ]
    },
    {
      "cell_type": "markdown",
      "metadata": {
        "id": "9jiyWnspgyJc"
      },
      "source": [
        "Interpolate  $f(x)= x^3$ by 3 points."
      ]
    },
    {
      "cell_type": "code",
      "metadata": {
        "id": "7c_cb9CpgeFq"
      },
      "source": [
        "import numpy as np\n",
        "from scipy.interpolate import lagrange\n",
        "\n",
        "x = np.array([0, 1, 2])\n",
        "y = x**3\n",
        "poly = lagrange(x, y)"
      ],
      "execution_count": 1,
      "outputs": []
    },
    {
      "cell_type": "code",
      "metadata": {
        "colab": {
          "base_uri": "https://localhost:8080/",
          "height": 264
        },
        "id": "XiBYxgGZnWW-",
        "outputId": "b58e6226-973b-4d1d-e8b4-f24e7983720f"
      },
      "source": [
        "import matplotlib.pyplot as plt\n",
        "\n",
        "plt.plot(x,y,'r.',ms=20)\n",
        "plt.axhline(y=0, color='k')\n",
        "plt.axvline(x=0, color='k')\n",
        "plt.grid(True, which='both')\n",
        "plt.show()"
      ],
      "execution_count": 2,
      "outputs": [
        {
          "output_type": "display_data",
          "data": {
            "image/png": "[encoded data removed]",
            "text/plain": [
              "<Figure size 432x288 with 1 Axes>"
            ]
          },
          "metadata": {
            "needs_background": "light"
          }
        }
      ]
    },
    {
      "cell_type": "code",
      "metadata": {
        "colab": {
          "base_uri": "https://localhost:8080/"
        },
        "id": "Dx03lYiuiisY",
        "outputId": "55a95319-e2e8-4fdb-e9a1-26c7e88e8a1c"
      },
      "source": [
        "poly"
      ],
      "execution_count": 3,
      "outputs": [
        {
          "output_type": "execute_result",
          "data": {
            "text/plain": [
              "poly1d([ 3., -2.,  0.])"
            ]
          },
          "metadata": {},
          "execution_count": 3
        }
      ]
    },
    {
      "cell_type": "markdown",
      "metadata": {
        "id": "xOmhRYwAhUsP"
      },
      "source": [
        "numpy.poly1 - A one-dimensional polynomial class.\n",
        "\n",
        "https://numpy.org/doc/stable/reference/generated/numpy.poly1d.html\n",
        "\n"
      ]
    },
    {
      "cell_type": "code",
      "metadata": {
        "colab": {
          "base_uri": "https://localhost:8080/"
        },
        "id": "dv9-ye-ahkQf",
        "outputId": "8859da23-0183-4fbb-d847-f1d86fedb469"
      },
      "source": [
        "poly.coef"
      ],
      "execution_count": 4,
      "outputs": [
        {
          "output_type": "execute_result",
          "data": {
            "text/plain": [
              "array([ 3., -2.,  0.])"
            ]
          },
          "metadata": {},
          "execution_count": 4
        }
      ]
    },
    {
      "cell_type": "code",
      "metadata": {
        "colab": {
          "base_uri": "https://localhost:8080/"
        },
        "id": "lOquVOaXixUe",
        "outputId": "9435ec95-5ecf-452f-8c95-0ad3af65da10"
      },
      "source": [
        "print(poly)"
      ],
      "execution_count": 5,
      "outputs": [
        {
          "output_type": "stream",
          "name": "stdout",
          "text": [
            "   2\n",
            "3 x - 2 x\n"
          ]
        }
      ]
    },
    {
      "cell_type": "code",
      "metadata": {
        "colab": {
          "base_uri": "https://localhost:8080/",
          "height": 264
        },
        "id": "zQz9aoo_nNT3",
        "outputId": "e2da3827-fec5-4ac0-d84f-84d01d25ec62"
      },
      "source": [
        "xs = np.linspace(0,2,20)\n",
        "ys = poly(xs)\n",
        "plt.plot(xs,ys,x,y,'r.',ms=20)\n",
        "plt.axhline(y=0, color='k')\n",
        "plt.axvline(x=0, color='k')\n",
        "plt.grid(True, which='both')\n",
        "plt.show()"
      ],
      "execution_count": 6,
      "outputs": [
        {
          "output_type": "display_data",
          "data": {
            "image/png": "[encoded data removed]",
            "text/plain": [
              "<Figure size 432x288 with 1 Axes>"
            ]
          },
          "metadata": {
            "needs_background": "light"
          }
        }
      ]
    },
    {
      "cell_type": "code",
      "metadata": {
        "colab": {
          "base_uri": "https://localhost:8080/",
          "height": 282
        },
        "id": "SI4c3yXhi-IG",
        "outputId": "d088751e-8987-4aa3-c241-e740ef3eb559"
      },
      "source": [
        "x = np.array([-1, 0, 1])\n",
        "y = x**2\n",
        "poly = lagrange(x, y)\n",
        "xs = np.linspace(-1,1,20)\n",
        "ys = poly(xs)\n",
        "plt.plot(xs,ys,x,y,'r.',ms=20)\n",
        "plt.axhline(y=0, color='k')\n",
        "plt.axvline(x=0, color='k')\n",
        "plt.grid(True, which='both')\n",
        "plt.show()\n",
        "poly.coef"
      ],
      "execution_count": 7,
      "outputs": [
        {
          "output_type": "display_data",
          "data": {
            "image/png": "[encoded data removed]",
            "text/plain": [
              "<Figure size 432x288 with 1 Axes>"
            ]
          },
          "metadata": {
            "needs_background": "light"
          }
        },
        {
          "output_type": "execute_result",
          "data": {
            "text/plain": [
              "array([1., 0., 0.])"
            ]
          },
          "metadata": {},
          "execution_count": 7
        }
      ]
    },
    {
      "cell_type": "markdown",
      "metadata": {
        "id": "tfbckcO8jULu"
      },
      "source": [
        "For the 10 points with $y$ random\n",
        "$$\n",
        "\\begin{array} {l}\n",
        "(x_0,y_0)=(0,randint(0,10,N))\\\\\n",
        "(x_1,y_1)=(1,randint(0,10,N)) \\\\\n",
        "(x_2,y_1)=(2,randint(0,10,N)) \\\\\n",
        "\\vdots\\\\\n",
        "(x_9,y_9)=(9,randint(0,10,N))\\\\\n",
        "(x_{10},y_{10})=(10,randint(0,10,N))\n",
        "\\end{array}$$"
      ]
    },
    {
      "cell_type": "markdown",
      "source": [
        "# A sympy-based Lagrange polynomial constructor\n",
        "\n",
        "https://gist.github.com/folkertdev/084c53887c49a6248839"
      ],
      "metadata": {
        "id": "nqvAcJdM2r6T"
      }
    },
    {
      "cell_type": "code",
      "source": [
        "\"\"\"\n",
        "A sympy-based Lagrange polynomial constructor. \n",
        "Given a set of function inputs and outputs, the lagrangePolynomial function will construct an \n",
        "expression that for every input gives the corresponding output. For intermediate values,\n",
        "the polynomial interpolates (giving varying results based on the shape of your input). \n",
        "This is useful when the result needs to be used outside of Python, because the \n",
        "expression can easily be copied. To convert the expression to a python function object,\n",
        "use sympy.lambdify.\n",
        "\"\"\"\n",
        "from sympy import symbols, expand, lambdify, solve_poly_system, tan, E\n",
        "\n",
        "import math\n",
        "\n",
        "from operator import mul\n",
        "from functools import reduce, lru_cache\n",
        "from itertools import chain\n",
        "\n",
        "# sympy symbols\n",
        "x = symbols('x')\n",
        "\n",
        "# convenience functions\n",
        "product = lambda *args: reduce(mul, *(list(args) + [1]))\n",
        "\n",
        "# test data\n",
        "labels = [(-3/2), (-3/4), 0, 3/4, 3/2]\n",
        "points = [math.tan(v) for v in labels]\n",
        "\n",
        "# this product may be reusable (when creating many functions on the same domain)\n",
        "# therefore, cache the result\n",
        "@lru_cache(16)\n",
        "def l(labels, j):\n",
        "\tdef gen(labels, j):\n",
        "\t\tk = len(labels)\n",
        "\t\tcurrent = labels[j]\n",
        "\t\tfor m in labels:\n",
        "\t\t\tif m == current:\n",
        "\t\t\t\tcontinue\n",
        "\t\t\tyield (x - m) / (current - m)\n",
        "\treturn expand(product(gen(labels, j)))\n",
        "\n",
        "\n",
        "def lagrangePolynomial(xs, ys):\n",
        "\t# based on https://en.wikipedia.org/wiki/Lagrange_polynomial#Example_1\n",
        "\tk = len(xs)\n",
        "\ttotal = 0\n",
        "\n",
        "\t# use tuple, needs to be hashable to cache\n",
        "\txs = tuple(xs)\n",
        "\n",
        "\tfor j, current in enumerate(ys):\n",
        "\t\tt = current * l(xs, j)\n",
        "\t\ttotal += t\n",
        "\n",
        "\treturn total\n",
        "\n",
        "\n",
        "\n",
        "\n",
        "def x_intersections(function, *args):\n",
        "\t\"Finds all x for which function(x) = 0\"\n",
        "\t# solve_poly_system seems more efficient than solve for larger expressions\n",
        "\treturn [var for var in chain.from_iterable(solve_poly_system([function], *args)) if (var.is_real)]\n",
        "\n",
        "def x_scale(function, factor):\n",
        "\t\"Scale function on the x-axis\"\n",
        "\treturn functions.subs(x, x / factor)\n",
        "\n",
        "# test data\n",
        "labels = [1/3, 1/4, 1]\n",
        "points = [2,-1,7]\n",
        "\n",
        "func = lagrangePolynomial(labels, points)\n",
        "\n",
        "pyfunc = lambdify(x, func)\n",
        "for a, b in zip(labels, points):\n",
        "    \tassert(pyfunc(a) - b < 1e-6)\n",
        "\n",
        "func\n"
      ],
      "metadata": {
        "colab": {
          "base_uri": "https://localhost:8080/",
          "height": 38
        },
        "id": "2oSCKwev0262",
        "outputId": "48d058c3-602d-43b4-d829-f3516628f6b9"
      },
      "execution_count": 24,
      "outputs": [
        {
          "output_type": "execute_result",
          "data": {
            "text/latex": "$\\displaystyle - 38.0 x^{2} + 58.1666666666667 x - 13.1666666666667$",
            "text/plain": [
              "-38.0*x**2 + 58.1666666666667*x - 13.1666666666667"
            ]
          },
          "metadata": {},
          "execution_count": 24
        }
      ]
    },
    {
      "cell_type": "code",
      "metadata": {
        "colab": {
          "base_uri": "https://localhost:8080/",
          "height": 282
        },
        "id": "zJMB9Y2vlo4I",
        "outputId": "0f76eda1-9527-4daa-f1d8-0f76028a3cf5"
      },
      "source": [
        "import numpy as np\n",
        "import matplotlib.pyplot as plt\n",
        "N = 10+1\n",
        "x = np.arange(0,N)\n",
        "y = np.random.randint(0,10,N)\n",
        "plt.plot(x,y,'r.',ms=20)\n",
        "plt.axhline(y=0, color='k')\n",
        "plt.axvline(x=0, color='k')\n",
        "plt.grid(True, which='both')\n",
        "plt.show()\n",
        "y"
      ],
      "execution_count": 8,
      "outputs": [
        {
          "output_type": "display_data",
          "data": {
            "image/png": "[encoded data removed]",
            "text/plain": [
              "<Figure size 432x288 with 1 Axes>"
            ]
          },
          "metadata": {
            "needs_background": "light"
          }
        },
        {
          "output_type": "execute_result",
          "data": {
            "text/plain": [
              "array([4, 0, 3, 9, 3, 9, 4, 2, 0, 7, 6])"
            ]
          },
          "metadata": {},
          "execution_count": 8
        }
      ]
    },
    {
      "cell_type": "code",
      "metadata": {
        "id": "LDpXeBAkl5aX",
        "colab": {
          "base_uri": "https://localhost:8080/"
        },
        "outputId": "3b9a5602-d3b4-4449-c14d-e06b7c8be153"
      },
      "source": [
        "from scipy.interpolate import lagrange\n",
        "poly = lagrange(x, y)\n",
        "a = poly.coef\n",
        "a"
      ],
      "execution_count": 9,
      "outputs": [
        {
          "output_type": "execute_result",
          "data": {
            "text/plain": [
              "array([-5.62996032e-04,  2.84846230e-02, -6.18427579e-01,  7.52720734e+00,\n",
              "       -5.62773090e+01,  2.66061024e+02, -7.87745288e+02,  1.39003566e+03,\n",
              "       -1.30135841e+03,  4.78347619e+02,  4.00000000e+00])"
            ]
          },
          "metadata": {},
          "execution_count": 9
        }
      ]
    },
    {
      "cell_type": "code",
      "metadata": {
        "colab": {
          "base_uri": "https://localhost:8080/",
          "height": 264
        },
        "id": "8eWFKbStmSeQ",
        "outputId": "8b9262c9-dcc9-4911-f6e3-b7df139f2bf5"
      },
      "source": [
        "xs = np.linspace(0,N-1,200)\n",
        "ys = sum([a[N-k-1]*xs**k for k in range(0,N)])\n",
        "plt.plot(x,y,'r.',xs,ys)\n",
        "plt.axhline(y=0, color='k')\n",
        "plt.axvline(x=0, color='k')\n",
        "plt.grid(True, which='both')\n",
        "plt.show()"
      ],
      "execution_count": 10,
      "outputs": [
        {
          "output_type": "display_data",
          "data": {
            "image/png": "[encoded data removed]",
            "text/plain": [
              "<Figure size 432x288 with 1 Axes>"
            ]
          },
          "metadata": {
            "needs_background": "light"
          }
        }
      ]
    },
    {
      "cell_type": "markdown",
      "metadata": {
        "id": "MQINha9QlilI"
      },
      "source": [
        "Python Program for Lagrange Interpolation Method (with Output)\n",
        "\n",
        "https://www.codesansar.com/numerical-methods/python-program-lagrange-interpolation-method.htm"
      ]
    },
    {
      "cell_type": "code",
      "metadata": {
        "colab": {
          "base_uri": "https://localhost:8080/"
        },
        "id": "kX6wp3QqjzHO",
        "outputId": "c8d499e2-1c6e-4399-e634-fb7624f179f3"
      },
      "source": [
        "# Lagrange Interpolation\n",
        "\n",
        "import numpy as np\n",
        "N = 10+1\n",
        "x = np.arange(0,N)\n",
        "y = np.array([3, 5, 8, 8, 1, 0, 6, 9, 6, 0, 3])\n",
        "\n",
        "# Set interpolated value initially to zero\n",
        "yp = 0\n",
        "\n",
        "xp = 4.5\n",
        "\n",
        "n=N\n",
        "# Implementing Lagrange Interpolation\n",
        "for i in range(n):\n",
        "    \n",
        "    p = 1\n",
        "    \n",
        "    for j in range(n):\n",
        "        if i != j:\n",
        "            p = p * (xp - x[j])/(x[i] - x[j])\n",
        "    \n",
        "    yp = yp + p * y[i]    \n",
        "\n",
        "# Displaying output\n",
        "print('Interpolated value at %.3f is %.3f.' % (xp, yp))"
      ],
      "execution_count": 11,
      "outputs": [
        {
          "output_type": "stream",
          "name": "stdout",
          "text": [
            "Interpolated value at 4.500 is -0.760.\n"
          ]
        }
      ]
    },
    {
      "cell_type": "code",
      "metadata": {
        "id": "zQPbr5zij8am",
        "colab": {
          "base_uri": "https://localhost:8080/"
        },
        "outputId": "d1037dc0-6e52-4790-a5af-31b9cef3e2e9"
      },
      "source": [
        "### original code\n",
        "\n",
        "# Lagrange Interpolation\n",
        "\n",
        "# Importing NumPy Library\n",
        "import numpy as np\n",
        "\n",
        "# Reading number of unknowns\n",
        "n = int(input('Enter number of data points: '))\n",
        "\n",
        "# Making numpy array of n & n x n size and initializing \n",
        "# to zero for storing x and y value along with differences of y\n",
        "x = np.zeros((n))\n",
        "y = np.zeros((n))\n",
        "\n",
        "\n",
        "# Reading data points\n",
        "print('Enter data for x and y: ')\n",
        "for i in range(n):\n",
        "    x[i] = float(input( 'x['+str(i)+']='))\n",
        "    y[i] = float(input( 'y['+str(i)+']='))\n",
        "\n",
        "\n",
        "# Reading interpolation point\n",
        "xp = float(input('Enter interpolation point: '))\n",
        "\n",
        "# Set interpolated value initially to zero\n",
        "yp = 0\n",
        "\n",
        "# Implementing Lagrange Interpolation\n",
        "for i in range(n):\n",
        "    \n",
        "    p = 1\n",
        "    \n",
        "    for j in range(n):\n",
        "        if i != j:\n",
        "            p = p * (xp - x[j])/(x[i] - x[j])\n",
        "    \n",
        "    yp = yp + p * y[i]    \n",
        "\n",
        "# Displaying output\n",
        "print('Interpolated value at %.3f is %.3f.' % (xp, yp))"
      ],
      "execution_count": 16,
      "outputs": [
        {
          "output_type": "stream",
          "name": "stdout",
          "text": [
            "Enter number of data points: 3\n",
            "Enter data for x and y: \n",
            "x[0]=0.333333333\n",
            "y[0]=2\n",
            "x[1]=0.25\n",
            "y[1]=-1\n",
            "x[2]=7\n",
            "y[2]=7\n",
            "Enter interpolation point: 5\n",
            "Interpolated value at 5.000 is 54.241.\n"
          ]
        }
      ]
    },
    {
      "cell_type": "markdown",
      "metadata": {
        "id": "hC4Ufh-Xk4Cu"
      },
      "source": [
        "Power Series (numpy.polynomial.polynomial) \n",
        "\n",
        "https://numpy.org/doc/stable/reference/routines.polynomials.polynomial.html\n",
        "\n",
        "POLYNOMIALS with NUMPY\n",
        "\n",
        "https://www.yu.edu/sites/default/files/inline-files/Lec12_PDF.pdf"
      ]
    }
  ]
}