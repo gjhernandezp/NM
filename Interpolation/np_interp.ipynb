{
  "nbformat": 4,
  "nbformat_minor": 0,
  "metadata": {
    "colab": {
      "name": "np_interp",
      "provenance": [],
      "collapsed_sections": []
    },
    "kernelspec": {
      "name": "python3",
      "display_name": "Python 3"
    }
  },
  "cells": [
    {
      "cell_type": "markdown",
      "metadata": {
        "id": "PKqYe3TeKbbP"
      },
      "source": [
        "Numpy - One-dimensional linear interpolation (numpy.interp)\n",
        "\n",
        "https://numpy.org/doc/stable/reference/generated/numpy.interp.html\n",
        "\n",
        "numpy.interp(x, xp, fp, left=None, right=None, period=None)\n",
        "\n",
        "The x-coordinate sequence is expected to be increasing, but this is not explicitly enforced. However, if the sequence xp is non-increasing, interpolation results are meaningless.\n",
        "\n",
        "Note that, since NaN is unsortable, xp also cannot contain NaNs.\n",
        "\n",
        "A simple check for xp being strictly increasing is: np.all(np.diff(xp) > 0)"
      ]
    },
    {
      "cell_type": "code",
      "metadata": {
        "colab": {
          "base_uri": "https://localhost:8080/"
        },
        "id": "iVFk-UObKdEd",
        "outputId": "ffb77f73-f429-4b02-e81a-ca054ff638b0"
      },
      "source": [
        "import numpy as np\n",
        "xp = [1, 2, 3]\n",
        "fp = [3, 2, 0]\n",
        "np.interp(2.5, xp, fp)"
      ],
      "execution_count": 1,
      "outputs": [
        {
          "output_type": "execute_result",
          "data": {
            "text/plain": [
              "1.0"
            ]
          },
          "metadata": {
            "tags": []
          },
          "execution_count": 1
        }
      ]
    },
    {
      "cell_type": "code",
      "metadata": {
        "colab": {
          "base_uri": "https://localhost:8080/"
        },
        "id": "jPfQEHlDKg1t",
        "outputId": "f26d80ca-52f7-4431-e0b3-aad7d3163008"
      },
      "source": [
        "np.interp([0, 1, 1.5, 2.72, 3.14], xp, fp)"
      ],
      "execution_count": 2,
      "outputs": [
        {
          "output_type": "execute_result",
          "data": {
            "text/plain": [
              "array([3.  , 3.  , 2.5 , 0.56, 0.  ])"
            ]
          },
          "metadata": {
            "tags": []
          },
          "execution_count": 2
        }
      ]
    },
    {
      "cell_type": "markdown",
      "metadata": {
        "id": "u5ndyCVAKrnu"
      },
      "source": [
        "Extrapolates firts or last value unless left and right defined  "
      ]
    },
    {
      "cell_type": "code",
      "metadata": {
        "colab": {
          "base_uri": "https://localhost:8080/"
        },
        "id": "9J4ZstnCKpQM",
        "outputId": "daaeeeff-4849-4ff0-f353-f7f7908b8da5"
      },
      "source": [
        "np.interp(0, xp, fp)"
      ],
      "execution_count": 3,
      "outputs": [
        {
          "output_type": "execute_result",
          "data": {
            "text/plain": [
              "3.0"
            ]
          },
          "metadata": {
            "tags": []
          },
          "execution_count": 3
        }
      ]
    },
    {
      "cell_type": "code",
      "metadata": {
        "colab": {
          "base_uri": "https://localhost:8080/"
        },
        "id": "FI2649efLi71",
        "outputId": "a8bf637f-4ebb-4753-d270-6431e2a098bd"
      },
      "source": [
        "np.interp(3.14, xp, fp)"
      ],
      "execution_count": 4,
      "outputs": [
        {
          "output_type": "execute_result",
          "data": {
            "text/plain": [
              "0.0"
            ]
          },
          "metadata": {
            "tags": []
          },
          "execution_count": 4
        }
      ]
    },
    {
      "cell_type": "code",
      "metadata": {
        "colab": {
          "base_uri": "https://localhost:8080/"
        },
        "id": "x-fkvlh5KnTc",
        "outputId": "c3287f9e-c103-42c1-eead-5af79e2c88ee"
      },
      "source": [
        "RUNDEF = 99.0\n",
        "np.interp(3.14, xp, fp, right=RUNDEF)"
      ],
      "execution_count": 5,
      "outputs": [
        {
          "output_type": "execute_result",
          "data": {
            "text/plain": [
              "99.0"
            ]
          },
          "metadata": {
            "tags": []
          },
          "execution_count": 5
        }
      ]
    },
    {
      "cell_type": "code",
      "metadata": {
        "colab": {
          "base_uri": "https://localhost:8080/"
        },
        "id": "tC1qnKOMMUPW",
        "outputId": "21611e75-a50e-41fb-829a-9515d675b211"
      },
      "source": [
        "LUNDEF = -99.0\n",
        "np.interp(3.14, xp, fp, left=LUNDEF)"
      ],
      "execution_count": 6,
      "outputs": [
        {
          "output_type": "execute_result",
          "data": {
            "text/plain": [
              "0.0"
            ]
          },
          "metadata": {
            "tags": []
          },
          "execution_count": 6
        }
      ]
    },
    {
      "cell_type": "code",
      "metadata": {
        "colab": {
          "base_uri": "https://localhost:8080/",
          "height": 281
        },
        "id": "teGmKK2gK5B9",
        "outputId": "ef02c5ab-83db-4e20-b8a8-476b102e2a37"
      },
      "source": [
        "x = np.linspace(0, 2*np.pi, 10)\n",
        "y = np.sin(x)\n",
        "xvals = np.linspace(0, 2*np.pi, 50)\n",
        "yinterp = np.interp(xvals, x, y)\n",
        "\n",
        "import matplotlib.pyplot as plt\n",
        "plt.plot(x, y, 'o')\n",
        "plt.plot(xvals, yinterp, 'x')\n",
        "plt.title(\"Numpy - One-dimensional linear interpolation (numpy.interp)\")\n",
        "plt.xticks(x)\n",
        "plt.savefig(\"np_interp.png\")\n",
        "plt.show()"
      ],
      "execution_count": 7,
      "outputs": [
        {
          "output_type": "display_data",
          "data": {
            "image/png": "[encoded data removed]",
            "text/plain": [
              "<Figure size 432x288 with 1 Axes>"
            ]
          },
          "metadata": {
            "tags": [],
            "needs_background": "light"
          }
        }
      ]
    },
    {
      "cell_type": "code",
      "metadata": {
        "id": "toHrM3FrMin0"
      },
      "source": [
        "x = np.linspace(0, 2*np.pi, 10)\n",
        "y = np.sin(x)\n",
        "xvals = np.linspace(-np.pi, 3*np.pi, 75)\n",
        "xticks = np.linspace(-np.pi, 3*np.pi, 15)\n",
        "yinterp = np.interp(xvals, x, y,period=2*np.pi)"
      ],
      "execution_count": 8,
      "outputs": []
    },
    {
      "cell_type": "code",
      "metadata": {
        "colab": {
          "base_uri": "https://localhost:8080/",
          "height": 281
        },
        "id": "YDbizXSEMzFF",
        "outputId": "bf7e70ad-9dda-48ee-db50-8a37a5417782"
      },
      "source": [
        "import matplotlib.pyplot as plt\n",
        "plt.plot(x, y, 'o')\n",
        "plt.plot(xvals, yinterp, 'x')\n",
        "plt.title(\"Numpy - One-dimensional linear interpolation (numpy.interp)\")\n",
        "plt.xticks(xticks)\n",
        "plt.savefig(\"np_interp.png\")\n",
        "plt.show()"
      ],
      "execution_count": 9,
      "outputs": [
        {
          "output_type": "display_data",
          "data": {
            "image/png": "[encoded data removed]",
            "text/plain": [
              "<Figure size 432x288 with 1 Axes>"
            ]
          },
          "metadata": {
            "tags": [],
            "needs_background": "light"
          }
        }
      ]
    },
    {
      "cell_type": "markdown",
      "metadata": {
        "id": "DLS8riiMLy4d"
      },
      "source": [
        "Considering that\n",
        "$$ y = y_0 + (x-x_0) \\frac{y_1-y_0}{x_1-x_0} $$\n",
        "then\n",
        "$$ y = y_0  \\left( 1- \\frac{x-x_0}{x_1-x_0}  \\right) + y_1 \\frac{x-x_0}{x_1-x_0} $$\n",
        "and considering that  normalized distances add to 1\n",
        "$$  \\frac{x-x_0}{x_1-x_0} +\\frac{x_1-x}{x_1-x_0} = 1 $$\n",
        "then\n",
        "$$  \\frac{x_1-x}{x_1-x_0} = 1 - \\frac{x-x_0}{x_1-x_0} $$\n",
        "therefore \n",
        "$$ y = y_0  \\left(\\frac{x_1-x}{x_1-x_0}\\right)  + y_1\\left(\\frac{x-x_0}{x_1-x_0} \\right)$$\n",
        "or \n",
        "$$ y = \\frac{y_0(x_1-x) + y_1 (x-x_0)}{x_1-x_0}$$"
      ]
    }
  ]
}