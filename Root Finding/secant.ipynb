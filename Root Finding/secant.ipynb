{
  "nbformat": 4,
  "nbformat_minor": 0,
  "metadata": {
    "colab": {
      "name": "secant.ipynb",
      "provenance": [],
      "collapsed_sections": [],
      "authorship_tag": "ABX9TyNMAhm4Tchu2tYhuf0xeKpr"
    },
    "kernelspec": {
      "name": "python3",
      "display_name": "Python 3"
    }
  },
  "cells": [
    {
      "cell_type": "markdown",
      "metadata": {
        "id": "U9A78yZj2wKb"
      },
      "source": [
        "# Secant method`"
      ]
    },
    {
      "cell_type": "code",
      "metadata": {
        "id": "1ujMvJmPCh1m"
      },
      "source": [
        "# https://www.math.ubc.ca/~pwalls/math-python/roots-optimization/secant/\n",
        "def secant(f,a,b,N):\n",
        "    '''Approximate solution of f(x)=0 on interval [a,b] by the secant method.\n",
        "\n",
        "    Parameters\n",
        "    ----------\n",
        "    f : function\n",
        "        The function for which we are trying to approximate a solution f(x)=0.\n",
        "    a,b : numbers\n",
        "        The interval in which to search for a solution. The function returns\n",
        "        None if f(a)*f(b) >= 0 since a solution is not guaranteed.\n",
        "    N : (positive) integer\n",
        "        The number of iterations to implement.\n",
        "\n",
        "    Returns\n",
        "    -------\n",
        "    m_N : number\n",
        "        The x intercept of the secant line on the the Nth interval\n",
        "            m_n = a_n - f(a_n)*(b_n - a_n)/(f(b_n) - f(a_n))\n",
        "        The initial interval [a_0,b_0] is given by [a,b]. If f(m_n) == 0\n",
        "        for some intercept m_n then the function returns this solution.\n",
        "        If all signs of values f(a_n), f(b_n) and f(m_n) are the same at any\n",
        "        iterations, the secant method fails and return None.\n",
        "\n",
        "    Examples\n",
        "    --------\n",
        "    >>> f = lambda x: x**2 - x - 1\n",
        "    >>> secant(f,1,2,5)\n",
        "    1.6180257510729614\n",
        "    '''\n",
        "    if f(a)*f(b) >= 0:\n",
        "        print(\"Secant method fails.\")\n",
        "        return None\n",
        "    a_n = a\n",
        "    b_n = b\n",
        "    for n in range(1,N+1):\n",
        "        m_n = a_n - f(a_n)*(b_n - a_n)/(f(b_n) - f(a_n))\n",
        "        f_m_n = f(m_n)\n",
        "        if f(a_n)*f_m_n < 0:\n",
        "            a_n = a_n\n",
        "            b_n = m_n\n",
        "        elif f(b_n)*f_m_n < 0:\n",
        "            a_n = m_n\n",
        "            b_n = b_n\n",
        "        elif f_m_n == 0:\n",
        "            print(\"Found exact solution.\")\n",
        "            return m_n\n",
        "        else:\n",
        "            print(\"Secant method fails.\")\n",
        "            return None\n",
        "        print(\"m_n \", m_n) \n",
        "    return a_n - f(a_n)*(b_n - a_n)/(f(b_n) - f(a_n))\n"
      ],
      "execution_count": 1,
      "outputs": []
    },
    {
      "cell_type": "code",
      "metadata": {
        "id": "xOtfo7aVC0rR",
        "outputId": "23a537cf-c935-468a-9fca-d882298a8860",
        "colab": {
          "base_uri": "https://localhost:8080/"
        }
      },
      "source": [
        "f = lambda x: x**2 - x - 1\n",
        "secant(f,1,2,10)"
      ],
      "execution_count": 2,
      "outputs": [
        {
          "output_type": "stream",
          "name": "stdout",
          "text": [
            "m_n  1.5\n",
            "m_n  1.6\n",
            "m_n  1.6153846153846154\n",
            "m_n  1.6176470588235294\n",
            "m_n  1.6179775280898876\n",
            "m_n  1.6180257510729614\n",
            "m_n  1.618032786885246\n",
            "m_n  1.6180338134001253\n",
            "m_n  1.6180339631667067\n",
            "m_n  1.618033985017358\n"
          ]
        },
        {
          "output_type": "execute_result",
          "data": {
            "text/plain": [
              "1.6180339882053252"
            ]
          },
          "metadata": {},
          "execution_count": 2
        }
      ]
    },
    {
      "cell_type": "code",
      "source": [
        "secant(f,-1,-1/2,100)"
      ],
      "metadata": {
        "colab": {
          "base_uri": "https://localhost:8080/"
        },
        "id": "fMS-BtYa9ZuP",
        "outputId": "6f67c5c9-4ad1-4acc-9b7a-1cd1c51633a9"
      },
      "execution_count": 3,
      "outputs": [
        {
          "output_type": "stream",
          "name": "stdout",
          "text": [
            "m_n  -0.6\n",
            "m_n  -0.6153846153846154\n",
            "m_n  -0.6176470588235294\n",
            "m_n  -0.6179775280898876\n",
            "m_n  -0.6180257510729614\n",
            "m_n  -0.6180327868852459\n",
            "m_n  -0.6180338134001253\n",
            "m_n  -0.6180339631667064\n",
            "m_n  -0.618033985017358\n",
            "m_n  -0.618033988205325\n",
            "m_n  -0.6180339886704431\n",
            "m_n  -0.6180339887383031\n",
            "m_n  -0.6180339887482037\n",
            "m_n  -0.6180339887496481\n",
            "m_n  -0.6180339887498589\n",
            "m_n  -0.6180339887498896\n",
            "m_n  -0.618033988749894\n",
            "m_n  -0.6180339887498947\n",
            "Found exact solution.\n"
          ]
        },
        {
          "output_type": "execute_result",
          "data": {
            "text/plain": [
              "-0.6180339887498949"
            ]
          },
          "metadata": {},
          "execution_count": 3
        }
      ]
    },
    {
      "cell_type": "code",
      "source": [
        "secant(f,-2,-1,100)"
      ],
      "metadata": {
        "colab": {
          "base_uri": "https://localhost:8080/"
        },
        "id": "J6Us7M409s3f",
        "outputId": "c250d15f-35b5-4f2b-9652-898f803c9ca3"
      },
      "execution_count": 4,
      "outputs": [
        {
          "output_type": "stream",
          "name": "stdout",
          "text": [
            "Secant method fails.\n"
          ]
        }
      ]
    }
  ]
}