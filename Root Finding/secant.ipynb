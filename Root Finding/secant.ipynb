{
  "nbformat": 4,
  "nbformat_minor": 0,
  "metadata": {
    "colab": {
      "name": "secant.ipynb",
      "provenance": []
    },
    "kernelspec": {
      "name": "python3",
      "display_name": "Python 3"
    }
  },
  "cells": [
    {
      "cell_type": "markdown",
      "metadata": {
        "id": "U9A78yZj2wKb"
      },
      "source": [
        "`# Secant method`"
      ]
    },
    {
      "cell_type": "code",
      "metadata": {
        "id": "1ujMvJmPCh1m"
      },
      "source": [
        "# https://www.math.ubc.ca/~pwalls/math-python/roots-optimization/secant/\n",
        "def secant(f,a,b,N):\n",
        "    '''Approximate solution of f(x)=0 on interval [a,b] by the secant method.\n",
        "\n",
        "    Parameters\n",
        "    ----------\n",
        "    f : function\n",
        "        The function for which we are trying to approximate a solution f(x)=0.\n",
        "    a,b : numbers\n",
        "        The interval in which to search for a solution. The function returns\n",
        "        None if f(a)*f(b) >= 0 since a solution is not guaranteed.\n",
        "    N : (positive) integer\n",
        "        The number of iterations to implement.\n",
        "\n",
        "    Returns\n",
        "    -------\n",
        "    m_N : number\n",
        "        The x intercept of the secant line on the the Nth interval\n",
        "            m_n = a_n - f(a_n)*(b_n - a_n)/(f(b_n) - f(a_n))\n",
        "        The initial interval [a_0,b_0] is given by [a,b]. If f(m_n) == 0\n",
        "        for some intercept m_n then the function returns this solution.\n",
        "        If all signs of values f(a_n), f(b_n) and f(m_n) are the same at any\n",
        "        iterations, the secant method fails and return None.\n",
        "\n",
        "    Examples\n",
        "    --------\n",
        "    >>> f = lambda x: x**2 - x - 1\n",
        "    >>> secant(f,1,2,5)\n",
        "    1.6180257510729614\n",
        "    '''\n",
        "    if f(a)*f(b) >= 0:\n",
        "        print(\"Secant method fails.\")\n",
        "        return None\n",
        "    a_n = a\n",
        "    b_n = b\n",
        "    for n in range(1,N+1):\n",
        "        m_n = a_n - f(a_n)*(b_n - a_n)/(f(b_n) - f(a_n))\n",
        "        f_m_n = f(m_n)\n",
        "        if f(a_n)*f_m_n < 0:\n",
        "            a_n = a_n\n",
        "            b_n = m_n\n",
        "        elif f(b_n)*f_m_n < 0:\n",
        "            a_n = m_n\n",
        "            b_n = b_n\n",
        "        elif f_m_n == 0:\n",
        "            print(\"Found exact solution.\")\n",
        "            return m_n\n",
        "        else:\n",
        "            print(\"Secant method fails.\")\n",
        "            return None\n",
        "    return a_n - f(a_n)*(b_n - a_n)/(f(b_n) - f(a_n))\n"
      ],
      "execution_count": 2,
      "outputs": []
    },
    {
      "cell_type": "code",
      "metadata": {
        "id": "xOtfo7aVC0rR",
        "outputId": "e0282099-b3d0-4618-ba50-7447120676de",
        "colab": {
          "base_uri": "https://localhost:8080/"
        }
      },
      "source": [
        "f = lambda x: x**2 - x - 1\n",
        "secant(f,1,2,10)"
      ],
      "execution_count": 4,
      "outputs": [
        {
          "output_type": "execute_result",
          "data": {
            "text/plain": [
              "1.6180339882053252"
            ]
          },
          "metadata": {
            "tags": []
          },
          "execution_count": 4
        }
      ]
    }
  ]
}