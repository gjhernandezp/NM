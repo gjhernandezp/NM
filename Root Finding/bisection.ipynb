{
  "nbformat": 4,
  "nbformat_minor": 0,
  "metadata": {
    "colab": {
      "name": "bisection.ipynb",
      "provenance": []
    },
    "kernelspec": {
      "name": "python3",
      "display_name": "Python 3"
    }
  },
  "cells": [
    {
      "cell_type": "markdown",
      "metadata": {
        "id": "iCTU9sCG1mzA"
      },
      "source": [
        "# Bisection method\n",
        "\n"
      ]
    },
    {
      "cell_type": "code",
      "metadata": {
        "id": "3iqFPBui2DU1",
        "outputId": "1af2b7c0-f392-4919-c879-4f5ef660f669",
        "colab": {
          "base_uri": "https://localhost:8080/"
        }
      },
      "source": [
        "# https://www.geeksforgeeks.org/program-for-bisection-method/\n",
        "# Python program for implementation \n",
        "# of Bisection Method for \n",
        "# solving equations \n",
        "  \n",
        "   \n",
        "# An example function whose \n",
        "# solution is determined using \n",
        "# Bisection Method. \n",
        "# The function is x^3 - x^2  + 2 \n",
        "\n",
        "import math\n",
        "def func(x): \n",
        "    return x*x*x - x*x + 2\n",
        "   \n",
        "# Prints root of func(x) \n",
        "# with error of EPSILON \n",
        "def bisection(a,b): \n",
        "  \n",
        "    if (func(a) * func(b) >= 0): \n",
        "        print(\"You have not assumed right a and b\\n\") \n",
        "        return\n",
        "   \n",
        "    c = a \n",
        "    while ((b-a) >= 0.01): \n",
        "  \n",
        "        # Find middle point \n",
        "        c = (a+b)/2\n",
        "   \n",
        "        # Check if middle point is root \n",
        "        if (func(c) == 0.0): \n",
        "            break\n",
        "   \n",
        "        # Decide the side to repeat the steps \n",
        "        if (func(c)*func(a) < 0): \n",
        "            b = c \n",
        "        else: \n",
        "            a = c \n",
        "        \n",
        "        print(\"c is : \",\"%.4f\"%c,\" a \", a,\" b \", b,\" |b-a| \", abs(b-a)) \n",
        "              \n",
        "    print(\"The value of root is : \",\"%.4f\"%c) \n",
        "\n",
        "      \n",
        "# Driver code \n",
        "# Initial values assumed \n",
        "a =-200\n",
        "b = 300\n",
        "bisection(a, b) \n",
        "  \n",
        "# This code is contributed \n",
        "# by Anant Agarwal. "
      ],
      "execution_count": null,
      "outputs": [
        {
          "output_type": "stream",
          "text": [
            "c is :  50.0000  a  -200  b  50.0  |b-a|  250.0\n",
            "c is :  -75.0000  a  -75.0  b  50.0  |b-a|  125.0\n",
            "c is :  -12.5000  a  -12.5  b  50.0  |b-a|  62.5\n",
            "c is :  18.7500  a  -12.5  b  18.75  |b-a|  31.25\n",
            "c is :  3.1250  a  -12.5  b  3.125  |b-a|  15.625\n",
            "c is :  -4.6875  a  -4.6875  b  3.125  |b-a|  7.8125\n",
            "c is :  -0.7812  a  -4.6875  b  -0.78125  |b-a|  3.90625\n",
            "c is :  -2.7344  a  -2.734375  b  -0.78125  |b-a|  1.953125\n",
            "c is :  -1.7578  a  -1.7578125  b  -0.78125  |b-a|  0.9765625\n",
            "c is :  -1.2695  a  -1.26953125  b  -0.78125  |b-a|  0.48828125\n",
            "c is :  -1.0254  a  -1.025390625  b  -0.78125  |b-a|  0.244140625\n",
            "c is :  -0.9033  a  -1.025390625  b  -0.9033203125  |b-a|  0.1220703125\n",
            "c is :  -0.9644  a  -1.025390625  b  -0.96435546875  |b-a|  0.06103515625\n",
            "c is :  -0.9949  a  -1.025390625  b  -0.994873046875  |b-a|  0.030517578125\n",
            "c is :  -1.0101  a  -1.0101318359375  b  -0.994873046875  |b-a|  0.0152587890625\n",
            "c is :  -1.0025  a  -1.00250244140625  b  -0.994873046875  |b-a|  0.00762939453125\n",
            "The value of root is :  -1.0025\n"
          ],
          "name": "stdout"
        }
      ]
    },
    {
      "cell_type": "code",
      "metadata": {
        "id": "PNT-vY2x2Pf-",
        "outputId": "4725c4b4-e626-4c56-ba23-6b72503da687",
        "colab": {
          "base_uri": "https://localhost:8080/"
        }
      },
      "source": [
        "def func( x ): \n",
        "    return (x-1) *(x-2) *(x-3)\n",
        "\n",
        "a = -300\n",
        "b = 300\n",
        "bisection(a, b)"
      ],
      "execution_count": null,
      "outputs": [
        {
          "output_type": "stream",
          "text": [
            "c is :  0.0000  a  0.0  b  300  |b-a|  300.0\n",
            "c is :  150.0000  a  0.0  b  150.0  |b-a|  150.0\n",
            "c is :  75.0000  a  0.0  b  75.0  |b-a|  75.0\n",
            "c is :  37.5000  a  0.0  b  37.5  |b-a|  37.5\n",
            "c is :  18.7500  a  0.0  b  18.75  |b-a|  18.75\n",
            "c is :  9.3750  a  0.0  b  9.375  |b-a|  9.375\n",
            "c is :  4.6875  a  0.0  b  4.6875  |b-a|  4.6875\n",
            "c is :  2.3438  a  2.34375  b  4.6875  |b-a|  2.34375\n",
            "c is :  3.5156  a  2.34375  b  3.515625  |b-a|  1.171875\n",
            "c is :  2.9297  a  2.9296875  b  3.515625  |b-a|  0.5859375\n",
            "c is :  3.2227  a  2.9296875  b  3.22265625  |b-a|  0.29296875\n",
            "c is :  3.0762  a  2.9296875  b  3.076171875  |b-a|  0.146484375\n",
            "c is :  3.0029  a  2.9296875  b  3.0029296875  |b-a|  0.0732421875\n",
            "c is :  2.9663  a  2.96630859375  b  3.0029296875  |b-a|  0.03662109375\n",
            "c is :  2.9846  a  2.984619140625  b  3.0029296875  |b-a|  0.018310546875\n",
            "c is :  2.9938  a  2.9937744140625  b  3.0029296875  |b-a|  0.0091552734375\n",
            "The value of root is :  2.9938\n"
          ],
          "name": "stdout"
        }
      ]
    },
    {
      "cell_type": "markdown",
      "metadata": {
        "id": "K0HHUZJTq55e"
      },
      "source": [
        ""
      ]
    }
  ]
}