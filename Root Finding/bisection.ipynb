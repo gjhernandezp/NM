{
  "nbformat": 4,
  "nbformat_minor": 0,
  "metadata": {
    "colab": {
      "name": "bisection.ipynb",
      "provenance": []
    },
    "kernelspec": {
      "name": "python3",
      "display_name": "Python 3"
    }
  },
  "cells": [
    {
      "cell_type": "markdown",
      "metadata": {
        "id": "iCTU9sCG1mzA"
      },
      "source": [
        "# Bisection method\n",
        "\n"
      ]
    },
    {
      "cell_type": "code",
      "metadata": {
        "id": "3iqFPBui2DU1",
        "outputId": "855cc0b8-583f-4658-b203-ed5c3c042163",
        "colab": {
          "base_uri": "https://localhost:8080/"
        }
      },
      "source": [
        "# Modified form https://www.geeksforgeeks.org/program-for-bisection-method/\n",
        "# Python program for implementation \n",
        "# of Bisection Method for \n",
        "# solving equations \n",
        "  \n",
        "   \n",
        "# An example function whose \n",
        "# solution is determined using \n",
        "# Bisection Method. \n",
        "# The function is x^3 - x^2  + 2 \n",
        "\n",
        "EPSILON = 0.00001\n",
        "MAXITER = 100000\n",
        "\n",
        "import math\n",
        "def func(x): \n",
        "    return x*x*x - x*x + 2\n",
        "   \n",
        "# Prints root of func(x) \n",
        "# with error of EPSILON \n",
        "def bisection(a,b): \n",
        "    \n",
        "    if (func(a) * func(b) >= 0): \n",
        "        print(\"You have not assumed right a and b\\n\") \n",
        "        return\n",
        "   \n",
        "    c = a \n",
        "    iter = 0\n",
        "    while ((b-a) >= EPSILON): \n",
        "  \n",
        "        # Find middle point \n",
        "        c = (a+b)/2\n",
        "   \n",
        "        # Check if middle point is root \n",
        "        if (func(c) == 0.0): \n",
        "            break\n",
        "   \n",
        "        # Decide the side to repeat the steps \n",
        "        if (func(c)*func(a) < 0): \n",
        "            b = c \n",
        "        else: \n",
        "            a = c \n",
        "        iter = iter + 1\n",
        "        if (iter > MAXITER):\n",
        "           break\n",
        "\n",
        "        print(\"c is : \",\"%.4f\"%c,\" a \", a,\" b \", b,\" |b-a| \", abs(b-a)) \n",
        "              \n",
        "    print(\"The value of root is : \",\"%.100f\"%c,\" iter \",iter) \n",
        "\n",
        "      \n",
        "# Driver code \n",
        "# Initial values assumed \n",
        "a =-200\n",
        "b = 300\n",
        "bisection(a, b) \n",
        "  \n",
        "# This code is contributed \n",
        "# by Anant Agarwal. "
      ],
      "execution_count": 39,
      "outputs": [
        {
          "output_type": "stream",
          "text": [
            "c is :  50.0000  a  -200  b  50.0  |b-a|  250.0\n",
            "c is :  -75.0000  a  -75.0  b  50.0  |b-a|  125.0\n",
            "c is :  -12.5000  a  -12.5  b  50.0  |b-a|  62.5\n",
            "c is :  18.7500  a  -12.5  b  18.75  |b-a|  31.25\n",
            "c is :  3.1250  a  -12.5  b  3.125  |b-a|  15.625\n",
            "c is :  -4.6875  a  -4.6875  b  3.125  |b-a|  7.8125\n",
            "c is :  -0.7812  a  -4.6875  b  -0.78125  |b-a|  3.90625\n",
            "c is :  -2.7344  a  -2.734375  b  -0.78125  |b-a|  1.953125\n",
            "c is :  -1.7578  a  -1.7578125  b  -0.78125  |b-a|  0.9765625\n",
            "c is :  -1.2695  a  -1.26953125  b  -0.78125  |b-a|  0.48828125\n",
            "c is :  -1.0254  a  -1.025390625  b  -0.78125  |b-a|  0.244140625\n",
            "c is :  -0.9033  a  -1.025390625  b  -0.9033203125  |b-a|  0.1220703125\n",
            "c is :  -0.9644  a  -1.025390625  b  -0.96435546875  |b-a|  0.06103515625\n",
            "c is :  -0.9949  a  -1.025390625  b  -0.994873046875  |b-a|  0.030517578125\n",
            "c is :  -1.0101  a  -1.0101318359375  b  -0.994873046875  |b-a|  0.0152587890625\n",
            "c is :  -1.0025  a  -1.00250244140625  b  -0.994873046875  |b-a|  0.00762939453125\n",
            "c is :  -0.9987  a  -1.00250244140625  b  -0.998687744140625  |b-a|  0.003814697265625\n",
            "c is :  -1.0006  a  -1.0005950927734375  b  -0.998687744140625  |b-a|  0.0019073486328125\n",
            "c is :  -0.9996  a  -1.0005950927734375  b  -0.9996414184570312  |b-a|  0.00095367431640625\n",
            "c is :  -1.0001  a  -1.0001182556152344  b  -0.9996414184570312  |b-a|  0.000476837158203125\n",
            "c is :  -0.9999  a  -1.0001182556152344  b  -0.9998798370361328  |b-a|  0.0002384185791015625\n",
            "c is :  -1.0000  a  -1.0001182556152344  b  -0.9999990463256836  |b-a|  0.00011920928955078125\n",
            "c is :  -1.0001  a  -1.000058650970459  b  -0.9999990463256836  |b-a|  5.9604644775390625e-05\n",
            "c is :  -1.0000  a  -1.0000288486480713  b  -0.9999990463256836  |b-a|  2.9802322387695312e-05\n",
            "c is :  -1.0000  a  -1.0000139474868774  b  -0.9999990463256836  |b-a|  1.4901161193847656e-05\n",
            "c is :  -1.0000  a  -1.0000064969062805  b  -0.9999990463256836  |b-a|  7.450580596923828e-06\n",
            "The value of root is :  -1.0000064969062805175781250000000000000000000000000000000000000000000000000000000000000000000000000000  iter  26\n"
          ],
          "name": "stdout"
        }
      ]
    },
    {
      "cell_type": "code",
      "metadata": {
        "id": "PNT-vY2x2Pf-",
        "outputId": "70153d25-6d36-4d4b-961c-6e47bc76d2e7",
        "colab": {
          "base_uri": "https://localhost:8080/"
        }
      },
      "source": [
        "def func( x ): \n",
        "    return (x-1) *(x-2) *(x-3)\n",
        "\n",
        "a = -610\n",
        "b = 530\n",
        "bisection(a, b)"
      ],
      "execution_count": 40,
      "outputs": [
        {
          "output_type": "stream",
          "text": [
            "c is :  -40.0000  a  -40.0  b  530  |b-a|  570.0\n",
            "c is :  245.0000  a  -40.0  b  245.0  |b-a|  285.0\n",
            "c is :  102.5000  a  -40.0  b  102.5  |b-a|  142.5\n",
            "c is :  31.2500  a  -40.0  b  31.25  |b-a|  71.25\n",
            "c is :  -4.3750  a  -4.375  b  31.25  |b-a|  35.625\n",
            "c is :  13.4375  a  -4.375  b  13.4375  |b-a|  17.8125\n",
            "c is :  4.5312  a  -4.375  b  4.53125  |b-a|  8.90625\n",
            "c is :  0.0781  a  0.078125  b  4.53125  |b-a|  4.453125\n",
            "c is :  2.3047  a  2.3046875  b  4.53125  |b-a|  2.2265625\n",
            "c is :  3.4180  a  2.3046875  b  3.41796875  |b-a|  1.11328125\n",
            "c is :  2.8613  a  2.861328125  b  3.41796875  |b-a|  0.556640625\n",
            "c is :  3.1396  a  2.861328125  b  3.1396484375  |b-a|  0.2783203125\n",
            "c is :  3.0005  a  2.861328125  b  3.00048828125  |b-a|  0.13916015625\n",
            "c is :  2.9309  a  2.930908203125  b  3.00048828125  |b-a|  0.069580078125\n",
            "c is :  2.9657  a  2.9656982421875  b  3.00048828125  |b-a|  0.0347900390625\n",
            "c is :  2.9831  a  2.98309326171875  b  3.00048828125  |b-a|  0.01739501953125\n",
            "c is :  2.9918  a  2.991790771484375  b  3.00048828125  |b-a|  0.008697509765625\n",
            "c is :  2.9961  a  2.9961395263671875  b  3.00048828125  |b-a|  0.0043487548828125\n",
            "c is :  2.9983  a  2.9983139038085938  b  3.00048828125  |b-a|  0.00217437744140625\n",
            "c is :  2.9994  a  2.999401092529297  b  3.00048828125  |b-a|  0.001087188720703125\n",
            "c is :  2.9999  a  2.9999446868896484  b  3.00048828125  |b-a|  0.0005435943603515625\n",
            "c is :  3.0002  a  2.9999446868896484  b  3.000216484069824  |b-a|  0.00027179718017578125\n",
            "c is :  3.0001  a  2.9999446868896484  b  3.0000805854797363  |b-a|  0.00013589859008789062\n",
            "c is :  3.0000  a  2.9999446868896484  b  3.0000126361846924  |b-a|  6.794929504394531e-05\n",
            "c is :  3.0000  a  2.9999786615371704  b  3.0000126361846924  |b-a|  3.3974647521972656e-05\n",
            "c is :  3.0000  a  2.9999956488609314  b  3.0000126361846924  |b-a|  1.6987323760986328e-05\n",
            "c is :  3.0000  a  2.9999956488609314  b  3.000004142522812  |b-a|  8.493661880493164e-06\n",
            "The value of root is :  3.0000041425228118896484375000000000000000000000000000000000000000000000000000000000000000000000000000  iter  27\n"
          ],
          "name": "stdout"
        }
      ]
    },
    {
      "cell_type": "code",
      "metadata": {
        "id": "XDwy-Vgiq4WW"
      },
      "source": [
        "import math\n",
        "def f(x):\n",
        "    return (math.exp(math.sin(x**2)) - 1)"
      ],
      "execution_count": 41,
      "outputs": []
    },
    {
      "cell_type": "code",
      "metadata": {
        "id": "UoSptuLMq4JX",
        "outputId": "b19c1688-b8c3-407a-c67d-048b3adc67c3",
        "colab": {
          "base_uri": "https://localhost:8080/"
        }
      },
      "source": [
        "from scipy import optimize\n",
        "root = optimize.bisect(f,1, 2)\n",
        "root"
      ],
      "execution_count": 42,
      "outputs": [
        {
          "output_type": "execute_result",
          "data": {
            "text/plain": [
              "1.7724538509046397"
            ]
          },
          "metadata": {
            "tags": []
          },
          "execution_count": 42
        }
      ]
    },
    {
      "cell_type": "markdown",
      "metadata": {
        "id": "K0HHUZJTq55e"
      },
      "source": [
        ""
      ]
    }
  ]
}