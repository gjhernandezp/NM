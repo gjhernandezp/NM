{
  "nbformat": 4,
  "nbformat_minor": 0,
  "metadata": {
    "colab": {
      "name": "falseposition.ipynb",
      "provenance": []
    },
    "kernelspec": {
      "name": "python3",
      "display_name": "Python 3"
    }
  },
  "cells": [
    {
      "cell_type": "markdown",
      "metadata": {
        "id": "yuNE9FWw0Zay"
      },
      "source": [
        "# False position (regula falsi)  method"
      ]
    },
    {
      "cell_type": "code",
      "metadata": {
        "id": "Y38AV5Wnqmrn"
      },
      "source": [
        "# https://www.geeksforgeeks.org/program-for-method-of-false-position/\n",
        "# Python3 implementation of Bisection \n",
        "# Method for solving equations \n",
        "  \n",
        "MAX_ITER = 1000000\n",
        "  \n",
        "# An example function whose solution \n",
        "# is determined using Bisection Method.  \n",
        "# The function is x^3 - x^2 + 2 \n",
        "def func( x ): \n",
        "    return (x * x * x - x * x + 2) \n",
        "  \n",
        "# Prints root of func(x) in interval [a, b] \n",
        "def regulaFalsi( a , b): \n",
        "    if func(a) * func(b) >= 0: \n",
        "        print(\"You have not assumed right a and b\") \n",
        "        return -1\n",
        "      \n",
        "    c = a # Initialize result \n",
        "      \n",
        "    for i in range(MAX_ITER): \n",
        "          \n",
        "        # Find the point that touches x axis \n",
        "        c = (a * func(b) - b * func(a))/ (func(b) - func(a)) \n",
        "          \n",
        "        # Check if the above found point is root \n",
        "        if func(c) == 0: \n",
        "            break\n",
        "          \n",
        "        # Decide the side to repeat the steps \n",
        "        elif func(c) * func(a) < 0: \n",
        "            b = c \n",
        "        else: \n",
        "            a = c\n",
        "\n",
        "        #print(\"c is : \",\"%.4f\"%c,\" a \", a,\" b \", b,\" |b-a| \", abs(b-a)) \n",
        "\n",
        "    print(\"The value of root is : \" , '%.4f' %c)\n",
        "    print(i) \n",
        "  \n",
        "# This code is contributed by \"Sharad_Bhardwaj\". "
      ],
      "execution_count": null,
      "outputs": []
    },
    {
      "cell_type": "code",
      "metadata": {
        "id": "vO4gVQey8Xmv",
        "outputId": "8675ab8d-47d1-4d07-b2fb-36b99a355fdb",
        "colab": {
          "base_uri": "https://localhost:8080/"
        }
      },
      "source": [
        "# Driver code to test above function \n",
        "# Initial values assumed \n",
        "a =-200\n",
        "b = 300\n",
        "regulaFalsi(a, b) "
      ],
      "execution_count": 47,
      "outputs": [
        {
          "output_type": "stream",
          "text": [
            "The value of root is :  -1.0000\n",
            "999999\n"
          ],
          "name": "stdout"
        }
      ]
    },
    {
      "cell_type": "code",
      "metadata": {
        "id": "A1uA2eFZ0l12",
        "outputId": "896acc57-3cf4-42cf-8a27-591c89211dac",
        "colab": {
          "base_uri": "https://localhost:8080/"
        }
      },
      "source": [
        "MAX_ITER = 1000000\n",
        "\n",
        "def func( x ): \n",
        "    return (x-1) *(x-2) *(x-3)\n",
        "  \n",
        " \n",
        "\n",
        "a = 1.000001\n",
        "b = 2.9999999\n",
        "regulaFalsi(a, b)"
      ],
      "execution_count": 48,
      "outputs": [
        {
          "output_type": "stream",
          "text": [
            "The value of root is :  2.0000\n",
            "11\n"
          ],
          "name": "stdout"
        }
      ]
    },
    {
      "cell_type": "markdown",
      "metadata": {
        "id": "K0HHUZJTq55e"
      },
      "source": [
        ""
      ]
    }
  ]
}