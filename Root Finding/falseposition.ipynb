{
  "nbformat": 4,
  "nbformat_minor": 0,
  "metadata": {
    "colab": {
      "name": "falseposition.ipynb",
      "provenance": []
    },
    "kernelspec": {
      "name": "python3",
      "display_name": "Python 3"
    }
  },
  "cells": [
    {
      "cell_type": "markdown",
      "metadata": {
        "id": "yuNE9FWw0Zay"
      },
      "source": [
        "# False position (regula falsi)  method"
      ]
    },
    {
      "cell_type": "code",
      "metadata": {
        "id": "Y38AV5Wnqmrn"
      },
      "source": [
        "# https://www.geeksforgeeks.org/program-for-method-of-false-position/\n",
        "# Python3 implementation of Bisection \n",
        "# Method for solving equations \n",
        "  \n",
        "MAX_ITER = 1000000\n",
        "  \n",
        "# An example function whose solution \n",
        "# is determined using Bisection Method.  \n",
        "# The function is x^3 - x^2 + 2 \n",
        "def func( x ): \n",
        "    return (x * x * x - x * x + 2) \n",
        "  \n",
        "# Prints root of func(x) in interval [a, b] \n",
        "def regulaFalsi( a , b): \n",
        "    if func(a) * func(b) >= 0: \n",
        "        print(\"You have not assumed right a and b\") \n",
        "        return -1\n",
        "      \n",
        "    c = a # Initialize result \n",
        "      \n",
        "    for i in range(MAX_ITER): \n",
        "          \n",
        "        # Find the point that touches x axis \n",
        "        c = (a * func(b) - b * func(a))/ (func(b) - func(a)) \n",
        "          \n",
        "        # Check if the above found point is root \n",
        "        if func(c) == 0: \n",
        "            break\n",
        "          \n",
        "        # Decide the side to repeat the steps \n",
        "        elif func(c) * func(a) < 0: \n",
        "            b = c \n",
        "        else: \n",
        "            a = c\n",
        "\n",
        "        print(\"c is : \",\"%.4f\"%c,\" a \", a,\" b \", b,\" |b-a| \", abs(b-a)) \n",
        "\n",
        "    print(\"The value of root is : \" , '%.4f' %c, )\n",
        "    print(i) \n",
        "  \n",
        "# This code is contributed by \"Sharad_Bhardwaj\". "
      ],
      "execution_count": null,
      "outputs": []
    },
    {
      "cell_type": "code",
      "metadata": {
        "id": "vO4gVQey8Xmv",
        "outputId": "0d1f1f83-5f48-4606-8927-984c23c77261",
        "colab": {
          "base_uri": "https://localhost:8080/"
        }
      },
      "source": [
        "# Driver code to test above function \n",
        "# Initial values assumed \n",
        "a = -2\n",
        "b = 0\n",
        "regulaFalsi(a, b) "
      ],
      "execution_count": null,
      "outputs": [
        {
          "output_type": "stream",
          "text": [
            "The value of root is :  -1.0000\n",
            "999999\n"
          ],
          "name": "stdout"
        }
      ]
    },
    {
      "cell_type": "code",
      "metadata": {
        "id": "A1uA2eFZ0l12",
        "outputId": "e12ffb68-e063-4203-e526-232dfc586dab",
        "colab": {
          "base_uri": "https://localhost:8080/"
        }
      },
      "source": [
        "MAX_ITER = 1000000\n",
        "\n",
        "def func( x ): \n",
        "    return (x-1) *(x-2) *(x-3)\n",
        "  \n",
        "a = 1.6\n",
        "b = 2.4\n",
        "regulaFalsi(a, b)"
      ],
      "execution_count": null,
      "outputs": [
        {
          "output_type": "stream",
          "text": [
            "The value of root is :  2.0000\n",
            "0\n"
          ],
          "name": "stdout"
        }
      ]
    },
    {
      "cell_type": "code",
      "metadata": {
        "id": "ebhxPnz9yzwQ",
        "outputId": "c784a9d7-3a65-4eca-b2c3-bc843a632377",
        "colab": {
          "base_uri": "https://localhost:8080/"
        }
      },
      "source": [
        "# Modified form https://www.geeksforgeeks.org/program-for-bisection-method/\n",
        "# Python program for implementation \n",
        "# of  Method for \n",
        "# solving equations \n",
        "  \n",
        "   \n",
        "# An example function whose \n",
        "# solution is determined using \n",
        "# Bisection Method. \n",
        "# The function is x^3 - x^2  + 2 \n",
        "\n",
        "EPSILON = 0.00001\n",
        "MAXITER = 100000\n",
        "\n",
        "import math\n",
        "def func(x): \n",
        "    return x*x*x - x*x + 2\n",
        "   \n",
        "# Prints root of func(x) \n",
        "# with error of EPSILON \n",
        "def regulaFalsi(a,b): \n",
        "    \n",
        "    if (func(a) * func(b) >= 0): \n",
        "        print(\"You have not assumed right a and b\\n\") \n",
        "        return\n",
        "   \n",
        "    c = a \n",
        "    iter = 0\n",
        "    while ((b-a) >= EPSILON): \n",
        "  \n",
        "        # Find middle point \n",
        "        c = (a * func(b) - b * func(a))/ (func(b) - func(a)) \n",
        "   \n",
        "        # Check if middle point is root \n",
        "        if (func(c) == 0.0): \n",
        "            break\n",
        "   \n",
        "        # Decide the side to repeat the steps \n",
        "        if (func(c)*func(a) < 0): \n",
        "            b = c \n",
        "        else: \n",
        "            a = c \n",
        "        iter = iter + 1\n",
        "        if (iter > MAXITER):\n",
        "           break\n",
        "\n",
        "        #print(\"c is : \",\"%.4f\"%c,\" a \", a,\" b \", b,\" |b-a| \", abs(b-a)) \n",
        "              \n",
        "    print(\"The value of root is : \",\"%.100f\"%c,\" iter \",iter) \n",
        "\n",
        "      \n",
        "# Driver code \n",
        "# Initial values assumed \n",
        "a =-200\n",
        "b = 300\n",
        "regulaFalsi(a, b) \n",
        "  \n",
        "# This code is contributed \n",
        "# by Anant Agarwal. "
      ],
      "execution_count": 17,
      "outputs": [
        {
          "output_type": "stream",
          "text": [
            "The value of root is :  -1.0032768956736199950086074750288389623165130615234375000000000000000000000000000000000000000000000000  iter  100001\n"
          ],
          "name": "stdout"
        }
      ]
    },
    {
      "cell_type": "code",
      "metadata": {
        "id": "HZc4qt65AmnP",
        "outputId": "603de389-9b25-4612-c0da-c2290b406bcf",
        "colab": {
          "base_uri": "https://localhost:8080/"
        }
      },
      "source": [
        "MAXITER = 1000000\n",
        "def func( x ): \n",
        "    return (x-1) *(x-2) *(x-3)\n",
        "  \n",
        "a = -200\n",
        "b = 300\n",
        "regulaFalsi(a, b)"
      ],
      "execution_count": 20,
      "outputs": [
        {
          "output_type": "stream",
          "text": [
            "The value of root is :  0.9999999999241724335519165833829902112483978271484375000000000000000000000000000000000000000000000000  iter  1000001\n"
          ],
          "name": "stdout"
        }
      ]
    },
    {
      "cell_type": "markdown",
      "metadata": {
        "id": "K0HHUZJTq55e"
      },
      "source": [
        ""
      ]
    }
  ]
}