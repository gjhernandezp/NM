{
  "nbformat": 4,
  "nbformat_minor": 0,
  "metadata": {
    "colab": {
      "name": "e_to_x_animate_interact.ipynb",
      "provenance": [],
      "collapsed_sections": [],
      "authorship_tag": "ABX9TyOfk0VDixuVvMuezrd37xCP"
    },
    "kernelspec": {
      "name": "python3",
      "display_name": "Python 3"
    },
    "language_info": {
      "name": "python"
    }
  },
  "cells": [
    {
      "cell_type": "markdown",
      "metadata": {
        "id": "iAzrOBY3R_Lw"
      },
      "source": [
        "Interact code in Sagemath for $e^x$\n",
        "\n",
        "```python\n",
        "# Interact Taylor Series of $$f(x) = e^x$$\n",
        "# Explanatory example: Taylor Series – wiki.sagemath.org/interact https://wiki.sagemath.org/interact\n",
        "x   = SR.var('x')\n",
        "x0  = 0\n",
        "f   = e^(x)\n",
        "p   = plot(f, -20, 20, thickness=2)\n",
        "dot = point((x0, f(x=x0)), pointsize=80, rgbcolor=(1, 0, 0))\n",
        "\n",
        "@interact\n",
        "def _(order=slider([0 .. 12])):\n",
        "  ft = f.taylor(x, x0, order)\n",
        "  pt = plot(ft, -20, 20, color='green', thickness=2)\n",
        "  pretty_print(html(r'$f(x)\\;=\\;%s$' % latex(f)))\n",
        "  pretty_print(html(r'$\\hat{f}(x;%s)\\;=\\;%s+\\mathcal{O}(x^{%s})$' % (x0, latex(ft), order+1)))\n",
        "  show(dot + p + pt, ymin=-1, ymax=10)\n",
        "```"
      ]
    },
    {
      "cell_type": "markdown",
      "metadata": {
        "id": "orXva0RVSbEv"
      },
      "source": [
        "Animate code in Sagemath for $e^x$\n",
        "```python\n",
        "# Animate  Taylor Series of $$f(x) = e^x$$\n",
        "# MCS 320: Introduction to Symbolic Computation - Jan Verschelde, Mathematics, U. Illinois at Chicago  –\n",
        "# http://homepages.math.uic.edu/~jan/mcs320/mcs320notes/lec27.html#\n",
        "x   = SR.var('x')\n",
        "x0  = 0\n",
        "f   = e^(x)\n",
        "p   = plot(f, -3, 3, thickness=2,legend_label='f(x) = e^x')\n",
        "dot = point((x0, f(x=x0)), pointsize=80, rgbcolor=(1, 0, 0))\n",
        "ptaylor = [plot(f.taylor(x, x0, order), -3,3, color='green', thickness=2, legend_label= \"Taylor \" + str(order) +\": \"+ str(f.taylor(x, x0, order))) for order in range(5)]\n",
        "\n",
        "frames = [p+dot+ptaylor[int(order/12)] for order in range(60)]\n",
        "a = animate(frames, ymin=-10, ymax=10)\n",
        "a.show()\n",
        "a.save('e_to_x_taylor_animation_1.gif')\n",
        "```"
      ]
    },
    {
      "cell_type": "markdown",
      "metadata": {
        "id": "B9kyr3YTRY15"
      },
      "source": [
        " ![Taylor gif](https://raw.githubusercontent.com/gjhernandezp/NM/main/Taylor%20Series/e_to_x_taylor_animation_1.gif)"
      ]
    },
    {
      "cell_type": "markdown",
      "metadata": {
        "id": "XNfdGKC-6VXq"
      },
      "source": [
        "```python\n",
        "x   = SR.var('x')\n",
        "x0  = 0\n",
        "f   = e^(x)\n",
        "p   = plot(f, -6, 6, thickness=2,legend_label='f(x) = e^x')\n",
        "dot = point((x0, f(x=x0)), pointsize=80, rgbcolor=(1, 0, 0))\n",
        "ptaylor = [plot(f.taylor(x, x0, order), -6,6, color='green', thickness=2, legend_label= \"Taylor \" + str(order) +\": \"+ str(f.taylor(x, x0, order))) for order in range(5,9)]\n",
        "\n",
        "frames = [p+dot+ptaylor[int(order/12)] for order in range(48)]\n",
        "a = animate(frames, ymin=-100, ymax=100)\n",
        "a.show()\n",
        "a.save('e_to_x_taylor_animation_2.gif')\n",
        "```"
      ]
    },
    {
      "cell_type": "markdown",
      "metadata": {
        "id": "SnRLqIHt6h9S"
      },
      "source": [
        " ![Taylor gif](https://raw.githubusercontent.com/gjhernandezp/NM/main/Taylor%20Series/e_to_x_taylor_animation_2.gif)"
      ]
    }
  ]
}