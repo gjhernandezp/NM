{
  "nbformat": 4,
  "nbformat_minor": 0,
  "metadata": {
    "colab": {
      "name": "UNCode_Quiz_Taylor_Exponential.ipynb",
      "provenance": [],
      "collapsed_sections": []
    },
    "kernelspec": {
      "name": "python3",
      "display_name": "Python 3"
    },
    "language_info": {
      "name": "python"
    }
  },
  "cells": [
    {
      "cell_type": "markdown",
      "metadata": {
        "id": "3vUhQTJdGE-8"
      },
      "source": [
        "#**Approximating the exponential function $e^x$ with its Taylor series about $0$** \n",
        "\n",
        "In this task you're asked to find the first (min)  $n$ such that $n+1$-th term of the Taylor series for $e^x$ about $0$ (Maclaurin  series) is in absolute value less than $\\epsilon$ and approximate the exponential funtion $e^x$ with  $n+1$ terms.\n",
        "\n",
        "**Taylor series of $e^x$ about $0$ (Maclaurin  series)**\n",
        "\n",
        "$$e^x = \\sum_{i=0}^{\\infty} \\frac{x^{i}}{i!}$$\n",
        "\n",
        "**Find $n$**\n",
        "\n",
        "$$\\min_{n \\in \\mathbb{N}}\\left|\\frac{x^{n+1}}{(n+1)!}\\right| < \\epsilon$$\n",
        "\n",
        "**Approximate $e^x$**\n",
        "\n",
        "$$e^x \\approx \\sum_{i=0}^{n+1} \\frac{x^{i}}{i!}$$\n",
        "\n",
        "\n",
        "**Correctness and efficiency**\n",
        "The solution should work correctly for negative $x$ and in $\\Theta(n)$ FLOPs.\n",
        "\n"
      ]
    },
    {
      "cell_type": "markdown",
      "source": [
        "---\n",
        "\n",
        "###**Problem Description**\n",
        "\n",
        "**Task:** Given $x$ and $\\epsilon$ float numbers retrun the first (min) $n$ such that $n+1$-th term of the Taylor series for $e^x$ about $0$ (Maclaurin  series) is in absolute value less than $\\epsilon$ and approximate the logarithm funtion $e^x$ with $n+1$ terms.\n",
        "\n",
        "---\n",
        "\n",
        "**Input Format:** $x$  and $\\epsilon$ float numbers.\n",
        "\n",
        "**Constraints:** $-700< x < 700 $ and $0< \\epsilon < 1 $.\n",
        "\n",
        "**Output Format:** the first (min) $n$ such that $n+1$-th term of the Taylor series for $e^x$ about $0$ (Maclaurin  series) is in absolute value less than $\\epsilon$ and the approximation $e^x$ with  $n+1$ terms.\n",
        "\n",
        "---"
      ],
      "metadata": {
        "id": "Oa6xK7Z1QPF3"
      }
    },
    {
      "cell_type": "markdown",
      "metadata": {
        "id": "PjiZC1byHqJu"
      },
      "source": [
        "**Sample testcase**\n",
        "\n",
        "```python\n",
        "#run this sample textcase on a cell to help you validate your solution\n",
        "\n",
        "Taylor_e_to_x_nterm_plus_one_less_epsilon(x=35,epsilon=10**(-20))\n",
        "\n",
        "#  --> Expected output: (132, 1586013452313431.2)\n",
        "\n",
        "Taylor_e_to_x_nterm_plus_one_less_epsilon(x=35,epsilon=10**(-20))\n",
        "\n",
        "#  --> Expected output: (132, 6.305116760146987e-16)\n",
        "```\n",
        "\n",
        "---"
      ]
    },
    {
      "cell_type": "markdown",
      "metadata": {
        "id": "DJ_bHorAF-Ip"
      },
      "source": [
        "**Solution**"
      ]
    },
    {
      "cell_type": "code",
      "metadata": {
        "id": "z5XnTHML__l6"
      },
      "source": [
        "# Retunrs Min n, |x^{n+1}/(n+1)!| < epsilon and ∑_{i=1}^{n+1}  x^i/i!\n",
        "import math\n",
        "\n",
        "def Taylor_e_to_x_nterm_plus_one_less_epsilon(x, epsilon):\n",
        "  \n",
        "   n = 0\n",
        "   e_to_x = 0\n",
        "\n",
        "  #Your code goes here\n",
        "\n",
        "  return n,e_to_x  #DO NOT change this line. Output will be read as a tuple."
      ],
      "execution_count": null,
      "outputs": []
    }
  ]
}