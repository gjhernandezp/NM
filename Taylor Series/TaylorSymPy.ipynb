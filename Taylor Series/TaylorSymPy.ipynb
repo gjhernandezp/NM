{
  "nbformat": 4,
  "nbformat_minor": 0,
  "metadata": {
    "colab": {
      "name": "TaylorSymPy.ipynb",
      "provenance": [],
      "collapsed_sections": [],
      "authorship_tag": "ABX9TyM6QiX1PexT4GK3OcpPMFLF"
    },
    "kernelspec": {
      "name": "python3",
      "display_name": "Python 3"
    },
    "language_info": {
      "name": "python"
    }
  },
  "cells": [
    {
      "cell_type": "markdown",
      "metadata": {
        "id": "L7h6aPeNOc_p"
      },
      "source": [
        "Taylor Series Expansion with Python from Data Science Fabric \n",
        "\n",
        "https://dsfabric.org/taylor-series-expansion-with-python"
      ]
    },
    {
      "cell_type": "code",
      "metadata": {
        "id": "bvdPNIdZOYeH"
      },
      "source": [
        "from sympy import series, Symbol, pi, E\n",
        "from sympy.functions import  cos, exp\n",
        "from sympy.plotting import plot\n",
        "import matplotlib.pyplot as plt"
      ],
      "execution_count": null,
      "outputs": []
    },
    {
      "cell_type": "code",
      "metadata": {
        "id": "o7S1pvB8OfzJ"
      },
      "source": [
        "# Define symbol\n",
        "x = Symbol('x')"
      ],
      "execution_count": null,
      "outputs": []
    },
    {
      "cell_type": "code",
      "metadata": {
        "id": "WbzChBNdOhsJ"
      },
      "source": [
        "# Function for Taylor Series Expansion\n",
        "\n",
        "def taylor(function, x0, n):\n",
        "    \"\"\"\n",
        "    Parameter \"function\" is our function which we want to approximate\n",
        "    \"x0\" is the point where to approximate\n",
        "    \"n\" is the order of approximation\n",
        "    \"\"\"\n",
        "    return function.series(x,x0,n)"
      ],
      "execution_count": null,
      "outputs": []
    },
    {
      "cell_type": "code",
      "metadata": {
        "colab": {
          "base_uri": "https://localhost:8080/"
        },
        "id": "PkSgrGYeOkzg",
        "outputId": "eda3e622-1309-4a10-a5b6-6343b9d0f55a"
      },
      "source": [
        "print('cos(x) ≅', taylor(cos(x), 0, 10))\n",
        "\n",
        "print('e(x) ≅', taylor(exp(x), 0, 8))"
      ],
      "execution_count": null,
      "outputs": [
        {
          "output_type": "stream",
          "name": "stdout",
          "text": [
            "cos(x) ≅ 1 - x**2/2 + x**4/24 - x**6/720 + x**8/40320 + O(x**10)\n",
            "e(x) ≅ 1 + x + x**2/2 + x**3/6 + x**4/24 + x**5/120 + x**6/720 + x**7/5040 + O(x**8)\n"
          ]
        }
      ]
    },
    {
      "cell_type": "code",
      "metadata": {
        "colab": {
          "base_uri": "https://localhost:8080/"
        },
        "id": "Mfg7kzgUdfY7",
        "outputId": "ea4bf53a-6584-482d-9ecf-2b0af584d752"
      },
      "source": [
        "print('cos(x) ≅', taylor(cos(x), pi/4, 10))\n",
        "\n",
        "print('e(x) ≅', taylor(exp(x), E, 8))"
      ],
      "execution_count": null,
      "outputs": [
        {
          "output_type": "stream",
          "name": "stdout",
          "text": [
            "cos(x) ≅ sqrt(2)/2 - sqrt(2)*(x - pi/4)/2 - sqrt(2)*(x - pi/4)**2/4 + sqrt(2)*(x - pi/4)**3/12 + sqrt(2)*(x - pi/4)**4/48 - sqrt(2)*(x - pi/4)**5/240 - sqrt(2)*(x - pi/4)**6/1440 + sqrt(2)*(x - pi/4)**7/10080 + sqrt(2)*(x - pi/4)**8/80640 - sqrt(2)*(x - pi/4)**9/725760 + O((x - pi/4)**10, (x, pi/4))\n",
            "e(x) ≅ exp(E) + (x - E)*exp(E) + (x - E)**2*exp(E)/2 + (x - E)**3*exp(E)/6 + (x - E)**4*exp(E)/24 + (x - E)**5*exp(E)/120 + (x - E)**6*exp(E)/720 + (x - E)**7*exp(E)/5040 + O((x - E)**8, (x, E))\n"
          ]
        }
      ]
    },
    {
      "cell_type": "code",
      "metadata": {
        "id": "vH1e_kjw16CT",
        "colab": {
          "base_uri": "https://localhost:8080/"
        },
        "outputId": "b8006f24-1768-4049-8b11-73829278a9c1"
      },
      "source": [
        "print('cos(1) =', taylor(cos(x), 0, 4).subs(x,1))\n",
        "\n",
        "print('e(1) =', taylor(exp(x), 0, 4).subs(x,1))"
      ],
      "execution_count": null,
      "outputs": [
        {
          "output_type": "stream",
          "name": "stdout",
          "text": [
            "cos(1) = O(1)\n",
            "e(1) = O(1)\n"
          ]
        }
      ]
    },
    {
      "cell_type": "code",
      "metadata": {
        "id": "UTzLSXhx1YZj"
      },
      "source": [
        "# Function for Taylor Series Expansion\n",
        "\n",
        "def taylor(function, x0, n):\n",
        "    \"\"\"\n",
        "    Parameter \"function\" is our function which we want to approximate\n",
        "    \"x0\" is the point where to approximate\n",
        "    \"n\" is the order of approximation\n",
        "    \"\"\"\n",
        "    return function.series(x,x0,n).removeO()"
      ],
      "execution_count": null,
      "outputs": []
    },
    {
      "cell_type": "code",
      "metadata": {
        "colab": {
          "base_uri": "https://localhost:8080/"
        },
        "id": "augWbRv-ez5b",
        "outputId": "76c0a15d-68ef-4fd6-ba55-ff5ab6dc1a05"
      },
      "source": [
        "print('cos(x) ≅', taylor(cos(x), 0, 10))\n",
        "\n",
        "print('e(x) ≅', taylor(exp(x), 0, 8))"
      ],
      "execution_count": null,
      "outputs": [
        {
          "output_type": "stream",
          "name": "stdout",
          "text": [
            "cos(x) ≅ x**8/40320 - x**6/720 + x**4/24 - x**2/2 + 1\n",
            "e(x) ≅ x**7/5040 + x**6/720 + x**5/120 + x**4/24 + x**3/6 + x**2/2 + x + 1\n"
          ]
        }
      ]
    },
    {
      "cell_type": "code",
      "metadata": {
        "colab": {
          "base_uri": "https://localhost:8080/"
        },
        "id": "_Y8FSrb9OpXo",
        "outputId": "679a91eb-9f0e-4862-9e72-68902db6056d"
      },
      "source": [
        "print('cos(1) =', taylor(cos(x), 0, 4).subs(x,1))\n",
        "\n",
        "print('e(1) =', taylor(exp(x), 0, 4).subs(x,1))"
      ],
      "execution_count": null,
      "outputs": [
        {
          "output_type": "stream",
          "name": "stdout",
          "text": [
            "cos(1) = 1/2\n",
            "e(1) = 8/3\n"
          ]
        }
      ]
    },
    {
      "cell_type": "code",
      "metadata": {
        "colab": {
          "base_uri": "https://localhost:8080/"
        },
        "id": "w6CJwHF9OwK5",
        "outputId": "705d9d4d-b10d-4413-bb98-37e1fd4ba1e5"
      },
      "source": [
        "print('Taylor 0 exp(x) ≅', taylor(exp(x), 0, 0))\n",
        "print('Taylor 1 exp(x) ≅', taylor(exp(x), 0, 1))\n",
        "print('Taylor 2 exp(x) ≅', taylor(exp(x), 0, 2))\n",
        "print('Taylor 3 exp(x) ≅', taylor(exp(x), 0, 3))\n",
        "print('Taylor 4 exp(x) ≅', taylor(exp(x), 0, 4))\n",
        "print('Taylor 5 exp(x) ≅', taylor(exp(x), 0, 5))\n",
        "print('Taylor 6 exp(x) ≅', taylor(exp(x), 0, 6))\n",
        "print('Taylor 7 exp(x) ≅', taylor(exp(x), 0, 7))\n",
        "print('Taylor 8 exp(x) ≅', taylor(exp(x), 0, 8))"
      ],
      "execution_count": null,
      "outputs": [
        {
          "output_type": "stream",
          "text": [
            "Taylor 0 exp(x) ≅ 0\n",
            "Taylor 1 exp(x) ≅ 1\n",
            "Taylor 2 exp(x) ≅ x + 1\n",
            "Taylor 3 exp(x) ≅ x**2/2 + x + 1\n",
            "Taylor 4 exp(x) ≅ x**3/6 + x**2/2 + x + 1\n",
            "Taylor 5 exp(x) ≅ x**4/24 + x**3/6 + x**2/2 + x + 1\n",
            "Taylor 6 exp(x) ≅ x**5/120 + x**4/24 + x**3/6 + x**2/2 + x + 1\n",
            "Taylor 7 exp(x) ≅ x**6/720 + x**5/120 + x**4/24 + x**3/6 + x**2/2 + x + 1\n",
            "Taylor 8 exp(x) ≅ x**7/5040 + x**6/720 + x**5/120 + x**4/24 + x**3/6 + x**2/2 + x + 1\n"
          ],
          "name": "stdout"
        }
      ]
    },
    {
      "cell_type": "code",
      "metadata": {
        "colab": {
          "base_uri": "https://localhost:8080/"
        },
        "id": "oWh7ygDdOzGA",
        "outputId": "f94717ce-f6b3-4c91-f91f-b34e09ca86b6"
      },
      "source": [
        "print('Taylor 0 exp(x) ≅', taylor(sin(x), 0, 0).subs(x,2),' = ',taylor(sin(x), 0, 0).subs(x,2).evalf())\n",
        "print('Taylor 1 exp(x) ≅', taylor(cos(x), 0, 1).subs(x,2),' = ',taylor(exp(x), 0, 1).subs(x,2).evalf())\n",
        "print('Taylor 2 exp(x) ≅', taylor(exp(x), 0, 2).subs(x,2),' = ',taylor(exp(x), 0, 2).subs(x,2).evalf())\n",
        "print('Taylor 3 exp(x) ≅', taylor(exp(x), 0, 3).subs(x,2),' = ',taylor(exp(x), 0, 3).subs(x,2).evalf())\n",
        "print('Taylor 4 exp(x) ≅', taylor(exp(x), 0, 4).subs(x,2),' = ',taylor(exp(x), 0, 4).subs(x,2).evalf())\n",
        "print('Taylor 5 exp(x) ≅', taylor(exp(x), 0, 5).subs(x,2),' = ',taylor(exp(x), 0, 5).subs(x,2).evalf())\n",
        "print('Taylor 6 exp(x) ≅', taylor(exp(x), 0, 6).subs(x,2),' = ',taylor(exp(x), 0, 6).subs(x,2).evalf())\n",
        "print('Taylor 7 exp(x) ≅', taylor(exp(x), 0, 8).subs(x,2),' = ',taylor(exp(x), 0, 7).subs(x,2).evalf())"
      ],
      "execution_count": null,
      "outputs": [
        {
          "output_type": "stream",
          "text": [
            "Taylor 0 exp(x) ≅ 0  =  0\n",
            "Taylor 1 exp(x) ≅ 1  =  1.00000000000000\n",
            "Taylor 2 exp(x) ≅ 3  =  3.00000000000000\n",
            "Taylor 3 exp(x) ≅ 5  =  5.00000000000000\n",
            "Taylor 4 exp(x) ≅ 19/3  =  6.33333333333333\n",
            "Taylor 5 exp(x) ≅ 7  =  7.00000000000000\n",
            "Taylor 6 exp(x) ≅ 109/15  =  7.26666666666667\n",
            "Taylor 7 exp(x) ≅ 155/21  =  7.35555555555556\n"
          ],
          "name": "stdout"
        }
      ]
    },
    {
      "cell_type": "code",
      "metadata": {
        "colab": {
          "base_uri": "https://localhost:8080/"
        },
        "id": "PPTGrYsQO13I",
        "outputId": "cb553e81-48ca-40ec-cd3e-38bbdca54e5d"
      },
      "source": [
        "import math\n",
        "print('sympy exp(x)subs(x,2) =', exp(x).subs(x,2))\n",
        "print('sympy exp(x).subs(x,2).evalf() =', exp(x).subs(x,2).evalf())\n",
        "print('math.exp(2) =', math.exp(2))"
      ],
      "execution_count": null,
      "outputs": [
        {
          "output_type": "stream",
          "text": [
            "sympy exp(x)subs(x,2) = exp(2)\n",
            "sympy exp(x).subs(x,2).evalf() = 7.38905609893065\n",
            "math.exp(2) = 7.38905609893065\n"
          ],
          "name": "stdout"
        }
      ]
    },
    {
      "cell_type": "code",
      "metadata": {
        "colab": {
          "base_uri": "https://localhost:8080/",
          "height": 265
        },
        "id": "wdsZS37TO4VR",
        "outputId": "4a1f0692-bde5-4054-a8ab-9d00c475d1a0"
      },
      "source": [
        "import math\n",
        "import numpy as np\n",
        "import matplotlib.pyplot as plt\n",
        "# if using a Jupyter notebook, include:\n",
        "%matplotlib inline\n",
        "\n",
        "values = np.arange(-5,5,0.1)\n",
        "p_exp = np.exp(values)\n",
        "t_exp1 = [taylor(exp(x), 0, 1).subs(x,v) for v in values]\n",
        "legends = ['exp() ','Taylor 0 (constant)']\n",
        "\n",
        "fig, ax = plt.subplots()\n",
        "ax.plot(values,p_exp, color ='red')\n",
        "ax.plot(values,t_exp1)\n",
        "\n",
        "ax.set_ylim([-5,5])\n",
        "ax.axhline(y=0.0, xmin=-5.0, xmax=5.0, color='black')\n",
        "ax.axvline(x=0.0, ymin=-10.0, ymax=10.0, color='black')\n",
        "ax.legend(legends)\n",
        "\n",
        "plt.show()"
      ],
      "execution_count": null,
      "outputs": [
        {
          "output_type": "display_data",
          "data": {
            "image/png": "[encoded data removed]",
            "text/plain": [
              "<Figure size 432x288 with 1 Axes>"
            ]
          },
          "metadata": {
            "needs_background": "light"
          }
        }
      ]
    },
    {
      "cell_type": "code",
      "metadata": {
        "colab": {
          "base_uri": "https://localhost:8080/",
          "height": 265
        },
        "id": "XvqxBhg8O7Oi",
        "outputId": "fba4b9cc-bdd7-436d-c151-c0829ed5398b"
      },
      "source": [
        "import math\n",
        "import numpy as np\n",
        "import matplotlib.pyplot as plt\n",
        "# if using a Jupyter notebook, include:\n",
        "%matplotlib inline\n",
        "\n",
        "values = np.arange(-5,5,0.1)\n",
        "p_exp = np.exp(values)\n",
        "t_exp2 = [taylor(exp(x), 0, 2).subs(x,v) for v in values]\n",
        "legends = ['exp() ','Taylor 1 (linear)']\n",
        "\n",
        "fig, ax = plt.subplots()\n",
        "ax.plot(values,p_exp, color ='red')\n",
        "ax.plot(values,t_exp2)\n",
        "\n",
        "ax.set_ylim([-5,5])\n",
        "ax.axhline(y=0.0, xmin=-5.0, xmax=5.0, color='black')\n",
        "ax.axvline(x=0.0, ymin=-10.0, ymax=10.0, color='black')\n",
        "ax.legend(legends)\n",
        "\n",
        "plt.show()"
      ],
      "execution_count": null,
      "outputs": [
        {
          "output_type": "display_data",
          "data": {
            "image/png": "[encoded data removed]",
            "text/plain": [
              "<Figure size 432x288 with 1 Axes>"
            ]
          },
          "metadata": {
            "needs_background": "light"
          }
        }
      ]
    },
    {
      "cell_type": "code",
      "metadata": {
        "colab": {
          "base_uri": "https://localhost:8080/",
          "height": 265
        },
        "id": "PLR1O9HUPFwg",
        "outputId": "9adfc4fc-666e-40af-f2e5-319a2e7a7f49"
      },
      "source": [
        "import math\n",
        "import numpy as np\n",
        "import matplotlib.pyplot as plt\n",
        "# if using a Jupyter notebook, include:\n",
        "%matplotlib inline\n",
        "\n",
        "values = np.arange(-5,5,0.1)\n",
        "p_exp = np.exp(values)\n",
        "t_exp3 = [taylor(exp(x), 0, 3).subs(x,v) for v in values]\n",
        "legends = ['exp() ','Taylor 2 (quadratic)']\n",
        "\n",
        "fig, ax = plt.subplots()\n",
        "ax.plot(values,p_exp, color ='red')\n",
        "ax.plot(values,t_exp3)\n",
        "\n",
        "ax.set_ylim([-5,5])\n",
        "ax.axhline(y=0.0, xmin=-5.0, xmax=5.0, color='black')\n",
        "ax.axvline(x=0.0, ymin=-10.0, ymax=10.0, color='black')\n",
        "ax.legend(legends)\n",
        "\n",
        "plt.show()"
      ],
      "execution_count": null,
      "outputs": [
        {
          "output_type": "display_data",
          "data": {
            "image/png": "[encoded data removed]",
            "text/plain": [
              "<Figure size 432x288 with 1 Axes>"
            ]
          },
          "metadata": {
            "needs_background": "light"
          }
        }
      ]
    },
    {
      "cell_type": "code",
      "metadata": {
        "colab": {
          "base_uri": "https://localhost:8080/",
          "height": 265
        },
        "id": "Z9AEeR_BPJCA",
        "outputId": "00411b9e-4915-45f9-8c52-a28ae1986b79"
      },
      "source": [
        "import math\n",
        "import numpy as np\n",
        "import matplotlib.pyplot as plt\n",
        "# if using a Jupyter notebook, include:\n",
        "%matplotlib inline\n",
        "\n",
        "values = np.arange(-5,5,0.1)\n",
        "p_exp = np.exp(values)\n",
        "t_exp4 = [taylor(exp(x), 0, 4).subs(x,v) for v in values]\n",
        "legends = ['exp() ','Taylor 3 (cubic)']\n",
        "\n",
        "fig, ax = plt.subplots()\n",
        "ax.plot(values,p_exp, color ='red')\n",
        "ax.plot(values,t_exp4)\n",
        "\n",
        "ax.set_ylim([-5,5])\n",
        "ax.axhline(y=0.0, xmin=-5.0, xmax=5.0, color='black')\n",
        "ax.axvline(x=0.0, ymin=-10.0, ymax=10.0, color='black')\n",
        "ax.legend(legends)\n",
        "\n",
        "plt.show()"
      ],
      "execution_count": null,
      "outputs": [
        {
          "output_type": "display_data",
          "data": {
            "image/png": "[encoded data removed]",
            "text/plain": [
              "<Figure size 432x288 with 1 Axes>"
            ]
          },
          "metadata": {
            "needs_background": "light"
          }
        }
      ]
    },
    {
      "cell_type": "code",
      "metadata": {
        "id": "vLO9icMdPMmg",
        "colab": {
          "base_uri": "https://localhost:8080/",
          "height": 265
        },
        "outputId": "c02c9125-2b8b-450b-f029-44215e779613"
      },
      "source": [
        "import math\n",
        "import numpy as np\n",
        "import matplotlib.pyplot as plt\n",
        "# if using a Jupyter notebook, include:\n",
        "%matplotlib inline\n",
        "\n",
        "values = np.arange(-5,5,0.1)\n",
        "p_exp = np.exp(values)\n",
        "t_exp1 = [taylor(exp(x), 0, 1).subs(x,v) for v in values]\n",
        "t_exp2 = [taylor(exp(x), 0, 2).subs(x,v) for v in values]\n",
        "t_exp3 = [taylor(exp(x), 0, 3).subs(x,v) for v in values]\n",
        "t_exp4 = [taylor(exp(x), 0, 4).subs(x,v) for v in values]\n",
        "legends = ['exp() ','Taylor 0 (constant)','Taylor 1 (linear)','Taylor 2 (quadratic)','Taylor 3 (cubic)']\n",
        "\n",
        "fig, ax = plt.subplots()\n",
        "ax.plot(values,p_exp)\n",
        "ax.plot(values,t_exp1)\n",
        "ax.plot(values,t_exp2)\n",
        "ax.plot(values,t_exp3)\n",
        "ax.plot(values,t_exp4)\n",
        "\n",
        "ax.set_ylim([-5,5])\n",
        "ax.axhline(y=0.0, xmin=-5.0, xmax=5.0, color='black')\n",
        "ax.axvline(x=0.0, ymin=-10.0, ymax=10.0, color='black')\n",
        "ax.legend(legends)\n",
        "\n",
        "plt.show()"
      ],
      "execution_count": 37,
      "outputs": [
        {
          "output_type": "display_data",
          "data": {
            "image/png": "[encoded data removed]",
            "text/plain": [
              "<Figure size 432x288 with 1 Axes>"
            ]
          },
          "metadata": {
            "needs_background": "light"
          }
        }
      ]
    }
  ]
}