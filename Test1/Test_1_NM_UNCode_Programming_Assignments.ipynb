{
  "nbformat": 4,
  "nbformat_minor": 0,
  "metadata": {
    "colab": {
      "provenance": [],
      "collapsed_sections": [],
      "authorship_tag": "ABX9TyNJQyR3wCVVg8bz9+CrA+uf"
    },
    "kernelspec": {
      "name": "python3",
      "display_name": "Python 3"
    },
    "language_info": {
      "name": "python"
    }
  },
  "cells": [
    {
      "cell_type": "markdown",
      "metadata": {
        "id": "GfjJs2zaFLfR"
      },
      "source": [
        "# **Numerical Methods Test 1 UNCode Programming Assignments**\n",
        "\n",
        "\n"
      ]
    },
    {
      "cell_type": "markdown",
      "metadata": {
        "id": "zNKJSMViFOmX"
      },
      "source": [
        "#**|||||||||||||||||||||||||||||||||||||||||||||||||||||||||||||||||||||||||||||||||||||||||||||||||||||||||||||||||||||||||||||||||||||||||||||**#"
      ]
    },
    {
      "cell_type": "markdown",
      "metadata": {
        "id": "3vUhQTJdGE-8"
      },
      "source": [
        "#**1. Approximating the exponential function $e^x$ with its Taylor series about $0$** \n",
        "\n",
        "In this task you're asked to find the first (min) $n$ such that the $n$th term of the Taylor series for $e^x$ about $0$ (Maclaurin  series) is in absolute value less than $\\epsilon$.\n",
        "\n",
        "**Taylor series of $e^x$ about $0$ (Maclaurin  series)**\n",
        "\n",
        "\n",
        "$$e^x = \\sum_{i=0}^{\\infty} \\frac{x^{i}}{i!} = 1 + x + \\frac{x^2}{2!} + \\frac{x^3}{3!} +\\cdots+ \\frac{x^n}{n!} + \\cdots $$\n",
        "\n",
        "Consider $1$ the $0$-th term,  $x$ the $1$-st,  $\\frac{x^2}{2!}$ the $2$-nd term, $\\frac{x^3}{3!}$ the $3$-rd term and so on.\n",
        "\n",
        " **Find $n$**\n",
        "\n",
        "$$\\min_{n \\in \\mathbb{N}}\\left|\\frac{x^{n}}{n!}\\right| < \\epsilon$$\n",
        "\n",
        "Also you are asked to caculate the approximation to $e^x$ obatined with the $n$-degree Taylor polynomial for $e^x$ about $0$ calculated in $x$.\n",
        " \n",
        "\n",
        "**Approximate $e^x$**\n",
        "\n",
        "$$e^x \\approx \\sum_{i=0}^{n} \\frac{x^{i}}{i!}$$\n",
        "\n",
        "\n",
        "**Correctness and efficiency**\n",
        "The solution should work correctly for negative $x$ and with a time complexity of order $\\Theta(n)$FLOPs.\n",
        "\n"
      ]
    },
    {
      "cell_type": "markdown",
      "source": [
        "---\n",
        "\n",
        "###**Problem Description**\n",
        "\n",
        "**Task:** Given $x$ and $\\epsilon$ float numbers return the first (min) $n$ such that the $n$th term of the Taylor series for $e^x$ about $0$ (Maclaurin  series) is in absolute value less than $\\epsilon$ and also return the approximation to $e^x$ obatined with the $n$-degree Taylor polynomial for $e^x$ about $0$ calculated in $x$.\n",
        "\n",
        "---\n",
        "\n",
        "**Input Format:** $x$  and $\\epsilon$ float numbers.\n",
        "\n",
        "**Constraints:** $-700< x < 700 $ and $0< \\epsilon < 1 $.\n",
        "\n",
        "**Output Format:** An integer $n$,  that is the first (min) $n$ such that the $n$th term of the Taylor series for $e^x$ about $0$ (Maclaurin  series) is in absolute value less than $\\epsilon$ and a float that is the approximation to $e^x$ obatined with the $n$-degree Taylor polynomial for $e^x$ about $0$ calculated in $x$.\n",
        "\n",
        "---"
      ],
      "metadata": {
        "id": "Oa6xK7Z1QPF3"
      }
    },
    {
      "cell_type": "markdown",
      "metadata": {
        "id": "PjiZC1byHqJu"
      },
      "source": [
        "**Sample testcase**\n",
        "\n",
        "```python\n",
        "#run this sample textcase on a cell to help you validate your solution\n",
        "\n",
        "Taylor_e_to_x_nterm_plus_one_less_epsilon(x=35,epsilon=10**(-20))\n",
        "\n",
        "#  --> Expected output: (132, 1586013452313431.2)\n",
        "\n",
        "Taylor_e_to_x_nterm_plus_one_less_epsilon(x=-35,epsilon=10**(-20))\n",
        "\n",
        "#  --> Expected output: (132, 6.305116760146987e-16)\n",
        "```\n",
        "\n",
        "---"
      ]
    },
    {
      "cell_type": "markdown",
      "metadata": {
        "id": "DJ_bHorAF-Ip"
      },
      "source": [
        "**Solution**"
      ]
    },
    {
      "cell_type": "code",
      "metadata": {
        "id": "z5XnTHML__l6"
      },
      "source": [
        "# Retunrs Min n, |x^{n+1}/(n+1)!| < epsilon and ∑_{i=1}^{n+1}  x^i/i!\n",
        "import math\n",
        "\n",
        "def Taylor_e_to_x_nterm_plus_one_less_epsilon(x, epsilon):\n",
        "  \n",
        "   n = 0\n",
        "   e_to_x = 0\n",
        "\n",
        "  #Your code goes here\n",
        "\n",
        "  return n,e_to_x  #DO NOT change this line. Output will be read as a tuple."
      ],
      "execution_count": null,
      "outputs": []
    },
    {
      "cell_type": "markdown",
      "source": [
        "#**|||||||||||||||||||||||||||||||||||||||||||||||||||||||||||||||||||||||||||||||||||||||||||||||||||||||||||||||||||||||||||||||||||||||||||||**#"
      ],
      "metadata": {
        "id": "8nNGCx6WfKJK"
      }
    },
    {
      "cell_type": "markdown",
      "source": [
        "#**2. Approximating the logarithm funtion $\\ln(1+x)$ about $0$ with Taylor series** \n",
        "\n",
        "In this task you are asked to find the first (min)  $n$ such that $n+1$-th term of the Taylor series for $\\ln(1+x)$ about $0$ (Maclaurin  series) is in absolute value less than $\\epsilon$.\n",
        "\n",
        "**Taylor series of $\\ln(1+x)$ about $0$ (Maclaurin  series)**\n",
        "\n",
        "$$ \\ln(1+x) = \\sum_{i=1}^{\\infty} (-1)^{i-1} \\frac{x^{i}}{i} =  x - \\frac{x^2}{2} + \\frac{x^3}{3} -  \\frac{x^4}{4} + \\cdots+ (-1)^{n-1} \\frac{x^{n}}{n} \\cdots \\hspace{1cm}  0< x \\le 1 $$\n",
        "\n",
        "Consider $0$ the $0$-th term,  $-x$ the $1$-st,  $\\frac{x^2}{2}$ the $2$-nd term, $-\\frac{x^3}{3!}$ the $3$-rd term and so on.\n",
        "\n",
        "\n",
        "**Find $n$**\n",
        "\n",
        "$$\\min_{n \\in \\mathbb{N}}\\left|(-1)^{n-1} \\frac{x^{n}}{n}\\right| < \\epsilon$$\n",
        "\n",
        "\n",
        "Also you are asked to caculate the approximation to $\\ln(1+x)$ obatined with the $n$-degree Taylor polynomial for $\\ln(1+x)$ about $0$ calculated in $x$.\n",
        "\n",
        "**Approximate $\\ln(1+x)$**\n",
        "\n",
        "\n",
        "\n",
        "$$\\ln(1+x) \\approx \\sum_{i=1}^{n} (-1)^{i-1} \\frac{x^{i}}{i}$$\n",
        "\n",
        "**Correctness and efficiency**\n",
        "The solution should work correctly for  $x > 1$ and with a time complexity of order $\\Theta(n)$FLOPs."
      ],
      "metadata": {
        "id": "o9UHkUVbYNSr"
      }
    },
    {
      "cell_type": "markdown",
      "metadata": {
        "id": "IGYQkrZNFjvA"
      },
      "source": [
        "---\n",
        "\n",
        "###**Problem Description**\n",
        "\n",
        "\n",
        "**Task:** Given $x$ and $\\epsilon$ float numbers return the first (min) $n$ such that the $n$th term of the Taylor series for $\\ln(1+x)$ about $0$ (Maclaurin  series) is in absolute value less than $\\epsilon$ and also return the approximation to$\\ln(1+x)$ obatined with the $n$-degree Taylor polynomial for $e^x$ about $0$ calculated in $x$.\n",
        "\n",
        "---\n",
        "\n",
        "**Input Format:** $x$  and $\\epsilon$ float numbers.\n",
        "\n",
        "**Constraints:** $-1 < x < 700 $ and $0< \\epsilon < 1 $.\n",
        "\n",
        "**Output Format:** An integer $n$,  that is the first (min) $n$ such that the $n$th term of the Taylor series for $\\ln(1+x)$ about $0$ (Maclaurin  series) is in absolute value less than $\\epsilon$ and a float that is the approximation to $\\ln(1+x)$ obatined with the $n$-degree Taylor polynomial for $\\ln(1+x)$ about $0$ calculated in $x$.\n",
        "\n",
        "---\n",
        "\n",
        "\n",
        "\n",
        "\n",
        "\n"
      ]
    },
    {
      "cell_type": "markdown",
      "metadata": {
        "id": "oYxV9WOxFxhY"
      },
      "source": [
        "\n",
        "**Sample testcase**\n",
        "\n",
        "```python\n",
        "#run this sample testcase on a cell to help you validate your solution\n",
        "\n",
        "Taylor_ln_x_plus_one_nterm_plus_one_less_epsilon(x=0.1,epsilon=10**(-10))\n",
        "\n",
        "#  --> Expected output: (10, 0.09531017980349207)\n",
        "\n",
        "Taylor_ln_x_plus_one_nterm_plus_one_less_epsilon(x=-0.2,epsilon=10**(-10))\n",
        "\n",
        "#  --> Expected output: (13, -0.22314355129981772)\n",
        "\n",
        "\n",
        "```\n",
        "\n",
        "---"
      ]
    },
    {
      "cell_type": "markdown",
      "metadata": {
        "id": "xyvtuOz4F1hY"
      },
      "source": [
        "**Solution**"
      ]
    },
    {
      "cell_type": "code",
      "metadata": {
        "id": "vOCXUyDAF7B8"
      },
      "source": [
        "#Do not change this function's name, parameters or output format. It will be used in automatic grading.\n",
        "\n",
        "# Min n, |(-1)^{n} x^{n+1}/(n+1)| < epsilon and  ∑_{i=1}^{n+1} (-1)^{i-1} x^i/i\n",
        "\n",
        "import math\n",
        "\n",
        "def Taylor_ln_x_plus_one_nterm_plus_one_less_epsilon(x, epsilon):\n",
        "  n = 0\n",
        "  ln_x_plus_one = 0\n",
        "\n",
        "  #Your code goes here\n",
        "  \n",
        "  return n,ln_x_plus_one"
      ],
      "execution_count": null,
      "outputs": []
    }
  ]
}