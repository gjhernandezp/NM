{
  "nbformat": 4,
  "nbformat_minor": 0,
  "metadata": {
    "colab": {
      "name": "Test_1_NM_UNCode_Programming_Assignments.ipynb",
      "provenance": [],
      "collapsed_sections": [],
      "authorship_tag": "ABX9TyOzb1sQTOKMxfXYulgLtNkO"
    },
    "kernelspec": {
      "name": "python3",
      "display_name": "Python 3"
    },
    "language_info": {
      "name": "python"
    }
  },
  "cells": [
    {
      "cell_type": "markdown",
      "metadata": {
        "id": "GfjJs2zaFLfR"
      },
      "source": [
        "# **Numerical Methods Test 1 UNCode Programming Assignments**\n",
        "\n",
        "\n"
      ]
    },
    {
      "cell_type": "markdown",
      "metadata": {
        "id": "zNKJSMViFOmX"
      },
      "source": [
        "#**|||||||||||||||||||||||||||||||||||||||||||||||||||||||||||||||||||||||||||||||||||||||||||||||||||||||||||||||||||||||||||||||||||||||||||||**#"
      ]
    },
    {
      "cell_type": "markdown",
      "source": [
        "#**1. Approximating the exponential funtion $e^x$ about $0$ with Taylor series** \n",
        "\n",
        "In this task you're asked to find the first (min)  $n$ such that $n+1$-th term of the Taylor series for $e^x$ about $0$ (Maclaurin  series) is in absolute value less than $\\epsilon$ and approximate the logarithm funtion $e^x$ with those $n$ terms.\n",
        "\n",
        "**Taylor series of $e^x$ about $0$ (Maclaurin  series)**\n",
        "\n",
        "$$e^x = \\sum_{i=0}^{\\infty} \\frac{x^{i}}{i!}$$\n",
        "\n",
        "**Find $n$**\n",
        "\n",
        "$$\\min_{n \\in \\mathbb{N}}\\left|\\frac{x^{n+1}}{(n+1)!}\\right| < \\epsilon$$\n",
        "\n",
        "**Approximate $e^x$**\n",
        "\n",
        "$$e^x \\approx \\sum_{i=0}^{n} \\frac{x^{i}}{i!}$$"
      ],
      "metadata": {
        "id": "HyrWN3-ydzPC"
      }
    },
    {
      "cell_type": "markdown",
      "source": [
        "---\n",
        "\n",
        "###**Problem Description**\n",
        "\n",
        "**Task:** Given $x$ and $\\epsilon$ float numbers retrun the first (min) $n$ such that $n+1$-th term of the Taylor series for $e^x$ about $0$ (Maclaurin  series) is in absolute value less than $\\epsilon$ and approximate the logarithm funtion $e^x$ with those $n$ terms.\n",
        "\n",
        "---\n",
        "\n",
        "**Input Format:** $x$  and $\\epsilon$ float numbers.\n",
        "\n",
        "**Constraints:** $0< \\epsilon < 1 $.\n",
        "\n",
        "**Output Format:** the first (min) $n$ such that $n+1$-th term of the Taylor series for $e^x$ about $0$ (Maclaurin  series) is in absolute value less than $\\epsilon$ and the approximation $e^x$ with those $n$ terms.\n",
        "\n",
        "---"
      ],
      "metadata": {
        "id": "aplJxB4LfZkB"
      }
    },
    {
      "cell_type": "markdown",
      "source": [
        "**Sample testcase**\n",
        "\n",
        "```python\n",
        "#run this sample textcase on a cell to help you validate your solution\n",
        "\n",
        "Taylor_e_to_x_nterm_plus_one_less_eps(35,10**(-20))\n",
        "\n",
        "#  --> Expected output: (132, 1586013452313431.2)\n",
        "\n",
        "Taylor_e_to_x_nterm_plus_one_less_eps(-35,10**(-20))\n",
        "\n",
        "#  --> Expected output: (132, -0.008))\n",
        "```\n",
        "\n",
        "---"
      ],
      "metadata": {
        "id": "JINi6iHgfsNh"
      }
    },
    {
      "cell_type": "markdown",
      "source": [
        "**Solution**"
      ],
      "metadata": {
        "id": "dRtcIKktgSw5"
      }
    },
    {
      "cell_type": "code",
      "source": [
        "# Retunrs Min n, |x^{n+1}/(n+1)!| < epsilon and ∑_{i=1}^{n}  x^i/i!|\n",
        "import math\n",
        "\n",
        "def Taylor_e_to_x_nterm_plus_one_less_eps(x, eps):\n",
        "  \n",
        "  n = 0\n",
        "  e_to_x = 0\n",
        "\n",
        "  #Your code goes here\n",
        "\n",
        "  return n, round(e_to_x,4) #DO NOT change this line. Output will be read as a tuple."
      ],
      "metadata": {
        "id": "lro07AIlgZIm"
      },
      "execution_count": null,
      "outputs": []
    },
    {
      "cell_type": "markdown",
      "source": [
        "#**|||||||||||||||||||||||||||||||||||||||||||||||||||||||||||||||||||||||||||||||||||||||||||||||||||||||||||||||||||||||||||||||||||||||||||||**#"
      ],
      "metadata": {
        "id": "8nNGCx6WfKJK"
      }
    },
    {
      "cell_type": "markdown",
      "source": [
        "#**2. Approximating the logarithm funtion $\\ln(1+x)$ about $0$ with Taylor series** \n",
        "\n",
        "In this task you're asked to find the first (min)  $n$ such that $n+1$-th term of the Taylor series for $\\ln(1+x)$ about $0$ (Maclaurin  series) is in absolute value less than $\\epsilon$ and approximate the logarithm funtion $\\ln(1+x)$ with those $n$ terms.\n",
        "\n",
        "**Taylor series of $\\ln(1+x)$ about $0$ (Maclaurin  series)**\n",
        "\n",
        "$$ \\ln(1+x) = \\sum_{n=1}^{\\infty} (-1)^{n-1} \\frac{x^{n}}{n},\\hspace{1cm} 0< x \\le 1 $$\n",
        "\n",
        "**Find $n$**\n",
        "\n",
        "$$\\min_{n \\in \\mathbb{N}}\\left|(-1)^{n} \\frac{x^{n+1}}{(n+1)}\\right| < \\epsilon$$\n",
        "\n",
        "**Approximate $\\ln(1+x)$**\n",
        "\n",
        "$$\\ln(1+x) \\approx \\sum_{i=1}^{n} (-1)^{n-1} \\frac{x^{n}}{n}$$\n",
        "\n"
      ],
      "metadata": {
        "id": "o9UHkUVbYNSr"
      }
    },
    {
      "cell_type": "markdown",
      "metadata": {
        "id": "IGYQkrZNFjvA"
      },
      "source": [
        "---\n",
        "\n",
        "###**Problem Description**\n",
        "\n",
        "**Task:** Given $x$ and $\\epsilon$ float numbers retrun the first (min) $n$ such that $n+1$-th term of the Taylor series for $\\ln(1+x)$ about $0$ (Maclaurin  series) is in absolute value less than $\\epsilon$ and approximate the logarithm funtion $\\ln(1+x)$ with those $n$ terms.\n",
        "\n",
        "---\n",
        "\n",
        "**Input Format:** $x$  and $\\epsilon$ float numbers.\n",
        "\n",
        "**Constraints:** $0< x \\le 1 $ and $0< \\epsilon < 1 $.\n",
        "\n",
        "**Output Format:** the first (min) $n$ such that $n+1$-th term of the Taylor series for $\\ln(1+x)$ about $0$ (Maclaurin  series) is in absolute value less than $\\epsilon$ and the approximation  $\\ln(1+x)$ with those $n$ terms.\n",
        "\n",
        "---\n",
        "\n",
        "\n",
        "\n",
        "\n",
        "\n",
        "\n"
      ]
    },
    {
      "cell_type": "markdown",
      "metadata": {
        "id": "oYxV9WOxFxhY"
      },
      "source": [
        "\n",
        "**Sample testcase**\n",
        "\n",
        "```python\n",
        "#run this sample testcase on a cell to help you validate your solution\n",
        "\n",
        "Taylor_ln_x_plus_one_nterm_plus_one_less_eps(0.1,10**(-10))\n",
        "\n",
        "#  --> Expected output: (10, 0.0953)\n",
        "\n",
        "Taylor_ln_x_plus_one_nterm_plus_one_less_eps(-0.2,10**(-11))\n",
        "\n",
        "#  --> Expected output: (15, -0.2231)\n",
        "\n",
        "\n",
        "```\n",
        "\n",
        "---"
      ]
    },
    {
      "cell_type": "markdown",
      "metadata": {
        "id": "xyvtuOz4F1hY"
      },
      "source": [
        "**Solution**"
      ]
    },
    {
      "cell_type": "code",
      "metadata": {
        "id": "vOCXUyDAF7B8"
      },
      "source": [
        "#Do not change this function's name, parameters or output format. It will be used in automatic grading.\n",
        "\n",
        "# Min n, |(-1)^{i-1} x^i/i| < epsilon and  ∑_{i=1}^{n} (-1)^{i-1} x^i/i\n",
        "\n",
        "import math\n",
        "\n",
        "def Taylor_ln_x_plus_one_nterm_plus_one_less_eps(x, eps):\n",
        "  \n",
        "  #Your code goes here\n",
        "  \n",
        "  n = 1\n",
        "  ln_x_plus_one = 0\n",
        "\n",
        "  return n, round(ln_x_plus_one,4)"
      ],
      "execution_count": null,
      "outputs": []
    }
  ]
}