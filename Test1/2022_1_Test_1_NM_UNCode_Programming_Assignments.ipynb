{
  "nbformat": 4,
  "nbformat_minor": 0,
  "metadata": {
    "colab": {
      "name": "2022_1_Test_1_NM_UNCode_Programming_Assignments.ipynb",
      "provenance": [],
      "collapsed_sections": [],
      "authorship_tag": "ABX9TyO/ZHtYLugSWDcBdHNt1qf9"
    },
    "kernelspec": {
      "name": "python3",
      "display_name": "Python 3"
    },
    "language_info": {
      "name": "python"
    }
  },
  "cells": [
    {
      "cell_type": "markdown",
      "metadata": {
        "id": "GfjJs2zaFLfR"
      },
      "source": [
        "# **Numerical Methods Test 1 UNCode Programming Assignments**\n",
        "\n",
        "\n"
      ]
    },
    {
      "cell_type": "markdown",
      "metadata": {
        "id": "zNKJSMViFOmX"
      },
      "source": [
        "#**|||||||||||||||||||||||||||||||||||||||||||||||||||||||||||||||||||||||||||||||||||||||||||||||||||||||||||||||||||||||||||||||||||||||||||||**#"
      ]
    },
    {
      "cell_type": "markdown",
      "source": [
        "## 1. Solve a quadratic equation, $a x^2 + b x + c = 0$.\n",
        "\n",
        "\n",
        "Write a function which receives $a$, $b$ and $c$, the coefficients of a quadratic polynomial. Your function should always return two values, even if the quadratic equation has a root of grade $2$.\n",
        "\n",
        "Your function also must correctly handle the case where $b$ is a large floating point number such that `b**2 -4a*c == b**2`. Use the `cmath` module from the standard library to calculate the square roots."
      ],
      "metadata": {
        "id": "HyrWN3-ydzPC"
      }
    },
    {
      "cell_type": "markdown",
      "source": [
        "---\n",
        "\n",
        "###**Problem Description**\n",
        "\n",
        "**Task:** Given $a$, $b$ and $c$ returns the roots of  $ax^2 + b x + c$ as `cmath` numbers\n",
        "\n",
        "---\n",
        "\n",
        "**Input Format:** $a$, $b$ and $c$ are float numbers.\n",
        "\n",
        "**Output Format:** $x_1$ and $x_2$ the roots of  $ax^2 + b x + c$ as complex numbers\n",
        "\n",
        "---"
      ],
      "metadata": {
        "id": "aplJxB4LfZkB"
      }
    },
    {
      "cell_type": "markdown",
      "source": [
        "**Sample testcase**\n",
        "\n",
        "```python\n",
        "#run this sample textcase on a cell to help you validate your solution\n",
        "\n",
        "solve_quad(2,-4, 2)\n",
        "\n",
        "#  --> Expected output: ((1+0j), (1+0j))\n",
        "\n",
        "solve_quad(2, 1, 8)\n",
        "\n",
        "#  --> Expected output: ((-0.25+1.984313483298443j), (-0.25-1.984313483298443j))\n",
        "\n",
        "solve_quad(2, 1e10, 3)\n",
        "\n",
        "#  --> Expected output: ((-5000000000+0j), (-3e-10+0j))\n",
        "\n",
        "solve_quad(2, -16, 30)\n",
        "#  --> Expected output: ((5+0j), (3+0j))\n",
        "\n",
        "```\n",
        "---"
      ],
      "metadata": {
        "id": "JINi6iHgfsNh"
      }
    },
    {
      "cell_type": "markdown",
      "source": [
        "**Solution**"
      ],
      "metadata": {
        "id": "dRtcIKktgSw5"
      }
    },
    {
      "cell_type": "code",
      "source": [
        "import cmath\n",
        "def solve_quad(a, b, c):\n",
        "    \"\"\"Solve a quadratic equation, ax**2 + bx + c = 0.\n",
        "    \n",
        "    Parameters\n",
        "    ----------\n",
        "    a, b, c : float\n",
        "       Coefficients\n",
        "       \n",
        "    Returns\n",
        "    -------\n",
        "    x1, x2 : real or complex roots as cmath numbers.  \"\"\"\n",
        "    \n",
        "    # ... enter your code here ...\n",
        "       \n",
        "    return x1,x2"
      ],
      "metadata": {
        "id": "lro07AIlgZIm"
      },
      "execution_count": null,
      "outputs": []
    },
    {
      "cell_type": "markdown",
      "source": [
        "#**|||||||||||||||||||||||||||||||||||||||||||||||||||||||||||||||||||||||||||||||||||||||||||||||||||||||||||||||||||||||||||||||||||||||||||||**#"
      ],
      "metadata": {
        "id": "8nNGCx6WfKJK"
      }
    },
    {
      "cell_type": "markdown",
      "source": [
        "#**2. Approximating the logarithm funtion $\\cos(x)$ about $0$ with Taylor series** \n",
        "\n",
        "In this task you're asked to find the first (min)  $n$ such that $n+1$-th term of the Taylor series for $\\cos(1x)$ about $0$ (Maclaurin  series) is in absolute value less than $\\epsilon$ and approximate the logarithm funtion $\\cos(x)$ with  $n+1$ terms.\n",
        "\n",
        "**Taylor series of $\\cos(x)$ about $0$ (Maclaurin  series)**\n",
        "\n",
        "$$ \\cos(x) = \\sum_{i=0}^{\\infty} (-1)^{i} \\frac{x^{2i}}{(2i)!}  $$\n",
        "\n",
        "**Find $n$**\n",
        "\n",
        "$$\\min_{n \\in \\mathbb{N}}\\left|(-1)^{n} \\frac{x^{2n}}{2n!}\\right| < \\epsilon$$\n",
        "\n",
        "**Approximate $\\ln(1+x)$**\n",
        "\n",
        "$$\\cos(x) \\approx \\sum_{i=0}^{n+1} (-1)^{i} \\frac{x^{2i}}{2i!}$$\n",
        "\n"
      ],
      "metadata": {
        "id": "o9UHkUVbYNSr"
      }
    },
    {
      "cell_type": "markdown",
      "metadata": {
        "id": "IGYQkrZNFjvA"
      },
      "source": [
        "---\n",
        "\n",
        "###**Problem Description**\n",
        "\n",
        "**Task:** Given $x$ and $\\epsilon$ float numbers retrun the first (min) $n$ such that $n+1$-th term of the Taylor series for $\\cos(x)$ about $0$ (Maclaurin  series) is in absolute value less than $\\epsilon$ and approximate the logarithm funtion $\\cos(x)$ with $n+1$ terms.\n",
        "\n",
        "---\n",
        "\n",
        "**Input Format:** $x$  and $\\epsilon$ float numbers.\n",
        "\n",
        "**Constraints:** $x$ and $0< \\epsilon < 1$ are floating point numbers.\n",
        "\n",
        "**Output Format:** the first (min) $n$ such that $n+1$-th term of the Taylor series for $\\cos(x)$ about $0$ (Maclaurin  series) is in absolute value less than $\\epsilon$ and the approximation  $\\cos(x)$ with $n+1$ terms rounded to 4 digits.\n",
        "\n",
        "---"
      ]
    },
    {
      "cell_type": "markdown",
      "metadata": {
        "id": "oYxV9WOxFxhY"
      },
      "source": [
        "\n",
        "**Sample testcase**\n",
        "\n",
        "```python\n",
        "#run this sample testcase on a cell to help you validate your solution\n",
        "\n",
        "Taylor_cos_x_less_eps(0, 10**(-5))\n",
        "\n",
        "#  --> Expected output: (2, 1.0)\n",
        "\n",
        "import math\n",
        "Taylor_cos_x_less_eps(math.pi, 10**(-18))\n",
        "\n",
        "#  --> Expected output: (17, -1.0)\n",
        "```\n",
        "\n",
        "---"
      ]
    },
    {
      "cell_type": "markdown",
      "metadata": {
        "id": "xyvtuOz4F1hY"
      },
      "source": [
        "**Solution**"
      ]
    },
    {
      "cell_type": "code",
      "metadata": {
        "id": "vOCXUyDAF7B8"
      },
      "source": [
        "#Do not change this function's name, parameters or output format. It will be used in automatic grading.\n",
        "\n",
        "# Min n, |(-1)^{n} x^2n/2n!| < epsilon and  ∑_{i=1}^{n+1} (-1)^{i} x^2i/2i!\n",
        "\n",
        "import math\n",
        "\n",
        "def Taylor_cos_x_less_eps(x, eps):\n",
        "\n",
        " \n",
        "\n",
        "    return n, round(cos_x,4)"
      ],
      "execution_count": null,
      "outputs": []
    }
  ]
}